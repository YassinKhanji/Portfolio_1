{
 "cells": [
  {
   "cell_type": "code",
   "execution_count": 98,
   "metadata": {},
   "outputs": [],
   "source": [
    "import requests\n",
    "import json\n",
    "import math\n",
    "import pandas as pd\n",
    "import numpy as np\n",
    "import datetime as dt\n",
    "import matplotlib.pyplot as plt\n",
    "from qgridnext import show_grid\n",
    "from datetime import datetime, timedelta\n",
    "import sys\n",
    "import os\n",
    "import pandas_ta as ta\n",
    "import sklearn as sk\n",
    "import datetime as dt\n",
    "from skopt.space import Integer, Real, Categorical\n",
    "\n",
    "# Ensure the directories are in the system path\n",
    "sys.path.append(os.path.abspath(os.path.join(os.getcwd(), '..', '..', 'Data_Management'))) #We have a double .. as we are in the Strategy subfolder\n",
    "sys.path.append(os.path.abspath(os.path.join(os.getcwd(), '..', '..', 'Universe_Selection')))\n",
    "sys.path.append(os.path.abspath(os.path.join(os.getcwd(), '..', '..', 'Signal_Generation')))\n",
    "sys.path.append(os.path.abspath(os.path.join(os.getcwd(), '..', '..', 'Risk_Management')))\n",
    "sys.path.append(os.path.abspath(os.path.join(os.getcwd(), '..', '..', 'Validation')))\n",
    "\n",
    "# Import the modules\n",
    "from data import Data\n",
    "from calculations import Calculations, Metrics\n",
    "from coarse import Coarse_1 as Coarse\n",
    "from fine import Fine_1 as Fine\n",
    "from entry_signal import Trend_Following, Mean_Reversion\n",
    "from tail_risk import Stop_Loss, Take_Profit\n",
    "from manage_trade import Manage_Trade\n",
    "from position import Position\n",
    "from testing import WFO"
   ]
  },
  {
   "cell_type": "markdown",
   "metadata": {},
   "source": [
    "Importing all_data.csv file for all types of data"
   ]
  },
  {
   "cell_type": "code",
   "execution_count": 99,
   "metadata": {},
   "outputs": [
    {
     "data": {
      "text/html": [
       "<div>\n",
       "<style scoped>\n",
       "    .dataframe tbody tr th:only-of-type {\n",
       "        vertical-align: middle;\n",
       "    }\n",
       "\n",
       "    .dataframe tbody tr th {\n",
       "        vertical-align: top;\n",
       "    }\n",
       "\n",
       "    .dataframe thead th {\n",
       "        text-align: right;\n",
       "    }\n",
       "</style>\n",
       "<table border=\"1\" class=\"dataframe\">\n",
       "  <thead>\n",
       "    <tr style=\"text-align: right;\">\n",
       "      <th></th>\n",
       "      <th></th>\n",
       "      <th>close</th>\n",
       "      <th>creturns</th>\n",
       "      <th>high</th>\n",
       "      <th>log_return</th>\n",
       "      <th>low</th>\n",
       "      <th>open</th>\n",
       "      <th>price</th>\n",
       "      <th>returns</th>\n",
       "      <th>volume</th>\n",
       "      <th>volume_in_dollars</th>\n",
       "    </tr>\n",
       "    <tr>\n",
       "      <th>date</th>\n",
       "      <th>coin</th>\n",
       "      <th></th>\n",
       "      <th></th>\n",
       "      <th></th>\n",
       "      <th></th>\n",
       "      <th></th>\n",
       "      <th></th>\n",
       "      <th></th>\n",
       "      <th></th>\n",
       "      <th></th>\n",
       "      <th></th>\n",
       "    </tr>\n",
       "  </thead>\n",
       "  <tbody>\n",
       "    <tr>\n",
       "      <th rowspan=\"2\" valign=\"top\">2017-08-17 05:00:00</th>\n",
       "      <th>BTCUSDT</th>\n",
       "      <td>4315.320000</td>\n",
       "      <td>1.506209e-03</td>\n",
       "      <td>4328.690000</td>\n",
       "      <td>-6.498159</td>\n",
       "      <td>4291.370000</td>\n",
       "      <td>4308.830000</td>\n",
       "      <td>4315.320000</td>\n",
       "      <td>0.001506</td>\n",
       "      <td>2.323492e+01</td>\n",
       "      <td>1.002661e+05</td>\n",
       "    </tr>\n",
       "    <tr>\n",
       "      <th>ETHUSDT</th>\n",
       "      <td>303.100006</td>\n",
       "      <td>4.940270e-03</td>\n",
       "      <td>303.279999</td>\n",
       "      <td>-5.310335</td>\n",
       "      <td>300.000000</td>\n",
       "      <td>301.609985</td>\n",
       "      <td>303.100006</td>\n",
       "      <td>0.004940</td>\n",
       "      <td>3.776725e+02</td>\n",
       "      <td>1.144725e+05</td>\n",
       "    </tr>\n",
       "    <tr>\n",
       "      <th>2017-08-17 06:00:00</th>\n",
       "      <th>BTCUSDT</th>\n",
       "      <td>4324.350000</td>\n",
       "      <td>3.151810e-06</td>\n",
       "      <td>4345.450000</td>\n",
       "      <td>-6.169374</td>\n",
       "      <td>4309.370000</td>\n",
       "      <td>4330.290000</td>\n",
       "      <td>4324.350000</td>\n",
       "      <td>0.002093</td>\n",
       "      <td>7.229691e+00</td>\n",
       "      <td>3.126371e+04</td>\n",
       "    </tr>\n",
       "    <tr>\n",
       "      <th rowspan=\"2\" valign=\"top\">2017-08-17 07:00:00</th>\n",
       "      <th>BTCUSDT</th>\n",
       "      <td>4349.990000</td>\n",
       "      <td>1.868776e-08</td>\n",
       "      <td>4349.990000</td>\n",
       "      <td>-5.127863</td>\n",
       "      <td>4287.410000</td>\n",
       "      <td>4316.620000</td>\n",
       "      <td>4349.990000</td>\n",
       "      <td>0.005929</td>\n",
       "      <td>4.443249e+00</td>\n",
       "      <td>1.932809e+04</td>\n",
       "    </tr>\n",
       "    <tr>\n",
       "      <th>ETHUSDT</th>\n",
       "      <td>307.959991</td>\n",
       "      <td>8.617874e-05</td>\n",
       "      <td>307.959991</td>\n",
       "      <td>-4.048752</td>\n",
       "      <td>302.600006</td>\n",
       "      <td>302.679993</td>\n",
       "      <td>307.959991</td>\n",
       "      <td>0.017444</td>\n",
       "      <td>7.547451e+02</td>\n",
       "      <td>2.324313e+05</td>\n",
       "    </tr>\n",
       "    <tr>\n",
       "      <th>...</th>\n",
       "      <th>...</th>\n",
       "      <td>...</td>\n",
       "      <td>...</td>\n",
       "      <td>...</td>\n",
       "      <td>...</td>\n",
       "      <td>...</td>\n",
       "      <td>...</td>\n",
       "      <td>...</td>\n",
       "      <td>...</td>\n",
       "      <td>...</td>\n",
       "      <td>...</td>\n",
       "    </tr>\n",
       "    <tr>\n",
       "      <th rowspan=\"5\" valign=\"top\">2024-12-27 23:00:00</th>\n",
       "      <th>SYSUSDT</th>\n",
       "      <td>0.112200</td>\n",
       "      <td>0.000000e+00</td>\n",
       "      <td>0.112400</td>\n",
       "      <td>-5.632999</td>\n",
       "      <td>0.111100</td>\n",
       "      <td>0.111600</td>\n",
       "      <td>0.112200</td>\n",
       "      <td>0.003578</td>\n",
       "      <td>7.290790e+05</td>\n",
       "      <td>8.180266e+04</td>\n",
       "    </tr>\n",
       "    <tr>\n",
       "      <th>TRXUSDT</th>\n",
       "      <td>0.259400</td>\n",
       "      <td>0.000000e+00</td>\n",
       "      <td>0.259600</td>\n",
       "      <td>-7.860292</td>\n",
       "      <td>0.258600</td>\n",
       "      <td>0.259400</td>\n",
       "      <td>0.259400</td>\n",
       "      <td>0.000386</td>\n",
       "      <td>1.499596e+07</td>\n",
       "      <td>3.889953e+06</td>\n",
       "    </tr>\n",
       "    <tr>\n",
       "      <th>VETUSDT</th>\n",
       "      <td>0.045760</td>\n",
       "      <td>0.000000e+00</td>\n",
       "      <td>0.045760</td>\n",
       "      <td>-5.479996</td>\n",
       "      <td>0.045370</td>\n",
       "      <td>0.045580</td>\n",
       "      <td>0.045760</td>\n",
       "      <td>0.004169</td>\n",
       "      <td>1.004372e+07</td>\n",
       "      <td>4.596008e+05</td>\n",
       "    </tr>\n",
       "    <tr>\n",
       "      <th>WAXPUSDT</th>\n",
       "      <td>0.040910</td>\n",
       "      <td>0.000000e+00</td>\n",
       "      <td>0.040940</td>\n",
       "      <td>-5.915972</td>\n",
       "      <td>0.040590</td>\n",
       "      <td>0.040770</td>\n",
       "      <td>0.040910</td>\n",
       "      <td>0.002696</td>\n",
       "      <td>1.056349e+06</td>\n",
       "      <td>4.321524e+04</td>\n",
       "    </tr>\n",
       "    <tr>\n",
       "      <th>XECUSDT</th>\n",
       "      <td>0.000035</td>\n",
       "      <td>0.000000e+00</td>\n",
       "      <td>0.000035</td>\n",
       "      <td>-5.503282</td>\n",
       "      <td>0.000034</td>\n",
       "      <td>0.000034</td>\n",
       "      <td>0.000035</td>\n",
       "      <td>0.004073</td>\n",
       "      <td>1.147830e+09</td>\n",
       "      <td>3.961160e+04</td>\n",
       "    </tr>\n",
       "  </tbody>\n",
       "</table>\n",
       "<p>956964 rows × 10 columns</p>\n",
       "</div>"
      ],
      "text/plain": [
       "                                    close      creturns         high  \\\n",
       "date                coin                                               \n",
       "2017-08-17 05:00:00 BTCUSDT   4315.320000  1.506209e-03  4328.690000   \n",
       "                    ETHUSDT    303.100006  4.940270e-03   303.279999   \n",
       "2017-08-17 06:00:00 BTCUSDT   4324.350000  3.151810e-06  4345.450000   \n",
       "2017-08-17 07:00:00 BTCUSDT   4349.990000  1.868776e-08  4349.990000   \n",
       "                    ETHUSDT    307.959991  8.617874e-05   307.959991   \n",
       "...                                   ...           ...          ...   \n",
       "2024-12-27 23:00:00 SYSUSDT      0.112200  0.000000e+00     0.112400   \n",
       "                    TRXUSDT      0.259400  0.000000e+00     0.259600   \n",
       "                    VETUSDT      0.045760  0.000000e+00     0.045760   \n",
       "                    WAXPUSDT     0.040910  0.000000e+00     0.040940   \n",
       "                    XECUSDT      0.000035  0.000000e+00     0.000035   \n",
       "\n",
       "                              log_return          low         open  \\\n",
       "date                coin                                             \n",
       "2017-08-17 05:00:00 BTCUSDT    -6.498159  4291.370000  4308.830000   \n",
       "                    ETHUSDT    -5.310335   300.000000   301.609985   \n",
       "2017-08-17 06:00:00 BTCUSDT    -6.169374  4309.370000  4330.290000   \n",
       "2017-08-17 07:00:00 BTCUSDT    -5.127863  4287.410000  4316.620000   \n",
       "                    ETHUSDT    -4.048752   302.600006   302.679993   \n",
       "...                                  ...          ...          ...   \n",
       "2024-12-27 23:00:00 SYSUSDT    -5.632999     0.111100     0.111600   \n",
       "                    TRXUSDT    -7.860292     0.258600     0.259400   \n",
       "                    VETUSDT    -5.479996     0.045370     0.045580   \n",
       "                    WAXPUSDT   -5.915972     0.040590     0.040770   \n",
       "                    XECUSDT    -5.503282     0.000034     0.000034   \n",
       "\n",
       "                                    price   returns        volume  \\\n",
       "date                coin                                            \n",
       "2017-08-17 05:00:00 BTCUSDT   4315.320000  0.001506  2.323492e+01   \n",
       "                    ETHUSDT    303.100006  0.004940  3.776725e+02   \n",
       "2017-08-17 06:00:00 BTCUSDT   4324.350000  0.002093  7.229691e+00   \n",
       "2017-08-17 07:00:00 BTCUSDT   4349.990000  0.005929  4.443249e+00   \n",
       "                    ETHUSDT    307.959991  0.017444  7.547451e+02   \n",
       "...                                   ...       ...           ...   \n",
       "2024-12-27 23:00:00 SYSUSDT      0.112200  0.003578  7.290790e+05   \n",
       "                    TRXUSDT      0.259400  0.000386  1.499596e+07   \n",
       "                    VETUSDT      0.045760  0.004169  1.004372e+07   \n",
       "                    WAXPUSDT     0.040910  0.002696  1.056349e+06   \n",
       "                    XECUSDT      0.000035  0.004073  1.147830e+09   \n",
       "\n",
       "                              volume_in_dollars  \n",
       "date                coin                         \n",
       "2017-08-17 05:00:00 BTCUSDT        1.002661e+05  \n",
       "                    ETHUSDT        1.144725e+05  \n",
       "2017-08-17 06:00:00 BTCUSDT        3.126371e+04  \n",
       "2017-08-17 07:00:00 BTCUSDT        1.932809e+04  \n",
       "                    ETHUSDT        2.324313e+05  \n",
       "...                                         ...  \n",
       "2024-12-27 23:00:00 SYSUSDT        8.180266e+04  \n",
       "                    TRXUSDT        3.889953e+06  \n",
       "                    VETUSDT        4.596008e+05  \n",
       "                    WAXPUSDT       4.321524e+04  \n",
       "                    XECUSDT        3.961160e+04  \n",
       "\n",
       "[956964 rows x 10 columns]"
      ]
     },
     "execution_count": 99,
     "metadata": {},
     "output_type": "execute_result"
    }
   ],
   "source": [
    "# Specify the relative or absolute path to the CSV file\n",
    "file_path = r\"C:\\Users\\yassi\\OneDrive\\Documents\\GitHub\\Portfolio_1\\Technical_Portfolio\\Data_Management\\all_data.csv\"\n",
    "\n",
    "# Read the CSV file\n",
    "all_data = pd.read_csv(file_path, index_col=['date', 'coin'], parse_dates=['date'])\n",
    "all_data"
   ]
  },
  {
   "cell_type": "code",
   "execution_count": 100,
   "metadata": {},
   "outputs": [
    {
     "data": {
      "text/html": [
       "<div>\n",
       "<style scoped>\n",
       "    .dataframe tbody tr th:only-of-type {\n",
       "        vertical-align: middle;\n",
       "    }\n",
       "\n",
       "    .dataframe tbody tr th {\n",
       "        vertical-align: top;\n",
       "    }\n",
       "\n",
       "    .dataframe thead th {\n",
       "        text-align: right;\n",
       "    }\n",
       "</style>\n",
       "<table border=\"1\" class=\"dataframe\">\n",
       "  <thead>\n",
       "    <tr style=\"text-align: right;\">\n",
       "      <th></th>\n",
       "      <th></th>\n",
       "      <th>close</th>\n",
       "      <th>creturns</th>\n",
       "      <th>high</th>\n",
       "      <th>log_return</th>\n",
       "      <th>low</th>\n",
       "      <th>open</th>\n",
       "      <th>price</th>\n",
       "      <th>returns</th>\n",
       "      <th>volume</th>\n",
       "      <th>volume_in_dollars</th>\n",
       "    </tr>\n",
       "    <tr>\n",
       "      <th>date</th>\n",
       "      <th>coin</th>\n",
       "      <th></th>\n",
       "      <th></th>\n",
       "      <th></th>\n",
       "      <th></th>\n",
       "      <th></th>\n",
       "      <th></th>\n",
       "      <th></th>\n",
       "      <th></th>\n",
       "      <th></th>\n",
       "      <th></th>\n",
       "    </tr>\n",
       "  </thead>\n",
       "  <tbody>\n",
       "    <tr>\n",
       "      <th rowspan=\"5\" valign=\"top\">2020-01-01 01:00:00</th>\n",
       "      <th>ADAUSDT</th>\n",
       "      <td>0.03299</td>\n",
       "      <td>1.006406</td>\n",
       "      <td>0.03303</td>\n",
       "      <td>0.006386</td>\n",
       "      <td>0.03276</td>\n",
       "      <td>0.03277</td>\n",
       "      <td>0.03299</td>\n",
       "      <td>0.006406</td>\n",
       "      <td>1.560752e+06</td>\n",
       "      <td>5.148920e+04</td>\n",
       "    </tr>\n",
       "    <tr>\n",
       "      <th>BNBUSDT</th>\n",
       "      <td>13.79950</td>\n",
       "      <td>1.007402</td>\n",
       "      <td>13.80000</td>\n",
       "      <td>0.007375</td>\n",
       "      <td>13.69530</td>\n",
       "      <td>13.69810</td>\n",
       "      <td>13.79950</td>\n",
       "      <td>0.007402</td>\n",
       "      <td>5.379125e+04</td>\n",
       "      <td>7.422924e+05</td>\n",
       "    </tr>\n",
       "    <tr>\n",
       "      <th>BTCUSDT</th>\n",
       "      <td>7216.27000</td>\n",
       "      <td>1.005469</td>\n",
       "      <td>7230.00000</td>\n",
       "      <td>0.005454</td>\n",
       "      <td>7175.71000</td>\n",
       "      <td>7176.47000</td>\n",
       "      <td>7216.27000</td>\n",
       "      <td>0.005469</td>\n",
       "      <td>8.830526e+02</td>\n",
       "      <td>6.372346e+06</td>\n",
       "    </tr>\n",
       "    <tr>\n",
       "      <th>ETHUSDT</th>\n",
       "      <td>130.64000</td>\n",
       "      <td>1.013735</td>\n",
       "      <td>130.65000</td>\n",
       "      <td>0.013641</td>\n",
       "      <td>128.78000</td>\n",
       "      <td>128.87000</td>\n",
       "      <td>130.64000</td>\n",
       "      <td>0.013735</td>\n",
       "      <td>1.134466e+04</td>\n",
       "      <td>1.482066e+06</td>\n",
       "    </tr>\n",
       "    <tr>\n",
       "      <th>XRPUSDT</th>\n",
       "      <td>0.19371</td>\n",
       "      <td>1.006390</td>\n",
       "      <td>0.19372</td>\n",
       "      <td>0.006370</td>\n",
       "      <td>0.19237</td>\n",
       "      <td>0.19243</td>\n",
       "      <td>0.19371</td>\n",
       "      <td>0.006390</td>\n",
       "      <td>2.339976e+06</td>\n",
       "      <td>4.532768e+05</td>\n",
       "    </tr>\n",
       "    <tr>\n",
       "      <th>...</th>\n",
       "      <th>...</th>\n",
       "      <td>...</td>\n",
       "      <td>...</td>\n",
       "      <td>...</td>\n",
       "      <td>...</td>\n",
       "      <td>...</td>\n",
       "      <td>...</td>\n",
       "      <td>...</td>\n",
       "      <td>...</td>\n",
       "      <td>...</td>\n",
       "      <td>...</td>\n",
       "    </tr>\n",
       "    <tr>\n",
       "      <th rowspan=\"5\" valign=\"top\">2020-08-31 23:00:00</th>\n",
       "      <th>ADAUSDT</th>\n",
       "      <td>0.12253</td>\n",
       "      <td>3.737950</td>\n",
       "      <td>0.12315</td>\n",
       "      <td>0.001634</td>\n",
       "      <td>0.12177</td>\n",
       "      <td>0.12233</td>\n",
       "      <td>0.12253</td>\n",
       "      <td>0.001635</td>\n",
       "      <td>7.149835e+06</td>\n",
       "      <td>8.760693e+05</td>\n",
       "    </tr>\n",
       "    <tr>\n",
       "      <th>BNBUSDT</th>\n",
       "      <td>23.14770</td>\n",
       "      <td>1.689847</td>\n",
       "      <td>23.30670</td>\n",
       "      <td>-0.001407</td>\n",
       "      <td>23.12460</td>\n",
       "      <td>23.17980</td>\n",
       "      <td>23.14770</td>\n",
       "      <td>-0.001406</td>\n",
       "      <td>7.473204e+04</td>\n",
       "      <td>1.729875e+06</td>\n",
       "    </tr>\n",
       "    <tr>\n",
       "      <th>BTCUSDT</th>\n",
       "      <td>11649.51000</td>\n",
       "      <td>1.623168</td>\n",
       "      <td>11689.68000</td>\n",
       "      <td>-0.000161</td>\n",
       "      <td>11647.61000</td>\n",
       "      <td>11651.39000</td>\n",
       "      <td>11649.51000</td>\n",
       "      <td>-0.000160</td>\n",
       "      <td>1.554036e+03</td>\n",
       "      <td>1.810376e+07</td>\n",
       "    </tr>\n",
       "    <tr>\n",
       "      <th>ETHUSDT</th>\n",
       "      <td>433.79000</td>\n",
       "      <td>3.366105</td>\n",
       "      <td>437.80000</td>\n",
       "      <td>-0.003061</td>\n",
       "      <td>433.70000</td>\n",
       "      <td>435.12000</td>\n",
       "      <td>433.79000</td>\n",
       "      <td>-0.003057</td>\n",
       "      <td>3.991772e+04</td>\n",
       "      <td>1.731591e+07</td>\n",
       "    </tr>\n",
       "    <tr>\n",
       "      <th>XRPUSDT</th>\n",
       "      <td>0.28115</td>\n",
       "      <td>1.460671</td>\n",
       "      <td>0.28359</td>\n",
       "      <td>0.000747</td>\n",
       "      <td>0.28070</td>\n",
       "      <td>0.28095</td>\n",
       "      <td>0.28115</td>\n",
       "      <td>0.000747</td>\n",
       "      <td>5.809346e+06</td>\n",
       "      <td>1.633297e+06</td>\n",
       "    </tr>\n",
       "  </tbody>\n",
       "</table>\n",
       "<p>29215 rows × 10 columns</p>\n",
       "</div>"
      ],
      "text/plain": [
       "                                   close  creturns         high  log_return  \\\n",
       "date                coin                                                      \n",
       "2020-01-01 01:00:00 ADAUSDT      0.03299  1.006406      0.03303    0.006386   \n",
       "                    BNBUSDT     13.79950  1.007402     13.80000    0.007375   \n",
       "                    BTCUSDT   7216.27000  1.005469   7230.00000    0.005454   \n",
       "                    ETHUSDT    130.64000  1.013735    130.65000    0.013641   \n",
       "                    XRPUSDT      0.19371  1.006390      0.19372    0.006370   \n",
       "...                                  ...       ...          ...         ...   \n",
       "2020-08-31 23:00:00 ADAUSDT      0.12253  3.737950      0.12315    0.001634   \n",
       "                    BNBUSDT     23.14770  1.689847     23.30670   -0.001407   \n",
       "                    BTCUSDT  11649.51000  1.623168  11689.68000   -0.000161   \n",
       "                    ETHUSDT    433.79000  3.366105    437.80000   -0.003061   \n",
       "                    XRPUSDT      0.28115  1.460671      0.28359    0.000747   \n",
       "\n",
       "                                     low         open        price   returns  \\\n",
       "date                coin                                                       \n",
       "2020-01-01 01:00:00 ADAUSDT      0.03276      0.03277      0.03299  0.006406   \n",
       "                    BNBUSDT     13.69530     13.69810     13.79950  0.007402   \n",
       "                    BTCUSDT   7175.71000   7176.47000   7216.27000  0.005469   \n",
       "                    ETHUSDT    128.78000    128.87000    130.64000  0.013735   \n",
       "                    XRPUSDT      0.19237      0.19243      0.19371  0.006390   \n",
       "...                                  ...          ...          ...       ...   \n",
       "2020-08-31 23:00:00 ADAUSDT      0.12177      0.12233      0.12253  0.001635   \n",
       "                    BNBUSDT     23.12460     23.17980     23.14770 -0.001406   \n",
       "                    BTCUSDT  11647.61000  11651.39000  11649.51000 -0.000160   \n",
       "                    ETHUSDT    433.70000    435.12000    433.79000 -0.003057   \n",
       "                    XRPUSDT      0.28070      0.28095      0.28115  0.000747   \n",
       "\n",
       "                                   volume  volume_in_dollars  \n",
       "date                coin                                      \n",
       "2020-01-01 01:00:00 ADAUSDT  1.560752e+06       5.148920e+04  \n",
       "                    BNBUSDT  5.379125e+04       7.422924e+05  \n",
       "                    BTCUSDT  8.830526e+02       6.372346e+06  \n",
       "                    ETHUSDT  1.134466e+04       1.482066e+06  \n",
       "                    XRPUSDT  2.339976e+06       4.532768e+05  \n",
       "...                                   ...                ...  \n",
       "2020-08-31 23:00:00 ADAUSDT  7.149835e+06       8.760693e+05  \n",
       "                    BNBUSDT  7.473204e+04       1.729875e+06  \n",
       "                    BTCUSDT  1.554036e+03       1.810376e+07  \n",
       "                    ETHUSDT  3.991772e+04       1.731591e+07  \n",
       "                    XRPUSDT  5.809346e+06       1.633297e+06  \n",
       "\n",
       "[29215 rows x 10 columns]"
      ]
     },
     "execution_count": 100,
     "metadata": {},
     "output_type": "execute_result"
    }
   ],
   "source": [
    "start_time = dt.datetime(2020, 1, 1)\n",
    "end_time = dt.datetime(2020, 9, 1)\n",
    "timeframes = ['1w', '1d', '4h', '1h', '30m','15m', '5m', '1m']\n",
    "index = 3 #It is better to choose the highest frequency for the backtest to be able to downsample\n",
    "interval = timeframes[index]\n",
    "symbols = ['BTCUSDT', 'ETHUSDT', 'BNBUSDT', 'ADAUSDT', 'XRPUSDT']\n",
    "data = Data(symbols, interval, start_time, end_time).df\n",
    "data"
   ]
  },
  {
   "cell_type": "markdown",
   "metadata": {},
   "source": [
    "---"
   ]
  },
  {
   "cell_type": "code",
   "execution_count": 101,
   "metadata": {},
   "outputs": [
    {
     "data": {
      "text/html": [
       "<div>\n",
       "<style scoped>\n",
       "    .dataframe tbody tr th:only-of-type {\n",
       "        vertical-align: middle;\n",
       "    }\n",
       "\n",
       "    .dataframe tbody tr th {\n",
       "        vertical-align: top;\n",
       "    }\n",
       "\n",
       "    .dataframe thead th {\n",
       "        text-align: right;\n",
       "    }\n",
       "</style>\n",
       "<table border=\"1\" class=\"dataframe\">\n",
       "  <thead>\n",
       "    <tr style=\"text-align: right;\">\n",
       "      <th></th>\n",
       "      <th></th>\n",
       "      <th>above_ema</th>\n",
       "      <th>volume_rank</th>\n",
       "      <th>std_rank</th>\n",
       "      <th>entry_signal</th>\n",
       "      <th>position</th>\n",
       "    </tr>\n",
       "    <tr>\n",
       "      <th>time</th>\n",
       "      <th>coin</th>\n",
       "      <th></th>\n",
       "      <th></th>\n",
       "      <th></th>\n",
       "      <th></th>\n",
       "      <th></th>\n",
       "    </tr>\n",
       "  </thead>\n",
       "  <tbody>\n",
       "    <tr>\n",
       "      <th rowspan=\"5\" valign=\"top\">2024-01-01</th>\n",
       "      <th>Coin_0</th>\n",
       "      <td>True</td>\n",
       "      <td>38</td>\n",
       "      <td>9</td>\n",
       "      <td>0</td>\n",
       "      <td>1</td>\n",
       "    </tr>\n",
       "    <tr>\n",
       "      <th>Coin_1</th>\n",
       "      <td>True</td>\n",
       "      <td>67</td>\n",
       "      <td>8</td>\n",
       "      <td>1</td>\n",
       "      <td>0</td>\n",
       "    </tr>\n",
       "    <tr>\n",
       "      <th>Coin_2</th>\n",
       "      <td>False</td>\n",
       "      <td>9</td>\n",
       "      <td>4</td>\n",
       "      <td>1</td>\n",
       "      <td>0</td>\n",
       "    </tr>\n",
       "    <tr>\n",
       "      <th>Coin_3</th>\n",
       "      <td>True</td>\n",
       "      <td>30</td>\n",
       "      <td>3</td>\n",
       "      <td>1</td>\n",
       "      <td>0</td>\n",
       "    </tr>\n",
       "    <tr>\n",
       "      <th>Coin_4</th>\n",
       "      <td>True</td>\n",
       "      <td>96</td>\n",
       "      <td>7</td>\n",
       "      <td>0</td>\n",
       "      <td>1</td>\n",
       "    </tr>\n",
       "  </tbody>\n",
       "</table>\n",
       "</div>"
      ],
      "text/plain": [
       "                   above_ema  volume_rank  std_rank  entry_signal  position\n",
       "time       coin                                                            \n",
       "2024-01-01 Coin_0       True           38         9             0         1\n",
       "           Coin_1       True           67         8             1         0\n",
       "           Coin_2      False            9         4             1         0\n",
       "           Coin_3       True           30         3             1         0\n",
       "           Coin_4       True           96         7             0         1"
      ]
     },
     "execution_count": 101,
     "metadata": {},
     "output_type": "execute_result"
    }
   ],
   "source": [
    "def create_test_df(num_times: int = 5, num_coins: int = 10):\n",
    "    \"\"\"Creates a multi-index DataFrame for testing.\"\"\"\n",
    "    times = pd.to_datetime(['2024-01-01'] + [pd.Timestamp('2024-01-01') + pd.Timedelta(days=i) for i in range(1, num_times)])\n",
    "    coins = [f\"Coin_{i}\" for i in range(num_coins)]\n",
    "    index = pd.MultiIndex.from_product([times, coins], names=['time', 'coin'])\n",
    "    \n",
    "    df = pd.DataFrame(index=index)\n",
    "    df['above_ema'] = np.random.choice([True, False], size=len(df))\n",
    "    df['volume_rank'] = np.random.randint(1, 100, size=len(df))\n",
    "    df['std_rank'] = np.random.randint(1, 10, size=len(df))\n",
    "    df['entry_signal'] = np.random.randint(0, 2, size=len(df)) # 0 or 1\n",
    "    df['position'] = np.random.randint(0, 2, size=len(df))\n",
    "    return df\n",
    "\n",
    "# Example usage to create a test DataFrame:\n",
    "test_df = create_test_df(num_times=4, num_coins=8)\n",
    "test_df.head()"
   ]
  },
  {
   "cell_type": "code",
   "execution_count": 102,
   "metadata": {},
   "outputs": [
    {
     "name": "stdout",
     "output_type": "stream",
     "text": [
      "{'Coin_6', 'Coin_7', 'Coin_3'}\n"
     ]
    },
    {
     "name": "stderr",
     "output_type": "stream",
     "text": [
      "C:\\Users\\yassi\\AppData\\Local\\Temp\\ipykernel_21084\\3841925515.py:58: FutureWarning: The previous implementation of stack is deprecated and will be removed in a future version of pandas. See the What's New notes for pandas 2.1.0 for details. Specify future_stack=True to adopt the new implementation and silence this warning.\n",
      "  df = df.stack()\n"
     ]
    },
    {
     "data": {
      "text/html": [
       "<div>\n",
       "<style scoped>\n",
       "    .dataframe tbody tr th:only-of-type {\n",
       "        vertical-align: middle;\n",
       "    }\n",
       "\n",
       "    .dataframe tbody tr th {\n",
       "        vertical-align: top;\n",
       "    }\n",
       "\n",
       "    .dataframe thead th {\n",
       "        text-align: right;\n",
       "    }\n",
       "</style>\n",
       "<table border=\"1\" class=\"dataframe\">\n",
       "  <thead>\n",
       "    <tr style=\"text-align: right;\">\n",
       "      <th></th>\n",
       "      <th></th>\n",
       "      <th>above_ema</th>\n",
       "      <th>volume_rank</th>\n",
       "      <th>std_rank</th>\n",
       "      <th>entry_signal</th>\n",
       "      <th>position</th>\n",
       "      <th>in_universe</th>\n",
       "    </tr>\n",
       "    <tr>\n",
       "      <th>time</th>\n",
       "      <th>coin</th>\n",
       "      <th></th>\n",
       "      <th></th>\n",
       "      <th></th>\n",
       "      <th></th>\n",
       "      <th></th>\n",
       "      <th></th>\n",
       "    </tr>\n",
       "  </thead>\n",
       "  <tbody>\n",
       "    <tr>\n",
       "      <th rowspan=\"8\" valign=\"top\">2024-01-01</th>\n",
       "      <th>Coin_0</th>\n",
       "      <td>True</td>\n",
       "      <td>38</td>\n",
       "      <td>9</td>\n",
       "      <td>0</td>\n",
       "      <td>1</td>\n",
       "      <td>NaN</td>\n",
       "    </tr>\n",
       "    <tr>\n",
       "      <th>Coin_1</th>\n",
       "      <td>True</td>\n",
       "      <td>67</td>\n",
       "      <td>8</td>\n",
       "      <td>1</td>\n",
       "      <td>0</td>\n",
       "      <td>NaN</td>\n",
       "    </tr>\n",
       "    <tr>\n",
       "      <th>Coin_2</th>\n",
       "      <td>False</td>\n",
       "      <td>9</td>\n",
       "      <td>4</td>\n",
       "      <td>1</td>\n",
       "      <td>0</td>\n",
       "      <td>NaN</td>\n",
       "    </tr>\n",
       "    <tr>\n",
       "      <th>Coin_3</th>\n",
       "      <td>True</td>\n",
       "      <td>30</td>\n",
       "      <td>3</td>\n",
       "      <td>1</td>\n",
       "      <td>0</td>\n",
       "      <td>NaN</td>\n",
       "    </tr>\n",
       "    <tr>\n",
       "      <th>Coin_4</th>\n",
       "      <td>True</td>\n",
       "      <td>96</td>\n",
       "      <td>7</td>\n",
       "      <td>0</td>\n",
       "      <td>1</td>\n",
       "      <td>NaN</td>\n",
       "    </tr>\n",
       "    <tr>\n",
       "      <th>Coin_5</th>\n",
       "      <td>True</td>\n",
       "      <td>70</td>\n",
       "      <td>6</td>\n",
       "      <td>0</td>\n",
       "      <td>0</td>\n",
       "      <td>NaN</td>\n",
       "    </tr>\n",
       "    <tr>\n",
       "      <th>Coin_6</th>\n",
       "      <td>False</td>\n",
       "      <td>76</td>\n",
       "      <td>1</td>\n",
       "      <td>1</td>\n",
       "      <td>1</td>\n",
       "      <td>NaN</td>\n",
       "    </tr>\n",
       "    <tr>\n",
       "      <th>Coin_7</th>\n",
       "      <td>True</td>\n",
       "      <td>4</td>\n",
       "      <td>1</td>\n",
       "      <td>1</td>\n",
       "      <td>0</td>\n",
       "      <td>NaN</td>\n",
       "    </tr>\n",
       "    <tr>\n",
       "      <th rowspan=\"8\" valign=\"top\">2024-01-02</th>\n",
       "      <th>Coin_0</th>\n",
       "      <td>False</td>\n",
       "      <td>35</td>\n",
       "      <td>8</td>\n",
       "      <td>1</td>\n",
       "      <td>1</td>\n",
       "      <td>False</td>\n",
       "    </tr>\n",
       "    <tr>\n",
       "      <th>Coin_1</th>\n",
       "      <td>False</td>\n",
       "      <td>2</td>\n",
       "      <td>8</td>\n",
       "      <td>0</td>\n",
       "      <td>1</td>\n",
       "      <td>False</td>\n",
       "    </tr>\n",
       "    <tr>\n",
       "      <th>Coin_2</th>\n",
       "      <td>False</td>\n",
       "      <td>77</td>\n",
       "      <td>5</td>\n",
       "      <td>0</td>\n",
       "      <td>0</td>\n",
       "      <td>False</td>\n",
       "    </tr>\n",
       "    <tr>\n",
       "      <th>Coin_3</th>\n",
       "      <td>False</td>\n",
       "      <td>65</td>\n",
       "      <td>3</td>\n",
       "      <td>0</td>\n",
       "      <td>1</td>\n",
       "      <td>True</td>\n",
       "    </tr>\n",
       "    <tr>\n",
       "      <th>Coin_4</th>\n",
       "      <td>False</td>\n",
       "      <td>1</td>\n",
       "      <td>1</td>\n",
       "      <td>1</td>\n",
       "      <td>0</td>\n",
       "      <td>False</td>\n",
       "    </tr>\n",
       "    <tr>\n",
       "      <th>Coin_5</th>\n",
       "      <td>True</td>\n",
       "      <td>35</td>\n",
       "      <td>7</td>\n",
       "      <td>0</td>\n",
       "      <td>0</td>\n",
       "      <td>False</td>\n",
       "    </tr>\n",
       "    <tr>\n",
       "      <th>Coin_6</th>\n",
       "      <td>False</td>\n",
       "      <td>28</td>\n",
       "      <td>7</td>\n",
       "      <td>1</td>\n",
       "      <td>1</td>\n",
       "      <td>False</td>\n",
       "    </tr>\n",
       "    <tr>\n",
       "      <th>Coin_7</th>\n",
       "      <td>False</td>\n",
       "      <td>3</td>\n",
       "      <td>3</td>\n",
       "      <td>0</td>\n",
       "      <td>1</td>\n",
       "      <td>True</td>\n",
       "    </tr>\n",
       "    <tr>\n",
       "      <th rowspan=\"8\" valign=\"top\">2024-01-03</th>\n",
       "      <th>Coin_0</th>\n",
       "      <td>False</td>\n",
       "      <td>24</td>\n",
       "      <td>6</td>\n",
       "      <td>0</td>\n",
       "      <td>1</td>\n",
       "      <td>False</td>\n",
       "    </tr>\n",
       "    <tr>\n",
       "      <th>Coin_1</th>\n",
       "      <td>True</td>\n",
       "      <td>11</td>\n",
       "      <td>6</td>\n",
       "      <td>0</td>\n",
       "      <td>0</td>\n",
       "      <td>False</td>\n",
       "    </tr>\n",
       "    <tr>\n",
       "      <th>Coin_2</th>\n",
       "      <td>True</td>\n",
       "      <td>99</td>\n",
       "      <td>9</td>\n",
       "      <td>1</td>\n",
       "      <td>1</td>\n",
       "      <td>False</td>\n",
       "    </tr>\n",
       "    <tr>\n",
       "      <th>Coin_3</th>\n",
       "      <td>True</td>\n",
       "      <td>89</td>\n",
       "      <td>3</td>\n",
       "      <td>1</td>\n",
       "      <td>0</td>\n",
       "      <td>True</td>\n",
       "    </tr>\n",
       "    <tr>\n",
       "      <th>Coin_4</th>\n",
       "      <td>True</td>\n",
       "      <td>65</td>\n",
       "      <td>5</td>\n",
       "      <td>0</td>\n",
       "      <td>0</td>\n",
       "      <td>False</td>\n",
       "    </tr>\n",
       "    <tr>\n",
       "      <th>Coin_5</th>\n",
       "      <td>False</td>\n",
       "      <td>29</td>\n",
       "      <td>2</td>\n",
       "      <td>0</td>\n",
       "      <td>0</td>\n",
       "      <td>False</td>\n",
       "    </tr>\n",
       "    <tr>\n",
       "      <th>Coin_6</th>\n",
       "      <td>True</td>\n",
       "      <td>33</td>\n",
       "      <td>9</td>\n",
       "      <td>0</td>\n",
       "      <td>1</td>\n",
       "      <td>False</td>\n",
       "    </tr>\n",
       "    <tr>\n",
       "      <th>Coin_7</th>\n",
       "      <td>True</td>\n",
       "      <td>50</td>\n",
       "      <td>3</td>\n",
       "      <td>1</td>\n",
       "      <td>1</td>\n",
       "      <td>True</td>\n",
       "    </tr>\n",
       "    <tr>\n",
       "      <th rowspan=\"8\" valign=\"top\">2024-01-04</th>\n",
       "      <th>Coin_0</th>\n",
       "      <td>True</td>\n",
       "      <td>86</td>\n",
       "      <td>8</td>\n",
       "      <td>1</td>\n",
       "      <td>0</td>\n",
       "      <td>False</td>\n",
       "    </tr>\n",
       "    <tr>\n",
       "      <th>Coin_1</th>\n",
       "      <td>False</td>\n",
       "      <td>40</td>\n",
       "      <td>2</td>\n",
       "      <td>1</td>\n",
       "      <td>1</td>\n",
       "      <td>False</td>\n",
       "    </tr>\n",
       "    <tr>\n",
       "      <th>Coin_2</th>\n",
       "      <td>True</td>\n",
       "      <td>53</td>\n",
       "      <td>7</td>\n",
       "      <td>1</td>\n",
       "      <td>1</td>\n",
       "      <td>False</td>\n",
       "    </tr>\n",
       "    <tr>\n",
       "      <th>Coin_3</th>\n",
       "      <td>True</td>\n",
       "      <td>3</td>\n",
       "      <td>7</td>\n",
       "      <td>1</td>\n",
       "      <td>0</td>\n",
       "      <td>False</td>\n",
       "    </tr>\n",
       "    <tr>\n",
       "      <th>Coin_4</th>\n",
       "      <td>False</td>\n",
       "      <td>97</td>\n",
       "      <td>6</td>\n",
       "      <td>0</td>\n",
       "      <td>1</td>\n",
       "      <td>False</td>\n",
       "    </tr>\n",
       "    <tr>\n",
       "      <th>Coin_5</th>\n",
       "      <td>False</td>\n",
       "      <td>6</td>\n",
       "      <td>6</td>\n",
       "      <td>0</td>\n",
       "      <td>0</td>\n",
       "      <td>False</td>\n",
       "    </tr>\n",
       "    <tr>\n",
       "      <th>Coin_6</th>\n",
       "      <td>True</td>\n",
       "      <td>13</td>\n",
       "      <td>7</td>\n",
       "      <td>1</td>\n",
       "      <td>0</td>\n",
       "      <td>False</td>\n",
       "    </tr>\n",
       "    <tr>\n",
       "      <th>Coin_7</th>\n",
       "      <td>False</td>\n",
       "      <td>60</td>\n",
       "      <td>3</td>\n",
       "      <td>0</td>\n",
       "      <td>1</td>\n",
       "      <td>True</td>\n",
       "    </tr>\n",
       "  </tbody>\n",
       "</table>\n",
       "</div>"
      ],
      "text/plain": [
       "                   above_ema  volume_rank  std_rank  entry_signal  position  \\\n",
       "time       coin                                                               \n",
       "2024-01-01 Coin_0       True           38         9             0         1   \n",
       "           Coin_1       True           67         8             1         0   \n",
       "           Coin_2      False            9         4             1         0   \n",
       "           Coin_3       True           30         3             1         0   \n",
       "           Coin_4       True           96         7             0         1   \n",
       "           Coin_5       True           70         6             0         0   \n",
       "           Coin_6      False           76         1             1         1   \n",
       "           Coin_7       True            4         1             1         0   \n",
       "2024-01-02 Coin_0      False           35         8             1         1   \n",
       "           Coin_1      False            2         8             0         1   \n",
       "           Coin_2      False           77         5             0         0   \n",
       "           Coin_3      False           65         3             0         1   \n",
       "           Coin_4      False            1         1             1         0   \n",
       "           Coin_5       True           35         7             0         0   \n",
       "           Coin_6      False           28         7             1         1   \n",
       "           Coin_7      False            3         3             0         1   \n",
       "2024-01-03 Coin_0      False           24         6             0         1   \n",
       "           Coin_1       True           11         6             0         0   \n",
       "           Coin_2       True           99         9             1         1   \n",
       "           Coin_3       True           89         3             1         0   \n",
       "           Coin_4       True           65         5             0         0   \n",
       "           Coin_5      False           29         2             0         0   \n",
       "           Coin_6       True           33         9             0         1   \n",
       "           Coin_7       True           50         3             1         1   \n",
       "2024-01-04 Coin_0       True           86         8             1         0   \n",
       "           Coin_1      False           40         2             1         1   \n",
       "           Coin_2       True           53         7             1         1   \n",
       "           Coin_3       True            3         7             1         0   \n",
       "           Coin_4      False           97         6             0         1   \n",
       "           Coin_5      False            6         6             0         0   \n",
       "           Coin_6       True           13         7             1         0   \n",
       "           Coin_7      False           60         3             0         1   \n",
       "\n",
       "                  in_universe  \n",
       "time       coin                \n",
       "2024-01-01 Coin_0         NaN  \n",
       "           Coin_1         NaN  \n",
       "           Coin_2         NaN  \n",
       "           Coin_3         NaN  \n",
       "           Coin_4         NaN  \n",
       "           Coin_5         NaN  \n",
       "           Coin_6         NaN  \n",
       "           Coin_7         NaN  \n",
       "2024-01-02 Coin_0       False  \n",
       "           Coin_1       False  \n",
       "           Coin_2       False  \n",
       "           Coin_3        True  \n",
       "           Coin_4       False  \n",
       "           Coin_5       False  \n",
       "           Coin_6       False  \n",
       "           Coin_7        True  \n",
       "2024-01-03 Coin_0       False  \n",
       "           Coin_1       False  \n",
       "           Coin_2       False  \n",
       "           Coin_3        True  \n",
       "           Coin_4       False  \n",
       "           Coin_5       False  \n",
       "           Coin_6       False  \n",
       "           Coin_7        True  \n",
       "2024-01-04 Coin_0       False  \n",
       "           Coin_1       False  \n",
       "           Coin_2       False  \n",
       "           Coin_3       False  \n",
       "           Coin_4       False  \n",
       "           Coin_5       False  \n",
       "           Coin_6       False  \n",
       "           Coin_7        True  "
      ]
     },
     "execution_count": 102,
     "metadata": {},
     "output_type": "execute_result"
    }
   ],
   "source": [
    "import pandas as pd\n",
    "import numpy as np\n",
    "from typing import Set, List\n",
    "import pandas as pd\n",
    "from typing import List\n",
    "\n",
    "\n",
    "def update_universe(df: pd.DataFrame, max_positions: int = 4, low_freq = '1d') -> pd.Series:\n",
    "    \"\"\"\n",
    "    Updates a DataFrame to track a dynamic universe of coins.\n",
    "    Should include the dataframe with the lower frequency data. (daily, weekly, etc.)\n",
    "    Assumes a stacked dataframe\n",
    "    \"\"\"\n",
    "    current_universe = set()\n",
    "    df['in_universe'] = False\n",
    "\n",
    "    for time_index in df.index.get_level_values(0).unique():\n",
    "        # Remove coins that are no longer in the universe *for this time index*\n",
    "        coins_to_remove = []\n",
    "        for coin in current_universe:\n",
    "            if (time_index, coin) in df.index and df.loc[(time_index, coin), 'position'] == 0:\n",
    "                coins_to_remove.append(coin)\n",
    "                df.loc[(time_index, coin), 'in_universe'] = False\n",
    "        current_universe.difference_update(coins_to_remove) #use difference_update for set manipulation\n",
    "\n",
    "\n",
    "        current_coins = df.loc[time_index].index\n",
    "        available_coins = set(current_coins) - current_universe\n",
    "\n",
    "        if len(current_universe) < max_positions and available_coins:\n",
    "            temp_df = df.loc[(time_index, list(available_coins)), :].copy()\n",
    "\n",
    "            # The shift was the main source of the bug. It was shifting across coins,\n",
    "            # which is incorrect. We should not shift at all in this context.\n",
    "            # The intention was likely to use the *previous* time slice data.\n",
    "            # This is handled later.\n",
    "\n",
    "            filter_condition = (\n",
    "                (temp_df['above_ema']) &\n",
    "                (temp_df['volume_rank'] < 50) &\n",
    "                (temp_df['std_rank'] < 10) &\n",
    "                (temp_df['entry_signal'] == 1)\n",
    "            )\n",
    "\n",
    "            potential_coins_df = temp_df[filter_condition]\n",
    "\n",
    "            if not potential_coins_df.empty:\n",
    "                potential_coins_df = potential_coins_df.sort_values(by='std_rank')\n",
    "                potential_coins = set(potential_coins_df.index.get_level_values(1))\n",
    "                missing_positions = max_positions - len(current_universe)\n",
    "                to_be_added: List[str] = list(potential_coins)[:missing_positions]\n",
    "                current_universe.update(to_be_added)\n",
    "\n",
    "        df.loc[(time_index, list(current_universe)), 'in_universe'] = True\n",
    "    \n",
    "    df = df.unstack()\n",
    "    df['in_universe'] = df['in_universe'].shift(periods = 1, freq = low_freq)\n",
    "    df = df.stack()\n",
    "    return df['in_universe'], current_universe\n",
    "\n",
    "test_df['in_universe'], current_universe = update_universe(test_df)\n",
    "\n",
    "print(current_universe)\n",
    "test_df"
   ]
  },
  {
   "cell_type": "code",
   "execution_count": 103,
   "metadata": {},
   "outputs": [
    {
     "data": {
      "text/html": [
       "<div>\n",
       "<style scoped>\n",
       "    .dataframe tbody tr th:only-of-type {\n",
       "        vertical-align: middle;\n",
       "    }\n",
       "\n",
       "    .dataframe tbody tr th {\n",
       "        vertical-align: top;\n",
       "    }\n",
       "\n",
       "    .dataframe thead th {\n",
       "        text-align: right;\n",
       "    }\n",
       "</style>\n",
       "<table border=\"1\" class=\"dataframe\">\n",
       "  <thead>\n",
       "    <tr style=\"text-align: right;\">\n",
       "      <th></th>\n",
       "      <th></th>\n",
       "      <th>close</th>\n",
       "      <th>creturns</th>\n",
       "      <th>high</th>\n",
       "      <th>log_return</th>\n",
       "      <th>low</th>\n",
       "      <th>open</th>\n",
       "      <th>price</th>\n",
       "      <th>returns</th>\n",
       "      <th>volume</th>\n",
       "      <th>volume_in_dollars</th>\n",
       "      <th>shifted_htf_open</th>\n",
       "      <th>shifted_htf_high</th>\n",
       "      <th>shifted_htf_low</th>\n",
       "      <th>shifted_htf_close</th>\n",
       "      <th>shifted_htf_volume_in_dollars</th>\n",
       "      <th>same_date</th>\n",
       "      <th>last_days_low</th>\n",
       "      <th>entry_signal</th>\n",
       "    </tr>\n",
       "    <tr>\n",
       "      <th>date</th>\n",
       "      <th>coin</th>\n",
       "      <th></th>\n",
       "      <th></th>\n",
       "      <th></th>\n",
       "      <th></th>\n",
       "      <th></th>\n",
       "      <th></th>\n",
       "      <th></th>\n",
       "      <th></th>\n",
       "      <th></th>\n",
       "      <th></th>\n",
       "      <th></th>\n",
       "      <th></th>\n",
       "      <th></th>\n",
       "      <th></th>\n",
       "      <th></th>\n",
       "      <th></th>\n",
       "      <th></th>\n",
       "      <th></th>\n",
       "    </tr>\n",
       "  </thead>\n",
       "  <tbody>\n",
       "    <tr>\n",
       "      <th rowspan=\"5\" valign=\"top\">2020-01-01 01:00:00</th>\n",
       "      <th>ADAUSDT</th>\n",
       "      <td>0.03299</td>\n",
       "      <td>1.006406</td>\n",
       "      <td>0.03303</td>\n",
       "      <td>0.006386</td>\n",
       "      <td>0.03276</td>\n",
       "      <td>0.03277</td>\n",
       "      <td>0.03299</td>\n",
       "      <td>0.006406</td>\n",
       "      <td>1.560752e+06</td>\n",
       "      <td>5.148920e+04</td>\n",
       "      <td>NaN</td>\n",
       "      <td>NaN</td>\n",
       "      <td>NaN</td>\n",
       "      <td>NaN</td>\n",
       "      <td>NaN</td>\n",
       "      <td>False</td>\n",
       "      <td>False</td>\n",
       "      <td>0</td>\n",
       "    </tr>\n",
       "    <tr>\n",
       "      <th>BNBUSDT</th>\n",
       "      <td>13.79950</td>\n",
       "      <td>1.007402</td>\n",
       "      <td>13.80000</td>\n",
       "      <td>0.007375</td>\n",
       "      <td>13.69530</td>\n",
       "      <td>13.69810</td>\n",
       "      <td>13.79950</td>\n",
       "      <td>0.007402</td>\n",
       "      <td>5.379125e+04</td>\n",
       "      <td>7.422924e+05</td>\n",
       "      <td>NaN</td>\n",
       "      <td>NaN</td>\n",
       "      <td>NaN</td>\n",
       "      <td>NaN</td>\n",
       "      <td>NaN</td>\n",
       "      <td>True</td>\n",
       "      <td>False</td>\n",
       "      <td>0</td>\n",
       "    </tr>\n",
       "    <tr>\n",
       "      <th>BTCUSDT</th>\n",
       "      <td>7216.27000</td>\n",
       "      <td>1.005469</td>\n",
       "      <td>7230.00000</td>\n",
       "      <td>0.005454</td>\n",
       "      <td>7175.71000</td>\n",
       "      <td>7176.47000</td>\n",
       "      <td>7216.27000</td>\n",
       "      <td>0.005469</td>\n",
       "      <td>8.830526e+02</td>\n",
       "      <td>6.372346e+06</td>\n",
       "      <td>NaN</td>\n",
       "      <td>NaN</td>\n",
       "      <td>NaN</td>\n",
       "      <td>NaN</td>\n",
       "      <td>NaN</td>\n",
       "      <td>True</td>\n",
       "      <td>False</td>\n",
       "      <td>0</td>\n",
       "    </tr>\n",
       "    <tr>\n",
       "      <th>ETHUSDT</th>\n",
       "      <td>130.64000</td>\n",
       "      <td>1.013735</td>\n",
       "      <td>130.65000</td>\n",
       "      <td>0.013641</td>\n",
       "      <td>128.78000</td>\n",
       "      <td>128.87000</td>\n",
       "      <td>130.64000</td>\n",
       "      <td>0.013735</td>\n",
       "      <td>1.134466e+04</td>\n",
       "      <td>1.482066e+06</td>\n",
       "      <td>NaN</td>\n",
       "      <td>NaN</td>\n",
       "      <td>NaN</td>\n",
       "      <td>NaN</td>\n",
       "      <td>NaN</td>\n",
       "      <td>True</td>\n",
       "      <td>False</td>\n",
       "      <td>0</td>\n",
       "    </tr>\n",
       "    <tr>\n",
       "      <th>XRPUSDT</th>\n",
       "      <td>0.19371</td>\n",
       "      <td>1.006390</td>\n",
       "      <td>0.19372</td>\n",
       "      <td>0.006370</td>\n",
       "      <td>0.19237</td>\n",
       "      <td>0.19243</td>\n",
       "      <td>0.19371</td>\n",
       "      <td>0.006390</td>\n",
       "      <td>2.339976e+06</td>\n",
       "      <td>4.532768e+05</td>\n",
       "      <td>NaN</td>\n",
       "      <td>NaN</td>\n",
       "      <td>NaN</td>\n",
       "      <td>NaN</td>\n",
       "      <td>NaN</td>\n",
       "      <td>True</td>\n",
       "      <td>False</td>\n",
       "      <td>0</td>\n",
       "    </tr>\n",
       "    <tr>\n",
       "      <th>...</th>\n",
       "      <th>...</th>\n",
       "      <td>...</td>\n",
       "      <td>...</td>\n",
       "      <td>...</td>\n",
       "      <td>...</td>\n",
       "      <td>...</td>\n",
       "      <td>...</td>\n",
       "      <td>...</td>\n",
       "      <td>...</td>\n",
       "      <td>...</td>\n",
       "      <td>...</td>\n",
       "      <td>...</td>\n",
       "      <td>...</td>\n",
       "      <td>...</td>\n",
       "      <td>...</td>\n",
       "      <td>...</td>\n",
       "      <td>...</td>\n",
       "      <td>...</td>\n",
       "      <td>...</td>\n",
       "    </tr>\n",
       "    <tr>\n",
       "      <th rowspan=\"5\" valign=\"top\">2020-08-31 23:00:00</th>\n",
       "      <th>ADAUSDT</th>\n",
       "      <td>0.12253</td>\n",
       "      <td>3.737950</td>\n",
       "      <td>0.12315</td>\n",
       "      <td>0.001634</td>\n",
       "      <td>0.12177</td>\n",
       "      <td>0.12233</td>\n",
       "      <td>0.12253</td>\n",
       "      <td>0.001635</td>\n",
       "      <td>7.149835e+06</td>\n",
       "      <td>8.760693e+05</td>\n",
       "      <td>0.11624</td>\n",
       "      <td>0.11879</td>\n",
       "      <td>0.11369</td>\n",
       "      <td>0.11747</td>\n",
       "      <td>2.423478e+07</td>\n",
       "      <td>True</td>\n",
       "      <td>False</td>\n",
       "      <td>0</td>\n",
       "    </tr>\n",
       "    <tr>\n",
       "      <th>BNBUSDT</th>\n",
       "      <td>23.14770</td>\n",
       "      <td>1.689847</td>\n",
       "      <td>23.30670</td>\n",
       "      <td>-0.001407</td>\n",
       "      <td>23.12460</td>\n",
       "      <td>23.17980</td>\n",
       "      <td>23.14770</td>\n",
       "      <td>-0.001406</td>\n",
       "      <td>7.473204e+04</td>\n",
       "      <td>1.729875e+06</td>\n",
       "      <td>22.94410</td>\n",
       "      <td>23.83000</td>\n",
       "      <td>22.90000</td>\n",
       "      <td>23.62080</td>\n",
       "      <td>4.451465e+07</td>\n",
       "      <td>True</td>\n",
       "      <td>False</td>\n",
       "      <td>0</td>\n",
       "    </tr>\n",
       "    <tr>\n",
       "      <th>BTCUSDT</th>\n",
       "      <td>11649.51000</td>\n",
       "      <td>1.623168</td>\n",
       "      <td>11689.68000</td>\n",
       "      <td>-0.000161</td>\n",
       "      <td>11647.61000</td>\n",
       "      <td>11651.39000</td>\n",
       "      <td>11649.51000</td>\n",
       "      <td>-0.000160</td>\n",
       "      <td>1.554036e+03</td>\n",
       "      <td>1.810376e+07</td>\n",
       "      <td>11465.84000</td>\n",
       "      <td>11719.00000</td>\n",
       "      <td>11458.00000</td>\n",
       "      <td>11711.16000</td>\n",
       "      <td>5.016241e+08</td>\n",
       "      <td>True</td>\n",
       "      <td>False</td>\n",
       "      <td>0</td>\n",
       "    </tr>\n",
       "    <tr>\n",
       "      <th>ETHUSDT</th>\n",
       "      <td>433.79000</td>\n",
       "      <td>3.366105</td>\n",
       "      <td>437.80000</td>\n",
       "      <td>-0.003061</td>\n",
       "      <td>433.70000</td>\n",
       "      <td>435.12000</td>\n",
       "      <td>433.79000</td>\n",
       "      <td>-0.003057</td>\n",
       "      <td>3.991772e+04</td>\n",
       "      <td>1.731591e+07</td>\n",
       "      <td>398.65000</td>\n",
       "      <td>429.89000</td>\n",
       "      <td>398.30000</td>\n",
       "      <td>428.94000</td>\n",
       "      <td>3.711215e+08</td>\n",
       "      <td>True</td>\n",
       "      <td>False</td>\n",
       "      <td>0</td>\n",
       "    </tr>\n",
       "    <tr>\n",
       "      <th>XRPUSDT</th>\n",
       "      <td>0.28115</td>\n",
       "      <td>1.460671</td>\n",
       "      <td>0.28359</td>\n",
       "      <td>0.000747</td>\n",
       "      <td>0.28070</td>\n",
       "      <td>0.28095</td>\n",
       "      <td>0.28115</td>\n",
       "      <td>0.000747</td>\n",
       "      <td>5.809346e+06</td>\n",
       "      <td>1.633297e+06</td>\n",
       "      <td>0.27375</td>\n",
       "      <td>0.28389</td>\n",
       "      <td>0.27375</td>\n",
       "      <td>0.28302</td>\n",
       "      <td>4.401030e+07</td>\n",
       "      <td>True</td>\n",
       "      <td>False</td>\n",
       "      <td>0</td>\n",
       "    </tr>\n",
       "  </tbody>\n",
       "</table>\n",
       "<p>29215 rows × 18 columns</p>\n",
       "</div>"
      ],
      "text/plain": [
       "                                   close  creturns         high  log_return  \\\n",
       "date                coin                                                      \n",
       "2020-01-01 01:00:00 ADAUSDT      0.03299  1.006406      0.03303    0.006386   \n",
       "                    BNBUSDT     13.79950  1.007402     13.80000    0.007375   \n",
       "                    BTCUSDT   7216.27000  1.005469   7230.00000    0.005454   \n",
       "                    ETHUSDT    130.64000  1.013735    130.65000    0.013641   \n",
       "                    XRPUSDT      0.19371  1.006390      0.19372    0.006370   \n",
       "...                                  ...       ...          ...         ...   \n",
       "2020-08-31 23:00:00 ADAUSDT      0.12253  3.737950      0.12315    0.001634   \n",
       "                    BNBUSDT     23.14770  1.689847     23.30670   -0.001407   \n",
       "                    BTCUSDT  11649.51000  1.623168  11689.68000   -0.000161   \n",
       "                    ETHUSDT    433.79000  3.366105    437.80000   -0.003061   \n",
       "                    XRPUSDT      0.28115  1.460671      0.28359    0.000747   \n",
       "\n",
       "                                     low         open        price   returns  \\\n",
       "date                coin                                                       \n",
       "2020-01-01 01:00:00 ADAUSDT      0.03276      0.03277      0.03299  0.006406   \n",
       "                    BNBUSDT     13.69530     13.69810     13.79950  0.007402   \n",
       "                    BTCUSDT   7175.71000   7176.47000   7216.27000  0.005469   \n",
       "                    ETHUSDT    128.78000    128.87000    130.64000  0.013735   \n",
       "                    XRPUSDT      0.19237      0.19243      0.19371  0.006390   \n",
       "...                                  ...          ...          ...       ...   \n",
       "2020-08-31 23:00:00 ADAUSDT      0.12177      0.12233      0.12253  0.001635   \n",
       "                    BNBUSDT     23.12460     23.17980     23.14770 -0.001406   \n",
       "                    BTCUSDT  11647.61000  11651.39000  11649.51000 -0.000160   \n",
       "                    ETHUSDT    433.70000    435.12000    433.79000 -0.003057   \n",
       "                    XRPUSDT      0.28070      0.28095      0.28115  0.000747   \n",
       "\n",
       "                                   volume  volume_in_dollars  \\\n",
       "date                coin                                       \n",
       "2020-01-01 01:00:00 ADAUSDT  1.560752e+06       5.148920e+04   \n",
       "                    BNBUSDT  5.379125e+04       7.422924e+05   \n",
       "                    BTCUSDT  8.830526e+02       6.372346e+06   \n",
       "                    ETHUSDT  1.134466e+04       1.482066e+06   \n",
       "                    XRPUSDT  2.339976e+06       4.532768e+05   \n",
       "...                                   ...                ...   \n",
       "2020-08-31 23:00:00 ADAUSDT  7.149835e+06       8.760693e+05   \n",
       "                    BNBUSDT  7.473204e+04       1.729875e+06   \n",
       "                    BTCUSDT  1.554036e+03       1.810376e+07   \n",
       "                    ETHUSDT  3.991772e+04       1.731591e+07   \n",
       "                    XRPUSDT  5.809346e+06       1.633297e+06   \n",
       "\n",
       "                             shifted_htf_open  shifted_htf_high  \\\n",
       "date                coin                                          \n",
       "2020-01-01 01:00:00 ADAUSDT               NaN               NaN   \n",
       "                    BNBUSDT               NaN               NaN   \n",
       "                    BTCUSDT               NaN               NaN   \n",
       "                    ETHUSDT               NaN               NaN   \n",
       "                    XRPUSDT               NaN               NaN   \n",
       "...                                       ...               ...   \n",
       "2020-08-31 23:00:00 ADAUSDT           0.11624           0.11879   \n",
       "                    BNBUSDT          22.94410          23.83000   \n",
       "                    BTCUSDT       11465.84000       11719.00000   \n",
       "                    ETHUSDT         398.65000         429.89000   \n",
       "                    XRPUSDT           0.27375           0.28389   \n",
       "\n",
       "                             shifted_htf_low  shifted_htf_close  \\\n",
       "date                coin                                          \n",
       "2020-01-01 01:00:00 ADAUSDT              NaN                NaN   \n",
       "                    BNBUSDT              NaN                NaN   \n",
       "                    BTCUSDT              NaN                NaN   \n",
       "                    ETHUSDT              NaN                NaN   \n",
       "                    XRPUSDT              NaN                NaN   \n",
       "...                                      ...                ...   \n",
       "2020-08-31 23:00:00 ADAUSDT          0.11369            0.11747   \n",
       "                    BNBUSDT         22.90000           23.62080   \n",
       "                    BTCUSDT      11458.00000        11711.16000   \n",
       "                    ETHUSDT        398.30000          428.94000   \n",
       "                    XRPUSDT          0.27375            0.28302   \n",
       "\n",
       "                             shifted_htf_volume_in_dollars  same_date  \\\n",
       "date                coin                                                \n",
       "2020-01-01 01:00:00 ADAUSDT                            NaN      False   \n",
       "                    BNBUSDT                            NaN       True   \n",
       "                    BTCUSDT                            NaN       True   \n",
       "                    ETHUSDT                            NaN       True   \n",
       "                    XRPUSDT                            NaN       True   \n",
       "...                                                    ...        ...   \n",
       "2020-08-31 23:00:00 ADAUSDT                   2.423478e+07       True   \n",
       "                    BNBUSDT                   4.451465e+07       True   \n",
       "                    BTCUSDT                   5.016241e+08       True   \n",
       "                    ETHUSDT                   3.711215e+08       True   \n",
       "                    XRPUSDT                   4.401030e+07       True   \n",
       "\n",
       "                             last_days_low  entry_signal  \n",
       "date                coin                                  \n",
       "2020-01-01 01:00:00 ADAUSDT          False             0  \n",
       "                    BNBUSDT          False             0  \n",
       "                    BTCUSDT          False             0  \n",
       "                    ETHUSDT          False             0  \n",
       "                    XRPUSDT          False             0  \n",
       "...                                    ...           ...  \n",
       "2020-08-31 23:00:00 ADAUSDT          False             0  \n",
       "                    BNBUSDT          False             0  \n",
       "                    BTCUSDT          False             0  \n",
       "                    ETHUSDT          False             0  \n",
       "                    XRPUSDT          False             0  \n",
       "\n",
       "[29215 rows x 18 columns]"
      ]
     },
     "execution_count": 103,
     "metadata": {},
     "output_type": "execute_result"
    }
   ],
   "source": [
    "###### To Optimize ######\n",
    "#All parameters:\n",
    "all_frequency = ['1W', '1D', '4h','1h', '30min','15min', '5min', '1min'] #All possible frequencies for the resampling\n",
    "low_freq_index = 1 #The index of the lowest frequency for the resampling\n",
    "low_freq = all_frequency[low_freq_index] #The lowest frequency for the resampling\n",
    "max_dollar_allocation = 10000\n",
    "std_window = 2\n",
    "mean_window = 2\n",
    "ema_window = 2\n",
    "high_freq_index = 3 #The index of the highest frequency for the resampling\n",
    "high_freq = all_frequency[high_freq_index] #The highest frequency for the resampling\n",
    "hourly_lookback = 1\n",
    "daily_lookback= 1\n",
    "_min_pos = 0\n",
    "_max_pos = 1\n",
    "sl_type = 'atr'\n",
    "sl_ind_length = 14\n",
    "sl_ind_mult = 3\n",
    "sl_signal_only = True\n",
    "fixed_sl = True\n",
    "tp_type = 'rr'\n",
    "tp_mult = 2\n",
    "tp_ind_length = 0\n",
    "tp_signal_only = True\n",
    "fixed_tp = True\n",
    "max_perc_risk = 0.01\n",
    "\n",
    "\n",
    "\n",
    "\n",
    "#Downsample the data\n",
    "cal = Calculations()\n",
    "#Generate a signal\n",
    "mr = Mean_Reversion()\n",
    "\n",
    "_df = mr.last_days_low(data, hourly_lookback, daily_lookback)\n",
    "\n",
    "\n",
    "_df"
   ]
  },
  {
   "cell_type": "code",
   "execution_count": 104,
   "metadata": {},
   "outputs": [
    {
     "data": {
      "text/plain": [
       "entry_signal\n",
       "0    29068\n",
       "1      147\n",
       "Name: count, dtype: int64"
      ]
     },
     "execution_count": 104,
     "metadata": {},
     "output_type": "execute_result"
    }
   ],
   "source": [
    "_df['entry_signal'].value_counts()"
   ]
  },
  {
   "cell_type": "code",
   "execution_count": 105,
   "metadata": {},
   "outputs": [
    {
     "data": {
      "image/png": "[encoded data removed]",
      "text/plain": [
       "<Figure size 1600x500 with 10 Axes>"
      ]
     },
     "metadata": {},
     "output_type": "display_data"
    },
    {
     "data": {
      "image/png": "[encoded data removed]",
      "text/plain": [
       "<Figure size 1600x500 with 10 Axes>"
      ]
     },
     "metadata": {},
     "output_type": "display_data"
    }
   ],
   "source": [
    "pos = Position(_df, _min_pos, _max_pos)\n",
    "_df = pos.initialize_position()\n",
    "sl = Stop_Loss(_df, sl_type, sl_ind_length, sl_ind_mult, sl_signal_only)\n",
    "_df = sl.apply_stop_loss(fixed_sl, plot = True)\n",
    "tp = Take_Profit(_df, tp_type, tp_mult, tp_signal_only)\n",
    "_df = tp.apply_take_profit(fixed_tp, plot = True)\n",
    "\n",
    "_df = cal.merge_cols(_df, common = 'exit_signal', use_clip = True)\n",
    "_df = pos.calculate_position(_df)\n",
    "\n",
    "mt = Manage_Trade(_df)\n",
    "_df = mt.erw_actual_allocation(max_perc_risk, max_dollar_allocation)\n",
    "\n",
    "#########################\n",
    "\n",
    "_df = cal.update_all(_df)"
   ]
  },
  {
   "cell_type": "code",
   "execution_count": 106,
   "metadata": {},
   "outputs": [
    {
     "data": {
      "text/html": [
       "<div>\n",
       "<style scoped>\n",
       "    .dataframe tbody tr th:only-of-type {\n",
       "        vertical-align: middle;\n",
       "    }\n",
       "\n",
       "    .dataframe tbody tr th {\n",
       "        vertical-align: top;\n",
       "    }\n",
       "\n",
       "    .dataframe thead th {\n",
       "        text-align: right;\n",
       "    }\n",
       "</style>\n",
       "<table border=\"1\" class=\"dataframe\">\n",
       "  <thead>\n",
       "    <tr style=\"text-align: right;\">\n",
       "      <th></th>\n",
       "      <th></th>\n",
       "      <th>position</th>\n",
       "    </tr>\n",
       "    <tr>\n",
       "      <th>date</th>\n",
       "      <th>coin</th>\n",
       "      <th></th>\n",
       "    </tr>\n",
       "  </thead>\n",
       "  <tbody>\n",
       "    <tr>\n",
       "      <th rowspan=\"5\" valign=\"top\">2020-01-01 15:00:00</th>\n",
       "      <th>ADAUSDT</th>\n",
       "      <td>NaN</td>\n",
       "    </tr>\n",
       "    <tr>\n",
       "      <th>BNBUSDT</th>\n",
       "      <td>NaN</td>\n",
       "    </tr>\n",
       "    <tr>\n",
       "      <th>BTCUSDT</th>\n",
       "      <td>NaN</td>\n",
       "    </tr>\n",
       "    <tr>\n",
       "      <th>ETHUSDT</th>\n",
       "      <td>NaN</td>\n",
       "    </tr>\n",
       "    <tr>\n",
       "      <th>XRPUSDT</th>\n",
       "      <td>NaN</td>\n",
       "    </tr>\n",
       "    <tr>\n",
       "      <th>...</th>\n",
       "      <th>...</th>\n",
       "      <td>...</td>\n",
       "    </tr>\n",
       "    <tr>\n",
       "      <th rowspan=\"5\" valign=\"top\">2020-08-31 23:00:00</th>\n",
       "      <th>ADAUSDT</th>\n",
       "      <td>0.0</td>\n",
       "    </tr>\n",
       "    <tr>\n",
       "      <th>BNBUSDT</th>\n",
       "      <td>0.0</td>\n",
       "    </tr>\n",
       "    <tr>\n",
       "      <th>BTCUSDT</th>\n",
       "      <td>0.0</td>\n",
       "    </tr>\n",
       "    <tr>\n",
       "      <th>ETHUSDT</th>\n",
       "      <td>0.0</td>\n",
       "    </tr>\n",
       "    <tr>\n",
       "      <th>XRPUSDT</th>\n",
       "      <td>0.0</td>\n",
       "    </tr>\n",
       "  </tbody>\n",
       "</table>\n",
       "<p>29145 rows × 1 columns</p>\n",
       "</div>"
      ],
      "text/plain": [
       "                             position\n",
       "date                coin             \n",
       "2020-01-01 15:00:00 ADAUSDT       NaN\n",
       "                    BNBUSDT       NaN\n",
       "                    BTCUSDT       NaN\n",
       "                    ETHUSDT       NaN\n",
       "                    XRPUSDT       NaN\n",
       "...                               ...\n",
       "2020-08-31 23:00:00 ADAUSDT       0.0\n",
       "                    BNBUSDT       0.0\n",
       "                    BTCUSDT       0.0\n",
       "                    ETHUSDT       0.0\n",
       "                    XRPUSDT       0.0\n",
       "\n",
       "[29145 rows x 1 columns]"
      ]
     },
     "execution_count": 106,
     "metadata": {},
     "output_type": "execute_result"
    }
   ],
   "source": [
    "_df['position'].to_frame()"
   ]
  },
  {
   "cell_type": "code",
   "execution_count": 107,
   "metadata": {},
   "outputs": [],
   "source": [
    "df = cal.downsample(_df, low_freq)"
   ]
  },
  {
   "cell_type": "code",
   "execution_count": 108,
   "metadata": {},
   "outputs": [],
   "source": [
    "\n",
    "#Perform coarse analysis and filtering\n",
    "coarse = Coarse()\n",
    "df = coarse.volume_flag(df, max_dollar_allocation)"
   ]
  },
  {
   "cell_type": "code",
   "execution_count": 109,
   "metadata": {},
   "outputs": [],
   "source": [
    "df = coarse.sort_by_volume(df)"
   ]
  },
  {
   "cell_type": "code",
   "execution_count": 110,
   "metadata": {},
   "outputs": [],
   "source": [
    "df = coarse.sort_by_std(df, std_window, mean_window)"
   ]
  },
  {
   "cell_type": "code",
   "execution_count": 111,
   "metadata": {},
   "outputs": [],
   "source": [
    "fine = Fine()\n",
    "df = fine.above_ema(df, ema_window)"
   ]
  },
  {
   "cell_type": "code",
   "execution_count": 112,
   "metadata": {},
   "outputs": [
    {
     "name": "stderr",
     "output_type": "stream",
     "text": [
      "C:\\Users\\yassi\\AppData\\Local\\Temp\\ipykernel_21084\\3841925515.py:58: FutureWarning: The previous implementation of stack is deprecated and will be removed in a future version of pandas. See the What's New notes for pandas 2.1.0 for details. Specify future_stack=True to adopt the new implementation and silence this warning.\n",
      "  df = df.stack()\n"
     ]
    }
   ],
   "source": [
    "#apply update_univers\n",
    "df['in_universe'], current_universe = update_universe(df)"
   ]
  },
  {
   "cell_type": "code",
   "execution_count": 113,
   "metadata": {},
   "outputs": [
    {
     "data": {
      "text/html": [
       "<div>\n",
       "<style scoped>\n",
       "    .dataframe tbody tr th:only-of-type {\n",
       "        vertical-align: middle;\n",
       "    }\n",
       "\n",
       "    .dataframe tbody tr th {\n",
       "        vertical-align: top;\n",
       "    }\n",
       "\n",
       "    .dataframe thead th {\n",
       "        text-align: right;\n",
       "    }\n",
       "</style>\n",
       "<table border=\"1\" class=\"dataframe\">\n",
       "  <thead>\n",
       "    <tr style=\"text-align: right;\">\n",
       "      <th></th>\n",
       "      <th></th>\n",
       "      <th>close</th>\n",
       "      <th>creturns</th>\n",
       "      <th>high</th>\n",
       "      <th>log_return</th>\n",
       "      <th>low</th>\n",
       "      <th>open</th>\n",
       "      <th>price</th>\n",
       "      <th>returns</th>\n",
       "      <th>volume</th>\n",
       "      <th>volume_in_dollars</th>\n",
       "      <th>...</th>\n",
       "      <th>htf_close</th>\n",
       "      <th>htf_volume</th>\n",
       "      <th>htf_volume_in_dollars</th>\n",
       "      <th>volume_flag</th>\n",
       "      <th>volume_rank</th>\n",
       "      <th>htf_std_values</th>\n",
       "      <th>std_rank</th>\n",
       "      <th>ema_2</th>\n",
       "      <th>above_ema</th>\n",
       "      <th>in_universe</th>\n",
       "    </tr>\n",
       "    <tr>\n",
       "      <th>date</th>\n",
       "      <th>coin</th>\n",
       "      <th></th>\n",
       "      <th></th>\n",
       "      <th></th>\n",
       "      <th></th>\n",
       "      <th></th>\n",
       "      <th></th>\n",
       "      <th></th>\n",
       "      <th></th>\n",
       "      <th></th>\n",
       "      <th></th>\n",
       "      <th></th>\n",
       "      <th></th>\n",
       "      <th></th>\n",
       "      <th></th>\n",
       "      <th></th>\n",
       "      <th></th>\n",
       "      <th></th>\n",
       "      <th></th>\n",
       "      <th></th>\n",
       "      <th></th>\n",
       "      <th></th>\n",
       "    </tr>\n",
       "  </thead>\n",
       "  <tbody>\n",
       "    <tr>\n",
       "      <th rowspan=\"5\" valign=\"top\">2020-01-02 00:00:00</th>\n",
       "      <th>ADAUSDT</th>\n",
       "      <td>0.03343</td>\n",
       "      <td>1.019829</td>\n",
       "      <td>0.03348</td>\n",
       "      <td>-0.001495</td>\n",
       "      <td>0.03340</td>\n",
       "      <td>0.03345</td>\n",
       "      <td>0.03343</td>\n",
       "      <td>-0.001493</td>\n",
       "      <td>1.020309e+06</td>\n",
       "      <td>3.410894e+04</td>\n",
       "      <td>...</td>\n",
       "      <td>0.03269</td>\n",
       "      <td>4.282646e+07</td>\n",
       "      <td>1.405664e+06</td>\n",
       "      <td>1</td>\n",
       "      <td>2.0</td>\n",
       "      <td>0.016884</td>\n",
       "      <td>5.0</td>\n",
       "      <td>0.033454</td>\n",
       "      <td>0</td>\n",
       "      <td>False</td>\n",
       "    </tr>\n",
       "    <tr>\n",
       "      <th>BNBUSDT</th>\n",
       "      <td>13.71230</td>\n",
       "      <td>1.001037</td>\n",
       "      <td>13.73020</td>\n",
       "      <td>-0.000445</td>\n",
       "      <td>13.67060</td>\n",
       "      <td>13.70720</td>\n",
       "      <td>13.71230</td>\n",
       "      <td>-0.000445</td>\n",
       "      <td>5.083784e+04</td>\n",
       "      <td>6.971037e+05</td>\n",
       "      <td>...</td>\n",
       "      <td>13.01050</td>\n",
       "      <td>9.711907e+05</td>\n",
       "      <td>1.298722e+07</td>\n",
       "      <td>1</td>\n",
       "      <td>3.0</td>\n",
       "      <td>0.037455</td>\n",
       "      <td>1.0</td>\n",
       "      <td>13.712740</td>\n",
       "      <td>0</td>\n",
       "      <td>False</td>\n",
       "    </tr>\n",
       "    <tr>\n",
       "      <th>BTCUSDT</th>\n",
       "      <td>7211.02000</td>\n",
       "      <td>1.004737</td>\n",
       "      <td>7212.50000</td>\n",
       "      <td>0.001411</td>\n",
       "      <td>7185.46000</td>\n",
       "      <td>7200.77000</td>\n",
       "      <td>7211.02000</td>\n",
       "      <td>0.001412</td>\n",
       "      <td>3.913524e+02</td>\n",
       "      <td>2.822050e+06</td>\n",
       "      <td>...</td>\n",
       "      <td>6965.71000</td>\n",
       "      <td>3.195148e+04</td>\n",
       "      <td>2.258280e+08</td>\n",
       "      <td>1</td>\n",
       "      <td>5.0</td>\n",
       "      <td>0.023473</td>\n",
       "      <td>2.0</td>\n",
       "      <td>7208.643628</td>\n",
       "      <td>1</td>\n",
       "      <td>False</td>\n",
       "    </tr>\n",
       "    <tr>\n",
       "      <th>ETHUSDT</th>\n",
       "      <td>130.67000</td>\n",
       "      <td>1.013968</td>\n",
       "      <td>130.78000</td>\n",
       "      <td>-0.000765</td>\n",
       "      <td>130.27000</td>\n",
       "      <td>130.72000</td>\n",
       "      <td>130.67000</td>\n",
       "      <td>-0.000765</td>\n",
       "      <td>3.772667e+03</td>\n",
       "      <td>4.929744e+05</td>\n",
       "      <td>...</td>\n",
       "      <td>127.19000</td>\n",
       "      <td>2.137571e+05</td>\n",
       "      <td>2.749587e+07</td>\n",
       "      <td>1</td>\n",
       "      <td>4.0</td>\n",
       "      <td>0.019627</td>\n",
       "      <td>4.0</td>\n",
       "      <td>130.707748</td>\n",
       "      <td>0</td>\n",
       "      <td>False</td>\n",
       "    </tr>\n",
       "    <tr>\n",
       "      <th>XRPUSDT</th>\n",
       "      <td>0.19292</td>\n",
       "      <td>1.002286</td>\n",
       "      <td>0.19304</td>\n",
       "      <td>-0.000674</td>\n",
       "      <td>0.19246</td>\n",
       "      <td>0.19304</td>\n",
       "      <td>0.19292</td>\n",
       "      <td>-0.000673</td>\n",
       "      <td>9.287867e+05</td>\n",
       "      <td>1.791815e+05</td>\n",
       "      <td>...</td>\n",
       "      <td>0.18750</td>\n",
       "      <td>4.791211e+07</td>\n",
       "      <td>9.081044e+06</td>\n",
       "      <td>1</td>\n",
       "      <td>1.0</td>\n",
       "      <td>0.020625</td>\n",
       "      <td>3.0</td>\n",
       "      <td>0.192983</td>\n",
       "      <td>0</td>\n",
       "      <td>False</td>\n",
       "    </tr>\n",
       "    <tr>\n",
       "      <th>...</th>\n",
       "      <th>...</th>\n",
       "      <td>...</td>\n",
       "      <td>...</td>\n",
       "      <td>...</td>\n",
       "      <td>...</td>\n",
       "      <td>...</td>\n",
       "      <td>...</td>\n",
       "      <td>...</td>\n",
       "      <td>...</td>\n",
       "      <td>...</td>\n",
       "      <td>...</td>\n",
       "      <td>...</td>\n",
       "      <td>...</td>\n",
       "      <td>...</td>\n",
       "      <td>...</td>\n",
       "      <td>...</td>\n",
       "      <td>...</td>\n",
       "      <td>...</td>\n",
       "      <td>...</td>\n",
       "      <td>...</td>\n",
       "      <td>...</td>\n",
       "      <td>...</td>\n",
       "    </tr>\n",
       "    <tr>\n",
       "      <th rowspan=\"5\" valign=\"top\">2020-08-31 23:00:00</th>\n",
       "      <th>ADAUSDT</th>\n",
       "      <td>0.12253</td>\n",
       "      <td>3.737950</td>\n",
       "      <td>0.12315</td>\n",
       "      <td>0.001634</td>\n",
       "      <td>0.12177</td>\n",
       "      <td>0.12233</td>\n",
       "      <td>0.12253</td>\n",
       "      <td>0.001635</td>\n",
       "      <td>7.149835e+06</td>\n",
       "      <td>8.760693e+05</td>\n",
       "      <td>...</td>\n",
       "      <td>0.12253</td>\n",
       "      <td>4.592725e+08</td>\n",
       "      <td>5.525868e+07</td>\n",
       "      <td>1</td>\n",
       "      <td>1.0</td>\n",
       "      <td>0.000000</td>\n",
       "      <td>3.0</td>\n",
       "      <td>0.122528</td>\n",
       "      <td>1</td>\n",
       "      <td>False</td>\n",
       "    </tr>\n",
       "    <tr>\n",
       "      <th>BNBUSDT</th>\n",
       "      <td>23.14770</td>\n",
       "      <td>1.689847</td>\n",
       "      <td>23.30670</td>\n",
       "      <td>-0.001407</td>\n",
       "      <td>23.12460</td>\n",
       "      <td>23.17980</td>\n",
       "      <td>23.14770</td>\n",
       "      <td>-0.001406</td>\n",
       "      <td>7.473204e+04</td>\n",
       "      <td>1.729875e+06</td>\n",
       "      <td>...</td>\n",
       "      <td>23.14770</td>\n",
       "      <td>1.767388e+06</td>\n",
       "      <td>4.125484e+07</td>\n",
       "      <td>1</td>\n",
       "      <td>3.0</td>\n",
       "      <td>0.000000</td>\n",
       "      <td>3.0</td>\n",
       "      <td>23.148565</td>\n",
       "      <td>0</td>\n",
       "      <td>False</td>\n",
       "    </tr>\n",
       "    <tr>\n",
       "      <th>BTCUSDT</th>\n",
       "      <td>11649.51000</td>\n",
       "      <td>1.623168</td>\n",
       "      <td>11689.68000</td>\n",
       "      <td>-0.000161</td>\n",
       "      <td>11647.61000</td>\n",
       "      <td>11651.39000</td>\n",
       "      <td>11649.51000</td>\n",
       "      <td>-0.000160</td>\n",
       "      <td>1.554036e+03</td>\n",
       "      <td>1.810376e+07</td>\n",
       "      <td>...</td>\n",
       "      <td>11649.51000</td>\n",
       "      <td>5.535362e+04</td>\n",
       "      <td>6.464956e+08</td>\n",
       "      <td>1</td>\n",
       "      <td>5.0</td>\n",
       "      <td>0.000000</td>\n",
       "      <td>3.0</td>\n",
       "      <td>11650.140195</td>\n",
       "      <td>0</td>\n",
       "      <td>True</td>\n",
       "    </tr>\n",
       "    <tr>\n",
       "      <th>ETHUSDT</th>\n",
       "      <td>433.79000</td>\n",
       "      <td>3.366105</td>\n",
       "      <td>437.80000</td>\n",
       "      <td>-0.003061</td>\n",
       "      <td>433.70000</td>\n",
       "      <td>435.12000</td>\n",
       "      <td>433.79000</td>\n",
       "      <td>-0.003057</td>\n",
       "      <td>3.991772e+04</td>\n",
       "      <td>1.731591e+07</td>\n",
       "      <td>...</td>\n",
       "      <td>433.79000</td>\n",
       "      <td>1.040749e+06</td>\n",
       "      <td>4.478154e+08</td>\n",
       "      <td>1</td>\n",
       "      <td>4.0</td>\n",
       "      <td>0.000000</td>\n",
       "      <td>3.0</td>\n",
       "      <td>433.861496</td>\n",
       "      <td>0</td>\n",
       "      <td>False</td>\n",
       "    </tr>\n",
       "    <tr>\n",
       "      <th>XRPUSDT</th>\n",
       "      <td>0.28115</td>\n",
       "      <td>1.460671</td>\n",
       "      <td>0.28359</td>\n",
       "      <td>0.000747</td>\n",
       "      <td>0.28070</td>\n",
       "      <td>0.28095</td>\n",
       "      <td>0.28115</td>\n",
       "      <td>0.000747</td>\n",
       "      <td>5.809346e+06</td>\n",
       "      <td>1.633297e+06</td>\n",
       "      <td>...</td>\n",
       "      <td>0.28115</td>\n",
       "      <td>1.645416e+08</td>\n",
       "      <td>4.630695e+07</td>\n",
       "      <td>1</td>\n",
       "      <td>2.0</td>\n",
       "      <td>0.000000</td>\n",
       "      <td>3.0</td>\n",
       "      <td>0.280912</td>\n",
       "      <td>1</td>\n",
       "      <td>False</td>\n",
       "    </tr>\n",
       "  </tbody>\n",
       "</table>\n",
       "<p>28970 rows × 50 columns</p>\n",
       "</div>"
      ],
      "text/plain": [
       "                                   close  creturns         high  log_return  \\\n",
       "date                coin                                                      \n",
       "2020-01-02 00:00:00 ADAUSDT      0.03343  1.019829      0.03348   -0.001495   \n",
       "                    BNBUSDT     13.71230  1.001037     13.73020   -0.000445   \n",
       "                    BTCUSDT   7211.02000  1.004737   7212.50000    0.001411   \n",
       "                    ETHUSDT    130.67000  1.013968    130.78000   -0.000765   \n",
       "                    XRPUSDT      0.19292  1.002286      0.19304   -0.000674   \n",
       "...                                  ...       ...          ...         ...   \n",
       "2020-08-31 23:00:00 ADAUSDT      0.12253  3.737950      0.12315    0.001634   \n",
       "                    BNBUSDT     23.14770  1.689847     23.30670   -0.001407   \n",
       "                    BTCUSDT  11649.51000  1.623168  11689.68000   -0.000161   \n",
       "                    ETHUSDT    433.79000  3.366105    437.80000   -0.003061   \n",
       "                    XRPUSDT      0.28115  1.460671      0.28359    0.000747   \n",
       "\n",
       "                                     low         open        price   returns  \\\n",
       "date                coin                                                       \n",
       "2020-01-02 00:00:00 ADAUSDT      0.03340      0.03345      0.03343 -0.001493   \n",
       "                    BNBUSDT     13.67060     13.70720     13.71230 -0.000445   \n",
       "                    BTCUSDT   7185.46000   7200.77000   7211.02000  0.001412   \n",
       "                    ETHUSDT    130.27000    130.72000    130.67000 -0.000765   \n",
       "                    XRPUSDT      0.19246      0.19304      0.19292 -0.000673   \n",
       "...                                  ...          ...          ...       ...   \n",
       "2020-08-31 23:00:00 ADAUSDT      0.12177      0.12233      0.12253  0.001635   \n",
       "                    BNBUSDT     23.12460     23.17980     23.14770 -0.001406   \n",
       "                    BTCUSDT  11647.61000  11651.39000  11649.51000 -0.000160   \n",
       "                    ETHUSDT    433.70000    435.12000    433.79000 -0.003057   \n",
       "                    XRPUSDT      0.28070      0.28095      0.28115  0.000747   \n",
       "\n",
       "                                   volume  volume_in_dollars  ...  \\\n",
       "date                coin                                      ...   \n",
       "2020-01-02 00:00:00 ADAUSDT  1.020309e+06       3.410894e+04  ...   \n",
       "                    BNBUSDT  5.083784e+04       6.971037e+05  ...   \n",
       "                    BTCUSDT  3.913524e+02       2.822050e+06  ...   \n",
       "                    ETHUSDT  3.772667e+03       4.929744e+05  ...   \n",
       "                    XRPUSDT  9.287867e+05       1.791815e+05  ...   \n",
       "...                                   ...                ...  ...   \n",
       "2020-08-31 23:00:00 ADAUSDT  7.149835e+06       8.760693e+05  ...   \n",
       "                    BNBUSDT  7.473204e+04       1.729875e+06  ...   \n",
       "                    BTCUSDT  1.554036e+03       1.810376e+07  ...   \n",
       "                    ETHUSDT  3.991772e+04       1.731591e+07  ...   \n",
       "                    XRPUSDT  5.809346e+06       1.633297e+06  ...   \n",
       "\n",
       "                               htf_close    htf_volume  htf_volume_in_dollars  \\\n",
       "date                coin                                                        \n",
       "2020-01-02 00:00:00 ADAUSDT      0.03269  4.282646e+07           1.405664e+06   \n",
       "                    BNBUSDT     13.01050  9.711907e+05           1.298722e+07   \n",
       "                    BTCUSDT   6965.71000  3.195148e+04           2.258280e+08   \n",
       "                    ETHUSDT    127.19000  2.137571e+05           2.749587e+07   \n",
       "                    XRPUSDT      0.18750  4.791211e+07           9.081044e+06   \n",
       "...                                  ...           ...                    ...   \n",
       "2020-08-31 23:00:00 ADAUSDT      0.12253  4.592725e+08           5.525868e+07   \n",
       "                    BNBUSDT     23.14770  1.767388e+06           4.125484e+07   \n",
       "                    BTCUSDT  11649.51000  5.535362e+04           6.464956e+08   \n",
       "                    ETHUSDT    433.79000  1.040749e+06           4.478154e+08   \n",
       "                    XRPUSDT      0.28115  1.645416e+08           4.630695e+07   \n",
       "\n",
       "                             volume_flag  volume_rank htf_std_values std_rank  \\\n",
       "date                coin                                                        \n",
       "2020-01-02 00:00:00 ADAUSDT            1          2.0       0.016884      5.0   \n",
       "                    BNBUSDT            1          3.0       0.037455      1.0   \n",
       "                    BTCUSDT            1          5.0       0.023473      2.0   \n",
       "                    ETHUSDT            1          4.0       0.019627      4.0   \n",
       "                    XRPUSDT            1          1.0       0.020625      3.0   \n",
       "...                                  ...          ...            ...      ...   \n",
       "2020-08-31 23:00:00 ADAUSDT            1          1.0       0.000000      3.0   \n",
       "                    BNBUSDT            1          3.0       0.000000      3.0   \n",
       "                    BTCUSDT            1          5.0       0.000000      3.0   \n",
       "                    ETHUSDT            1          4.0       0.000000      3.0   \n",
       "                    XRPUSDT            1          2.0       0.000000      3.0   \n",
       "\n",
       "                                    ema_2  above_ema  in_universe  \n",
       "date                coin                                           \n",
       "2020-01-02 00:00:00 ADAUSDT      0.033454          0        False  \n",
       "                    BNBUSDT     13.712740          0        False  \n",
       "                    BTCUSDT   7208.643628          1        False  \n",
       "                    ETHUSDT    130.707748          0        False  \n",
       "                    XRPUSDT      0.192983          0        False  \n",
       "...                                   ...        ...          ...  \n",
       "2020-08-31 23:00:00 ADAUSDT      0.122528          1        False  \n",
       "                    BNBUSDT     23.148565          0        False  \n",
       "                    BTCUSDT  11650.140195          0         True  \n",
       "                    ETHUSDT    433.861496          0        False  \n",
       "                    XRPUSDT      0.280912          1        False  \n",
       "\n",
       "[28970 rows x 50 columns]"
      ]
     },
     "execution_count": 113,
     "metadata": {},
     "output_type": "execute_result"
    }
   ],
   "source": [
    "df.dropna()"
   ]
  },
  {
   "cell_type": "code",
   "execution_count": 114,
   "metadata": {},
   "outputs": [
    {
     "data": {
      "text/plain": [
       "<Axes: xlabel='date,coin'>"
      ]
     },
     "execution_count": 114,
     "metadata": {},
     "output_type": "execute_result"
    },
    {
     "data": {
      "image/png": "[encoded data removed]",
      "text/plain": [
       "<Figure size 1000x600 with 1 Axes>"
      ]
     },
     "metadata": {},
     "output_type": "display_data"
    }
   ],
   "source": [
    "df.loc[(slice(None), 'BTCUSDT'), 'close'].plot()\n"
   ]
  },
  {
   "cell_type": "code",
   "execution_count": 115,
   "metadata": {},
   "outputs": [],
   "source": [
    "df.dropna(inplace = True)"
   ]
  },
  {
   "cell_type": "code",
   "execution_count": 116,
   "metadata": {},
   "outputs": [],
   "source": [
    "df = df[df['in_universe']]"
   ]
  },
  {
   "cell_type": "code",
   "execution_count": 117,
   "metadata": {},
   "outputs": [],
   "source": [
    "all_frequency = ['1W', '1D', '4h','1h', '30min','15min', '5min', '1min'] #All possible frequencies for the resampling "
   ]
  },
  {
   "cell_type": "code",
   "execution_count": 118,
   "metadata": {},
   "outputs": [],
   "source": [
    "def trading_strategy(\n",
    "        data,\n",
    "        params = None,\n",
    "        ###### To Optimize ######\n",
    "        std_window = 20,\n",
    "        mean_window = 20,\n",
    "        ema_window = 20,\n",
    "        hourly_lookback = 1,\n",
    "        daily_lookback= 1,\n",
    "        _min_pos = 0, #Has to be >= 0\n",
    "        _max_pos = 1, #Has to be > 0\n",
    "        sl_ind_length = 14,\n",
    "        sl_ind_mult = 3,\n",
    "        tp_mult = 2,\n",
    "        ptp_mult = 1,\n",
    "        ptp_exit_percent = 0.5,\n",
    "        ###### Constants ######\n",
    "        low_freq_index = 1, #The index of the lowest frequency for the resampling\n",
    "        high_freq_index = 3, #The index of the highest frequency for the resampling\n",
    "        max_perc_risk = 0.01,\n",
    "        max_dollar_allocation = 10000,\n",
    "        sl_type = 'atr',\n",
    "        tp_type = 'rr',\n",
    "        sl_signal_only = True,\n",
    "        tp_signal_only = True,\n",
    "        ptp_signal_only = True,\n",
    "        tp_ind_length = 0,\n",
    "        fixed_sl = True,\n",
    "        fixed_tp = True\n",
    "        ):\n",
    "    \n",
    "    if params is not None:\n",
    "        if isinstance(params, list):\n",
    "            std_window = params[0]\n",
    "            mean_window = params[1]\n",
    "            ema_window = params[2]\n",
    "            hourly_lookback = params[3]\n",
    "            daily_lookback = params[4]\n",
    "            _min_pos = params[5]\n",
    "            _max_pos = params[6]\n",
    "            sl_ind_length = params[7]\n",
    "            sl_ind_mult = params[8]\n",
    "            tp_mult = params[9]\n",
    "            ptp_mult = params[10]\n",
    "            ptp_exit_percent = params[11]\n",
    "        if isinstance(params, dict):\n",
    "            std_window = params['std_window']\n",
    "            mean_window = params['mean_window']\n",
    "            ema_window = params['ema_window']\n",
    "            hourly_lookback = params['str_length']\n",
    "            daily_lookback = params['str_mult']\n",
    "            _min_pos = params['_min_pos']\n",
    "            _max_pos = params['_max_pos']\n",
    "            sl_ind_length = params['sl_ind_length']\n",
    "            sl_ind_mult = params['sl_ind_mult']\n",
    "            tp_mult = params['tp_mult']\n",
    "            ptp_mult = params['ptp_mult']\n",
    "            ptp_exit_percent = params['ptp_exit_percent']\n",
    "        \n",
    "\n",
    "\n",
    "    if high_freq_index > low_freq_index:\n",
    "        low_freq = all_frequency[low_freq_index] #The lowest frequency for the resampling\n",
    "        high_freq = all_frequency[high_freq_index], #The highest frequency for the resampling\n",
    "            #Generally not going to be used since we are not calling the data inside the function\n",
    "    \n",
    "    \n",
    "    cal = Calculations()\n",
    "    mr = Mean_Reversion()\n",
    "    #Generate a signal\n",
    "    \n",
    "\n",
    "    _df = mr.last_days_low(data.copy(), hourly_lookback, daily_lookback)\n",
    "\n",
    "\n",
    "    pos = Position(_df, _min_pos, _max_pos)\n",
    "    _df = pos.initialize_position()\n",
    "    sl = Stop_Loss(_df, sl_type, sl_ind_length, sl_ind_mult, sl_signal_only)\n",
    "    _df = sl.apply_stop_loss(fixed_sl, plot = False)\n",
    "    tp = Take_Profit(_df, tp_type, tp_mult, tp_signal_only)\n",
    "    _df = tp.apply_take_profit(fixed_tp, plot = False)\n",
    "    ptp = Take_Profit(_df, tp_type, ptp_mult, ptp_signal_only, exit_percent = ptp_exit_percent)\n",
    "    _df = ptp.apply_take_profit(fixed_tp, plot = False)\n",
    "    \n",
    "\n",
    "    _df = cal.merge_cols(_df, common = 'exit_signal', use_clip = True)\n",
    "    _df = pos.calculate_position(_df)\n",
    "\n",
    "    mt = Manage_Trade(_df)\n",
    "    _df = mt.erw_actual_allocation(max_perc_risk, max_dollar_allocation)\n",
    "\n",
    "    #########################\n",
    "\n",
    "    _df = cal.update_all(_df)\n",
    "\n",
    "    #Downsample the data\n",
    "    df = cal.downsample(_df, low_freq)\n",
    "\n",
    "    #Perform coarse analysis and filtering\n",
    "    coarse = Coarse()\n",
    "    df = coarse.volume_flag(df, max_dollar_allocation)\n",
    "    df = coarse.sort_by_volume(df)\n",
    "    df = coarse.sort_by_std(df, std_window, mean_window)\n",
    "    fine = Fine()\n",
    "    df = fine.above_ema(df, ema_window)\n",
    "\n",
    "    #apply update_universe\n",
    "    df['in_universe'], current_universe = update_universe(df)\n",
    "\n",
    "    df.dropna(inplace = True)\n",
    "\n",
    "    df = df[df['in_universe']]\n",
    "\n",
    "    return df\n",
    "\n"
   ]
  },
  {
   "cell_type": "code",
   "execution_count": 119,
   "metadata": {},
   "outputs": [
    {
     "name": "stderr",
     "output_type": "stream",
     "text": [
      "C:\\Users\\yassi\\AppData\\Local\\Temp\\ipykernel_21084\\3841925515.py:58: FutureWarning: The previous implementation of stack is deprecated and will be removed in a future version of pandas. See the What's New notes for pandas 2.1.0 for details. Specify future_stack=True to adopt the new implementation and silence this warning.\n",
      "  df = df.stack()\n"
     ]
    },
    {
     "data": {
      "text/plain": [
       "True"
      ]
     },
     "execution_count": 119,
     "metadata": {},
     "output_type": "execute_result"
    }
   ],
   "source": [
    "sample_strategy = trading_strategy(data)\n",
    "'strategy' in sample_strategy.columns"
   ]
  },
  {
   "cell_type": "code",
   "execution_count": 120,
   "metadata": {},
   "outputs": [
    {
     "data": {
      "text/html": [
       "<div>\n",
       "<style scoped>\n",
       "    .dataframe tbody tr th:only-of-type {\n",
       "        vertical-align: middle;\n",
       "    }\n",
       "\n",
       "    .dataframe tbody tr th {\n",
       "        vertical-align: top;\n",
       "    }\n",
       "\n",
       "    .dataframe thead th {\n",
       "        text-align: right;\n",
       "    }\n",
       "</style>\n",
       "<table border=\"1\" class=\"dataframe\">\n",
       "  <thead>\n",
       "    <tr style=\"text-align: right;\">\n",
       "      <th></th>\n",
       "      <th></th>\n",
       "      <th>close</th>\n",
       "      <th>creturns</th>\n",
       "      <th>high</th>\n",
       "      <th>log_return</th>\n",
       "      <th>low</th>\n",
       "      <th>open</th>\n",
       "      <th>price</th>\n",
       "      <th>returns</th>\n",
       "      <th>volume</th>\n",
       "      <th>volume_in_dollars</th>\n",
       "      <th>...</th>\n",
       "      <th>htf_close</th>\n",
       "      <th>htf_volume</th>\n",
       "      <th>htf_volume_in_dollars</th>\n",
       "      <th>volume_flag</th>\n",
       "      <th>volume_rank</th>\n",
       "      <th>htf_std_values</th>\n",
       "      <th>std_rank</th>\n",
       "      <th>ema_20</th>\n",
       "      <th>above_ema</th>\n",
       "      <th>in_universe</th>\n",
       "    </tr>\n",
       "    <tr>\n",
       "      <th>date</th>\n",
       "      <th>coin</th>\n",
       "      <th></th>\n",
       "      <th></th>\n",
       "      <th></th>\n",
       "      <th></th>\n",
       "      <th></th>\n",
       "      <th></th>\n",
       "      <th></th>\n",
       "      <th></th>\n",
       "      <th></th>\n",
       "      <th></th>\n",
       "      <th></th>\n",
       "      <th></th>\n",
       "      <th></th>\n",
       "      <th></th>\n",
       "      <th></th>\n",
       "      <th></th>\n",
       "      <th></th>\n",
       "      <th></th>\n",
       "      <th></th>\n",
       "      <th></th>\n",
       "      <th></th>\n",
       "    </tr>\n",
       "  </thead>\n",
       "  <tbody>\n",
       "    <tr>\n",
       "      <th>2020-01-17 17:00:00</th>\n",
       "      <th>XRPUSDT</th>\n",
       "      <td>0.23845</td>\n",
       "      <td>1.238830</td>\n",
       "      <td>0.23850</td>\n",
       "      <td>0.012916</td>\n",
       "      <td>0.23481</td>\n",
       "      <td>0.23539</td>\n",
       "      <td>0.238162</td>\n",
       "      <td>0.013000</td>\n",
       "      <td>8.001190e+06</td>\n",
       "      <td>1.907884e+06</td>\n",
       "      <td>...</td>\n",
       "      <td>0.23921</td>\n",
       "      <td>2.143690e+08</td>\n",
       "      <td>5.056137e+07</td>\n",
       "      <td>1</td>\n",
       "      <td>2.0</td>\n",
       "      <td>0.013194</td>\n",
       "      <td>3.0</td>\n",
       "      <td>0.233358</td>\n",
       "      <td>1</td>\n",
       "      <td>True</td>\n",
       "    </tr>\n",
       "    <tr>\n",
       "      <th>2020-01-17 18:00:00</th>\n",
       "      <th>XRPUSDT</th>\n",
       "      <td>0.24228</td>\n",
       "      <td>1.258728</td>\n",
       "      <td>0.24289</td>\n",
       "      <td>0.015934</td>\n",
       "      <td>0.23812</td>\n",
       "      <td>0.23845</td>\n",
       "      <td>0.242280</td>\n",
       "      <td>0.016062</td>\n",
       "      <td>2.019166e+07</td>\n",
       "      <td>4.892036e+06</td>\n",
       "      <td>...</td>\n",
       "      <td>0.23921</td>\n",
       "      <td>2.143690e+08</td>\n",
       "      <td>5.056137e+07</td>\n",
       "      <td>1</td>\n",
       "      <td>2.0</td>\n",
       "      <td>0.009564</td>\n",
       "      <td>3.0</td>\n",
       "      <td>0.234208</td>\n",
       "      <td>1</td>\n",
       "      <td>True</td>\n",
       "    </tr>\n",
       "    <tr>\n",
       "      <th>2020-01-17 19:00:00</th>\n",
       "      <th>XRPUSDT</th>\n",
       "      <td>0.23742</td>\n",
       "      <td>1.233479</td>\n",
       "      <td>0.24453</td>\n",
       "      <td>-0.020263</td>\n",
       "      <td>0.23149</td>\n",
       "      <td>0.24220</td>\n",
       "      <td>0.237420</td>\n",
       "      <td>-0.020059</td>\n",
       "      <td>2.576879e+07</td>\n",
       "      <td>6.118027e+06</td>\n",
       "      <td>...</td>\n",
       "      <td>0.23921</td>\n",
       "      <td>2.143690e+08</td>\n",
       "      <td>5.056137e+07</td>\n",
       "      <td>1</td>\n",
       "      <td>2.0</td>\n",
       "      <td>0.000000</td>\n",
       "      <td>3.0</td>\n",
       "      <td>0.234514</td>\n",
       "      <td>1</td>\n",
       "      <td>True</td>\n",
       "    </tr>\n",
       "    <tr>\n",
       "      <th>2020-01-17 20:00:00</th>\n",
       "      <th>XRPUSDT</th>\n",
       "      <td>0.23708</td>\n",
       "      <td>1.231712</td>\n",
       "      <td>0.23957</td>\n",
       "      <td>-0.001433</td>\n",
       "      <td>0.23609</td>\n",
       "      <td>0.23742</td>\n",
       "      <td>0.237080</td>\n",
       "      <td>-0.001432</td>\n",
       "      <td>9.394550e+06</td>\n",
       "      <td>2.227260e+06</td>\n",
       "      <td>...</td>\n",
       "      <td>0.23921</td>\n",
       "      <td>2.143690e+08</td>\n",
       "      <td>5.056137e+07</td>\n",
       "      <td>1</td>\n",
       "      <td>2.0</td>\n",
       "      <td>0.000000</td>\n",
       "      <td>3.0</td>\n",
       "      <td>0.234758</td>\n",
       "      <td>1</td>\n",
       "      <td>True</td>\n",
       "    </tr>\n",
       "    <tr>\n",
       "      <th>2020-01-17 21:00:00</th>\n",
       "      <th>XRPUSDT</th>\n",
       "      <td>0.24009</td>\n",
       "      <td>1.247350</td>\n",
       "      <td>0.24010</td>\n",
       "      <td>0.012616</td>\n",
       "      <td>0.23626</td>\n",
       "      <td>0.23708</td>\n",
       "      <td>0.240090</td>\n",
       "      <td>0.012696</td>\n",
       "      <td>5.551760e+06</td>\n",
       "      <td>1.332922e+06</td>\n",
       "      <td>...</td>\n",
       "      <td>0.23921</td>\n",
       "      <td>2.143690e+08</td>\n",
       "      <td>5.056137e+07</td>\n",
       "      <td>1</td>\n",
       "      <td>2.0</td>\n",
       "      <td>0.000000</td>\n",
       "      <td>3.0</td>\n",
       "      <td>0.235266</td>\n",
       "      <td>1</td>\n",
       "      <td>True</td>\n",
       "    </tr>\n",
       "    <tr>\n",
       "      <th>...</th>\n",
       "      <th>...</th>\n",
       "      <td>...</td>\n",
       "      <td>...</td>\n",
       "      <td>...</td>\n",
       "      <td>...</td>\n",
       "      <td>...</td>\n",
       "      <td>...</td>\n",
       "      <td>...</td>\n",
       "      <td>...</td>\n",
       "      <td>...</td>\n",
       "      <td>...</td>\n",
       "      <td>...</td>\n",
       "      <td>...</td>\n",
       "      <td>...</td>\n",
       "      <td>...</td>\n",
       "      <td>...</td>\n",
       "      <td>...</td>\n",
       "      <td>...</td>\n",
       "      <td>...</td>\n",
       "      <td>...</td>\n",
       "      <td>...</td>\n",
       "      <td>...</td>\n",
       "    </tr>\n",
       "    <tr>\n",
       "      <th>2020-08-22 20:00:00</th>\n",
       "      <th>BTCUSDT</th>\n",
       "      <td>11609.31000</td>\n",
       "      <td>1.617567</td>\n",
       "      <td>11611.00000</td>\n",
       "      <td>0.001642</td>\n",
       "      <td>11570.27000</td>\n",
       "      <td>11590.26000</td>\n",
       "      <td>11609.310000</td>\n",
       "      <td>0.001644</td>\n",
       "      <td>1.205633e+03</td>\n",
       "      <td>1.399657e+07</td>\n",
       "      <td>...</td>\n",
       "      <td>11662.96000</td>\n",
       "      <td>4.367870e+04</td>\n",
       "      <td>5.044518e+08</td>\n",
       "      <td>1</td>\n",
       "      <td>5.0</td>\n",
       "      <td>0.000000</td>\n",
       "      <td>3.0</td>\n",
       "      <td>11588.764134</td>\n",
       "      <td>1</td>\n",
       "      <td>True</td>\n",
       "    </tr>\n",
       "    <tr>\n",
       "      <th>2020-08-22 21:00:00</th>\n",
       "      <th>BTCUSDT</th>\n",
       "      <td>11667.02000</td>\n",
       "      <td>1.625608</td>\n",
       "      <td>11680.00000</td>\n",
       "      <td>0.004959</td>\n",
       "      <td>11598.45000</td>\n",
       "      <td>11609.31000</td>\n",
       "      <td>11667.020000</td>\n",
       "      <td>0.004971</td>\n",
       "      <td>1.634757e+03</td>\n",
       "      <td>1.907274e+07</td>\n",
       "      <td>...</td>\n",
       "      <td>11662.96000</td>\n",
       "      <td>4.367870e+04</td>\n",
       "      <td>5.044518e+08</td>\n",
       "      <td>1</td>\n",
       "      <td>5.0</td>\n",
       "      <td>0.000000</td>\n",
       "      <td>3.0</td>\n",
       "      <td>11596.217074</td>\n",
       "      <td>1</td>\n",
       "      <td>True</td>\n",
       "    </tr>\n",
       "    <tr>\n",
       "      <th>2020-08-22 22:00:00</th>\n",
       "      <th>BTCUSDT</th>\n",
       "      <td>11664.15000</td>\n",
       "      <td>1.625208</td>\n",
       "      <td>11684.78000</td>\n",
       "      <td>-0.000246</td>\n",
       "      <td>11642.00000</td>\n",
       "      <td>11667.01000</td>\n",
       "      <td>11664.150000</td>\n",
       "      <td>-0.000246</td>\n",
       "      <td>1.554440e+03</td>\n",
       "      <td>1.813122e+07</td>\n",
       "      <td>...</td>\n",
       "      <td>11662.96000</td>\n",
       "      <td>4.367870e+04</td>\n",
       "      <td>5.044518e+08</td>\n",
       "      <td>1</td>\n",
       "      <td>5.0</td>\n",
       "      <td>0.000000</td>\n",
       "      <td>3.0</td>\n",
       "      <td>11602.686876</td>\n",
       "      <td>1</td>\n",
       "      <td>True</td>\n",
       "    </tr>\n",
       "    <tr>\n",
       "      <th>2020-08-22 23:00:00</th>\n",
       "      <th>BTCUSDT</th>\n",
       "      <td>11662.96000</td>\n",
       "      <td>1.625042</td>\n",
       "      <td>11686.00000</td>\n",
       "      <td>-0.000102</td>\n",
       "      <td>11656.63000</td>\n",
       "      <td>11664.16000</td>\n",
       "      <td>11662.960000</td>\n",
       "      <td>-0.000102</td>\n",
       "      <td>1.396939e+03</td>\n",
       "      <td>1.629244e+07</td>\n",
       "      <td>...</td>\n",
       "      <td>11662.96000</td>\n",
       "      <td>4.367870e+04</td>\n",
       "      <td>5.044518e+08</td>\n",
       "      <td>1</td>\n",
       "      <td>5.0</td>\n",
       "      <td>0.000000</td>\n",
       "      <td>3.0</td>\n",
       "      <td>11608.427174</td>\n",
       "      <td>1</td>\n",
       "      <td>True</td>\n",
       "    </tr>\n",
       "    <tr>\n",
       "      <th>2020-08-23 00:00:00</th>\n",
       "      <th>BTCUSDT</th>\n",
       "      <td>11645.21000</td>\n",
       "      <td>1.622569</td>\n",
       "      <td>11688.81000</td>\n",
       "      <td>-0.001523</td>\n",
       "      <td>11606.72000</td>\n",
       "      <td>11663.51000</td>\n",
       "      <td>11645.210000</td>\n",
       "      <td>-0.001522</td>\n",
       "      <td>2.018427e+03</td>\n",
       "      <td>2.350501e+07</td>\n",
       "      <td>...</td>\n",
       "      <td>11648.13000</td>\n",
       "      <td>3.790000e+04</td>\n",
       "      <td>4.402976e+08</td>\n",
       "      <td>1</td>\n",
       "      <td>5.0</td>\n",
       "      <td>0.000284</td>\n",
       "      <td>5.0</td>\n",
       "      <td>11611.930300</td>\n",
       "      <td>1</td>\n",
       "      <td>True</td>\n",
       "    </tr>\n",
       "  </tbody>\n",
       "</table>\n",
       "<p>3226 rows × 50 columns</p>\n",
       "</div>"
      ],
      "text/plain": [
       "                                   close  creturns         high  log_return  \\\n",
       "date                coin                                                      \n",
       "2020-01-17 17:00:00 XRPUSDT      0.23845  1.238830      0.23850    0.012916   \n",
       "2020-01-17 18:00:00 XRPUSDT      0.24228  1.258728      0.24289    0.015934   \n",
       "2020-01-17 19:00:00 XRPUSDT      0.23742  1.233479      0.24453   -0.020263   \n",
       "2020-01-17 20:00:00 XRPUSDT      0.23708  1.231712      0.23957   -0.001433   \n",
       "2020-01-17 21:00:00 XRPUSDT      0.24009  1.247350      0.24010    0.012616   \n",
       "...                                  ...       ...          ...         ...   \n",
       "2020-08-22 20:00:00 BTCUSDT  11609.31000  1.617567  11611.00000    0.001642   \n",
       "2020-08-22 21:00:00 BTCUSDT  11667.02000  1.625608  11680.00000    0.004959   \n",
       "2020-08-22 22:00:00 BTCUSDT  11664.15000  1.625208  11684.78000   -0.000246   \n",
       "2020-08-22 23:00:00 BTCUSDT  11662.96000  1.625042  11686.00000   -0.000102   \n",
       "2020-08-23 00:00:00 BTCUSDT  11645.21000  1.622569  11688.81000   -0.001523   \n",
       "\n",
       "                                     low         open         price   returns  \\\n",
       "date                coin                                                        \n",
       "2020-01-17 17:00:00 XRPUSDT      0.23481      0.23539      0.238162  0.013000   \n",
       "2020-01-17 18:00:00 XRPUSDT      0.23812      0.23845      0.242280  0.016062   \n",
       "2020-01-17 19:00:00 XRPUSDT      0.23149      0.24220      0.237420 -0.020059   \n",
       "2020-01-17 20:00:00 XRPUSDT      0.23609      0.23742      0.237080 -0.001432   \n",
       "2020-01-17 21:00:00 XRPUSDT      0.23626      0.23708      0.240090  0.012696   \n",
       "...                                  ...          ...           ...       ...   \n",
       "2020-08-22 20:00:00 BTCUSDT  11570.27000  11590.26000  11609.310000  0.001644   \n",
       "2020-08-22 21:00:00 BTCUSDT  11598.45000  11609.31000  11667.020000  0.004971   \n",
       "2020-08-22 22:00:00 BTCUSDT  11642.00000  11667.01000  11664.150000 -0.000246   \n",
       "2020-08-22 23:00:00 BTCUSDT  11656.63000  11664.16000  11662.960000 -0.000102   \n",
       "2020-08-23 00:00:00 BTCUSDT  11606.72000  11663.51000  11645.210000 -0.001522   \n",
       "\n",
       "                                   volume  volume_in_dollars  ...  \\\n",
       "date                coin                                      ...   \n",
       "2020-01-17 17:00:00 XRPUSDT  8.001190e+06       1.907884e+06  ...   \n",
       "2020-01-17 18:00:00 XRPUSDT  2.019166e+07       4.892036e+06  ...   \n",
       "2020-01-17 19:00:00 XRPUSDT  2.576879e+07       6.118027e+06  ...   \n",
       "2020-01-17 20:00:00 XRPUSDT  9.394550e+06       2.227260e+06  ...   \n",
       "2020-01-17 21:00:00 XRPUSDT  5.551760e+06       1.332922e+06  ...   \n",
       "...                                   ...                ...  ...   \n",
       "2020-08-22 20:00:00 BTCUSDT  1.205633e+03       1.399657e+07  ...   \n",
       "2020-08-22 21:00:00 BTCUSDT  1.634757e+03       1.907274e+07  ...   \n",
       "2020-08-22 22:00:00 BTCUSDT  1.554440e+03       1.813122e+07  ...   \n",
       "2020-08-22 23:00:00 BTCUSDT  1.396939e+03       1.629244e+07  ...   \n",
       "2020-08-23 00:00:00 BTCUSDT  2.018427e+03       2.350501e+07  ...   \n",
       "\n",
       "                               htf_close    htf_volume  htf_volume_in_dollars  \\\n",
       "date                coin                                                        \n",
       "2020-01-17 17:00:00 XRPUSDT      0.23921  2.143690e+08           5.056137e+07   \n",
       "2020-01-17 18:00:00 XRPUSDT      0.23921  2.143690e+08           5.056137e+07   \n",
       "2020-01-17 19:00:00 XRPUSDT      0.23921  2.143690e+08           5.056137e+07   \n",
       "2020-01-17 20:00:00 XRPUSDT      0.23921  2.143690e+08           5.056137e+07   \n",
       "2020-01-17 21:00:00 XRPUSDT      0.23921  2.143690e+08           5.056137e+07   \n",
       "...                                  ...           ...                    ...   \n",
       "2020-08-22 20:00:00 BTCUSDT  11662.96000  4.367870e+04           5.044518e+08   \n",
       "2020-08-22 21:00:00 BTCUSDT  11662.96000  4.367870e+04           5.044518e+08   \n",
       "2020-08-22 22:00:00 BTCUSDT  11662.96000  4.367870e+04           5.044518e+08   \n",
       "2020-08-22 23:00:00 BTCUSDT  11662.96000  4.367870e+04           5.044518e+08   \n",
       "2020-08-23 00:00:00 BTCUSDT  11648.13000  3.790000e+04           4.402976e+08   \n",
       "\n",
       "                             volume_flag  volume_rank htf_std_values std_rank  \\\n",
       "date                coin                                                        \n",
       "2020-01-17 17:00:00 XRPUSDT            1          2.0       0.013194      3.0   \n",
       "2020-01-17 18:00:00 XRPUSDT            1          2.0       0.009564      3.0   \n",
       "2020-01-17 19:00:00 XRPUSDT            1          2.0       0.000000      3.0   \n",
       "2020-01-17 20:00:00 XRPUSDT            1          2.0       0.000000      3.0   \n",
       "2020-01-17 21:00:00 XRPUSDT            1          2.0       0.000000      3.0   \n",
       "...                                  ...          ...            ...      ...   \n",
       "2020-08-22 20:00:00 BTCUSDT            1          5.0       0.000000      3.0   \n",
       "2020-08-22 21:00:00 BTCUSDT            1          5.0       0.000000      3.0   \n",
       "2020-08-22 22:00:00 BTCUSDT            1          5.0       0.000000      3.0   \n",
       "2020-08-22 23:00:00 BTCUSDT            1          5.0       0.000000      3.0   \n",
       "2020-08-23 00:00:00 BTCUSDT            1          5.0       0.000284      5.0   \n",
       "\n",
       "                                   ema_20  above_ema  in_universe  \n",
       "date                coin                                           \n",
       "2020-01-17 17:00:00 XRPUSDT      0.233358          1         True  \n",
       "2020-01-17 18:00:00 XRPUSDT      0.234208          1         True  \n",
       "2020-01-17 19:00:00 XRPUSDT      0.234514          1         True  \n",
       "2020-01-17 20:00:00 XRPUSDT      0.234758          1         True  \n",
       "2020-01-17 21:00:00 XRPUSDT      0.235266          1         True  \n",
       "...                                   ...        ...          ...  \n",
       "2020-08-22 20:00:00 BTCUSDT  11588.764134          1         True  \n",
       "2020-08-22 21:00:00 BTCUSDT  11596.217074          1         True  \n",
       "2020-08-22 22:00:00 BTCUSDT  11602.686876          1         True  \n",
       "2020-08-22 23:00:00 BTCUSDT  11608.427174          1         True  \n",
       "2020-08-23 00:00:00 BTCUSDT  11611.930300          1         True  \n",
       "\n",
       "[3226 rows x 50 columns]"
      ]
     },
     "execution_count": 120,
     "metadata": {},
     "output_type": "execute_result"
    }
   ],
   "source": [
    "sample_strategy"
   ]
  },
  {
   "cell_type": "code",
   "execution_count": 121,
   "metadata": {},
   "outputs": [],
   "source": [
    "# Define parameter space for optimization\n",
    "param_space = {\n",
    "    'std_window': Integer(5, 30),\n",
    "    'mean_window': Integer(5, 30),\n",
    "    'ema_window': Integer(5, 100),\n",
    "    'hourly_lookback': Integer(1, 3),\n",
    "    'daily_lookback': Integer(1, 3),\n",
    "    '_min_pos': Real(0, 0.25),\n",
    "    '_max_pos': Real(0, 1.5),\n",
    "    'sl_ind_length': Integer(5, 50),\n",
    "    'sl_ind_mult': Real(0.5, 5),\n",
    "    'tp_mult': Integer(1, 2),\n",
    "    'ptp_mult': Real(0.5, 1),\n",
    "    'ptp_exit_percent': Real(0.1, 1)\n",
    "    \n",
    "    \n",
    "}"
   ]
  },
  {
   "cell_type": "code",
   "execution_count": 122,
   "metadata": {},
   "outputs": [],
   "source": [
    "import numpy as np\n",
    "import pandas as pd\n",
    "from sklearn.model_selection import ParameterGrid\n",
    "from skopt import gp_minimize\n",
    "from skopt.space import Integer, Categorical, Real\n",
    "import quantstats_lumi as qs\n",
    "from collections.abc import Iterable\n",
    "\n",
    "\n",
    "\n",
    "\n",
    "class WFO():\n",
    "    def __init__(self, data, \n",
    "                 trading_strategy, \n",
    "                 param_grid = {}, \n",
    "                 train_size = 1000, \n",
    "                 test_size = 1000, \n",
    "                 step_size = 1000, \n",
    "                 optimize_fn=\"grid\",\n",
    "                 objective = 'sharpe',\n",
    "                 opt_freq = 'custom'):\n",
    "        \"\"\"\n",
    "        This class performs a walk-forward optimization on a trading strategy.\n",
    "\n",
    "        Parameters:\n",
    "        data (pd.DataFrame): The historical data to be used for backtesting.\n",
    "        trading_strategy (object): The trading strategy to be optimized.\n",
    "        param_grid (dict): The grid of parameters to be optimized.\n",
    "        train_size (int): The number of data points to be used for training.\n",
    "        test_size (int): The number of data points to be used for testing.\n",
    "        step_size (int): The number of data points to step forward in each iteration.\n",
    "        optimize_fn (str): The optimization function to use (\"grid\" or \"gp\").\n",
    "        objective (str): The objective function to maximize (\"sharpe\", \"sortino\", \"calmar\", \"multiple\").\n",
    "        opt_period (str): The period to optimize over ['custom', 'daily', 'weekly', 'quarterly', 'semi-annually', 'yearly'].\n",
    "        \"\"\"\n",
    "        self.data = data\n",
    "        self.trading_strategy = trading_strategy\n",
    "        self.param_grid = param_grid\n",
    "        if opt_freq == 'custom':\n",
    "            self.train_size = train_size\n",
    "        else:\n",
    "            self.train_size = train_size = self.opt_freq(opt_freq)\n",
    "        self.test_size = test_size\n",
    "        self.step_size = step_size\n",
    "        self.optimize_fn = optimize_fn\n",
    "        self.objective = objective\n",
    "        \n",
    "        if train_size > 0:\n",
    "            self.minimum_train_size = self.min_train_test_size(train_size)\n",
    "        else:\n",
    "            raise ValueError(\"Train size must be greater than 0.\")\n",
    "\n",
    "        max_param = max(\n",
    "        param.high if isinstance(param, (Integer, Real)) else max(param) #To handle all different cases\n",
    "        for param in param_grid.values()\n",
    "        )\n",
    "\n",
    "        if step_size + train_size + test_size > len(data):\n",
    "            raise ValueError(\"Invalid train, test, or step size.\")\n",
    "        elif (train_size < max_param or test_size < max_param):\n",
    "            raise ValueError(\"Parameter range exceeds train size or Test size.\")\n",
    "        elif train_size < 1 or test_size < 1 or step_size < 1:\n",
    "            raise ValueError(\"Train, test, and step size must be greater than 0.\")\n",
    "        elif test_size < train_size:\n",
    "            raise ValueError(\"Test size must be greater or equal to train size.\")\n",
    "        #It is kind of wrong to say this because data can be empty because there are no trades or no universe\n",
    "        # elif self.minimum_train_size > train_size:\n",
    "        #     train_size = self.minimum_train_size\n",
    "        #     print(f\"Adjusted train size to {train_size}\")\n",
    "    \n",
    "        if optimize_fn not in [\"grid\", \"gp\"]:\n",
    "            raise ValueError(\"Invalid optimization function\")\n",
    "        \n",
    "                             \n",
    "\n",
    "    #### Helper Methods ####\n",
    "    def min_train_test_size(self, train_size):\n",
    "        \"\"\"\n",
    "        Calculate the minimum test size based on the train size.\n",
    "        \"\"\"\n",
    "\n",
    "        current_size = train_size\n",
    "        result = []\n",
    "\n",
    "        while len(result) == 0 or result is None:\n",
    "            result = self.trading_strategy(self.data.iloc[:current_size])\n",
    "            if len(result) != 0:\n",
    "                break\n",
    "            current_size *= 2\n",
    "            \n",
    "\n",
    "        return current_size - len(result)\n",
    "\n",
    "\n",
    "        \n",
    "    def dict_to_param_space(self, param_dict):\n",
    "        \"\"\"\n",
    "        Converts a dictionary of parameters to a list of skopt parameters.\n",
    "        \"\"\"\n",
    "        param_space = []\n",
    "        for param_name, param_range in param_dict.items():\n",
    "            if isinstance(param_range, Integer):\n",
    "                param_space.append(Integer(param_range.low, param_range.high, name=param_name))\n",
    "            elif isinstance(param_range, Real):\n",
    "                param_space.append(Real(param_range.low, param_range.high, name=param_name))\n",
    "            elif isinstance(param_range, Categorical):\n",
    "                param_space.append(Categorical(param_range.categories, name=param_name))\n",
    "            elif isinstance(param_range, range):\n",
    "                param_space.append(Integer(min(param_range), max(param_range), name=param_name))\n",
    "            else:\n",
    "                raise ValueError(f\"Invalid range for parameter '{param_name}': {param_range}\")\n",
    "        return param_space\n",
    "        \n",
    "\n",
    "    def convert_param_space(self, param_space, n_samples=10):\n",
    "        \"\"\"\n",
    "        Converts a parameter dictionary with Integer and Real objects to an iterable format.\n",
    "\n",
    "        Parameters:\n",
    "            param_space (dict): Dictionary with Integer or Real objects as values.\n",
    "            n_samples (int): Number of discrete samples to generate for Real values.\n",
    "        \n",
    "        Returns:\n",
    "            dict: Parameter dictionary with iterable values.\n",
    "        \"\"\"\n",
    "        converted = {}\n",
    "        for key, value in param_space.items():\n",
    "            if isinstance(value, Integer):\n",
    "                # Generate a range of discrete integers\n",
    "                converted[key] = list(range(value.low, value.high + 1))\n",
    "            elif isinstance(value, Real):\n",
    "                # Generate n_samples equally spaced values in the range\n",
    "                converted[key] = list(np.linspace(value.low, value.high, n_samples))\n",
    "            else:\n",
    "                # Assume the parameter is already iterable\n",
    "                converted[key] = value\n",
    "\n",
    "        return converted\n",
    "\n",
    "    \n",
    "\n",
    "    def split_data(self, data, train_size, test_size, step_size):\n",
    "        start = 0\n",
    "        while start + train_size + test_size <= len(data):\n",
    "            train = data.iloc[start:start + train_size]\n",
    "            test = data.iloc[start + train_size:start + train_size + test_size]\n",
    "            yield train, test\n",
    "            start += step_size\n",
    "\n",
    "    def objective_function(self, result):\n",
    "        \"\"\"\n",
    "        Calculate the objective function for the optimization.\n",
    "\n",
    "        Note that we have only included objective functions that we want to maximize.\n",
    "        \"\"\"\n",
    "        if 'strategy' not in result.columns:\n",
    "            print(\"No strategy column in result\")\n",
    "            return 0\n",
    "\n",
    "        strategy = result['strategy'].apply(np.exp) - 1\n",
    "\n",
    "        if strategy.sum() == 0:\n",
    "            return 0\n",
    "\n",
    "        try:\n",
    "            if self.objective == \"multiple\":\n",
    "                creturns = result['strategy'].cumsum().apply(np.exp)\n",
    "                performance = creturns.iloc[-1]\n",
    "            elif self.objective == \"sharpe\":\n",
    "                performance = qs.stats.sharpe(strategy)\n",
    "            elif self.objective == \"sortino\":\n",
    "                performance = qs.stats.sortino(strategy)\n",
    "            elif self.objective == \"calmar\": \n",
    "                performance = qs.stats.calmar(strategy)\n",
    "            else:\n",
    "                raise ValueError(\"Invalid objective function\")\n",
    "        except Exception as e:\n",
    "            print(f\"Error calculating performance: {e}\")\n",
    "            performance = 0\n",
    "\n",
    "        return performance\n",
    "    \n",
    "    def opt_freq(self, opt_freq):\n",
    "        time_diff = self.data.unstack().index.get_level_values(0)[1] - self.data.unstack().index.get_level_values(0)[0]\n",
    "\n",
    "        if opt_freq == 'daily':\n",
    "            return pd.Timedelta('1 day') // time_diff\n",
    "        elif opt_freq == 'weekly':\n",
    "            return pd.Timedelta('1 w') // time_diff\n",
    "        elif opt_freq == 'monthly':\n",
    "            return pd.Timedelta('1 m') // time_diff\n",
    "        elif opt_freq == 'quarterly':\n",
    "            return pd.Timedelta('3 m') // time_diff\n",
    "        elif opt_freq == 'semi-annually':\n",
    "            return pd.Timedelta('6 m') // time_diff\n",
    "        elif opt_freq == 'yearly':\n",
    "            return pd.Timedelta('1 y') // time_diff\n",
    "        else:\n",
    "            raise ValueError(\"Invalid optimization frequency\")\n",
    "    \n",
    "    \n",
    "\n",
    "\n",
    "\n",
    "    #### Optimization Methods ####\n",
    "    def optimize_parameters_grid(self, train_data, param_space):\n",
    "        #Check if the parameter space is iterable (for ParameterGrid compatibility)\n",
    "        if not any([isinstance(param_range, Iterable) for param_range in param_space.values()]):\n",
    "            param_grid = self.convert_param_space(param_space, n_samples=20)\n",
    "        else:\n",
    "            param_grid = param_space\n",
    "        \n",
    "        print([param_space])\n",
    "        best_params = None\n",
    "        best_objective = -np.inf\n",
    "        for params in ParameterGrid(param_grid):\n",
    "            print(params)\n",
    "            # print(train_data)\n",
    "            result = self.trading_strategy(train_data.copy(), params = params)\n",
    "            if result is None or len(result) == 0:\n",
    "                continue\n",
    "            # print(result)\n",
    "            objective = self.objective_function(result)\n",
    "            print(objective)\n",
    "            if objective > best_objective:\n",
    "                best_objective = objective\n",
    "                best_params = params\n",
    "        return best_params\n",
    "\n",
    "    def optimize_parameters_gp(self, train_data, param_space):\n",
    "\n",
    "        if isinstance(param_space, dict):\n",
    "            param_space = self.dict_to_param_space(param_space)\n",
    "\n",
    "        def objective(param_space):\n",
    "            result = self.trading_strategy(train_data.copy(), params = param_space)\n",
    "            # Use negative performance because gp_minimize minimizes\n",
    "            objective = self.objective_function(result) \n",
    "            print(objective)\n",
    "            return -objective if not pd.isnull(objective) else 1e10  # Handle invalid values\n",
    "\n",
    "        # Run gp_minimize\n",
    "        result = gp_minimize(\n",
    "            func=objective,\n",
    "            dimensions=param_space,\n",
    "            n_calls=10,  # Number of evaluations\n",
    "            random_state=42,\n",
    "        )\n",
    "        \n",
    "        # Extract the best parameters\n",
    "        best_params = {dim.name: val for dim, val in zip(param_space, result.x)}\n",
    "        print(best_params)\n",
    "        print(result.x)\n",
    "        return best_params\n",
    "\n",
    "   \n",
    "    def test_strategy(self, test_data, best_params):\n",
    "        result = self.trading_strategy(test_data.copy(), **best_params)\n",
    "        peformance = self.objective_function(result)\n",
    "        return peformance, result\n",
    "\n",
    "\n",
    "    def walk_forward_optimization(self):\n",
    "        \"\"\"\n",
    "        Perform a walk-forward optimization on a dataset.\n",
    "        \"\"\"\n",
    "        all_performance = []\n",
    "        all_results = []\n",
    "        for train, test in self.split_data(self.data, self.train_size, self.test_size, self.step_size):\n",
    "            # Optimize on training data\n",
    "            if self.optimize_fn == \"grid\":\n",
    "                best_params = self.optimize_parameters_grid(train, self.param_grid)\n",
    "            elif self.optimize_fn == \"gp\":\n",
    "                best_params = self.optimize_parameters_gp(train, self.param_grid)\n",
    "            \n",
    "            # Test on out-of-sample data\n",
    "            performance, result = self.test_strategy(test, best_params)\n",
    "            print(f\"Out-of-sample performance: {performance}\")\n",
    "            \n",
    "            all_performance.append(performance)\n",
    "            all_results.append(result)\n",
    "        \n",
    "        all_results = pd.concat(all_results)\n",
    "        return all_performance, all_results\n"
   ]
  },
  {
   "cell_type": "code",
   "execution_count": 93,
   "metadata": {},
   "outputs": [
    {
     "name": "stderr",
     "output_type": "stream",
     "text": [
      "C:\\Users\\yassi\\AppData\\Local\\Temp\\ipykernel_21084\\3841925515.py:58: FutureWarning: The previous implementation of stack is deprecated and will be removed in a future version of pandas. See the What's New notes for pandas 2.1.0 for details. Specify future_stack=True to adopt the new implementation and silence this warning.\n",
      "  df = df.stack()\n",
      "C:\\Users\\yassi\\AppData\\Local\\Temp\\ipykernel_21084\\3841925515.py:58: FutureWarning: The previous implementation of stack is deprecated and will be removed in a future version of pandas. See the What's New notes for pandas 2.1.0 for details. Specify future_stack=True to adopt the new implementation and silence this warning.\n",
      "  df = df.stack()\n",
      "C:\\Users\\yassi\\AppData\\Local\\Temp\\ipykernel_21084\\3841925515.py:58: FutureWarning: The previous implementation of stack is deprecated and will be removed in a future version of pandas. See the What's New notes for pandas 2.1.0 for details. Specify future_stack=True to adopt the new implementation and silence this warning.\n",
      "  df = df.stack()\n"
     ]
    },
    {
     "name": "stdout",
     "output_type": "stream",
     "text": [
      "0\n"
     ]
    },
    {
     "name": "stderr",
     "output_type": "stream",
     "text": [
      "C:\\Users\\yassi\\AppData\\Local\\Temp\\ipykernel_21084\\3841925515.py:58: FutureWarning: The previous implementation of stack is deprecated and will be removed in a future version of pandas. See the What's New notes for pandas 2.1.0 for details. Specify future_stack=True to adopt the new implementation and silence this warning.\n",
      "  df = df.stack()\n"
     ]
    },
    {
     "name": "stdout",
     "output_type": "stream",
     "text": [
      "0.9999932948375532\n"
     ]
    },
    {
     "name": "stderr",
     "output_type": "stream",
     "text": [
      "C:\\Users\\yassi\\AppData\\Local\\Temp\\ipykernel_21084\\3841925515.py:58: FutureWarning: The previous implementation of stack is deprecated and will be removed in a future version of pandas. See the What's New notes for pandas 2.1.0 for details. Specify future_stack=True to adopt the new implementation and silence this warning.\n",
      "  df = df.stack()\n"
     ]
    },
    {
     "name": "stdout",
     "output_type": "stream",
     "text": [
      "1.0524327228809613\n"
     ]
    },
    {
     "name": "stderr",
     "output_type": "stream",
     "text": [
      "C:\\Users\\yassi\\AppData\\Local\\Temp\\ipykernel_21084\\3841925515.py:58: FutureWarning: The previous implementation of stack is deprecated and will be removed in a future version of pandas. See the What's New notes for pandas 2.1.0 for details. Specify future_stack=True to adopt the new implementation and silence this warning.\n",
      "  df = df.stack()\n"
     ]
    },
    {
     "name": "stdout",
     "output_type": "stream",
     "text": [
      "0\n"
     ]
    },
    {
     "name": "stderr",
     "output_type": "stream",
     "text": [
      "C:\\Users\\yassi\\AppData\\Local\\Temp\\ipykernel_21084\\3841925515.py:58: FutureWarning: The previous implementation of stack is deprecated and will be removed in a future version of pandas. See the What's New notes for pandas 2.1.0 for details. Specify future_stack=True to adopt the new implementation and silence this warning.\n",
      "  df = df.stack()\n"
     ]
    },
    {
     "name": "stdout",
     "output_type": "stream",
     "text": [
      "1.0313157644722188\n"
     ]
    },
    {
     "name": "stderr",
     "output_type": "stream",
     "text": [
      "C:\\Users\\yassi\\AppData\\Local\\Temp\\ipykernel_21084\\3841925515.py:58: FutureWarning: The previous implementation of stack is deprecated and will be removed in a future version of pandas. See the What's New notes for pandas 2.1.0 for details. Specify future_stack=True to adopt the new implementation and silence this warning.\n",
      "  df = df.stack()\n"
     ]
    },
    {
     "name": "stdout",
     "output_type": "stream",
     "text": [
      "0\n"
     ]
    },
    {
     "name": "stderr",
     "output_type": "stream",
     "text": [
      "C:\\Users\\yassi\\AppData\\Local\\Temp\\ipykernel_21084\\3841925515.py:58: FutureWarning: The previous implementation of stack is deprecated and will be removed in a future version of pandas. See the What's New notes for pandas 2.1.0 for details. Specify future_stack=True to adopt the new implementation and silence this warning.\n",
      "  df = df.stack()\n"
     ]
    },
    {
     "name": "stdout",
     "output_type": "stream",
     "text": [
      "0\n"
     ]
    },
    {
     "name": "stderr",
     "output_type": "stream",
     "text": [
      "C:\\Users\\yassi\\AppData\\Local\\Temp\\ipykernel_21084\\3841925515.py:58: FutureWarning: The previous implementation of stack is deprecated and will be removed in a future version of pandas. See the What's New notes for pandas 2.1.0 for details. Specify future_stack=True to adopt the new implementation and silence this warning.\n",
      "  df = df.stack()\n"
     ]
    },
    {
     "name": "stdout",
     "output_type": "stream",
     "text": [
      "0\n"
     ]
    },
    {
     "name": "stderr",
     "output_type": "stream",
     "text": [
      "C:\\Users\\yassi\\AppData\\Local\\Temp\\ipykernel_21084\\3841925515.py:58: FutureWarning: The previous implementation of stack is deprecated and will be removed in a future version of pandas. See the What's New notes for pandas 2.1.0 for details. Specify future_stack=True to adopt the new implementation and silence this warning.\n",
      "  df = df.stack()\n"
     ]
    },
    {
     "name": "stdout",
     "output_type": "stream",
     "text": [
      "0\n"
     ]
    },
    {
     "name": "stderr",
     "output_type": "stream",
     "text": [
      "C:\\Users\\yassi\\AppData\\Local\\Temp\\ipykernel_21084\\3841925515.py:58: FutureWarning: The previous implementation of stack is deprecated and will be removed in a future version of pandas. See the What's New notes for pandas 2.1.0 for details. Specify future_stack=True to adopt the new implementation and silence this warning.\n",
      "  df = df.stack()\n"
     ]
    },
    {
     "name": "stdout",
     "output_type": "stream",
     "text": [
      "0\n",
      "{'std_window': 7, 'mean_window': 20, 'ema_window': 41, 'hourly_lookback': 3, 'daily_lookback': 2, '_min_pos': 0.2149851016840802, '_max_pos': 1.0204613078816698, 'sl_ind_length': 25, 'sl_ind_mult': 0.5596923252193994, 'tp_mult': 2, 'ptp_mult': 0.7816441089227697, 'ptp_exit_percent': 0.4468748522859246}\n",
      "[7, 20, 41, 3, 2, 0.2149851016840802, 1.0204613078816698, 25, 0.5596923252193994, 2, 0.7816441089227697, 0.4468748522859246]\n"
     ]
    },
    {
     "name": "stderr",
     "output_type": "stream",
     "text": [
      "C:\\Users\\yassi\\AppData\\Local\\Temp\\ipykernel_21084\\3841925515.py:58: FutureWarning: The previous implementation of stack is deprecated and will be removed in a future version of pandas. See the What's New notes for pandas 2.1.0 for details. Specify future_stack=True to adopt the new implementation and silence this warning.\n",
      "  df = df.stack()\n"
     ]
    },
    {
     "name": "stdout",
     "output_type": "stream",
     "text": [
      "Out-of-sample performance: 1.042601109367121\n"
     ]
    },
    {
     "name": "stderr",
     "output_type": "stream",
     "text": [
      "C:\\Users\\yassi\\AppData\\Local\\Temp\\ipykernel_21084\\3841925515.py:58: FutureWarning: The previous implementation of stack is deprecated and will be removed in a future version of pandas. See the What's New notes for pandas 2.1.0 for details. Specify future_stack=True to adopt the new implementation and silence this warning.\n",
      "  df = df.stack()\n"
     ]
    },
    {
     "name": "stdout",
     "output_type": "stream",
     "text": [
      "1.0097216766292192\n"
     ]
    },
    {
     "name": "stderr",
     "output_type": "stream",
     "text": [
      "C:\\Users\\yassi\\AppData\\Local\\Temp\\ipykernel_21084\\3841925515.py:58: FutureWarning: The previous implementation of stack is deprecated and will be removed in a future version of pandas. See the What's New notes for pandas 2.1.0 for details. Specify future_stack=True to adopt the new implementation and silence this warning.\n",
      "  df = df.stack()\n"
     ]
    },
    {
     "name": "stdout",
     "output_type": "stream",
     "text": [
      "1.0020617404885492\n"
     ]
    },
    {
     "name": "stderr",
     "output_type": "stream",
     "text": [
      "C:\\Users\\yassi\\AppData\\Local\\Temp\\ipykernel_21084\\3841925515.py:58: FutureWarning: The previous implementation of stack is deprecated and will be removed in a future version of pandas. See the What's New notes for pandas 2.1.0 for details. Specify future_stack=True to adopt the new implementation and silence this warning.\n",
      "  df = df.stack()\n"
     ]
    },
    {
     "name": "stdout",
     "output_type": "stream",
     "text": [
      "1.042601109367121\n"
     ]
    },
    {
     "name": "stderr",
     "output_type": "stream",
     "text": [
      "C:\\Users\\yassi\\AppData\\Local\\Temp\\ipykernel_21084\\3841925515.py:58: FutureWarning: The previous implementation of stack is deprecated and will be removed in a future version of pandas. See the What's New notes for pandas 2.1.0 for details. Specify future_stack=True to adopt the new implementation and silence this warning.\n",
      "  df = df.stack()\n"
     ]
    },
    {
     "name": "stdout",
     "output_type": "stream",
     "text": [
      "1.034892101802211\n"
     ]
    },
    {
     "name": "stderr",
     "output_type": "stream",
     "text": [
      "C:\\Users\\yassi\\AppData\\Local\\Temp\\ipykernel_21084\\3841925515.py:58: FutureWarning: The previous implementation of stack is deprecated and will be removed in a future version of pandas. See the What's New notes for pandas 2.1.0 for details. Specify future_stack=True to adopt the new implementation and silence this warning.\n",
      "  df = df.stack()\n"
     ]
    },
    {
     "name": "stdout",
     "output_type": "stream",
     "text": [
      "1.0398103406978618\n"
     ]
    },
    {
     "name": "stderr",
     "output_type": "stream",
     "text": [
      "C:\\Users\\yassi\\AppData\\Local\\Temp\\ipykernel_21084\\3841925515.py:58: FutureWarning: The previous implementation of stack is deprecated and will be removed in a future version of pandas. See the What's New notes for pandas 2.1.0 for details. Specify future_stack=True to adopt the new implementation and silence this warning.\n",
      "  df = df.stack()\n"
     ]
    },
    {
     "name": "stdout",
     "output_type": "stream",
     "text": [
      "1.0119580388753815\n"
     ]
    },
    {
     "name": "stderr",
     "output_type": "stream",
     "text": [
      "C:\\Users\\yassi\\AppData\\Local\\Temp\\ipykernel_21084\\3841925515.py:58: FutureWarning: The previous implementation of stack is deprecated and will be removed in a future version of pandas. See the What's New notes for pandas 2.1.0 for details. Specify future_stack=True to adopt the new implementation and silence this warning.\n",
      "  df = df.stack()\n"
     ]
    },
    {
     "name": "stdout",
     "output_type": "stream",
     "text": [
      "1.0888004882794544\n"
     ]
    },
    {
     "name": "stderr",
     "output_type": "stream",
     "text": [
      "C:\\Users\\yassi\\AppData\\Local\\Temp\\ipykernel_21084\\3841925515.py:58: FutureWarning: The previous implementation of stack is deprecated and will be removed in a future version of pandas. See the What's New notes for pandas 2.1.0 for details. Specify future_stack=True to adopt the new implementation and silence this warning.\n",
      "  df = df.stack()\n"
     ]
    },
    {
     "name": "stdout",
     "output_type": "stream",
     "text": [
      "1.066940321100067\n"
     ]
    },
    {
     "name": "stderr",
     "output_type": "stream",
     "text": [
      "C:\\Users\\yassi\\AppData\\Local\\Temp\\ipykernel_21084\\3841925515.py:58: FutureWarning: The previous implementation of stack is deprecated and will be removed in a future version of pandas. See the What's New notes for pandas 2.1.0 for details. Specify future_stack=True to adopt the new implementation and silence this warning.\n",
      "  df = df.stack()\n"
     ]
    },
    {
     "name": "stdout",
     "output_type": "stream",
     "text": [
      "0\n"
     ]
    },
    {
     "name": "stderr",
     "output_type": "stream",
     "text": [
      "C:\\Users\\yassi\\AppData\\Local\\Temp\\ipykernel_21084\\3841925515.py:58: FutureWarning: The previous implementation of stack is deprecated and will be removed in a future version of pandas. See the What's New notes for pandas 2.1.0 for details. Specify future_stack=True to adopt the new implementation and silence this warning.\n",
      "  df = df.stack()\n"
     ]
    },
    {
     "name": "stdout",
     "output_type": "stream",
     "text": [
      "1.0149768337856067\n",
      "{'std_window': 5, 'mean_window': 10, 'ema_window': 73, 'hourly_lookback': 3, 'daily_lookback': 2, '_min_pos': 0.2315752196283373, '_max_pos': 0.9766155382529169, 'sl_ind_length': 46, 'sl_ind_mult': 4.325173600054098, 'tp_mult': 1, 'ptp_mult': 0.5477050582452057, 'ptp_exit_percent': 0.43373642697843984}\n",
      "[5, 10, 73, 3, 2, 0.2315752196283373, 0.9766155382529169, 46, 4.325173600054098, 1, 0.5477050582452057, 0.43373642697843984]\n"
     ]
    },
    {
     "name": "stderr",
     "output_type": "stream",
     "text": [
      "C:\\Users\\yassi\\AppData\\Local\\Temp\\ipykernel_21084\\3841925515.py:58: FutureWarning: The previous implementation of stack is deprecated and will be removed in a future version of pandas. See the What's New notes for pandas 2.1.0 for details. Specify future_stack=True to adopt the new implementation and silence this warning.\n",
      "  df = df.stack()\n"
     ]
    },
    {
     "name": "stdout",
     "output_type": "stream",
     "text": [
      "Out-of-sample performance: 0\n"
     ]
    },
    {
     "name": "stderr",
     "output_type": "stream",
     "text": [
      "C:\\Users\\yassi\\AppData\\Local\\Temp\\ipykernel_21084\\3841925515.py:58: FutureWarning: The previous implementation of stack is deprecated and will be removed in a future version of pandas. See the What's New notes for pandas 2.1.0 for details. Specify future_stack=True to adopt the new implementation and silence this warning.\n",
      "  df = df.stack()\n"
     ]
    },
    {
     "name": "stdout",
     "output_type": "stream",
     "text": [
      "1.0666719656858752\n"
     ]
    },
    {
     "name": "stderr",
     "output_type": "stream",
     "text": [
      "C:\\Users\\yassi\\AppData\\Local\\Temp\\ipykernel_21084\\3841925515.py:58: FutureWarning: The previous implementation of stack is deprecated and will be removed in a future version of pandas. See the What's New notes for pandas 2.1.0 for details. Specify future_stack=True to adopt the new implementation and silence this warning.\n",
      "  df = df.stack()\n"
     ]
    },
    {
     "name": "stdout",
     "output_type": "stream",
     "text": [
      "1.0060927233644232\n"
     ]
    },
    {
     "name": "stderr",
     "output_type": "stream",
     "text": [
      "C:\\Users\\yassi\\AppData\\Local\\Temp\\ipykernel_21084\\3841925515.py:58: FutureWarning: The previous implementation of stack is deprecated and will be removed in a future version of pandas. See the What's New notes for pandas 2.1.0 for details. Specify future_stack=True to adopt the new implementation and silence this warning.\n",
      "  df = df.stack()\n"
     ]
    },
    {
     "name": "stdout",
     "output_type": "stream",
     "text": [
      "0.9422764424879362\n"
     ]
    },
    {
     "name": "stderr",
     "output_type": "stream",
     "text": [
      "C:\\Users\\yassi\\AppData\\Local\\Temp\\ipykernel_21084\\3841925515.py:58: FutureWarning: The previous implementation of stack is deprecated and will be removed in a future version of pandas. See the What's New notes for pandas 2.1.0 for details. Specify future_stack=True to adopt the new implementation and silence this warning.\n",
      "  df = df.stack()\n"
     ]
    },
    {
     "name": "stdout",
     "output_type": "stream",
     "text": [
      "0\n"
     ]
    },
    {
     "name": "stderr",
     "output_type": "stream",
     "text": [
      "C:\\Users\\yassi\\AppData\\Local\\Temp\\ipykernel_21084\\3841925515.py:58: FutureWarning: The previous implementation of stack is deprecated and will be removed in a future version of pandas. See the What's New notes for pandas 2.1.0 for details. Specify future_stack=True to adopt the new implementation and silence this warning.\n",
      "  df = df.stack()\n"
     ]
    },
    {
     "name": "stdout",
     "output_type": "stream",
     "text": [
      "0.9426254886411188\n"
     ]
    },
    {
     "name": "stderr",
     "output_type": "stream",
     "text": [
      "C:\\Users\\yassi\\AppData\\Local\\Temp\\ipykernel_21084\\3841925515.py:58: FutureWarning: The previous implementation of stack is deprecated and will be removed in a future version of pandas. See the What's New notes for pandas 2.1.0 for details. Specify future_stack=True to adopt the new implementation and silence this warning.\n",
      "  df = df.stack()\n"
     ]
    },
    {
     "name": "stdout",
     "output_type": "stream",
     "text": [
      "0.9555511203802906\n"
     ]
    },
    {
     "name": "stderr",
     "output_type": "stream",
     "text": [
      "C:\\Users\\yassi\\AppData\\Local\\Temp\\ipykernel_21084\\3841925515.py:58: FutureWarning: The previous implementation of stack is deprecated and will be removed in a future version of pandas. See the What's New notes for pandas 2.1.0 for details. Specify future_stack=True to adopt the new implementation and silence this warning.\n",
      "  df = df.stack()\n"
     ]
    },
    {
     "name": "stdout",
     "output_type": "stream",
     "text": [
      "0\n"
     ]
    },
    {
     "name": "stderr",
     "output_type": "stream",
     "text": [
      "C:\\Users\\yassi\\AppData\\Local\\Temp\\ipykernel_21084\\3841925515.py:58: FutureWarning: The previous implementation of stack is deprecated and will be removed in a future version of pandas. See the What's New notes for pandas 2.1.0 for details. Specify future_stack=True to adopt the new implementation and silence this warning.\n",
      "  df = df.stack()\n"
     ]
    },
    {
     "name": "stdout",
     "output_type": "stream",
     "text": [
      "0\n"
     ]
    },
    {
     "name": "stderr",
     "output_type": "stream",
     "text": [
      "C:\\Users\\yassi\\AppData\\Local\\Temp\\ipykernel_21084\\3841925515.py:58: FutureWarning: The previous implementation of stack is deprecated and will be removed in a future version of pandas. See the What's New notes for pandas 2.1.0 for details. Specify future_stack=True to adopt the new implementation and silence this warning.\n",
      "  df = df.stack()\n"
     ]
    },
    {
     "name": "stdout",
     "output_type": "stream",
     "text": [
      "0\n"
     ]
    },
    {
     "name": "stderr",
     "output_type": "stream",
     "text": [
      "C:\\Users\\yassi\\AppData\\Local\\Temp\\ipykernel_21084\\3841925515.py:58: FutureWarning: The previous implementation of stack is deprecated and will be removed in a future version of pandas. See the What's New notes for pandas 2.1.0 for details. Specify future_stack=True to adopt the new implementation and silence this warning.\n",
      "  df = df.stack()\n"
     ]
    },
    {
     "name": "stdout",
     "output_type": "stream",
     "text": [
      "0.9682224855417721\n",
      "{'std_window': 25, 'mean_window': 10, 'ema_window': 79, 'hourly_lookback': 2, 'daily_lookback': 2, '_min_pos': 0.024993728954500728, '_max_pos': 0.6888733379488009, 'sl_ind_length': 20, 'sl_ind_mult': 1.1429006806487336, 'tp_mult': 2, 'ptp_mult': 0.5282057895135501, 'ptp_exit_percent': 0.7497988950401424}\n",
      "[25, 10, 79, 2, 2, 0.024993728954500728, 0.6888733379488009, 20, 1.1429006806487336, 2, 0.5282057895135501, 0.7497988950401424]\n"
     ]
    },
    {
     "name": "stderr",
     "output_type": "stream",
     "text": [
      "C:\\Users\\yassi\\AppData\\Local\\Temp\\ipykernel_21084\\3841925515.py:58: FutureWarning: The previous implementation of stack is deprecated and will be removed in a future version of pandas. See the What's New notes for pandas 2.1.0 for details. Specify future_stack=True to adopt the new implementation and silence this warning.\n",
      "  df = df.stack()\n"
     ]
    },
    {
     "name": "stdout",
     "output_type": "stream",
     "text": [
      "Out-of-sample performance: 0\n"
     ]
    },
    {
     "name": "stderr",
     "output_type": "stream",
     "text": [
      "C:\\Users\\yassi\\AppData\\Local\\Temp\\ipykernel_21084\\3841925515.py:58: FutureWarning: The previous implementation of stack is deprecated and will be removed in a future version of pandas. See the What's New notes for pandas 2.1.0 for details. Specify future_stack=True to adopt the new implementation and silence this warning.\n",
      "  df = df.stack()\n"
     ]
    },
    {
     "name": "stdout",
     "output_type": "stream",
     "text": [
      "0\n"
     ]
    },
    {
     "name": "stderr",
     "output_type": "stream",
     "text": [
      "C:\\Users\\yassi\\AppData\\Local\\Temp\\ipykernel_21084\\3841925515.py:58: FutureWarning: The previous implementation of stack is deprecated and will be removed in a future version of pandas. See the What's New notes for pandas 2.1.0 for details. Specify future_stack=True to adopt the new implementation and silence this warning.\n",
      "  df = df.stack()\n"
     ]
    },
    {
     "name": "stdout",
     "output_type": "stream",
     "text": [
      "0\n"
     ]
    },
    {
     "name": "stderr",
     "output_type": "stream",
     "text": [
      "C:\\Users\\yassi\\AppData\\Local\\Temp\\ipykernel_21084\\3841925515.py:58: FutureWarning: The previous implementation of stack is deprecated and will be removed in a future version of pandas. See the What's New notes for pandas 2.1.0 for details. Specify future_stack=True to adopt the new implementation and silence this warning.\n",
      "  df = df.stack()\n"
     ]
    },
    {
     "name": "stdout",
     "output_type": "stream",
     "text": [
      "0\n"
     ]
    },
    {
     "name": "stderr",
     "output_type": "stream",
     "text": [
      "C:\\Users\\yassi\\AppData\\Local\\Temp\\ipykernel_21084\\3841925515.py:58: FutureWarning: The previous implementation of stack is deprecated and will be removed in a future version of pandas. See the What's New notes for pandas 2.1.0 for details. Specify future_stack=True to adopt the new implementation and silence this warning.\n",
      "  df = df.stack()\n"
     ]
    },
    {
     "name": "stdout",
     "output_type": "stream",
     "text": [
      "0\n"
     ]
    },
    {
     "name": "stderr",
     "output_type": "stream",
     "text": [
      "C:\\Users\\yassi\\AppData\\Local\\Temp\\ipykernel_21084\\3841925515.py:58: FutureWarning: The previous implementation of stack is deprecated and will be removed in a future version of pandas. See the What's New notes for pandas 2.1.0 for details. Specify future_stack=True to adopt the new implementation and silence this warning.\n",
      "  df = df.stack()\n"
     ]
    },
    {
     "name": "stdout",
     "output_type": "stream",
     "text": [
      "0\n"
     ]
    },
    {
     "name": "stderr",
     "output_type": "stream",
     "text": [
      "C:\\Users\\yassi\\AppData\\Local\\Temp\\ipykernel_21084\\3841925515.py:58: FutureWarning: The previous implementation of stack is deprecated and will be removed in a future version of pandas. See the What's New notes for pandas 2.1.0 for details. Specify future_stack=True to adopt the new implementation and silence this warning.\n",
      "  df = df.stack()\n"
     ]
    },
    {
     "name": "stdout",
     "output_type": "stream",
     "text": [
      "0\n"
     ]
    },
    {
     "name": "stderr",
     "output_type": "stream",
     "text": [
      "C:\\Users\\yassi\\AppData\\Local\\Temp\\ipykernel_21084\\3841925515.py:58: FutureWarning: The previous implementation of stack is deprecated and will be removed in a future version of pandas. See the What's New notes for pandas 2.1.0 for details. Specify future_stack=True to adopt the new implementation and silence this warning.\n",
      "  df = df.stack()\n"
     ]
    },
    {
     "name": "stdout",
     "output_type": "stream",
     "text": [
      "0\n"
     ]
    },
    {
     "name": "stderr",
     "output_type": "stream",
     "text": [
      "C:\\Users\\yassi\\AppData\\Local\\Temp\\ipykernel_21084\\3841925515.py:58: FutureWarning: The previous implementation of stack is deprecated and will be removed in a future version of pandas. See the What's New notes for pandas 2.1.0 for details. Specify future_stack=True to adopt the new implementation and silence this warning.\n",
      "  df = df.stack()\n"
     ]
    },
    {
     "name": "stdout",
     "output_type": "stream",
     "text": [
      "0\n"
     ]
    },
    {
     "name": "stderr",
     "output_type": "stream",
     "text": [
      "C:\\Users\\yassi\\AppData\\Local\\Temp\\ipykernel_21084\\3841925515.py:58: FutureWarning: The previous implementation of stack is deprecated and will be removed in a future version of pandas. See the What's New notes for pandas 2.1.0 for details. Specify future_stack=True to adopt the new implementation and silence this warning.\n",
      "  df = df.stack()\n"
     ]
    },
    {
     "name": "stdout",
     "output_type": "stream",
     "text": [
      "0\n"
     ]
    },
    {
     "name": "stderr",
     "output_type": "stream",
     "text": [
      "C:\\Users\\yassi\\AppData\\Local\\Temp\\ipykernel_21084\\3841925515.py:58: FutureWarning: The previous implementation of stack is deprecated and will be removed in a future version of pandas. See the What's New notes for pandas 2.1.0 for details. Specify future_stack=True to adopt the new implementation and silence this warning.\n",
      "  df = df.stack()\n"
     ]
    },
    {
     "name": "stdout",
     "output_type": "stream",
     "text": [
      "0\n",
      "{'std_window': 25, 'mean_window': 10, 'ema_window': 79, 'hourly_lookback': 2, 'daily_lookback': 2, '_min_pos': 0.024993728954500728, '_max_pos': 0.6888733379488009, 'sl_ind_length': 20, 'sl_ind_mult': 1.1429006806487336, 'tp_mult': 2, 'ptp_mult': 0.5282057895135501, 'ptp_exit_percent': 0.7497988950401424}\n",
      "[25, 10, 79, 2, 2, 0.024993728954500728, 0.6888733379488009, 20, 1.1429006806487336, 2, 0.5282057895135501, 0.7497988950401424]\n"
     ]
    },
    {
     "name": "stderr",
     "output_type": "stream",
     "text": [
      "C:\\Users\\yassi\\AppData\\Local\\Temp\\ipykernel_21084\\3841925515.py:58: FutureWarning: The previous implementation of stack is deprecated and will be removed in a future version of pandas. See the What's New notes for pandas 2.1.0 for details. Specify future_stack=True to adopt the new implementation and silence this warning.\n",
      "  df = df.stack()\n"
     ]
    },
    {
     "name": "stdout",
     "output_type": "stream",
     "text": [
      "Out-of-sample performance: 0\n"
     ]
    },
    {
     "name": "stderr",
     "output_type": "stream",
     "text": [
      "C:\\Users\\yassi\\AppData\\Local\\Temp\\ipykernel_21084\\3841925515.py:58: FutureWarning: The previous implementation of stack is deprecated and will be removed in a future version of pandas. See the What's New notes for pandas 2.1.0 for details. Specify future_stack=True to adopt the new implementation and silence this warning.\n",
      "  df = df.stack()\n"
     ]
    },
    {
     "name": "stdout",
     "output_type": "stream",
     "text": [
      "0\n"
     ]
    },
    {
     "name": "stderr",
     "output_type": "stream",
     "text": [
      "C:\\Users\\yassi\\AppData\\Local\\Temp\\ipykernel_21084\\3841925515.py:58: FutureWarning: The previous implementation of stack is deprecated and will be removed in a future version of pandas. See the What's New notes for pandas 2.1.0 for details. Specify future_stack=True to adopt the new implementation and silence this warning.\n",
      "  df = df.stack()\n"
     ]
    },
    {
     "name": "stdout",
     "output_type": "stream",
     "text": [
      "0\n"
     ]
    },
    {
     "name": "stderr",
     "output_type": "stream",
     "text": [
      "C:\\Users\\yassi\\AppData\\Local\\Temp\\ipykernel_21084\\3841925515.py:58: FutureWarning: The previous implementation of stack is deprecated and will be removed in a future version of pandas. See the What's New notes for pandas 2.1.0 for details. Specify future_stack=True to adopt the new implementation and silence this warning.\n",
      "  df = df.stack()\n"
     ]
    },
    {
     "name": "stdout",
     "output_type": "stream",
     "text": [
      "1.0553348613595634\n"
     ]
    },
    {
     "name": "stderr",
     "output_type": "stream",
     "text": [
      "C:\\Users\\yassi\\AppData\\Local\\Temp\\ipykernel_21084\\3841925515.py:58: FutureWarning: The previous implementation of stack is deprecated and will be removed in a future version of pandas. See the What's New notes for pandas 2.1.0 for details. Specify future_stack=True to adopt the new implementation and silence this warning.\n",
      "  df = df.stack()\n"
     ]
    },
    {
     "name": "stdout",
     "output_type": "stream",
     "text": [
      "1.055371168256993\n"
     ]
    },
    {
     "name": "stderr",
     "output_type": "stream",
     "text": [
      "C:\\Users\\yassi\\AppData\\Local\\Temp\\ipykernel_21084\\3841925515.py:58: FutureWarning: The previous implementation of stack is deprecated and will be removed in a future version of pandas. See the What's New notes for pandas 2.1.0 for details. Specify future_stack=True to adopt the new implementation and silence this warning.\n",
      "  df = df.stack()\n"
     ]
    },
    {
     "name": "stdout",
     "output_type": "stream",
     "text": [
      "0\n"
     ]
    },
    {
     "name": "stderr",
     "output_type": "stream",
     "text": [
      "C:\\Users\\yassi\\AppData\\Local\\Temp\\ipykernel_21084\\3841925515.py:58: FutureWarning: The previous implementation of stack is deprecated and will be removed in a future version of pandas. See the What's New notes for pandas 2.1.0 for details. Specify future_stack=True to adopt the new implementation and silence this warning.\n",
      "  df = df.stack()\n"
     ]
    },
    {
     "name": "stdout",
     "output_type": "stream",
     "text": [
      "0\n"
     ]
    },
    {
     "name": "stderr",
     "output_type": "stream",
     "text": [
      "C:\\Users\\yassi\\AppData\\Local\\Temp\\ipykernel_21084\\3841925515.py:58: FutureWarning: The previous implementation of stack is deprecated and will be removed in a future version of pandas. See the What's New notes for pandas 2.1.0 for details. Specify future_stack=True to adopt the new implementation and silence this warning.\n",
      "  df = df.stack()\n"
     ]
    },
    {
     "name": "stdout",
     "output_type": "stream",
     "text": [
      "0\n"
     ]
    },
    {
     "name": "stderr",
     "output_type": "stream",
     "text": [
      "C:\\Users\\yassi\\AppData\\Local\\Temp\\ipykernel_21084\\3841925515.py:58: FutureWarning: The previous implementation of stack is deprecated and will be removed in a future version of pandas. See the What's New notes for pandas 2.1.0 for details. Specify future_stack=True to adopt the new implementation and silence this warning.\n",
      "  df = df.stack()\n"
     ]
    },
    {
     "name": "stdout",
     "output_type": "stream",
     "text": [
      "0\n"
     ]
    },
    {
     "name": "stderr",
     "output_type": "stream",
     "text": [
      "C:\\Users\\yassi\\AppData\\Local\\Temp\\ipykernel_21084\\3841925515.py:58: FutureWarning: The previous implementation of stack is deprecated and will be removed in a future version of pandas. See the What's New notes for pandas 2.1.0 for details. Specify future_stack=True to adopt the new implementation and silence this warning.\n",
      "  df = df.stack()\n"
     ]
    },
    {
     "name": "stdout",
     "output_type": "stream",
     "text": [
      "0\n"
     ]
    },
    {
     "name": "stderr",
     "output_type": "stream",
     "text": [
      "C:\\Users\\yassi\\AppData\\Local\\Temp\\ipykernel_21084\\3841925515.py:58: FutureWarning: The previous implementation of stack is deprecated and will be removed in a future version of pandas. See the What's New notes for pandas 2.1.0 for details. Specify future_stack=True to adopt the new implementation and silence this warning.\n",
      "  df = df.stack()\n"
     ]
    },
    {
     "name": "stdout",
     "output_type": "stream",
     "text": [
      "0\n",
      "{'std_window': 5, 'mean_window': 11, 'ema_window': 28, 'hourly_lookback': 2, 'daily_lookback': 2, '_min_pos': 0.20829872793404114, '_max_pos': 0.2600469802616582, 'sl_ind_length': 23, 'sl_ind_mult': 1.3200623950462806, 'tp_mult': 2, 'ptp_mult': 0.7125779372456225, 'ptp_exit_percent': 0.28714749658137}\n",
      "[5, 11, 28, 2, 2, 0.20829872793404114, 0.2600469802616582, 23, 1.3200623950462806, 2, 0.7125779372456225, 0.28714749658137]\n"
     ]
    },
    {
     "name": "stderr",
     "output_type": "stream",
     "text": [
      "C:\\Users\\yassi\\AppData\\Local\\Temp\\ipykernel_21084\\3841925515.py:58: FutureWarning: The previous implementation of stack is deprecated and will be removed in a future version of pandas. See the What's New notes for pandas 2.1.0 for details. Specify future_stack=True to adopt the new implementation and silence this warning.\n",
      "  df = df.stack()\n"
     ]
    },
    {
     "name": "stdout",
     "output_type": "stream",
     "text": [
      "Out-of-sample performance: 0\n"
     ]
    },
    {
     "name": "stderr",
     "output_type": "stream",
     "text": [
      "C:\\Users\\yassi\\AppData\\Local\\Temp\\ipykernel_21084\\3841925515.py:58: FutureWarning: The previous implementation of stack is deprecated and will be removed in a future version of pandas. See the What's New notes for pandas 2.1.0 for details. Specify future_stack=True to adopt the new implementation and silence this warning.\n",
      "  df = df.stack()\n"
     ]
    },
    {
     "name": "stdout",
     "output_type": "stream",
     "text": [
      "0\n"
     ]
    },
    {
     "name": "stderr",
     "output_type": "stream",
     "text": [
      "C:\\Users\\yassi\\AppData\\Local\\Temp\\ipykernel_21084\\3841925515.py:58: FutureWarning: The previous implementation of stack is deprecated and will be removed in a future version of pandas. See the What's New notes for pandas 2.1.0 for details. Specify future_stack=True to adopt the new implementation and silence this warning.\n",
      "  df = df.stack()\n"
     ]
    },
    {
     "name": "stdout",
     "output_type": "stream",
     "text": [
      "0\n"
     ]
    },
    {
     "name": "stderr",
     "output_type": "stream",
     "text": [
      "C:\\Users\\yassi\\AppData\\Local\\Temp\\ipykernel_21084\\3841925515.py:58: FutureWarning: The previous implementation of stack is deprecated and will be removed in a future version of pandas. See the What's New notes for pandas 2.1.0 for details. Specify future_stack=True to adopt the new implementation and silence this warning.\n",
      "  df = df.stack()\n"
     ]
    },
    {
     "name": "stdout",
     "output_type": "stream",
     "text": [
      "0\n"
     ]
    },
    {
     "name": "stderr",
     "output_type": "stream",
     "text": [
      "C:\\Users\\yassi\\AppData\\Local\\Temp\\ipykernel_21084\\3841925515.py:58: FutureWarning: The previous implementation of stack is deprecated and will be removed in a future version of pandas. See the What's New notes for pandas 2.1.0 for details. Specify future_stack=True to adopt the new implementation and silence this warning.\n",
      "  df = df.stack()\n"
     ]
    },
    {
     "name": "stdout",
     "output_type": "stream",
     "text": [
      "0\n"
     ]
    },
    {
     "name": "stderr",
     "output_type": "stream",
     "text": [
      "C:\\Users\\yassi\\AppData\\Local\\Temp\\ipykernel_21084\\3841925515.py:58: FutureWarning: The previous implementation of stack is deprecated and will be removed in a future version of pandas. See the What's New notes for pandas 2.1.0 for details. Specify future_stack=True to adopt the new implementation and silence this warning.\n",
      "  df = df.stack()\n"
     ]
    },
    {
     "name": "stdout",
     "output_type": "stream",
     "text": [
      "0\n"
     ]
    },
    {
     "name": "stderr",
     "output_type": "stream",
     "text": [
      "C:\\Users\\yassi\\AppData\\Local\\Temp\\ipykernel_21084\\3841925515.py:58: FutureWarning: The previous implementation of stack is deprecated and will be removed in a future version of pandas. See the What's New notes for pandas 2.1.0 for details. Specify future_stack=True to adopt the new implementation and silence this warning.\n",
      "  df = df.stack()\n"
     ]
    },
    {
     "name": "stdout",
     "output_type": "stream",
     "text": [
      "1.0147803061344725\n"
     ]
    },
    {
     "name": "stderr",
     "output_type": "stream",
     "text": [
      "C:\\Users\\yassi\\AppData\\Local\\Temp\\ipykernel_21084\\3841925515.py:58: FutureWarning: The previous implementation of stack is deprecated and will be removed in a future version of pandas. See the What's New notes for pandas 2.1.0 for details. Specify future_stack=True to adopt the new implementation and silence this warning.\n",
      "  df = df.stack()\n"
     ]
    },
    {
     "name": "stdout",
     "output_type": "stream",
     "text": [
      "0\n"
     ]
    },
    {
     "name": "stderr",
     "output_type": "stream",
     "text": [
      "C:\\Users\\yassi\\AppData\\Local\\Temp\\ipykernel_21084\\3841925515.py:58: FutureWarning: The previous implementation of stack is deprecated and will be removed in a future version of pandas. See the What's New notes for pandas 2.1.0 for details. Specify future_stack=True to adopt the new implementation and silence this warning.\n",
      "  df = df.stack()\n"
     ]
    },
    {
     "name": "stdout",
     "output_type": "stream",
     "text": [
      "0\n"
     ]
    },
    {
     "name": "stderr",
     "output_type": "stream",
     "text": [
      "C:\\Users\\yassi\\AppData\\Local\\Temp\\ipykernel_21084\\3841925515.py:58: FutureWarning: The previous implementation of stack is deprecated and will be removed in a future version of pandas. See the What's New notes for pandas 2.1.0 for details. Specify future_stack=True to adopt the new implementation and silence this warning.\n",
      "  df = df.stack()\n"
     ]
    },
    {
     "name": "stdout",
     "output_type": "stream",
     "text": [
      "0\n"
     ]
    },
    {
     "name": "stderr",
     "output_type": "stream",
     "text": [
      "C:\\Users\\yassi\\AppData\\Local\\Temp\\ipykernel_21084\\3841925515.py:58: FutureWarning: The previous implementation of stack is deprecated and will be removed in a future version of pandas. See the What's New notes for pandas 2.1.0 for details. Specify future_stack=True to adopt the new implementation and silence this warning.\n",
      "  df = df.stack()\n"
     ]
    },
    {
     "name": "stdout",
     "output_type": "stream",
     "text": [
      "0\n",
      "{'std_window': 24, 'mean_window': 18, 'ema_window': 61, 'hourly_lookback': 3, 'daily_lookback': 2, '_min_pos': 0.06899979550563586, '_max_pos': 0.4444102585561237, 'sl_ind_length': 12, 'sl_ind_mult': 0.5703638303353727, 'tp_mult': 1, 'ptp_mult': 0.6974407590877849, 'ptp_exit_percent': 0.36413935724623436}\n",
      "[24, 18, 61, 3, 2, 0.06899979550563586, 0.4444102585561237, 12, 0.5703638303353727, 1, 0.6974407590877849, 0.36413935724623436]\n"
     ]
    },
    {
     "name": "stderr",
     "output_type": "stream",
     "text": [
      "C:\\Users\\yassi\\AppData\\Local\\Temp\\ipykernel_21084\\3841925515.py:58: FutureWarning: The previous implementation of stack is deprecated and will be removed in a future version of pandas. See the What's New notes for pandas 2.1.0 for details. Specify future_stack=True to adopt the new implementation and silence this warning.\n",
      "  df = df.stack()\n"
     ]
    },
    {
     "name": "stdout",
     "output_type": "stream",
     "text": [
      "Out-of-sample performance: 1.0192812711768902\n"
     ]
    },
    {
     "name": "stderr",
     "output_type": "stream",
     "text": [
      "C:\\Users\\yassi\\AppData\\Local\\Temp\\ipykernel_21084\\3841925515.py:58: FutureWarning: The previous implementation of stack is deprecated and will be removed in a future version of pandas. See the What's New notes for pandas 2.1.0 for details. Specify future_stack=True to adopt the new implementation and silence this warning.\n",
      "  df = df.stack()\n"
     ]
    },
    {
     "name": "stdout",
     "output_type": "stream",
     "text": [
      "0\n"
     ]
    },
    {
     "name": "stderr",
     "output_type": "stream",
     "text": [
      "C:\\Users\\yassi\\AppData\\Local\\Temp\\ipykernel_21084\\3841925515.py:58: FutureWarning: The previous implementation of stack is deprecated and will be removed in a future version of pandas. See the What's New notes for pandas 2.1.0 for details. Specify future_stack=True to adopt the new implementation and silence this warning.\n",
      "  df = df.stack()\n"
     ]
    },
    {
     "name": "stdout",
     "output_type": "stream",
     "text": [
      "1.000532720421736\n"
     ]
    },
    {
     "name": "stderr",
     "output_type": "stream",
     "text": [
      "C:\\Users\\yassi\\AppData\\Local\\Temp\\ipykernel_21084\\3841925515.py:58: FutureWarning: The previous implementation of stack is deprecated and will be removed in a future version of pandas. See the What's New notes for pandas 2.1.0 for details. Specify future_stack=True to adopt the new implementation and silence this warning.\n",
      "  df = df.stack()\n"
     ]
    },
    {
     "name": "stdout",
     "output_type": "stream",
     "text": [
      "1.0059291685544065\n"
     ]
    },
    {
     "name": "stderr",
     "output_type": "stream",
     "text": [
      "C:\\Users\\yassi\\AppData\\Local\\Temp\\ipykernel_21084\\3841925515.py:58: FutureWarning: The previous implementation of stack is deprecated and will be removed in a future version of pandas. See the What's New notes for pandas 2.1.0 for details. Specify future_stack=True to adopt the new implementation and silence this warning.\n",
      "  df = df.stack()\n"
     ]
    },
    {
     "name": "stdout",
     "output_type": "stream",
     "text": [
      "1.010823461828238\n"
     ]
    },
    {
     "name": "stderr",
     "output_type": "stream",
     "text": [
      "C:\\Users\\yassi\\AppData\\Local\\Temp\\ipykernel_21084\\3841925515.py:58: FutureWarning: The previous implementation of stack is deprecated and will be removed in a future version of pandas. See the What's New notes for pandas 2.1.0 for details. Specify future_stack=True to adopt the new implementation and silence this warning.\n",
      "  df = df.stack()\n"
     ]
    },
    {
     "name": "stdout",
     "output_type": "stream",
     "text": [
      "1.0723377930085378\n"
     ]
    },
    {
     "name": "stderr",
     "output_type": "stream",
     "text": [
      "C:\\Users\\yassi\\AppData\\Local\\Temp\\ipykernel_21084\\3841925515.py:58: FutureWarning: The previous implementation of stack is deprecated and will be removed in a future version of pandas. See the What's New notes for pandas 2.1.0 for details. Specify future_stack=True to adopt the new implementation and silence this warning.\n",
      "  df = df.stack()\n"
     ]
    },
    {
     "name": "stdout",
     "output_type": "stream",
     "text": [
      "1.0192812711768902\n"
     ]
    },
    {
     "name": "stderr",
     "output_type": "stream",
     "text": [
      "C:\\Users\\yassi\\AppData\\Local\\Temp\\ipykernel_21084\\3841925515.py:58: FutureWarning: The previous implementation of stack is deprecated and will be removed in a future version of pandas. See the What's New notes for pandas 2.1.0 for details. Specify future_stack=True to adopt the new implementation and silence this warning.\n",
      "  df = df.stack()\n"
     ]
    },
    {
     "name": "stdout",
     "output_type": "stream",
     "text": [
      "1.0702777447443896\n"
     ]
    },
    {
     "name": "stderr",
     "output_type": "stream",
     "text": [
      "C:\\Users\\yassi\\AppData\\Local\\Temp\\ipykernel_21084\\3841925515.py:58: FutureWarning: The previous implementation of stack is deprecated and will be removed in a future version of pandas. See the What's New notes for pandas 2.1.0 for details. Specify future_stack=True to adopt the new implementation and silence this warning.\n",
      "  df = df.stack()\n"
     ]
    },
    {
     "name": "stdout",
     "output_type": "stream",
     "text": [
      "0\n"
     ]
    },
    {
     "name": "stderr",
     "output_type": "stream",
     "text": [
      "C:\\Users\\yassi\\AppData\\Local\\Temp\\ipykernel_21084\\3841925515.py:58: FutureWarning: The previous implementation of stack is deprecated and will be removed in a future version of pandas. See the What's New notes for pandas 2.1.0 for details. Specify future_stack=True to adopt the new implementation and silence this warning.\n",
      "  df = df.stack()\n"
     ]
    },
    {
     "name": "stdout",
     "output_type": "stream",
     "text": [
      "0\n"
     ]
    },
    {
     "name": "stderr",
     "output_type": "stream",
     "text": [
      "C:\\Users\\yassi\\AppData\\Local\\Temp\\ipykernel_21084\\3841925515.py:58: FutureWarning: The previous implementation of stack is deprecated and will be removed in a future version of pandas. See the What's New notes for pandas 2.1.0 for details. Specify future_stack=True to adopt the new implementation and silence this warning.\n",
      "  df = df.stack()\n"
     ]
    },
    {
     "name": "stdout",
     "output_type": "stream",
     "text": [
      "1.0219130799243719\n",
      "{'std_window': 19, 'mean_window': 6, 'ema_window': 85, 'hourly_lookback': 2, 'daily_lookback': 2, '_min_pos': 0.2316647164484486, '_max_pos': 1.0909079937846315, 'sl_ind_length': 20, 'sl_ind_mult': 3.066997884824298, 'tp_mult': 2, 'ptp_mult': 0.9805860121746747, 'ptp_exit_percent': 0.8600804638103364}\n",
      "[19, 6, 85, 2, 2, 0.2316647164484486, 1.0909079937846315, 20, 3.066997884824298, 2, 0.9805860121746747, 0.8600804638103364]\n"
     ]
    },
    {
     "name": "stderr",
     "output_type": "stream",
     "text": [
      "C:\\Users\\yassi\\AppData\\Local\\Temp\\ipykernel_21084\\3841925515.py:58: FutureWarning: The previous implementation of stack is deprecated and will be removed in a future version of pandas. See the What's New notes for pandas 2.1.0 for details. Specify future_stack=True to adopt the new implementation and silence this warning.\n",
      "  df = df.stack()\n"
     ]
    },
    {
     "name": "stdout",
     "output_type": "stream",
     "text": [
      "Out-of-sample performance: 1.0114125246141885\n"
     ]
    },
    {
     "name": "stderr",
     "output_type": "stream",
     "text": [
      "C:\\Users\\yassi\\AppData\\Local\\Temp\\ipykernel_21084\\3841925515.py:58: FutureWarning: The previous implementation of stack is deprecated and will be removed in a future version of pandas. See the What's New notes for pandas 2.1.0 for details. Specify future_stack=True to adopt the new implementation and silence this warning.\n",
      "  df = df.stack()\n"
     ]
    },
    {
     "name": "stdout",
     "output_type": "stream",
     "text": [
      "1.0012250456564895\n"
     ]
    },
    {
     "name": "stderr",
     "output_type": "stream",
     "text": [
      "C:\\Users\\yassi\\AppData\\Local\\Temp\\ipykernel_21084\\3841925515.py:58: FutureWarning: The previous implementation of stack is deprecated and will be removed in a future version of pandas. See the What's New notes for pandas 2.1.0 for details. Specify future_stack=True to adopt the new implementation and silence this warning.\n",
      "  df = df.stack()\n"
     ]
    },
    {
     "name": "stdout",
     "output_type": "stream",
     "text": [
      "1.0000865379356945\n"
     ]
    },
    {
     "name": "stderr",
     "output_type": "stream",
     "text": [
      "C:\\Users\\yassi\\AppData\\Local\\Temp\\ipykernel_21084\\3841925515.py:58: FutureWarning: The previous implementation of stack is deprecated and will be removed in a future version of pandas. See the What's New notes for pandas 2.1.0 for details. Specify future_stack=True to adopt the new implementation and silence this warning.\n",
      "  df = df.stack()\n"
     ]
    },
    {
     "name": "stdout",
     "output_type": "stream",
     "text": [
      "1.0040651275828496\n"
     ]
    },
    {
     "name": "stderr",
     "output_type": "stream",
     "text": [
      "C:\\Users\\yassi\\AppData\\Local\\Temp\\ipykernel_21084\\3841925515.py:58: FutureWarning: The previous implementation of stack is deprecated and will be removed in a future version of pandas. See the What's New notes for pandas 2.1.0 for details. Specify future_stack=True to adopt the new implementation and silence this warning.\n",
      "  df = df.stack()\n"
     ]
    },
    {
     "name": "stdout",
     "output_type": "stream",
     "text": [
      "1.003034552550967\n"
     ]
    },
    {
     "name": "stderr",
     "output_type": "stream",
     "text": [
      "C:\\Users\\yassi\\AppData\\Local\\Temp\\ipykernel_21084\\3841925515.py:58: FutureWarning: The previous implementation of stack is deprecated and will be removed in a future version of pandas. See the What's New notes for pandas 2.1.0 for details. Specify future_stack=True to adopt the new implementation and silence this warning.\n",
      "  df = df.stack()\n"
     ]
    },
    {
     "name": "stdout",
     "output_type": "stream",
     "text": [
      "1.0114125246141885\n"
     ]
    },
    {
     "name": "stderr",
     "output_type": "stream",
     "text": [
      "C:\\Users\\yassi\\AppData\\Local\\Temp\\ipykernel_21084\\3841925515.py:58: FutureWarning: The previous implementation of stack is deprecated and will be removed in a future version of pandas. See the What's New notes for pandas 2.1.0 for details. Specify future_stack=True to adopt the new implementation and silence this warning.\n",
      "  df = df.stack()\n"
     ]
    },
    {
     "name": "stdout",
     "output_type": "stream",
     "text": [
      "1.0065084431434517\n"
     ]
    },
    {
     "name": "stderr",
     "output_type": "stream",
     "text": [
      "C:\\Users\\yassi\\AppData\\Local\\Temp\\ipykernel_21084\\3841925515.py:58: FutureWarning: The previous implementation of stack is deprecated and will be removed in a future version of pandas. See the What's New notes for pandas 2.1.0 for details. Specify future_stack=True to adopt the new implementation and silence this warning.\n",
      "  df = df.stack()\n"
     ]
    },
    {
     "name": "stdout",
     "output_type": "stream",
     "text": [
      "1.0220114361593469\n"
     ]
    },
    {
     "name": "stderr",
     "output_type": "stream",
     "text": [
      "C:\\Users\\yassi\\AppData\\Local\\Temp\\ipykernel_21084\\3841925515.py:58: FutureWarning: The previous implementation of stack is deprecated and will be removed in a future version of pandas. See the What's New notes for pandas 2.1.0 for details. Specify future_stack=True to adopt the new implementation and silence this warning.\n",
      "  df = df.stack()\n"
     ]
    },
    {
     "name": "stdout",
     "output_type": "stream",
     "text": [
      "0.9619302022516037\n"
     ]
    },
    {
     "name": "stderr",
     "output_type": "stream",
     "text": [
      "C:\\Users\\yassi\\AppData\\Local\\Temp\\ipykernel_21084\\3841925515.py:58: FutureWarning: The previous implementation of stack is deprecated and will be removed in a future version of pandas. See the What's New notes for pandas 2.1.0 for details. Specify future_stack=True to adopt the new implementation and silence this warning.\n",
      "  df = df.stack()\n"
     ]
    },
    {
     "name": "stdout",
     "output_type": "stream",
     "text": [
      "0.9956766818281004\n"
     ]
    },
    {
     "name": "stderr",
     "output_type": "stream",
     "text": [
      "C:\\Users\\yassi\\AppData\\Local\\Temp\\ipykernel_21084\\3841925515.py:58: FutureWarning: The previous implementation of stack is deprecated and will be removed in a future version of pandas. See the What's New notes for pandas 2.1.0 for details. Specify future_stack=True to adopt the new implementation and silence this warning.\n",
      "  df = df.stack()\n"
     ]
    },
    {
     "name": "stdout",
     "output_type": "stream",
     "text": [
      "1.0069730626291762\n",
      "{'std_window': 5, 'mean_window': 10, 'ema_window': 73, 'hourly_lookback': 3, 'daily_lookback': 2, '_min_pos': 0.2315752196283373, '_max_pos': 0.9766155382529169, 'sl_ind_length': 46, 'sl_ind_mult': 4.325173600054098, 'tp_mult': 1, 'ptp_mult': 0.5477050582452057, 'ptp_exit_percent': 0.43373642697843984}\n",
      "[5, 10, 73, 3, 2, 0.2315752196283373, 0.9766155382529169, 46, 4.325173600054098, 1, 0.5477050582452057, 0.43373642697843984]\n"
     ]
    },
    {
     "name": "stderr",
     "output_type": "stream",
     "text": [
      "C:\\Users\\yassi\\AppData\\Local\\Temp\\ipykernel_21084\\3841925515.py:58: FutureWarning: The previous implementation of stack is deprecated and will be removed in a future version of pandas. See the What's New notes for pandas 2.1.0 for details. Specify future_stack=True to adopt the new implementation and silence this warning.\n",
      "  df = df.stack()\n"
     ]
    },
    {
     "name": "stdout",
     "output_type": "stream",
     "text": [
      "Out-of-sample performance: 0\n"
     ]
    },
    {
     "name": "stderr",
     "output_type": "stream",
     "text": [
      "C:\\Users\\yassi\\AppData\\Local\\Temp\\ipykernel_21084\\3841925515.py:58: FutureWarning: The previous implementation of stack is deprecated and will be removed in a future version of pandas. See the What's New notes for pandas 2.1.0 for details. Specify future_stack=True to adopt the new implementation and silence this warning.\n",
      "  df = df.stack()\n"
     ]
    },
    {
     "name": "stdout",
     "output_type": "stream",
     "text": [
      "0\n"
     ]
    },
    {
     "name": "stderr",
     "output_type": "stream",
     "text": [
      "C:\\Users\\yassi\\AppData\\Local\\Temp\\ipykernel_21084\\3841925515.py:58: FutureWarning: The previous implementation of stack is deprecated and will be removed in a future version of pandas. See the What's New notes for pandas 2.1.0 for details. Specify future_stack=True to adopt the new implementation and silence this warning.\n",
      "  df = df.stack()\n"
     ]
    },
    {
     "name": "stdout",
     "output_type": "stream",
     "text": [
      "0\n"
     ]
    },
    {
     "name": "stderr",
     "output_type": "stream",
     "text": [
      "C:\\Users\\yassi\\AppData\\Local\\Temp\\ipykernel_21084\\3841925515.py:58: FutureWarning: The previous implementation of stack is deprecated and will be removed in a future version of pandas. See the What's New notes for pandas 2.1.0 for details. Specify future_stack=True to adopt the new implementation and silence this warning.\n",
      "  df = df.stack()\n"
     ]
    },
    {
     "name": "stdout",
     "output_type": "stream",
     "text": [
      "0\n"
     ]
    },
    {
     "name": "stderr",
     "output_type": "stream",
     "text": [
      "C:\\Users\\yassi\\AppData\\Local\\Temp\\ipykernel_21084\\3841925515.py:58: FutureWarning: The previous implementation of stack is deprecated and will be removed in a future version of pandas. See the What's New notes for pandas 2.1.0 for details. Specify future_stack=True to adopt the new implementation and silence this warning.\n",
      "  df = df.stack()\n"
     ]
    },
    {
     "name": "stdout",
     "output_type": "stream",
     "text": [
      "1.086761992363245\n"
     ]
    },
    {
     "name": "stderr",
     "output_type": "stream",
     "text": [
      "C:\\Users\\yassi\\AppData\\Local\\Temp\\ipykernel_21084\\3841925515.py:58: FutureWarning: The previous implementation of stack is deprecated and will be removed in a future version of pandas. See the What's New notes for pandas 2.1.0 for details. Specify future_stack=True to adopt the new implementation and silence this warning.\n",
      "  df = df.stack()\n"
     ]
    },
    {
     "name": "stdout",
     "output_type": "stream",
     "text": [
      "0\n"
     ]
    },
    {
     "name": "stderr",
     "output_type": "stream",
     "text": [
      "C:\\Users\\yassi\\AppData\\Local\\Temp\\ipykernel_21084\\3841925515.py:58: FutureWarning: The previous implementation of stack is deprecated and will be removed in a future version of pandas. See the What's New notes for pandas 2.1.0 for details. Specify future_stack=True to adopt the new implementation and silence this warning.\n",
      "  df = df.stack()\n"
     ]
    },
    {
     "name": "stdout",
     "output_type": "stream",
     "text": [
      "0\n"
     ]
    },
    {
     "name": "stderr",
     "output_type": "stream",
     "text": [
      "C:\\Users\\yassi\\AppData\\Local\\Temp\\ipykernel_21084\\3841925515.py:58: FutureWarning: The previous implementation of stack is deprecated and will be removed in a future version of pandas. See the What's New notes for pandas 2.1.0 for details. Specify future_stack=True to adopt the new implementation and silence this warning.\n",
      "  df = df.stack()\n"
     ]
    },
    {
     "name": "stdout",
     "output_type": "stream",
     "text": [
      "0\n"
     ]
    },
    {
     "name": "stderr",
     "output_type": "stream",
     "text": [
      "C:\\Users\\yassi\\AppData\\Local\\Temp\\ipykernel_21084\\3841925515.py:58: FutureWarning: The previous implementation of stack is deprecated and will be removed in a future version of pandas. See the What's New notes for pandas 2.1.0 for details. Specify future_stack=True to adopt the new implementation and silence this warning.\n",
      "  df = df.stack()\n"
     ]
    },
    {
     "name": "stdout",
     "output_type": "stream",
     "text": [
      "0\n"
     ]
    },
    {
     "name": "stderr",
     "output_type": "stream",
     "text": [
      "C:\\Users\\yassi\\AppData\\Local\\Temp\\ipykernel_21084\\3841925515.py:58: FutureWarning: The previous implementation of stack is deprecated and will be removed in a future version of pandas. See the What's New notes for pandas 2.1.0 for details. Specify future_stack=True to adopt the new implementation and silence this warning.\n",
      "  df = df.stack()\n"
     ]
    },
    {
     "name": "stdout",
     "output_type": "stream",
     "text": [
      "0\n"
     ]
    },
    {
     "name": "stderr",
     "output_type": "stream",
     "text": [
      "C:\\Users\\yassi\\AppData\\Local\\Temp\\ipykernel_21084\\3841925515.py:58: FutureWarning: The previous implementation of stack is deprecated and will be removed in a future version of pandas. See the What's New notes for pandas 2.1.0 for details. Specify future_stack=True to adopt the new implementation and silence this warning.\n",
      "  df = df.stack()\n"
     ]
    },
    {
     "name": "stdout",
     "output_type": "stream",
     "text": [
      "0\n",
      "{'std_window': 5, 'mean_window': 11, 'ema_window': 28, 'hourly_lookback': 2, 'daily_lookback': 2, '_min_pos': 0.20829872793404114, '_max_pos': 0.2600469802616582, 'sl_ind_length': 23, 'sl_ind_mult': 1.3200623950462806, 'tp_mult': 2, 'ptp_mult': 0.7125779372456225, 'ptp_exit_percent': 0.28714749658137}\n",
      "[5, 11, 28, 2, 2, 0.20829872793404114, 0.2600469802616582, 23, 1.3200623950462806, 2, 0.7125779372456225, 0.28714749658137]\n"
     ]
    },
    {
     "name": "stderr",
     "output_type": "stream",
     "text": [
      "C:\\Users\\yassi\\AppData\\Local\\Temp\\ipykernel_21084\\3841925515.py:58: FutureWarning: The previous implementation of stack is deprecated and will be removed in a future version of pandas. See the What's New notes for pandas 2.1.0 for details. Specify future_stack=True to adopt the new implementation and silence this warning.\n",
      "  df = df.stack()\n"
     ]
    },
    {
     "name": "stdout",
     "output_type": "stream",
     "text": [
      "Out-of-sample performance: 0\n"
     ]
    },
    {
     "name": "stderr",
     "output_type": "stream",
     "text": [
      "C:\\Users\\yassi\\AppData\\Local\\Temp\\ipykernel_21084\\3841925515.py:58: FutureWarning: The previous implementation of stack is deprecated and will be removed in a future version of pandas. See the What's New notes for pandas 2.1.0 for details. Specify future_stack=True to adopt the new implementation and silence this warning.\n",
      "  df = df.stack()\n"
     ]
    },
    {
     "name": "stdout",
     "output_type": "stream",
     "text": [
      "0\n"
     ]
    },
    {
     "name": "stderr",
     "output_type": "stream",
     "text": [
      "C:\\Users\\yassi\\AppData\\Local\\Temp\\ipykernel_21084\\3841925515.py:58: FutureWarning: The previous implementation of stack is deprecated and will be removed in a future version of pandas. See the What's New notes for pandas 2.1.0 for details. Specify future_stack=True to adopt the new implementation and silence this warning.\n",
      "  df = df.stack()\n"
     ]
    },
    {
     "name": "stdout",
     "output_type": "stream",
     "text": [
      "0\n"
     ]
    },
    {
     "name": "stderr",
     "output_type": "stream",
     "text": [
      "C:\\Users\\yassi\\AppData\\Local\\Temp\\ipykernel_21084\\3841925515.py:58: FutureWarning: The previous implementation of stack is deprecated and will be removed in a future version of pandas. See the What's New notes for pandas 2.1.0 for details. Specify future_stack=True to adopt the new implementation and silence this warning.\n",
      "  df = df.stack()\n"
     ]
    },
    {
     "name": "stdout",
     "output_type": "stream",
     "text": [
      "0\n"
     ]
    },
    {
     "name": "stderr",
     "output_type": "stream",
     "text": [
      "C:\\Users\\yassi\\AppData\\Local\\Temp\\ipykernel_21084\\3841925515.py:58: FutureWarning: The previous implementation of stack is deprecated and will be removed in a future version of pandas. See the What's New notes for pandas 2.1.0 for details. Specify future_stack=True to adopt the new implementation and silence this warning.\n",
      "  df = df.stack()\n"
     ]
    },
    {
     "name": "stdout",
     "output_type": "stream",
     "text": [
      "0\n"
     ]
    },
    {
     "name": "stderr",
     "output_type": "stream",
     "text": [
      "C:\\Users\\yassi\\AppData\\Local\\Temp\\ipykernel_21084\\3841925515.py:58: FutureWarning: The previous implementation of stack is deprecated and will be removed in a future version of pandas. See the What's New notes for pandas 2.1.0 for details. Specify future_stack=True to adopt the new implementation and silence this warning.\n",
      "  df = df.stack()\n"
     ]
    },
    {
     "name": "stdout",
     "output_type": "stream",
     "text": [
      "0\n"
     ]
    },
    {
     "name": "stderr",
     "output_type": "stream",
     "text": [
      "C:\\Users\\yassi\\AppData\\Local\\Temp\\ipykernel_21084\\3841925515.py:58: FutureWarning: The previous implementation of stack is deprecated and will be removed in a future version of pandas. See the What's New notes for pandas 2.1.0 for details. Specify future_stack=True to adopt the new implementation and silence this warning.\n",
      "  df = df.stack()\n"
     ]
    },
    {
     "name": "stdout",
     "output_type": "stream",
     "text": [
      "0\n"
     ]
    },
    {
     "name": "stderr",
     "output_type": "stream",
     "text": [
      "C:\\Users\\yassi\\AppData\\Local\\Temp\\ipykernel_21084\\3841925515.py:58: FutureWarning: The previous implementation of stack is deprecated and will be removed in a future version of pandas. See the What's New notes for pandas 2.1.0 for details. Specify future_stack=True to adopt the new implementation and silence this warning.\n",
      "  df = df.stack()\n"
     ]
    },
    {
     "name": "stdout",
     "output_type": "stream",
     "text": [
      "0\n"
     ]
    },
    {
     "name": "stderr",
     "output_type": "stream",
     "text": [
      "C:\\Users\\yassi\\AppData\\Local\\Temp\\ipykernel_21084\\3841925515.py:58: FutureWarning: The previous implementation of stack is deprecated and will be removed in a future version of pandas. See the What's New notes for pandas 2.1.0 for details. Specify future_stack=True to adopt the new implementation and silence this warning.\n",
      "  df = df.stack()\n"
     ]
    },
    {
     "name": "stdout",
     "output_type": "stream",
     "text": [
      "0\n"
     ]
    },
    {
     "name": "stderr",
     "output_type": "stream",
     "text": [
      "C:\\Users\\yassi\\AppData\\Local\\Temp\\ipykernel_21084\\3841925515.py:58: FutureWarning: The previous implementation of stack is deprecated and will be removed in a future version of pandas. See the What's New notes for pandas 2.1.0 for details. Specify future_stack=True to adopt the new implementation and silence this warning.\n",
      "  df = df.stack()\n"
     ]
    },
    {
     "name": "stdout",
     "output_type": "stream",
     "text": [
      "0\n"
     ]
    },
    {
     "name": "stderr",
     "output_type": "stream",
     "text": [
      "C:\\Users\\yassi\\AppData\\Local\\Temp\\ipykernel_21084\\3841925515.py:58: FutureWarning: The previous implementation of stack is deprecated and will be removed in a future version of pandas. See the What's New notes for pandas 2.1.0 for details. Specify future_stack=True to adopt the new implementation and silence this warning.\n",
      "  df = df.stack()\n"
     ]
    },
    {
     "name": "stdout",
     "output_type": "stream",
     "text": [
      "0\n",
      "{'std_window': 25, 'mean_window': 10, 'ema_window': 79, 'hourly_lookback': 2, 'daily_lookback': 2, '_min_pos': 0.024993728954500728, '_max_pos': 0.6888733379488009, 'sl_ind_length': 20, 'sl_ind_mult': 1.1429006806487336, 'tp_mult': 2, 'ptp_mult': 0.5282057895135501, 'ptp_exit_percent': 0.7497988950401424}\n",
      "[25, 10, 79, 2, 2, 0.024993728954500728, 0.6888733379488009, 20, 1.1429006806487336, 2, 0.5282057895135501, 0.7497988950401424]\n"
     ]
    },
    {
     "name": "stderr",
     "output_type": "stream",
     "text": [
      "C:\\Users\\yassi\\AppData\\Local\\Temp\\ipykernel_21084\\3841925515.py:58: FutureWarning: The previous implementation of stack is deprecated and will be removed in a future version of pandas. See the What's New notes for pandas 2.1.0 for details. Specify future_stack=True to adopt the new implementation and silence this warning.\n",
      "  df = df.stack()\n"
     ]
    },
    {
     "name": "stdout",
     "output_type": "stream",
     "text": [
      "Out-of-sample performance: 0\n"
     ]
    },
    {
     "name": "stderr",
     "output_type": "stream",
     "text": [
      "C:\\Users\\yassi\\AppData\\Local\\Temp\\ipykernel_21084\\3841925515.py:58: FutureWarning: The previous implementation of stack is deprecated and will be removed in a future version of pandas. See the What's New notes for pandas 2.1.0 for details. Specify future_stack=True to adopt the new implementation and silence this warning.\n",
      "  df = df.stack()\n"
     ]
    },
    {
     "name": "stdout",
     "output_type": "stream",
     "text": [
      "0\n"
     ]
    },
    {
     "name": "stderr",
     "output_type": "stream",
     "text": [
      "C:\\Users\\yassi\\AppData\\Local\\Temp\\ipykernel_21084\\3841925515.py:58: FutureWarning: The previous implementation of stack is deprecated and will be removed in a future version of pandas. See the What's New notes for pandas 2.1.0 for details. Specify future_stack=True to adopt the new implementation and silence this warning.\n",
      "  df = df.stack()\n"
     ]
    },
    {
     "name": "stdout",
     "output_type": "stream",
     "text": [
      "0\n"
     ]
    },
    {
     "name": "stderr",
     "output_type": "stream",
     "text": [
      "C:\\Users\\yassi\\AppData\\Local\\Temp\\ipykernel_21084\\3841925515.py:58: FutureWarning: The previous implementation of stack is deprecated and will be removed in a future version of pandas. See the What's New notes for pandas 2.1.0 for details. Specify future_stack=True to adopt the new implementation and silence this warning.\n",
      "  df = df.stack()\n"
     ]
    },
    {
     "name": "stdout",
     "output_type": "stream",
     "text": [
      "0\n"
     ]
    },
    {
     "name": "stderr",
     "output_type": "stream",
     "text": [
      "C:\\Users\\yassi\\AppData\\Local\\Temp\\ipykernel_21084\\3841925515.py:58: FutureWarning: The previous implementation of stack is deprecated and will be removed in a future version of pandas. See the What's New notes for pandas 2.1.0 for details. Specify future_stack=True to adopt the new implementation and silence this warning.\n",
      "  df = df.stack()\n"
     ]
    },
    {
     "name": "stdout",
     "output_type": "stream",
     "text": [
      "1.0360652000554935\n"
     ]
    },
    {
     "name": "stderr",
     "output_type": "stream",
     "text": [
      "C:\\Users\\yassi\\AppData\\Local\\Temp\\ipykernel_21084\\3841925515.py:58: FutureWarning: The previous implementation of stack is deprecated and will be removed in a future version of pandas. See the What's New notes for pandas 2.1.0 for details. Specify future_stack=True to adopt the new implementation and silence this warning.\n",
      "  df = df.stack()\n"
     ]
    },
    {
     "name": "stdout",
     "output_type": "stream",
     "text": [
      "0\n"
     ]
    },
    {
     "name": "stderr",
     "output_type": "stream",
     "text": [
      "C:\\Users\\yassi\\AppData\\Local\\Temp\\ipykernel_21084\\3841925515.py:58: FutureWarning: The previous implementation of stack is deprecated and will be removed in a future version of pandas. See the What's New notes for pandas 2.1.0 for details. Specify future_stack=True to adopt the new implementation and silence this warning.\n",
      "  df = df.stack()\n"
     ]
    },
    {
     "name": "stdout",
     "output_type": "stream",
     "text": [
      "0\n"
     ]
    },
    {
     "name": "stderr",
     "output_type": "stream",
     "text": [
      "C:\\Users\\yassi\\AppData\\Local\\Temp\\ipykernel_21084\\3841925515.py:58: FutureWarning: The previous implementation of stack is deprecated and will be removed in a future version of pandas. See the What's New notes for pandas 2.1.0 for details. Specify future_stack=True to adopt the new implementation and silence this warning.\n",
      "  df = df.stack()\n"
     ]
    },
    {
     "name": "stdout",
     "output_type": "stream",
     "text": [
      "0\n"
     ]
    },
    {
     "name": "stderr",
     "output_type": "stream",
     "text": [
      "C:\\Users\\yassi\\AppData\\Local\\Temp\\ipykernel_21084\\3841925515.py:58: FutureWarning: The previous implementation of stack is deprecated and will be removed in a future version of pandas. See the What's New notes for pandas 2.1.0 for details. Specify future_stack=True to adopt the new implementation and silence this warning.\n",
      "  df = df.stack()\n"
     ]
    },
    {
     "name": "stdout",
     "output_type": "stream",
     "text": [
      "0\n"
     ]
    },
    {
     "name": "stderr",
     "output_type": "stream",
     "text": [
      "C:\\Users\\yassi\\AppData\\Local\\Temp\\ipykernel_21084\\3841925515.py:58: FutureWarning: The previous implementation of stack is deprecated and will be removed in a future version of pandas. See the What's New notes for pandas 2.1.0 for details. Specify future_stack=True to adopt the new implementation and silence this warning.\n",
      "  df = df.stack()\n"
     ]
    },
    {
     "name": "stdout",
     "output_type": "stream",
     "text": [
      "0\n"
     ]
    },
    {
     "name": "stderr",
     "output_type": "stream",
     "text": [
      "C:\\Users\\yassi\\AppData\\Local\\Temp\\ipykernel_21084\\3841925515.py:58: FutureWarning: The previous implementation of stack is deprecated and will be removed in a future version of pandas. See the What's New notes for pandas 2.1.0 for details. Specify future_stack=True to adopt the new implementation and silence this warning.\n",
      "  df = df.stack()\n"
     ]
    },
    {
     "name": "stdout",
     "output_type": "stream",
     "text": [
      "0\n",
      "{'std_window': 5, 'mean_window': 11, 'ema_window': 28, 'hourly_lookback': 2, 'daily_lookback': 2, '_min_pos': 0.20829872793404114, '_max_pos': 0.2600469802616582, 'sl_ind_length': 23, 'sl_ind_mult': 1.3200623950462806, 'tp_mult': 2, 'ptp_mult': 0.7125779372456225, 'ptp_exit_percent': 0.28714749658137}\n",
      "[5, 11, 28, 2, 2, 0.20829872793404114, 0.2600469802616582, 23, 1.3200623950462806, 2, 0.7125779372456225, 0.28714749658137]\n"
     ]
    },
    {
     "name": "stderr",
     "output_type": "stream",
     "text": [
      "C:\\Users\\yassi\\AppData\\Local\\Temp\\ipykernel_21084\\3841925515.py:58: FutureWarning: The previous implementation of stack is deprecated and will be removed in a future version of pandas. See the What's New notes for pandas 2.1.0 for details. Specify future_stack=True to adopt the new implementation and silence this warning.\n",
      "  df = df.stack()\n"
     ]
    },
    {
     "name": "stdout",
     "output_type": "stream",
     "text": [
      "Out-of-sample performance: 0.9939614115554541\n"
     ]
    },
    {
     "name": "stderr",
     "output_type": "stream",
     "text": [
      "C:\\Users\\yassi\\AppData\\Local\\Temp\\ipykernel_21084\\3841925515.py:58: FutureWarning: The previous implementation of stack is deprecated and will be removed in a future version of pandas. See the What's New notes for pandas 2.1.0 for details. Specify future_stack=True to adopt the new implementation and silence this warning.\n",
      "  df = df.stack()\n"
     ]
    },
    {
     "name": "stdout",
     "output_type": "stream",
     "text": [
      "0.9923190633877969\n"
     ]
    },
    {
     "name": "stderr",
     "output_type": "stream",
     "text": [
      "C:\\Users\\yassi\\AppData\\Local\\Temp\\ipykernel_21084\\3841925515.py:58: FutureWarning: The previous implementation of stack is deprecated and will be removed in a future version of pandas. See the What's New notes for pandas 2.1.0 for details. Specify future_stack=True to adopt the new implementation and silence this warning.\n",
      "  df = df.stack()\n"
     ]
    },
    {
     "name": "stdout",
     "output_type": "stream",
     "text": [
      "1.0005526415148656\n"
     ]
    },
    {
     "name": "stderr",
     "output_type": "stream",
     "text": [
      "C:\\Users\\yassi\\AppData\\Local\\Temp\\ipykernel_21084\\3841925515.py:58: FutureWarning: The previous implementation of stack is deprecated and will be removed in a future version of pandas. See the What's New notes for pandas 2.1.0 for details. Specify future_stack=True to adopt the new implementation and silence this warning.\n",
      "  df = df.stack()\n"
     ]
    },
    {
     "name": "stdout",
     "output_type": "stream",
     "text": [
      "0.9916319771791192\n"
     ]
    },
    {
     "name": "stderr",
     "output_type": "stream",
     "text": [
      "C:\\Users\\yassi\\AppData\\Local\\Temp\\ipykernel_21084\\3841925515.py:58: FutureWarning: The previous implementation of stack is deprecated and will be removed in a future version of pandas. See the What's New notes for pandas 2.1.0 for details. Specify future_stack=True to adopt the new implementation and silence this warning.\n",
      "  df = df.stack()\n"
     ]
    },
    {
     "name": "stdout",
     "output_type": "stream",
     "text": [
      "0.9939614115554541\n"
     ]
    },
    {
     "name": "stderr",
     "output_type": "stream",
     "text": [
      "C:\\Users\\yassi\\AppData\\Local\\Temp\\ipykernel_21084\\3841925515.py:58: FutureWarning: The previous implementation of stack is deprecated and will be removed in a future version of pandas. See the What's New notes for pandas 2.1.0 for details. Specify future_stack=True to adopt the new implementation and silence this warning.\n",
      "  df = df.stack()\n"
     ]
    },
    {
     "name": "stdout",
     "output_type": "stream",
     "text": [
      "1.0303135413013478\n"
     ]
    },
    {
     "name": "stderr",
     "output_type": "stream",
     "text": [
      "C:\\Users\\yassi\\AppData\\Local\\Temp\\ipykernel_21084\\3841925515.py:58: FutureWarning: The previous implementation of stack is deprecated and will be removed in a future version of pandas. See the What's New notes for pandas 2.1.0 for details. Specify future_stack=True to adopt the new implementation and silence this warning.\n",
      "  df = df.stack()\n"
     ]
    },
    {
     "name": "stdout",
     "output_type": "stream",
     "text": [
      "0\n"
     ]
    },
    {
     "name": "stderr",
     "output_type": "stream",
     "text": [
      "C:\\Users\\yassi\\AppData\\Local\\Temp\\ipykernel_21084\\3841925515.py:58: FutureWarning: The previous implementation of stack is deprecated and will be removed in a future version of pandas. See the What's New notes for pandas 2.1.0 for details. Specify future_stack=True to adopt the new implementation and silence this warning.\n",
      "  df = df.stack()\n"
     ]
    },
    {
     "name": "stdout",
     "output_type": "stream",
     "text": [
      "0.9708645513098593\n"
     ]
    },
    {
     "name": "stderr",
     "output_type": "stream",
     "text": [
      "C:\\Users\\yassi\\AppData\\Local\\Temp\\ipykernel_21084\\3841925515.py:58: FutureWarning: The previous implementation of stack is deprecated and will be removed in a future version of pandas. See the What's New notes for pandas 2.1.0 for details. Specify future_stack=True to adopt the new implementation and silence this warning.\n",
      "  df = df.stack()\n"
     ]
    },
    {
     "name": "stdout",
     "output_type": "stream",
     "text": [
      "0\n"
     ]
    },
    {
     "name": "stderr",
     "output_type": "stream",
     "text": [
      "C:\\Users\\yassi\\AppData\\Local\\Temp\\ipykernel_21084\\3841925515.py:58: FutureWarning: The previous implementation of stack is deprecated and will be removed in a future version of pandas. See the What's New notes for pandas 2.1.0 for details. Specify future_stack=True to adopt the new implementation and silence this warning.\n",
      "  df = df.stack()\n"
     ]
    },
    {
     "name": "stdout",
     "output_type": "stream",
     "text": [
      "0.9804098934845787\n"
     ]
    },
    {
     "name": "stderr",
     "output_type": "stream",
     "text": [
      "C:\\Users\\yassi\\AppData\\Local\\Temp\\ipykernel_21084\\3841925515.py:58: FutureWarning: The previous implementation of stack is deprecated and will be removed in a future version of pandas. See the What's New notes for pandas 2.1.0 for details. Specify future_stack=True to adopt the new implementation and silence this warning.\n",
      "  df = df.stack()\n"
     ]
    },
    {
     "name": "stdout",
     "output_type": "stream",
     "text": [
      "0.9926584104041863\n",
      "{'std_window': 19, 'mean_window': 6, 'ema_window': 85, 'hourly_lookback': 2, 'daily_lookback': 2, '_min_pos': 0.2316647164484486, '_max_pos': 1.0909079937846315, 'sl_ind_length': 20, 'sl_ind_mult': 3.066997884824298, 'tp_mult': 2, 'ptp_mult': 0.9805860121746747, 'ptp_exit_percent': 0.8600804638103364}\n",
      "[19, 6, 85, 2, 2, 0.2316647164484486, 1.0909079937846315, 20, 3.066997884824298, 2, 0.9805860121746747, 0.8600804638103364]\n"
     ]
    },
    {
     "name": "stderr",
     "output_type": "stream",
     "text": [
      "C:\\Users\\yassi\\AppData\\Local\\Temp\\ipykernel_21084\\3841925515.py:58: FutureWarning: The previous implementation of stack is deprecated and will be removed in a future version of pandas. See the What's New notes for pandas 2.1.0 for details. Specify future_stack=True to adopt the new implementation and silence this warning.\n",
      "  df = df.stack()\n"
     ]
    },
    {
     "name": "stdout",
     "output_type": "stream",
     "text": [
      "Out-of-sample performance: 1.243454623829044\n"
     ]
    },
    {
     "name": "stderr",
     "output_type": "stream",
     "text": [
      "C:\\Users\\yassi\\AppData\\Local\\Temp\\ipykernel_21084\\3841925515.py:58: FutureWarning: The previous implementation of stack is deprecated and will be removed in a future version of pandas. See the What's New notes for pandas 2.1.0 for details. Specify future_stack=True to adopt the new implementation and silence this warning.\n",
      "  df = df.stack()\n"
     ]
    },
    {
     "name": "stdout",
     "output_type": "stream",
     "text": [
      "1.031729152543989\n"
     ]
    },
    {
     "name": "stderr",
     "output_type": "stream",
     "text": [
      "C:\\Users\\yassi\\AppData\\Local\\Temp\\ipykernel_21084\\3841925515.py:58: FutureWarning: The previous implementation of stack is deprecated and will be removed in a future version of pandas. See the What's New notes for pandas 2.1.0 for details. Specify future_stack=True to adopt the new implementation and silence this warning.\n",
      "  df = df.stack()\n"
     ]
    },
    {
     "name": "stdout",
     "output_type": "stream",
     "text": [
      "1.0030939250989406\n"
     ]
    },
    {
     "name": "stderr",
     "output_type": "stream",
     "text": [
      "C:\\Users\\yassi\\AppData\\Local\\Temp\\ipykernel_21084\\3841925515.py:58: FutureWarning: The previous implementation of stack is deprecated and will be removed in a future version of pandas. See the What's New notes for pandas 2.1.0 for details. Specify future_stack=True to adopt the new implementation and silence this warning.\n",
      "  df = df.stack()\n"
     ]
    },
    {
     "name": "stdout",
     "output_type": "stream",
     "text": [
      "1.0194876107729909\n"
     ]
    },
    {
     "name": "stderr",
     "output_type": "stream",
     "text": [
      "C:\\Users\\yassi\\AppData\\Local\\Temp\\ipykernel_21084\\3841925515.py:58: FutureWarning: The previous implementation of stack is deprecated and will be removed in a future version of pandas. See the What's New notes for pandas 2.1.0 for details. Specify future_stack=True to adopt the new implementation and silence this warning.\n",
      "  df = df.stack()\n"
     ]
    },
    {
     "name": "stdout",
     "output_type": "stream",
     "text": [
      "1.0066293258020187\n"
     ]
    },
    {
     "name": "stderr",
     "output_type": "stream",
     "text": [
      "C:\\Users\\yassi\\AppData\\Local\\Temp\\ipykernel_21084\\3841925515.py:58: FutureWarning: The previous implementation of stack is deprecated and will be removed in a future version of pandas. See the What's New notes for pandas 2.1.0 for details. Specify future_stack=True to adopt the new implementation and silence this warning.\n",
      "  df = df.stack()\n"
     ]
    },
    {
     "name": "stdout",
     "output_type": "stream",
     "text": [
      "1.243454623829044\n"
     ]
    },
    {
     "name": "stderr",
     "output_type": "stream",
     "text": [
      "C:\\Users\\yassi\\AppData\\Local\\Temp\\ipykernel_21084\\3841925515.py:58: FutureWarning: The previous implementation of stack is deprecated and will be removed in a future version of pandas. See the What's New notes for pandas 2.1.0 for details. Specify future_stack=True to adopt the new implementation and silence this warning.\n",
      "  df = df.stack()\n"
     ]
    },
    {
     "name": "stdout",
     "output_type": "stream",
     "text": [
      "1.0258987624953981\n"
     ]
    },
    {
     "name": "stderr",
     "output_type": "stream",
     "text": [
      "C:\\Users\\yassi\\AppData\\Local\\Temp\\ipykernel_21084\\3841925515.py:58: FutureWarning: The previous implementation of stack is deprecated and will be removed in a future version of pandas. See the What's New notes for pandas 2.1.0 for details. Specify future_stack=True to adopt the new implementation and silence this warning.\n",
      "  df = df.stack()\n"
     ]
    },
    {
     "name": "stdout",
     "output_type": "stream",
     "text": [
      "1.2200449673877976\n"
     ]
    },
    {
     "name": "stderr",
     "output_type": "stream",
     "text": [
      "C:\\Users\\yassi\\AppData\\Local\\Temp\\ipykernel_21084\\3841925515.py:58: FutureWarning: The previous implementation of stack is deprecated and will be removed in a future version of pandas. See the What's New notes for pandas 2.1.0 for details. Specify future_stack=True to adopt the new implementation and silence this warning.\n",
      "  df = df.stack()\n"
     ]
    },
    {
     "name": "stdout",
     "output_type": "stream",
     "text": [
      "1.3038263752023664\n"
     ]
    },
    {
     "name": "stderr",
     "output_type": "stream",
     "text": [
      "C:\\Users\\yassi\\AppData\\Local\\Temp\\ipykernel_21084\\3841925515.py:58: FutureWarning: The previous implementation of stack is deprecated and will be removed in a future version of pandas. See the What's New notes for pandas 2.1.0 for details. Specify future_stack=True to adopt the new implementation and silence this warning.\n",
      "  df = df.stack()\n"
     ]
    },
    {
     "name": "stdout",
     "output_type": "stream",
     "text": [
      "0\n"
     ]
    },
    {
     "name": "stderr",
     "output_type": "stream",
     "text": [
      "C:\\Users\\yassi\\AppData\\Local\\Temp\\ipykernel_21084\\3841925515.py:58: FutureWarning: The previous implementation of stack is deprecated and will be removed in a future version of pandas. See the What's New notes for pandas 2.1.0 for details. Specify future_stack=True to adopt the new implementation and silence this warning.\n",
      "  df = df.stack()\n"
     ]
    },
    {
     "name": "stdout",
     "output_type": "stream",
     "text": [
      "1.0400636983031202\n",
      "{'std_window': 22, 'mean_window': 22, 'ema_window': 61, 'hourly_lookback': 2, 'daily_lookback': 2, '_min_pos': 0.09573171868844749, '_max_pos': 1.457568143083656, 'sl_ind_length': 43, 'sl_ind_mult': 3.7477828452419297, 'tp_mult': 1, 'ptp_mult': 0.628034161380662, 'ptp_exit_percent': 0.1363902305845882}\n",
      "[22, 22, 61, 2, 2, 0.09573171868844749, 1.457568143083656, 43, 3.7477828452419297, 1, 0.628034161380662, 0.1363902305845882]\n",
      "Out-of-sample performance: 0.8522565202015404\n"
     ]
    },
    {
     "name": "stderr",
     "output_type": "stream",
     "text": [
      "C:\\Users\\yassi\\AppData\\Local\\Temp\\ipykernel_21084\\3841925515.py:58: FutureWarning: The previous implementation of stack is deprecated and will be removed in a future version of pandas. See the What's New notes for pandas 2.1.0 for details. Specify future_stack=True to adopt the new implementation and silence this warning.\n",
      "  df = df.stack()\n"
     ]
    }
   ],
   "source": [
    "wfo = WFO(data, \n",
    "            trading_strategy, \n",
    "            param_space, \n",
    "            train_size=2000, \n",
    "            test_size=2000, \n",
    "            step_size=2000, \n",
    "            optimize_fn=\"gp\", \n",
    "            objective='multiple', \n",
    "            opt_freq='custom')\n",
    "\n",
    "all_performance, all_results = wfo.walk_forward_optimization()"
   ]
  },
  {
   "cell_type": "code",
   "execution_count": 94,
   "metadata": {},
   "outputs": [
    {
     "data": {
      "text/plain": [
       "0.4740744200572491"
      ]
     },
     "execution_count": 94,
     "metadata": {},
     "output_type": "execute_result"
    }
   ],
   "source": [
    "np.mean(all_performance)"
   ]
  },
  {
   "cell_type": "code",
   "execution_count": 95,
   "metadata": {},
   "outputs": [
    {
     "data": {
      "text/html": [
       "<div>\n",
       "<style scoped>\n",
       "    .dataframe tbody tr th:only-of-type {\n",
       "        vertical-align: middle;\n",
       "    }\n",
       "\n",
       "    .dataframe tbody tr th {\n",
       "        vertical-align: top;\n",
       "    }\n",
       "\n",
       "    .dataframe thead th {\n",
       "        text-align: right;\n",
       "    }\n",
       "</style>\n",
       "<table border=\"1\" class=\"dataframe\">\n",
       "  <thead>\n",
       "    <tr style=\"text-align: right;\">\n",
       "      <th></th>\n",
       "      <th></th>\n",
       "      <th>close</th>\n",
       "      <th>creturns</th>\n",
       "      <th>high</th>\n",
       "      <th>log_return</th>\n",
       "      <th>low</th>\n",
       "      <th>open</th>\n",
       "      <th>price</th>\n",
       "      <th>returns</th>\n",
       "      <th>volume</th>\n",
       "      <th>volume_in_dollars</th>\n",
       "      <th>...</th>\n",
       "      <th>std_rank</th>\n",
       "      <th>ema_41</th>\n",
       "      <th>above_ema</th>\n",
       "      <th>in_universe</th>\n",
       "      <th>trade</th>\n",
       "      <th>ema_73</th>\n",
       "      <th>ema_79</th>\n",
       "      <th>ema_28</th>\n",
       "      <th>ema_61</th>\n",
       "      <th>ema_85</th>\n",
       "    </tr>\n",
       "    <tr>\n",
       "      <th>date</th>\n",
       "      <th>coin</th>\n",
       "      <th></th>\n",
       "      <th></th>\n",
       "      <th></th>\n",
       "      <th></th>\n",
       "      <th></th>\n",
       "      <th></th>\n",
       "      <th></th>\n",
       "      <th></th>\n",
       "      <th></th>\n",
       "      <th></th>\n",
       "      <th></th>\n",
       "      <th></th>\n",
       "      <th></th>\n",
       "      <th></th>\n",
       "      <th></th>\n",
       "      <th></th>\n",
       "      <th></th>\n",
       "      <th></th>\n",
       "      <th></th>\n",
       "      <th></th>\n",
       "      <th></th>\n",
       "    </tr>\n",
       "  </thead>\n",
       "  <tbody>\n",
       "    <tr>\n",
       "      <th>2020-01-25 12:00:00</th>\n",
       "      <th>BTCUSDT</th>\n",
       "      <td>8292.31000</td>\n",
       "      <td>1.155397</td>\n",
       "      <td>8339.42000</td>\n",
       "      <td>-0.002906</td>\n",
       "      <td>8286.87000</td>\n",
       "      <td>8316.44000</td>\n",
       "      <td>8292.31000</td>\n",
       "      <td>-0.002901</td>\n",
       "      <td>9.384568e+02</td>\n",
       "      <td>7.781974e+06</td>\n",
       "      <td>...</td>\n",
       "      <td>3.0</td>\n",
       "      <td>8389.186278</td>\n",
       "      <td>0</td>\n",
       "      <td>True</td>\n",
       "      <td>NaN</td>\n",
       "      <td>NaN</td>\n",
       "      <td>NaN</td>\n",
       "      <td>NaN</td>\n",
       "      <td>NaN</td>\n",
       "      <td>NaN</td>\n",
       "    </tr>\n",
       "    <tr>\n",
       "      <th>2020-01-25 13:00:00</th>\n",
       "      <th>BTCUSDT</th>\n",
       "      <td>8324.26000</td>\n",
       "      <td>1.159849</td>\n",
       "      <td>8358.94000</td>\n",
       "      <td>0.003846</td>\n",
       "      <td>8288.58000</td>\n",
       "      <td>8291.11000</td>\n",
       "      <td>8324.26000</td>\n",
       "      <td>0.003853</td>\n",
       "      <td>1.332906e+03</td>\n",
       "      <td>1.109546e+07</td>\n",
       "      <td>...</td>\n",
       "      <td>3.0</td>\n",
       "      <td>8386.094550</td>\n",
       "      <td>0</td>\n",
       "      <td>True</td>\n",
       "      <td>NaN</td>\n",
       "      <td>NaN</td>\n",
       "      <td>NaN</td>\n",
       "      <td>NaN</td>\n",
       "      <td>NaN</td>\n",
       "      <td>NaN</td>\n",
       "    </tr>\n",
       "    <tr>\n",
       "      <th>2020-01-25 14:00:00</th>\n",
       "      <th>BTCUSDT</th>\n",
       "      <td>8316.70000</td>\n",
       "      <td>1.158796</td>\n",
       "      <td>8353.50000</td>\n",
       "      <td>-0.000909</td>\n",
       "      <td>8315.82000</td>\n",
       "      <td>8324.26000</td>\n",
       "      <td>8316.70000</td>\n",
       "      <td>-0.000908</td>\n",
       "      <td>1.019007e+03</td>\n",
       "      <td>8.474777e+06</td>\n",
       "      <td>...</td>\n",
       "      <td>3.0</td>\n",
       "      <td>8382.790048</td>\n",
       "      <td>0</td>\n",
       "      <td>True</td>\n",
       "      <td>NaN</td>\n",
       "      <td>NaN</td>\n",
       "      <td>NaN</td>\n",
       "      <td>NaN</td>\n",
       "      <td>NaN</td>\n",
       "      <td>NaN</td>\n",
       "    </tr>\n",
       "    <tr>\n",
       "      <th>2020-01-25 15:00:00</th>\n",
       "      <th>BTCUSDT</th>\n",
       "      <td>8335.14000</td>\n",
       "      <td>1.161365</td>\n",
       "      <td>8339.54000</td>\n",
       "      <td>0.002215</td>\n",
       "      <td>8309.00000</td>\n",
       "      <td>8317.50000</td>\n",
       "      <td>8335.14000</td>\n",
       "      <td>0.002217</td>\n",
       "      <td>7.194547e+02</td>\n",
       "      <td>5.996755e+06</td>\n",
       "      <td>...</td>\n",
       "      <td>3.0</td>\n",
       "      <td>8380.520998</td>\n",
       "      <td>0</td>\n",
       "      <td>True</td>\n",
       "      <td>NaN</td>\n",
       "      <td>NaN</td>\n",
       "      <td>NaN</td>\n",
       "      <td>NaN</td>\n",
       "      <td>NaN</td>\n",
       "      <td>NaN</td>\n",
       "    </tr>\n",
       "    <tr>\n",
       "      <th>2020-01-25 16:00:00</th>\n",
       "      <th>BTCUSDT</th>\n",
       "      <td>8349.65000</td>\n",
       "      <td>1.163387</td>\n",
       "      <td>8358.01000</td>\n",
       "      <td>0.001739</td>\n",
       "      <td>8328.09000</td>\n",
       "      <td>8334.60000</td>\n",
       "      <td>8349.65000</td>\n",
       "      <td>0.001741</td>\n",
       "      <td>7.669689e+02</td>\n",
       "      <td>6.403922e+06</td>\n",
       "      <td>...</td>\n",
       "      <td>3.0</td>\n",
       "      <td>8379.050950</td>\n",
       "      <td>0</td>\n",
       "      <td>True</td>\n",
       "      <td>NaN</td>\n",
       "      <td>NaN</td>\n",
       "      <td>NaN</td>\n",
       "      <td>NaN</td>\n",
       "      <td>NaN</td>\n",
       "      <td>NaN</td>\n",
       "    </tr>\n",
       "    <tr>\n",
       "      <th>...</th>\n",
       "      <th>...</th>\n",
       "      <td>...</td>\n",
       "      <td>...</td>\n",
       "      <td>...</td>\n",
       "      <td>...</td>\n",
       "      <td>...</td>\n",
       "      <td>...</td>\n",
       "      <td>...</td>\n",
       "      <td>...</td>\n",
       "      <td>...</td>\n",
       "      <td>...</td>\n",
       "      <td>...</td>\n",
       "      <td>...</td>\n",
       "      <td>...</td>\n",
       "      <td>...</td>\n",
       "      <td>...</td>\n",
       "      <td>...</td>\n",
       "      <td>...</td>\n",
       "      <td>...</td>\n",
       "      <td>...</td>\n",
       "      <td>...</td>\n",
       "      <td>...</td>\n",
       "    </tr>\n",
       "    <tr>\n",
       "      <th>2020-08-21 18:00:00</th>\n",
       "      <th>ETHUSDT</th>\n",
       "      <td>397.84000</td>\n",
       "      <td>3.087142</td>\n",
       "      <td>403.36000</td>\n",
       "      <td>-0.012887</td>\n",
       "      <td>394.00000</td>\n",
       "      <td>403.00000</td>\n",
       "      <td>397.84000</td>\n",
       "      <td>-0.012804</td>\n",
       "      <td>6.373159e+04</td>\n",
       "      <td>2.535498e+07</td>\n",
       "      <td>...</td>\n",
       "      <td>2.0</td>\n",
       "      <td>NaN</td>\n",
       "      <td>0</td>\n",
       "      <td>True</td>\n",
       "      <td>NaN</td>\n",
       "      <td>NaN</td>\n",
       "      <td>NaN</td>\n",
       "      <td>NaN</td>\n",
       "      <td>411.457453</td>\n",
       "      <td>NaN</td>\n",
       "    </tr>\n",
       "    <tr>\n",
       "      <th rowspan=\"2\" valign=\"top\">2020-08-21 19:00:00</th>\n",
       "      <th>ADAUSDT</th>\n",
       "      <td>0.12651</td>\n",
       "      <td>3.859365</td>\n",
       "      <td>0.12732</td>\n",
       "      <td>0.006503</td>\n",
       "      <td>0.12534</td>\n",
       "      <td>0.12570</td>\n",
       "      <td>0.12651</td>\n",
       "      <td>0.006524</td>\n",
       "      <td>1.247224e+07</td>\n",
       "      <td>1.577863e+06</td>\n",
       "      <td>...</td>\n",
       "      <td>1.0</td>\n",
       "      <td>NaN</td>\n",
       "      <td>0</td>\n",
       "      <td>True</td>\n",
       "      <td>NaN</td>\n",
       "      <td>NaN</td>\n",
       "      <td>NaN</td>\n",
       "      <td>NaN</td>\n",
       "      <td>0.131315</td>\n",
       "      <td>NaN</td>\n",
       "    </tr>\n",
       "    <tr>\n",
       "      <th>ETHUSDT</th>\n",
       "      <td>397.51000</td>\n",
       "      <td>3.084581</td>\n",
       "      <td>401.50000</td>\n",
       "      <td>-0.000830</td>\n",
       "      <td>397.29000</td>\n",
       "      <td>397.87000</td>\n",
       "      <td>397.51000</td>\n",
       "      <td>-0.000829</td>\n",
       "      <td>2.416992e+04</td>\n",
       "      <td>9.607784e+06</td>\n",
       "      <td>...</td>\n",
       "      <td>2.0</td>\n",
       "      <td>NaN</td>\n",
       "      <td>0</td>\n",
       "      <td>True</td>\n",
       "      <td>NaN</td>\n",
       "      <td>NaN</td>\n",
       "      <td>NaN</td>\n",
       "      <td>NaN</td>\n",
       "      <td>411.007536</td>\n",
       "      <td>NaN</td>\n",
       "    </tr>\n",
       "    <tr>\n",
       "      <th rowspan=\"2\" valign=\"top\">2020-08-21 20:00:00</th>\n",
       "      <th>ADAUSDT</th>\n",
       "      <td>0.12488</td>\n",
       "      <td>3.809640</td>\n",
       "      <td>0.12766</td>\n",
       "      <td>-0.012968</td>\n",
       "      <td>0.12488</td>\n",
       "      <td>0.12647</td>\n",
       "      <td>0.12488</td>\n",
       "      <td>-0.012884</td>\n",
       "      <td>8.952400e+06</td>\n",
       "      <td>1.117976e+06</td>\n",
       "      <td>...</td>\n",
       "      <td>1.0</td>\n",
       "      <td>NaN</td>\n",
       "      <td>0</td>\n",
       "      <td>True</td>\n",
       "      <td>NaN</td>\n",
       "      <td>NaN</td>\n",
       "      <td>NaN</td>\n",
       "      <td>NaN</td>\n",
       "      <td>0.131108</td>\n",
       "      <td>NaN</td>\n",
       "    </tr>\n",
       "    <tr>\n",
       "      <th>ETHUSDT</th>\n",
       "      <td>395.04000</td>\n",
       "      <td>3.065415</td>\n",
       "      <td>401.50000</td>\n",
       "      <td>-0.006233</td>\n",
       "      <td>395.00000</td>\n",
       "      <td>397.57000</td>\n",
       "      <td>395.04000</td>\n",
       "      <td>-0.006214</td>\n",
       "      <td>1.971868e+04</td>\n",
       "      <td>7.789667e+06</td>\n",
       "      <td>...</td>\n",
       "      <td>2.0</td>\n",
       "      <td>NaN</td>\n",
       "      <td>0</td>\n",
       "      <td>True</td>\n",
       "      <td>NaN</td>\n",
       "      <td>NaN</td>\n",
       "      <td>NaN</td>\n",
       "      <td>NaN</td>\n",
       "      <td>410.492454</td>\n",
       "      <td>NaN</td>\n",
       "    </tr>\n",
       "  </tbody>\n",
       "</table>\n",
       "<p>1746 rows × 56 columns</p>\n",
       "</div>"
      ],
      "text/plain": [
       "                                  close  creturns        high  log_return  \\\n",
       "date                coin                                                    \n",
       "2020-01-25 12:00:00 BTCUSDT  8292.31000  1.155397  8339.42000   -0.002906   \n",
       "2020-01-25 13:00:00 BTCUSDT  8324.26000  1.159849  8358.94000    0.003846   \n",
       "2020-01-25 14:00:00 BTCUSDT  8316.70000  1.158796  8353.50000   -0.000909   \n",
       "2020-01-25 15:00:00 BTCUSDT  8335.14000  1.161365  8339.54000    0.002215   \n",
       "2020-01-25 16:00:00 BTCUSDT  8349.65000  1.163387  8358.01000    0.001739   \n",
       "...                                 ...       ...         ...         ...   \n",
       "2020-08-21 18:00:00 ETHUSDT   397.84000  3.087142   403.36000   -0.012887   \n",
       "2020-08-21 19:00:00 ADAUSDT     0.12651  3.859365     0.12732    0.006503   \n",
       "                    ETHUSDT   397.51000  3.084581   401.50000   -0.000830   \n",
       "2020-08-21 20:00:00 ADAUSDT     0.12488  3.809640     0.12766   -0.012968   \n",
       "                    ETHUSDT   395.04000  3.065415   401.50000   -0.006233   \n",
       "\n",
       "                                    low        open       price   returns  \\\n",
       "date                coin                                                    \n",
       "2020-01-25 12:00:00 BTCUSDT  8286.87000  8316.44000  8292.31000 -0.002901   \n",
       "2020-01-25 13:00:00 BTCUSDT  8288.58000  8291.11000  8324.26000  0.003853   \n",
       "2020-01-25 14:00:00 BTCUSDT  8315.82000  8324.26000  8316.70000 -0.000908   \n",
       "2020-01-25 15:00:00 BTCUSDT  8309.00000  8317.50000  8335.14000  0.002217   \n",
       "2020-01-25 16:00:00 BTCUSDT  8328.09000  8334.60000  8349.65000  0.001741   \n",
       "...                                 ...         ...         ...       ...   \n",
       "2020-08-21 18:00:00 ETHUSDT   394.00000   403.00000   397.84000 -0.012804   \n",
       "2020-08-21 19:00:00 ADAUSDT     0.12534     0.12570     0.12651  0.006524   \n",
       "                    ETHUSDT   397.29000   397.87000   397.51000 -0.000829   \n",
       "2020-08-21 20:00:00 ADAUSDT     0.12488     0.12647     0.12488 -0.012884   \n",
       "                    ETHUSDT   395.00000   397.57000   395.04000 -0.006214   \n",
       "\n",
       "                                   volume  volume_in_dollars  ...  std_rank  \\\n",
       "date                coin                                      ...             \n",
       "2020-01-25 12:00:00 BTCUSDT  9.384568e+02       7.781974e+06  ...       3.0   \n",
       "2020-01-25 13:00:00 BTCUSDT  1.332906e+03       1.109546e+07  ...       3.0   \n",
       "2020-01-25 14:00:00 BTCUSDT  1.019007e+03       8.474777e+06  ...       3.0   \n",
       "2020-01-25 15:00:00 BTCUSDT  7.194547e+02       5.996755e+06  ...       3.0   \n",
       "2020-01-25 16:00:00 BTCUSDT  7.669689e+02       6.403922e+06  ...       3.0   \n",
       "...                                   ...                ...  ...       ...   \n",
       "2020-08-21 18:00:00 ETHUSDT  6.373159e+04       2.535498e+07  ...       2.0   \n",
       "2020-08-21 19:00:00 ADAUSDT  1.247224e+07       1.577863e+06  ...       1.0   \n",
       "                    ETHUSDT  2.416992e+04       9.607784e+06  ...       2.0   \n",
       "2020-08-21 20:00:00 ADAUSDT  8.952400e+06       1.117976e+06  ...       1.0   \n",
       "                    ETHUSDT  1.971868e+04       7.789667e+06  ...       2.0   \n",
       "\n",
       "                                  ema_41  above_ema  in_universe  trade  \\\n",
       "date                coin                                                  \n",
       "2020-01-25 12:00:00 BTCUSDT  8389.186278          0         True    NaN   \n",
       "2020-01-25 13:00:00 BTCUSDT  8386.094550          0         True    NaN   \n",
       "2020-01-25 14:00:00 BTCUSDT  8382.790048          0         True    NaN   \n",
       "2020-01-25 15:00:00 BTCUSDT  8380.520998          0         True    NaN   \n",
       "2020-01-25 16:00:00 BTCUSDT  8379.050950          0         True    NaN   \n",
       "...                                  ...        ...          ...    ...   \n",
       "2020-08-21 18:00:00 ETHUSDT          NaN          0         True    NaN   \n",
       "2020-08-21 19:00:00 ADAUSDT          NaN          0         True    NaN   \n",
       "                    ETHUSDT          NaN          0         True    NaN   \n",
       "2020-08-21 20:00:00 ADAUSDT          NaN          0         True    NaN   \n",
       "                    ETHUSDT          NaN          0         True    NaN   \n",
       "\n",
       "                            ema_73 ema_79  ema_28      ema_61  ema_85  \n",
       "date                coin                                               \n",
       "2020-01-25 12:00:00 BTCUSDT    NaN    NaN     NaN         NaN     NaN  \n",
       "2020-01-25 13:00:00 BTCUSDT    NaN    NaN     NaN         NaN     NaN  \n",
       "2020-01-25 14:00:00 BTCUSDT    NaN    NaN     NaN         NaN     NaN  \n",
       "2020-01-25 15:00:00 BTCUSDT    NaN    NaN     NaN         NaN     NaN  \n",
       "2020-01-25 16:00:00 BTCUSDT    NaN    NaN     NaN         NaN     NaN  \n",
       "...                            ...    ...     ...         ...     ...  \n",
       "2020-08-21 18:00:00 ETHUSDT    NaN    NaN     NaN  411.457453     NaN  \n",
       "2020-08-21 19:00:00 ADAUSDT    NaN    NaN     NaN    0.131315     NaN  \n",
       "                    ETHUSDT    NaN    NaN     NaN  411.007536     NaN  \n",
       "2020-08-21 20:00:00 ADAUSDT    NaN    NaN     NaN    0.131108     NaN  \n",
       "                    ETHUSDT    NaN    NaN     NaN  410.492454     NaN  \n",
       "\n",
       "[1746 rows x 56 columns]"
      ]
     },
     "execution_count": 95,
     "metadata": {},
     "output_type": "execute_result"
    }
   ],
   "source": [
    "all_results"
   ]
  },
  {
   "cell_type": "code",
   "execution_count": 96,
   "metadata": {},
   "outputs": [
    {
     "data": {
      "text/plain": [
       "0.3734117970513733"
      ]
     },
     "execution_count": 96,
     "metadata": {},
     "output_type": "execute_result"
    }
   ],
   "source": [
    "qs.stats.sharpe(all_results['strategy'].apply(np.exp) - 1)"
   ]
  },
  {
   "cell_type": "code",
   "execution_count": 97,
   "metadata": {},
   "outputs": [
    {
     "data": {
      "text/plain": [
       "<Axes: xlabel='date,coin'>"
      ]
     },
     "execution_count": 97,
     "metadata": {},
     "output_type": "execute_result"
    },
    {
     "data": {
      "image/png": "[encoded data removed]",
      "text/plain": [
       "<Figure size 1000x600 with 1 Axes>"
      ]
     },
     "metadata": {},
     "output_type": "display_data"
    }
   ],
   "source": [
    "all_results['cstrategy'] = creturns = (all_results['strategy'] * (1/4)).cumsum().apply(np.exp)\n",
    "creturns.plot()"
   ]
  },
  {
   "cell_type": "code",
   "execution_count": null,
   "metadata": {},
   "outputs": [],
   "source": []
  }
 ],
 "metadata": {
  "kernelspec": {
   "display_name": "Python 3",
   "language": "python",
   "name": "python3"
  },
  "language_info": {
   "codemirror_mode": {
    "name": "ipython",
    "version": 3
   },
   "file_extension": ".py",
   "mimetype": "text/x-python",
   "name": "python",
   "nbconvert_exporter": "python",
   "pygments_lexer": "ipython3",
   "version": "3.12.2"
  }
 },
 "nbformat": 4,
 "nbformat_minor": 2
}
