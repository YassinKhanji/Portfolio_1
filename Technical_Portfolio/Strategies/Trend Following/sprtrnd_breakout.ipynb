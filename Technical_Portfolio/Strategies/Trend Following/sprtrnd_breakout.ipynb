{
 "cells": [
  {
   "cell_type": "markdown",
   "metadata": {},
   "source": [
    "## Strategy\n",
    "How will Strategy module will be used:\n",
    "\n",
    "It will take a:\n",
    "- df (the start and the ending date will be provided within the dataframe)\n",
    "- type of objective function to use ('Sharpe Ratio', 'Multiple', ... any metrics)\n",
    "\n",
    "\n",
    "It will contain methods:\n",
    "- that will perform dynamic universe selection\n",
    "- that will contain the trading strategy (will take the parameters as input)\n",
    "- that will optimize for the best parameters given the objective function (will call the trading strategy method)\\\n",
    "-> Make sure to enforce the use of discrete parameters (by using an integer space (not real))\\\n",
    "-> Use Bayesian Optimization \n",
    "- that will perform the walk forward analysis (from sklearn.model_selection import TimeSeriesSplit)\n",
    "\n",
    "It will output the strategy return column, position, cumulative return, trades, sessions, cumulative session return.\n",
    "\n",
    "\n",
    "======================================================\n",
    "\n",
    "Practical Recommendations\n",
    "Low-Dimensional Problems (<5 dimensions):\n",
    "\n",
    "init_points: 5–10\n",
    "n_iter: 10–30\n",
    "Moderate-Dimensional Problems (5–10 dimensions):\n",
    "\n",
    "init_points: 10–15\n",
    "n_iter: 30–50\n",
    "High-Dimensional Problems (>10 dimensions):\n",
    "\n",
    "Bayesian optimization might struggle due to the curse of dimensionality. Consider alternatives like random search or evolutionary algorithms if dimensions are very high.\n",
    "\n",
    "======================================================\n",
    "\n",
    "The key is to perform separate walk-forward analysis for both the strategies and the rebalancing process"
   ]
  },
  {
   "cell_type": "markdown",
   "metadata": {},
   "source": [
    "---"
   ]
  },
  {
   "cell_type": "code",
   "execution_count": 7,
   "metadata": {},
   "outputs": [],
   "source": [
    "import requests\n",
    "import json\n",
    "import math\n",
    "import pandas as pd\n",
    "import numpy as np\n",
    "import datetime as dt\n",
    "import matplotlib.pyplot as plt\n",
    "from qgridnext import show_grid\n",
    "from datetime import datetime, timedelta\n",
    "import sys  \n",
    "import os\n",
    "import pandas_ta as ta\n",
    "import sklearn as sk\n",
    "import datetime as dt\n",
    "from skopt.space import Integer, Real, Categorical\n",
    "\n",
    "# Ensure the directories are in the system path\n",
    "sys.path.append(os.path.abspath(os.path.join(os.getcwd(), '..', '..', 'Data_Management'))) #We have a double .. as we are in the Strategy subfolder\n",
    "sys.path.append(os.path.abspath(os.path.join(os.getcwd(), '..', '..', 'Universe_Selection')))\n",
    "sys.path.append(os.path.abspath(os.path.join(os.getcwd(), '..', '..', 'Signal_Generation')))\n",
    "sys.path.append(os.path.abspath(os.path.join(os.getcwd(), '..', '..', 'Risk_Management')))\n",
    "sys.path.append(os.path.abspath(os.path.join(os.getcwd(), '..', '..', 'Validation')))\n",
    "\n",
    "# Import the modules\n",
    "from data import Data\n",
    "from calculations import Calculations, Metrics\n",
    "from coarse import Coarse_1 as Coarse\n",
    "from fine import Fine_1 as Fine\n",
    "from entry_signal import Trend_Following, Mean_Reversion\n",
    "from tail_risk import Stop_Loss, Take_Profit\n",
    "from manage_trade import Manage_Trade\n",
    "from position import Position\n",
    "from testing import WFO\n",
    "from stress_test import Hypothsis_Testing, Monte_Carlo, Param_Sens, Crash_Test\n",
    "from costs import Costs\n"
   ]
  },
  {
   "cell_type": "markdown",
   "metadata": {},
   "source": [
    "Importing all_data.csv file for all types of data"
   ]
  },
  {
   "cell_type": "code",
   "execution_count": 8,
   "metadata": {},
   "outputs": [
    {
     "data": {
      "text/html": [
       "<div>\n",
       "<style scoped>\n",
       "    .dataframe tbody tr th:only-of-type {\n",
       "        vertical-align: middle;\n",
       "    }\n",
       "\n",
       "    .dataframe tbody tr th {\n",
       "        vertical-align: top;\n",
       "    }\n",
       "\n",
       "    .dataframe thead th {\n",
       "        text-align: right;\n",
       "    }\n",
       "</style>\n",
       "<table border=\"1\" class=\"dataframe\">\n",
       "  <thead>\n",
       "    <tr style=\"text-align: right;\">\n",
       "      <th></th>\n",
       "      <th></th>\n",
       "      <th>close</th>\n",
       "      <th>creturns</th>\n",
       "      <th>high</th>\n",
       "      <th>log_return</th>\n",
       "      <th>low</th>\n",
       "      <th>open</th>\n",
       "      <th>price</th>\n",
       "      <th>returns</th>\n",
       "      <th>volume</th>\n",
       "      <th>volume_in_dollars</th>\n",
       "    </tr>\n",
       "    <tr>\n",
       "      <th>date</th>\n",
       "      <th>coin</th>\n",
       "      <th></th>\n",
       "      <th></th>\n",
       "      <th></th>\n",
       "      <th></th>\n",
       "      <th></th>\n",
       "      <th></th>\n",
       "      <th></th>\n",
       "      <th></th>\n",
       "      <th></th>\n",
       "      <th></th>\n",
       "    </tr>\n",
       "  </thead>\n",
       "  <tbody>\n",
       "    <tr>\n",
       "      <th rowspan=\"2\" valign=\"top\">2017-08-17 05:00:00</th>\n",
       "      <th>BTCUSDT</th>\n",
       "      <td>4315.320000</td>\n",
       "      <td>1.506209e-03</td>\n",
       "      <td>4328.690000</td>\n",
       "      <td>-6.498159</td>\n",
       "      <td>4291.370000</td>\n",
       "      <td>4308.830000</td>\n",
       "      <td>4315.320000</td>\n",
       "      <td>0.001506</td>\n",
       "      <td>2.323492e+01</td>\n",
       "      <td>1.002661e+05</td>\n",
       "    </tr>\n",
       "    <tr>\n",
       "      <th>ETHUSDT</th>\n",
       "      <td>303.100006</td>\n",
       "      <td>4.940270e-03</td>\n",
       "      <td>303.279999</td>\n",
       "      <td>-5.310335</td>\n",
       "      <td>300.000000</td>\n",
       "      <td>301.609985</td>\n",
       "      <td>303.100006</td>\n",
       "      <td>0.004940</td>\n",
       "      <td>3.776725e+02</td>\n",
       "      <td>1.144725e+05</td>\n",
       "    </tr>\n",
       "    <tr>\n",
       "      <th>2017-08-17 06:00:00</th>\n",
       "      <th>BTCUSDT</th>\n",
       "      <td>4324.350000</td>\n",
       "      <td>3.151810e-06</td>\n",
       "      <td>4345.450000</td>\n",
       "      <td>-6.169374</td>\n",
       "      <td>4309.370000</td>\n",
       "      <td>4330.290000</td>\n",
       "      <td>4324.350000</td>\n",
       "      <td>0.002093</td>\n",
       "      <td>7.229691e+00</td>\n",
       "      <td>3.126371e+04</td>\n",
       "    </tr>\n",
       "    <tr>\n",
       "      <th rowspan=\"2\" valign=\"top\">2017-08-17 07:00:00</th>\n",
       "      <th>BTCUSDT</th>\n",
       "      <td>4349.990000</td>\n",
       "      <td>1.868776e-08</td>\n",
       "      <td>4349.990000</td>\n",
       "      <td>-5.127863</td>\n",
       "      <td>4287.410000</td>\n",
       "      <td>4316.620000</td>\n",
       "      <td>4349.990000</td>\n",
       "      <td>0.005929</td>\n",
       "      <td>4.443249e+00</td>\n",
       "      <td>1.932809e+04</td>\n",
       "    </tr>\n",
       "    <tr>\n",
       "      <th>ETHUSDT</th>\n",
       "      <td>307.959991</td>\n",
       "      <td>8.617874e-05</td>\n",
       "      <td>307.959991</td>\n",
       "      <td>-4.048752</td>\n",
       "      <td>302.600006</td>\n",
       "      <td>302.679993</td>\n",
       "      <td>307.959991</td>\n",
       "      <td>0.017444</td>\n",
       "      <td>7.547451e+02</td>\n",
       "      <td>2.324313e+05</td>\n",
       "    </tr>\n",
       "    <tr>\n",
       "      <th>...</th>\n",
       "      <th>...</th>\n",
       "      <td>...</td>\n",
       "      <td>...</td>\n",
       "      <td>...</td>\n",
       "      <td>...</td>\n",
       "      <td>...</td>\n",
       "      <td>...</td>\n",
       "      <td>...</td>\n",
       "      <td>...</td>\n",
       "      <td>...</td>\n",
       "      <td>...</td>\n",
       "    </tr>\n",
       "    <tr>\n",
       "      <th rowspan=\"5\" valign=\"top\">2024-12-27 23:00:00</th>\n",
       "      <th>SYSUSDT</th>\n",
       "      <td>0.112200</td>\n",
       "      <td>0.000000e+00</td>\n",
       "      <td>0.112400</td>\n",
       "      <td>-5.632999</td>\n",
       "      <td>0.111100</td>\n",
       "      <td>0.111600</td>\n",
       "      <td>0.112200</td>\n",
       "      <td>0.003578</td>\n",
       "      <td>7.290790e+05</td>\n",
       "      <td>8.180266e+04</td>\n",
       "    </tr>\n",
       "    <tr>\n",
       "      <th>TRXUSDT</th>\n",
       "      <td>0.259400</td>\n",
       "      <td>0.000000e+00</td>\n",
       "      <td>0.259600</td>\n",
       "      <td>-7.860292</td>\n",
       "      <td>0.258600</td>\n",
       "      <td>0.259400</td>\n",
       "      <td>0.259400</td>\n",
       "      <td>0.000386</td>\n",
       "      <td>1.499596e+07</td>\n",
       "      <td>3.889953e+06</td>\n",
       "    </tr>\n",
       "    <tr>\n",
       "      <th>VETUSDT</th>\n",
       "      <td>0.045760</td>\n",
       "      <td>0.000000e+00</td>\n",
       "      <td>0.045760</td>\n",
       "      <td>-5.479996</td>\n",
       "      <td>0.045370</td>\n",
       "      <td>0.045580</td>\n",
       "      <td>0.045760</td>\n",
       "      <td>0.004169</td>\n",
       "      <td>1.004372e+07</td>\n",
       "      <td>4.596008e+05</td>\n",
       "    </tr>\n",
       "    <tr>\n",
       "      <th>WAXPUSDT</th>\n",
       "      <td>0.040910</td>\n",
       "      <td>0.000000e+00</td>\n",
       "      <td>0.040940</td>\n",
       "      <td>-5.915972</td>\n",
       "      <td>0.040590</td>\n",
       "      <td>0.040770</td>\n",
       "      <td>0.040910</td>\n",
       "      <td>0.002696</td>\n",
       "      <td>1.056349e+06</td>\n",
       "      <td>4.321524e+04</td>\n",
       "    </tr>\n",
       "    <tr>\n",
       "      <th>XECUSDT</th>\n",
       "      <td>0.000035</td>\n",
       "      <td>0.000000e+00</td>\n",
       "      <td>0.000035</td>\n",
       "      <td>-5.503282</td>\n",
       "      <td>0.000034</td>\n",
       "      <td>0.000034</td>\n",
       "      <td>0.000035</td>\n",
       "      <td>0.004073</td>\n",
       "      <td>1.147830e+09</td>\n",
       "      <td>3.961160e+04</td>\n",
       "    </tr>\n",
       "  </tbody>\n",
       "</table>\n",
       "<p>956964 rows × 10 columns</p>\n",
       "</div>"
      ],
      "text/plain": [
       "                                    close      creturns         high  \\\n",
       "date                coin                                               \n",
       "2017-08-17 05:00:00 BTCUSDT   4315.320000  1.506209e-03  4328.690000   \n",
       "                    ETHUSDT    303.100006  4.940270e-03   303.279999   \n",
       "2017-08-17 06:00:00 BTCUSDT   4324.350000  3.151810e-06  4345.450000   \n",
       "2017-08-17 07:00:00 BTCUSDT   4349.990000  1.868776e-08  4349.990000   \n",
       "                    ETHUSDT    307.959991  8.617874e-05   307.959991   \n",
       "...                                   ...           ...          ...   \n",
       "2024-12-27 23:00:00 SYSUSDT      0.112200  0.000000e+00     0.112400   \n",
       "                    TRXUSDT      0.259400  0.000000e+00     0.259600   \n",
       "                    VETUSDT      0.045760  0.000000e+00     0.045760   \n",
       "                    WAXPUSDT     0.040910  0.000000e+00     0.040940   \n",
       "                    XECUSDT      0.000035  0.000000e+00     0.000035   \n",
       "\n",
       "                              log_return          low         open  \\\n",
       "date                coin                                             \n",
       "2017-08-17 05:00:00 BTCUSDT    -6.498159  4291.370000  4308.830000   \n",
       "                    ETHUSDT    -5.310335   300.000000   301.609985   \n",
       "2017-08-17 06:00:00 BTCUSDT    -6.169374  4309.370000  4330.290000   \n",
       "2017-08-17 07:00:00 BTCUSDT    -5.127863  4287.410000  4316.620000   \n",
       "                    ETHUSDT    -4.048752   302.600006   302.679993   \n",
       "...                                  ...          ...          ...   \n",
       "2024-12-27 23:00:00 SYSUSDT    -5.632999     0.111100     0.111600   \n",
       "                    TRXUSDT    -7.860292     0.258600     0.259400   \n",
       "                    VETUSDT    -5.479996     0.045370     0.045580   \n",
       "                    WAXPUSDT   -5.915972     0.040590     0.040770   \n",
       "                    XECUSDT    -5.503282     0.000034     0.000034   \n",
       "\n",
       "                                    price   returns        volume  \\\n",
       "date                coin                                            \n",
       "2017-08-17 05:00:00 BTCUSDT   4315.320000  0.001506  2.323492e+01   \n",
       "                    ETHUSDT    303.100006  0.004940  3.776725e+02   \n",
       "2017-08-17 06:00:00 BTCUSDT   4324.350000  0.002093  7.229691e+00   \n",
       "2017-08-17 07:00:00 BTCUSDT   4349.990000  0.005929  4.443249e+00   \n",
       "                    ETHUSDT    307.959991  0.017444  7.547451e+02   \n",
       "...                                   ...       ...           ...   \n",
       "2024-12-27 23:00:00 SYSUSDT      0.112200  0.003578  7.290790e+05   \n",
       "                    TRXUSDT      0.259400  0.000386  1.499596e+07   \n",
       "                    VETUSDT      0.045760  0.004169  1.004372e+07   \n",
       "                    WAXPUSDT     0.040910  0.002696  1.056349e+06   \n",
       "                    XECUSDT      0.000035  0.004073  1.147830e+09   \n",
       "\n",
       "                              volume_in_dollars  \n",
       "date                coin                         \n",
       "2017-08-17 05:00:00 BTCUSDT        1.002661e+05  \n",
       "                    ETHUSDT        1.144725e+05  \n",
       "2017-08-17 06:00:00 BTCUSDT        3.126371e+04  \n",
       "2017-08-17 07:00:00 BTCUSDT        1.932809e+04  \n",
       "                    ETHUSDT        2.324313e+05  \n",
       "...                                         ...  \n",
       "2024-12-27 23:00:00 SYSUSDT        8.180266e+04  \n",
       "                    TRXUSDT        3.889953e+06  \n",
       "                    VETUSDT        4.596008e+05  \n",
       "                    WAXPUSDT       4.321524e+04  \n",
       "                    XECUSDT        3.961160e+04  \n",
       "\n",
       "[956964 rows x 10 columns]"
      ]
     },
     "execution_count": 8,
     "metadata": {},
     "output_type": "execute_result"
    }
   ],
   "source": [
    "# Specify the relative or absolute path to the CSV file\n",
    "file_path = r\"C:\\Users\\yassi\\OneDrive\\Documents\\GitHub\\Portfolio_1\\Technical_Portfolio\\Data_Management\\all_data.csv\"\n",
    "\n",
    "# Read the CSV file\n",
    "all_data = pd.read_csv(file_path, index_col=['date', 'coin'], parse_dates=['date'])\n",
    "all_data"
   ]
  },
  {
   "cell_type": "code",
   "execution_count": 9,
   "metadata": {},
   "outputs": [
    {
     "data": {
      "text/html": [
       "<div>\n",
       "<style scoped>\n",
       "    .dataframe tbody tr th:only-of-type {\n",
       "        vertical-align: middle;\n",
       "    }\n",
       "\n",
       "    .dataframe tbody tr th {\n",
       "        vertical-align: top;\n",
       "    }\n",
       "\n",
       "    .dataframe thead th {\n",
       "        text-align: right;\n",
       "    }\n",
       "</style>\n",
       "<table border=\"1\" class=\"dataframe\">\n",
       "  <thead>\n",
       "    <tr style=\"text-align: right;\">\n",
       "      <th></th>\n",
       "      <th></th>\n",
       "      <th>close</th>\n",
       "      <th>creturns</th>\n",
       "      <th>high</th>\n",
       "      <th>log_return</th>\n",
       "      <th>low</th>\n",
       "      <th>open</th>\n",
       "      <th>price</th>\n",
       "      <th>returns</th>\n",
       "      <th>volume</th>\n",
       "      <th>volume_in_dollars</th>\n",
       "    </tr>\n",
       "    <tr>\n",
       "      <th>date</th>\n",
       "      <th>coin</th>\n",
       "      <th></th>\n",
       "      <th></th>\n",
       "      <th></th>\n",
       "      <th></th>\n",
       "      <th></th>\n",
       "      <th></th>\n",
       "      <th></th>\n",
       "      <th></th>\n",
       "      <th></th>\n",
       "      <th></th>\n",
       "    </tr>\n",
       "  </thead>\n",
       "  <tbody>\n",
       "    <tr>\n",
       "      <th rowspan=\"5\" valign=\"top\">2024-01-01 01:00:00</th>\n",
       "      <th>ADAUSDT</th>\n",
       "      <td>0.6023</td>\n",
       "      <td>1.007359</td>\n",
       "      <td>0.6029</td>\n",
       "      <td>0.007332</td>\n",
       "      <td>0.5966</td>\n",
       "      <td>0.5979</td>\n",
       "      <td>0.6023</td>\n",
       "      <td>0.007359</td>\n",
       "      <td>2.607607e+06</td>\n",
       "      <td>1.570562e+06</td>\n",
       "    </tr>\n",
       "    <tr>\n",
       "      <th>BNBUSDT</th>\n",
       "      <td>315.3000</td>\n",
       "      <td>1.002863</td>\n",
       "      <td>316.0000</td>\n",
       "      <td>0.002859</td>\n",
       "      <td>314.1000</td>\n",
       "      <td>314.3000</td>\n",
       "      <td>315.3000</td>\n",
       "      <td>0.002863</td>\n",
       "      <td>1.555812e+04</td>\n",
       "      <td>4.905474e+06</td>\n",
       "    </tr>\n",
       "    <tr>\n",
       "      <th>BTCUSDT</th>\n",
       "      <td>42613.5600</td>\n",
       "      <td>1.003257</td>\n",
       "      <td>42775.0000</td>\n",
       "      <td>0.003251</td>\n",
       "      <td>42431.6500</td>\n",
       "      <td>42475.2300</td>\n",
       "      <td>42613.5600</td>\n",
       "      <td>0.003257</td>\n",
       "      <td>1.196379e+03</td>\n",
       "      <td>5.098195e+07</td>\n",
       "    </tr>\n",
       "    <tr>\n",
       "      <th>ETHUSDT</th>\n",
       "      <td>2303.7200</td>\n",
       "      <td>1.003577</td>\n",
       "      <td>2306.6000</td>\n",
       "      <td>0.003570</td>\n",
       "      <td>2292.9000</td>\n",
       "      <td>2295.5200</td>\n",
       "      <td>2303.7200</td>\n",
       "      <td>0.003577</td>\n",
       "      <td>8.413426e+03</td>\n",
       "      <td>1.938218e+07</td>\n",
       "    </tr>\n",
       "    <tr>\n",
       "      <th>XRPUSDT</th>\n",
       "      <td>0.6185</td>\n",
       "      <td>1.003733</td>\n",
       "      <td>0.6190</td>\n",
       "      <td>0.003726</td>\n",
       "      <td>0.6150</td>\n",
       "      <td>0.6161</td>\n",
       "      <td>0.6185</td>\n",
       "      <td>0.003733</td>\n",
       "      <td>9.029149e+06</td>\n",
       "      <td>5.584529e+06</td>\n",
       "    </tr>\n",
       "    <tr>\n",
       "      <th>...</th>\n",
       "      <th>...</th>\n",
       "      <td>...</td>\n",
       "      <td>...</td>\n",
       "      <td>...</td>\n",
       "      <td>...</td>\n",
       "      <td>...</td>\n",
       "      <td>...</td>\n",
       "      <td>...</td>\n",
       "      <td>...</td>\n",
       "      <td>...</td>\n",
       "      <td>...</td>\n",
       "    </tr>\n",
       "    <tr>\n",
       "      <th rowspan=\"5\" valign=\"top\">2024-08-31 23:00:00</th>\n",
       "      <th>ADAUSDT</th>\n",
       "      <td>0.3450</td>\n",
       "      <td>0.577020</td>\n",
       "      <td>0.3457</td>\n",
       "      <td>-0.000869</td>\n",
       "      <td>0.3444</td>\n",
       "      <td>0.3452</td>\n",
       "      <td>0.3450</td>\n",
       "      <td>-0.000869</td>\n",
       "      <td>4.080661e+05</td>\n",
       "      <td>1.407828e+05</td>\n",
       "    </tr>\n",
       "    <tr>\n",
       "      <th>BNBUSDT</th>\n",
       "      <td>532.9000</td>\n",
       "      <td>1.694975</td>\n",
       "      <td>534.1000</td>\n",
       "      <td>-0.001313</td>\n",
       "      <td>531.8000</td>\n",
       "      <td>533.7000</td>\n",
       "      <td>532.9000</td>\n",
       "      <td>-0.001312</td>\n",
       "      <td>4.081118e+03</td>\n",
       "      <td>2.174828e+06</td>\n",
       "    </tr>\n",
       "    <tr>\n",
       "      <th>BTCUSDT</th>\n",
       "      <td>58973.9900</td>\n",
       "      <td>1.388433</td>\n",
       "      <td>59056.0000</td>\n",
       "      <td>-0.000848</td>\n",
       "      <td>58927.0000</td>\n",
       "      <td>59023.9900</td>\n",
       "      <td>58973.9900</td>\n",
       "      <td>-0.000847</td>\n",
       "      <td>2.835652e+02</td>\n",
       "      <td>1.672297e+07</td>\n",
       "    </tr>\n",
       "    <tr>\n",
       "      <th>ETHUSDT</th>\n",
       "      <td>2513.0100</td>\n",
       "      <td>1.094750</td>\n",
       "      <td>2518.7300</td>\n",
       "      <td>-0.001586</td>\n",
       "      <td>2511.2500</td>\n",
       "      <td>2517.0100</td>\n",
       "      <td>2513.0100</td>\n",
       "      <td>-0.001585</td>\n",
       "      <td>1.698007e+03</td>\n",
       "      <td>4.267109e+06</td>\n",
       "    </tr>\n",
       "    <tr>\n",
       "      <th>XRPUSDT</th>\n",
       "      <td>0.5662</td>\n",
       "      <td>0.918858</td>\n",
       "      <td>0.5673</td>\n",
       "      <td>-0.002117</td>\n",
       "      <td>0.5655</td>\n",
       "      <td>0.5673</td>\n",
       "      <td>0.5662</td>\n",
       "      <td>-0.002115</td>\n",
       "      <td>1.039277e+06</td>\n",
       "      <td>5.884386e+05</td>\n",
       "    </tr>\n",
       "  </tbody>\n",
       "</table>\n",
       "<p>29275 rows × 10 columns</p>\n",
       "</div>"
      ],
      "text/plain": [
       "                                  close  creturns        high  log_return  \\\n",
       "date                coin                                                    \n",
       "2024-01-01 01:00:00 ADAUSDT      0.6023  1.007359      0.6029    0.007332   \n",
       "                    BNBUSDT    315.3000  1.002863    316.0000    0.002859   \n",
       "                    BTCUSDT  42613.5600  1.003257  42775.0000    0.003251   \n",
       "                    ETHUSDT   2303.7200  1.003577   2306.6000    0.003570   \n",
       "                    XRPUSDT      0.6185  1.003733      0.6190    0.003726   \n",
       "...                                 ...       ...         ...         ...   \n",
       "2024-08-31 23:00:00 ADAUSDT      0.3450  0.577020      0.3457   -0.000869   \n",
       "                    BNBUSDT    532.9000  1.694975    534.1000   -0.001313   \n",
       "                    BTCUSDT  58973.9900  1.388433  59056.0000   -0.000848   \n",
       "                    ETHUSDT   2513.0100  1.094750   2518.7300   -0.001586   \n",
       "                    XRPUSDT      0.5662  0.918858      0.5673   -0.002117   \n",
       "\n",
       "                                    low        open       price   returns  \\\n",
       "date                coin                                                    \n",
       "2024-01-01 01:00:00 ADAUSDT      0.5966      0.5979      0.6023  0.007359   \n",
       "                    BNBUSDT    314.1000    314.3000    315.3000  0.002863   \n",
       "                    BTCUSDT  42431.6500  42475.2300  42613.5600  0.003257   \n",
       "                    ETHUSDT   2292.9000   2295.5200   2303.7200  0.003577   \n",
       "                    XRPUSDT      0.6150      0.6161      0.6185  0.003733   \n",
       "...                                 ...         ...         ...       ...   \n",
       "2024-08-31 23:00:00 ADAUSDT      0.3444      0.3452      0.3450 -0.000869   \n",
       "                    BNBUSDT    531.8000    533.7000    532.9000 -0.001312   \n",
       "                    BTCUSDT  58927.0000  59023.9900  58973.9900 -0.000847   \n",
       "                    ETHUSDT   2511.2500   2517.0100   2513.0100 -0.001585   \n",
       "                    XRPUSDT      0.5655      0.5673      0.5662 -0.002115   \n",
       "\n",
       "                                   volume  volume_in_dollars  \n",
       "date                coin                                      \n",
       "2024-01-01 01:00:00 ADAUSDT  2.607607e+06       1.570562e+06  \n",
       "                    BNBUSDT  1.555812e+04       4.905474e+06  \n",
       "                    BTCUSDT  1.196379e+03       5.098195e+07  \n",
       "                    ETHUSDT  8.413426e+03       1.938218e+07  \n",
       "                    XRPUSDT  9.029149e+06       5.584529e+06  \n",
       "...                                   ...                ...  \n",
       "2024-08-31 23:00:00 ADAUSDT  4.080661e+05       1.407828e+05  \n",
       "                    BNBUSDT  4.081118e+03       2.174828e+06  \n",
       "                    BTCUSDT  2.835652e+02       1.672297e+07  \n",
       "                    ETHUSDT  1.698007e+03       4.267109e+06  \n",
       "                    XRPUSDT  1.039277e+06       5.884386e+05  \n",
       "\n",
       "[29275 rows x 10 columns]"
      ]
     },
     "execution_count": 9,
     "metadata": {},
     "output_type": "execute_result"
    }
   ],
   "source": [
    "start_time = dt.datetime(2024, 1, 1)\n",
    "end_time = dt.datetime(2024, 9, 1)\n",
    "timeframes = ['1w', '1d', '4h', '1h', '30m','15m', '5m', '1m']\n",
    "index = 3 #It is better to choose the highest frequency for the backtest to be able to downsample\n",
    "interval = timeframes[index]\n",
    "symbols = ['BTCUSDT', 'ETHUSDT', 'BNBUSDT', 'ADAUSDT', 'XRPUSDT']\n",
    "data = Data(symbols, interval, start_time, end_time).df\n",
    "data"
   ]
  },
  {
   "cell_type": "markdown",
   "metadata": {},
   "source": [
    "---"
   ]
  },
  {
   "cell_type": "markdown",
   "metadata": {},
   "source": [
    "## Dynamic Universe Selection Strategy"
   ]
  },
  {
   "cell_type": "markdown",
   "metadata": {},
   "source": [
    "current_universe = {}\\\n",
    "max_positions = 4\n",
    "```pseudocode\n",
    "for each row:\n",
    "\tfor each coin in current_universe:\n",
    "\t\tIf the current position of the coin == 0\n",
    "\t\t\tRemove it from current universe\n",
    "\n",
    "\tif len(universe) < max_positions:\n",
    "\n",
    "\t\tcurrent coins = coins at the current index\n",
    "\t\tavailable_coins = current_coins - universe => All coins not in the universe\n",
    "\n",
    "\t\tfilter = above_ema, volume_rank < 50 (could be optimized), std_rank < 4 (should be FINAL Constant),\t entry_signal.shift() == 1\n",
    "\t\tpotential_coins = available coins with applied filter => Potenatial coins that could be added to the universe\n",
    "\t\tpotential_coins = potential_coins.sort(based on std_rank)\n",
    "\t\n",
    "\t\tmissing_positions = max_positions - len(current_universe)\n",
    "\t\tto_be_added = potential_coins[:missing_positions]\n",
    "\n",
    "\t\tcurrent_universe = current_universe + to_be_added #Update the current universe\n",
    "\n",
    "\tfor each coin in the current row:\n",
    "\t\tif coin is in universe:\n",
    "\t\t\tdf[(time, coin), 'in_universe'] = True => mark it as part of the universe\n",
    "\n",
    "\treturn df = df[df['in_universe']]\n",
    "\n",
    "```\n",
    "\n"
   ]
  },
  {
   "cell_type": "code",
   "execution_count": 22,
   "metadata": {},
   "outputs": [
    {
     "data": {
      "text/html": [
       "<div>\n",
       "<style scoped>\n",
       "    .dataframe tbody tr th:only-of-type {\n",
       "        vertical-align: middle;\n",
       "    }\n",
       "\n",
       "    .dataframe tbody tr th {\n",
       "        vertical-align: top;\n",
       "    }\n",
       "\n",
       "    .dataframe thead th {\n",
       "        text-align: right;\n",
       "    }\n",
       "</style>\n",
       "<table border=\"1\" class=\"dataframe\">\n",
       "  <thead>\n",
       "    <tr style=\"text-align: right;\">\n",
       "      <th></th>\n",
       "      <th></th>\n",
       "      <th>above_ema</th>\n",
       "      <th>volume_rank</th>\n",
       "      <th>std_rank</th>\n",
       "      <th>entry_signal</th>\n",
       "      <th>position</th>\n",
       "    </tr>\n",
       "    <tr>\n",
       "      <th>time</th>\n",
       "      <th>coin</th>\n",
       "      <th></th>\n",
       "      <th></th>\n",
       "      <th></th>\n",
       "      <th></th>\n",
       "      <th></th>\n",
       "    </tr>\n",
       "  </thead>\n",
       "  <tbody>\n",
       "    <tr>\n",
       "      <th rowspan=\"5\" valign=\"top\">2024-01-01</th>\n",
       "      <th>Coin_0</th>\n",
       "      <td>True</td>\n",
       "      <td>14</td>\n",
       "      <td>9</td>\n",
       "      <td>0</td>\n",
       "      <td>0</td>\n",
       "    </tr>\n",
       "    <tr>\n",
       "      <th>Coin_1</th>\n",
       "      <td>True</td>\n",
       "      <td>78</td>\n",
       "      <td>7</td>\n",
       "      <td>1</td>\n",
       "      <td>0</td>\n",
       "    </tr>\n",
       "    <tr>\n",
       "      <th>Coin_2</th>\n",
       "      <td>True</td>\n",
       "      <td>29</td>\n",
       "      <td>1</td>\n",
       "      <td>0</td>\n",
       "      <td>0</td>\n",
       "    </tr>\n",
       "    <tr>\n",
       "      <th>Coin_3</th>\n",
       "      <td>True</td>\n",
       "      <td>32</td>\n",
       "      <td>1</td>\n",
       "      <td>1</td>\n",
       "      <td>1</td>\n",
       "    </tr>\n",
       "    <tr>\n",
       "      <th>Coin_4</th>\n",
       "      <td>False</td>\n",
       "      <td>79</td>\n",
       "      <td>9</td>\n",
       "      <td>1</td>\n",
       "      <td>0</td>\n",
       "    </tr>\n",
       "  </tbody>\n",
       "</table>\n",
       "</div>"
      ],
      "text/plain": [
       "                   above_ema  volume_rank  std_rank  entry_signal  position\n",
       "time       coin                                                            \n",
       "2024-01-01 Coin_0       True           14         9             0         0\n",
       "           Coin_1       True           78         7             1         0\n",
       "           Coin_2       True           29         1             0         0\n",
       "           Coin_3       True           32         1             1         1\n",
       "           Coin_4      False           79         9             1         0"
      ]
     },
     "execution_count": 22,
     "metadata": {},
     "output_type": "execute_result"
    }
   ],
   "source": [
    "def create_test_df(num_times: int = 5, num_coins: int = 10):\n",
    "    \"\"\"Creates a multi-index DataFrame for testing.\"\"\"\n",
    "    times = pd.to_datetime(['2024-01-01'] + [pd.Timestamp('2024-01-01') + pd.Timedelta(days=i) for i in range(1, num_times)])\n",
    "    coins = [f\"Coin_{i}\" for i in range(num_coins)]\n",
    "    index = pd.MultiIndex.from_product([times, coins], names=['time', 'coin'])\n",
    "    \n",
    "    df = pd.DataFrame(index=index)\n",
    "    df['above_ema'] = np.random.choice([True, False], size=len(df))\n",
    "    df['volume_rank'] = np.random.randint(1, 100, size=len(df))\n",
    "    df['std_rank'] = np.random.randint(1, 10, size=len(df))\n",
    "    df['entry_signal'] = np.random.randint(0, 2, size=len(df)) # 0 or 1\n",
    "    df['position'] = np.random.randint(0, 2, size=len(df))\n",
    "    return df\n",
    "\n",
    "# Example usage to create a test DataFrame:\n",
    "test_df = create_test_df(num_times=4, num_coins=8)\n",
    "test_df.head()"
   ]
  },
  {
   "cell_type": "code",
   "execution_count": 23,
   "metadata": {},
   "outputs": [
    {
     "name": "stdout",
     "output_type": "stream",
     "text": [
      "{'Coin_6'}\n"
     ]
    },
    {
     "name": "stderr",
     "output_type": "stream",
     "text": [
      "C:\\Users\\yassi\\AppData\\Local\\Temp\\ipykernel_4556\\3841925515.py:58: FutureWarning: The previous implementation of stack is deprecated and will be removed in a future version of pandas. See the What's New notes for pandas 2.1.0 for details. Specify future_stack=True to adopt the new implementation and silence this warning.\n",
      "  df = df.stack()\n"
     ]
    },
    {
     "data": {
      "text/html": [
       "<div>\n",
       "<style scoped>\n",
       "    .dataframe tbody tr th:only-of-type {\n",
       "        vertical-align: middle;\n",
       "    }\n",
       "\n",
       "    .dataframe tbody tr th {\n",
       "        vertical-align: top;\n",
       "    }\n",
       "\n",
       "    .dataframe thead th {\n",
       "        text-align: right;\n",
       "    }\n",
       "</style>\n",
       "<table border=\"1\" class=\"dataframe\">\n",
       "  <thead>\n",
       "    <tr style=\"text-align: right;\">\n",
       "      <th></th>\n",
       "      <th></th>\n",
       "      <th>above_ema</th>\n",
       "      <th>volume_rank</th>\n",
       "      <th>std_rank</th>\n",
       "      <th>entry_signal</th>\n",
       "      <th>position</th>\n",
       "      <th>in_universe</th>\n",
       "    </tr>\n",
       "    <tr>\n",
       "      <th>time</th>\n",
       "      <th>coin</th>\n",
       "      <th></th>\n",
       "      <th></th>\n",
       "      <th></th>\n",
       "      <th></th>\n",
       "      <th></th>\n",
       "      <th></th>\n",
       "    </tr>\n",
       "  </thead>\n",
       "  <tbody>\n",
       "    <tr>\n",
       "      <th rowspan=\"8\" valign=\"top\">2024-01-01</th>\n",
       "      <th>Coin_0</th>\n",
       "      <td>True</td>\n",
       "      <td>14</td>\n",
       "      <td>9</td>\n",
       "      <td>0</td>\n",
       "      <td>0</td>\n",
       "      <td>NaN</td>\n",
       "    </tr>\n",
       "    <tr>\n",
       "      <th>Coin_1</th>\n",
       "      <td>True</td>\n",
       "      <td>78</td>\n",
       "      <td>7</td>\n",
       "      <td>1</td>\n",
       "      <td>0</td>\n",
       "      <td>NaN</td>\n",
       "    </tr>\n",
       "    <tr>\n",
       "      <th>Coin_2</th>\n",
       "      <td>True</td>\n",
       "      <td>29</td>\n",
       "      <td>1</td>\n",
       "      <td>0</td>\n",
       "      <td>0</td>\n",
       "      <td>NaN</td>\n",
       "    </tr>\n",
       "    <tr>\n",
       "      <th>Coin_3</th>\n",
       "      <td>True</td>\n",
       "      <td>32</td>\n",
       "      <td>1</td>\n",
       "      <td>1</td>\n",
       "      <td>1</td>\n",
       "      <td>NaN</td>\n",
       "    </tr>\n",
       "    <tr>\n",
       "      <th>Coin_4</th>\n",
       "      <td>False</td>\n",
       "      <td>79</td>\n",
       "      <td>9</td>\n",
       "      <td>1</td>\n",
       "      <td>0</td>\n",
       "      <td>NaN</td>\n",
       "    </tr>\n",
       "    <tr>\n",
       "      <th>Coin_5</th>\n",
       "      <td>True</td>\n",
       "      <td>84</td>\n",
       "      <td>3</td>\n",
       "      <td>0</td>\n",
       "      <td>1</td>\n",
       "      <td>NaN</td>\n",
       "    </tr>\n",
       "    <tr>\n",
       "      <th>Coin_6</th>\n",
       "      <td>False</td>\n",
       "      <td>20</td>\n",
       "      <td>9</td>\n",
       "      <td>1</td>\n",
       "      <td>1</td>\n",
       "      <td>NaN</td>\n",
       "    </tr>\n",
       "    <tr>\n",
       "      <th>Coin_7</th>\n",
       "      <td>False</td>\n",
       "      <td>64</td>\n",
       "      <td>9</td>\n",
       "      <td>0</td>\n",
       "      <td>1</td>\n",
       "      <td>NaN</td>\n",
       "    </tr>\n",
       "    <tr>\n",
       "      <th rowspan=\"8\" valign=\"top\">2024-01-02</th>\n",
       "      <th>Coin_0</th>\n",
       "      <td>False</td>\n",
       "      <td>8</td>\n",
       "      <td>3</td>\n",
       "      <td>1</td>\n",
       "      <td>1</td>\n",
       "      <td>False</td>\n",
       "    </tr>\n",
       "    <tr>\n",
       "      <th>Coin_1</th>\n",
       "      <td>False</td>\n",
       "      <td>64</td>\n",
       "      <td>1</td>\n",
       "      <td>0</td>\n",
       "      <td>1</td>\n",
       "      <td>False</td>\n",
       "    </tr>\n",
       "    <tr>\n",
       "      <th>Coin_2</th>\n",
       "      <td>True</td>\n",
       "      <td>96</td>\n",
       "      <td>5</td>\n",
       "      <td>0</td>\n",
       "      <td>1</td>\n",
       "      <td>False</td>\n",
       "    </tr>\n",
       "    <tr>\n",
       "      <th>Coin_3</th>\n",
       "      <td>True</td>\n",
       "      <td>51</td>\n",
       "      <td>5</td>\n",
       "      <td>1</td>\n",
       "      <td>0</td>\n",
       "      <td>True</td>\n",
       "    </tr>\n",
       "    <tr>\n",
       "      <th>Coin_4</th>\n",
       "      <td>False</td>\n",
       "      <td>49</td>\n",
       "      <td>9</td>\n",
       "      <td>1</td>\n",
       "      <td>0</td>\n",
       "      <td>False</td>\n",
       "    </tr>\n",
       "    <tr>\n",
       "      <th>Coin_5</th>\n",
       "      <td>True</td>\n",
       "      <td>68</td>\n",
       "      <td>5</td>\n",
       "      <td>1</td>\n",
       "      <td>0</td>\n",
       "      <td>False</td>\n",
       "    </tr>\n",
       "    <tr>\n",
       "      <th>Coin_6</th>\n",
       "      <td>True</td>\n",
       "      <td>1</td>\n",
       "      <td>3</td>\n",
       "      <td>1</td>\n",
       "      <td>1</td>\n",
       "      <td>False</td>\n",
       "    </tr>\n",
       "    <tr>\n",
       "      <th>Coin_7</th>\n",
       "      <td>False</td>\n",
       "      <td>43</td>\n",
       "      <td>4</td>\n",
       "      <td>0</td>\n",
       "      <td>1</td>\n",
       "      <td>False</td>\n",
       "    </tr>\n",
       "    <tr>\n",
       "      <th rowspan=\"8\" valign=\"top\">2024-01-03</th>\n",
       "      <th>Coin_0</th>\n",
       "      <td>False</td>\n",
       "      <td>53</td>\n",
       "      <td>4</td>\n",
       "      <td>0</td>\n",
       "      <td>0</td>\n",
       "      <td>False</td>\n",
       "    </tr>\n",
       "    <tr>\n",
       "      <th>Coin_1</th>\n",
       "      <td>False</td>\n",
       "      <td>85</td>\n",
       "      <td>8</td>\n",
       "      <td>0</td>\n",
       "      <td>0</td>\n",
       "      <td>False</td>\n",
       "    </tr>\n",
       "    <tr>\n",
       "      <th>Coin_2</th>\n",
       "      <td>False</td>\n",
       "      <td>74</td>\n",
       "      <td>6</td>\n",
       "      <td>1</td>\n",
       "      <td>0</td>\n",
       "      <td>False</td>\n",
       "    </tr>\n",
       "    <tr>\n",
       "      <th>Coin_3</th>\n",
       "      <td>False</td>\n",
       "      <td>73</td>\n",
       "      <td>9</td>\n",
       "      <td>1</td>\n",
       "      <td>0</td>\n",
       "      <td>False</td>\n",
       "    </tr>\n",
       "    <tr>\n",
       "      <th>Coin_4</th>\n",
       "      <td>False</td>\n",
       "      <td>61</td>\n",
       "      <td>7</td>\n",
       "      <td>1</td>\n",
       "      <td>1</td>\n",
       "      <td>False</td>\n",
       "    </tr>\n",
       "    <tr>\n",
       "      <th>Coin_5</th>\n",
       "      <td>True</td>\n",
       "      <td>93</td>\n",
       "      <td>7</td>\n",
       "      <td>0</td>\n",
       "      <td>0</td>\n",
       "      <td>False</td>\n",
       "    </tr>\n",
       "    <tr>\n",
       "      <th>Coin_6</th>\n",
       "      <td>True</td>\n",
       "      <td>12</td>\n",
       "      <td>5</td>\n",
       "      <td>1</td>\n",
       "      <td>0</td>\n",
       "      <td>True</td>\n",
       "    </tr>\n",
       "    <tr>\n",
       "      <th>Coin_7</th>\n",
       "      <td>True</td>\n",
       "      <td>86</td>\n",
       "      <td>1</td>\n",
       "      <td>0</td>\n",
       "      <td>1</td>\n",
       "      <td>False</td>\n",
       "    </tr>\n",
       "    <tr>\n",
       "      <th rowspan=\"8\" valign=\"top\">2024-01-04</th>\n",
       "      <th>Coin_0</th>\n",
       "      <td>True</td>\n",
       "      <td>94</td>\n",
       "      <td>4</td>\n",
       "      <td>1</td>\n",
       "      <td>0</td>\n",
       "      <td>False</td>\n",
       "    </tr>\n",
       "    <tr>\n",
       "      <th>Coin_1</th>\n",
       "      <td>True</td>\n",
       "      <td>52</td>\n",
       "      <td>1</td>\n",
       "      <td>1</td>\n",
       "      <td>1</td>\n",
       "      <td>False</td>\n",
       "    </tr>\n",
       "    <tr>\n",
       "      <th>Coin_2</th>\n",
       "      <td>True</td>\n",
       "      <td>80</td>\n",
       "      <td>5</td>\n",
       "      <td>0</td>\n",
       "      <td>0</td>\n",
       "      <td>False</td>\n",
       "    </tr>\n",
       "    <tr>\n",
       "      <th>Coin_3</th>\n",
       "      <td>False</td>\n",
       "      <td>47</td>\n",
       "      <td>5</td>\n",
       "      <td>0</td>\n",
       "      <td>1</td>\n",
       "      <td>False</td>\n",
       "    </tr>\n",
       "    <tr>\n",
       "      <th>Coin_4</th>\n",
       "      <td>True</td>\n",
       "      <td>41</td>\n",
       "      <td>7</td>\n",
       "      <td>0</td>\n",
       "      <td>1</td>\n",
       "      <td>False</td>\n",
       "    </tr>\n",
       "    <tr>\n",
       "      <th>Coin_5</th>\n",
       "      <td>False</td>\n",
       "      <td>65</td>\n",
       "      <td>4</td>\n",
       "      <td>0</td>\n",
       "      <td>0</td>\n",
       "      <td>False</td>\n",
       "    </tr>\n",
       "    <tr>\n",
       "      <th>Coin_6</th>\n",
       "      <td>False</td>\n",
       "      <td>41</td>\n",
       "      <td>1</td>\n",
       "      <td>0</td>\n",
       "      <td>1</td>\n",
       "      <td>True</td>\n",
       "    </tr>\n",
       "    <tr>\n",
       "      <th>Coin_7</th>\n",
       "      <td>True</td>\n",
       "      <td>84</td>\n",
       "      <td>5</td>\n",
       "      <td>0</td>\n",
       "      <td>0</td>\n",
       "      <td>False</td>\n",
       "    </tr>\n",
       "  </tbody>\n",
       "</table>\n",
       "</div>"
      ],
      "text/plain": [
       "                   above_ema  volume_rank  std_rank  entry_signal  position  \\\n",
       "time       coin                                                               \n",
       "2024-01-01 Coin_0       True           14         9             0         0   \n",
       "           Coin_1       True           78         7             1         0   \n",
       "           Coin_2       True           29         1             0         0   \n",
       "           Coin_3       True           32         1             1         1   \n",
       "           Coin_4      False           79         9             1         0   \n",
       "           Coin_5       True           84         3             0         1   \n",
       "           Coin_6      False           20         9             1         1   \n",
       "           Coin_7      False           64         9             0         1   \n",
       "2024-01-02 Coin_0      False            8         3             1         1   \n",
       "           Coin_1      False           64         1             0         1   \n",
       "           Coin_2       True           96         5             0         1   \n",
       "           Coin_3       True           51         5             1         0   \n",
       "           Coin_4      False           49         9             1         0   \n",
       "           Coin_5       True           68         5             1         0   \n",
       "           Coin_6       True            1         3             1         1   \n",
       "           Coin_7      False           43         4             0         1   \n",
       "2024-01-03 Coin_0      False           53         4             0         0   \n",
       "           Coin_1      False           85         8             0         0   \n",
       "           Coin_2      False           74         6             1         0   \n",
       "           Coin_3      False           73         9             1         0   \n",
       "           Coin_4      False           61         7             1         1   \n",
       "           Coin_5       True           93         7             0         0   \n",
       "           Coin_6       True           12         5             1         0   \n",
       "           Coin_7       True           86         1             0         1   \n",
       "2024-01-04 Coin_0       True           94         4             1         0   \n",
       "           Coin_1       True           52         1             1         1   \n",
       "           Coin_2       True           80         5             0         0   \n",
       "           Coin_3      False           47         5             0         1   \n",
       "           Coin_4       True           41         7             0         1   \n",
       "           Coin_5      False           65         4             0         0   \n",
       "           Coin_6      False           41         1             0         1   \n",
       "           Coin_7       True           84         5             0         0   \n",
       "\n",
       "                  in_universe  \n",
       "time       coin                \n",
       "2024-01-01 Coin_0         NaN  \n",
       "           Coin_1         NaN  \n",
       "           Coin_2         NaN  \n",
       "           Coin_3         NaN  \n",
       "           Coin_4         NaN  \n",
       "           Coin_5         NaN  \n",
       "           Coin_6         NaN  \n",
       "           Coin_7         NaN  \n",
       "2024-01-02 Coin_0       False  \n",
       "           Coin_1       False  \n",
       "           Coin_2       False  \n",
       "           Coin_3        True  \n",
       "           Coin_4       False  \n",
       "           Coin_5       False  \n",
       "           Coin_6       False  \n",
       "           Coin_7       False  \n",
       "2024-01-03 Coin_0       False  \n",
       "           Coin_1       False  \n",
       "           Coin_2       False  \n",
       "           Coin_3       False  \n",
       "           Coin_4       False  \n",
       "           Coin_5       False  \n",
       "           Coin_6        True  \n",
       "           Coin_7       False  \n",
       "2024-01-04 Coin_0       False  \n",
       "           Coin_1       False  \n",
       "           Coin_2       False  \n",
       "           Coin_3       False  \n",
       "           Coin_4       False  \n",
       "           Coin_5       False  \n",
       "           Coin_6        True  \n",
       "           Coin_7       False  "
      ]
     },
     "execution_count": 23,
     "metadata": {},
     "output_type": "execute_result"
    }
   ],
   "source": [
    "import pandas as pd\n",
    "import numpy as np\n",
    "from typing import Set, List\n",
    "import pandas as pd\n",
    "from typing import List\n",
    "\n",
    "\n",
    "def update_universe(df: pd.DataFrame, max_positions: int = 4, low_freq = '1d') -> pd.Series:\n",
    "    \"\"\"\n",
    "    Updates a DataFrame to track a dynamic universe of coins.\n",
    "    Should include the dataframe with the lower frequency data. (daily, weekly, etc.)\n",
    "    Assumes a stacked dataframe\n",
    "    \"\"\"\n",
    "    current_universe = set()\n",
    "    df['in_universe'] = False\n",
    "    \n",
    "    \n",
    "\n",
    "    for time_index in df.index.get_level_values(0).unique():\n",
    "        # Remove coins that are no longer in the universe *for this time index*\n",
    "        coins_to_remove = []\n",
    "        \n",
    "        \n",
    "        for coin in df.index.get_level_values(1):\n",
    "            current_position = df.loc[(time_index, coin), 'position']\n",
    "            current_position = np.where(current_position < 0.1, 0, current_position) #Since when optimizing, min_pos can never be 0, thus we put a threshold of 0.1 to indicate a non position\n",
    "        \n",
    "        for coin in current_universe:\n",
    "            if (time_index, coin) in df.index and df.loc[(time_index, coin), 'position'] == 0: \n",
    "                coins_to_remove.append(coin)\n",
    "                df.loc[(time_index, coin), 'in_universe'] = False\n",
    "        current_universe.difference_update(coins_to_remove) #use difference_update for set manipulation\n",
    "\n",
    "\n",
    "        current_coins = df.loc[time_index].index\n",
    "        available_coins = set(current_coins) - current_universe\n",
    "\n",
    "        if len(current_universe) < max_positions and available_coins:\n",
    "            temp_df = df.loc[(time_index, list(available_coins)), :].copy()\n",
    "\n",
    "            # The shift was the main source of the bug. It was shifting across coins,\n",
    "            # which is incorrect. We should not shift at all in this context.\n",
    "            # The intention was likely to use the *previous* time slice data.\n",
    "            # This is handled later.\n",
    "\n",
    "            filter_condition = (\n",
    "                (temp_df['above_ema']) &\n",
    "                (temp_df['volume_rank'] < 50) &\n",
    "                (temp_df['std_rank'] < 10) &\n",
    "                (temp_df['entry_signal'] == 1)\n",
    "            )\n",
    "\n",
    "            potential_coins_df = temp_df[filter_condition]\n",
    "\n",
    "            if not potential_coins_df.empty:\n",
    "                potential_coins_df = potential_coins_df.sort_values(by='std_rank')\n",
    "                potential_coins = set(potential_coins_df.index.get_level_values(1))\n",
    "                missing_positions = max_positions - len(current_universe)\n",
    "                to_be_added: List[str] = list(potential_coins)[:missing_positions]\n",
    "                current_universe.update(to_be_added)\n",
    "\n",
    "        df.loc[(time_index, list(current_universe)), 'in_universe'] = True\n",
    "    \n",
    "    df = df.unstack()\n",
    "    df['in_universe'] = df['in_universe'].shift(periods = 1, freq = low_freq)\n",
    "    df = df.stack()\n",
    "    return df['in_universe'], current_universe\n",
    "\n",
    "test_df['in_universe'], current_universe = update_universe(test_df)\n",
    "\n",
    "print(current_universe)\n",
    "test_df"
   ]
  },
  {
   "cell_type": "code",
   "execution_count": 24,
   "metadata": {},
   "outputs": [
    {
     "data": {
      "image/png": "[encoded data removed]",
      "text/plain": [
       "<Figure size 1600x500 with 10 Axes>"
      ]
     },
     "metadata": {},
     "output_type": "display_data"
    },
    {
     "data": {
      "image/png": "[encoded data removed]",
      "text/plain": [
       "<Figure size 1600x500 with 10 Axes>"
      ]
     },
     "metadata": {},
     "output_type": "display_data"
    }
   ],
   "source": [
    "###### To Optimize ######\n",
    "#All parameters:\n",
    "all_frequency = ['1W', '1D', '4h','1h', '30min','15min', '5min', '1min'] #All possible frequencies for the resampling\n",
    "low_freq_index = 1 #The index of the lowest frequency for the resampling\n",
    "low_freq = all_frequency[low_freq_index] #The lowest frequency for the resampling\n",
    "max_dollar_allocation = 10000\n",
    "std_window = 2\n",
    "mean_window = 2\n",
    "ema_window = 2\n",
    "high_freq_index = 3 #The index of the highest frequency for the resampling\n",
    "high_freq = all_frequency[high_freq_index] #The highest frequency for the resampling\n",
    "str_length = 10\n",
    "str_mult = 3\n",
    "_min_pos = 0\n",
    "_max_pos = 1\n",
    "sl_type = 'atr'\n",
    "sl_ind_length = 14\n",
    "sl_ind_mult = 3\n",
    "sl_signal_only = True\n",
    "fixed_sl = True\n",
    "tp_type = 'rr'\n",
    "tp_mult = 2\n",
    "tp_ind_length = 0\n",
    "tp_signal_only = True\n",
    "fixed_tp = True\n",
    "max_perc_risk = 0.01\n",
    "\n",
    "\n",
    "\n",
    "\n",
    "#Downsample the data\n",
    "cal = Calculations()\n",
    "#Generate a signal\n",
    "tf = Trend_Following()\n",
    "\n",
    "_df = tf.supertrend_signals(data, str_length, str_mult)\n",
    "\n",
    "pos = Position(_df, _min_pos, _max_pos)\n",
    "_df = pos.initialize_position()\n",
    "sl = Stop_Loss(_df, sl_type, sl_ind_length, sl_ind_mult, sl_signal_only)\n",
    "_df = sl.apply_stop_loss(fixed_sl, plot = True)\n",
    "tp = Take_Profit(_df, tp_type, tp_mult, tp_signal_only)\n",
    "_df = tp.apply_take_profit(fixed_tp, plot = True)\n",
    "\n",
    "_df = cal.merge_cols(_df, common = 'exit_signal', use_clip = True)\n",
    "_df = pos.calculate_position(_df)\n",
    "\n",
    "mt = Manage_Trade(_df)\n",
    "_df = mt.erw_actual_allocation(max_perc_risk, max_dollar_allocation)\n",
    "\n",
    "#########################\n",
    "\n",
    "_df = cal.update_all(_df)\n",
    "\n"
   ]
  },
  {
   "cell_type": "code",
   "execution_count": 25,
   "metadata": {},
   "outputs": [
    {
     "data": {
      "text/plain": [
       "date                        \n",
       "2024-01-01 15:00:00  ADAUSDT    NaN\n",
       "                     BNBUSDT    NaN\n",
       "                     BTCUSDT    NaN\n",
       "                     ETHUSDT    NaN\n",
       "                     XRPUSDT    NaN\n",
       "                               ... \n",
       "2024-08-31 23:00:00  ADAUSDT    0.0\n",
       "                     BNBUSDT    0.0\n",
       "                     BTCUSDT    0.0\n",
       "                     ETHUSDT    1.0\n",
       "                     XRPUSDT    1.0\n",
       "Name: position, Length: 29205, dtype: float64"
      ]
     },
     "execution_count": 25,
     "metadata": {},
     "output_type": "execute_result"
    }
   ],
   "source": [
    "_df['position']"
   ]
  },
  {
   "cell_type": "code",
   "execution_count": 26,
   "metadata": {},
   "outputs": [
    {
     "name": "stderr",
     "output_type": "stream",
     "text": [
      "C:\\Users\\yassi\\AppData\\Local\\Temp\\ipykernel_4556\\3841925515.py:58: FutureWarning: The previous implementation of stack is deprecated and will be removed in a future version of pandas. See the What's New notes for pandas 2.1.0 for details. Specify future_stack=True to adopt the new implementation and silence this warning.\n",
      "  df = df.stack()\n"
     ]
    }
   ],
   "source": [
    "df = cal.downsample(_df, low_freq)\n",
    "\n",
    "#Perform coarse analysis and filtering\n",
    "coarse = Coarse()\n",
    "df = coarse.volume_flag(df, max_dollar_allocation)\n",
    "df = coarse.sort_by_volume(df)\n",
    "df = coarse.sort_by_std(df, std_window, mean_window)\n",
    "fine = Fine()\n",
    "df = fine.above_ema(df, ema_window)\n",
    "\n",
    "#apply update_univers\n",
    "df['in_universe'], current_universe = update_universe(df)"
   ]
  },
  {
   "cell_type": "code",
   "execution_count": 27,
   "metadata": {},
   "outputs": [
    {
     "data": {
      "text/html": [
       "<div>\n",
       "<style scoped>\n",
       "    .dataframe tbody tr th:only-of-type {\n",
       "        vertical-align: middle;\n",
       "    }\n",
       "\n",
       "    .dataframe tbody tr th {\n",
       "        vertical-align: top;\n",
       "    }\n",
       "\n",
       "    .dataframe thead th {\n",
       "        text-align: right;\n",
       "    }\n",
       "</style>\n",
       "<table border=\"1\" class=\"dataframe\">\n",
       "  <thead>\n",
       "    <tr style=\"text-align: right;\">\n",
       "      <th></th>\n",
       "      <th></th>\n",
       "      <th>close</th>\n",
       "      <th>creturns</th>\n",
       "      <th>high</th>\n",
       "      <th>log_return</th>\n",
       "      <th>low</th>\n",
       "      <th>open</th>\n",
       "      <th>price</th>\n",
       "      <th>returns</th>\n",
       "      <th>volume</th>\n",
       "      <th>volume_in_dollars</th>\n",
       "      <th>...</th>\n",
       "      <th>htf_close</th>\n",
       "      <th>htf_volume</th>\n",
       "      <th>htf_volume_in_dollars</th>\n",
       "      <th>volume_flag</th>\n",
       "      <th>volume_rank</th>\n",
       "      <th>htf_std_values</th>\n",
       "      <th>std_rank</th>\n",
       "      <th>ema_2</th>\n",
       "      <th>above_ema</th>\n",
       "      <th>in_universe</th>\n",
       "    </tr>\n",
       "    <tr>\n",
       "      <th>date</th>\n",
       "      <th></th>\n",
       "      <th></th>\n",
       "      <th></th>\n",
       "      <th></th>\n",
       "      <th></th>\n",
       "      <th></th>\n",
       "      <th></th>\n",
       "      <th></th>\n",
       "      <th></th>\n",
       "      <th></th>\n",
       "      <th></th>\n",
       "      <th></th>\n",
       "      <th></th>\n",
       "      <th></th>\n",
       "      <th></th>\n",
       "      <th></th>\n",
       "      <th></th>\n",
       "      <th></th>\n",
       "      <th></th>\n",
       "      <th></th>\n",
       "      <th></th>\n",
       "      <th></th>\n",
       "    </tr>\n",
       "  </thead>\n",
       "  <tbody>\n",
       "    <tr>\n",
       "      <th rowspan=\"2\" valign=\"top\">2024-01-02 15:00:00</th>\n",
       "      <th>BNBUSDT</th>\n",
       "      <td>308.4000</td>\n",
       "      <td>0.980916</td>\n",
       "      <td>313.4000</td>\n",
       "      <td>-0.011606</td>\n",
       "      <td>305.8000</td>\n",
       "      <td>312.0000</td>\n",
       "      <td>308.4000</td>\n",
       "      <td>-0.011538</td>\n",
       "      <td>1.186873e+05</td>\n",
       "      <td>3.660317e+07</td>\n",
       "      <td>...</td>\n",
       "      <td>312.2000</td>\n",
       "      <td>9.377647e+05</td>\n",
       "      <td>2.950305e+08</td>\n",
       "      <td>1</td>\n",
       "      <td>3.0</td>\n",
       "      <td>0.0</td>\n",
       "      <td>3.0</td>\n",
       "      <td>310.299982</td>\n",
       "      <td>0</td>\n",
       "      <td>False</td>\n",
       "    </tr>\n",
       "    <tr>\n",
       "      <th>ETHUSDT</th>\n",
       "      <td>2357.4800</td>\n",
       "      <td>1.026996</td>\n",
       "      <td>2371.1400</td>\n",
       "      <td>-0.004148</td>\n",
       "      <td>2352.0400</td>\n",
       "      <td>2367.2700</td>\n",
       "      <td>2357.4800</td>\n",
       "      <td>-0.004140</td>\n",
       "      <td>2.561761e+04</td>\n",
       "      <td>6.039301e+07</td>\n",
       "      <td>...</td>\n",
       "      <td>2355.3400</td>\n",
       "      <td>4.580417e+05</td>\n",
       "      <td>1.091562e+09</td>\n",
       "      <td>1</td>\n",
       "      <td>4.0</td>\n",
       "      <td>0.0</td>\n",
       "      <td>3.0</td>\n",
       "      <td>2363.850195</td>\n",
       "      <td>0</td>\n",
       "      <td>False</td>\n",
       "    </tr>\n",
       "    <tr>\n",
       "      <th rowspan=\"2\" valign=\"top\">2024-01-02 16:00:00</th>\n",
       "      <th>BNBUSDT</th>\n",
       "      <td>310.8000</td>\n",
       "      <td>0.988550</td>\n",
       "      <td>311.3000</td>\n",
       "      <td>0.007752</td>\n",
       "      <td>307.5000</td>\n",
       "      <td>308.5000</td>\n",
       "      <td>310.8000</td>\n",
       "      <td>0.007782</td>\n",
       "      <td>5.781969e+04</td>\n",
       "      <td>1.797036e+07</td>\n",
       "      <td>...</td>\n",
       "      <td>312.2000</td>\n",
       "      <td>9.377647e+05</td>\n",
       "      <td>2.950305e+08</td>\n",
       "      <td>1</td>\n",
       "      <td>3.0</td>\n",
       "      <td>0.0</td>\n",
       "      <td>3.0</td>\n",
       "      <td>310.633327</td>\n",
       "      <td>1</td>\n",
       "      <td>False</td>\n",
       "    </tr>\n",
       "    <tr>\n",
       "      <th>ETHUSDT</th>\n",
       "      <td>2367.9100</td>\n",
       "      <td>1.031540</td>\n",
       "      <td>2369.6000</td>\n",
       "      <td>0.004414</td>\n",
       "      <td>2350.1900</td>\n",
       "      <td>2357.4800</td>\n",
       "      <td>2367.9100</td>\n",
       "      <td>0.004424</td>\n",
       "      <td>1.891655e+04</td>\n",
       "      <td>4.479269e+07</td>\n",
       "      <td>...</td>\n",
       "      <td>2355.3400</td>\n",
       "      <td>4.580417e+05</td>\n",
       "      <td>1.091562e+09</td>\n",
       "      <td>1</td>\n",
       "      <td>4.0</td>\n",
       "      <td>0.0</td>\n",
       "      <td>3.0</td>\n",
       "      <td>2366.556732</td>\n",
       "      <td>1</td>\n",
       "      <td>False</td>\n",
       "    </tr>\n",
       "    <tr>\n",
       "      <th>2024-01-02 17:00:00</th>\n",
       "      <th>BNBUSDT</th>\n",
       "      <td>310.2000</td>\n",
       "      <td>0.986641</td>\n",
       "      <td>311.2000</td>\n",
       "      <td>-0.001932</td>\n",
       "      <td>308.7000</td>\n",
       "      <td>310.8000</td>\n",
       "      <td>310.2000</td>\n",
       "      <td>-0.001931</td>\n",
       "      <td>4.304223e+04</td>\n",
       "      <td>1.335170e+07</td>\n",
       "      <td>...</td>\n",
       "      <td>312.2000</td>\n",
       "      <td>9.377647e+05</td>\n",
       "      <td>2.950305e+08</td>\n",
       "      <td>1</td>\n",
       "      <td>3.0</td>\n",
       "      <td>0.0</td>\n",
       "      <td>3.0</td>\n",
       "      <td>310.344442</td>\n",
       "      <td>0</td>\n",
       "      <td>False</td>\n",
       "    </tr>\n",
       "    <tr>\n",
       "      <th>...</th>\n",
       "      <th>...</th>\n",
       "      <td>...</td>\n",
       "      <td>...</td>\n",
       "      <td>...</td>\n",
       "      <td>...</td>\n",
       "      <td>...</td>\n",
       "      <td>...</td>\n",
       "      <td>...</td>\n",
       "      <td>...</td>\n",
       "      <td>...</td>\n",
       "      <td>...</td>\n",
       "      <td>...</td>\n",
       "      <td>...</td>\n",
       "      <td>...</td>\n",
       "      <td>...</td>\n",
       "      <td>...</td>\n",
       "      <td>...</td>\n",
       "      <td>...</td>\n",
       "      <td>...</td>\n",
       "      <td>...</td>\n",
       "      <td>...</td>\n",
       "      <td>...</td>\n",
       "    </tr>\n",
       "    <tr>\n",
       "      <th rowspan=\"5\" valign=\"top\">2024-08-31 23:00:00</th>\n",
       "      <th>ADAUSDT</th>\n",
       "      <td>0.3450</td>\n",
       "      <td>0.577020</td>\n",
       "      <td>0.3457</td>\n",
       "      <td>-0.000869</td>\n",
       "      <td>0.3444</td>\n",
       "      <td>0.3452</td>\n",
       "      <td>0.3450</td>\n",
       "      <td>-0.000869</td>\n",
       "      <td>4.080661e+05</td>\n",
       "      <td>1.407828e+05</td>\n",
       "      <td>...</td>\n",
       "      <td>0.3450</td>\n",
       "      <td>2.705748e+07</td>\n",
       "      <td>9.401247e+06</td>\n",
       "      <td>1</td>\n",
       "      <td>2.0</td>\n",
       "      <td>0.0</td>\n",
       "      <td>3.0</td>\n",
       "      <td>0.345203</td>\n",
       "      <td>0</td>\n",
       "      <td>False</td>\n",
       "    </tr>\n",
       "    <tr>\n",
       "      <th>BNBUSDT</th>\n",
       "      <td>532.9000</td>\n",
       "      <td>1.694975</td>\n",
       "      <td>534.1000</td>\n",
       "      <td>-0.001313</td>\n",
       "      <td>531.8000</td>\n",
       "      <td>533.7000</td>\n",
       "      <td>532.9000</td>\n",
       "      <td>-0.001312</td>\n",
       "      <td>4.081118e+03</td>\n",
       "      <td>2.174828e+06</td>\n",
       "      <td>...</td>\n",
       "      <td>532.9000</td>\n",
       "      <td>9.595407e+04</td>\n",
       "      <td>5.143237e+07</td>\n",
       "      <td>1</td>\n",
       "      <td>4.0</td>\n",
       "      <td>0.0</td>\n",
       "      <td>3.0</td>\n",
       "      <td>533.121016</td>\n",
       "      <td>0</td>\n",
       "      <td>False</td>\n",
       "    </tr>\n",
       "    <tr>\n",
       "      <th>BTCUSDT</th>\n",
       "      <td>58973.9900</td>\n",
       "      <td>1.388433</td>\n",
       "      <td>59056.0000</td>\n",
       "      <td>-0.000848</td>\n",
       "      <td>58927.0000</td>\n",
       "      <td>59023.9900</td>\n",
       "      <td>58973.9900</td>\n",
       "      <td>-0.000847</td>\n",
       "      <td>2.835652e+02</td>\n",
       "      <td>1.672297e+07</td>\n",
       "      <td>...</td>\n",
       "      <td>58973.9900</td>\n",
       "      <td>8.798409e+03</td>\n",
       "      <td>5.198026e+08</td>\n",
       "      <td>1</td>\n",
       "      <td>5.0</td>\n",
       "      <td>0.0</td>\n",
       "      <td>3.0</td>\n",
       "      <td>58989.910162</td>\n",
       "      <td>0</td>\n",
       "      <td>False</td>\n",
       "    </tr>\n",
       "    <tr>\n",
       "      <th>ETHUSDT</th>\n",
       "      <td>2513.0100</td>\n",
       "      <td>1.094750</td>\n",
       "      <td>2518.7300</td>\n",
       "      <td>-0.001586</td>\n",
       "      <td>2511.2500</td>\n",
       "      <td>2517.0100</td>\n",
       "      <td>2513.0100</td>\n",
       "      <td>-0.001585</td>\n",
       "      <td>1.698007e+03</td>\n",
       "      <td>4.267109e+06</td>\n",
       "      <td>...</td>\n",
       "      <td>2513.0100</td>\n",
       "      <td>9.794611e+04</td>\n",
       "      <td>2.464540e+08</td>\n",
       "      <td>1</td>\n",
       "      <td>3.0</td>\n",
       "      <td>0.0</td>\n",
       "      <td>3.0</td>\n",
       "      <td>2513.948280</td>\n",
       "      <td>0</td>\n",
       "      <td>False</td>\n",
       "    </tr>\n",
       "    <tr>\n",
       "      <th>XRPUSDT</th>\n",
       "      <td>0.5662</td>\n",
       "      <td>0.918858</td>\n",
       "      <td>0.5673</td>\n",
       "      <td>-0.002117</td>\n",
       "      <td>0.5655</td>\n",
       "      <td>0.5673</td>\n",
       "      <td>0.5662</td>\n",
       "      <td>-0.002115</td>\n",
       "      <td>1.039277e+06</td>\n",
       "      <td>5.884386e+05</td>\n",
       "      <td>...</td>\n",
       "      <td>0.5662</td>\n",
       "      <td>6.715520e+07</td>\n",
       "      <td>3.807790e+07</td>\n",
       "      <td>1</td>\n",
       "      <td>1.0</td>\n",
       "      <td>0.0</td>\n",
       "      <td>3.0</td>\n",
       "      <td>0.566509</td>\n",
       "      <td>0</td>\n",
       "      <td>False</td>\n",
       "    </tr>\n",
       "  </tbody>\n",
       "</table>\n",
       "<p>29058 rows × 47 columns</p>\n",
       "</div>"
      ],
      "text/plain": [
       "                                  close  creturns        high  log_return  \\\n",
       "date                                                                        \n",
       "2024-01-02 15:00:00 BNBUSDT    308.4000  0.980916    313.4000   -0.011606   \n",
       "                    ETHUSDT   2357.4800  1.026996   2371.1400   -0.004148   \n",
       "2024-01-02 16:00:00 BNBUSDT    310.8000  0.988550    311.3000    0.007752   \n",
       "                    ETHUSDT   2367.9100  1.031540   2369.6000    0.004414   \n",
       "2024-01-02 17:00:00 BNBUSDT    310.2000  0.986641    311.2000   -0.001932   \n",
       "...                                 ...       ...         ...         ...   \n",
       "2024-08-31 23:00:00 ADAUSDT      0.3450  0.577020      0.3457   -0.000869   \n",
       "                    BNBUSDT    532.9000  1.694975    534.1000   -0.001313   \n",
       "                    BTCUSDT  58973.9900  1.388433  59056.0000   -0.000848   \n",
       "                    ETHUSDT   2513.0100  1.094750   2518.7300   -0.001586   \n",
       "                    XRPUSDT      0.5662  0.918858      0.5673   -0.002117   \n",
       "\n",
       "                                    low        open       price   returns  \\\n",
       "date                                                                        \n",
       "2024-01-02 15:00:00 BNBUSDT    305.8000    312.0000    308.4000 -0.011538   \n",
       "                    ETHUSDT   2352.0400   2367.2700   2357.4800 -0.004140   \n",
       "2024-01-02 16:00:00 BNBUSDT    307.5000    308.5000    310.8000  0.007782   \n",
       "                    ETHUSDT   2350.1900   2357.4800   2367.9100  0.004424   \n",
       "2024-01-02 17:00:00 BNBUSDT    308.7000    310.8000    310.2000 -0.001931   \n",
       "...                                 ...         ...         ...       ...   \n",
       "2024-08-31 23:00:00 ADAUSDT      0.3444      0.3452      0.3450 -0.000869   \n",
       "                    BNBUSDT    531.8000    533.7000    532.9000 -0.001312   \n",
       "                    BTCUSDT  58927.0000  59023.9900  58973.9900 -0.000847   \n",
       "                    ETHUSDT   2511.2500   2517.0100   2513.0100 -0.001585   \n",
       "                    XRPUSDT      0.5655      0.5673      0.5662 -0.002115   \n",
       "\n",
       "                                   volume  volume_in_dollars  ...   htf_close  \\\n",
       "date                                                          ...               \n",
       "2024-01-02 15:00:00 BNBUSDT  1.186873e+05       3.660317e+07  ...    312.2000   \n",
       "                    ETHUSDT  2.561761e+04       6.039301e+07  ...   2355.3400   \n",
       "2024-01-02 16:00:00 BNBUSDT  5.781969e+04       1.797036e+07  ...    312.2000   \n",
       "                    ETHUSDT  1.891655e+04       4.479269e+07  ...   2355.3400   \n",
       "2024-01-02 17:00:00 BNBUSDT  4.304223e+04       1.335170e+07  ...    312.2000   \n",
       "...                                   ...                ...  ...         ...   \n",
       "2024-08-31 23:00:00 ADAUSDT  4.080661e+05       1.407828e+05  ...      0.3450   \n",
       "                    BNBUSDT  4.081118e+03       2.174828e+06  ...    532.9000   \n",
       "                    BTCUSDT  2.835652e+02       1.672297e+07  ...  58973.9900   \n",
       "                    ETHUSDT  1.698007e+03       4.267109e+06  ...   2513.0100   \n",
       "                    XRPUSDT  1.039277e+06       5.884386e+05  ...      0.5662   \n",
       "\n",
       "                               htf_volume  htf_volume_in_dollars  volume_flag  \\\n",
       "date                                                                            \n",
       "2024-01-02 15:00:00 BNBUSDT  9.377647e+05           2.950305e+08            1   \n",
       "                    ETHUSDT  4.580417e+05           1.091562e+09            1   \n",
       "2024-01-02 16:00:00 BNBUSDT  9.377647e+05           2.950305e+08            1   \n",
       "                    ETHUSDT  4.580417e+05           1.091562e+09            1   \n",
       "2024-01-02 17:00:00 BNBUSDT  9.377647e+05           2.950305e+08            1   \n",
       "...                                   ...                    ...          ...   \n",
       "2024-08-31 23:00:00 ADAUSDT  2.705748e+07           9.401247e+06            1   \n",
       "                    BNBUSDT  9.595407e+04           5.143237e+07            1   \n",
       "                    BTCUSDT  8.798409e+03           5.198026e+08            1   \n",
       "                    ETHUSDT  9.794611e+04           2.464540e+08            1   \n",
       "                    XRPUSDT  6.715520e+07           3.807790e+07            1   \n",
       "\n",
       "                             volume_rank  htf_std_values  std_rank  \\\n",
       "date                                                                 \n",
       "2024-01-02 15:00:00 BNBUSDT          3.0             0.0       3.0   \n",
       "                    ETHUSDT          4.0             0.0       3.0   \n",
       "2024-01-02 16:00:00 BNBUSDT          3.0             0.0       3.0   \n",
       "                    ETHUSDT          4.0             0.0       3.0   \n",
       "2024-01-02 17:00:00 BNBUSDT          3.0             0.0       3.0   \n",
       "...                                  ...             ...       ...   \n",
       "2024-08-31 23:00:00 ADAUSDT          2.0             0.0       3.0   \n",
       "                    BNBUSDT          4.0             0.0       3.0   \n",
       "                    BTCUSDT          5.0             0.0       3.0   \n",
       "                    ETHUSDT          3.0             0.0       3.0   \n",
       "                    XRPUSDT          1.0             0.0       3.0   \n",
       "\n",
       "                                    ema_2  above_ema  in_universe  \n",
       "date                                                               \n",
       "2024-01-02 15:00:00 BNBUSDT    310.299982          0        False  \n",
       "                    ETHUSDT   2363.850195          0        False  \n",
       "2024-01-02 16:00:00 BNBUSDT    310.633327          1        False  \n",
       "                    ETHUSDT   2366.556732          1        False  \n",
       "2024-01-02 17:00:00 BNBUSDT    310.344442          0        False  \n",
       "...                                   ...        ...          ...  \n",
       "2024-08-31 23:00:00 ADAUSDT      0.345203          0        False  \n",
       "                    BNBUSDT    533.121016          0        False  \n",
       "                    BTCUSDT  58989.910162          0        False  \n",
       "                    ETHUSDT   2513.948280          0        False  \n",
       "                    XRPUSDT      0.566509          0        False  \n",
       "\n",
       "[29058 rows x 47 columns]"
      ]
     },
     "execution_count": 27,
     "metadata": {},
     "output_type": "execute_result"
    }
   ],
   "source": [
    "df.dropna()"
   ]
  },
  {
   "cell_type": "code",
   "execution_count": 28,
   "metadata": {},
   "outputs": [
    {
     "data": {
      "text/plain": [
       "<Axes: xlabel='date,None'>"
      ]
     },
     "execution_count": 28,
     "metadata": {},
     "output_type": "execute_result"
    },
    {
     "data": {
      "image/png": "[encoded data removed]",
      "text/plain": [
       "<Figure size 1000x600 with 1 Axes>"
      ]
     },
     "metadata": {},
     "output_type": "display_data"
    }
   ],
   "source": [
    "df.loc[(slice(None), 'BTCUSDT'), 'close'].plot()\n"
   ]
  },
  {
   "cell_type": "code",
   "execution_count": 29,
   "metadata": {},
   "outputs": [],
   "source": [
    "df.dropna(inplace = True)"
   ]
  },
  {
   "cell_type": "code",
   "execution_count": 30,
   "metadata": {},
   "outputs": [],
   "source": [
    "df = df[df['in_universe']]"
   ]
  },
  {
   "cell_type": "code",
   "execution_count": null,
   "metadata": {},
   "outputs": [],
   "source": [
    "#Calculate transaction costs on strategy returns"
   ]
  },
  {
   "cell_type": "markdown",
   "metadata": {},
   "source": [
    "#### Trading Strategy"
   ]
  },
  {
   "cell_type": "code",
   "execution_count": 31,
   "metadata": {},
   "outputs": [],
   "source": [
    "all_frequency = ['1W', '1D', '4h','1h', '30min','15min', '5min', '1min'] #All possible frequencies for the resampling "
   ]
  },
  {
   "cell_type": "code",
   "execution_count": 41,
   "metadata": {},
   "outputs": [
    {
     "ename": "SyntaxError",
     "evalue": "expected argument value expression (2610555073.py, line 96)",
     "output_type": "error",
     "traceback": [
      "\u001b[1;36m  Cell \u001b[1;32mIn[41], line 96\u001b[1;36m\u001b[0m\n\u001b[1;33m    costs = Costs(df, maker = , taker = )\u001b[0m\n\u001b[1;37m                      ^\u001b[0m\n\u001b[1;31mSyntaxError\u001b[0m\u001b[1;31m:\u001b[0m expected argument value expression\n"
     ]
    }
   ],
   "source": [
    "def trading_strategy(\n",
    "        data,\n",
    "        params = None,\n",
    "        ###### To Optimize ######\n",
    "        std_window = 20,\n",
    "        mean_window = 20,\n",
    "        ema_window = 20,\n",
    "        str_length = 10,\n",
    "        str_mult = 3,\n",
    "        _min_pos = 0, #Has to be >= 0\n",
    "        _max_pos = 1, #Has to be > 0\n",
    "        sl_ind_length = 14,\n",
    "        sl_ind_mult = 3,\n",
    "        tp_mult = 2,\n",
    "        ptp_mult = 1,\n",
    "        ptp_exit_percent = 0.5,\n",
    "        ###### Constants ######\n",
    "        low_freq_index = 1, #The index of the lowest frequency for the resampling\n",
    "        high_freq_index = 3, #The index of the highest frequency for the resampling\n",
    "        max_perc_risk = 0.01,\n",
    "        max_dollar_allocation = 10000,\n",
    "        sl_type = 'atr',\n",
    "        tp_type = 'rr',\n",
    "        sl_signal_only = True,\n",
    "        tp_signal_only = True,\n",
    "        ptp_signal_only = True,\n",
    "        tp_ind_length = 0,\n",
    "        fixed_sl = True,\n",
    "        fixed_tp = True\n",
    "        ):\n",
    "    \n",
    "    if params is not None:\n",
    "        if isinstance(params, list):\n",
    "            std_window = params[0]\n",
    "            mean_window = params[1]\n",
    "            ema_window = params[2]\n",
    "            str_length = params[3]\n",
    "            str_mult = params[4]\n",
    "            _min_pos = params[5]\n",
    "            _max_pos = params[6]\n",
    "            sl_ind_length = params[7]\n",
    "            sl_ind_mult = params[8]\n",
    "            tp_mult = params[9]\n",
    "            ptp_mult = params[10]\n",
    "            ptp_exit_percent = params[11]\n",
    "        if isinstance(params, dict):\n",
    "            std_window = params['std_window']\n",
    "            mean_window = params['mean_window']\n",
    "            ema_window = params['ema_window']\n",
    "            str_length = params['str_length']\n",
    "            str_mult = params['str_mult']\n",
    "            _min_pos = params['_min_pos']\n",
    "            _max_pos = params['_max_pos']\n",
    "            sl_ind_length = params['sl_ind_length']\n",
    "            sl_ind_mult = params['sl_ind_mult']\n",
    "            tp_mult = params['tp_mult']\n",
    "            ptp_mult = params['ptp_mult']\n",
    "            ptp_exit_percent = params['ptp_exit_percent']\n",
    "        \n",
    "\n",
    "\n",
    "    if high_freq_index > low_freq_index:\n",
    "        low_freq = all_frequency[low_freq_index] #The lowest frequency for the resampling\n",
    "        high_freq = all_frequency[high_freq_index], #The highest frequency for the resampling\n",
    "            #Generally not going to be used since we are not calling the data inside the function\n",
    "    \n",
    "    #########################\n",
    "    \n",
    "    cal = Calculations()\n",
    "    tf = Trend_Following()\n",
    "    #Generate a signal\n",
    "    \n",
    "\n",
    "    _df = tf.supertrend_signals(data.copy(), str_length, str_mult)\n",
    "\n",
    "    pos = Position(_df, _min_pos, _max_pos)\n",
    "    _df = pos.initialize_position()\n",
    "    sl = Stop_Loss(_df, sl_type, sl_ind_length, sl_ind_mult, sl_signal_only)\n",
    "    _df = sl.apply_stop_loss(fixed_sl, plot = False)\n",
    "    tp = Take_Profit(_df, tp_type, tp_mult, tp_signal_only)\n",
    "    _df = tp.apply_take_profit(fixed_tp, plot = False)\n",
    "    ptp = Take_Profit(_df, tp_type, ptp_mult, ptp_signal_only, exit_percent = ptp_exit_percent)\n",
    "    _df = ptp.apply_take_profit(fixed_tp, plot = False)\n",
    "\n",
    "    _df = cal.merge_cols(_df, common = 'exit_signal', use_clip = True)\n",
    "    _df = pos.calculate_position(_df)\n",
    "\n",
    "    mt = Manage_Trade(_df)\n",
    "    _df = mt.erw_actual_allocation(max_perc_risk, max_dollar_allocation)\n",
    "    \n",
    "    _df = cal.update_all(_df)\n",
    "\n",
    "    #########################\n",
    "    \n",
    "    #Calculate transaction costs on strategy returns\n",
    "    costs = Costs(df, maker = 0.25, taker = 0.40)\n",
    "    df = costs.apply_fees() #Applies fees on strategy returns, appears on cumulative returns when applied \n",
    "\n",
    "    #Downsample the data\n",
    "    df = cal.downsample(_df, low_freq)\n",
    "    \n",
    "    #########################\n",
    "\n",
    "    #Perform coarse analysis and filtering\n",
    "    coarse = Coarse()\n",
    "    df = coarse.volume_flag(df, max_dollar_allocation)\n",
    "    df = coarse.sort_by_volume(df)\n",
    "    df = coarse.sort_by_std(df, std_window, mean_window)\n",
    "    fine = Fine()\n",
    "    df = fine.above_ema(df, ema_window)\n",
    "\n",
    "    #apply update_univers\n",
    "    df['in_universe'], current_universe = update_universe(df)\n",
    "\n",
    "    df.dropna(inplace = True)\n",
    "\n",
    "    df = df[df['in_universe']]\n",
    "    \n",
    "    return df\n",
    "\n"
   ]
  },
  {
   "cell_type": "code",
   "execution_count": 33,
   "metadata": {},
   "outputs": [
    {
     "name": "stderr",
     "output_type": "stream",
     "text": [
      "C:\\Users\\yassi\\AppData\\Local\\Temp\\ipykernel_4556\\3841925515.py:58: FutureWarning: The previous implementation of stack is deprecated and will be removed in a future version of pandas. See the What's New notes for pandas 2.1.0 for details. Specify future_stack=True to adopt the new implementation and silence this warning.\n",
      "  df = df.stack()\n"
     ]
    },
    {
     "data": {
      "text/plain": [
       "True"
      ]
     },
     "execution_count": 33,
     "metadata": {},
     "output_type": "execute_result"
    }
   ],
   "source": [
    "sample_strategy = trading_strategy(data)\n",
    "'strategy' in sample_strategy.columns"
   ]
  },
  {
   "cell_type": "code",
   "execution_count": 34,
   "metadata": {},
   "outputs": [
    {
     "data": {
      "text/html": [
       "<div>\n",
       "<style scoped>\n",
       "    .dataframe tbody tr th:only-of-type {\n",
       "        vertical-align: middle;\n",
       "    }\n",
       "\n",
       "    .dataframe tbody tr th {\n",
       "        vertical-align: top;\n",
       "    }\n",
       "\n",
       "    .dataframe thead th {\n",
       "        text-align: right;\n",
       "    }\n",
       "</style>\n",
       "<table border=\"1\" class=\"dataframe\">\n",
       "  <thead>\n",
       "    <tr style=\"text-align: right;\">\n",
       "      <th></th>\n",
       "      <th></th>\n",
       "      <th>close</th>\n",
       "      <th>creturns</th>\n",
       "      <th>high</th>\n",
       "      <th>log_return</th>\n",
       "      <th>low</th>\n",
       "      <th>open</th>\n",
       "      <th>price</th>\n",
       "      <th>returns</th>\n",
       "      <th>volume</th>\n",
       "      <th>volume_in_dollars</th>\n",
       "      <th>...</th>\n",
       "      <th>htf_close</th>\n",
       "      <th>htf_volume</th>\n",
       "      <th>htf_volume_in_dollars</th>\n",
       "      <th>volume_flag</th>\n",
       "      <th>volume_rank</th>\n",
       "      <th>htf_std_values</th>\n",
       "      <th>std_rank</th>\n",
       "      <th>ema_20</th>\n",
       "      <th>above_ema</th>\n",
       "      <th>in_universe</th>\n",
       "    </tr>\n",
       "    <tr>\n",
       "      <th>date</th>\n",
       "      <th></th>\n",
       "      <th></th>\n",
       "      <th></th>\n",
       "      <th></th>\n",
       "      <th></th>\n",
       "      <th></th>\n",
       "      <th></th>\n",
       "      <th></th>\n",
       "      <th></th>\n",
       "      <th></th>\n",
       "      <th></th>\n",
       "      <th></th>\n",
       "      <th></th>\n",
       "      <th></th>\n",
       "      <th></th>\n",
       "      <th></th>\n",
       "      <th></th>\n",
       "      <th></th>\n",
       "      <th></th>\n",
       "      <th></th>\n",
       "      <th></th>\n",
       "      <th></th>\n",
       "    </tr>\n",
       "  </thead>\n",
       "  <tbody>\n",
       "    <tr>\n",
       "      <th>2024-01-04 07:00:00</th>\n",
       "      <th>BNBUSDT</th>\n",
       "      <td>318.50</td>\n",
       "      <td>1.013041</td>\n",
       "      <td>322.30</td>\n",
       "      <td>-0.008130</td>\n",
       "      <td>317.80</td>\n",
       "      <td>321.10</td>\n",
       "      <td>318.50</td>\n",
       "      <td>-0.008097</td>\n",
       "      <td>47799.60000</td>\n",
       "      <td>1.522417e+07</td>\n",
       "      <td>...</td>\n",
       "      <td>323.70</td>\n",
       "      <td>1.133775e+06</td>\n",
       "      <td>3.614889e+08</td>\n",
       "      <td>1</td>\n",
       "      <td>3.0</td>\n",
       "      <td>0.012449</td>\n",
       "      <td>3.0</td>\n",
       "      <td>317.165256</td>\n",
       "      <td>1</td>\n",
       "      <td>True</td>\n",
       "    </tr>\n",
       "    <tr>\n",
       "      <th>2024-01-04 08:00:00</th>\n",
       "      <th>BNBUSDT</th>\n",
       "      <td>320.10</td>\n",
       "      <td>1.018130</td>\n",
       "      <td>321.40</td>\n",
       "      <td>0.005011</td>\n",
       "      <td>318.50</td>\n",
       "      <td>318.50</td>\n",
       "      <td>320.10</td>\n",
       "      <td>0.005024</td>\n",
       "      <td>54995.85700</td>\n",
       "      <td>1.760417e+07</td>\n",
       "      <td>...</td>\n",
       "      <td>323.70</td>\n",
       "      <td>1.133775e+06</td>\n",
       "      <td>3.614889e+08</td>\n",
       "      <td>1</td>\n",
       "      <td>3.0</td>\n",
       "      <td>0.012626</td>\n",
       "      <td>3.0</td>\n",
       "      <td>317.444755</td>\n",
       "      <td>1</td>\n",
       "      <td>True</td>\n",
       "    </tr>\n",
       "    <tr>\n",
       "      <th>2024-01-04 09:00:00</th>\n",
       "      <th>BNBUSDT</th>\n",
       "      <td>321.80</td>\n",
       "      <td>1.023537</td>\n",
       "      <td>324.30</td>\n",
       "      <td>0.005297</td>\n",
       "      <td>320.10</td>\n",
       "      <td>320.20</td>\n",
       "      <td>321.80</td>\n",
       "      <td>0.005311</td>\n",
       "      <td>64595.74200</td>\n",
       "      <td>2.078691e+07</td>\n",
       "      <td>...</td>\n",
       "      <td>323.70</td>\n",
       "      <td>1.133775e+06</td>\n",
       "      <td>3.614889e+08</td>\n",
       "      <td>1</td>\n",
       "      <td>3.0</td>\n",
       "      <td>0.012674</td>\n",
       "      <td>3.0</td>\n",
       "      <td>317.859540</td>\n",
       "      <td>1</td>\n",
       "      <td>True</td>\n",
       "    </tr>\n",
       "    <tr>\n",
       "      <th>2024-01-05 21:00:00</th>\n",
       "      <th>BTCUSDT</th>\n",
       "      <td>43946.26</td>\n",
       "      <td>1.034633</td>\n",
       "      <td>43971.10</td>\n",
       "      <td>-0.000200</td>\n",
       "      <td>43580.51</td>\n",
       "      <td>43955.07</td>\n",
       "      <td>43946.26</td>\n",
       "      <td>-0.000200</td>\n",
       "      <td>1609.24913</td>\n",
       "      <td>7.072048e+07</td>\n",
       "      <td>...</td>\n",
       "      <td>44145.11</td>\n",
       "      <td>4.807525e+04</td>\n",
       "      <td>2.100551e+09</td>\n",
       "      <td>1</td>\n",
       "      <td>5.0</td>\n",
       "      <td>0.000000</td>\n",
       "      <td>3.0</td>\n",
       "      <td>43720.126344</td>\n",
       "      <td>1</td>\n",
       "      <td>True</td>\n",
       "    </tr>\n",
       "    <tr>\n",
       "      <th>2024-01-05 22:00:00</th>\n",
       "      <th>BTCUSDT</th>\n",
       "      <td>43967.44</td>\n",
       "      <td>1.035131</td>\n",
       "      <td>44048.64</td>\n",
       "      <td>0.000482</td>\n",
       "      <td>43764.42</td>\n",
       "      <td>43946.26</td>\n",
       "      <td>43967.44</td>\n",
       "      <td>0.000482</td>\n",
       "      <td>1024.55085</td>\n",
       "      <td>4.504688e+07</td>\n",
       "      <td>...</td>\n",
       "      <td>44145.11</td>\n",
       "      <td>4.807525e+04</td>\n",
       "      <td>2.100551e+09</td>\n",
       "      <td>1</td>\n",
       "      <td>5.0</td>\n",
       "      <td>0.000000</td>\n",
       "      <td>3.0</td>\n",
       "      <td>43743.680025</td>\n",
       "      <td>1</td>\n",
       "      <td>True</td>\n",
       "    </tr>\n",
       "    <tr>\n",
       "      <th>...</th>\n",
       "      <th>...</th>\n",
       "      <td>...</td>\n",
       "      <td>...</td>\n",
       "      <td>...</td>\n",
       "      <td>...</td>\n",
       "      <td>...</td>\n",
       "      <td>...</td>\n",
       "      <td>...</td>\n",
       "      <td>...</td>\n",
       "      <td>...</td>\n",
       "      <td>...</td>\n",
       "      <td>...</td>\n",
       "      <td>...</td>\n",
       "      <td>...</td>\n",
       "      <td>...</td>\n",
       "      <td>...</td>\n",
       "      <td>...</td>\n",
       "      <td>...</td>\n",
       "      <td>...</td>\n",
       "      <td>...</td>\n",
       "      <td>...</td>\n",
       "      <td>...</td>\n",
       "    </tr>\n",
       "    <tr>\n",
       "      <th>2024-08-31 10:00:00</th>\n",
       "      <th>ETHUSDT</th>\n",
       "      <td>2525.70</td>\n",
       "      <td>1.100278</td>\n",
       "      <td>2528.50</td>\n",
       "      <td>0.004643</td>\n",
       "      <td>2513.50</td>\n",
       "      <td>2514.00</td>\n",
       "      <td>2525.70</td>\n",
       "      <td>0.004654</td>\n",
       "      <td>3369.40540</td>\n",
       "      <td>8.510107e+06</td>\n",
       "      <td>...</td>\n",
       "      <td>2513.01</td>\n",
       "      <td>9.794611e+04</td>\n",
       "      <td>2.464540e+08</td>\n",
       "      <td>1</td>\n",
       "      <td>3.0</td>\n",
       "      <td>0.002632</td>\n",
       "      <td>2.0</td>\n",
       "      <td>2518.466698</td>\n",
       "      <td>1</td>\n",
       "      <td>True</td>\n",
       "    </tr>\n",
       "    <tr>\n",
       "      <th>2024-08-31 11:00:00</th>\n",
       "      <th>ETHUSDT</th>\n",
       "      <td>2525.50</td>\n",
       "      <td>1.100191</td>\n",
       "      <td>2529.81</td>\n",
       "      <td>-0.000079</td>\n",
       "      <td>2523.72</td>\n",
       "      <td>2525.69</td>\n",
       "      <td>2525.50</td>\n",
       "      <td>-0.000079</td>\n",
       "      <td>3381.42440</td>\n",
       "      <td>8.539787e+06</td>\n",
       "      <td>...</td>\n",
       "      <td>2513.01</td>\n",
       "      <td>9.794611e+04</td>\n",
       "      <td>2.464540e+08</td>\n",
       "      <td>1</td>\n",
       "      <td>3.0</td>\n",
       "      <td>0.002593</td>\n",
       "      <td>2.0</td>\n",
       "      <td>2519.136537</td>\n",
       "      <td>1</td>\n",
       "      <td>True</td>\n",
       "    </tr>\n",
       "    <tr>\n",
       "      <th>2024-08-31 12:00:00</th>\n",
       "      <th>ETHUSDT</th>\n",
       "      <td>2523.74</td>\n",
       "      <td>1.099425</td>\n",
       "      <td>2527.19</td>\n",
       "      <td>-0.000697</td>\n",
       "      <td>2522.05</td>\n",
       "      <td>2525.49</td>\n",
       "      <td>2523.74</td>\n",
       "      <td>-0.000697</td>\n",
       "      <td>3160.17240</td>\n",
       "      <td>7.975453e+06</td>\n",
       "      <td>...</td>\n",
       "      <td>2513.01</td>\n",
       "      <td>9.794611e+04</td>\n",
       "      <td>2.464540e+08</td>\n",
       "      <td>1</td>\n",
       "      <td>3.0</td>\n",
       "      <td>0.002525</td>\n",
       "      <td>2.0</td>\n",
       "      <td>2519.574962</td>\n",
       "      <td>1</td>\n",
       "      <td>True</td>\n",
       "    </tr>\n",
       "    <tr>\n",
       "      <th>2024-08-31 13:00:00</th>\n",
       "      <th>ETHUSDT</th>\n",
       "      <td>2515.86</td>\n",
       "      <td>1.095992</td>\n",
       "      <td>2527.80</td>\n",
       "      <td>-0.003127</td>\n",
       "      <td>2515.01</td>\n",
       "      <td>2523.75</td>\n",
       "      <td>2515.86</td>\n",
       "      <td>-0.003122</td>\n",
       "      <td>3177.71270</td>\n",
       "      <td>7.994680e+06</td>\n",
       "      <td>...</td>\n",
       "      <td>2513.01</td>\n",
       "      <td>9.794611e+04</td>\n",
       "      <td>2.464540e+08</td>\n",
       "      <td>1</td>\n",
       "      <td>3.0</td>\n",
       "      <td>0.002427</td>\n",
       "      <td>2.0</td>\n",
       "      <td>2519.221156</td>\n",
       "      <td>0</td>\n",
       "      <td>True</td>\n",
       "    </tr>\n",
       "    <tr>\n",
       "      <th>2024-08-31 14:00:00</th>\n",
       "      <th>ETHUSDT</th>\n",
       "      <td>2522.38</td>\n",
       "      <td>1.098832</td>\n",
       "      <td>2526.30</td>\n",
       "      <td>0.002588</td>\n",
       "      <td>2513.80</td>\n",
       "      <td>2515.87</td>\n",
       "      <td>2522.38</td>\n",
       "      <td>0.002592</td>\n",
       "      <td>4633.61680</td>\n",
       "      <td>1.168774e+07</td>\n",
       "      <td>...</td>\n",
       "      <td>2513.01</td>\n",
       "      <td>9.794611e+04</td>\n",
       "      <td>2.464540e+08</td>\n",
       "      <td>1</td>\n",
       "      <td>3.0</td>\n",
       "      <td>0.002293</td>\n",
       "      <td>2.0</td>\n",
       "      <td>2519.521998</td>\n",
       "      <td>1</td>\n",
       "      <td>True</td>\n",
       "    </tr>\n",
       "  </tbody>\n",
       "</table>\n",
       "<p>16124 rows × 47 columns</p>\n",
       "</div>"
      ],
      "text/plain": [
       "                                close  creturns      high  log_return  \\\n",
       "date                                                                    \n",
       "2024-01-04 07:00:00 BNBUSDT    318.50  1.013041    322.30   -0.008130   \n",
       "2024-01-04 08:00:00 BNBUSDT    320.10  1.018130    321.40    0.005011   \n",
       "2024-01-04 09:00:00 BNBUSDT    321.80  1.023537    324.30    0.005297   \n",
       "2024-01-05 21:00:00 BTCUSDT  43946.26  1.034633  43971.10   -0.000200   \n",
       "2024-01-05 22:00:00 BTCUSDT  43967.44  1.035131  44048.64    0.000482   \n",
       "...                               ...       ...       ...         ...   \n",
       "2024-08-31 10:00:00 ETHUSDT   2525.70  1.100278   2528.50    0.004643   \n",
       "2024-08-31 11:00:00 ETHUSDT   2525.50  1.100191   2529.81   -0.000079   \n",
       "2024-08-31 12:00:00 ETHUSDT   2523.74  1.099425   2527.19   -0.000697   \n",
       "2024-08-31 13:00:00 ETHUSDT   2515.86  1.095992   2527.80   -0.003127   \n",
       "2024-08-31 14:00:00 ETHUSDT   2522.38  1.098832   2526.30    0.002588   \n",
       "\n",
       "                                  low      open     price   returns  \\\n",
       "date                                                                  \n",
       "2024-01-04 07:00:00 BNBUSDT    317.80    321.10    318.50 -0.008097   \n",
       "2024-01-04 08:00:00 BNBUSDT    318.50    318.50    320.10  0.005024   \n",
       "2024-01-04 09:00:00 BNBUSDT    320.10    320.20    321.80  0.005311   \n",
       "2024-01-05 21:00:00 BTCUSDT  43580.51  43955.07  43946.26 -0.000200   \n",
       "2024-01-05 22:00:00 BTCUSDT  43764.42  43946.26  43967.44  0.000482   \n",
       "...                               ...       ...       ...       ...   \n",
       "2024-08-31 10:00:00 ETHUSDT   2513.50   2514.00   2525.70  0.004654   \n",
       "2024-08-31 11:00:00 ETHUSDT   2523.72   2525.69   2525.50 -0.000079   \n",
       "2024-08-31 12:00:00 ETHUSDT   2522.05   2525.49   2523.74 -0.000697   \n",
       "2024-08-31 13:00:00 ETHUSDT   2515.01   2523.75   2515.86 -0.003122   \n",
       "2024-08-31 14:00:00 ETHUSDT   2513.80   2515.87   2522.38  0.002592   \n",
       "\n",
       "                                  volume  volume_in_dollars  ...  htf_close  \\\n",
       "date                                                         ...              \n",
       "2024-01-04 07:00:00 BNBUSDT  47799.60000       1.522417e+07  ...     323.70   \n",
       "2024-01-04 08:00:00 BNBUSDT  54995.85700       1.760417e+07  ...     323.70   \n",
       "2024-01-04 09:00:00 BNBUSDT  64595.74200       2.078691e+07  ...     323.70   \n",
       "2024-01-05 21:00:00 BTCUSDT   1609.24913       7.072048e+07  ...   44145.11   \n",
       "2024-01-05 22:00:00 BTCUSDT   1024.55085       4.504688e+07  ...   44145.11   \n",
       "...                                  ...                ...  ...        ...   \n",
       "2024-08-31 10:00:00 ETHUSDT   3369.40540       8.510107e+06  ...    2513.01   \n",
       "2024-08-31 11:00:00 ETHUSDT   3381.42440       8.539787e+06  ...    2513.01   \n",
       "2024-08-31 12:00:00 ETHUSDT   3160.17240       7.975453e+06  ...    2513.01   \n",
       "2024-08-31 13:00:00 ETHUSDT   3177.71270       7.994680e+06  ...    2513.01   \n",
       "2024-08-31 14:00:00 ETHUSDT   4633.61680       1.168774e+07  ...    2513.01   \n",
       "\n",
       "                               htf_volume  htf_volume_in_dollars  volume_flag  \\\n",
       "date                                                                            \n",
       "2024-01-04 07:00:00 BNBUSDT  1.133775e+06           3.614889e+08            1   \n",
       "2024-01-04 08:00:00 BNBUSDT  1.133775e+06           3.614889e+08            1   \n",
       "2024-01-04 09:00:00 BNBUSDT  1.133775e+06           3.614889e+08            1   \n",
       "2024-01-05 21:00:00 BTCUSDT  4.807525e+04           2.100551e+09            1   \n",
       "2024-01-05 22:00:00 BTCUSDT  4.807525e+04           2.100551e+09            1   \n",
       "...                                   ...                    ...          ...   \n",
       "2024-08-31 10:00:00 ETHUSDT  9.794611e+04           2.464540e+08            1   \n",
       "2024-08-31 11:00:00 ETHUSDT  9.794611e+04           2.464540e+08            1   \n",
       "2024-08-31 12:00:00 ETHUSDT  9.794611e+04           2.464540e+08            1   \n",
       "2024-08-31 13:00:00 ETHUSDT  9.794611e+04           2.464540e+08            1   \n",
       "2024-08-31 14:00:00 ETHUSDT  9.794611e+04           2.464540e+08            1   \n",
       "\n",
       "                             volume_rank  htf_std_values  std_rank  \\\n",
       "date                                                                 \n",
       "2024-01-04 07:00:00 BNBUSDT          3.0        0.012449       3.0   \n",
       "2024-01-04 08:00:00 BNBUSDT          3.0        0.012626       3.0   \n",
       "2024-01-04 09:00:00 BNBUSDT          3.0        0.012674       3.0   \n",
       "2024-01-05 21:00:00 BTCUSDT          5.0        0.000000       3.0   \n",
       "2024-01-05 22:00:00 BTCUSDT          5.0        0.000000       3.0   \n",
       "...                                  ...             ...       ...   \n",
       "2024-08-31 10:00:00 ETHUSDT          3.0        0.002632       2.0   \n",
       "2024-08-31 11:00:00 ETHUSDT          3.0        0.002593       2.0   \n",
       "2024-08-31 12:00:00 ETHUSDT          3.0        0.002525       2.0   \n",
       "2024-08-31 13:00:00 ETHUSDT          3.0        0.002427       2.0   \n",
       "2024-08-31 14:00:00 ETHUSDT          3.0        0.002293       2.0   \n",
       "\n",
       "                                   ema_20  above_ema  in_universe  \n",
       "date                                                               \n",
       "2024-01-04 07:00:00 BNBUSDT    317.165256          1         True  \n",
       "2024-01-04 08:00:00 BNBUSDT    317.444755          1         True  \n",
       "2024-01-04 09:00:00 BNBUSDT    317.859540          1         True  \n",
       "2024-01-05 21:00:00 BTCUSDT  43720.126344          1         True  \n",
       "2024-01-05 22:00:00 BTCUSDT  43743.680025          1         True  \n",
       "...                                   ...        ...          ...  \n",
       "2024-08-31 10:00:00 ETHUSDT   2518.466698          1         True  \n",
       "2024-08-31 11:00:00 ETHUSDT   2519.136537          1         True  \n",
       "2024-08-31 12:00:00 ETHUSDT   2519.574962          1         True  \n",
       "2024-08-31 13:00:00 ETHUSDT   2519.221156          0         True  \n",
       "2024-08-31 14:00:00 ETHUSDT   2519.521998          1         True  \n",
       "\n",
       "[16124 rows x 47 columns]"
      ]
     },
     "execution_count": 34,
     "metadata": {},
     "output_type": "execute_result"
    }
   ],
   "source": [
    "sample_strategy"
   ]
  },
  {
   "cell_type": "code",
   "execution_count": 35,
   "metadata": {},
   "outputs": [],
   "source": [
    "# Define parameter space for optimization\n",
    "param_space = {\n",
    "    'std_window': Integer(5, 30),\n",
    "    'mean_window': Integer(5, 30),\n",
    "    'ema_window': Integer(5, 100),\n",
    "    'str_length': Integer(5, 50),\n",
    "    'str_mult': Integer(1, 5),\n",
    "    '_min_pos': Real(0, 0.5),\n",
    "    '_max_pos': Real(0, 1),\n",
    "    'sl_ind_length': Integer(5, 50),\n",
    "    'sl_ind_mult': Real(0.5, 5),\n",
    "    'tp_mult': Integer(2, 7),\n",
    "    'ptp_mult': Real(1, 2),\n",
    "    'ptp_exit_percent': Real(0.1, 1)\n",
    "}"
   ]
  },
  {
   "cell_type": "code",
   "execution_count": 36,
   "metadata": {},
   "outputs": [
    {
     "name": "stderr",
     "output_type": "stream",
     "text": [
      "C:\\Users\\yassi\\AppData\\Local\\Temp\\ipykernel_4556\\3841925515.py:58: FutureWarning: The previous implementation of stack is deprecated and will be removed in a future version of pandas. See the What's New notes for pandas 2.1.0 for details. Specify future_stack=True to adopt the new implementation and silence this warning.\n",
      "  df = df.stack()\n",
      "C:\\Users\\yassi\\AppData\\Local\\Temp\\ipykernel_4556\\3841925515.py:58: FutureWarning: The previous implementation of stack is deprecated and will be removed in a future version of pandas. See the What's New notes for pandas 2.1.0 for details. Specify future_stack=True to adopt the new implementation and silence this warning.\n",
      "  df = df.stack()\n"
     ]
    },
    {
     "name": "stdout",
     "output_type": "stream",
     "text": [
      "-0.3195356980140154\n"
     ]
    },
    {
     "name": "stderr",
     "output_type": "stream",
     "text": [
      "C:\\Users\\yassi\\AppData\\Local\\Temp\\ipykernel_4556\\3841925515.py:58: FutureWarning: The previous implementation of stack is deprecated and will be removed in a future version of pandas. See the What's New notes for pandas 2.1.0 for details. Specify future_stack=True to adopt the new implementation and silence this warning.\n",
      "  df = df.stack()\n"
     ]
    },
    {
     "name": "stdout",
     "output_type": "stream",
     "text": [
      "-0.22563722714254633\n"
     ]
    },
    {
     "name": "stderr",
     "output_type": "stream",
     "text": [
      "C:\\Users\\yassi\\AppData\\Local\\Temp\\ipykernel_4556\\3841925515.py:58: FutureWarning: The previous implementation of stack is deprecated and will be removed in a future version of pandas. See the What's New notes for pandas 2.1.0 for details. Specify future_stack=True to adopt the new implementation and silence this warning.\n",
      "  df = df.stack()\n"
     ]
    },
    {
     "name": "stdout",
     "output_type": "stream",
     "text": [
      "-0.13461233326546257\n"
     ]
    },
    {
     "name": "stderr",
     "output_type": "stream",
     "text": [
      "C:\\Users\\yassi\\AppData\\Local\\Temp\\ipykernel_4556\\3841925515.py:58: FutureWarning: The previous implementation of stack is deprecated and will be removed in a future version of pandas. See the What's New notes for pandas 2.1.0 for details. Specify future_stack=True to adopt the new implementation and silence this warning.\n",
      "  df = df.stack()\n"
     ]
    },
    {
     "name": "stdout",
     "output_type": "stream",
     "text": [
      "-0.4959668683662056\n"
     ]
    },
    {
     "name": "stderr",
     "output_type": "stream",
     "text": [
      "C:\\Users\\yassi\\AppData\\Local\\Temp\\ipykernel_4556\\3841925515.py:58: FutureWarning: The previous implementation of stack is deprecated and will be removed in a future version of pandas. See the What's New notes for pandas 2.1.0 for details. Specify future_stack=True to adopt the new implementation and silence this warning.\n",
      "  df = df.stack()\n"
     ]
    },
    {
     "name": "stdout",
     "output_type": "stream",
     "text": [
      "-0.3623552212560532\n"
     ]
    },
    {
     "name": "stderr",
     "output_type": "stream",
     "text": [
      "C:\\Users\\yassi\\AppData\\Local\\Temp\\ipykernel_4556\\3841925515.py:58: FutureWarning: The previous implementation of stack is deprecated and will be removed in a future version of pandas. See the What's New notes for pandas 2.1.0 for details. Specify future_stack=True to adopt the new implementation and silence this warning.\n",
      "  df = df.stack()\n"
     ]
    },
    {
     "name": "stdout",
     "output_type": "stream",
     "text": [
      "0.01566741661853035\n"
     ]
    },
    {
     "name": "stderr",
     "output_type": "stream",
     "text": [
      "C:\\Users\\yassi\\AppData\\Local\\Temp\\ipykernel_4556\\3841925515.py:58: FutureWarning: The previous implementation of stack is deprecated and will be removed in a future version of pandas. See the What's New notes for pandas 2.1.0 for details. Specify future_stack=True to adopt the new implementation and silence this warning.\n",
      "  df = df.stack()\n"
     ]
    },
    {
     "name": "stdout",
     "output_type": "stream",
     "text": [
      "-0.48954452691278233\n"
     ]
    },
    {
     "name": "stderr",
     "output_type": "stream",
     "text": [
      "C:\\Users\\yassi\\AppData\\Local\\Temp\\ipykernel_4556\\3841925515.py:58: FutureWarning: The previous implementation of stack is deprecated and will be removed in a future version of pandas. See the What's New notes for pandas 2.1.0 for details. Specify future_stack=True to adopt the new implementation and silence this warning.\n",
      "  df = df.stack()\n"
     ]
    },
    {
     "name": "stdout",
     "output_type": "stream",
     "text": [
      "-0.5171770798123231\n"
     ]
    },
    {
     "name": "stderr",
     "output_type": "stream",
     "text": [
      "C:\\Users\\yassi\\AppData\\Local\\Temp\\ipykernel_4556\\3841925515.py:58: FutureWarning: The previous implementation of stack is deprecated and will be removed in a future version of pandas. See the What's New notes for pandas 2.1.0 for details. Specify future_stack=True to adopt the new implementation and silence this warning.\n",
      "  df = df.stack()\n"
     ]
    },
    {
     "name": "stdout",
     "output_type": "stream",
     "text": [
      "-0.14716852752113618\n"
     ]
    },
    {
     "name": "stderr",
     "output_type": "stream",
     "text": [
      "C:\\Users\\yassi\\AppData\\Local\\Temp\\ipykernel_4556\\3841925515.py:58: FutureWarning: The previous implementation of stack is deprecated and will be removed in a future version of pandas. See the What's New notes for pandas 2.1.0 for details. Specify future_stack=True to adopt the new implementation and silence this warning.\n",
      "  df = df.stack()\n"
     ]
    },
    {
     "name": "stdout",
     "output_type": "stream",
     "text": [
      "-0.5334616169059332\n",
      "{'std_window': 24, 'mean_window': 18, 'ema_window': 61, 'str_length': 48, 'str_mult': 3, '_min_pos': 0.1379995910112717, '_max_pos': 0.29627350570408245, 'sl_ind_length': 12, 'sl_ind_mult': 0.5703638303353727, 'tp_mult': 4, 'ptp_mult': 1.3948815181755698, 'ptp_exit_percent': 0.36413935724623436}\n",
      "[24, 18, 61, 48, 3, 0.1379995910112717, 0.29627350570408245, 12, 0.5703638303353727, 4, 1.3948815181755698, 0.36413935724623436]\n"
     ]
    },
    {
     "name": "stderr",
     "output_type": "stream",
     "text": [
      "C:\\Users\\yassi\\AppData\\Local\\Temp\\ipykernel_4556\\3841925515.py:58: FutureWarning: The previous implementation of stack is deprecated and will be removed in a future version of pandas. See the What's New notes for pandas 2.1.0 for details. Specify future_stack=True to adopt the new implementation and silence this warning.\n",
      "  df = df.stack()\n"
     ]
    },
    {
     "name": "stdout",
     "output_type": "stream",
     "text": [
      "Out-of-sample performance: 0.38184569177595507\n"
     ]
    },
    {
     "name": "stderr",
     "output_type": "stream",
     "text": [
      "C:\\Users\\yassi\\AppData\\Local\\Temp\\ipykernel_4556\\3841925515.py:58: FutureWarning: The previous implementation of stack is deprecated and will be removed in a future version of pandas. See the What's New notes for pandas 2.1.0 for details. Specify future_stack=True to adopt the new implementation and silence this warning.\n",
      "  df = df.stack()\n"
     ]
    },
    {
     "name": "stdout",
     "output_type": "stream",
     "text": [
      "-0.7214720008158906\n"
     ]
    },
    {
     "name": "stderr",
     "output_type": "stream",
     "text": [
      "C:\\Users\\yassi\\AppData\\Local\\Temp\\ipykernel_4556\\3841925515.py:58: FutureWarning: The previous implementation of stack is deprecated and will be removed in a future version of pandas. See the What's New notes for pandas 2.1.0 for details. Specify future_stack=True to adopt the new implementation and silence this warning.\n",
      "  df = df.stack()\n"
     ]
    },
    {
     "name": "stdout",
     "output_type": "stream",
     "text": [
      "-0.4480826877907148\n"
     ]
    },
    {
     "name": "stderr",
     "output_type": "stream",
     "text": [
      "C:\\Users\\yassi\\AppData\\Local\\Temp\\ipykernel_4556\\3841925515.py:58: FutureWarning: The previous implementation of stack is deprecated and will be removed in a future version of pandas. See the What's New notes for pandas 2.1.0 for details. Specify future_stack=True to adopt the new implementation and silence this warning.\n",
      "  df = df.stack()\n"
     ]
    },
    {
     "name": "stdout",
     "output_type": "stream",
     "text": [
      "1.0094604646099754\n"
     ]
    },
    {
     "name": "stderr",
     "output_type": "stream",
     "text": [
      "C:\\Users\\yassi\\AppData\\Local\\Temp\\ipykernel_4556\\3841925515.py:58: FutureWarning: The previous implementation of stack is deprecated and will be removed in a future version of pandas. See the What's New notes for pandas 2.1.0 for details. Specify future_stack=True to adopt the new implementation and silence this warning.\n",
      "  df = df.stack()\n"
     ]
    },
    {
     "name": "stdout",
     "output_type": "stream",
     "text": [
      "-0.3647109768359565\n"
     ]
    },
    {
     "name": "stderr",
     "output_type": "stream",
     "text": [
      "C:\\Users\\yassi\\AppData\\Local\\Temp\\ipykernel_4556\\3841925515.py:58: FutureWarning: The previous implementation of stack is deprecated and will be removed in a future version of pandas. See the What's New notes for pandas 2.1.0 for details. Specify future_stack=True to adopt the new implementation and silence this warning.\n",
      "  df = df.stack()\n"
     ]
    },
    {
     "name": "stdout",
     "output_type": "stream",
     "text": [
      "0.45346835870756885\n"
     ]
    },
    {
     "name": "stderr",
     "output_type": "stream",
     "text": [
      "C:\\Users\\yassi\\AppData\\Local\\Temp\\ipykernel_4556\\3841925515.py:58: FutureWarning: The previous implementation of stack is deprecated and will be removed in a future version of pandas. See the What's New notes for pandas 2.1.0 for details. Specify future_stack=True to adopt the new implementation and silence this warning.\n",
      "  df = df.stack()\n"
     ]
    },
    {
     "name": "stdout",
     "output_type": "stream",
     "text": [
      "0.38184569177595507\n"
     ]
    },
    {
     "name": "stderr",
     "output_type": "stream",
     "text": [
      "C:\\Users\\yassi\\AppData\\Local\\Temp\\ipykernel_4556\\3841925515.py:58: FutureWarning: The previous implementation of stack is deprecated and will be removed in a future version of pandas. See the What's New notes for pandas 2.1.0 for details. Specify future_stack=True to adopt the new implementation and silence this warning.\n",
      "  df = df.stack()\n"
     ]
    },
    {
     "name": "stdout",
     "output_type": "stream",
     "text": [
      "0.7349476957115325\n"
     ]
    },
    {
     "name": "stderr",
     "output_type": "stream",
     "text": [
      "C:\\Users\\yassi\\AppData\\Local\\Temp\\ipykernel_4556\\3841925515.py:58: FutureWarning: The previous implementation of stack is deprecated and will be removed in a future version of pandas. See the What's New notes for pandas 2.1.0 for details. Specify future_stack=True to adopt the new implementation and silence this warning.\n",
      "  df = df.stack()\n"
     ]
    },
    {
     "name": "stdout",
     "output_type": "stream",
     "text": [
      "1.1596961138057829\n"
     ]
    },
    {
     "name": "stderr",
     "output_type": "stream",
     "text": [
      "C:\\Users\\yassi\\AppData\\Local\\Temp\\ipykernel_4556\\3841925515.py:58: FutureWarning: The previous implementation of stack is deprecated and will be removed in a future version of pandas. See the What's New notes for pandas 2.1.0 for details. Specify future_stack=True to adopt the new implementation and silence this warning.\n",
      "  df = df.stack()\n"
     ]
    },
    {
     "name": "stdout",
     "output_type": "stream",
     "text": [
      "-0.06330583591280718\n"
     ]
    },
    {
     "name": "stderr",
     "output_type": "stream",
     "text": [
      "C:\\Users\\yassi\\AppData\\Local\\Temp\\ipykernel_4556\\3841925515.py:58: FutureWarning: The previous implementation of stack is deprecated and will be removed in a future version of pandas. See the What's New notes for pandas 2.1.0 for details. Specify future_stack=True to adopt the new implementation and silence this warning.\n",
      "  df = df.stack()\n"
     ]
    },
    {
     "name": "stdout",
     "output_type": "stream",
     "text": [
      "0.47241263400383166\n",
      "{'std_window': 22, 'mean_window': 22, 'ema_window': 61, 'str_length': 17, 'str_mult': 3, '_min_pos': 0.19146343737689497, '_max_pos': 0.971712095389104, 'sl_ind_length': 43, 'sl_ind_mult': 3.7477828452419297, 'tp_mult': 3, 'ptp_mult': 1.256068322761324, 'ptp_exit_percent': 0.1363902305845882}\n",
      "[22, 22, 61, 17, 3, 0.19146343737689497, 0.971712095389104, 43, 3.7477828452419297, 3, 1.256068322761324, 0.1363902305845882]\n"
     ]
    },
    {
     "name": "stderr",
     "output_type": "stream",
     "text": [
      "C:\\Users\\yassi\\AppData\\Local\\Temp\\ipykernel_4556\\3841925515.py:58: FutureWarning: The previous implementation of stack is deprecated and will be removed in a future version of pandas. See the What's New notes for pandas 2.1.0 for details. Specify future_stack=True to adopt the new implementation and silence this warning.\n",
      "  df = df.stack()\n"
     ]
    },
    {
     "name": "stdout",
     "output_type": "stream",
     "text": [
      "Out-of-sample performance: 2.13505650372325\n"
     ]
    },
    {
     "name": "stderr",
     "output_type": "stream",
     "text": [
      "C:\\Users\\yassi\\AppData\\Local\\Temp\\ipykernel_4556\\3841925515.py:58: FutureWarning: The previous implementation of stack is deprecated and will be removed in a future version of pandas. See the What's New notes for pandas 2.1.0 for details. Specify future_stack=True to adopt the new implementation and silence this warning.\n",
      "  df = df.stack()\n"
     ]
    },
    {
     "name": "stdout",
     "output_type": "stream",
     "text": [
      "3.287779005200965\n"
     ]
    },
    {
     "name": "stderr",
     "output_type": "stream",
     "text": [
      "C:\\Users\\yassi\\AppData\\Local\\Temp\\ipykernel_4556\\3841925515.py:58: FutureWarning: The previous implementation of stack is deprecated and will be removed in a future version of pandas. See the What's New notes for pandas 2.1.0 for details. Specify future_stack=True to adopt the new implementation and silence this warning.\n",
      "  df = df.stack()\n"
     ]
    },
    {
     "name": "stdout",
     "output_type": "stream",
     "text": [
      "2.7166434371498998\n"
     ]
    },
    {
     "name": "stderr",
     "output_type": "stream",
     "text": [
      "C:\\Users\\yassi\\AppData\\Local\\Temp\\ipykernel_4556\\3841925515.py:58: FutureWarning: The previous implementation of stack is deprecated and will be removed in a future version of pandas. See the What's New notes for pandas 2.1.0 for details. Specify future_stack=True to adopt the new implementation and silence this warning.\n",
      "  df = df.stack()\n"
     ]
    },
    {
     "name": "stdout",
     "output_type": "stream",
     "text": [
      "3.545625001058817\n"
     ]
    },
    {
     "name": "stderr",
     "output_type": "stream",
     "text": [
      "C:\\Users\\yassi\\AppData\\Local\\Temp\\ipykernel_4556\\3841925515.py:58: FutureWarning: The previous implementation of stack is deprecated and will be removed in a future version of pandas. See the What's New notes for pandas 2.1.0 for details. Specify future_stack=True to adopt the new implementation and silence this warning.\n",
      "  df = df.stack()\n"
     ]
    },
    {
     "name": "stdout",
     "output_type": "stream",
     "text": [
      "3.593574188773858\n"
     ]
    },
    {
     "name": "stderr",
     "output_type": "stream",
     "text": [
      "C:\\Users\\yassi\\AppData\\Local\\Temp\\ipykernel_4556\\3841925515.py:58: FutureWarning: The previous implementation of stack is deprecated and will be removed in a future version of pandas. See the What's New notes for pandas 2.1.0 for details. Specify future_stack=True to adopt the new implementation and silence this warning.\n",
      "  df = df.stack()\n"
     ]
    },
    {
     "name": "stdout",
     "output_type": "stream",
     "text": [
      "2.82566675813853\n"
     ]
    },
    {
     "name": "stderr",
     "output_type": "stream",
     "text": [
      "C:\\Users\\yassi\\AppData\\Local\\Temp\\ipykernel_4556\\3841925515.py:58: FutureWarning: The previous implementation of stack is deprecated and will be removed in a future version of pandas. See the What's New notes for pandas 2.1.0 for details. Specify future_stack=True to adopt the new implementation and silence this warning.\n",
      "  df = df.stack()\n"
     ]
    },
    {
     "name": "stdout",
     "output_type": "stream",
     "text": [
      "3.0796393067586303\n"
     ]
    },
    {
     "name": "stderr",
     "output_type": "stream",
     "text": [
      "C:\\Users\\yassi\\AppData\\Local\\Temp\\ipykernel_4556\\3841925515.py:58: FutureWarning: The previous implementation of stack is deprecated and will be removed in a future version of pandas. See the What's New notes for pandas 2.1.0 for details. Specify future_stack=True to adopt the new implementation and silence this warning.\n",
      "  df = df.stack()\n"
     ]
    },
    {
     "name": "stdout",
     "output_type": "stream",
     "text": [
      "3.391353109399422\n"
     ]
    },
    {
     "name": "stderr",
     "output_type": "stream",
     "text": [
      "C:\\Users\\yassi\\AppData\\Local\\Temp\\ipykernel_4556\\3841925515.py:58: FutureWarning: The previous implementation of stack is deprecated and will be removed in a future version of pandas. See the What's New notes for pandas 2.1.0 for details. Specify future_stack=True to adopt the new implementation and silence this warning.\n",
      "  df = df.stack()\n"
     ]
    },
    {
     "name": "stdout",
     "output_type": "stream",
     "text": [
      "2.13505650372325\n"
     ]
    },
    {
     "name": "stderr",
     "output_type": "stream",
     "text": [
      "C:\\Users\\yassi\\AppData\\Local\\Temp\\ipykernel_4556\\3841925515.py:58: FutureWarning: The previous implementation of stack is deprecated and will be removed in a future version of pandas. See the What's New notes for pandas 2.1.0 for details. Specify future_stack=True to adopt the new implementation and silence this warning.\n",
      "  df = df.stack()\n"
     ]
    },
    {
     "name": "stdout",
     "output_type": "stream",
     "text": [
      "2.0816689780792905\n"
     ]
    },
    {
     "name": "stderr",
     "output_type": "stream",
     "text": [
      "C:\\Users\\yassi\\AppData\\Local\\Temp\\ipykernel_4556\\3841925515.py:58: FutureWarning: The previous implementation of stack is deprecated and will be removed in a future version of pandas. See the What's New notes for pandas 2.1.0 for details. Specify future_stack=True to adopt the new implementation and silence this warning.\n",
      "  df = df.stack()\n"
     ]
    },
    {
     "name": "stdout",
     "output_type": "stream",
     "text": [
      "2.378598111570262\n",
      "{'std_window': 5, 'mean_window': 11, 'ema_window': 28, 'str_length': 36, 'str_mult': 3, '_min_pos': 0.4165974558680823, '_max_pos': 0.1733646535077721, 'sl_ind_length': 23, 'sl_ind_mult': 1.3200623950462806, 'tp_mult': 6, 'ptp_mult': 1.425155874491245, 'ptp_exit_percent': 0.28714749658137}\n",
      "[5, 11, 28, 36, 3, 0.4165974558680823, 0.1733646535077721, 23, 1.3200623950462806, 6, 1.425155874491245, 0.28714749658137]\n"
     ]
    },
    {
     "name": "stderr",
     "output_type": "stream",
     "text": [
      "C:\\Users\\yassi\\AppData\\Local\\Temp\\ipykernel_4556\\3841925515.py:58: FutureWarning: The previous implementation of stack is deprecated and will be removed in a future version of pandas. See the What's New notes for pandas 2.1.0 for details. Specify future_stack=True to adopt the new implementation and silence this warning.\n",
      "  df = df.stack()\n"
     ]
    },
    {
     "name": "stdout",
     "output_type": "stream",
     "text": [
      "Out-of-sample performance: 1.4491451703403357\n"
     ]
    },
    {
     "name": "stderr",
     "output_type": "stream",
     "text": [
      "C:\\Users\\yassi\\AppData\\Local\\Temp\\ipykernel_4556\\3841925515.py:58: FutureWarning: The previous implementation of stack is deprecated and will be removed in a future version of pandas. See the What's New notes for pandas 2.1.0 for details. Specify future_stack=True to adopt the new implementation and silence this warning.\n",
      "  df = df.stack()\n"
     ]
    },
    {
     "name": "stdout",
     "output_type": "stream",
     "text": [
      "1.3159956953276195\n"
     ]
    },
    {
     "name": "stderr",
     "output_type": "stream",
     "text": [
      "C:\\Users\\yassi\\AppData\\Local\\Temp\\ipykernel_4556\\3841925515.py:58: FutureWarning: The previous implementation of stack is deprecated and will be removed in a future version of pandas. See the What's New notes for pandas 2.1.0 for details. Specify future_stack=True to adopt the new implementation and silence this warning.\n",
      "  df = df.stack()\n"
     ]
    },
    {
     "name": "stdout",
     "output_type": "stream",
     "text": [
      "1.1493876931702953\n"
     ]
    },
    {
     "name": "stderr",
     "output_type": "stream",
     "text": [
      "C:\\Users\\yassi\\AppData\\Local\\Temp\\ipykernel_4556\\3841925515.py:58: FutureWarning: The previous implementation of stack is deprecated and will be removed in a future version of pandas. See the What's New notes for pandas 2.1.0 for details. Specify future_stack=True to adopt the new implementation and silence this warning.\n",
      "  df = df.stack()\n"
     ]
    },
    {
     "name": "stdout",
     "output_type": "stream",
     "text": [
      "1.8552356643579355\n"
     ]
    },
    {
     "name": "stderr",
     "output_type": "stream",
     "text": [
      "C:\\Users\\yassi\\AppData\\Local\\Temp\\ipykernel_4556\\3841925515.py:58: FutureWarning: The previous implementation of stack is deprecated and will be removed in a future version of pandas. See the What's New notes for pandas 2.1.0 for details. Specify future_stack=True to adopt the new implementation and silence this warning.\n",
      "  df = df.stack()\n"
     ]
    },
    {
     "name": "stdout",
     "output_type": "stream",
     "text": [
      "1.4491451703403357\n"
     ]
    },
    {
     "name": "stderr",
     "output_type": "stream",
     "text": [
      "C:\\Users\\yassi\\AppData\\Local\\Temp\\ipykernel_4556\\3841925515.py:58: FutureWarning: The previous implementation of stack is deprecated and will be removed in a future version of pandas. See the What's New notes for pandas 2.1.0 for details. Specify future_stack=True to adopt the new implementation and silence this warning.\n",
      "  df = df.stack()\n"
     ]
    },
    {
     "name": "stdout",
     "output_type": "stream",
     "text": [
      "1.8358934929636006\n"
     ]
    },
    {
     "name": "stderr",
     "output_type": "stream",
     "text": [
      "C:\\Users\\yassi\\AppData\\Local\\Temp\\ipykernel_4556\\3841925515.py:58: FutureWarning: The previous implementation of stack is deprecated and will be removed in a future version of pandas. See the What's New notes for pandas 2.1.0 for details. Specify future_stack=True to adopt the new implementation and silence this warning.\n",
      "  df = df.stack()\n"
     ]
    },
    {
     "name": "stdout",
     "output_type": "stream",
     "text": [
      "1.6517944205689725\n"
     ]
    },
    {
     "name": "stderr",
     "output_type": "stream",
     "text": [
      "C:\\Users\\yassi\\AppData\\Local\\Temp\\ipykernel_4556\\3841925515.py:58: FutureWarning: The previous implementation of stack is deprecated and will be removed in a future version of pandas. See the What's New notes for pandas 2.1.0 for details. Specify future_stack=True to adopt the new implementation and silence this warning.\n",
      "  df = df.stack()\n"
     ]
    },
    {
     "name": "stdout",
     "output_type": "stream",
     "text": [
      "2.3669221625392898\n"
     ]
    },
    {
     "name": "stderr",
     "output_type": "stream",
     "text": [
      "C:\\Users\\yassi\\AppData\\Local\\Temp\\ipykernel_4556\\3841925515.py:58: FutureWarning: The previous implementation of stack is deprecated and will be removed in a future version of pandas. See the What's New notes for pandas 2.1.0 for details. Specify future_stack=True to adopt the new implementation and silence this warning.\n",
      "  df = df.stack()\n"
     ]
    },
    {
     "name": "stdout",
     "output_type": "stream",
     "text": [
      "1.3677008212798123\n"
     ]
    },
    {
     "name": "stderr",
     "output_type": "stream",
     "text": [
      "C:\\Users\\yassi\\AppData\\Local\\Temp\\ipykernel_4556\\3841925515.py:58: FutureWarning: The previous implementation of stack is deprecated and will be removed in a future version of pandas. See the What's New notes for pandas 2.1.0 for details. Specify future_stack=True to adopt the new implementation and silence this warning.\n",
      "  df = df.stack()\n"
     ]
    },
    {
     "name": "stdout",
     "output_type": "stream",
     "text": [
      "0.5398928479131085\n"
     ]
    },
    {
     "name": "stderr",
     "output_type": "stream",
     "text": [
      "C:\\Users\\yassi\\AppData\\Local\\Temp\\ipykernel_4556\\3841925515.py:58: FutureWarning: The previous implementation of stack is deprecated and will be removed in a future version of pandas. See the What's New notes for pandas 2.1.0 for details. Specify future_stack=True to adopt the new implementation and silence this warning.\n",
      "  df = df.stack()\n"
     ]
    },
    {
     "name": "stdout",
     "output_type": "stream",
     "text": [
      "1.6974800084782622\n",
      "{'std_window': 5, 'mean_window': 10, 'ema_window': 73, 'str_length': 41, 'str_mult': 3, '_min_pos': 0.4631504392566746, '_max_pos': 0.6510770255019446, 'sl_ind_length': 46, 'sl_ind_mult': 4.325173600054098, 'tp_mult': 4, 'ptp_mult': 1.0954101164904113, 'ptp_exit_percent': 0.43373642697843984}\n",
      "[5, 10, 73, 41, 3, 0.4631504392566746, 0.6510770255019446, 46, 4.325173600054098, 4, 1.0954101164904113, 0.43373642697843984]\n"
     ]
    },
    {
     "name": "stderr",
     "output_type": "stream",
     "text": [
      "C:\\Users\\yassi\\AppData\\Local\\Temp\\ipykernel_4556\\3841925515.py:58: FutureWarning: The previous implementation of stack is deprecated and will be removed in a future version of pandas. See the What's New notes for pandas 2.1.0 for details. Specify future_stack=True to adopt the new implementation and silence this warning.\n",
      "  df = df.stack()\n"
     ]
    },
    {
     "name": "stdout",
     "output_type": "stream",
     "text": [
      "Out-of-sample performance: -1.4478711659368206\n"
     ]
    },
    {
     "name": "stderr",
     "output_type": "stream",
     "text": [
      "C:\\Users\\yassi\\AppData\\Local\\Temp\\ipykernel_4556\\3841925515.py:58: FutureWarning: The previous implementation of stack is deprecated and will be removed in a future version of pandas. See the What's New notes for pandas 2.1.0 for details. Specify future_stack=True to adopt the new implementation and silence this warning.\n",
      "  df = df.stack()\n"
     ]
    },
    {
     "name": "stdout",
     "output_type": "stream",
     "text": [
      "-1.5002787407563307\n"
     ]
    },
    {
     "name": "stderr",
     "output_type": "stream",
     "text": [
      "C:\\Users\\yassi\\AppData\\Local\\Temp\\ipykernel_4556\\3841925515.py:58: FutureWarning: The previous implementation of stack is deprecated and will be removed in a future version of pandas. See the What's New notes for pandas 2.1.0 for details. Specify future_stack=True to adopt the new implementation and silence this warning.\n",
      "  df = df.stack()\n"
     ]
    },
    {
     "name": "stdout",
     "output_type": "stream",
     "text": [
      "-1.8293607976813526\n"
     ]
    },
    {
     "name": "stderr",
     "output_type": "stream",
     "text": [
      "C:\\Users\\yassi\\AppData\\Local\\Temp\\ipykernel_4556\\3841925515.py:58: FutureWarning: The previous implementation of stack is deprecated and will be removed in a future version of pandas. See the What's New notes for pandas 2.1.0 for details. Specify future_stack=True to adopt the new implementation and silence this warning.\n",
      "  df = df.stack()\n"
     ]
    },
    {
     "name": "stdout",
     "output_type": "stream",
     "text": [
      "-1.2982467475181465\n"
     ]
    },
    {
     "name": "stderr",
     "output_type": "stream",
     "text": [
      "C:\\Users\\yassi\\AppData\\Local\\Temp\\ipykernel_4556\\3841925515.py:58: FutureWarning: The previous implementation of stack is deprecated and will be removed in a future version of pandas. See the What's New notes for pandas 2.1.0 for details. Specify future_stack=True to adopt the new implementation and silence this warning.\n",
      "  df = df.stack()\n"
     ]
    },
    {
     "name": "stdout",
     "output_type": "stream",
     "text": [
      "-1.6575745067221543\n"
     ]
    },
    {
     "name": "stderr",
     "output_type": "stream",
     "text": [
      "C:\\Users\\yassi\\AppData\\Local\\Temp\\ipykernel_4556\\3841925515.py:58: FutureWarning: The previous implementation of stack is deprecated and will be removed in a future version of pandas. See the What's New notes for pandas 2.1.0 for details. Specify future_stack=True to adopt the new implementation and silence this warning.\n",
      "  df = df.stack()\n"
     ]
    },
    {
     "name": "stdout",
     "output_type": "stream",
     "text": [
      "-1.44252842080184\n"
     ]
    },
    {
     "name": "stderr",
     "output_type": "stream",
     "text": [
      "C:\\Users\\yassi\\AppData\\Local\\Temp\\ipykernel_4556\\3841925515.py:58: FutureWarning: The previous implementation of stack is deprecated and will be removed in a future version of pandas. See the What's New notes for pandas 2.1.0 for details. Specify future_stack=True to adopt the new implementation and silence this warning.\n",
      "  df = df.stack()\n"
     ]
    },
    {
     "name": "stdout",
     "output_type": "stream",
     "text": [
      "-1.4083785765949133\n"
     ]
    },
    {
     "name": "stderr",
     "output_type": "stream",
     "text": [
      "C:\\Users\\yassi\\AppData\\Local\\Temp\\ipykernel_4556\\3841925515.py:58: FutureWarning: The previous implementation of stack is deprecated and will be removed in a future version of pandas. See the What's New notes for pandas 2.1.0 for details. Specify future_stack=True to adopt the new implementation and silence this warning.\n",
      "  df = df.stack()\n"
     ]
    },
    {
     "name": "stdout",
     "output_type": "stream",
     "text": [
      "-1.4478711659368206\n"
     ]
    },
    {
     "name": "stderr",
     "output_type": "stream",
     "text": [
      "C:\\Users\\yassi\\AppData\\Local\\Temp\\ipykernel_4556\\3841925515.py:58: FutureWarning: The previous implementation of stack is deprecated and will be removed in a future version of pandas. See the What's New notes for pandas 2.1.0 for details. Specify future_stack=True to adopt the new implementation and silence this warning.\n",
      "  df = df.stack()\n"
     ]
    },
    {
     "name": "stdout",
     "output_type": "stream",
     "text": [
      "-1.5311461491224405\n"
     ]
    },
    {
     "name": "stderr",
     "output_type": "stream",
     "text": [
      "C:\\Users\\yassi\\AppData\\Local\\Temp\\ipykernel_4556\\3841925515.py:58: FutureWarning: The previous implementation of stack is deprecated and will be removed in a future version of pandas. See the What's New notes for pandas 2.1.0 for details. Specify future_stack=True to adopt the new implementation and silence this warning.\n",
      "  df = df.stack()\n"
     ]
    },
    {
     "name": "stdout",
     "output_type": "stream",
     "text": [
      "-1.3206627688670907\n"
     ]
    },
    {
     "name": "stderr",
     "output_type": "stream",
     "text": [
      "C:\\Users\\yassi\\AppData\\Local\\Temp\\ipykernel_4556\\3841925515.py:58: FutureWarning: The previous implementation of stack is deprecated and will be removed in a future version of pandas. See the What's New notes for pandas 2.1.0 for details. Specify future_stack=True to adopt the new implementation and silence this warning.\n",
      "  df = df.stack()\n"
     ]
    },
    {
     "name": "stdout",
     "output_type": "stream",
     "text": [
      "-1.1301376848954106\n",
      "{'std_window': 29, 'mean_window': 20, 'ema_window': 71, 'str_length': 45, 'str_mult': 3, '_min_pos': 0.14781684291885702, '_max_pos': 0.10549425983027064, 'sl_ind_length': 26, 'sl_ind_mult': 1.4829819674757514, 'tp_mult': 4, 'ptp_mult': 1.8832802589188686, 'ptp_exit_percent': 0.3919105189047466}\n",
      "[29, 20, 71, 45, 3, 0.14781684291885702, 0.10549425983027064, 26, 1.4829819674757514, 4, 1.8832802589188686, 0.3919105189047466]\n"
     ]
    },
    {
     "name": "stderr",
     "output_type": "stream",
     "text": [
      "C:\\Users\\yassi\\AppData\\Local\\Temp\\ipykernel_4556\\3841925515.py:58: FutureWarning: The previous implementation of stack is deprecated and will be removed in a future version of pandas. See the What's New notes for pandas 2.1.0 for details. Specify future_stack=True to adopt the new implementation and silence this warning.\n",
      "  df = df.stack()\n"
     ]
    },
    {
     "name": "stdout",
     "output_type": "stream",
     "text": [
      "Out-of-sample performance: -0.6076762228622727\n"
     ]
    },
    {
     "name": "stderr",
     "output_type": "stream",
     "text": [
      "C:\\Users\\yassi\\AppData\\Local\\Temp\\ipykernel_4556\\3841925515.py:58: FutureWarning: The previous implementation of stack is deprecated and will be removed in a future version of pandas. See the What's New notes for pandas 2.1.0 for details. Specify future_stack=True to adopt the new implementation and silence this warning.\n",
      "  df = df.stack()\n"
     ]
    },
    {
     "name": "stdout",
     "output_type": "stream",
     "text": [
      "-0.23601016584865775\n"
     ]
    },
    {
     "name": "stderr",
     "output_type": "stream",
     "text": [
      "C:\\Users\\yassi\\AppData\\Local\\Temp\\ipykernel_4556\\3841925515.py:58: FutureWarning: The previous implementation of stack is deprecated and will be removed in a future version of pandas. See the What's New notes for pandas 2.1.0 for details. Specify future_stack=True to adopt the new implementation and silence this warning.\n",
      "  df = df.stack()\n"
     ]
    },
    {
     "name": "stdout",
     "output_type": "stream",
     "text": [
      "0.49946927365586336\n"
     ]
    },
    {
     "name": "stderr",
     "output_type": "stream",
     "text": [
      "C:\\Users\\yassi\\AppData\\Local\\Temp\\ipykernel_4556\\3841925515.py:58: FutureWarning: The previous implementation of stack is deprecated and will be removed in a future version of pandas. See the What's New notes for pandas 2.1.0 for details. Specify future_stack=True to adopt the new implementation and silence this warning.\n",
      "  df = df.stack()\n"
     ]
    },
    {
     "name": "stdout",
     "output_type": "stream",
     "text": [
      "-0.2671091463660017\n"
     ]
    },
    {
     "name": "stderr",
     "output_type": "stream",
     "text": [
      "C:\\Users\\yassi\\AppData\\Local\\Temp\\ipykernel_4556\\3841925515.py:58: FutureWarning: The previous implementation of stack is deprecated and will be removed in a future version of pandas. See the What's New notes for pandas 2.1.0 for details. Specify future_stack=True to adopt the new implementation and silence this warning.\n",
      "  df = df.stack()\n"
     ]
    },
    {
     "name": "stdout",
     "output_type": "stream",
     "text": [
      "-0.07472046701203988\n"
     ]
    },
    {
     "name": "stderr",
     "output_type": "stream",
     "text": [
      "C:\\Users\\yassi\\AppData\\Local\\Temp\\ipykernel_4556\\3841925515.py:58: FutureWarning: The previous implementation of stack is deprecated and will be removed in a future version of pandas. See the What's New notes for pandas 2.1.0 for details. Specify future_stack=True to adopt the new implementation and silence this warning.\n",
      "  df = df.stack()\n"
     ]
    },
    {
     "name": "stdout",
     "output_type": "stream",
     "text": [
      "-0.6379325225687457\n"
     ]
    },
    {
     "name": "stderr",
     "output_type": "stream",
     "text": [
      "C:\\Users\\yassi\\AppData\\Local\\Temp\\ipykernel_4556\\3841925515.py:58: FutureWarning: The previous implementation of stack is deprecated and will be removed in a future version of pandas. See the What's New notes for pandas 2.1.0 for details. Specify future_stack=True to adopt the new implementation and silence this warning.\n",
      "  df = df.stack()\n"
     ]
    },
    {
     "name": "stdout",
     "output_type": "stream",
     "text": [
      "-0.5859496233968539\n"
     ]
    },
    {
     "name": "stderr",
     "output_type": "stream",
     "text": [
      "C:\\Users\\yassi\\AppData\\Local\\Temp\\ipykernel_4556\\3841925515.py:58: FutureWarning: The previous implementation of stack is deprecated and will be removed in a future version of pandas. See the What's New notes for pandas 2.1.0 for details. Specify future_stack=True to adopt the new implementation and silence this warning.\n",
      "  df = df.stack()\n"
     ]
    },
    {
     "name": "stdout",
     "output_type": "stream",
     "text": [
      "-0.557418448164677\n"
     ]
    },
    {
     "name": "stderr",
     "output_type": "stream",
     "text": [
      "C:\\Users\\yassi\\AppData\\Local\\Temp\\ipykernel_4556\\3841925515.py:58: FutureWarning: The previous implementation of stack is deprecated and will be removed in a future version of pandas. See the What's New notes for pandas 2.1.0 for details. Specify future_stack=True to adopt the new implementation and silence this warning.\n",
      "  df = df.stack()\n"
     ]
    },
    {
     "name": "stdout",
     "output_type": "stream",
     "text": [
      "-0.533471358953346\n"
     ]
    },
    {
     "name": "stderr",
     "output_type": "stream",
     "text": [
      "C:\\Users\\yassi\\AppData\\Local\\Temp\\ipykernel_4556\\3841925515.py:58: FutureWarning: The previous implementation of stack is deprecated and will be removed in a future version of pandas. See the What's New notes for pandas 2.1.0 for details. Specify future_stack=True to adopt the new implementation and silence this warning.\n",
      "  df = df.stack()\n"
     ]
    },
    {
     "name": "stdout",
     "output_type": "stream",
     "text": [
      "-0.09645508393189064\n"
     ]
    },
    {
     "name": "stderr",
     "output_type": "stream",
     "text": [
      "C:\\Users\\yassi\\AppData\\Local\\Temp\\ipykernel_4556\\3841925515.py:58: FutureWarning: The previous implementation of stack is deprecated and will be removed in a future version of pandas. See the What's New notes for pandas 2.1.0 for details. Specify future_stack=True to adopt the new implementation and silence this warning.\n",
      "  df = df.stack()\n"
     ]
    },
    {
     "name": "stdout",
     "output_type": "stream",
     "text": [
      "-0.6076762228622727\n",
      "{'std_window': 28, 'mean_window': 5, 'ema_window': 99, 'str_length': 33, 'str_mult': 3, '_min_pos': 0.003533152609858704, '_max_pos': 0.02306242504141576, 'sl_ind_length': 29, 'sl_ind_mult': 2.29937437271865, 'tp_mult': 2, 'ptp_mult': 1.9737555188414593, 'ptp_exit_percent': 0.3094942063872739}\n",
      "[28, 5, 99, 33, 3, 0.003533152609858704, 0.02306242504141576, 29, 2.29937437271865, 2, 1.9737555188414593, 0.3094942063872739]\n"
     ]
    },
    {
     "name": "stderr",
     "output_type": "stream",
     "text": [
      "C:\\Users\\yassi\\AppData\\Local\\Temp\\ipykernel_4556\\3841925515.py:58: FutureWarning: The previous implementation of stack is deprecated and will be removed in a future version of pandas. See the What's New notes for pandas 2.1.0 for details. Specify future_stack=True to adopt the new implementation and silence this warning.\n",
      "  df = df.stack()\n"
     ]
    },
    {
     "name": "stdout",
     "output_type": "stream",
     "text": [
      "Out-of-sample performance: 0.10807040155249183\n"
     ]
    },
    {
     "name": "stderr",
     "output_type": "stream",
     "text": [
      "C:\\Users\\yassi\\AppData\\Local\\Temp\\ipykernel_4556\\3841925515.py:58: FutureWarning: The previous implementation of stack is deprecated and will be removed in a future version of pandas. See the What's New notes for pandas 2.1.0 for details. Specify future_stack=True to adopt the new implementation and silence this warning.\n",
      "  df = df.stack()\n"
     ]
    },
    {
     "name": "stdout",
     "output_type": "stream",
     "text": [
      "-0.7099831705809536\n"
     ]
    },
    {
     "name": "stderr",
     "output_type": "stream",
     "text": [
      "C:\\Users\\yassi\\AppData\\Local\\Temp\\ipykernel_4556\\3841925515.py:58: FutureWarning: The previous implementation of stack is deprecated and will be removed in a future version of pandas. See the What's New notes for pandas 2.1.0 for details. Specify future_stack=True to adopt the new implementation and silence this warning.\n",
      "  df = df.stack()\n"
     ]
    },
    {
     "name": "stdout",
     "output_type": "stream",
     "text": [
      "0.10807040155249183\n"
     ]
    },
    {
     "name": "stderr",
     "output_type": "stream",
     "text": [
      "C:\\Users\\yassi\\AppData\\Local\\Temp\\ipykernel_4556\\3841925515.py:58: FutureWarning: The previous implementation of stack is deprecated and will be removed in a future version of pandas. See the What's New notes for pandas 2.1.0 for details. Specify future_stack=True to adopt the new implementation and silence this warning.\n",
      "  df = df.stack()\n"
     ]
    },
    {
     "name": "stdout",
     "output_type": "stream",
     "text": [
      "0.014781886490309499\n"
     ]
    },
    {
     "name": "stderr",
     "output_type": "stream",
     "text": [
      "C:\\Users\\yassi\\AppData\\Local\\Temp\\ipykernel_4556\\3841925515.py:58: FutureWarning: The previous implementation of stack is deprecated and will be removed in a future version of pandas. See the What's New notes for pandas 2.1.0 for details. Specify future_stack=True to adopt the new implementation and silence this warning.\n",
      "  df = df.stack()\n"
     ]
    },
    {
     "name": "stdout",
     "output_type": "stream",
     "text": [
      "-0.3701939250211914\n"
     ]
    },
    {
     "name": "stderr",
     "output_type": "stream",
     "text": [
      "C:\\Users\\yassi\\AppData\\Local\\Temp\\ipykernel_4556\\3841925515.py:58: FutureWarning: The previous implementation of stack is deprecated and will be removed in a future version of pandas. See the What's New notes for pandas 2.1.0 for details. Specify future_stack=True to adopt the new implementation and silence this warning.\n",
      "  df = df.stack()\n"
     ]
    },
    {
     "name": "stdout",
     "output_type": "stream",
     "text": [
      "1.3082593144822894\n"
     ]
    },
    {
     "name": "stderr",
     "output_type": "stream",
     "text": [
      "C:\\Users\\yassi\\AppData\\Local\\Temp\\ipykernel_4556\\3841925515.py:58: FutureWarning: The previous implementation of stack is deprecated and will be removed in a future version of pandas. See the What's New notes for pandas 2.1.0 for details. Specify future_stack=True to adopt the new implementation and silence this warning.\n",
      "  df = df.stack()\n"
     ]
    },
    {
     "name": "stdout",
     "output_type": "stream",
     "text": [
      "-0.38462723088690853\n"
     ]
    },
    {
     "name": "stderr",
     "output_type": "stream",
     "text": [
      "C:\\Users\\yassi\\AppData\\Local\\Temp\\ipykernel_4556\\3841925515.py:58: FutureWarning: The previous implementation of stack is deprecated and will be removed in a future version of pandas. See the What's New notes for pandas 2.1.0 for details. Specify future_stack=True to adopt the new implementation and silence this warning.\n",
      "  df = df.stack()\n"
     ]
    },
    {
     "name": "stdout",
     "output_type": "stream",
     "text": [
      "0.25266991610407324\n"
     ]
    },
    {
     "name": "stderr",
     "output_type": "stream",
     "text": [
      "C:\\Users\\yassi\\AppData\\Local\\Temp\\ipykernel_4556\\3841925515.py:58: FutureWarning: The previous implementation of stack is deprecated and will be removed in a future version of pandas. See the What's New notes for pandas 2.1.0 for details. Specify future_stack=True to adopt the new implementation and silence this warning.\n",
      "  df = df.stack()\n"
     ]
    },
    {
     "name": "stdout",
     "output_type": "stream",
     "text": [
      "0.5291326150938164\n"
     ]
    },
    {
     "name": "stderr",
     "output_type": "stream",
     "text": [
      "C:\\Users\\yassi\\AppData\\Local\\Temp\\ipykernel_4556\\3841925515.py:58: FutureWarning: The previous implementation of stack is deprecated and will be removed in a future version of pandas. See the What's New notes for pandas 2.1.0 for details. Specify future_stack=True to adopt the new implementation and silence this warning.\n",
      "  df = df.stack()\n"
     ]
    },
    {
     "name": "stdout",
     "output_type": "stream",
     "text": [
      "0.21939048325956204\n"
     ]
    },
    {
     "name": "stderr",
     "output_type": "stream",
     "text": [
      "C:\\Users\\yassi\\AppData\\Local\\Temp\\ipykernel_4556\\3841925515.py:58: FutureWarning: The previous implementation of stack is deprecated and will be removed in a future version of pandas. See the What's New notes for pandas 2.1.0 for details. Specify future_stack=True to adopt the new implementation and silence this warning.\n",
      "  df = df.stack()\n"
     ]
    },
    {
     "name": "stdout",
     "output_type": "stream",
     "text": [
      "-0.074372010126323\n",
      "{'std_window': 19, 'mean_window': 6, 'ema_window': 85, 'str_length': 25, 'str_mult': 3, '_min_pos': 0.4633294328968972, '_max_pos': 0.727271995856421, 'sl_ind_length': 20, 'sl_ind_mult': 3.066997884824298, 'tp_mult': 5, 'ptp_mult': 1.9611720243493493, 'ptp_exit_percent': 0.8600804638103364}\n",
      "[19, 6, 85, 25, 3, 0.4633294328968972, 0.727271995856421, 20, 3.066997884824298, 5, 1.9611720243493493, 0.8600804638103364]\n"
     ]
    },
    {
     "name": "stderr",
     "output_type": "stream",
     "text": [
      "C:\\Users\\yassi\\AppData\\Local\\Temp\\ipykernel_4556\\3841925515.py:58: FutureWarning: The previous implementation of stack is deprecated and will be removed in a future version of pandas. See the What's New notes for pandas 2.1.0 for details. Specify future_stack=True to adopt the new implementation and silence this warning.\n",
      "  df = df.stack()\n"
     ]
    },
    {
     "name": "stdout",
     "output_type": "stream",
     "text": [
      "Out-of-sample performance: -0.12751272764707747\n"
     ]
    },
    {
     "name": "stderr",
     "output_type": "stream",
     "text": [
      "C:\\Users\\yassi\\AppData\\Local\\Temp\\ipykernel_4556\\3841925515.py:58: FutureWarning: The previous implementation of stack is deprecated and will be removed in a future version of pandas. See the What's New notes for pandas 2.1.0 for details. Specify future_stack=True to adopt the new implementation and silence this warning.\n",
      "  df = df.stack()\n"
     ]
    },
    {
     "name": "stdout",
     "output_type": "stream",
     "text": [
      "-0.8565579981043802\n"
     ]
    },
    {
     "name": "stderr",
     "output_type": "stream",
     "text": [
      "C:\\Users\\yassi\\AppData\\Local\\Temp\\ipykernel_4556\\3841925515.py:58: FutureWarning: The previous implementation of stack is deprecated and will be removed in a future version of pandas. See the What's New notes for pandas 2.1.0 for details. Specify future_stack=True to adopt the new implementation and silence this warning.\n",
      "  df = df.stack()\n"
     ]
    },
    {
     "name": "stdout",
     "output_type": "stream",
     "text": [
      "-0.9429463590469679\n"
     ]
    },
    {
     "name": "stderr",
     "output_type": "stream",
     "text": [
      "C:\\Users\\yassi\\AppData\\Local\\Temp\\ipykernel_4556\\3841925515.py:58: FutureWarning: The previous implementation of stack is deprecated and will be removed in a future version of pandas. See the What's New notes for pandas 2.1.0 for details. Specify future_stack=True to adopt the new implementation and silence this warning.\n",
      "  df = df.stack()\n"
     ]
    },
    {
     "name": "stdout",
     "output_type": "stream",
     "text": [
      "0.3932462037476551\n"
     ]
    },
    {
     "name": "stderr",
     "output_type": "stream",
     "text": [
      "C:\\Users\\yassi\\AppData\\Local\\Temp\\ipykernel_4556\\3841925515.py:58: FutureWarning: The previous implementation of stack is deprecated and will be removed in a future version of pandas. See the What's New notes for pandas 2.1.0 for details. Specify future_stack=True to adopt the new implementation and silence this warning.\n",
      "  df = df.stack()\n"
     ]
    },
    {
     "name": "stdout",
     "output_type": "stream",
     "text": [
      "0.6263062290131031\n"
     ]
    },
    {
     "name": "stderr",
     "output_type": "stream",
     "text": [
      "C:\\Users\\yassi\\AppData\\Local\\Temp\\ipykernel_4556\\3841925515.py:58: FutureWarning: The previous implementation of stack is deprecated and will be removed in a future version of pandas. See the What's New notes for pandas 2.1.0 for details. Specify future_stack=True to adopt the new implementation and silence this warning.\n",
      "  df = df.stack()\n"
     ]
    },
    {
     "name": "stdout",
     "output_type": "stream",
     "text": [
      "-0.12751272764707747\n"
     ]
    },
    {
     "name": "stderr",
     "output_type": "stream",
     "text": [
      "C:\\Users\\yassi\\AppData\\Local\\Temp\\ipykernel_4556\\3841925515.py:58: FutureWarning: The previous implementation of stack is deprecated and will be removed in a future version of pandas. See the What's New notes for pandas 2.1.0 for details. Specify future_stack=True to adopt the new implementation and silence this warning.\n",
      "  df = df.stack()\n"
     ]
    },
    {
     "name": "stdout",
     "output_type": "stream",
     "text": [
      "0.32710338633136743\n"
     ]
    },
    {
     "name": "stderr",
     "output_type": "stream",
     "text": [
      "C:\\Users\\yassi\\AppData\\Local\\Temp\\ipykernel_4556\\3841925515.py:58: FutureWarning: The previous implementation of stack is deprecated and will be removed in a future version of pandas. See the What's New notes for pandas 2.1.0 for details. Specify future_stack=True to adopt the new implementation and silence this warning.\n",
      "  df = df.stack()\n"
     ]
    },
    {
     "name": "stdout",
     "output_type": "stream",
     "text": [
      "-0.027677441270505712\n"
     ]
    },
    {
     "name": "stderr",
     "output_type": "stream",
     "text": [
      "C:\\Users\\yassi\\AppData\\Local\\Temp\\ipykernel_4556\\3841925515.py:58: FutureWarning: The previous implementation of stack is deprecated and will be removed in a future version of pandas. See the What's New notes for pandas 2.1.0 for details. Specify future_stack=True to adopt the new implementation and silence this warning.\n",
      "  df = df.stack()\n"
     ]
    },
    {
     "name": "stdout",
     "output_type": "stream",
     "text": [
      "0.26463746004598576\n"
     ]
    },
    {
     "name": "stderr",
     "output_type": "stream",
     "text": [
      "C:\\Users\\yassi\\AppData\\Local\\Temp\\ipykernel_4556\\3841925515.py:58: FutureWarning: The previous implementation of stack is deprecated and will be removed in a future version of pandas. See the What's New notes for pandas 2.1.0 for details. Specify future_stack=True to adopt the new implementation and silence this warning.\n",
      "  df = df.stack()\n"
     ]
    },
    {
     "name": "stdout",
     "output_type": "stream",
     "text": [
      "-1.021140169333546\n"
     ]
    },
    {
     "name": "stderr",
     "output_type": "stream",
     "text": [
      "C:\\Users\\yassi\\AppData\\Local\\Temp\\ipykernel_4556\\3841925515.py:58: FutureWarning: The previous implementation of stack is deprecated and will be removed in a future version of pandas. See the What's New notes for pandas 2.1.0 for details. Specify future_stack=True to adopt the new implementation and silence this warning.\n",
      "  df = df.stack()\n"
     ]
    },
    {
     "name": "stdout",
     "output_type": "stream",
     "text": [
      "0.03140153139676041\n",
      "{'std_window': 5, 'mean_window': 11, 'ema_window': 28, 'str_length': 36, 'str_mult': 3, '_min_pos': 0.4165974558680823, '_max_pos': 0.1733646535077721, 'sl_ind_length': 23, 'sl_ind_mult': 1.3200623950462806, 'tp_mult': 6, 'ptp_mult': 1.425155874491245, 'ptp_exit_percent': 0.28714749658137}\n",
      "[5, 11, 28, 36, 3, 0.4165974558680823, 0.1733646535077721, 23, 1.3200623950462806, 6, 1.425155874491245, 0.28714749658137]\n"
     ]
    },
    {
     "name": "stderr",
     "output_type": "stream",
     "text": [
      "C:\\Users\\yassi\\AppData\\Local\\Temp\\ipykernel_4556\\3841925515.py:58: FutureWarning: The previous implementation of stack is deprecated and will be removed in a future version of pandas. See the What's New notes for pandas 2.1.0 for details. Specify future_stack=True to adopt the new implementation and silence this warning.\n",
      "  df = df.stack()\n"
     ]
    },
    {
     "name": "stdout",
     "output_type": "stream",
     "text": [
      "Out-of-sample performance: 0.562457525487065\n"
     ]
    },
    {
     "name": "stderr",
     "output_type": "stream",
     "text": [
      "C:\\Users\\yassi\\AppData\\Local\\Temp\\ipykernel_4556\\3841925515.py:58: FutureWarning: The previous implementation of stack is deprecated and will be removed in a future version of pandas. See the What's New notes for pandas 2.1.0 for details. Specify future_stack=True to adopt the new implementation and silence this warning.\n",
      "  df = df.stack()\n"
     ]
    },
    {
     "name": "stdout",
     "output_type": "stream",
     "text": [
      "-1.0759691964516178\n"
     ]
    },
    {
     "name": "stderr",
     "output_type": "stream",
     "text": [
      "C:\\Users\\yassi\\AppData\\Local\\Temp\\ipykernel_4556\\3841925515.py:58: FutureWarning: The previous implementation of stack is deprecated and will be removed in a future version of pandas. See the What's New notes for pandas 2.1.0 for details. Specify future_stack=True to adopt the new implementation and silence this warning.\n",
      "  df = df.stack()\n"
     ]
    },
    {
     "name": "stdout",
     "output_type": "stream",
     "text": [
      "-1.4646914759815708\n"
     ]
    },
    {
     "name": "stderr",
     "output_type": "stream",
     "text": [
      "C:\\Users\\yassi\\AppData\\Local\\Temp\\ipykernel_4556\\3841925515.py:58: FutureWarning: The previous implementation of stack is deprecated and will be removed in a future version of pandas. See the What's New notes for pandas 2.1.0 for details. Specify future_stack=True to adopt the new implementation and silence this warning.\n",
      "  df = df.stack()\n"
     ]
    },
    {
     "name": "stdout",
     "output_type": "stream",
     "text": [
      "0.8511454011795683\n"
     ]
    },
    {
     "name": "stderr",
     "output_type": "stream",
     "text": [
      "C:\\Users\\yassi\\AppData\\Local\\Temp\\ipykernel_4556\\3841925515.py:58: FutureWarning: The previous implementation of stack is deprecated and will be removed in a future version of pandas. See the What's New notes for pandas 2.1.0 for details. Specify future_stack=True to adopt the new implementation and silence this warning.\n",
      "  df = df.stack()\n"
     ]
    },
    {
     "name": "stdout",
     "output_type": "stream",
     "text": [
      "0.562457525487065\n"
     ]
    },
    {
     "name": "stderr",
     "output_type": "stream",
     "text": [
      "C:\\Users\\yassi\\AppData\\Local\\Temp\\ipykernel_4556\\3841925515.py:58: FutureWarning: The previous implementation of stack is deprecated and will be removed in a future version of pandas. See the What's New notes for pandas 2.1.0 for details. Specify future_stack=True to adopt the new implementation and silence this warning.\n",
      "  df = df.stack()\n"
     ]
    },
    {
     "name": "stdout",
     "output_type": "stream",
     "text": [
      "-0.8254765481408629\n"
     ]
    },
    {
     "name": "stderr",
     "output_type": "stream",
     "text": [
      "C:\\Users\\yassi\\AppData\\Local\\Temp\\ipykernel_4556\\3841925515.py:58: FutureWarning: The previous implementation of stack is deprecated and will be removed in a future version of pandas. See the What's New notes for pandas 2.1.0 for details. Specify future_stack=True to adopt the new implementation and silence this warning.\n",
      "  df = df.stack()\n"
     ]
    },
    {
     "name": "stdout",
     "output_type": "stream",
     "text": [
      "0.3436857681291457\n"
     ]
    },
    {
     "name": "stderr",
     "output_type": "stream",
     "text": [
      "C:\\Users\\yassi\\AppData\\Local\\Temp\\ipykernel_4556\\3841925515.py:58: FutureWarning: The previous implementation of stack is deprecated and will be removed in a future version of pandas. See the What's New notes for pandas 2.1.0 for details. Specify future_stack=True to adopt the new implementation and silence this warning.\n",
      "  df = df.stack()\n"
     ]
    },
    {
     "name": "stdout",
     "output_type": "stream",
     "text": [
      "-1.0615219128319209\n"
     ]
    },
    {
     "name": "stderr",
     "output_type": "stream",
     "text": [
      "C:\\Users\\yassi\\AppData\\Local\\Temp\\ipykernel_4556\\3841925515.py:58: FutureWarning: The previous implementation of stack is deprecated and will be removed in a future version of pandas. See the What's New notes for pandas 2.1.0 for details. Specify future_stack=True to adopt the new implementation and silence this warning.\n",
      "  df = df.stack()\n"
     ]
    },
    {
     "name": "stdout",
     "output_type": "stream",
     "text": [
      "-0.6722225637424672\n"
     ]
    },
    {
     "name": "stderr",
     "output_type": "stream",
     "text": [
      "C:\\Users\\yassi\\AppData\\Local\\Temp\\ipykernel_4556\\3841925515.py:58: FutureWarning: The previous implementation of stack is deprecated and will be removed in a future version of pandas. See the What's New notes for pandas 2.1.0 for details. Specify future_stack=True to adopt the new implementation and silence this warning.\n",
      "  df = df.stack()\n"
     ]
    },
    {
     "name": "stdout",
     "output_type": "stream",
     "text": [
      "-1.667270110806008\n"
     ]
    },
    {
     "name": "stderr",
     "output_type": "stream",
     "text": [
      "C:\\Users\\yassi\\AppData\\Local\\Temp\\ipykernel_4556\\3841925515.py:58: FutureWarning: The previous implementation of stack is deprecated and will be removed in a future version of pandas. See the What's New notes for pandas 2.1.0 for details. Specify future_stack=True to adopt the new implementation and silence this warning.\n",
      "  df = df.stack()\n"
     ]
    },
    {
     "name": "stdout",
     "output_type": "stream",
     "text": [
      "0.5636193637192749\n",
      "{'std_window': 7, 'mean_window': 20, 'ema_window': 41, 'str_length': 49, 'str_mult': 3, '_min_pos': 0.4299702033681604, '_max_pos': 0.6803075385877798, 'sl_ind_length': 25, 'sl_ind_mult': 0.5596923252193994, 'tp_mult': 7, 'ptp_mult': 1.5632882178455394, 'ptp_exit_percent': 0.4468748522859246}\n",
      "[7, 20, 41, 49, 3, 0.4299702033681604, 0.6803075385877798, 25, 0.5596923252193994, 7, 1.5632882178455394, 0.4468748522859246]\n"
     ]
    },
    {
     "name": "stderr",
     "output_type": "stream",
     "text": [
      "C:\\Users\\yassi\\AppData\\Local\\Temp\\ipykernel_4556\\3841925515.py:58: FutureWarning: The previous implementation of stack is deprecated and will be removed in a future version of pandas. See the What's New notes for pandas 2.1.0 for details. Specify future_stack=True to adopt the new implementation and silence this warning.\n",
      "  df = df.stack()\n"
     ]
    },
    {
     "name": "stdout",
     "output_type": "stream",
     "text": [
      "Out-of-sample performance: -1.0133523957237183\n"
     ]
    },
    {
     "name": "stderr",
     "output_type": "stream",
     "text": [
      "C:\\Users\\yassi\\AppData\\Local\\Temp\\ipykernel_4556\\3841925515.py:58: FutureWarning: The previous implementation of stack is deprecated and will be removed in a future version of pandas. See the What's New notes for pandas 2.1.0 for details. Specify future_stack=True to adopt the new implementation and silence this warning.\n",
      "  df = df.stack()\n"
     ]
    },
    {
     "name": "stdout",
     "output_type": "stream",
     "text": [
      "-0.12938238250857817\n"
     ]
    },
    {
     "name": "stderr",
     "output_type": "stream",
     "text": [
      "C:\\Users\\yassi\\AppData\\Local\\Temp\\ipykernel_4556\\3841925515.py:58: FutureWarning: The previous implementation of stack is deprecated and will be removed in a future version of pandas. See the What's New notes for pandas 2.1.0 for details. Specify future_stack=True to adopt the new implementation and silence this warning.\n",
      "  df = df.stack()\n"
     ]
    },
    {
     "name": "stdout",
     "output_type": "stream",
     "text": [
      "-1.1213471445919767\n"
     ]
    },
    {
     "name": "stderr",
     "output_type": "stream",
     "text": [
      "C:\\Users\\yassi\\AppData\\Local\\Temp\\ipykernel_4556\\3841925515.py:58: FutureWarning: The previous implementation of stack is deprecated and will be removed in a future version of pandas. See the What's New notes for pandas 2.1.0 for details. Specify future_stack=True to adopt the new implementation and silence this warning.\n",
      "  df = df.stack()\n"
     ]
    },
    {
     "name": "stdout",
     "output_type": "stream",
     "text": [
      "-1.0133523957237183\n"
     ]
    },
    {
     "name": "stderr",
     "output_type": "stream",
     "text": [
      "C:\\Users\\yassi\\AppData\\Local\\Temp\\ipykernel_4556\\3841925515.py:58: FutureWarning: The previous implementation of stack is deprecated and will be removed in a future version of pandas. See the What's New notes for pandas 2.1.0 for details. Specify future_stack=True to adopt the new implementation and silence this warning.\n",
      "  df = df.stack()\n"
     ]
    },
    {
     "name": "stdout",
     "output_type": "stream",
     "text": [
      "-0.3464848943532509\n"
     ]
    },
    {
     "name": "stderr",
     "output_type": "stream",
     "text": [
      "C:\\Users\\yassi\\AppData\\Local\\Temp\\ipykernel_4556\\3841925515.py:58: FutureWarning: The previous implementation of stack is deprecated and will be removed in a future version of pandas. See the What's New notes for pandas 2.1.0 for details. Specify future_stack=True to adopt the new implementation and silence this warning.\n",
      "  df = df.stack()\n"
     ]
    },
    {
     "name": "stdout",
     "output_type": "stream",
     "text": [
      "-2.0041202715361193\n"
     ]
    },
    {
     "name": "stderr",
     "output_type": "stream",
     "text": [
      "C:\\Users\\yassi\\AppData\\Local\\Temp\\ipykernel_4556\\3841925515.py:58: FutureWarning: The previous implementation of stack is deprecated and will be removed in a future version of pandas. See the What's New notes for pandas 2.1.0 for details. Specify future_stack=True to adopt the new implementation and silence this warning.\n",
      "  df = df.stack()\n"
     ]
    },
    {
     "name": "stdout",
     "output_type": "stream",
     "text": [
      "-0.862936269626735\n"
     ]
    },
    {
     "name": "stderr",
     "output_type": "stream",
     "text": [
      "C:\\Users\\yassi\\AppData\\Local\\Temp\\ipykernel_4556\\3841925515.py:58: FutureWarning: The previous implementation of stack is deprecated and will be removed in a future version of pandas. See the What's New notes for pandas 2.1.0 for details. Specify future_stack=True to adopt the new implementation and silence this warning.\n",
      "  df = df.stack()\n"
     ]
    },
    {
     "name": "stdout",
     "output_type": "stream",
     "text": [
      "-1.8939716472806067\n"
     ]
    },
    {
     "name": "stderr",
     "output_type": "stream",
     "text": [
      "C:\\Users\\yassi\\AppData\\Local\\Temp\\ipykernel_4556\\3841925515.py:58: FutureWarning: The previous implementation of stack is deprecated and will be removed in a future version of pandas. See the What's New notes for pandas 2.1.0 for details. Specify future_stack=True to adopt the new implementation and silence this warning.\n",
      "  df = df.stack()\n"
     ]
    },
    {
     "name": "stdout",
     "output_type": "stream",
     "text": [
      "-1.8007543811281113\n"
     ]
    },
    {
     "name": "stderr",
     "output_type": "stream",
     "text": [
      "C:\\Users\\yassi\\AppData\\Local\\Temp\\ipykernel_4556\\3841925515.py:58: FutureWarning: The previous implementation of stack is deprecated and will be removed in a future version of pandas. See the What's New notes for pandas 2.1.0 for details. Specify future_stack=True to adopt the new implementation and silence this warning.\n",
      "  df = df.stack()\n"
     ]
    },
    {
     "name": "stdout",
     "output_type": "stream",
     "text": [
      "-0.12206977096205758\n"
     ]
    },
    {
     "name": "stderr",
     "output_type": "stream",
     "text": [
      "C:\\Users\\yassi\\AppData\\Local\\Temp\\ipykernel_4556\\3841925515.py:58: FutureWarning: The previous implementation of stack is deprecated and will be removed in a future version of pandas. See the What's New notes for pandas 2.1.0 for details. Specify future_stack=True to adopt the new implementation and silence this warning.\n",
      "  df = df.stack()\n"
     ]
    },
    {
     "name": "stdout",
     "output_type": "stream",
     "text": [
      "-0.9726439436044071\n",
      "{'std_window': 23, 'mean_window': 8, 'ema_window': 47, 'str_length': 14, 'str_mult': 5, '_min_pos': 0.23768511159105593, '_max_pos': 0.5632755719763838, 'sl_ind_length': 36, 'sl_ind_mult': 1.1269915448264407, 'tp_mult': 5, 'ptp_mult': 1.5398410913016733, 'ptp_exit_percent': 0.2827551022612925}\n",
      "[23, 8, 47, 14, 5, 0.23768511159105593, 0.5632755719763838, 36, 1.1269915448264407, 5, 1.5398410913016733, 0.2827551022612925]\n"
     ]
    },
    {
     "name": "stderr",
     "output_type": "stream",
     "text": [
      "C:\\Users\\yassi\\AppData\\Local\\Temp\\ipykernel_4556\\3841925515.py:58: FutureWarning: The previous implementation of stack is deprecated and will be removed in a future version of pandas. See the What's New notes for pandas 2.1.0 for details. Specify future_stack=True to adopt the new implementation and silence this warning.\n",
      "  df = df.stack()\n"
     ]
    },
    {
     "name": "stdout",
     "output_type": "stream",
     "text": [
      "Out-of-sample performance: -0.06286226045998441\n"
     ]
    },
    {
     "name": "stderr",
     "output_type": "stream",
     "text": [
      "C:\\Users\\yassi\\AppData\\Local\\Temp\\ipykernel_4556\\3841925515.py:58: FutureWarning: The previous implementation of stack is deprecated and will be removed in a future version of pandas. See the What's New notes for pandas 2.1.0 for details. Specify future_stack=True to adopt the new implementation and silence this warning.\n",
      "  df = df.stack()\n"
     ]
    },
    {
     "name": "stdout",
     "output_type": "stream",
     "text": [
      "0.5781666940793528\n"
     ]
    },
    {
     "name": "stderr",
     "output_type": "stream",
     "text": [
      "C:\\Users\\yassi\\AppData\\Local\\Temp\\ipykernel_4556\\3841925515.py:58: FutureWarning: The previous implementation of stack is deprecated and will be removed in a future version of pandas. See the What's New notes for pandas 2.1.0 for details. Specify future_stack=True to adopt the new implementation and silence this warning.\n",
      "  df = df.stack()\n"
     ]
    },
    {
     "name": "stdout",
     "output_type": "stream",
     "text": [
      "0.27589693720487557\n"
     ]
    },
    {
     "name": "stderr",
     "output_type": "stream",
     "text": [
      "C:\\Users\\yassi\\AppData\\Local\\Temp\\ipykernel_4556\\3841925515.py:58: FutureWarning: The previous implementation of stack is deprecated and will be removed in a future version of pandas. See the What's New notes for pandas 2.1.0 for details. Specify future_stack=True to adopt the new implementation and silence this warning.\n",
      "  df = df.stack()\n"
     ]
    },
    {
     "name": "stdout",
     "output_type": "stream",
     "text": [
      "-0.051678137807375096\n"
     ]
    },
    {
     "name": "stderr",
     "output_type": "stream",
     "text": [
      "C:\\Users\\yassi\\AppData\\Local\\Temp\\ipykernel_4556\\3841925515.py:58: FutureWarning: The previous implementation of stack is deprecated and will be removed in a future version of pandas. See the What's New notes for pandas 2.1.0 for details. Specify future_stack=True to adopt the new implementation and silence this warning.\n",
      "  df = df.stack()\n"
     ]
    },
    {
     "name": "stdout",
     "output_type": "stream",
     "text": [
      "0.07770875475414789\n"
     ]
    },
    {
     "name": "stderr",
     "output_type": "stream",
     "text": [
      "C:\\Users\\yassi\\AppData\\Local\\Temp\\ipykernel_4556\\3841925515.py:58: FutureWarning: The previous implementation of stack is deprecated and will be removed in a future version of pandas. See the What's New notes for pandas 2.1.0 for details. Specify future_stack=True to adopt the new implementation and silence this warning.\n",
      "  df = df.stack()\n"
     ]
    },
    {
     "name": "stdout",
     "output_type": "stream",
     "text": [
      "0.47403000787610855\n"
     ]
    },
    {
     "name": "stderr",
     "output_type": "stream",
     "text": [
      "C:\\Users\\yassi\\AppData\\Local\\Temp\\ipykernel_4556\\3841925515.py:58: FutureWarning: The previous implementation of stack is deprecated and will be removed in a future version of pandas. See the What's New notes for pandas 2.1.0 for details. Specify future_stack=True to adopt the new implementation and silence this warning.\n",
      "  df = df.stack()\n"
     ]
    },
    {
     "name": "stdout",
     "output_type": "stream",
     "text": [
      "-0.6339122937312353\n"
     ]
    },
    {
     "name": "stderr",
     "output_type": "stream",
     "text": [
      "C:\\Users\\yassi\\AppData\\Local\\Temp\\ipykernel_4556\\3841925515.py:58: FutureWarning: The previous implementation of stack is deprecated and will be removed in a future version of pandas. See the What's New notes for pandas 2.1.0 for details. Specify future_stack=True to adopt the new implementation and silence this warning.\n",
      "  df = df.stack()\n"
     ]
    },
    {
     "name": "stdout",
     "output_type": "stream",
     "text": [
      "1.4185350799730778\n"
     ]
    },
    {
     "name": "stderr",
     "output_type": "stream",
     "text": [
      "C:\\Users\\yassi\\AppData\\Local\\Temp\\ipykernel_4556\\3841925515.py:58: FutureWarning: The previous implementation of stack is deprecated and will be removed in a future version of pandas. See the What's New notes for pandas 2.1.0 for details. Specify future_stack=True to adopt the new implementation and silence this warning.\n",
      "  df = df.stack()\n"
     ]
    },
    {
     "name": "stdout",
     "output_type": "stream",
     "text": [
      "0.06363044049965733\n"
     ]
    },
    {
     "name": "stderr",
     "output_type": "stream",
     "text": [
      "C:\\Users\\yassi\\AppData\\Local\\Temp\\ipykernel_4556\\3841925515.py:58: FutureWarning: The previous implementation of stack is deprecated and will be removed in a future version of pandas. See the What's New notes for pandas 2.1.0 for details. Specify future_stack=True to adopt the new implementation and silence this warning.\n",
      "  df = df.stack()\n"
     ]
    },
    {
     "name": "stdout",
     "output_type": "stream",
     "text": [
      "-0.06286226045998441\n"
     ]
    },
    {
     "name": "stderr",
     "output_type": "stream",
     "text": [
      "C:\\Users\\yassi\\AppData\\Local\\Temp\\ipykernel_4556\\3841925515.py:58: FutureWarning: The previous implementation of stack is deprecated and will be removed in a future version of pandas. See the What's New notes for pandas 2.1.0 for details. Specify future_stack=True to adopt the new implementation and silence this warning.\n",
      "  df = df.stack()\n"
     ]
    },
    {
     "name": "stdout",
     "output_type": "stream",
     "text": [
      "0.520436978580002\n",
      "{'std_window': 5, 'mean_window': 10, 'ema_window': 73, 'str_length': 41, 'str_mult': 3, '_min_pos': 0.4631504392566746, '_max_pos': 0.6510770255019446, 'sl_ind_length': 46, 'sl_ind_mult': 4.325173600054098, 'tp_mult': 4, 'ptp_mult': 1.0954101164904113, 'ptp_exit_percent': 0.43373642697843984}\n",
      "[5, 10, 73, 41, 3, 0.4631504392566746, 0.6510770255019446, 46, 4.325173600054098, 4, 1.0954101164904113, 0.43373642697843984]\n"
     ]
    },
    {
     "name": "stderr",
     "output_type": "stream",
     "text": [
      "C:\\Users\\yassi\\AppData\\Local\\Temp\\ipykernel_4556\\3841925515.py:58: FutureWarning: The previous implementation of stack is deprecated and will be removed in a future version of pandas. See the What's New notes for pandas 2.1.0 for details. Specify future_stack=True to adopt the new implementation and silence this warning.\n",
      "  df = df.stack()\n"
     ]
    },
    {
     "name": "stdout",
     "output_type": "stream",
     "text": [
      "Out-of-sample performance: 2.4363205222253637\n"
     ]
    },
    {
     "name": "stderr",
     "output_type": "stream",
     "text": [
      "C:\\Users\\yassi\\AppData\\Local\\Temp\\ipykernel_4556\\3841925515.py:58: FutureWarning: The previous implementation of stack is deprecated and will be removed in a future version of pandas. See the What's New notes for pandas 2.1.0 for details. Specify future_stack=True to adopt the new implementation and silence this warning.\n",
      "  df = df.stack()\n"
     ]
    },
    {
     "name": "stdout",
     "output_type": "stream",
     "text": [
      "2.7321521246225062\n"
     ]
    },
    {
     "name": "stderr",
     "output_type": "stream",
     "text": [
      "C:\\Users\\yassi\\AppData\\Local\\Temp\\ipykernel_4556\\3841925515.py:58: FutureWarning: The previous implementation of stack is deprecated and will be removed in a future version of pandas. See the What's New notes for pandas 2.1.0 for details. Specify future_stack=True to adopt the new implementation and silence this warning.\n",
      "  df = df.stack()\n"
     ]
    },
    {
     "name": "stdout",
     "output_type": "stream",
     "text": [
      "2.432348750156177\n"
     ]
    },
    {
     "name": "stderr",
     "output_type": "stream",
     "text": [
      "C:\\Users\\yassi\\AppData\\Local\\Temp\\ipykernel_4556\\3841925515.py:58: FutureWarning: The previous implementation of stack is deprecated and will be removed in a future version of pandas. See the What's New notes for pandas 2.1.0 for details. Specify future_stack=True to adopt the new implementation and silence this warning.\n",
      "  df = df.stack()\n"
     ]
    },
    {
     "name": "stdout",
     "output_type": "stream",
     "text": [
      "2.3363215267756954\n"
     ]
    },
    {
     "name": "stderr",
     "output_type": "stream",
     "text": [
      "C:\\Users\\yassi\\AppData\\Local\\Temp\\ipykernel_4556\\3841925515.py:58: FutureWarning: The previous implementation of stack is deprecated and will be removed in a future version of pandas. See the What's New notes for pandas 2.1.0 for details. Specify future_stack=True to adopt the new implementation and silence this warning.\n",
      "  df = df.stack()\n"
     ]
    },
    {
     "name": "stdout",
     "output_type": "stream",
     "text": [
      "1.82171125766407\n"
     ]
    },
    {
     "name": "stderr",
     "output_type": "stream",
     "text": [
      "C:\\Users\\yassi\\AppData\\Local\\Temp\\ipykernel_4556\\3841925515.py:58: FutureWarning: The previous implementation of stack is deprecated and will be removed in a future version of pandas. See the What's New notes for pandas 2.1.0 for details. Specify future_stack=True to adopt the new implementation and silence this warning.\n",
      "  df = df.stack()\n"
     ]
    },
    {
     "name": "stdout",
     "output_type": "stream",
     "text": [
      "1.5681449778479883\n"
     ]
    },
    {
     "name": "stderr",
     "output_type": "stream",
     "text": [
      "C:\\Users\\yassi\\AppData\\Local\\Temp\\ipykernel_4556\\3841925515.py:58: FutureWarning: The previous implementation of stack is deprecated and will be removed in a future version of pandas. See the What's New notes for pandas 2.1.0 for details. Specify future_stack=True to adopt the new implementation and silence this warning.\n",
      "  df = df.stack()\n"
     ]
    },
    {
     "name": "stdout",
     "output_type": "stream",
     "text": [
      "2.0357964687202053\n"
     ]
    },
    {
     "name": "stderr",
     "output_type": "stream",
     "text": [
      "C:\\Users\\yassi\\AppData\\Local\\Temp\\ipykernel_4556\\3841925515.py:58: FutureWarning: The previous implementation of stack is deprecated and will be removed in a future version of pandas. See the What's New notes for pandas 2.1.0 for details. Specify future_stack=True to adopt the new implementation and silence this warning.\n",
      "  df = df.stack()\n"
     ]
    },
    {
     "name": "stdout",
     "output_type": "stream",
     "text": [
      "2.4363205222253637\n"
     ]
    },
    {
     "name": "stderr",
     "output_type": "stream",
     "text": [
      "C:\\Users\\yassi\\AppData\\Local\\Temp\\ipykernel_4556\\3841925515.py:58: FutureWarning: The previous implementation of stack is deprecated and will be removed in a future version of pandas. See the What's New notes for pandas 2.1.0 for details. Specify future_stack=True to adopt the new implementation and silence this warning.\n",
      "  df = df.stack()\n"
     ]
    },
    {
     "name": "stdout",
     "output_type": "stream",
     "text": [
      "2.3009437600294516\n"
     ]
    },
    {
     "name": "stderr",
     "output_type": "stream",
     "text": [
      "C:\\Users\\yassi\\AppData\\Local\\Temp\\ipykernel_4556\\3841925515.py:58: FutureWarning: The previous implementation of stack is deprecated and will be removed in a future version of pandas. See the What's New notes for pandas 2.1.0 for details. Specify future_stack=True to adopt the new implementation and silence this warning.\n",
      "  df = df.stack()\n"
     ]
    },
    {
     "name": "stdout",
     "output_type": "stream",
     "text": [
      "2.0226607028882353\n"
     ]
    },
    {
     "name": "stderr",
     "output_type": "stream",
     "text": [
      "C:\\Users\\yassi\\AppData\\Local\\Temp\\ipykernel_4556\\3841925515.py:58: FutureWarning: The previous implementation of stack is deprecated and will be removed in a future version of pandas. See the What's New notes for pandas 2.1.0 for details. Specify future_stack=True to adopt the new implementation and silence this warning.\n",
      "  df = df.stack()\n"
     ]
    },
    {
     "name": "stdout",
     "output_type": "stream",
     "text": [
      "2.2842724779216854\n",
      "{'std_window': 25, 'mean_window': 10, 'ema_window': 79, 'str_length': 32, 'str_mult': 3, '_min_pos': 0.049987457909001456, '_max_pos': 0.45924889196586727, 'sl_ind_length': 20, 'sl_ind_mult': 1.1429006806487336, 'tp_mult': 5, 'ptp_mult': 1.0564115790271003, 'ptp_exit_percent': 0.7497988950401424}\n",
      "[25, 10, 79, 32, 3, 0.049987457909001456, 0.45924889196586727, 20, 1.1429006806487336, 5, 1.0564115790271003, 0.7497988950401424]\n"
     ]
    },
    {
     "name": "stderr",
     "output_type": "stream",
     "text": [
      "C:\\Users\\yassi\\AppData\\Local\\Temp\\ipykernel_4556\\3841925515.py:58: FutureWarning: The previous implementation of stack is deprecated and will be removed in a future version of pandas. See the What's New notes for pandas 2.1.0 for details. Specify future_stack=True to adopt the new implementation and silence this warning.\n",
      "  df = df.stack()\n"
     ]
    },
    {
     "name": "stdout",
     "output_type": "stream",
     "text": [
      "Out-of-sample performance: -2.8243379685458416\n"
     ]
    },
    {
     "name": "stderr",
     "output_type": "stream",
     "text": [
      "C:\\Users\\yassi\\AppData\\Local\\Temp\\ipykernel_4556\\3841925515.py:58: FutureWarning: The previous implementation of stack is deprecated and will be removed in a future version of pandas. See the What's New notes for pandas 2.1.0 for details. Specify future_stack=True to adopt the new implementation and silence this warning.\n",
      "  df = df.stack()\n"
     ]
    },
    {
     "name": "stdout",
     "output_type": "stream",
     "text": [
      "-2.8243379685458416\n"
     ]
    },
    {
     "name": "stderr",
     "output_type": "stream",
     "text": [
      "C:\\Users\\yassi\\AppData\\Local\\Temp\\ipykernel_4556\\3841925515.py:58: FutureWarning: The previous implementation of stack is deprecated and will be removed in a future version of pandas. See the What's New notes for pandas 2.1.0 for details. Specify future_stack=True to adopt the new implementation and silence this warning.\n",
      "  df = df.stack()\n"
     ]
    },
    {
     "name": "stdout",
     "output_type": "stream",
     "text": [
      "-2.6985741594086696\n"
     ]
    },
    {
     "name": "stderr",
     "output_type": "stream",
     "text": [
      "C:\\Users\\yassi\\AppData\\Local\\Temp\\ipykernel_4556\\3841925515.py:58: FutureWarning: The previous implementation of stack is deprecated and will be removed in a future version of pandas. See the What's New notes for pandas 2.1.0 for details. Specify future_stack=True to adopt the new implementation and silence this warning.\n",
      "  df = df.stack()\n"
     ]
    },
    {
     "name": "stdout",
     "output_type": "stream",
     "text": [
      "-1.9630221835890669\n"
     ]
    },
    {
     "name": "stderr",
     "output_type": "stream",
     "text": [
      "C:\\Users\\yassi\\AppData\\Local\\Temp\\ipykernel_4556\\3841925515.py:58: FutureWarning: The previous implementation of stack is deprecated and will be removed in a future version of pandas. See the What's New notes for pandas 2.1.0 for details. Specify future_stack=True to adopt the new implementation and silence this warning.\n",
      "  df = df.stack()\n"
     ]
    },
    {
     "name": "stdout",
     "output_type": "stream",
     "text": [
      "-1.978596364112764\n"
     ]
    },
    {
     "name": "stderr",
     "output_type": "stream",
     "text": [
      "C:\\Users\\yassi\\AppData\\Local\\Temp\\ipykernel_4556\\3841925515.py:58: FutureWarning: The previous implementation of stack is deprecated and will be removed in a future version of pandas. See the What's New notes for pandas 2.1.0 for details. Specify future_stack=True to adopt the new implementation and silence this warning.\n",
      "  df = df.stack()\n"
     ]
    },
    {
     "name": "stdout",
     "output_type": "stream",
     "text": [
      "-2.7466518544582326\n"
     ]
    },
    {
     "name": "stderr",
     "output_type": "stream",
     "text": [
      "C:\\Users\\yassi\\AppData\\Local\\Temp\\ipykernel_4556\\3841925515.py:58: FutureWarning: The previous implementation of stack is deprecated and will be removed in a future version of pandas. See the What's New notes for pandas 2.1.0 for details. Specify future_stack=True to adopt the new implementation and silence this warning.\n",
      "  df = df.stack()\n"
     ]
    },
    {
     "name": "stdout",
     "output_type": "stream",
     "text": [
      "-2.1841651924044747\n"
     ]
    },
    {
     "name": "stderr",
     "output_type": "stream",
     "text": [
      "C:\\Users\\yassi\\AppData\\Local\\Temp\\ipykernel_4556\\3841925515.py:58: FutureWarning: The previous implementation of stack is deprecated and will be removed in a future version of pandas. See the What's New notes for pandas 2.1.0 for details. Specify future_stack=True to adopt the new implementation and silence this warning.\n",
      "  df = df.stack()\n"
     ]
    },
    {
     "name": "stdout",
     "output_type": "stream",
     "text": [
      "-2.9087805341405213\n"
     ]
    },
    {
     "name": "stderr",
     "output_type": "stream",
     "text": [
      "C:\\Users\\yassi\\AppData\\Local\\Temp\\ipykernel_4556\\3841925515.py:58: FutureWarning: The previous implementation of stack is deprecated and will be removed in a future version of pandas. See the What's New notes for pandas 2.1.0 for details. Specify future_stack=True to adopt the new implementation and silence this warning.\n",
      "  df = df.stack()\n"
     ]
    },
    {
     "name": "stdout",
     "output_type": "stream",
     "text": [
      "-1.755772737417852\n"
     ]
    },
    {
     "name": "stderr",
     "output_type": "stream",
     "text": [
      "C:\\Users\\yassi\\AppData\\Local\\Temp\\ipykernel_4556\\3841925515.py:58: FutureWarning: The previous implementation of stack is deprecated and will be removed in a future version of pandas. See the What's New notes for pandas 2.1.0 for details. Specify future_stack=True to adopt the new implementation and silence this warning.\n",
      "  df = df.stack()\n"
     ]
    },
    {
     "name": "stdout",
     "output_type": "stream",
     "text": [
      "-2.849946918435662\n"
     ]
    },
    {
     "name": "stderr",
     "output_type": "stream",
     "text": [
      "C:\\Users\\yassi\\AppData\\Local\\Temp\\ipykernel_4556\\3841925515.py:58: FutureWarning: The previous implementation of stack is deprecated and will be removed in a future version of pandas. See the What's New notes for pandas 2.1.0 for details. Specify future_stack=True to adopt the new implementation and silence this warning.\n",
      "  df = df.stack()\n"
     ]
    },
    {
     "name": "stdout",
     "output_type": "stream",
     "text": [
      "-2.487113200531026\n",
      "{'std_window': 22, 'mean_window': 22, 'ema_window': 61, 'str_length': 17, 'str_mult': 3, '_min_pos': 0.19146343737689497, '_max_pos': 0.971712095389104, 'sl_ind_length': 43, 'sl_ind_mult': 3.7477828452419297, 'tp_mult': 3, 'ptp_mult': 1.256068322761324, 'ptp_exit_percent': 0.1363902305845882}\n",
      "[22, 22, 61, 17, 3, 0.19146343737689497, 0.971712095389104, 43, 3.7477828452419297, 3, 1.256068322761324, 0.1363902305845882]\n",
      "Out-of-sample performance: 0.1269092098915885\n"
     ]
    },
    {
     "name": "stderr",
     "output_type": "stream",
     "text": [
      "C:\\Users\\yassi\\AppData\\Local\\Temp\\ipykernel_4556\\3841925515.py:58: FutureWarning: The previous implementation of stack is deprecated and will be removed in a future version of pandas. See the What's New notes for pandas 2.1.0 for details. Specify future_stack=True to adopt the new implementation and silence this warning.\n",
      "  df = df.stack()\n"
     ]
    }
   ],
   "source": [
    "wfo = WFO(data, \n",
    "            trading_strategy, \n",
    "            param_space, \n",
    "            train_size=2000, \n",
    "            test_size=2000, \n",
    "            step_size=2000, \n",
    "            optimize_fn=\"gp\", \n",
    "            objective='multiple', \n",
    "            opt_freq='custom')\n",
    "\n",
    "all_performance, all_results = wfo.walk_forward_optimization()"
   ]
  },
  {
   "cell_type": "code",
   "execution_count": 37,
   "metadata": {},
   "outputs": [
    {
     "data": {
      "text/plain": [
       "0.08586094490925647"
      ]
     },
     "execution_count": 37,
     "metadata": {},
     "output_type": "execute_result"
    }
   ],
   "source": [
    "np.mean(all_performance)"
   ]
  },
  {
   "cell_type": "code",
   "execution_count": 38,
   "metadata": {},
   "outputs": [
    {
     "data": {
      "text/html": [
       "<div>\n",
       "<style scoped>\n",
       "    .dataframe tbody tr th:only-of-type {\n",
       "        vertical-align: middle;\n",
       "    }\n",
       "\n",
       "    .dataframe tbody tr th {\n",
       "        vertical-align: top;\n",
       "    }\n",
       "\n",
       "    .dataframe thead th {\n",
       "        text-align: right;\n",
       "    }\n",
       "</style>\n",
       "<table border=\"1\" class=\"dataframe\">\n",
       "  <thead>\n",
       "    <tr style=\"text-align: right;\">\n",
       "      <th></th>\n",
       "      <th></th>\n",
       "      <th>close</th>\n",
       "      <th>creturns</th>\n",
       "      <th>high</th>\n",
       "      <th>log_return</th>\n",
       "      <th>low</th>\n",
       "      <th>open</th>\n",
       "      <th>price</th>\n",
       "      <th>returns</th>\n",
       "      <th>volume</th>\n",
       "      <th>volume_in_dollars</th>\n",
       "      <th>...</th>\n",
       "      <th>SUPERT_14_5.0</th>\n",
       "      <th>SUPERTd_14_5.0</th>\n",
       "      <th>SUPERTl_14_5.0</th>\n",
       "      <th>SUPERTs_14_5.0</th>\n",
       "      <th>ema_47</th>\n",
       "      <th>SUPERT_32_3.0</th>\n",
       "      <th>SUPERTd_32_3.0</th>\n",
       "      <th>SUPERTl_32_3.0</th>\n",
       "      <th>SUPERTs_32_3.0</th>\n",
       "      <th>ema_79</th>\n",
       "    </tr>\n",
       "    <tr>\n",
       "      <th>date</th>\n",
       "      <th></th>\n",
       "      <th></th>\n",
       "      <th></th>\n",
       "      <th></th>\n",
       "      <th></th>\n",
       "      <th></th>\n",
       "      <th></th>\n",
       "      <th></th>\n",
       "      <th></th>\n",
       "      <th></th>\n",
       "      <th></th>\n",
       "      <th></th>\n",
       "      <th></th>\n",
       "      <th></th>\n",
       "      <th></th>\n",
       "      <th></th>\n",
       "      <th></th>\n",
       "      <th></th>\n",
       "      <th></th>\n",
       "      <th></th>\n",
       "      <th></th>\n",
       "      <th></th>\n",
       "    </tr>\n",
       "  </thead>\n",
       "  <tbody>\n",
       "    <tr>\n",
       "      <th>2024-01-25 00:00:00</th>\n",
       "      <th>BTCUSDT</th>\n",
       "      <td>40170.1500</td>\n",
       "      <td>0.945731</td>\n",
       "      <td>40178.8400</td>\n",
       "      <td>0.002125</td>\n",
       "      <td>40012.0000</td>\n",
       "      <td>40084.8900</td>\n",
       "      <td>40170.1500</td>\n",
       "      <td>0.002127</td>\n",
       "      <td>1.009566e+03</td>\n",
       "      <td>4.055442e+07</td>\n",
       "      <td>...</td>\n",
       "      <td>NaN</td>\n",
       "      <td>NaN</td>\n",
       "      <td>NaN</td>\n",
       "      <td>NaN</td>\n",
       "      <td>NaN</td>\n",
       "      <td>NaN</td>\n",
       "      <td>NaN</td>\n",
       "      <td>NaN</td>\n",
       "      <td>NaN</td>\n",
       "      <td>NaN</td>\n",
       "    </tr>\n",
       "    <tr>\n",
       "      <th>2024-01-25 01:00:00</th>\n",
       "      <th>BTCUSDT</th>\n",
       "      <td>39978.8300</td>\n",
       "      <td>0.941227</td>\n",
       "      <td>40178.6200</td>\n",
       "      <td>-0.004774</td>\n",
       "      <td>39925.7900</td>\n",
       "      <td>40170.1500</td>\n",
       "      <td>39978.8300</td>\n",
       "      <td>-0.004763</td>\n",
       "      <td>1.209844e+03</td>\n",
       "      <td>4.836813e+07</td>\n",
       "      <td>...</td>\n",
       "      <td>NaN</td>\n",
       "      <td>NaN</td>\n",
       "      <td>NaN</td>\n",
       "      <td>NaN</td>\n",
       "      <td>NaN</td>\n",
       "      <td>NaN</td>\n",
       "      <td>NaN</td>\n",
       "      <td>NaN</td>\n",
       "      <td>NaN</td>\n",
       "      <td>NaN</td>\n",
       "    </tr>\n",
       "    <tr>\n",
       "      <th>2024-01-25 02:00:00</th>\n",
       "      <th>BTCUSDT</th>\n",
       "      <td>39939.8400</td>\n",
       "      <td>0.940309</td>\n",
       "      <td>40065.6200</td>\n",
       "      <td>-0.000976</td>\n",
       "      <td>39914.0000</td>\n",
       "      <td>39978.8400</td>\n",
       "      <td>39939.8400</td>\n",
       "      <td>-0.000975</td>\n",
       "      <td>5.562962e+02</td>\n",
       "      <td>2.221838e+07</td>\n",
       "      <td>...</td>\n",
       "      <td>NaN</td>\n",
       "      <td>NaN</td>\n",
       "      <td>NaN</td>\n",
       "      <td>NaN</td>\n",
       "      <td>NaN</td>\n",
       "      <td>NaN</td>\n",
       "      <td>NaN</td>\n",
       "      <td>NaN</td>\n",
       "      <td>NaN</td>\n",
       "      <td>NaN</td>\n",
       "    </tr>\n",
       "    <tr>\n",
       "      <th>2024-01-25 03:00:00</th>\n",
       "      <th>BTCUSDT</th>\n",
       "      <td>40012.0100</td>\n",
       "      <td>0.942008</td>\n",
       "      <td>40099.8700</td>\n",
       "      <td>0.001805</td>\n",
       "      <td>39931.8600</td>\n",
       "      <td>39939.8400</td>\n",
       "      <td>40012.0100</td>\n",
       "      <td>0.001807</td>\n",
       "      <td>7.089532e+02</td>\n",
       "      <td>2.836664e+07</td>\n",
       "      <td>...</td>\n",
       "      <td>NaN</td>\n",
       "      <td>NaN</td>\n",
       "      <td>NaN</td>\n",
       "      <td>NaN</td>\n",
       "      <td>NaN</td>\n",
       "      <td>NaN</td>\n",
       "      <td>NaN</td>\n",
       "      <td>NaN</td>\n",
       "      <td>NaN</td>\n",
       "      <td>NaN</td>\n",
       "    </tr>\n",
       "    <tr>\n",
       "      <th>2024-01-25 04:00:00</th>\n",
       "      <th>BTCUSDT</th>\n",
       "      <td>39956.8900</td>\n",
       "      <td>0.940710</td>\n",
       "      <td>40032.5000</td>\n",
       "      <td>-0.001379</td>\n",
       "      <td>39912.0000</td>\n",
       "      <td>40012.0100</td>\n",
       "      <td>39956.8900</td>\n",
       "      <td>-0.001378</td>\n",
       "      <td>7.761304e+02</td>\n",
       "      <td>3.101176e+07</td>\n",
       "      <td>...</td>\n",
       "      <td>NaN</td>\n",
       "      <td>NaN</td>\n",
       "      <td>NaN</td>\n",
       "      <td>NaN</td>\n",
       "      <td>NaN</td>\n",
       "      <td>NaN</td>\n",
       "      <td>NaN</td>\n",
       "      <td>NaN</td>\n",
       "      <td>NaN</td>\n",
       "      <td>NaN</td>\n",
       "    </tr>\n",
       "    <tr>\n",
       "      <th>...</th>\n",
       "      <th>...</th>\n",
       "      <td>...</td>\n",
       "      <td>...</td>\n",
       "      <td>...</td>\n",
       "      <td>...</td>\n",
       "      <td>...</td>\n",
       "      <td>...</td>\n",
       "      <td>...</td>\n",
       "      <td>...</td>\n",
       "      <td>...</td>\n",
       "      <td>...</td>\n",
       "      <td>...</td>\n",
       "      <td>...</td>\n",
       "      <td>...</td>\n",
       "      <td>...</td>\n",
       "      <td>...</td>\n",
       "      <td>...</td>\n",
       "      <td>...</td>\n",
       "      <td>...</td>\n",
       "      <td>...</td>\n",
       "      <td>...</td>\n",
       "      <td>...</td>\n",
       "    </tr>\n",
       "    <tr>\n",
       "      <th>2024-08-21 07:00:00</th>\n",
       "      <th>XRPUSDT</th>\n",
       "      <td>0.5982</td>\n",
       "      <td>0.970789</td>\n",
       "      <td>0.5989</td>\n",
       "      <td>0.001338</td>\n",
       "      <td>0.5965</td>\n",
       "      <td>0.5973</td>\n",
       "      <td>0.5982</td>\n",
       "      <td>0.001339</td>\n",
       "      <td>1.734823e+07</td>\n",
       "      <td>1.037771e+07</td>\n",
       "      <td>...</td>\n",
       "      <td>NaN</td>\n",
       "      <td>NaN</td>\n",
       "      <td>NaN</td>\n",
       "      <td>NaN</td>\n",
       "      <td>NaN</td>\n",
       "      <td>NaN</td>\n",
       "      <td>NaN</td>\n",
       "      <td>NaN</td>\n",
       "      <td>NaN</td>\n",
       "      <td>NaN</td>\n",
       "    </tr>\n",
       "    <tr>\n",
       "      <th rowspan=\"4\" valign=\"top\">2024-08-21 08:00:00</th>\n",
       "      <th>ADAUSDT</th>\n",
       "      <td>0.3534</td>\n",
       "      <td>0.591069</td>\n",
       "      <td>0.3602</td>\n",
       "      <td>-0.015722</td>\n",
       "      <td>0.3525</td>\n",
       "      <td>0.3589</td>\n",
       "      <td>0.3534</td>\n",
       "      <td>-0.015599</td>\n",
       "      <td>7.133493e+06</td>\n",
       "      <td>2.520976e+06</td>\n",
       "      <td>...</td>\n",
       "      <td>NaN</td>\n",
       "      <td>NaN</td>\n",
       "      <td>NaN</td>\n",
       "      <td>NaN</td>\n",
       "      <td>NaN</td>\n",
       "      <td>NaN</td>\n",
       "      <td>NaN</td>\n",
       "      <td>NaN</td>\n",
       "      <td>NaN</td>\n",
       "      <td>NaN</td>\n",
       "    </tr>\n",
       "    <tr>\n",
       "      <th>BTCUSDT</th>\n",
       "      <td>59443.0000</td>\n",
       "      <td>1.399474</td>\n",
       "      <td>59924.1300</td>\n",
       "      <td>-0.004515</td>\n",
       "      <td>59231.3300</td>\n",
       "      <td>59711.9900</td>\n",
       "      <td>59443.0000</td>\n",
       "      <td>-0.004505</td>\n",
       "      <td>1.071731e+03</td>\n",
       "      <td>6.370693e+07</td>\n",
       "      <td>...</td>\n",
       "      <td>NaN</td>\n",
       "      <td>NaN</td>\n",
       "      <td>NaN</td>\n",
       "      <td>NaN</td>\n",
       "      <td>NaN</td>\n",
       "      <td>NaN</td>\n",
       "      <td>NaN</td>\n",
       "      <td>NaN</td>\n",
       "      <td>NaN</td>\n",
       "      <td>NaN</td>\n",
       "    </tr>\n",
       "    <tr>\n",
       "      <th>ETHUSDT</th>\n",
       "      <td>2584.8400</td>\n",
       "      <td>1.126042</td>\n",
       "      <td>2607.8700</td>\n",
       "      <td>-0.006125</td>\n",
       "      <td>2578.6000</td>\n",
       "      <td>2600.7300</td>\n",
       "      <td>2584.8400</td>\n",
       "      <td>-0.006106</td>\n",
       "      <td>8.876694e+03</td>\n",
       "      <td>2.294483e+07</td>\n",
       "      <td>...</td>\n",
       "      <td>NaN</td>\n",
       "      <td>NaN</td>\n",
       "      <td>NaN</td>\n",
       "      <td>NaN</td>\n",
       "      <td>NaN</td>\n",
       "      <td>NaN</td>\n",
       "      <td>NaN</td>\n",
       "      <td>NaN</td>\n",
       "      <td>NaN</td>\n",
       "      <td>NaN</td>\n",
       "    </tr>\n",
       "    <tr>\n",
       "      <th>XRPUSDT</th>\n",
       "      <td>0.5961</td>\n",
       "      <td>0.967381</td>\n",
       "      <td>0.5995</td>\n",
       "      <td>-0.003517</td>\n",
       "      <td>0.5955</td>\n",
       "      <td>0.5982</td>\n",
       "      <td>0.5961</td>\n",
       "      <td>-0.003511</td>\n",
       "      <td>5.793189e+06</td>\n",
       "      <td>3.453320e+06</td>\n",
       "      <td>...</td>\n",
       "      <td>NaN</td>\n",
       "      <td>NaN</td>\n",
       "      <td>NaN</td>\n",
       "      <td>NaN</td>\n",
       "      <td>NaN</td>\n",
       "      <td>NaN</td>\n",
       "      <td>NaN</td>\n",
       "      <td>NaN</td>\n",
       "      <td>NaN</td>\n",
       "      <td>NaN</td>\n",
       "    </tr>\n",
       "  </tbody>\n",
       "</table>\n",
       "<p>10996 rows × 91 columns</p>\n",
       "</div>"
      ],
      "text/plain": [
       "                                  close  creturns        high  log_return  \\\n",
       "date                                                                        \n",
       "2024-01-25 00:00:00 BTCUSDT  40170.1500  0.945731  40178.8400    0.002125   \n",
       "2024-01-25 01:00:00 BTCUSDT  39978.8300  0.941227  40178.6200   -0.004774   \n",
       "2024-01-25 02:00:00 BTCUSDT  39939.8400  0.940309  40065.6200   -0.000976   \n",
       "2024-01-25 03:00:00 BTCUSDT  40012.0100  0.942008  40099.8700    0.001805   \n",
       "2024-01-25 04:00:00 BTCUSDT  39956.8900  0.940710  40032.5000   -0.001379   \n",
       "...                                 ...       ...         ...         ...   \n",
       "2024-08-21 07:00:00 XRPUSDT      0.5982  0.970789      0.5989    0.001338   \n",
       "2024-08-21 08:00:00 ADAUSDT      0.3534  0.591069      0.3602   -0.015722   \n",
       "                    BTCUSDT  59443.0000  1.399474  59924.1300   -0.004515   \n",
       "                    ETHUSDT   2584.8400  1.126042   2607.8700   -0.006125   \n",
       "                    XRPUSDT      0.5961  0.967381      0.5995   -0.003517   \n",
       "\n",
       "                                    low        open       price   returns  \\\n",
       "date                                                                        \n",
       "2024-01-25 00:00:00 BTCUSDT  40012.0000  40084.8900  40170.1500  0.002127   \n",
       "2024-01-25 01:00:00 BTCUSDT  39925.7900  40170.1500  39978.8300 -0.004763   \n",
       "2024-01-25 02:00:00 BTCUSDT  39914.0000  39978.8400  39939.8400 -0.000975   \n",
       "2024-01-25 03:00:00 BTCUSDT  39931.8600  39939.8400  40012.0100  0.001807   \n",
       "2024-01-25 04:00:00 BTCUSDT  39912.0000  40012.0100  39956.8900 -0.001378   \n",
       "...                                 ...         ...         ...       ...   \n",
       "2024-08-21 07:00:00 XRPUSDT      0.5965      0.5973      0.5982  0.001339   \n",
       "2024-08-21 08:00:00 ADAUSDT      0.3525      0.3589      0.3534 -0.015599   \n",
       "                    BTCUSDT  59231.3300  59711.9900  59443.0000 -0.004505   \n",
       "                    ETHUSDT   2578.6000   2600.7300   2584.8400 -0.006106   \n",
       "                    XRPUSDT      0.5955      0.5982      0.5961 -0.003511   \n",
       "\n",
       "                                   volume  volume_in_dollars  ...  \\\n",
       "date                                                          ...   \n",
       "2024-01-25 00:00:00 BTCUSDT  1.009566e+03       4.055442e+07  ...   \n",
       "2024-01-25 01:00:00 BTCUSDT  1.209844e+03       4.836813e+07  ...   \n",
       "2024-01-25 02:00:00 BTCUSDT  5.562962e+02       2.221838e+07  ...   \n",
       "2024-01-25 03:00:00 BTCUSDT  7.089532e+02       2.836664e+07  ...   \n",
       "2024-01-25 04:00:00 BTCUSDT  7.761304e+02       3.101176e+07  ...   \n",
       "...                                   ...                ...  ...   \n",
       "2024-08-21 07:00:00 XRPUSDT  1.734823e+07       1.037771e+07  ...   \n",
       "2024-08-21 08:00:00 ADAUSDT  7.133493e+06       2.520976e+06  ...   \n",
       "                    BTCUSDT  1.071731e+03       6.370693e+07  ...   \n",
       "                    ETHUSDT  8.876694e+03       2.294483e+07  ...   \n",
       "                    XRPUSDT  5.793189e+06       3.453320e+06  ...   \n",
       "\n",
       "                             SUPERT_14_5.0  SUPERTd_14_5.0  SUPERTl_14_5.0  \\\n",
       "date                                                                         \n",
       "2024-01-25 00:00:00 BTCUSDT            NaN             NaN             NaN   \n",
       "2024-01-25 01:00:00 BTCUSDT            NaN             NaN             NaN   \n",
       "2024-01-25 02:00:00 BTCUSDT            NaN             NaN             NaN   \n",
       "2024-01-25 03:00:00 BTCUSDT            NaN             NaN             NaN   \n",
       "2024-01-25 04:00:00 BTCUSDT            NaN             NaN             NaN   \n",
       "...                                    ...             ...             ...   \n",
       "2024-08-21 07:00:00 XRPUSDT            NaN             NaN             NaN   \n",
       "2024-08-21 08:00:00 ADAUSDT            NaN             NaN             NaN   \n",
       "                    BTCUSDT            NaN             NaN             NaN   \n",
       "                    ETHUSDT            NaN             NaN             NaN   \n",
       "                    XRPUSDT            NaN             NaN             NaN   \n",
       "\n",
       "                             SUPERTs_14_5.0  ema_47  SUPERT_32_3.0  \\\n",
       "date                                                                 \n",
       "2024-01-25 00:00:00 BTCUSDT             NaN     NaN            NaN   \n",
       "2024-01-25 01:00:00 BTCUSDT             NaN     NaN            NaN   \n",
       "2024-01-25 02:00:00 BTCUSDT             NaN     NaN            NaN   \n",
       "2024-01-25 03:00:00 BTCUSDT             NaN     NaN            NaN   \n",
       "2024-01-25 04:00:00 BTCUSDT             NaN     NaN            NaN   \n",
       "...                                     ...     ...            ...   \n",
       "2024-08-21 07:00:00 XRPUSDT             NaN     NaN            NaN   \n",
       "2024-08-21 08:00:00 ADAUSDT             NaN     NaN            NaN   \n",
       "                    BTCUSDT             NaN     NaN            NaN   \n",
       "                    ETHUSDT             NaN     NaN            NaN   \n",
       "                    XRPUSDT             NaN     NaN            NaN   \n",
       "\n",
       "                             SUPERTd_32_3.0  SUPERTl_32_3.0  SUPERTs_32_3.0  \\\n",
       "date                                                                          \n",
       "2024-01-25 00:00:00 BTCUSDT             NaN             NaN             NaN   \n",
       "2024-01-25 01:00:00 BTCUSDT             NaN             NaN             NaN   \n",
       "2024-01-25 02:00:00 BTCUSDT             NaN             NaN             NaN   \n",
       "2024-01-25 03:00:00 BTCUSDT             NaN             NaN             NaN   \n",
       "2024-01-25 04:00:00 BTCUSDT             NaN             NaN             NaN   \n",
       "...                                     ...             ...             ...   \n",
       "2024-08-21 07:00:00 XRPUSDT             NaN             NaN             NaN   \n",
       "2024-08-21 08:00:00 ADAUSDT             NaN             NaN             NaN   \n",
       "                    BTCUSDT             NaN             NaN             NaN   \n",
       "                    ETHUSDT             NaN             NaN             NaN   \n",
       "                    XRPUSDT             NaN             NaN             NaN   \n",
       "\n",
       "                             ema_79  \n",
       "date                                 \n",
       "2024-01-25 00:00:00 BTCUSDT     NaN  \n",
       "2024-01-25 01:00:00 BTCUSDT     NaN  \n",
       "2024-01-25 02:00:00 BTCUSDT     NaN  \n",
       "2024-01-25 03:00:00 BTCUSDT     NaN  \n",
       "2024-01-25 04:00:00 BTCUSDT     NaN  \n",
       "...                             ...  \n",
       "2024-08-21 07:00:00 XRPUSDT     NaN  \n",
       "2024-08-21 08:00:00 ADAUSDT     NaN  \n",
       "                    BTCUSDT     NaN  \n",
       "                    ETHUSDT     NaN  \n",
       "                    XRPUSDT     NaN  \n",
       "\n",
       "[10996 rows x 91 columns]"
      ]
     },
     "execution_count": 38,
     "metadata": {},
     "output_type": "execute_result"
    }
   ],
   "source": [
    "all_results"
   ]
  },
  {
   "cell_type": "code",
   "execution_count": 39,
   "metadata": {},
   "outputs": [
    {
     "ename": "NameError",
     "evalue": "name 'qs' is not defined",
     "output_type": "error",
     "traceback": [
      "\u001b[1;31m---------------------------------------------------------------------------\u001b[0m",
      "\u001b[1;31mNameError\u001b[0m                                 Traceback (most recent call last)",
      "Cell \u001b[1;32mIn[39], line 1\u001b[0m\n\u001b[1;32m----> 1\u001b[0m \u001b[43mqs\u001b[49m\u001b[38;5;241m.\u001b[39mstats\u001b[38;5;241m.\u001b[39msharpe(all_results[\u001b[38;5;124m'\u001b[39m\u001b[38;5;124mstrategy\u001b[39m\u001b[38;5;124m'\u001b[39m]\u001b[38;5;241m.\u001b[39mapply(np\u001b[38;5;241m.\u001b[39mexp) \u001b[38;5;241m-\u001b[39m \u001b[38;5;241m1\u001b[39m)\n",
      "\u001b[1;31mNameError\u001b[0m: name 'qs' is not defined"
     ]
    }
   ],
   "source": [
    "qs.stats.sharpe(all_results['strategy'].apply(np.exp) - 1)"
   ]
  },
  {
   "cell_type": "code",
   "execution_count": 40,
   "metadata": {},
   "outputs": [
    {
     "data": {
      "text/plain": [
       "<Axes: xlabel='date,None'>"
      ]
     },
     "execution_count": 40,
     "metadata": {},
     "output_type": "execute_result"
    },
    {
     "data": {
      "image/png": "[encoded data removed]",
      "text/plain": [
       "<Figure size 1000x600 with 1 Axes>"
      ]
     },
     "metadata": {},
     "output_type": "display_data"
    }
   ],
   "source": [
    "all_results['cstrategy'] = creturns = (all_results['strategy'] * (1/4)).cumsum().apply(np.exp)\n",
    "creturns.plot()"
   ]
  },
  {
   "cell_type": "code",
   "execution_count": null,
   "metadata": {},
   "outputs": [],
   "source": [
    "def optimize_sizes(data, trading_strategy, param_space):\n",
    "    best_performance = -np.inf\n",
    "    for train_size in range(1000, 3001, 500):  # Adjust the step size as needed\n",
    "        for test_size in range(1000, 3001, 500):\n",
    "            for step_size in range(1000, 3001, 500):\n",
    "                wfo = WFO(data, \n",
    "                        trading_strategy, \n",
    "                        param_space, \n",
    "                        train_size=train_size, \n",
    "                        test_size=test_size, \n",
    "                        step_size=step_size, \n",
    "                        optimize_fn=\"gp\", \n",
    "                        objective='sharpe', \n",
    "                        opt_freq='custom')\n",
    "                print(f\"Train size: {train_size}, Test size: {test_size}, Step size: {step_size}\")\n",
    "                all_performance, all_results = wfo.walk_forward_optimization()\n",
    "                if np.mean(all_performance) > best_performance:\n",
    "                    best_performance = np.mean(all_performance)\n",
    "                    best_train_size = train_size\n",
    "                    best_test_size = test_size\n",
    "                    best_step_size = step_size\n",
    "                    best_results = all_results\n",
    "                print(f\"Mean performance: {np.mean(all_performance)}\")\n",
    "\n",
    "    return best_train_size, best_test_size, best_step_size, best_results, best_performance\n",
    "\n",
    "optimize_sizes(data, trading_strategy, param_space)\n"
   ]
  }
 ],
 "metadata": {
  "kernelspec": {
   "display_name": "Python 3",
   "language": "python",
   "name": "python3"
  },
  "language_info": {
   "codemirror_mode": {
    "name": "ipython",
    "version": 3
   },
   "file_extension": ".py",
   "mimetype": "text/x-python",
   "name": "python",
   "nbconvert_exporter": "python",
   "pygments_lexer": "ipython3",
   "version": "3.12.2"
  }
 },
 "nbformat": 4,
 "nbformat_minor": 2
}
