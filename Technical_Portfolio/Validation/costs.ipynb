{
 "cells": [
  {
   "cell_type": "markdown",
   "metadata": {},
   "source": [
    "Idea:\n",
    "1. calculates trades without abs value\n",
    "2. tr_indices = df[df['trades] = 1 (and -1 when exiting the trade)]\n",
    "3. for index in tr_indices:\\\n",
    "\t\tdf = df['cumulative_return'].loc[index:] - percentage fees"
   ]
  },
  {
   "cell_type": "markdown",
   "metadata": {},
   "source": [
    "---"
   ]
  },
  {
   "cell_type": "code",
   "execution_count": 1,
   "metadata": {},
   "outputs": [
    {
     "ename": "ModuleNotFoundError",
     "evalue": "No module named 'data'",
     "output_type": "error",
     "traceback": [
      "\u001b[1;31m---------------------------------------------------------------------------\u001b[0m",
      "\u001b[1;31mModuleNotFoundError\u001b[0m                       Traceback (most recent call last)",
      "Cell \u001b[1;32mIn[1], line 25\u001b[0m\n\u001b[0;32m     22\u001b[0m sys\u001b[38;5;241m.\u001b[39mpath\u001b[38;5;241m.\u001b[39mappend(os\u001b[38;5;241m.\u001b[39mpath\u001b[38;5;241m.\u001b[39mabspath(os\u001b[38;5;241m.\u001b[39mpath\u001b[38;5;241m.\u001b[39mjoin(os\u001b[38;5;241m.\u001b[39mgetcwd(), \u001b[38;5;124m'\u001b[39m\u001b[38;5;124m..\u001b[39m\u001b[38;5;124m'\u001b[39m, \u001b[38;5;124m'\u001b[39m\u001b[38;5;124m..\u001b[39m\u001b[38;5;124m'\u001b[39m, \u001b[38;5;124m'\u001b[39m\u001b[38;5;124mValidation\u001b[39m\u001b[38;5;124m'\u001b[39m)))\n\u001b[0;32m     24\u001b[0m \u001b[38;5;66;03m# Import the modules\u001b[39;00m\n\u001b[1;32m---> 25\u001b[0m \u001b[38;5;28;01mfrom\u001b[39;00m \u001b[38;5;21;01mdata\u001b[39;00m \u001b[38;5;28;01mimport\u001b[39;00m Data\n\u001b[0;32m     26\u001b[0m \u001b[38;5;28;01mfrom\u001b[39;00m \u001b[38;5;21;01mcalculations\u001b[39;00m \u001b[38;5;28;01mimport\u001b[39;00m Calculations, Metrics\n\u001b[0;32m     27\u001b[0m \u001b[38;5;28;01mfrom\u001b[39;00m \u001b[38;5;21;01mcoarse\u001b[39;00m \u001b[38;5;28;01mimport\u001b[39;00m Coarse_1 \u001b[38;5;28;01mas\u001b[39;00m Coarse\n",
      "\u001b[1;31mModuleNotFoundError\u001b[0m: No module named 'data'"
     ]
    }
   ],
   "source": [
    "import requests\n",
    "import json\n",
    "import math\n",
    "import pandas as pd\n",
    "import numpy as np\n",
    "import datetime as dt\n",
    "import matplotlib.pyplot as plt\n",
    "from qgridnext import show_grid\n",
    "from datetime import datetime, timedelta\n",
    "import sys  \n",
    "import os\n",
    "import pandas_ta as ta\n",
    "import sklearn as sk\n",
    "import datetime as dt\n",
    "from skopt.space import Integer, Real, Categorical\n",
    "\n",
    "# Ensure the directories are in the system path\n",
    "sys.path.append(os.path.abspath(os.path.join(os.getcwd(), '..', '..', 'Data_Management'))) #We have a double .. as we are in the Strategy subfolder\n",
    "sys.path.append(os.path.abspath(os.path.join(os.getcwd(), '..', '..', 'Universe_Selection')))\n",
    "sys.path.append(os.path.abspath(os.path.join(os.getcwd(), '..', '..', 'Signal_Generation')))\n",
    "sys.path.append(os.path.abspath(os.path.join(os.getcwd(), '..', '..', 'Risk_Management')))\n",
    "sys.path.append(os.path.abspath(os.path.join(os.getcwd(), '..', '..', 'Validation')))\n",
    "\n",
    "# Import the modules\n",
    "from data import Data\n",
    "from calculations import Calculations, Metrics\n",
    "from coarse import Coarse_1 as Coarse\n",
    "from fine import Fine_1 as Fine\n",
    "from entry_signal import Trend_Following, Mean_Reversion\n",
    "from tail_risk import Stop_Loss, Take_Profit\n",
    "from manage_trade import Manage_Trade\n",
    "from position import Position\n",
    "from testing import WFO\n",
    "from stress_test import Hypothsis_Testing, Monte_Carlo, Param_Sens, Crash_Test\n",
    "from costs import Costs"
   ]
  },
  {
   "cell_type": "code",
   "execution_count": null,
   "metadata": {},
   "outputs": [],
   "source": []
  }
 ],
 "metadata": {
  "kernelspec": {
   "display_name": "Python 3",
   "language": "python",
   "name": "python3"
  },
  "language_info": {
   "codemirror_mode": {
    "name": "ipython",
    "version": 3
   },
   "file_extension": ".py",
   "mimetype": "text/x-python",
   "name": "python",
   "nbconvert_exporter": "python",
   "pygments_lexer": "ipython3",
   "version": "3.12.2"
  }
 },
 "nbformat": 4,
 "nbformat_minor": 2
}
