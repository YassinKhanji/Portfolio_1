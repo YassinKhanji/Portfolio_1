{
 "cells": [
  {
   "cell_type": "code",
   "execution_count": 1,
   "metadata": {},
   "outputs": [
    {
     "name": "stdout",
     "output_type": "stream",
     "text": [
      "                                close  creturns      high  log_return  \\\n",
      "date                coin                                                \n",
      "2020-12-31 19:00:00 BTCUSDT  29331.69       NaN  29600.00         NaN   \n",
      "                    ETHUSDT    728.91       NaN    749.00         NaN   \n",
      "2021-01-01 19:00:00 BTCUSDT  32178.33  1.097050  33300.00    0.092625   \n",
      "                    ETHUSDT    774.56  1.062628    787.69    0.060745   \n",
      "2021-01-02 19:00:00 BTCUSDT  33000.05  1.125065  34778.11    0.025216   \n",
      "                    ETHUSDT    978.28  1.342114   1011.07    0.233501   \n",
      "2021-01-03 19:00:00 BTCUSDT  31988.71  1.090585  33600.00   -0.031126   \n",
      "                    ETHUSDT   1041.43  1.428750   1162.97    0.062554   \n",
      "2021-01-04 19:00:00 BTCUSDT  33949.53  1.157435  34360.00    0.059492   \n",
      "                    ETHUSDT   1099.56  1.508499   1134.60    0.054315   \n",
      "2021-01-05 19:00:00 BTCUSDT  36769.36  1.253571  36939.21    0.079790   \n",
      "                    ETHUSDT   1208.42  1.657845   1213.00    0.094404   \n",
      "2021-01-06 19:00:00 BTCUSDT  39432.28  1.344358  40365.00    0.069920   \n",
      "                    ETHUSDT   1224.87  1.680413   1289.00    0.013521   \n",
      "2021-01-07 19:00:00 BTCUSDT  40582.81  1.383582  41950.00    0.028760   \n",
      "                    ETHUSDT   1216.93  1.669520   1273.75   -0.006503   \n",
      "2021-01-08 19:00:00 BTCUSDT  40088.22  1.366720  41380.00   -0.012262   \n",
      "                    ETHUSDT   1276.00  1.750559   1304.37    0.047399   \n",
      "\n",
      "                                  low      open   returns        volume  \\\n",
      "date                coin                                                  \n",
      "2020-12-31 19:00:00 BTCUSDT  28624.57  28923.63       NaN  5.418293e+04   \n",
      "                    ETHUSDT    714.29    736.42       NaN  6.751141e+05   \n",
      "2021-01-01 19:00:00 BTCUSDT  28946.53  29331.70  0.097050  1.299939e+05   \n",
      "                    ETHUSDT    714.91    728.91  0.062628  1.352619e+06   \n",
      "2021-01-02 19:00:00 BTCUSDT  31962.99  32176.45  0.025536  1.209576e+05   \n",
      "                    ETHUSDT    768.71    774.44  0.263014  2.813604e+06   \n",
      "2021-01-03 19:00:00 BTCUSDT  28130.00  33000.05 -0.030647  1.408999e+05   \n",
      "                    ETHUSDT    890.00    978.33  0.064552  4.245011e+06   \n",
      "2021-01-04 19:00:00 BTCUSDT  29900.00  31989.75  0.061297  1.160500e+05   \n",
      "                    ETHUSDT    974.45   1041.45  0.055817  2.706996e+06   \n",
      "2021-01-05 19:00:00 BTCUSDT  33288.00  33949.53  0.083059  1.271392e+05   \n",
      "                    ETHUSDT   1057.26   1100.16  0.099003  2.390137e+06   \n",
      "2021-01-06 19:00:00 BTCUSDT  36300.00  36769.36  0.072422  1.328257e+05   \n",
      "                    ETHUSDT   1131.00   1208.75  0.013613  1.972923e+06   \n",
      "2021-01-07 19:00:00 BTCUSDT  36500.00  39432.48  0.029177  1.397900e+05   \n",
      "                    ETHUSDT   1065.00   1224.86 -0.006482  2.131173e+06   \n",
      "2021-01-08 19:00:00 BTCUSDT  38720.00  40586.96 -0.012187  7.578598e+04   \n",
      "                    ETHUSDT   1171.36   1216.72  0.048540  1.448871e+06   \n",
      "\n",
      "                             volume_in_dollars  \n",
      "date                coin                        \n",
      "2020-12-31 19:00:00 BTCUSDT       1.589277e+09  \n",
      "                    ETHUSDT       4.920974e+08  \n",
      "2021-01-01 19:00:00 BTCUSDT       4.182986e+09  \n",
      "                    ETHUSDT       1.047684e+09  \n",
      "2021-01-02 19:00:00 BTCUSDT       3.991606e+09  \n",
      "                    ETHUSDT       2.752492e+09  \n",
      "2021-01-03 19:00:00 BTCUSDT       4.507206e+09  \n",
      "                    ETHUSDT       4.420882e+09  \n",
      "2021-01-04 19:00:00 BTCUSDT       3.939843e+09  \n",
      "                    ETHUSDT       2.976504e+09  \n",
      "2021-01-05 19:00:00 BTCUSDT       4.674827e+09  \n",
      "                    ETHUSDT       2.888289e+09  \n",
      "2021-01-06 19:00:00 BTCUSDT       5.237620e+09  \n",
      "                    ETHUSDT       2.416574e+09  \n",
      "2021-01-07 19:00:00 BTCUSDT       5.673069e+09  \n",
      "                    ETHUSDT       2.593488e+09  \n",
      "2021-01-08 19:00:00 BTCUSDT       3.038125e+09  \n",
      "                    ETHUSDT       1.848760e+09  \n"
     ]
    }
   ],
   "source": [
    "import requests\n",
    "import json\n",
    "import math\n",
    "import pandas as pd\n",
    "import numpy as np\n",
    "import datetime as dt\n",
    "import matplotlib.pyplot as plt\n",
    "from qgridnext import show_grid\n",
    "from datetime import datetime, timedelta\n",
    "import sys  \n",
    "import os\n",
    "import pandas_ta as ta\n",
    "\n",
    "\n",
    "# Ensure the directories are in the system path\n",
    "sys.path.append(os.path.abspath(os.path.join(os.getcwd(), '..', 'Data_Management')))\n",
    "sys.path.append(os.path.abspath(os.path.join(os.getcwd(), '..', 'Universe_Selection')))\n",
    "sys.path.append(os.path.abspath(os.path.join(os.getcwd(), '..', 'Signal_Generation')))\n",
    "sys.path.append(os.path.abspath(os.path.join(os.getcwd(), '..', 'Risk_Management')))\n",
    "\n",
    "# Import the modules\n",
    "from data import Data\n",
    "from calculations import Calculations\n",
    "from coarse import Coarse_1 as Coarse\n",
    "from fine import Fine_1 as Fine\n",
    "from entry_signal import Trend_Following, Mean_Reversion\n",
    "from tail_risk import Stop_Loss, Take_Profit"
   ]
  },
  {
   "cell_type": "code",
   "execution_count": 2,
   "metadata": {},
   "outputs": [
    {
     "ename": "AttributeError",
     "evalue": "'numpy.ndarray' object has no attribute 'shift'",
     "output_type": "error",
     "traceback": [
      "\u001b[1;31m---------------------------------------------------------------------------\u001b[0m",
      "\u001b[1;31mAttributeError\u001b[0m                            Traceback (most recent call last)",
      "Cell \u001b[1;32mIn[2], line 20\u001b[0m\n\u001b[0;32m     18\u001b[0m str_length \u001b[38;5;241m=\u001b[39m \u001b[38;5;241m10\u001b[39m\n\u001b[0;32m     19\u001b[0m str_mult \u001b[38;5;241m=\u001b[39m \u001b[38;5;241m3\u001b[39m\n\u001b[1;32m---> 20\u001b[0m _df \u001b[38;5;241m=\u001b[39m \u001b[43mtf\u001b[49m\u001b[38;5;241;43m.\u001b[39;49m\u001b[43msupertrend_signals\u001b[49m\u001b[43m(\u001b[49m\u001b[43mdf\u001b[49m\u001b[43m,\u001b[49m\u001b[43m \u001b[49m\u001b[43mstr_length\u001b[49m\u001b[43m,\u001b[49m\u001b[43m \u001b[49m\u001b[43mstr_mult\u001b[49m\u001b[43m)\u001b[49m\n\u001b[0;32m     22\u001b[0m \u001b[38;5;66;03m#Perform some calculations\u001b[39;00m\n\u001b[0;32m     23\u001b[0m _df \u001b[38;5;241m=\u001b[39m cal\u001b[38;5;241m.\u001b[39mtrades(_df)\n",
      "File \u001b[1;32mc:\\Users\\yassi\\OneDrive\\Documents\\GitHub\\Portfolio_1\\Technical_Portfolio\\Signal_Generation\\entry_signal.py:51\u001b[0m, in \u001b[0;36mTrend_Following.supertrend_signals\u001b[1;34m(self, df, length, multiplier)\u001b[0m\n\u001b[0;32m     49\u001b[0m \u001b[38;5;66;03m#Generate signals\u001b[39;00m\n\u001b[0;32m     50\u001b[0m signal \u001b[38;5;241m=\u001b[39m (_df[\u001b[38;5;124mf\u001b[39m\u001b[38;5;124m'\u001b[39m\u001b[38;5;124mSUPERTd_\u001b[39m\u001b[38;5;132;01m{\u001b[39;00mlength\u001b[38;5;132;01m}\u001b[39;00m\u001b[38;5;124m_\u001b[39m\u001b[38;5;132;01m{\u001b[39;00m\u001b[38;5;28mfloat\u001b[39m(multiplier)\u001b[38;5;132;01m}\u001b[39;00m\u001b[38;5;124m'\u001b[39m] \u001b[38;5;241m==\u001b[39m \u001b[38;5;241m1\u001b[39m) \u001b[38;5;241m&\u001b[39m (_df[\u001b[38;5;124mf\u001b[39m\u001b[38;5;124m'\u001b[39m\u001b[38;5;124mSUPERTd_\u001b[39m\u001b[38;5;132;01m{\u001b[39;00mlength\u001b[38;5;132;01m}\u001b[39;00m\u001b[38;5;124m_\u001b[39m\u001b[38;5;132;01m{\u001b[39;00m\u001b[38;5;28mfloat\u001b[39m(multiplier)\u001b[38;5;132;01m}\u001b[39;00m\u001b[38;5;124m'\u001b[39m]\u001b[38;5;241m.\u001b[39mshift() \u001b[38;5;241m==\u001b[39m \u001b[38;5;241m-\u001b[39m\u001b[38;5;241m1\u001b[39m)\n\u001b[1;32m---> 51\u001b[0m _df[\u001b[38;5;124m'\u001b[39m\u001b[38;5;124msignals_str\u001b[39m\u001b[38;5;124m'\u001b[39m] \u001b[38;5;241m=\u001b[39m \u001b[43mnp\u001b[49m\u001b[38;5;241;43m.\u001b[39;49m\u001b[43mwhere\u001b[49m\u001b[43m(\u001b[49m\u001b[43msignal\u001b[49m\u001b[43m,\u001b[49m\u001b[43m \u001b[49m\u001b[38;5;241;43m1\u001b[39;49m\u001b[43m,\u001b[49m\u001b[43m \u001b[49m\u001b[38;5;241;43m0\u001b[39;49m\u001b[43m)\u001b[49m\u001b[38;5;241;43m.\u001b[39;49m\u001b[43mshift\u001b[49m(\u001b[38;5;241m1\u001b[39m)\n\u001b[0;32m     53\u001b[0m \u001b[38;5;28;01mreturn\u001b[39;00m _df\n",
      "\u001b[1;31mAttributeError\u001b[0m: 'numpy.ndarray' object has no attribute 'shift'"
     ]
    }
   ],
   "source": [
    "symbols = ['BTCUSDT', 'ETHUSDT']\n",
    "start_time = dt.datetime(2024, 1, 1)\n",
    "end_time = dt.datetime(2024, 2, 1)\n",
    "timeframe = '1h'\n",
    "data = Data(symbols, timeframe, start_time, end_time).df\n",
    "#Perform coarse analysis and filtering\n",
    "coarse = Coarse()\n",
    "fine = Fine()\n",
    "tf = Trend_Following()\n",
    "mr = Mean_Reversion()\n",
    "cal = Calculations()\n",
    "\n",
    "df = coarse.volume_flag(data, 1000)\n",
    "df = coarse.sort_by_volume(df)\n",
    "df = coarse.sort_by_std(df, 2, 2)\n",
    "df = fine.above_ema(df, 2)\n",
    "#Generate a signal (just for the sake of applying the risk management)\n",
    "str_length = 10\n",
    "str_mult = 3\n",
    "_df = tf.supertrend_signals(df, str_length, str_mult)\n",
    "\n",
    "#Perform some calculations\n",
    "_df = cal.trades(_df)\n",
    "_df = cal.strategy_returns(_df)\n",
    "_df = cal.sessions(_df)\n",
    "_df"
   ]
  },
  {
   "cell_type": "markdown",
   "metadata": {},
   "source": [
    "## Position"
   ]
  },
  {
   "cell_type": "markdown",
   "metadata": {},
   "source": [
    "To make a position columns, we have to take into account overlapping positions that might yield better risk adjusted performance if the state that we are trying to exploit continues. Example, if we are buying in a trend, and we get another signal while price pullbacks, and we don't get stopped from the first signal. If the second signal is strong enough or assuming that trend following will continue, we are better to keep holding the first signal which would not only increase performance, but this would also lower the trading costs (depeninding on the broker)"
   ]
  },
  {
   "cell_type": "markdown",
   "metadata": {},
   "source": [
    "Note that we need to make the positions columns then it we would translate it to sessions (this would make the code reusable). Position column is formed by the trading signal column (should be in the calculations module)\n",
    "What we want is a trade signal to be triggered then:\n",
    "\n",
    "-> If we won't take any new trades until the current trade is closed (Basically, stay in the trade and ignore the \tnew trade): \n",
    "1. Position column = ffill() trading signal column (we want to create a position whenever we are in a trade) \n",
    "2. Calculate trades, strategy returns, sessions (as usual) (note that at first, sessions would = to position)\n",
    "2. Loop on the len(df):\\\n",
    "\tApply SL and TP\\\n",
    "\tif trading signal != position column (trading signal == 1 and position column == 0): \\\n",
    "\t\tposition column = trading signal\\\n",
    "\t\tposition column.ffill()\\\n",
    "=> Note that sl and take profit would loop on every session which does not affect this process as sessions are updated on each loop which is what we need as tp and sl is applied on sessions not positions\n",
    "\n",
    "-> If we want to take an additional trade while keeping the current open trade: \n",
    "1. Position column = cumsum() the trading signals (For example, if we would have a trading signal on one row and another trading signal on the next row, then the current positions would be = 2).\n",
    "2. Calculate trades, strategy returns, sessions (as usual)\n",
    "3. Apply sl and tp\n",
    "\n",
    "-> We can Actually combine the two above:\n",
    "\n",
    "Pseudo code:\n",
    "1. Position column = cumsum() the trading signals\n",
    "2. if max is not None: np.clip(0, max) else: np.clip(0, np.inf)\n",
    "3. Calculate trades, strategy returns, sessions (as usual)\n",
    "4. Loop on the len(df):\\\n",
    "\tif position != 0:\\\n",
    "\t\t\tApply SL and Take Profit\\\n",
    "\t\\\n",
    "\telif trading signal != position column (trading signal == 1 and position column == 0): \\\n",
    "\t\tposition current row = trading signal current row\\\n",
    "\t\tposition column.ffill()\n",
    "\n",
    "Note that we want correlated signals to be merged (trend following or mean reversion (for now)) and uncorrelated \n",
    "\n",
    "-> Be in a trade as long as a condition is still true (Ex: Stay in a trade as long as Supertrend is green):\n",
    "1. Create a position column that is 1 if a condition is true, 0 otherwise\n",
    "2. Apply sessions as usual\n",
    "3. Apply take profit and stop loss as usual\n"
   ]
  },
  {
   "cell_type": "code",
   "execution_count": 3,
   "metadata": {},
   "outputs": [
    {
     "ename": "NameError",
     "evalue": "name 'test' is not defined",
     "output_type": "error",
     "traceback": [
      "\u001b[1;31m---------------------------------------------------------------------------\u001b[0m",
      "\u001b[1;31mNameError\u001b[0m                                 Traceback (most recent call last)",
      "Cell \u001b[1;32mIn[3], line 1\u001b[0m\n\u001b[1;32m----> 1\u001b[0m num_rows \u001b[38;5;241m=\u001b[39m \u001b[38;5;28mlen\u001b[39m(\u001b[43mtest\u001b[49m\u001b[38;5;241m.\u001b[39mindex)\n\u001b[0;32m      2\u001b[0m num_rows \u001b[38;5;66;03m#This includes the row for each coin at each index\u001b[39;00m\n",
      "\u001b[1;31mNameError\u001b[0m: name 'test' is not defined"
     ]
    }
   ],
   "source": [
    "num_rows = len(test.index)\n",
    "num_rows #This includes the row for each coin at each index"
   ]
  },
  {
   "cell_type": "code",
   "execution_count": null,
   "metadata": {},
   "outputs": [
    {
     "data": {
      "text/plain": [
       "date                 coin   \n",
       "2020-12-31 19:00:00  BTCUSDT    1\n",
       "                     ETHUSDT    1\n",
       "2020-12-31 20:00:00  BTCUSDT    1\n",
       "                     ETHUSDT    1\n",
       "2020-12-31 21:00:00  BTCUSDT    0\n",
       "                               ..\n",
       "2021-01-09 16:00:00  ETHUSDT    1\n",
       "2021-01-09 17:00:00  BTCUSDT    1\n",
       "                     ETHUSDT    1\n",
       "2021-01-09 18:00:00  BTCUSDT    1\n",
       "                     ETHUSDT    0\n",
       "Name: signals, Length: 432, dtype: int32"
      ]
     },
     "metadata": {},
     "output_type": "display_data"
    }
   ],
   "source": [
    "#Generate a random signals column\n",
    "test['signals'] = np.random.choice([0, 1], size = num_rows)\n",
    "test['signals']"
   ]
  },
  {
   "cell_type": "code",
   "execution_count": null,
   "metadata": {},
   "outputs": [
    {
     "data": {
      "text/plain": [
       "date                 coin   \n",
       "2020-12-31 19:00:00  BTCUSDT    0.0\n",
       "                     ETHUSDT    0.0\n",
       "2020-12-31 20:00:00  BTCUSDT    1.0\n",
       "                     ETHUSDT    1.0\n",
       "2020-12-31 21:00:00  BTCUSDT    1.0\n",
       "                               ... \n",
       "2021-01-09 16:00:00  ETHUSDT    0.0\n",
       "2021-01-09 17:00:00  BTCUSDT    1.0\n",
       "                     ETHUSDT    1.0\n",
       "2021-01-09 18:00:00  BTCUSDT    1.0\n",
       "                     ETHUSDT    1.0\n",
       "Length: 432, dtype: float64"
      ]
     },
     "metadata": {},
     "output_type": "display_data"
    }
   ],
   "source": [
    "series = test['signals']\n",
    "position = np.where(series == 1, 1, 0)\n",
    "position = pd.Series(position, index = series.index)\n",
    "position = position.shift(test.index.get_level_values(1).nunique()).fillna(0) \n",
    "position"
   ]
  },
  {
   "cell_type": "code",
   "execution_count": null,
   "metadata": {},
   "outputs": [],
   "source": [
    "test['position'] = position"
   ]
  },
  {
   "cell_type": "code",
   "execution_count": null,
   "metadata": {},
   "outputs": [
    {
     "data": {
      "text/plain": [
       "date                 coin   \n",
       "2020-12-31 19:00:00  BTCUSDT    0.0\n",
       "                     ETHUSDT    0.0\n",
       "2020-12-31 20:00:00  BTCUSDT    1.0\n",
       "                     ETHUSDT    1.0\n",
       "2020-12-31 21:00:00  BTCUSDT    1.0\n",
       "                               ... \n",
       "2021-01-09 16:00:00  ETHUSDT    0.0\n",
       "2021-01-09 17:00:00  BTCUSDT    1.0\n",
       "                     ETHUSDT    1.0\n",
       "2021-01-09 18:00:00  BTCUSDT    1.0\n",
       "                     ETHUSDT    1.0\n",
       "Name: position, Length: 432, dtype: float64"
      ]
     },
     "metadata": {},
     "output_type": "display_data"
    }
   ],
   "source": [
    "test['position']"
   ]
  },
  {
   "cell_type": "code",
   "execution_count": null,
   "metadata": {},
   "outputs": [],
   "source": [
    "class Position():\n",
    "    def __init__(self, df):\n",
    "        \"\"\"\n",
    "        parametes:\n",
    "            df: Stacked dataframe\n",
    "        \"\"\"\n",
    "        self.df = df.copy()            \n",
    "            \n",
    "\n",
    "    def custom_positon(self, series):\n",
    "        \"\"\"\n",
    "        This will take a series where a condition is met and return a series with the position\n",
    "        The series can have values of either 1 (when condition is met) or other values (when condition is not met)\n",
    "\n",
    "        It is basically a copy of the series while keeping only the values of 1.\n",
    "\n",
    "        Assumes a stacked column (if the series has a multiindex of multicoins)\n",
    "        returns the position column\n",
    "        \"\"\"\n",
    "        position = np.where(series == 1, 1, 0)\n",
    "        position = pd.Series(position, index = series.index)\n",
    "        position = position.shift(test.index.get_level_values(1).nunique()).fillna(0) \n",
    "        return position"
   ]
  },
  {
   "cell_type": "code",
   "execution_count": null,
   "metadata": {},
   "outputs": [],
   "source": [
    "pos = Position(test)\n",
    "test['position'] = pos.custom_positon(test['signals'])"
   ]
  },
  {
   "cell_type": "code",
   "execution_count": null,
   "metadata": {},
   "outputs": [
    {
     "data": {
      "text/plain": [
       "date                 coin   \n",
       "2020-12-31 19:00:00  BTCUSDT    0.0\n",
       "                     ETHUSDT    0.0\n",
       "2020-12-31 20:00:00  BTCUSDT    1.0\n",
       "                     ETHUSDT    1.0\n",
       "2020-12-31 21:00:00  BTCUSDT    1.0\n",
       "                               ... \n",
       "2021-01-09 16:00:00  ETHUSDT    0.0\n",
       "2021-01-09 17:00:00  BTCUSDT    1.0\n",
       "                     ETHUSDT    1.0\n",
       "2021-01-09 18:00:00  BTCUSDT    1.0\n",
       "                     ETHUSDT    1.0\n",
       "Name: position, Length: 432, dtype: float64"
      ]
     },
     "metadata": {},
     "output_type": "display_data"
    }
   ],
   "source": [
    "test['position']"
   ]
  },
  {
   "cell_type": "markdown",
   "metadata": {},
   "source": [
    "Now for the position based on the trading signals"
   ]
  },
  {
   "cell_type": "code",
   "execution_count": null,
   "metadata": {},
   "outputs": [],
   "source": [
    "#Generate a random signals column\n",
    "test['signals_1'] = np.random.choice([0, 1], size = num_rows)\n",
    "test['signals_2'] = np.random.choice([0, 1], size = num_rows)"
   ]
  },
  {
   "cell_type": "code",
   "execution_count": null,
   "metadata": {},
   "outputs": [
    {
     "data": {
      "text/plain": [
       "date                 coin   \n",
       "2020-12-31 19:00:00  BTCUSDT    0\n",
       "                     ETHUSDT    0\n",
       "2020-12-31 20:00:00  BTCUSDT    0\n",
       "                     ETHUSDT    1\n",
       "2020-12-31 21:00:00  BTCUSDT    0\n",
       "                               ..\n",
       "2021-01-09 16:00:00  ETHUSDT    0\n",
       "2021-01-09 17:00:00  BTCUSDT    1\n",
       "                     ETHUSDT    0\n",
       "2021-01-09 18:00:00  BTCUSDT    1\n",
       "                     ETHUSDT    0\n",
       "Name: signals_1, Length: 432, dtype: int32"
      ]
     },
     "metadata": {},
     "output_type": "display_data"
    }
   ],
   "source": [
    "test['signals_1']"
   ]
  },
  {
   "cell_type": "code",
   "execution_count": null,
   "metadata": {},
   "outputs": [],
   "source": [
    "signal_columns = [col for col in test.columns if 'signals' in col]\n",
    "_max = 1\n",
    "_min = 0\n",
    "for coin in test.index.get_level_values(1).unique():\n",
    "    for i in range(len(signal_columns)):\n",
    "        test[f'position_{i}', coin ] =  test[signal_columns[i]].cumsum().shift(test.index.get_level_values(1).nunique()).fillna(0)\n",
    "        test[f'position_{i}'] = np.clip(test[f'position_{i}'], _min, _max)\n",
    "\n",
    "\n",
    "\n",
    "\n",
    "    \n",
    "\n"
   ]
  }
 ],
 "metadata": {
  "kernelspec": {
   "display_name": "Python 3",
   "language": "python",
   "name": "python3"
  },
  "language_info": {
   "codemirror_mode": {
    "name": "ipython",
    "version": 3
   },
   "file_extension": ".py",
   "mimetype": "text/x-python",
   "name": "python",
   "nbconvert_exporter": "python",
   "pygments_lexer": "ipython3",
   "version": "3.12.2"
  }
 },
 "nbformat": 4,
 "nbformat_minor": 2
}
