{
 "cells": [
  {
   "cell_type": "code",
   "execution_count": null,
   "metadata": {},
   "outputs": [],
   "source": [
    "import time\n",
    "from datetime import datetime, timedelta\n",
    "\n",
    "def run_strategy():\n",
    "    # Execute the strategy immediately on startup\n",
    "    print(\"Running strategy at\", datetime.now())\n",
    "    # Add your trading strategy logic here\n",
    "    # Make a csv that contains the first set of data for the optimization\n",
    "\n",
    "    while True:\n",
    "        # Get current time and calculate next hour\n",
    "        now = datetime.now()\n",
    "        next_hour = (now + timedelta(hours=1)).replace(minute=0, second=0, microsecond=0)\n",
    "\n",
    "        # Wait until the next hour\n",
    "        sleep_duration = (next_hour - now).total_seconds()\n",
    "        print(f\"Sleeping for {sleep_duration} seconds...\")\n",
    "        time.sleep(sleep_duration)\n",
    "\n",
    "        # Execute your strategy\n",
    "        print(\"Running strategy at\", datetime.now())\n",
    "        # Add your trading strategy logic here\n",
    "\n",
    "run_strategy() # call the function"
   ]
  },
  {
   "cell_type": "code",
   "execution_count": null,
   "metadata": {},
   "outputs": [],
   "source": [
    "import ccxt\n",
    "import pandas as pd\n",
    "import time\n",
    "import os\n",
    "\n",
    "# Initialize Kraken Pro Exchange\n",
    "exchange = ccxt.kraken({\n",
    "    'apiKey': 'your_api_key',\n",
    "    'secret': 'your_api_secret'\n",
    "})\n",
    "\n",
    "# Fetch the latest OHLCV data point\n",
    "def fetch_latest_data(symbol, timeframe):\n",
    "    try:\n",
    "        ohlcv = exchange.fetch_ohlcv(symbol, timeframe, limit=1)\n",
    "        latest_data = ohlcv[-1]\n",
    "        return {\n",
    "            'timestamp': pd.to_datetime(latest_data[0], unit='ms'),\n",
    "            'open': latest_data[1],\n",
    "            'high': latest_data[2],\n",
    "            'low': latest_data[3],\n",
    "            'close': latest_data[4],\n",
    "            'volume': latest_data[5]\n",
    "        }\n",
    "    except Exception as e:\n",
    "        print(f\"Error fetching latest data: {e}\")\n",
    "        return None\n",
    "\n",
    "# Append new data to CSV and maintain max length\n",
    "def append_to_csv_with_limit(data, filename, max_rows=3000):\n",
    "    file_exists = os.path.isfile(filename)\n",
    "    df = pd.DataFrame([data])\n",
    "    \n",
    "    if file_exists:\n",
    "        existing_df = pd.read_csv(filename)\n",
    "        combined_df = pd.concat([existing_df, df], ignore_index=True)\n",
    "        if len(combined_df) > max_rows:\n",
    "            combined_df = combined_df.iloc[-max_rows:]  # Keep only the last max_rows rows\n",
    "        combined_df.to_csv(filename, index=False)\n",
    "    else:\n",
    "        df.to_csv(filename, mode='w', header=True, index=False)\n",
    "\n",
    "# Load the dataset from the CSV file\n",
    "def load_data_from_csv(filename):\n",
    "    if os.path.isfile(filename):\n",
    "        return pd.read_csv(filename)\n",
    "    else:\n",
    "        return pd.DataFrame()\n",
    "\n",
    "# Calculate moving averages on the dataset\n",
    "def calculate_moving_averages(df, fast_period, slow_period):\n",
    "    df['fast_ma'] = df['close'].rolling(window=fast_period).mean()\n",
    "    df['slow_ma'] = df['close'].rolling(window=slow_period).mean()\n",
    "    return df\n",
    "\n",
    "# Check crossover signals\n",
    "def check_crossover(df):\n",
    "    if len(df) < 2:\n",
    "        return None\n",
    "    if df['fast_ma'].iloc[-2] < df['slow_ma'].iloc[-2] and df['fast_ma'].iloc[-1] > df['slow_ma'].iloc[-1]:\n",
    "        return 'buy'\n",
    "    elif df['fast_ma'].iloc[-2] > df['slow_ma'].iloc[-2] and df['fast_ma'].iloc[-1] < df['slow_ma'].iloc[-1]:\n",
    "        return 'sell'\n",
    "    else:\n",
    "        return None\n",
    "\n",
    "# Main function to run the strategy\n",
    "def run_strategy(symbol, timeframe, fast_period, slow_period, filename, max_rows):\n",
    "    print(f\"Starting Moving Average Crossover Strategy for {symbol} on {timeframe} timeframe.\")\n",
    "    while True:\n",
    "        latest_data = fetch_latest_data(symbol, timeframe)\n",
    "        if latest_data:\n",
    "            append_to_csv_with_limit(latest_data, filename, max_rows)\n",
    "            dataset = load_data_from_csv(filename)\n",
    "            dataset = calculate_moving_averages(dataset, fast_period, slow_period)\n",
    "            signal = check_crossover(dataset)\n",
    "            if signal == 'buy':\n",
    "                print(f\"Buy signal detected at {latest_data['timestamp']}\")\n",
    "            elif signal == 'sell':\n",
    "                print(f\"Sell signal detected at {latest_data['timestamp']}\")\n",
    "            else:\n",
    "                print(f\"No signal at {latest_data['timestamp']}\")\n",
    "        time.sleep(60)  # Wait for the next candle\n",
    "\n",
    "# Run the strategy\n",
    "\n",
    "symbol = 'BTC/USD'  # Trading pair\n",
    "timeframe = '1m'  # Timeframe\n",
    "fast_period = 5  # Fast moving average period\n",
    "slow_period = 20  # Slow moving average period\n",
    "csv_filename = 'market_data.csv'  # File to store historical data\n",
    "max_data_points = 3000  # Maximum number of rows in the CSV\n",
    "\n",
    "run_strategy(symbol, timeframe, fast_period, slow_period, csv_filename, max_data_points)"
   ]
  },
  {
   "cell_type": "code",
   "execution_count": null,
   "metadata": {},
   "outputs": [],
   "source": [
    "import ccxt\n",
    "import pandas as pd\n",
    "import os\n",
    "import time\n",
    "from unsync import unsync\n",
    "\n",
    "# Initialize Kraken Pro Exchange\n",
    "exchange = ccxt.kraken({\n",
    "    'apiKey': 'your_api_key',\n",
    "    'secret': 'your_api_secret'\n",
    "})\n",
    "\n",
    "# Fetch the latest OHLCV data point (asynchronous)\n",
    "@unsync\n",
    "def fetch_latest_data(symbol, timeframe):\n",
    "    try:\n",
    "        ohlcv = exchange.fetch_ohlcv(symbol, timeframe, limit=1)\n",
    "        latest_data = ohlcv[-1]\n",
    "        return {\n",
    "            'timestamp': pd.to_datetime(latest_data[0], unit='ms'),\n",
    "            'open': latest_data[1],\n",
    "            'high': latest_data[2],\n",
    "            'low': latest_data[3],\n",
    "            'close': latest_data[4],\n",
    "            'volume': latest_data[5]\n",
    "        }\n",
    "    except Exception as e:\n",
    "        print(f\"Error fetching latest data: {e}\")\n",
    "        return None\n",
    "\n",
    "# Append new data to CSV and maintain max length (asynchronous)\n",
    "@unsync\n",
    "def append_to_csv_with_limit(data, filename, max_rows=3000):\n",
    "    file_exists = os.path.isfile(filename)\n",
    "    df = pd.DataFrame([data])\n",
    "    \n",
    "    if file_exists:\n",
    "        existing_df = pd.read_csv(filename)\n",
    "        combined_df = pd.concat([existing_df, df], ignore_index=True)\n",
    "        if len(combined_df) > max_rows:\n",
    "            combined_df = combined_df.iloc[-max_rows:]  # Keep only the last max_rows rows\n",
    "        combined_df.to_csv(filename, index=False)\n",
    "    else:\n",
    "        df.to_csv(filename, mode='w', header=True, index=False)\n",
    "\n",
    "# Load the dataset from the CSV file (synchronous, needed for signal calculations)\n",
    "def load_data_from_csv(filename):\n",
    "    if os.path.isfile(filename):\n",
    "        return pd.read_csv(filename)\n",
    "    else:\n",
    "        return pd.DataFrame()\n",
    "\n",
    "# Calculate moving averages on the dataset\n",
    "def calculate_moving_averages(df, fast_period, slow_period):\n",
    "    df['fast_ma'] = df['close'].rolling(window=fast_period).mean()\n",
    "    df['slow_ma'] = df['close'].rolling(window=slow_period).mean()\n",
    "    return df\n",
    "\n",
    "# Check crossover signals\n",
    "def check_crossover(df):\n",
    "    if len(df) < 2:\n",
    "        return None\n",
    "    if df['fast_ma'].iloc[-2] < df['slow_ma'].iloc[-2] and df['fast_ma'].iloc[-1] > df['slow_ma'].iloc[-1]:\n",
    "        return 'buy'\n",
    "    elif df['fast_ma'].iloc[-2] > df['slow_ma'].iloc[-2] and df['fast_ma'].iloc[-1] < df['slow_ma'].iloc[-1]:\n",
    "        return 'sell'\n",
    "    else:\n",
    "        return None\n",
    "\n",
    "\n",
    "def run_strategy_logic(symbol, timeframe, fast_period, slow_period, filename):\n",
    "    \"\"\"Executes the core strategy logic (fetching, appending, calculating, checking).\"\"\"\n",
    "    fetch_task = fetch_latest_data(symbol, timeframe)\n",
    "    latest_data = fetch_task.result()\n",
    "\n",
    "    if latest_data:\n",
    "        append_task = append_to_csv_with_limit(latest_data, filename)  # Use default max_rows\n",
    "        append_task.result()\n",
    "\n",
    "        dataset = load_data_from_csv(filename)\n",
    "        dataset = calculate_moving_averages(dataset, fast_period, slow_period)\n",
    "        signal = check_crossover(dataset)\n",
    "\n",
    "        if signal == 'buy':\n",
    "            print(f\"Buy signal detected at {latest_data['timestamp']}\")\n",
    "            # Place buy order logic here\n",
    "        elif signal == 'sell':\n",
    "            print(f\"Sell signal detected at {latest_data['timestamp']}\")\n",
    "            # Place sell order logic here\n",
    "        else:\n",
    "            print(f\"No signal at {latest_data['timestamp']}\")\n",
    "\n",
    "def run_hourly_strategy(symbol, timeframe, fast_period, slow_period, filename):\n",
    "    \"\"\"Runs the strategy hourly.\"\"\"\n",
    "\n",
    "    # Run the strategy logic immediately on startup\n",
    "    print(\"Running strategy on startup at:\", datetime.now())\n",
    "    run_strategy_logic(symbol, timeframe, fast_period, slow_period, filename)\n",
    "\n",
    "    while True:\n",
    "        now = datetime.now()\n",
    "        next_hour = (now + timedelta(hours=1)).replace(minute=0, second=0, microsecond=0)\n",
    "        sleep_duration = (next_hour - now).total_seconds()\n",
    "        print(f\"Sleeping for {sleep_duration} seconds until the next hour...\")\n",
    "        time.sleep(sleep_duration)\n",
    "\n",
    "        print(\"Running strategy at:\", datetime.now())\n",
    "        run_strategy_logic(symbol, timeframe, fast_period, slow_period, filename)\n",
    "\n",
    "# Run the strategy\n",
    "\n",
    "symbol = 'BTC/USD'  # Trading pair\n",
    "timeframe = '1m'  # Timeframe\n",
    "fast_period = 5  # Fast moving average period\n",
    "slow_period = 20  # Slow moving average period\n",
    "csv_filename = 'market_data.csv'  # File to store historical data\n",
    "max_data_points = 3000  # Maximum number of rows in the CSV\n",
    "\n",
    "run_hourly_strategy(symbol, timeframe, fast_period, slow_period, csv_filename)"
   ]
  },
  {
   "cell_type": "markdown",
   "metadata": {
    "vscode": {
     "languageId": "plaintext"
    }
   },
   "source": [
    "### Process:\n",
    "1. Ensure that we are trading every hour\n",
    "2. Get live data (3 Data points to account for the data preparation)\n",
    "3. Append it to csv, ensuring the limit of data points in the csv file (the limit == the train_size for the optimization process)\n",
    "4. Load the data from the csv file\n",
    "5. optimize if time to optimize (use optimize_counter)\n",
    "6. rebalance if time to rebalance (use rebalance_counter)\n",
    "7. Run the strategy on the dataset\n",
    "8. On the last time index (the last candle), get the universe (level 2 index) and actual allocation for each coin\\\n",
    "=> Make sure that we have applied self.live = True when initiating the strategy (to not shift the position values)\\\n",
    "(a) If coin not in universe -> Put their allocation\\\n",
    "(b) If actual allocation != shifted allocation, change the allocation of the coin\\\n",
    "--> Changing the allocation of a coin, is by determining the amount in currency = (amount_USD / close_price) to sell or to buy, then placing that order"
   ]
  },
  {
   "cell_type": "code",
   "execution_count": 19,
   "metadata": {},
   "outputs": [],
   "source": [
    "import ccxt\n",
    "import pandas as pd\n",
    "import os\n",
    "import time\n",
    "from unsync import unsync\n",
    "from datetime import datetime, timedelta"
   ]
  },
  {
   "cell_type": "code",
   "execution_count": 12,
   "metadata": {},
   "outputs": [],
   "source": [
    "#Connect to exchange\n",
    "api_key = 'yqPWrtVuElaIExKmIp/E/upTOz/to1x7tC3JoFUxoSTKWCOorT6ifF/B'\n",
    "api_secret = 'L8h5vYoAu/jpQiBROA9yKN41FGwZAGGVF3nfrC5f5EiaoF7VksruPVdD7x1VOwnyyNCMdrGnT8lP4xHTiBrYMQ=='\n",
    "\n",
    "exchange = ccxt.kraken({\n",
    "    'apiKey': api_key,\n",
    "    'secret': api_secret\n",
    "})"
   ]
  },
  {
   "cell_type": "code",
   "execution_count": 70,
   "metadata": {},
   "outputs": [
    {
     "data": {
      "text/plain": [
       "['BTC/USD', 'ETH/USD', 'LTC/USD']"
      ]
     },
     "execution_count": 70,
     "metadata": {},
     "output_type": "execute_result"
    }
   ],
   "source": [
    "#Converting symbols to a format that the exchange understands\n",
    "symbols = ['BTCUSD', 'ETHUSD', 'LTCUSD']\n",
    "formatted_symbol = [symbol.replace(\"USD\", \"/USD\") for symbol in symbols]\n",
    "formatted_symbol"
   ]
  },
  {
   "cell_type": "code",
   "execution_count": 26,
   "metadata": {},
   "outputs": [
    {
     "data": {
      "text/plain": [
       "{'info': {'error': [],\n",
       "  'result': {'ZCAD': {'balance': '0.0000', 'hold_trade': '0.0000'},\n",
       "   'ZUSD': {'balance': '34.1861', 'hold_trade': '0.0000'}}},\n",
       " 'timestamp': None,\n",
       " 'datetime': None,\n",
       " 'CAD': {'free': 0.0, 'used': 0.0, 'total': 0.0},\n",
       " 'USD': {'free': 34.1861, 'used': 0.0, 'total': 34.1861},\n",
       " 'free': {'CAD': 0.0, 'USD': 34.1861},\n",
       " 'used': {'CAD': 0.0, 'USD': 0.0},\n",
       " 'total': {'CAD': 0.0, 'USD': 34.1861}}"
      ]
     },
     "execution_count": 26,
     "metadata": {},
     "output_type": "execute_result"
    }
   ],
   "source": [
    "#Account Portfolio operations\n",
    "balance = exchange.fetch_balance()\n",
    "balance"
   ]
  },
  {
   "cell_type": "code",
   "execution_count": 28,
   "metadata": {},
   "outputs": [
    {
     "data": {
      "text/plain": [
       "34.1861"
      ]
     },
     "execution_count": 28,
     "metadata": {},
     "output_type": "execute_result"
    }
   ],
   "source": [
    "balance['total']['USD']"
   ]
  },
  {
   "cell_type": "code",
   "execution_count": 62,
   "metadata": {},
   "outputs": [],
   "source": [
    "ohlcv = exchange.fetch_ohlcv('BTC/USD', '1h', limit=10)\n",
    "df = pd.DataFrame(ohlcv, columns=['timestamp', 'open', 'high', 'low', 'close', 'volume'])"
   ]
  },
  {
   "cell_type": "code",
   "execution_count": 64,
   "metadata": {},
   "outputs": [],
   "source": [
    "df['timestamp'] = pd.to_datetime(df['timestamp'], unit='ms')\n",
    "df.set_index('timestamp', inplace=True)"
   ]
  },
  {
   "cell_type": "code",
   "execution_count": 66,
   "metadata": {},
   "outputs": [
    {
     "data": {
      "text/html": [
       "<div>\n",
       "<style scoped>\n",
       "    .dataframe tbody tr th:only-of-type {\n",
       "        vertical-align: middle;\n",
       "    }\n",
       "\n",
       "    .dataframe tbody tr th {\n",
       "        vertical-align: top;\n",
       "    }\n",
       "\n",
       "    .dataframe thead th {\n",
       "        text-align: right;\n",
       "    }\n",
       "</style>\n",
       "<table border=\"1\" class=\"dataframe\">\n",
       "  <thead>\n",
       "    <tr style=\"text-align: right;\">\n",
       "      <th></th>\n",
       "      <th>open</th>\n",
       "      <th>high</th>\n",
       "      <th>low</th>\n",
       "      <th>close</th>\n",
       "      <th>volume</th>\n",
       "    </tr>\n",
       "    <tr>\n",
       "      <th>timestamp</th>\n",
       "      <th></th>\n",
       "      <th></th>\n",
       "      <th></th>\n",
       "      <th></th>\n",
       "      <th></th>\n",
       "    </tr>\n",
       "  </thead>\n",
       "  <tbody>\n",
       "    <tr>\n",
       "      <th>2025-01-11 11:00:00</th>\n",
       "      <td>94460.3</td>\n",
       "      <td>94660.4</td>\n",
       "      <td>94459.0</td>\n",
       "      <td>94600.1</td>\n",
       "      <td>4.113719</td>\n",
       "    </tr>\n",
       "    <tr>\n",
       "      <th>2025-01-11 12:00:00</th>\n",
       "      <td>94600.1</td>\n",
       "      <td>94600.1</td>\n",
       "      <td>94500.1</td>\n",
       "      <td>94551.4</td>\n",
       "      <td>5.893837</td>\n",
       "    </tr>\n",
       "    <tr>\n",
       "      <th>2025-01-11 13:00:00</th>\n",
       "      <td>94551.4</td>\n",
       "      <td>94551.9</td>\n",
       "      <td>94354.6</td>\n",
       "      <td>94356.8</td>\n",
       "      <td>10.062514</td>\n",
       "    </tr>\n",
       "    <tr>\n",
       "      <th>2025-01-11 14:00:00</th>\n",
       "      <td>94356.8</td>\n",
       "      <td>94549.1</td>\n",
       "      <td>94284.0</td>\n",
       "      <td>94548.3</td>\n",
       "      <td>5.791742</td>\n",
       "    </tr>\n",
       "    <tr>\n",
       "      <th>2025-01-11 15:00:00</th>\n",
       "      <td>94548.3</td>\n",
       "      <td>94580.0</td>\n",
       "      <td>94334.7</td>\n",
       "      <td>94359.3</td>\n",
       "      <td>19.460417</td>\n",
       "    </tr>\n",
       "    <tr>\n",
       "      <th>2025-01-11 16:00:00</th>\n",
       "      <td>94359.3</td>\n",
       "      <td>94665.5</td>\n",
       "      <td>94330.1</td>\n",
       "      <td>94391.2</td>\n",
       "      <td>7.116978</td>\n",
       "    </tr>\n",
       "    <tr>\n",
       "      <th>2025-01-11 17:00:00</th>\n",
       "      <td>94401.8</td>\n",
       "      <td>94401.8</td>\n",
       "      <td>93919.0</td>\n",
       "      <td>94104.2</td>\n",
       "      <td>19.314240</td>\n",
       "    </tr>\n",
       "    <tr>\n",
       "      <th>2025-01-11 18:00:00</th>\n",
       "      <td>94104.2</td>\n",
       "      <td>94257.0</td>\n",
       "      <td>94075.0</td>\n",
       "      <td>94244.1</td>\n",
       "      <td>32.384815</td>\n",
       "    </tr>\n",
       "    <tr>\n",
       "      <th>2025-01-11 19:00:00</th>\n",
       "      <td>94244.1</td>\n",
       "      <td>94281.3</td>\n",
       "      <td>94007.6</td>\n",
       "      <td>94187.5</td>\n",
       "      <td>6.698506</td>\n",
       "    </tr>\n",
       "  </tbody>\n",
       "</table>\n",
       "</div>"
      ],
      "text/plain": [
       "                        open     high      low    close     volume\n",
       "timestamp                                                         \n",
       "2025-01-11 11:00:00  94460.3  94660.4  94459.0  94600.1   4.113719\n",
       "2025-01-11 12:00:00  94600.1  94600.1  94500.1  94551.4   5.893837\n",
       "2025-01-11 13:00:00  94551.4  94551.9  94354.6  94356.8  10.062514\n",
       "2025-01-11 14:00:00  94356.8  94549.1  94284.0  94548.3   5.791742\n",
       "2025-01-11 15:00:00  94548.3  94580.0  94334.7  94359.3  19.460417\n",
       "2025-01-11 16:00:00  94359.3  94665.5  94330.1  94391.2   7.116978\n",
       "2025-01-11 17:00:00  94401.8  94401.8  93919.0  94104.2  19.314240\n",
       "2025-01-11 18:00:00  94104.2  94257.0  94075.0  94244.1  32.384815\n",
       "2025-01-11 19:00:00  94244.1  94281.3  94007.6  94187.5   6.698506"
      ]
     },
     "execution_count": 66,
     "metadata": {},
     "output_type": "execute_result"
    }
   ],
   "source": [
    "df[:-1]"
   ]
  },
  {
   "cell_type": "code",
   "execution_count": 68,
   "metadata": {},
   "outputs": [
    {
     "name": "stdout",
     "output_type": "stream",
     "text": [
      "latest data:                         open     high      low    close     volume\n",
      "timestamp                                                         \n",
      "2025-01-11 18:00:00  94104.2  94257.0  94075.0  94244.1  32.384815\n",
      "2025-01-11 19:00:00  94244.1  94281.3  94007.6  94187.5   6.698506\n"
     ]
    }
   ],
   "source": [
    "@unsync\n",
    "def fetch_latest_data(symbol, timeframe):\n",
    "    try:\n",
    "        ohlcv = exchange.fetch_ohlcv(symbol, timeframe, limit=3)\n",
    "        df = pd.DataFrame(ohlcv, columns=['timestamp', 'open', 'high', 'low', 'close', 'volume'])\n",
    "        df['timestamp'] = pd.to_datetime(df['timestamp'], unit='ms')\n",
    "        df.set_index('timestamp', inplace=True)\n",
    "        latest_data = df[:-1]\n",
    "        return latest_data\n",
    "    except Exception as e:\n",
    "        print(f\"Error fetching latest data: {e}\")\n",
    "        return None\n",
    "    \n",
    "# Fetch the latest OHLCV data point (asynchronous)\n",
    "try:\n",
    "    latest = fetch_latest_data('BTC/USD', '1h')\n",
    "    latest.result()\n",
    "    print('latest data:', latest.result())\n",
    "except Exception as e:\n",
    "    print(f\"Error fetching latest data: {e}\")"
   ]
  },
  {
   "cell_type": "code",
   "execution_count": 69,
   "metadata": {},
   "outputs": [
    {
     "data": {
      "text/html": [
       "<div>\n",
       "<style scoped>\n",
       "    .dataframe tbody tr th:only-of-type {\n",
       "        vertical-align: middle;\n",
       "    }\n",
       "\n",
       "    .dataframe tbody tr th {\n",
       "        vertical-align: top;\n",
       "    }\n",
       "\n",
       "    .dataframe thead th {\n",
       "        text-align: right;\n",
       "    }\n",
       "</style>\n",
       "<table border=\"1\" class=\"dataframe\">\n",
       "  <thead>\n",
       "    <tr style=\"text-align: right;\">\n",
       "      <th></th>\n",
       "      <th>open</th>\n",
       "      <th>high</th>\n",
       "      <th>low</th>\n",
       "      <th>close</th>\n",
       "      <th>volume</th>\n",
       "    </tr>\n",
       "    <tr>\n",
       "      <th>timestamp</th>\n",
       "      <th></th>\n",
       "      <th></th>\n",
       "      <th></th>\n",
       "      <th></th>\n",
       "      <th></th>\n",
       "    </tr>\n",
       "  </thead>\n",
       "  <tbody>\n",
       "    <tr>\n",
       "      <th>2025-01-11 18:00:00</th>\n",
       "      <td>94104.2</td>\n",
       "      <td>94257.0</td>\n",
       "      <td>94075.0</td>\n",
       "      <td>94244.1</td>\n",
       "      <td>32.384815</td>\n",
       "    </tr>\n",
       "    <tr>\n",
       "      <th>2025-01-11 19:00:00</th>\n",
       "      <td>94244.1</td>\n",
       "      <td>94281.3</td>\n",
       "      <td>94007.6</td>\n",
       "      <td>94187.5</td>\n",
       "      <td>6.698506</td>\n",
       "    </tr>\n",
       "  </tbody>\n",
       "</table>\n",
       "</div>"
      ],
      "text/plain": [
       "                        open     high      low    close     volume\n",
       "timestamp                                                         \n",
       "2025-01-11 18:00:00  94104.2  94257.0  94075.0  94244.1  32.384815\n",
       "2025-01-11 19:00:00  94244.1  94281.3  94007.6  94187.5   6.698506"
      ]
     },
     "execution_count": 69,
     "metadata": {},
     "output_type": "execute_result"
    }
   ],
   "source": [
    "latest.result()"
   ]
  },
  {
   "cell_type": "code",
   "execution_count": 72,
   "metadata": {},
   "outputs": [
    {
     "data": {
      "text/plain": [
       "94187.5"
      ]
     },
     "execution_count": 72,
     "metadata": {},
     "output_type": "execute_result"
    }
   ],
   "source": [
    "latest.result()['close'].iloc[-1]"
   ]
  },
  {
   "cell_type": "code",
   "execution_count": 73,
   "metadata": {},
   "outputs": [
    {
     "name": "stdout",
     "output_type": "stream",
     "text": [
      "Order placed successfully: {'id': 'O23OWI-A2ULZ-BWA3VH', 'clientOrderId': None, 'info': {'txid': ['O23OWI-A2ULZ-BWA3VH'], 'descr': {'order': 'buy 0.00036295 XBTUSD @ limit 94187.5'}}, 'timestamp': None, 'datetime': None, 'lastTradeTimestamp': None, 'status': None, 'symbol': 'BTC/USD', 'type': 'limit', 'timeInForce': None, 'postOnly': False, 'side': 'buy', 'price': 94187.5, 'stopPrice': None, 'triggerPrice': None, 'takeProfitPrice': None, 'stopLossPrice': None, 'cost': None, 'amount': 0.00036295, 'filled': None, 'average': None, 'remaining': None, 'reduceOnly': None, 'fee': None, 'trades': [], 'fees': [], 'lastUpdateTimestamp': None}\n"
     ]
    }
   ],
   "source": [
    "#Placing a limit order\n",
    "symbol = \"BTC/USD\"  # Trading pair\n",
    "order_type = \"limit\"  # Order type: limit or market\n",
    "side = \"buy\"  # Order side: buy or sell\n",
    "amount = balance['total']['USD'] / latest.result()['close'].iloc[-1]  # Amount in BTC\n",
    "price = latest.result()['close'].iloc[-1] # Limit price in USD\n",
    "\n",
    "try:\n",
    "    order = exchange.create_order(symbol, order_type, side, amount, price)\n",
    "    print(\"Order placed successfully:\", order)\n",
    "except Exception as e:\n",
    "    print(f\"Error placing order: {e}\")"
   ]
  },
  {
   "cell_type": "code",
   "execution_count": 75,
   "metadata": {},
   "outputs": [
    {
     "name": "stdout",
     "output_type": "stream",
     "text": [
      "Order ID: O23OWI-A2ULZ-BWA3VH, Symbol: BTC/USD, Amount: 0.00036295\n"
     ]
    }
   ],
   "source": [
    "#To fetch open orders\n",
    "try:\n",
    "    # Fetch open orders\n",
    "    open_orders = exchange.fetch_open_orders()\n",
    "    for order in open_orders:\n",
    "        print(f\"Order ID: {order['id']}, Symbol: {order['symbol']}, Amount: {order['amount']}\")\n",
    "except Exception as e:\n",
    "    print(f\"Error fetching open orders: {e}\")"
   ]
  },
  {
   "cell_type": "code",
   "execution_count": 77,
   "metadata": {},
   "outputs": [
    {
     "name": "stdout",
     "output_type": "stream",
     "text": [
      "Order canceled successfully: {'info': {'error': [], 'result': {'count': '1'}}, 'fees': [], 'id': None, 'clientOrderId': None, 'timestamp': None, 'datetime': None, 'symbol': None, 'type': None, 'side': None, 'lastTradeTimestamp': None, 'lastUpdateTimestamp': None, 'price': None, 'amount': None, 'cost': None, 'average': None, 'filled': None, 'remaining': None, 'timeInForce': None, 'postOnly': None, 'trades': [], 'reduceOnly': None, 'stopPrice': None, 'triggerPrice': None, 'takeProfitPrice': None, 'stopLossPrice': None, 'status': None, 'fee': None}\n"
     ]
    }
   ],
   "source": [
    "#To cancel an order\n",
    "try:\n",
    "    order_id = \"O23OWI-A2ULZ-BWA3VH\"  # Replace with the actual order ID\n",
    "    cancel_response = exchange.cancel_order(order_id)\n",
    "    print(f\"Order canceled successfully: {cancel_response}\")\n",
    "except Exception as e:\n",
    "    print(f\"Error canceling order: {e}\")\n"
   ]
  },
  {
   "cell_type": "code",
   "execution_count": 79,
   "metadata": {},
   "outputs": [
    {
     "name": "stdout",
     "output_type": "stream",
     "text": [
      "Current price of BTC/USD: 94383.1\n"
     ]
    }
   ],
   "source": [
    "symbol = \"BTC/USD\"  # Replace with your desired symbol\n",
    "try:\n",
    "    # Specify the ticker symbol\n",
    "    ticker = exchange.fetch_ticker(symbol)\n",
    "    \n",
    "    # Get the current price\n",
    "    current_price = ticker['last']  # 'last' is the latest trade price\n",
    "    print(f\"Current price of {symbol}: {current_price}\")\n",
    "except Exception as e:\n",
    "    print(f\"Error fetching ticker data: {e}\")"
   ]
  },
  {
   "cell_type": "code",
   "execution_count": 86,
   "metadata": {},
   "outputs": [
    {
     "name": "stdout",
     "output_type": "stream",
     "text": [
      "Market order placed successfully: {'id': 'O6XH7T-6KFR5-5HKFY4', 'clientOrderId': None, 'info': {'txid': ['O6XH7T-6KFR5-5HKFY4'], 'descr': {'order': 'buy 0.00035930 XBTUSD @ market'}}, 'timestamp': None, 'datetime': None, 'lastTradeTimestamp': None, 'status': None, 'symbol': 'BTC/USD', 'type': 'market', 'timeInForce': 'IOC', 'postOnly': False, 'side': 'buy', 'price': None, 'stopPrice': None, 'triggerPrice': None, 'takeProfitPrice': None, 'stopLossPrice': None, 'cost': None, 'amount': 0.0003593, 'filled': None, 'average': None, 'remaining': None, 'reduceOnly': None, 'fee': None, 'trades': [], 'fees': [], 'lastUpdateTimestamp': None}\n"
     ]
    }
   ],
   "source": [
    "# Placing a buy order and a sell order\n",
    "order_type = \"market\"  # Market order\n",
    "symbol = \"BTC/USD\"  # Trading pair\n",
    "side = \"buy\"  # Order side: buy or sell\n",
    "amount = balance['total']['USD'] / current_price  # Amount in BTC\n",
    "\n",
    "try:\n",
    "    order = exchange.create_order(symbol, order_type, side, amount)\n",
    "    print(\"Market order placed successfully:\", order)\n",
    "except Exception as e:\n",
    "    print(f\"Error placing market order: {e}\")"
   ]
  },
  {
   "cell_type": "code",
   "execution_count": 84,
   "metadata": {},
   "outputs": [],
   "source": [
    "symbols_to_trade = [symbol.replace(\"/USD\", \"\") for symbol in formatted_symbol]"
   ]
  },
  {
   "cell_type": "code",
   "execution_count": 85,
   "metadata": {},
   "outputs": [
    {
     "data": {
      "text/plain": [
       "['BTC', 'ETH', 'LTC']"
      ]
     },
     "execution_count": 85,
     "metadata": {},
     "output_type": "execute_result"
    }
   ],
   "source": [
    "symbols_to_trade"
   ]
  },
  {
   "cell_type": "code",
   "execution_count": 91,
   "metadata": {},
   "outputs": [
    {
     "data": {
      "text/plain": [
       "0.0"
      ]
     },
     "execution_count": 91,
     "metadata": {},
     "output_type": "execute_result"
    }
   ],
   "source": [
    "balance = exchange.fetch_balance()\n",
    "balance['total'][symbols_to_trade[0]]"
   ]
  },
  {
   "cell_type": "code",
   "execution_count": 92,
   "metadata": {},
   "outputs": [
    {
     "data": {
      "text/plain": [
       "{'info': {'error': [],\n",
       "  'result': {'XXBT': {'balance': '0.0000000000', 'hold_trade': '0.0000000000'},\n",
       "   'ZCAD': {'balance': '0.0000', 'hold_trade': '0.0000'},\n",
       "   'ZUSD': {'balance': '33.6557', 'hold_trade': '0.0000'}}},\n",
       " 'timestamp': None,\n",
       " 'datetime': None,\n",
       " 'BTC': {'free': 0.0, 'used': 0.0, 'total': 0.0},\n",
       " 'CAD': {'free': 0.0, 'used': 0.0, 'total': 0.0},\n",
       " 'USD': {'free': 33.6557, 'used': 0.0, 'total': 33.6557},\n",
       " 'free': {'BTC': 0.0, 'CAD': 0.0, 'USD': 33.6557},\n",
       " 'used': {'BTC': 0.0, 'CAD': 0.0, 'USD': 0.0},\n",
       " 'total': {'BTC': 0.0, 'CAD': 0.0, 'USD': 33.6557}}"
      ]
     },
     "execution_count": 92,
     "metadata": {},
     "output_type": "execute_result"
    }
   ],
   "source": [
    "balance"
   ]
  },
  {
   "cell_type": "code",
   "execution_count": 89,
   "metadata": {},
   "outputs": [
    {
     "name": "stdout",
     "output_type": "stream",
     "text": [
      "Available BTC: 0.00035786\n",
      "Sell order placed: {'id': 'OCEH47-XCU4H-V5G4WZ', 'clientOrderId': None, 'info': {'txid': ['OCEH47-XCU4H-V5G4WZ'], 'descr': {'order': 'sell 0.00035786 XBTUSD @ market'}}, 'timestamp': None, 'datetime': None, 'lastTradeTimestamp': None, 'status': None, 'symbol': 'BTC/USD', 'type': 'market', 'timeInForce': 'IOC', 'postOnly': False, 'side': 'sell', 'price': None, 'stopPrice': None, 'triggerPrice': None, 'takeProfitPrice': None, 'stopLossPrice': None, 'cost': None, 'amount': 0.00035786, 'filled': None, 'average': None, 'remaining': None, 'reduceOnly': None, 'fee': None, 'trades': [], 'fees': [], 'lastUpdateTimestamp': None}\n"
     ]
    }
   ],
   "source": [
    "try:\n",
    "    # Step 1: Check your balance\n",
    "    balance = exchange.fetch_balance()\n",
    "    coin = \"BTC\"  # Replace with the coin you want to sell\n",
    "    amount = balance[coin][\"free\"]  # Amount available to sell\n",
    "    print(f\"Available {coin}: {amount}\")\n",
    "\n",
    "    if amount > 0:\n",
    "        # Step 2: Place a market sell order\n",
    "        symbol = formatted_symbol[0]  # Replace USD with your desired quote currency\n",
    "        order = exchange.create_market_sell_order(symbol, amount)\n",
    "        print(f\"Sell order placed: {order}\")\n",
    "    else:\n",
    "        print(f\"No {coin} available to sell.\")\n",
    "except Exception as e:\n",
    "    print(f\"Error: {e}\")"
   ]
  },
  {
   "cell_type": "code",
   "execution_count": null,
   "metadata": {},
   "outputs": [],
   "source": [
    "def run_hourly_strategy(symbol, timeframe, fast_period, slow_period, filename):\n",
    "    \"\"\"Runs the strategy hourly.\"\"\"\n",
    "\n",
    "    # Run the strategy logic immediately on startup\n",
    "    print(\"Running strategy on startup at:\", datetime.now())\n",
    "    # run_strategy_logic(symbol, timeframe, fast_period, slow_period, filename)\n",
    "\n",
    "    while True:\n",
    "        now = datetime.now()\n",
    "        next_hour = (now + timedelta(hours=1)).replace(minute=0, second=0, microsecond=0)\n",
    "        print(f\"Next hour: {next_hour}\")\n",
    "        sleep_duration = (next_hour - now).total_seconds()\n",
    "        print(f\"Sleeping for {sleep_duration} seconds until the next hour...\")\n",
    "        time.sleep(sleep_duration)\n",
    "\n",
    "        print(\"Running strategy at:\", datetime.now())\n",
    "        # run_strategy_logic(symbol, timeframe, fast_period, slow_period, filename)\n",
    "        \n",
    "symbol = 'BTC/USD'  # Trading pair\n",
    "timeframe = '1m'  # Timeframe\n",
    "fast_period = 5  # Fast moving average period\n",
    "slow_period = 20  # Slow moving average period\n",
    "csv_filename = 'market_data.csv'  # File to store historical data\n",
    "max_data_points = 3000  # Maximum number of rows in the CSV\n",
    "\n",
    "run_hourly_strategy(symbol, timeframe, fast_period, slow_period, csv_filename)"
   ]
  },
  {
   "cell_type": "code",
   "execution_count": 95,
   "metadata": {},
   "outputs": [
    {
     "name": "stdout",
     "output_type": "stream",
     "text": [
      "No BTC to sell.\n",
      "No CAD to sell.\n",
      "Selling 33.6557 USD...\n",
      "Error: kraken does not have market symbol USD/USD\n"
     ]
    }
   ],
   "source": [
    "#To liquidate everything:\n",
    "try:\n",
    "    # Step 1: Get your balances\n",
    "    balance = exchange.fetch_balance()\n",
    "    \n",
    "    # Step 2: Loop through all assets in your balance and sell them\n",
    "    for coin, coin_balance in balance['free'].items():\n",
    "        if coin_balance > 0:  # Only sell if you have a non-zero balance\n",
    "            print(f\"Selling {coin_balance} {coin}...\")\n",
    "            \n",
    "            # Determine the symbol for the sell order (e.g., BTC/USD, ETH/USDT)\n",
    "            symbol = f\"{coin}/USD\"  # Replace USD with your preferred quote currency\n",
    "            order = exchange.create_market_sell_order(symbol, coin_balance)\n",
    "            print(f\"Sell order placed: {order}\")\n",
    "        else:\n",
    "            print(f\"No {coin} to sell.\")\n",
    "    \n",
    "    print(\"All possible assets have been liquidated.\")\n",
    "    \n",
    "except Exception as e:\n",
    "    print(f\"Error: {e}\")"
   ]
  },
  {
   "cell_type": "code",
   "execution_count": 99,
   "metadata": {},
   "outputs": [],
   "source": [
    "def liquidate(symbols, exchange):\n",
    "    try:\n",
    "        # Step 1: Get your balances\n",
    "        balance = exchange.fetch_balance()\n",
    "\n",
    "        # Step 2: Loop through all assets in your balance and sell them\n",
    "        for coin, coin_balance in balance['free'].items():\n",
    "            if coin in symbols:\n",
    "                if coin_balance > 0:  # Only sell if you have a non-zero balance\n",
    "                    print(f\"Selling {coin_balance} {coin}...\")\n",
    "\n",
    "                    # Determine the symbol for the sell order (e.g., BTC/USD, ETH/USDT)\n",
    "                    symbol = f\"{coin}/USD\"  # Replace USD with your preferred quote currency\n",
    "                    order = exchange.create_market_sell_order(symbol, coin_balance)\n",
    "                    print(f\"Sell order placed: {order}\")\n",
    "                else:\n",
    "                    print(f\"No {coin} to sell.\")\n",
    "\n",
    "        print(\"All possible assets have been liquidated.\")\n",
    "\n",
    "    except Exception as e:\n",
    "        print(f\"Error: {e}\")"
   ]
  },
  {
   "cell_type": "markdown",
   "metadata": {},
   "source": [
    "---"
   ]
  },
  {
   "cell_type": "markdown",
   "metadata": {},
   "source": [
    "### Pseudocode:\n",
    "\n",
    "```(Python)\n",
    "#in the hourly function loop\n",
    "self.counter_opt = 0\n",
    "self.counter_reb = 0\n",
    "self.strats_map = {...}\n",
    "self.selected_strats = {...}\n",
    "self.weights = []\n",
    "self.best_params = {}\n",
    "\n",
    "run_strategy():\n",
    "    opt_interval = strat.train_size\n",
    "    reb_interval = 236 #nbr of hours in each 2 weeks\n",
    "\n",
    "\n",
    "    latest = fetch_last_data()\\\n",
    "    latest.result()\n",
    "\n",
    "    if latest:\n",
    "        append = append_to_csv(latest)\n",
    "        append.result() #Because we are going to be using the unsync the library\n",
    "\n",
    "        data = load_data_from_csv()\n",
    "\n",
    "        if self.counter_opt % opt_interval == 0 and len(data) >= opt_interval:\n",
    "            self.best_params = [strat.optimize() for strat in self.strats_map]\n",
    "\n",
    "        if self.counter_reb % reb_interval == 0 and len(data) >= reb_interval:\n",
    "            self.selected_strats = portfolio_management(strat_map) -> {}\n",
    "            log_rets = [strat.trading_strategy(data, self.best_params).results.strategy for strat in self.selected_strats.values()]\n",
    "            weights = portfolio_optimization(log_rets, ...).optimize(data) -> []\n",
    "            portfolio_value = exchange.... #the current portfolio value of the account\n",
    "            max_allocation_per_strat_list = weights * list -> []\n",
    "            self.max_allocation_per_strat_map = dict(zip(self.selected_strats.keys(), max_allocation_per_strat_list))\n",
    "        \n",
    "        self.opt_counter += 1\n",
    "        self.reb_counter += 1\n",
    "\n",
    "        df_strats = [\n",
    "        strat(self.best_params[i])\n",
    "        for i in range(len(self.best_params))  # Iterate over indices\n",
    "        for strat in self.selected_strats.values()  # Iterate over strategies\n",
    "        ]\n",
    "\n",
    "        #actual_allocation in coin currency\n",
    "        for i in range(df_strats):\n",
    "            df['actual_allocation_coin_currency'] = df['actual_allocation']  * df['close']\n",
    "\n",
    "        current_universes= [df_strats[i].index.get_level_values(1).unique() for i in range(df_strats)]\n",
    "\n",
    "        # Flatten into 1D list\n",
    "        current_universe = []\n",
    "        for sublist in two_d_list:\n",
    "            for item in sublist:\n",
    "                current_universe.append(item) if item not in current_universe\n",
    "            \n",
    "        current_coins = exchange.... #Current coins in the account portfolio\n",
    "\n",
    "        for coin in current_coins\n",
    "            if coin not in current_universe:\n",
    "                #liquidate those coins\n",
    "\n",
    "        coins_allocations = sum(df_strats['actual_allocation_coin_currency']).iloc[-1]\n",
    "\n",
    "        for coin in current_universe:\n",
    "            current_position = exchange.... -> float()\n",
    "            actual_allocation = coins_allocation.unstack().coin -> float()\n",
    "\n",
    "            to_add = current_position - actual_allocation\n",
    "\n",
    "            if to_add > 0:\n",
    "                #place a buy order of that quantity for that coin\n",
    "            if to_add < 0:\n",
    "                #place a sell order of that quantity for that coin"
   ]
  },
  {
   "cell_type": "code",
   "execution_count": 2,
   "metadata": {},
   "outputs": [],
   "source": [
    "import ccxt\n",
    "import pandas as pd\n",
    "import os\n",
    "import time\n",
    "from unsync import unsync\n",
    "from datetime import datetime, timedelta\n",
    "import sys"
   ]
  },
  {
   "cell_type": "code",
   "execution_count": null,
   "metadata": {},
   "outputs": [],
   "source": [
    "# Ensure the directories are in the system path\n",
    "sys.path.append(os.path.abspath(os.path.join(os.getcwd(), '..', 'Data_Management'))) \n",
    "sys.path.append(os.path.abspath(os.path.join(os.getcwd(), '..', 'Portfolio_Optimization'))) \n",
    "sys.path.append(os.path.abspath(os.path.join(os.getcwd(), '..', 'Strategies', 'Trend_Following')))\n",
    "sys.path.append(os.path.abspath(os.path.join(os.getcwd(), '..', 'Strategies', 'Mean_Reversion')))\n",
    "\n",
    "# Import the modules\n",
    "from data import Data\n",
    "from sprtrnd_breakout import Sprtrnd_Breakout\n",
    "from last_days_low import Last_Days_Low\n",
    "from portfolio_management import Portfolio_Management\n",
    "from portfolio_optimization import Portfolio_Optimization\n",
    "from portfolio_risk_management import Portfolio_RM\n"
   ]
  },
  {
   "cell_type": "code",
   "execution_count": 13,
   "metadata": {},
   "outputs": [
    {
     "data": {
      "text/plain": [
       "['BTC/USD', 'ETH/USD', 'LTC/USD']"
      ]
     },
     "execution_count": 13,
     "metadata": {},
     "output_type": "execute_result"
    }
   ],
   "source": [
    "#Converting symbols to a format that the exchange understands\n",
    "symbols = ['BTCUSD', 'ETHUSD', 'LTCUSD']\n",
    "formatted_symbol = [symbol.replace(\"USD\", \"/USD\") for symbol in symbols]\n",
    "formatted_symbol"
   ]
  },
  {
   "cell_type": "code",
   "execution_count": 14,
   "metadata": {},
   "outputs": [],
   "source": [
    "@unsync\n",
    "def fetch_latest_data(symbol, timeframe):\n",
    "    try:\n",
    "        ohlcv = exchange.fetch_ohlcv(symbol, timeframe, limit=2001)\n",
    "        df = pd.DataFrame(ohlcv, columns=['timestamp', 'open', 'high', 'low', 'close', 'volume'])\n",
    "        df['timestamp'] = pd.to_datetime(df['timestamp'], unit='ms')\n",
    "        df.set_index('timestamp', inplace=True)\n",
    "        latest_data = df[:-1]\n",
    "        return latest_data\n",
    "    except Exception as e:\n",
    "        print(f\"Error fetching latest data: {e}\")\n",
    "        return None"
   ]
  },
  {
   "cell_type": "code",
   "execution_count": 18,
   "metadata": {},
   "outputs": [
    {
     "data": {
      "text/html": [
       "<div>\n",
       "<style scoped>\n",
       "    .dataframe tbody tr th:only-of-type {\n",
       "        vertical-align: middle;\n",
       "    }\n",
       "\n",
       "    .dataframe tbody tr th {\n",
       "        vertical-align: top;\n",
       "    }\n",
       "\n",
       "    .dataframe thead th {\n",
       "        text-align: right;\n",
       "    }\n",
       "</style>\n",
       "<table border=\"1\" class=\"dataframe\">\n",
       "  <thead>\n",
       "    <tr style=\"text-align: right;\">\n",
       "      <th></th>\n",
       "      <th>open</th>\n",
       "      <th>high</th>\n",
       "      <th>low</th>\n",
       "      <th>close</th>\n",
       "      <th>volume</th>\n",
       "    </tr>\n",
       "    <tr>\n",
       "      <th>timestamp</th>\n",
       "      <th></th>\n",
       "      <th></th>\n",
       "      <th></th>\n",
       "      <th></th>\n",
       "      <th></th>\n",
       "    </tr>\n",
       "  </thead>\n",
       "  <tbody>\n",
       "    <tr>\n",
       "      <th>2024-12-12 22:00:00</th>\n",
       "      <td>99800.3</td>\n",
       "      <td>100449.9</td>\n",
       "      <td>99560.0</td>\n",
       "      <td>100420.8</td>\n",
       "      <td>69.476213</td>\n",
       "    </tr>\n",
       "    <tr>\n",
       "      <th>2024-12-12 23:00:00</th>\n",
       "      <td>100420.8</td>\n",
       "      <td>100483.1</td>\n",
       "      <td>99937.0</td>\n",
       "      <td>100050.1</td>\n",
       "      <td>32.219139</td>\n",
       "    </tr>\n",
       "    <tr>\n",
       "      <th>2024-12-13 00:00:00</th>\n",
       "      <td>100050.1</td>\n",
       "      <td>100326.8</td>\n",
       "      <td>100010.1</td>\n",
       "      <td>100117.3</td>\n",
       "      <td>30.390545</td>\n",
       "    </tr>\n",
       "    <tr>\n",
       "      <th>2024-12-13 01:00:00</th>\n",
       "      <td>100117.3</td>\n",
       "      <td>100121.9</td>\n",
       "      <td>99250.0</td>\n",
       "      <td>99384.8</td>\n",
       "      <td>28.032756</td>\n",
       "    </tr>\n",
       "    <tr>\n",
       "      <th>2024-12-13 02:00:00</th>\n",
       "      <td>99384.8</td>\n",
       "      <td>99657.6</td>\n",
       "      <td>99275.0</td>\n",
       "      <td>99460.4</td>\n",
       "      <td>26.300466</td>\n",
       "    </tr>\n",
       "    <tr>\n",
       "      <th>...</th>\n",
       "      <td>...</td>\n",
       "      <td>...</td>\n",
       "      <td>...</td>\n",
       "      <td>...</td>\n",
       "      <td>...</td>\n",
       "    </tr>\n",
       "    <tr>\n",
       "      <th>2025-01-11 16:00:00</th>\n",
       "      <td>94359.3</td>\n",
       "      <td>94665.5</td>\n",
       "      <td>94330.1</td>\n",
       "      <td>94391.2</td>\n",
       "      <td>7.116978</td>\n",
       "    </tr>\n",
       "    <tr>\n",
       "      <th>2025-01-11 17:00:00</th>\n",
       "      <td>94401.8</td>\n",
       "      <td>94401.8</td>\n",
       "      <td>93919.0</td>\n",
       "      <td>94104.2</td>\n",
       "      <td>19.314240</td>\n",
       "    </tr>\n",
       "    <tr>\n",
       "      <th>2025-01-11 18:00:00</th>\n",
       "      <td>94104.2</td>\n",
       "      <td>94257.0</td>\n",
       "      <td>94075.0</td>\n",
       "      <td>94244.1</td>\n",
       "      <td>32.384815</td>\n",
       "    </tr>\n",
       "    <tr>\n",
       "      <th>2025-01-11 19:00:00</th>\n",
       "      <td>94244.1</td>\n",
       "      <td>94281.3</td>\n",
       "      <td>94007.6</td>\n",
       "      <td>94187.5</td>\n",
       "      <td>6.698506</td>\n",
       "    </tr>\n",
       "    <tr>\n",
       "      <th>2025-01-11 20:00:00</th>\n",
       "      <td>94187.5</td>\n",
       "      <td>94597.4</td>\n",
       "      <td>94160.4</td>\n",
       "      <td>94567.7</td>\n",
       "      <td>13.310514</td>\n",
       "    </tr>\n",
       "  </tbody>\n",
       "</table>\n",
       "<p>719 rows × 5 columns</p>\n",
       "</div>"
      ],
      "text/plain": [
       "                         open      high       low     close     volume\n",
       "timestamp                                                             \n",
       "2024-12-12 22:00:00   99800.3  100449.9   99560.0  100420.8  69.476213\n",
       "2024-12-12 23:00:00  100420.8  100483.1   99937.0  100050.1  32.219139\n",
       "2024-12-13 00:00:00  100050.1  100326.8  100010.1  100117.3  30.390545\n",
       "2024-12-13 01:00:00  100117.3  100121.9   99250.0   99384.8  28.032756\n",
       "2024-12-13 02:00:00   99384.8   99657.6   99275.0   99460.4  26.300466\n",
       "...                       ...       ...       ...       ...        ...\n",
       "2025-01-11 16:00:00   94359.3   94665.5   94330.1   94391.2   7.116978\n",
       "2025-01-11 17:00:00   94401.8   94401.8   93919.0   94104.2  19.314240\n",
       "2025-01-11 18:00:00   94104.2   94257.0   94075.0   94244.1  32.384815\n",
       "2025-01-11 19:00:00   94244.1   94281.3   94007.6   94187.5   6.698506\n",
       "2025-01-11 20:00:00   94187.5   94597.4   94160.4   94567.7  13.310514\n",
       "\n",
       "[719 rows x 5 columns]"
      ]
     },
     "execution_count": 18,
     "metadata": {},
     "output_type": "execute_result"
    }
   ],
   "source": [
    "symbol = formatted_symbol[0]\n",
    "timeframe = '1h'\n",
    "latest = fetch_latest_data(symbol, '1h')\n",
    "latest.result()"
   ]
  },
  {
   "cell_type": "code",
   "execution_count": 21,
   "metadata": {},
   "outputs": [],
   "source": [
    "ohlcv = exchange.fetch_ohlcv(symbol, timeframe, limit=2001)"
   ]
  },
  {
   "cell_type": "code",
   "execution_count": 22,
   "metadata": {},
   "outputs": [
    {
     "ename": "TypeError",
     "evalue": "Data.__init__() missing 3 required positional arguments: 'interval', 'start_time', and 'end_time'",
     "output_type": "error",
     "traceback": [
      "\u001b[1;31m---------------------------------------------------------------------------\u001b[0m",
      "\u001b[1;31mTypeError\u001b[0m                                 Traceback (most recent call last)",
      "Cell \u001b[1;32mIn[22], line 1\u001b[0m\n\u001b[1;32m----> 1\u001b[0m data_instance\u001b[38;5;241m=\u001b[39m \u001b[43mData\u001b[49m\u001b[43m(\u001b[49m\u001b[43msymbols\u001b[49m\u001b[43m)\u001b[49m\n",
      "\u001b[1;31mTypeError\u001b[0m: Data.__init__() missing 3 required positional arguments: 'interval', 'start_time', and 'end_time'"
     ]
    }
   ],
   "source": [
    "data_instance= Data(symbols)"
   ]
  },
  {
   "cell_type": "code",
   "execution_count": null,
   "metadata": {},
   "outputs": [],
   "source": []
  }
 ],
 "metadata": {
  "kernelspec": {
   "display_name": "Python 3",
   "language": "python",
   "name": "python3"
  },
  "language_info": {
   "codemirror_mode": {
    "name": "ipython",
    "version": 3
   },
   "file_extension": ".py",
   "mimetype": "text/x-python",
   "name": "python",
   "nbconvert_exporter": "python",
   "pygments_lexer": "ipython3",
   "version": "3.12.2"
  }
 },
 "nbformat": 4,
 "nbformat_minor": 2
}
