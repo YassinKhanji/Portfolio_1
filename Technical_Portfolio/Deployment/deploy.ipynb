{
 "cells": [
  {
   "cell_type": "code",
   "execution_count": null,
   "metadata": {},
   "outputs": [],
   "source": [
    "import time\n",
    "from datetime import datetime, timedelta\n",
    "\n",
    "def run_strategy():\n",
    "    # Execute the strategy immediately on startup\n",
    "    print(\"Running strategy at\", datetime.now())\n",
    "    # Add your trading strategy logic here\n",
    "    # Make a csv that contains the first set of data for the optimization\n",
    "\n",
    "    while True:\n",
    "        # Get current time and calculate next hour\n",
    "        now = datetime.now()\n",
    "        next_hour = (now + timedelta(hours=1)).replace(minute=0, second=0, microsecond=0)\n",
    "\n",
    "        # Wait until the next hour\n",
    "        sleep_duration = (next_hour - now).total_seconds()\n",
    "        print(f\"Sleeping for {sleep_duration} seconds...\")\n",
    "        time.sleep(sleep_duration)\n",
    "\n",
    "        # Execute your strategy\n",
    "        print(\"Running strategy at\", datetime.now())\n",
    "        # Add your trading strategy logic here\n",
    "\n",
    "run_strategy() # call the function"
   ]
  },
  {
   "cell_type": "code",
   "execution_count": null,
   "metadata": {},
   "outputs": [],
   "source": [
    "import ccxt\n",
    "import pandas as pd\n",
    "import time\n",
    "import os\n",
    "\n",
    "# Initialize Kraken Pro Exchange\n",
    "exchange = ccxt.kraken({\n",
    "    'apiKey': 'your_api_key',\n",
    "    'secret': 'your_api_secret'\n",
    "})\n",
    "\n",
    "# Fetch the latest OHLCV data point\n",
    "def fetch_latest_data(symbol, timeframe):\n",
    "    try:\n",
    "        ohlcv = exchange.fetch_ohlcv(symbol, timeframe, limit=1)\n",
    "        latest_data = ohlcv[-1]\n",
    "        return {\n",
    "            'timestamp': pd.to_datetime(latest_data[0], unit='ms'),\n",
    "            'open': latest_data[1],\n",
    "            'high': latest_data[2],\n",
    "            'low': latest_data[3],\n",
    "            'close': latest_data[4],\n",
    "            'volume': latest_data[5]\n",
    "        }\n",
    "    except Exception as e:\n",
    "        print(f\"Error fetching latest data: {e}\")\n",
    "        return None\n",
    "\n",
    "# Append new data to CSV and maintain max length\n",
    "def append_to_csv_with_limit(data, filename, max_rows=3000):\n",
    "    file_exists = os.path.isfile(filename)\n",
    "    df = pd.DataFrame([data])\n",
    "    \n",
    "    if file_exists:\n",
    "        existing_df = pd.read_csv(filename)\n",
    "        combined_df = pd.concat([existing_df, df], ignore_index=True)\n",
    "        if len(combined_df) > max_rows:\n",
    "            combined_df = combined_df.iloc[-max_rows:]  # Keep only the last max_rows rows\n",
    "        combined_df.to_csv(filename, index=False)\n",
    "    else:\n",
    "        df.to_csv(filename, mode='w', header=True, index=False)\n",
    "\n",
    "# Load the dataset from the CSV file\n",
    "def load_data_from_csv(filename):\n",
    "    if os.path.isfile(filename):\n",
    "        return pd.read_csv(filename)\n",
    "    else:\n",
    "        return pd.DataFrame()\n",
    "\n",
    "# Calculate moving averages on the dataset\n",
    "def calculate_moving_averages(df, fast_period, slow_period):\n",
    "    df['fast_ma'] = df['close'].rolling(window=fast_period).mean()\n",
    "    df['slow_ma'] = df['close'].rolling(window=slow_period).mean()\n",
    "    return df\n",
    "\n",
    "# Check crossover signals\n",
    "def check_crossover(df):\n",
    "    if len(df) < 2:\n",
    "        return None\n",
    "    if df['fast_ma'].iloc[-2] < df['slow_ma'].iloc[-2] and df['fast_ma'].iloc[-1] > df['slow_ma'].iloc[-1]:\n",
    "        return 'buy'\n",
    "    elif df['fast_ma'].iloc[-2] > df['slow_ma'].iloc[-2] and df['fast_ma'].iloc[-1] < df['slow_ma'].iloc[-1]:\n",
    "        return 'sell'\n",
    "    else:\n",
    "        return None\n",
    "\n",
    "# Main function to run the strategy\n",
    "def run_strategy(symbol, timeframe, fast_period, slow_period, filename, max_rows):\n",
    "    print(f\"Starting Moving Average Crossover Strategy for {symbol} on {timeframe} timeframe.\")\n",
    "    while True:\n",
    "        latest_data = fetch_latest_data(symbol, timeframe)\n",
    "        if latest_data:\n",
    "            append_to_csv_with_limit(latest_data, filename, max_rows)\n",
    "            dataset = load_data_from_csv(filename)\n",
    "            dataset = calculate_moving_averages(dataset, fast_period, slow_period)\n",
    "            signal = check_crossover(dataset)\n",
    "            if signal == 'buy':\n",
    "                print(f\"Buy signal detected at {latest_data['timestamp']}\")\n",
    "            elif signal == 'sell':\n",
    "                print(f\"Sell signal detected at {latest_data['timestamp']}\")\n",
    "            else:\n",
    "                print(f\"No signal at {latest_data['timestamp']}\")\n",
    "        time.sleep(60)  # Wait for the next candle\n",
    "\n",
    "# Run the strategy\n",
    "\n",
    "symbol = 'BTC/USD'  # Trading pair\n",
    "timeframe = '1m'  # Timeframe\n",
    "fast_period = 5  # Fast moving average period\n",
    "slow_period = 20  # Slow moving average period\n",
    "csv_filename = 'market_data.csv'  # File to store historical data\n",
    "max_data_points = 3000  # Maximum number of rows in the CSV\n",
    "\n",
    "run_strategy(symbol, timeframe, fast_period, slow_period, csv_filename, max_data_points)"
   ]
  },
  {
   "cell_type": "code",
   "execution_count": null,
   "metadata": {},
   "outputs": [],
   "source": [
    "import ccxt\n",
    "import pandas as pd\n",
    "import os\n",
    "import time\n",
    "from unsync import unsync\n",
    "\n",
    "# Initialize Kraken Pro Exchange\n",
    "exchange = ccxt.kraken({\n",
    "    'apiKey': 'your_api_key',\n",
    "    'secret': 'your_api_secret'\n",
    "})\n",
    "\n",
    "# Fetch the latest OHLCV data point (asynchronous)\n",
    "@unsync\n",
    "def fetch_latest_data(symbol, timeframe):\n",
    "    try:\n",
    "        ohlcv = exchange.fetch_ohlcv(symbol, timeframe, limit=1)\n",
    "        latest_data = ohlcv[-1]\n",
    "        return {\n",
    "            'timestamp': pd.to_datetime(latest_data[0], unit='ms'),\n",
    "            'open': latest_data[1],\n",
    "            'high': latest_data[2],\n",
    "            'low': latest_data[3],\n",
    "            'close': latest_data[4],\n",
    "            'volume': latest_data[5]\n",
    "        }\n",
    "    except Exception as e:\n",
    "        print(f\"Error fetching latest data: {e}\")\n",
    "        return None\n",
    "\n",
    "# Append new data to CSV and maintain max length (asynchronous)\n",
    "@unsync\n",
    "def append_to_csv_with_limit(data, filename, max_rows=3000):\n",
    "    file_exists = os.path.isfile(filename)\n",
    "    df = pd.DataFrame([data])\n",
    "    \n",
    "    if file_exists:\n",
    "        existing_df = pd.read_csv(filename)\n",
    "        combined_df = pd.concat([existing_df, df], ignore_index=True)\n",
    "        if len(combined_df) > max_rows:\n",
    "            combined_df = combined_df.iloc[-max_rows:]  # Keep only the last max_rows rows\n",
    "        combined_df.to_csv(filename, index=False)\n",
    "    else:\n",
    "        df.to_csv(filename, mode='w', header=True, index=False)\n",
    "\n",
    "# Load the dataset from the CSV file (synchronous, needed for signal calculations)\n",
    "def load_data_from_csv(filename):\n",
    "    if os.path.isfile(filename):\n",
    "        return pd.read_csv(filename)\n",
    "    else:\n",
    "        return pd.DataFrame()\n",
    "\n",
    "# Calculate moving averages on the dataset\n",
    "def calculate_moving_averages(df, fast_period, slow_period):\n",
    "    df['fast_ma'] = df['close'].rolling(window=fast_period).mean()\n",
    "    df['slow_ma'] = df['close'].rolling(window=slow_period).mean()\n",
    "    return df\n",
    "\n",
    "# Check crossover signals\n",
    "def check_crossover(df):\n",
    "    if len(df) < 2:\n",
    "        return None\n",
    "    if df['fast_ma'].iloc[-2] < df['slow_ma'].iloc[-2] and df['fast_ma'].iloc[-1] > df['slow_ma'].iloc[-1]:\n",
    "        return 'buy'\n",
    "    elif df['fast_ma'].iloc[-2] > df['slow_ma'].iloc[-2] and df['fast_ma'].iloc[-1] < df['slow_ma'].iloc[-1]:\n",
    "        return 'sell'\n",
    "    else:\n",
    "        return None\n",
    "\n",
    "\n",
    "def run_strategy_logic(symbol, timeframe, fast_period, slow_period, filename):\n",
    "    \"\"\"Executes the core strategy logic (fetching, appending, calculating, checking).\"\"\"\n",
    "    fetch_task = fetch_latest_data(symbol, timeframe)\n",
    "    latest_data = fetch_task.result()\n",
    "\n",
    "    if latest_data:\n",
    "        append_task = append_to_csv_with_limit(latest_data, filename)  # Use default max_rows\n",
    "        append_task.result()\n",
    "\n",
    "        dataset = load_data_from_csv(filename)\n",
    "        dataset = calculate_moving_averages(dataset, fast_period, slow_period)\n",
    "        signal = check_crossover(dataset)\n",
    "\n",
    "        if signal == 'buy':\n",
    "            print(f\"Buy signal detected at {latest_data['timestamp']}\")\n",
    "            # Place buy order logic here\n",
    "        elif signal == 'sell':\n",
    "            print(f\"Sell signal detected at {latest_data['timestamp']}\")\n",
    "            # Place sell order logic here\n",
    "        else:\n",
    "            print(f\"No signal at {latest_data['timestamp']}\")\n",
    "\n",
    "def run_hourly_strategy(symbol, timeframe, fast_period, slow_period, filename):\n",
    "    \"\"\"Runs the strategy hourly.\"\"\"\n",
    "\n",
    "    # Run the strategy logic immediately on startup\n",
    "    print(\"Running strategy on startup at:\", datetime.now())\n",
    "    run_strategy_logic(symbol, timeframe, fast_period, slow_period, filename)\n",
    "\n",
    "    while True:\n",
    "        now = datetime.now()\n",
    "        next_hour = (now + timedelta(hours=1)).replace(minute=0, second=0, microsecond=0)\n",
    "        sleep_duration = (next_hour - now).total_seconds()\n",
    "        print(f\"Sleeping for {sleep_duration} seconds until the next hour...\")\n",
    "        time.sleep(sleep_duration)\n",
    "\n",
    "        print(\"Running strategy at:\", datetime.now())\n",
    "        run_strategy_logic(symbol, timeframe, fast_period, slow_period, filename)\n",
    "\n",
    "# Run the strategy\n",
    "\n",
    "symbol = 'BTC/USD'  # Trading pair\n",
    "timeframe = '1m'  # Timeframe\n",
    "fast_period = 5  # Fast moving average period\n",
    "slow_period = 20  # Slow moving average period\n",
    "csv_filename = 'market_data.csv'  # File to store historical data\n",
    "max_data_points = 3000  # Maximum number of rows in the CSV\n",
    "\n",
    "run_hourly_strategy(symbol, timeframe, fast_period, slow_period, csv_filename)"
   ]
  },
  {
   "cell_type": "markdown",
   "metadata": {
    "vscode": {
     "languageId": "plaintext"
    }
   },
   "source": [
    "### Process:\n",
    "1. Ensure that we are trading every hour\n",
    "2. Get live data (3 Data points to account for the data preparation)\n",
    "3. Append it to csv, ensuring the limit of data points in the csv file (the limit == the train_size for the optimization process)\n",
    "4. Load the data from the csv file\n",
    "5. optimize if time to optimize (use optimize_counter)\n",
    "6. rebalance if time to rebalance (use rebalance_counter)\n",
    "7. Run the strategy on the dataset\n",
    "8. On the last time index (the last candle), get the universe (level 2 index) and actual allocation for each coin\\\n",
    "=> Make sure that we have applied self.live = True when initiating the strategy (to not shift the position values)\\\n",
    "(a) If coin not in universe -> Put their allocation\\\n",
    "(b) If actual allocation != shifted allocation, change the allocation of the coin\\\n",
    "--> Changing the allocation of a coin, is by determining the amount in currency = (amount_USD / close_price) to sell or to buy, then placing that order"
   ]
  },
  {
   "cell_type": "code",
   "execution_count": 1,
   "metadata": {},
   "outputs": [],
   "source": [
    "import ccxt\n",
    "import pandas as pd\n",
    "import os\n",
    "import time\n",
    "from unsync import unsync\n",
    "from datetime import datetime, timedelta"
   ]
  },
  {
   "cell_type": "code",
   "execution_count": 2,
   "metadata": {},
   "outputs": [],
   "source": [
    "#Connect to exchange\n",
    "api_key = 'yqPWrtVuElaIExKmIp/E/upTOz/to1x7tC3JoFUxoSTKWCOorT6ifF/B'\n",
    "api_secret = 'L8h5vYoAu/jpQiBROA9yKN41FGwZAGGVF3nfrC5f5EiaoF7VksruPVdD7x1VOwnyyNCMdrGnT8lP4xHTiBrYMQ=='\n",
    "\n",
    "exchange = ccxt.kraken({\n",
    "    'apiKey': api_key,\n",
    "    'secret': api_secret\n",
    "})"
   ]
  },
  {
   "cell_type": "code",
   "execution_count": 3,
   "metadata": {},
   "outputs": [
    {
     "data": {
      "text/plain": [
       "['BTC/USD', 'ETH/USD', 'LTC/USD']"
      ]
     },
     "execution_count": 3,
     "metadata": {},
     "output_type": "execute_result"
    }
   ],
   "source": [
    "#Converting symbols to a format that the exchange understands\n",
    "symbols = ['BTCUSD', 'ETHUSD', 'LTCUSD']\n",
    "formatted_symbol = [symbol.replace(\"USD\", \"/USD\") for symbol in symbols]\n",
    "formatted_symbol"
   ]
  },
  {
   "cell_type": "code",
   "execution_count": 4,
   "metadata": {},
   "outputs": [
    {
     "data": {
      "text/plain": [
       "{'info': {'error': [],\n",
       "  'result': {'XXBT': {'balance': '0.0000000000', 'hold_trade': '0.0000000000'},\n",
       "   'ZCAD': {'balance': '0.0000', 'hold_trade': '0.0000'},\n",
       "   'ZUSD': {'balance': '33.6557', 'hold_trade': '0.0000'}}},\n",
       " 'timestamp': None,\n",
       " 'datetime': None,\n",
       " 'BTC': {'free': 0.0, 'used': 0.0, 'total': 0.0},\n",
       " 'CAD': {'free': 0.0, 'used': 0.0, 'total': 0.0},\n",
       " 'USD': {'free': 33.6557, 'used': 0.0, 'total': 33.6557},\n",
       " 'free': {'BTC': 0.0, 'CAD': 0.0, 'USD': 33.6557},\n",
       " 'used': {'BTC': 0.0, 'CAD': 0.0, 'USD': 0.0},\n",
       " 'total': {'BTC': 0.0, 'CAD': 0.0, 'USD': 33.6557}}"
      ]
     },
     "execution_count": 4,
     "metadata": {},
     "output_type": "execute_result"
    }
   ],
   "source": [
    "#Account Portfolio operations\n",
    "balance = exchange.fetch_balance()\n",
    "balance"
   ]
  },
  {
   "cell_type": "code",
   "execution_count": 5,
   "metadata": {},
   "outputs": [
    {
     "data": {
      "text/plain": [
       "33.6557"
      ]
     },
     "execution_count": 5,
     "metadata": {},
     "output_type": "execute_result"
    }
   ],
   "source": [
    "balance['total']['USD']"
   ]
  },
  {
   "cell_type": "code",
   "execution_count": 7,
   "metadata": {},
   "outputs": [],
   "source": [
    "ohlcv = exchange.fetch_ohlcv('BTC/USD', '1h', limit=10)\n",
    "df = pd.DataFrame(ohlcv, columns=['timestamp', 'open', 'high', 'low', 'close', 'volume'])"
   ]
  },
  {
   "cell_type": "code",
   "execution_count": 8,
   "metadata": {},
   "outputs": [],
   "source": [
    "df['timestamp'] = pd.to_datetime(df['timestamp'], unit='ms')\n",
    "df.set_index('timestamp', inplace=True)"
   ]
  },
  {
   "cell_type": "code",
   "execution_count": 9,
   "metadata": {},
   "outputs": [
    {
     "data": {
      "text/html": [
       "<div>\n",
       "<style scoped>\n",
       "    .dataframe tbody tr th:only-of-type {\n",
       "        vertical-align: middle;\n",
       "    }\n",
       "\n",
       "    .dataframe tbody tr th {\n",
       "        vertical-align: top;\n",
       "    }\n",
       "\n",
       "    .dataframe thead th {\n",
       "        text-align: right;\n",
       "    }\n",
       "</style>\n",
       "<table border=\"1\" class=\"dataframe\">\n",
       "  <thead>\n",
       "    <tr style=\"text-align: right;\">\n",
       "      <th></th>\n",
       "      <th>open</th>\n",
       "      <th>high</th>\n",
       "      <th>low</th>\n",
       "      <th>close</th>\n",
       "      <th>volume</th>\n",
       "    </tr>\n",
       "    <tr>\n",
       "      <th>timestamp</th>\n",
       "      <th></th>\n",
       "      <th></th>\n",
       "      <th></th>\n",
       "      <th></th>\n",
       "      <th></th>\n",
       "    </tr>\n",
       "  </thead>\n",
       "  <tbody>\n",
       "    <tr>\n",
       "      <th>2025-01-11 13:00:00</th>\n",
       "      <td>94551.4</td>\n",
       "      <td>94551.9</td>\n",
       "      <td>94354.6</td>\n",
       "      <td>94356.8</td>\n",
       "      <td>10.062514</td>\n",
       "    </tr>\n",
       "    <tr>\n",
       "      <th>2025-01-11 14:00:00</th>\n",
       "      <td>94356.8</td>\n",
       "      <td>94549.1</td>\n",
       "      <td>94284.0</td>\n",
       "      <td>94548.3</td>\n",
       "      <td>5.791742</td>\n",
       "    </tr>\n",
       "    <tr>\n",
       "      <th>2025-01-11 15:00:00</th>\n",
       "      <td>94548.3</td>\n",
       "      <td>94580.0</td>\n",
       "      <td>94334.7</td>\n",
       "      <td>94359.3</td>\n",
       "      <td>19.460417</td>\n",
       "    </tr>\n",
       "    <tr>\n",
       "      <th>2025-01-11 16:00:00</th>\n",
       "      <td>94359.3</td>\n",
       "      <td>94665.5</td>\n",
       "      <td>94330.1</td>\n",
       "      <td>94391.2</td>\n",
       "      <td>7.116978</td>\n",
       "    </tr>\n",
       "    <tr>\n",
       "      <th>2025-01-11 17:00:00</th>\n",
       "      <td>94401.8</td>\n",
       "      <td>94401.8</td>\n",
       "      <td>93919.0</td>\n",
       "      <td>94104.2</td>\n",
       "      <td>19.314240</td>\n",
       "    </tr>\n",
       "    <tr>\n",
       "      <th>2025-01-11 18:00:00</th>\n",
       "      <td>94104.2</td>\n",
       "      <td>94257.0</td>\n",
       "      <td>94075.0</td>\n",
       "      <td>94244.1</td>\n",
       "      <td>32.384815</td>\n",
       "    </tr>\n",
       "    <tr>\n",
       "      <th>2025-01-11 19:00:00</th>\n",
       "      <td>94244.1</td>\n",
       "      <td>94281.3</td>\n",
       "      <td>94007.6</td>\n",
       "      <td>94187.5</td>\n",
       "      <td>6.698506</td>\n",
       "    </tr>\n",
       "    <tr>\n",
       "      <th>2025-01-11 20:00:00</th>\n",
       "      <td>94187.5</td>\n",
       "      <td>94597.4</td>\n",
       "      <td>94160.4</td>\n",
       "      <td>94567.7</td>\n",
       "      <td>13.310514</td>\n",
       "    </tr>\n",
       "    <tr>\n",
       "      <th>2025-01-11 21:00:00</th>\n",
       "      <td>94567.7</td>\n",
       "      <td>94986.6</td>\n",
       "      <td>94530.1</td>\n",
       "      <td>94921.6</td>\n",
       "      <td>65.167654</td>\n",
       "    </tr>\n",
       "  </tbody>\n",
       "</table>\n",
       "</div>"
      ],
      "text/plain": [
       "                        open     high      low    close     volume\n",
       "timestamp                                                         \n",
       "2025-01-11 13:00:00  94551.4  94551.9  94354.6  94356.8  10.062514\n",
       "2025-01-11 14:00:00  94356.8  94549.1  94284.0  94548.3   5.791742\n",
       "2025-01-11 15:00:00  94548.3  94580.0  94334.7  94359.3  19.460417\n",
       "2025-01-11 16:00:00  94359.3  94665.5  94330.1  94391.2   7.116978\n",
       "2025-01-11 17:00:00  94401.8  94401.8  93919.0  94104.2  19.314240\n",
       "2025-01-11 18:00:00  94104.2  94257.0  94075.0  94244.1  32.384815\n",
       "2025-01-11 19:00:00  94244.1  94281.3  94007.6  94187.5   6.698506\n",
       "2025-01-11 20:00:00  94187.5  94597.4  94160.4  94567.7  13.310514\n",
       "2025-01-11 21:00:00  94567.7  94986.6  94530.1  94921.6  65.167654"
      ]
     },
     "execution_count": 9,
     "metadata": {},
     "output_type": "execute_result"
    }
   ],
   "source": [
    "df[:-1]"
   ]
  },
  {
   "cell_type": "code",
   "execution_count": 10,
   "metadata": {},
   "outputs": [
    {
     "name": "stdout",
     "output_type": "stream",
     "text": [
      "latest data:                         open     high      low    close     volume\n",
      "timestamp                                                         \n",
      "2025-01-11 20:00:00  94187.5  94597.4  94160.4  94567.7  13.310514\n",
      "2025-01-11 21:00:00  94567.7  94986.6  94530.1  94921.6  65.167654\n"
     ]
    }
   ],
   "source": [
    "@unsync\n",
    "def fetch_latest_data(symbol, timeframe):\n",
    "    try:\n",
    "        ohlcv = exchange.fetch_ohlcv(symbol, timeframe, limit=3)\n",
    "        df = pd.DataFrame(ohlcv, columns=['timestamp', 'open', 'high', 'low', 'close', 'volume'])\n",
    "        df['timestamp'] = pd.to_datetime(df['timestamp'], unit='ms')\n",
    "        df.set_index('timestamp', inplace=True)\n",
    "        latest_data = df[:-1]\n",
    "        return latest_data\n",
    "    except Exception as e:\n",
    "        print(f\"Error fetching latest data: {e}\")\n",
    "        return None\n",
    "    \n",
    "# Fetch the latest OHLCV data point (asynchronous)\n",
    "try:\n",
    "    latest = fetch_latest_data('BTC/USD', '1h')\n",
    "    latest.result()\n",
    "    print('latest data:', latest.result())\n",
    "except Exception as e:\n",
    "    print(f\"Error fetching latest data: {e}\")"
   ]
  },
  {
   "cell_type": "code",
   "execution_count": 11,
   "metadata": {},
   "outputs": [
    {
     "data": {
      "text/html": [
       "<div>\n",
       "<style scoped>\n",
       "    .dataframe tbody tr th:only-of-type {\n",
       "        vertical-align: middle;\n",
       "    }\n",
       "\n",
       "    .dataframe tbody tr th {\n",
       "        vertical-align: top;\n",
       "    }\n",
       "\n",
       "    .dataframe thead th {\n",
       "        text-align: right;\n",
       "    }\n",
       "</style>\n",
       "<table border=\"1\" class=\"dataframe\">\n",
       "  <thead>\n",
       "    <tr style=\"text-align: right;\">\n",
       "      <th></th>\n",
       "      <th>open</th>\n",
       "      <th>high</th>\n",
       "      <th>low</th>\n",
       "      <th>close</th>\n",
       "      <th>volume</th>\n",
       "    </tr>\n",
       "    <tr>\n",
       "      <th>timestamp</th>\n",
       "      <th></th>\n",
       "      <th></th>\n",
       "      <th></th>\n",
       "      <th></th>\n",
       "      <th></th>\n",
       "    </tr>\n",
       "  </thead>\n",
       "  <tbody>\n",
       "    <tr>\n",
       "      <th>2025-01-11 20:00:00</th>\n",
       "      <td>94187.5</td>\n",
       "      <td>94597.4</td>\n",
       "      <td>94160.4</td>\n",
       "      <td>94567.7</td>\n",
       "      <td>13.310514</td>\n",
       "    </tr>\n",
       "    <tr>\n",
       "      <th>2025-01-11 21:00:00</th>\n",
       "      <td>94567.7</td>\n",
       "      <td>94986.6</td>\n",
       "      <td>94530.1</td>\n",
       "      <td>94921.6</td>\n",
       "      <td>65.167654</td>\n",
       "    </tr>\n",
       "  </tbody>\n",
       "</table>\n",
       "</div>"
      ],
      "text/plain": [
       "                        open     high      low    close     volume\n",
       "timestamp                                                         \n",
       "2025-01-11 20:00:00  94187.5  94597.4  94160.4  94567.7  13.310514\n",
       "2025-01-11 21:00:00  94567.7  94986.6  94530.1  94921.6  65.167654"
      ]
     },
     "execution_count": 11,
     "metadata": {},
     "output_type": "execute_result"
    }
   ],
   "source": [
    "latest.result()"
   ]
  },
  {
   "cell_type": "code",
   "execution_count": 12,
   "metadata": {},
   "outputs": [
    {
     "data": {
      "text/plain": [
       "94921.6"
      ]
     },
     "execution_count": 12,
     "metadata": {},
     "output_type": "execute_result"
    }
   ],
   "source": [
    "latest.result()['close'].iloc[-1]"
   ]
  },
  {
   "cell_type": "code",
   "execution_count": 73,
   "metadata": {},
   "outputs": [
    {
     "name": "stdout",
     "output_type": "stream",
     "text": [
      "Order placed successfully: {'id': 'O23OWI-A2ULZ-BWA3VH', 'clientOrderId': None, 'info': {'txid': ['O23OWI-A2ULZ-BWA3VH'], 'descr': {'order': 'buy 0.00036295 XBTUSD @ limit 94187.5'}}, 'timestamp': None, 'datetime': None, 'lastTradeTimestamp': None, 'status': None, 'symbol': 'BTC/USD', 'type': 'limit', 'timeInForce': None, 'postOnly': False, 'side': 'buy', 'price': 94187.5, 'stopPrice': None, 'triggerPrice': None, 'takeProfitPrice': None, 'stopLossPrice': None, 'cost': None, 'amount': 0.00036295, 'filled': None, 'average': None, 'remaining': None, 'reduceOnly': None, 'fee': None, 'trades': [], 'fees': [], 'lastUpdateTimestamp': None}\n"
     ]
    }
   ],
   "source": [
    "#Placing a limit order\n",
    "symbol = \"BTC/USD\"  # Trading pair\n",
    "order_type = \"limit\"  # Order type: limit or market\n",
    "side = \"buy\"  # Order side: buy or sell\n",
    "amount = balance['total']['USD'] / latest.result()['close'].iloc[-1]  # Amount in BTC\n",
    "price = latest.result()['close'].iloc[-1] # Limit price in USD\n",
    "\n",
    "try:\n",
    "    order = exchange.create_order(symbol, order_type, side, amount, price)\n",
    "    print(\"Order placed successfully:\", order)\n",
    "except Exception as e:\n",
    "    print(f\"Error placing order: {e}\")"
   ]
  },
  {
   "cell_type": "code",
   "execution_count": 13,
   "metadata": {},
   "outputs": [],
   "source": [
    "#To fetch open orders\n",
    "try:\n",
    "    # Fetch open orders\n",
    "    open_orders = exchange.fetch_open_orders()\n",
    "    for order in open_orders:\n",
    "        print(f\"Order ID: {order['id']}, Symbol: {order['symbol']}, Amount: {order['amount']}\")\n",
    "except Exception as e:\n",
    "    print(f\"Error fetching open orders: {e}\")"
   ]
  },
  {
   "cell_type": "code",
   "execution_count": 77,
   "metadata": {},
   "outputs": [
    {
     "name": "stdout",
     "output_type": "stream",
     "text": [
      "Order canceled successfully: {'info': {'error': [], 'result': {'count': '1'}}, 'fees': [], 'id': None, 'clientOrderId': None, 'timestamp': None, 'datetime': None, 'symbol': None, 'type': None, 'side': None, 'lastTradeTimestamp': None, 'lastUpdateTimestamp': None, 'price': None, 'amount': None, 'cost': None, 'average': None, 'filled': None, 'remaining': None, 'timeInForce': None, 'postOnly': None, 'trades': [], 'reduceOnly': None, 'stopPrice': None, 'triggerPrice': None, 'takeProfitPrice': None, 'stopLossPrice': None, 'status': None, 'fee': None}\n"
     ]
    }
   ],
   "source": [
    "#To cancel an order\n",
    "try:\n",
    "    order_id = \"O23OWI-A2ULZ-BWA3VH\"  # Replace with the actual order ID\n",
    "    cancel_response = exchange.cancel_order(order_id)\n",
    "    print(f\"Order canceled successfully: {cancel_response}\")\n",
    "except Exception as e:\n",
    "    print(f\"Error canceling order: {e}\")\n"
   ]
  },
  {
   "cell_type": "code",
   "execution_count": 14,
   "metadata": {},
   "outputs": [
    {
     "name": "stdout",
     "output_type": "stream",
     "text": [
      "Current price of BTC/USD: 94684.1\n"
     ]
    }
   ],
   "source": [
    "symbol = \"BTC/USD\"  # Replace with your desired symbol\n",
    "try:\n",
    "    # Specify the ticker symbol\n",
    "    ticker = exchange.fetch_ticker(symbol)\n",
    "    \n",
    "    # Get the current price\n",
    "    current_price = ticker['last']  # 'last' is the latest trade price\n",
    "    print(f\"Current price of {symbol}: {current_price}\")\n",
    "except Exception as e:\n",
    "    print(f\"Error fetching ticker data: {e}\")"
   ]
  },
  {
   "cell_type": "code",
   "execution_count": 86,
   "metadata": {},
   "outputs": [
    {
     "name": "stdout",
     "output_type": "stream",
     "text": [
      "Market order placed successfully: {'id': 'O6XH7T-6KFR5-5HKFY4', 'clientOrderId': None, 'info': {'txid': ['O6XH7T-6KFR5-5HKFY4'], 'descr': {'order': 'buy 0.00035930 XBTUSD @ market'}}, 'timestamp': None, 'datetime': None, 'lastTradeTimestamp': None, 'status': None, 'symbol': 'BTC/USD', 'type': 'market', 'timeInForce': 'IOC', 'postOnly': False, 'side': 'buy', 'price': None, 'stopPrice': None, 'triggerPrice': None, 'takeProfitPrice': None, 'stopLossPrice': None, 'cost': None, 'amount': 0.0003593, 'filled': None, 'average': None, 'remaining': None, 'reduceOnly': None, 'fee': None, 'trades': [], 'fees': [], 'lastUpdateTimestamp': None}\n"
     ]
    }
   ],
   "source": [
    "# Placing a buy order and a sell order\n",
    "order_type = \"market\"  # Market order\n",
    "symbol = \"BTC/USD\"  # Trading pair\n",
    "side = \"buy\"  # Order side: buy or sell\n",
    "amount = balance['total']['USD'] / current_price  # Amount in BTC\n",
    "\n",
    "try:\n",
    "    order = exchange.create_order(symbol, order_type, side, amount)\n",
    "    print(\"Market order placed successfully:\", order)\n",
    "except Exception as e:\n",
    "    print(f\"Error placing market order: {e}\")"
   ]
  },
  {
   "cell_type": "code",
   "execution_count": 15,
   "metadata": {},
   "outputs": [],
   "source": [
    "symbols_to_trade = [symbol.replace(\"/USD\", \"\") for symbol in formatted_symbol]"
   ]
  },
  {
   "cell_type": "code",
   "execution_count": 16,
   "metadata": {},
   "outputs": [
    {
     "data": {
      "text/plain": [
       "['BTC', 'ETH', 'LTC']"
      ]
     },
     "execution_count": 16,
     "metadata": {},
     "output_type": "execute_result"
    }
   ],
   "source": [
    "symbols_to_trade"
   ]
  },
  {
   "cell_type": "code",
   "execution_count": 17,
   "metadata": {},
   "outputs": [
    {
     "data": {
      "text/plain": [
       "0.0"
      ]
     },
     "execution_count": 17,
     "metadata": {},
     "output_type": "execute_result"
    }
   ],
   "source": [
    "balance = exchange.fetch_balance()\n",
    "balance['total'][symbols_to_trade[0]]"
   ]
  },
  {
   "cell_type": "code",
   "execution_count": 18,
   "metadata": {},
   "outputs": [
    {
     "data": {
      "text/plain": [
       "{'info': {'error': [],\n",
       "  'result': {'XXBT': {'balance': '0.0000000000', 'hold_trade': '0.0000000000'},\n",
       "   'ZCAD': {'balance': '0.0000', 'hold_trade': '0.0000'},\n",
       "   'ZUSD': {'balance': '33.6557', 'hold_trade': '0.0000'}}},\n",
       " 'timestamp': None,\n",
       " 'datetime': None,\n",
       " 'BTC': {'free': 0.0, 'used': 0.0, 'total': 0.0},\n",
       " 'CAD': {'free': 0.0, 'used': 0.0, 'total': 0.0},\n",
       " 'USD': {'free': 33.6557, 'used': 0.0, 'total': 33.6557},\n",
       " 'free': {'BTC': 0.0, 'CAD': 0.0, 'USD': 33.6557},\n",
       " 'used': {'BTC': 0.0, 'CAD': 0.0, 'USD': 0.0},\n",
       " 'total': {'BTC': 0.0, 'CAD': 0.0, 'USD': 33.6557}}"
      ]
     },
     "execution_count": 18,
     "metadata": {},
     "output_type": "execute_result"
    }
   ],
   "source": [
    "balance"
   ]
  },
  {
   "cell_type": "code",
   "execution_count": 19,
   "metadata": {},
   "outputs": [
    {
     "name": "stdout",
     "output_type": "stream",
     "text": [
      "Available BTC: 0.0\n",
      "No BTC available to sell.\n"
     ]
    }
   ],
   "source": [
    "try:\n",
    "    # Step 1: Check your balance\n",
    "    balance = exchange.fetch_balance()\n",
    "    coin = \"BTC\"  # Replace with the coin you want to sell\n",
    "    amount = balance[coin][\"free\"]  # Amount available to sell\n",
    "    print(f\"Available {coin}: {amount}\")\n",
    "\n",
    "    if amount > 0:\n",
    "        # Step 2: Place a market sell order\n",
    "        symbol = formatted_symbol[0]  # Replace USD with your desired quote currency\n",
    "        order = exchange.create_market_sell_order(symbol, amount)\n",
    "        print(f\"Sell order placed: {order}\")\n",
    "    else:\n",
    "        print(f\"No {coin} available to sell.\")\n",
    "except Exception as e:\n",
    "    print(f\"Error: {e}\")"
   ]
  },
  {
   "cell_type": "code",
   "execution_count": null,
   "metadata": {},
   "outputs": [],
   "source": [
    "def run_hourly_strategy(symbol, timeframe, fast_period, slow_period, filename):\n",
    "    \"\"\"Runs the strategy hourly.\"\"\"\n",
    "\n",
    "    # Run the strategy logic immediately on startup\n",
    "    print(\"Running strategy on startup at:\", datetime.now())\n",
    "    # run_strategy_logic(symbol, timeframe, fast_period, slow_period, filename)\n",
    "\n",
    "    while True:\n",
    "        now = datetime.now()\n",
    "        next_hour = (now + timedelta(hours=1)).replace(minute=0, second=0, microsecond=0)\n",
    "        print(f\"Next hour: {next_hour}\")\n",
    "        sleep_duration = (next_hour - now).total_seconds()\n",
    "        print(f\"Sleeping for {sleep_duration} seconds until the next hour...\")\n",
    "        time.sleep(sleep_duration)\n",
    "\n",
    "        print(\"Running strategy at:\", datetime.now())\n",
    "        # run_strategy_logic(symbol, timeframe, fast_period, slow_period, filename)\n",
    "        \n",
    "symbol = 'BTC/USD'  # Trading pair\n",
    "timeframe = '1m'  # Timeframe\n",
    "fast_period = 5  # Fast moving average period\n",
    "slow_period = 20  # Slow moving average period\n",
    "csv_filename = 'market_data.csv'  # File to store historical data\n",
    "max_data_points = 3000  # Maximum number of rows in the CSV\n",
    "\n",
    "run_hourly_strategy(symbol, timeframe, fast_period, slow_period, csv_filename)"
   ]
  },
  {
   "cell_type": "code",
   "execution_count": 95,
   "metadata": {},
   "outputs": [
    {
     "name": "stdout",
     "output_type": "stream",
     "text": [
      "No BTC to sell.\n",
      "No CAD to sell.\n",
      "Selling 33.6557 USD...\n",
      "Error: kraken does not have market symbol USD/USD\n"
     ]
    }
   ],
   "source": [
    "#To liquidate everything:\n",
    "try:\n",
    "    # Step 1: Get your balances\n",
    "    balance = exchange.fetch_balance()\n",
    "    \n",
    "    # Step 2: Loop through all assets in your balance and sell them\n",
    "    for coin, coin_balance in balance['free'].items():\n",
    "        if coin_balance > 0:  # Only sell if you have a non-zero balance\n",
    "            print(f\"Selling {coin_balance} {coin}...\")\n",
    "            \n",
    "            # Determine the symbol for the sell order (e.g., BTC/USD, ETH/USDT)\n",
    "            symbol = f\"{coin}/USD\"  # Replace USD with your preferred quote currency\n",
    "            order = exchange.create_market_sell_order(symbol, coin_balance)\n",
    "            print(f\"Sell order placed: {order}\")\n",
    "        else:\n",
    "            print(f\"No {coin} to sell.\")\n",
    "    \n",
    "    print(\"All possible assets have been liquidated.\")\n",
    "    \n",
    "except Exception as e:\n",
    "    print(f\"Error: {e}\")"
   ]
  },
  {
   "cell_type": "code",
   "execution_count": 20,
   "metadata": {},
   "outputs": [],
   "source": [
    "def liquidate(symbols, exchange):\n",
    "    try:\n",
    "        # Step 1: Get your balances\n",
    "        balance = exchange.fetch_balance()\n",
    "\n",
    "        # Step 2: Loop through all assets in your balance and sell them\n",
    "        for coin, coin_balance in balance['free'].items():\n",
    "            if coin in symbols:\n",
    "                if coin_balance > 0:  # Only sell if you have a non-zero balance\n",
    "                    print(f\"Selling {coin_balance} {coin}...\")\n",
    "\n",
    "                    # Determine the symbol for the sell order (e.g., BTC/USD, ETH/USDT)\n",
    "                    symbol = f\"{coin}/USD\"  # Replace USD with your preferred quote currency\n",
    "                    order = exchange.create_market_sell_order(symbol, coin_balance)\n",
    "                    print(f\"Sell order placed: {order}\")\n",
    "                else:\n",
    "                    print(f\"No {coin} to sell.\")\n",
    "\n",
    "        print(\"All possible assets have been liquidated.\")\n",
    "\n",
    "    except Exception as e:\n",
    "        print(f\"Error: {e}\")"
   ]
  },
  {
   "cell_type": "markdown",
   "metadata": {},
   "source": [
    "---"
   ]
  },
  {
   "cell_type": "markdown",
   "metadata": {},
   "source": [
    "### Pseudocode:\n",
    "\n",
    "```(Python)\n",
    "#in the hourly function loop\n",
    "self.counter_opt = 0\n",
    "self.counter_reb = 0\n",
    "self.strats_map = {...}\n",
    "self.selected_strats = {...}\n",
    "self.weights = []\n",
    "self.best_params = {}\n",
    "\n",
    "run_strategy():\n",
    "    opt_interval = strat.train_size\n",
    "    reb_interval = 236 #nbr of hours in each 2 weeks\n",
    "\n",
    "\n",
    "    latest = fetch_last_data()\\\n",
    "    latest.result()\n",
    "\n",
    "    if latest:\n",
    "        append = append_to_csv(latest)\n",
    "        append.result() #Because we are going to be using the unsync the library\n",
    "\n",
    "        data = load_data_from_csv()\n",
    "\n",
    "        if self.counter_opt % opt_interval == 0 and len(data) >= opt_interval:\n",
    "            self.best_params = [strat.optimize() for strat in self.strats_map]\n",
    "\n",
    "        if self.counter_reb % reb_interval == 0 and len(data) >= reb_interval:\n",
    "            self.selected_strats = portfolio_management(strat_map) -> {}\n",
    "            log_rets = [strat.trading_strategy(data, self.best_params).results.strategy for strat in self.selected_strats.values()]\n",
    "            weights = portfolio_optimization(log_rets, ...).optimize(data) -> []\n",
    "            portfolio_value = exchange.... #the current portfolio value of the account\n",
    "            max_allocation_per_strat_list = weights * list -> []\n",
    "            self.max_allocation_per_strat_map = dict(zip(self.selected_strats.keys(), max_allocation_per_strat_list))\n",
    "        \n",
    "        self.opt_counter += 1\n",
    "        self.reb_counter += 1\n",
    "\n",
    "        df_strats = [\n",
    "        strat(self.best_params[i])\n",
    "        for i in range(len(self.best_params))  # Iterate over indices\n",
    "        for strat in self.selected_strats.values()  # Iterate over strategies\n",
    "        ]\n",
    "\n",
    "        #actual_allocation in coin currency\n",
    "        for i in range(df_strats):\n",
    "            df['actual_allocation_coin_currency'] = df['actual_allocation']  * df['close']\n",
    "\n",
    "        current_universes= [df_strats[i].index.get_level_values(1).unique() for i in range(df_strats)]\n",
    "\n",
    "        # Flatten into 1D list\n",
    "        current_universe = []\n",
    "        for sublist in two_d_list:\n",
    "            for item in sublist:\n",
    "                current_universe.append(item) if item not in current_universe\n",
    "            \n",
    "        current_coins = exchange.... #Current coins in the account portfolio\n",
    "\n",
    "        for coin in current_coins\n",
    "            if coin not in current_universe:\n",
    "                #liquidate those coins\n",
    "\n",
    "        coins_allocations = sum(df_strats['actual_allocation_coin_currency']).iloc[-1]\n",
    "\n",
    "        for coin in current_universe:\n",
    "            current_position = exchange.... -> float()\n",
    "            actual_allocation = coins_allocation.unstack().coin -> float()\n",
    "\n",
    "            to_add = current_position - actual_allocation\n",
    "\n",
    "            if to_add > 0:\n",
    "                #place a buy order of that quantity for that coin\n",
    "            if to_add < 0:\n",
    "                #place a sell order of that quantity for that coin"
   ]
  },
  {
   "cell_type": "code",
   "execution_count": 21,
   "metadata": {},
   "outputs": [],
   "source": [
    "import ccxt\n",
    "import pandas as pd\n",
    "import os\n",
    "import time\n",
    "from unsync import unsync\n",
    "from datetime import datetime, timedelta\n",
    "import sys"
   ]
  },
  {
   "cell_type": "code",
   "execution_count": 22,
   "metadata": {},
   "outputs": [
    {
     "name": "stdout",
     "output_type": "stream",
     "text": [
      "Skipping category 'layer-1', already processed.\n",
      "Skipping category 'depin', already processed.\n",
      "Skipping category 'proof-of-work-pow', already processed.\n",
      "Skipping category 'proof-of-stake-pos', already processed.\n",
      "Skipping category 'meme-token', already processed.\n",
      "Skipping category 'dog-themed-coins', already processed.\n",
      "Skipping category 'eth-2-0-staking', already processed.\n",
      "Skipping category 'non-fungible-tokens-nft', already processed.\n",
      "Skipping category 'governance', already processed.\n",
      "Skipping category 'artificial-intelligence', already processed.\n",
      "Skipping category 'infrastructure', already processed.\n",
      "Skipping category 'layer-2', already processed.\n",
      "Skipping category 'zero-knowledge-zk', already processed.\n",
      "Skipping category 'storage', already processed.\n",
      "Skipping category 'oracle', already processed.\n",
      "Skipping category 'bitcoin-fork', already processed.\n",
      "Skipping category 'restaking', already processed.\n",
      "Skipping category 'rollup', already processed.\n",
      "Skipping category 'metaverse', already processed.\n",
      "Skipping category 'privacy-coins', already processed.\n",
      "Skipping category 'layer-0-l0', already processed.\n",
      "Skipping category 'solana-meme-coins', already processed.\n",
      "Skipping category 'data-availability', already processed.\n",
      "Skipping category 'internet-of-things-iot', already processed.\n",
      "Skipping category 'frog-themed-coins', already processed.\n",
      "Skipping category 'ai-agents', already processed.\n",
      "Skipping category 'superchain-ecosystem', already processed.\n",
      "Skipping category 'bitcoin-layer-2', already processed.\n",
      "Skipping category 'bridge-governance-tokens', already processed.\n",
      "Skipping category 'modular-blockchain', already processed.\n",
      "Skipping category 'cat-themed-coins', already processed.\n",
      "Skipping category 'cross-chain-communication', already processed.\n",
      "Skipping category 'analytics', already processed.\n",
      "Skipping category 'identity', already processed.\n",
      "Skipping category 'wallets', already processed.\n",
      "Skipping category 'masternodes', already processed.\n",
      "['BTCUSD', 'ETHUSD', 'BNBUSD', 'SOLUSD', 'ADAUSD', 'TRXUSD', 'SUIUSD', 'AVAXUSD', 'TONUSD', 'HBARUSD', 'BCHUSD', 'HYPEUSD', 'NEARUSD', 'APTUSD', 'ICPUSD', 'CROUSD', 'OMUSD', 'VETUSD', 'XMRUSD', 'TAOUSD', 'FILUSD', 'ALGOUSD', 'KASUSD', 'TIAUSD', 'SUSD', 'THETAUSD', 'INJUSD', 'FTMUSD', 'SEIUSD', 'FTNUSD', 'GALAUSD', 'XDCUSD', 'FLRUSD', 'XTZUSD', 'KAIAUSD', 'IOTAUSD', 'FLOWUSD', 'ARUSD', 'AIOZUSD', 'DYDXUSD', 'COREUSD', 'EGLDUSD', 'CHZUSD', 'XECUSD', 'RONUSD', 'GNOUSD', 'KAVAUSD', 'ROSEUSD', 'ASTRUSD', 'VANAUSD', 'VRSCUSD', 'ENJUSD', 'CELOUSD', 'WEMIXUSD', 'ZETAUSD', 'ELFUSD', 'PEAQUSD', 'POLYXUSD', 'XCHUSD', 'QUBICUSD', 'ONEUSD', 'KDAUSD', 'DCRUSD', 'HEARTUSD', 'ZANOUSD', 'SKLUSD', 'HIVEUSD', 'CSPRUSD', 'GLMRUSD', 'XRDUSD', 'SUPRAUSD', 'VANRYUSD', 'DAGUSD', 'RBNTUSD', 'ALEOUSD', 'CHRUSD', 'ORAIUSD', 'WAXPUSD', 'ONGUSD', 'BBUSD', 'SAGAUSD', 'ERGUSD', 'ALPHUSD', 'MOVRUSD', 'DUSKUSD', 'OMNIUSD', 'AZEROUSD', 'SYSUSD', 'QANXUSD', 'TLOSUSD', 'XIONUSD', 'CUDOSUSD', 'KUJIUSD', 'LYXUSD', 'CTXCUSD', 'LTOUSD', 'OASUSD', 'ELAUSD', 'REIUSD', 'FCTUSD', 'RENDERUSD', 'TAOUSD', 'FILUSD', 'THETAUSD', 'GRTUSD', 'JASMYUSD', 'IOTAUSD', 'BTTUSD', 'ARUSD', 'AIOZUSD', 'HNTUSD', 'AKTUSD', 'GRASSUSD', 'BDXUSD', 'LPTUSD', 'TFUELUSD', 'IOUSD', 'GLMUSD', 'HOTUSD', 'TRACUSD', 'ANKRUSD', 'SCUSD', 'ATHUSD', 'IOTXUSD', 'PEAQUSD', 'XCHUSD', 'XYOUSD', 'PHAUSD', 'NOSUSD', 'FLUXUSD', 'HONEYUSD', 'NMTUSD', 'RLCUSD', 'GPUUSD', 'MVLUSD', 'DENTUSD', 'OCEANUSD', 'ANYONEUSD', 'HASHAIUSD', 'IAGUSD', 'MOBILEUSD', 'STORJUSD', 'LMWRUSD', 'NYMUSD', 'PHBUSD', 'SHDWUSD', 'CUDOSUSD', 'NKNUSD', 'OXTUSD', 'ZBCNUSD', 'GEODUSD', 'RADUSD', 'AUKIUSD', 'POKTUSD', 'SRXUSD', 'DIMOUSD', 'OORTUSD', 'GHXUSD', 'DMTRUSD', 'LAVAUSD', 'HOPRUSD', 'EDGEUSD', 'CLOREUSD', 'OCTAUSD', 'DATAUSD', 'SYNTUSD', 'EAIUSD', 'BLZUSD', 'JKLUSD', 'IOTUSD', 'STOSUSD', 'NTXUSD', 'BZZUSD', 'WXMUSD', 'ALEPHUSD', 'DEXNETUSD', 'FLTUSD', 'DNXUSD', 'OSMIUSD', 'CEREUSD', 'BLENDRUSD', 'NATIXUSD', 'HEUUSD', 'LOOPINUSD', 'OVRUSD', 'DEPINUSD', 'KNSUSD', 'WIFIUSD', 'TRVLUSD', 'DVPNUSD', 'OCTOUSD', 'NODLUSD', 'SUIDEPINUSD', 'XRTUSD', 'CRUUSD', 'MXCUSD', 'SQTUSD', 'FILMUSD', 'ALLUSD', 'MANUSD', 'BTCUSD', 'DOGEUSD', 'BCHUSD', 'LTCUSD', 'ETCUSD', 'XMRUSD', 'KASUSD', 'BSVUSD', 'XECUSD', 'ZECUSD', 'CFXUSD', 'BDXUSD', 'CKBUSD', 'DASHUSD', 'ZENUSD', 'VRSCUSD', 'SCUSD', 'ETHWUSD', 'QUBICUSD', 'RVNUSD', 'MWCUSD', 'KDAUSD', 'DCRUSD', 'ZANOUSD', 'FLUXUSD', 'DGBUSD', 'BTGUSD', 'XVGUSD', 'ERGUSD', 'ALPHUSD', 'SYSUSD', 'GRSUSD', 'KMDUSD', 'QRLUSD', 'PEPUSD', 'ARRRUSD', 'FIROUSD', 'BOBUSD', 'HTRUSD', 'XCPUSD', 'BELLSUSD', 'FBUSD', 'DNXUSD', 'IRONUSD', 'NIMUSD', 'TIGUSD', 'GLEECUSD', 'GLCUSD', 'ENQUSD', 'NEXAUSD', 'LKYUSD', 'BCDUSD', 'EPICUSD', 'XNAUSD', 'DMDUSD', 'PPCUSD', 'WOWUSD', 'DEROUSD', 'MANUSD', 'FACTUSD', 'RXDUSD', 'BEAMUSD', 'ZEPHUSD', 'HNSUSD', 'BCNUSD', 'DINGOUSD', 'WARTUSD', 'GRINUSD', 'SCPUSD', 'PHIUSD', 'EFLUSD', 'NEOXUSD', 'TDCUSD', 'VTCUSD', 'LCCUSD', 'CPHUSD', 'BLOCXUSD', 'GRCUSD', 'FTCUSD', 'BTXUSD', 'CAUUSD', 'IXCUSD', 'YECUSD', 'SLRUSD', 'PXCUSD', 'JKCUSD', 'KLSUSD', 'AIONUSD', 'OMNIUSD', 'XMYUSD', 'CLOUSD', 'SAFEUSD', '0XBTCUSD', 'PUTUSD', 'POTUSD', 'FRENUSD', 'MEWCUSD', 'GRLCUSD', 'ETHOUSD', 'SPRUSD', 'ETHUSD', 'BNBUSD', 'SOLUSD', 'ADAUSD', 'AVAXUSD', 'TONUSD', 'DOTUSD', 'NEARUSD', 'APTUSD', 'ALGOUSD', 'ATOMUSD', 'GTUSD', 'TIAUSD', 'INJUSD', 'GRTUSD', 'XTZUSD', 'RUNEUSD', 'FLOWUSD', 'NEOUSD', 'HNTUSD', 'EGLDUSD', 'MATICUSD', 'AKTUSD', 'MINAUSD', 'BDXUSD', 'ROSEUSD', 'KSMUSD', 'TFUELUSD', 'DASHUSD', 'CTCUSD', 'CELOUSD', 'QTUMUSD', 'DCRUSD', 'ONTUSD', 'ZANOUSD', 'RPLUSD', 'CSPRUSD', 'WAVESUSD', 'IOSTUSD', 'BBUSD', 'STRAXUSD', 'CTSIUSD', 'AZEROUSD', 'OXTUSD', 'LTOUSD', 'OASUSD', 'KMDUSD', 'WANUSD', 'BOUNTYUSD', 'KLVUSD', 'PIVXUSD', 'PSTAKEUSD', 'DIVIUSD', 'NIMUSD', 'ENQUSD', 'MTRGUSD', 'PPCUSD', 'OBSRUSD', 'TOMIUSD', 'MANUSD', 'XEPUSD', 'OMAXUSD', 'IONUSD', 'IRISUSD', 'BTC2USD', 'VALUSD', 'NRGUSD', 'BTSUSD', 'NAVUSD', 'PZMUSD', 'BLKUSD', 'OXENUSD', 'RINGUSD', 'STBUUSD', 'PARTUSD', 'FSNUSD', 'GRCUSD', 'VSYSUSD', 'NETZUSD', 'THCUSD', 'CAUUSD', 'PLYRUSD', 'PNDUSD', 'GHOSTUSD', 'AIONUSD', 'NXTUSD', 'SAFEUSD', 'PAKUSD', 'PUTUSD', 'VEGAUSD', 'SFDUSD', 'CRPUSD', 'EUNOUSD', 'BISUSD', 'CLOAKUSD', 'PACUSD', 'XBCUSD', 'TCUSD', 'VEILUSD', 'SHNDUSD', 'DOGEUSD', 'SHIBUSD', 'PEPEUSD', 'PENGUUSD', 'BONKUSD', 'AI16ZUSD', 'FLOKIUSD', 'WIFUSD', 'BRETTUSD', 'SPXUSD', 'AKUMAUSD', 'FARTCOINUSD', 'DOGEUSD', 'MOGUSD', 'GIGAUSD', 'NOTUSD', 'TURBOUSD', 'DOGUSD', 'FAIUSD', 'PNUTUSD', 'POPCATUSD', 'MEWUSD', 'AIXBTUSD', 'BABYDOGEUSD', 'SNEKUSD', 'AGENTFUNUSD', 'BOMEUSD', 'GOATUSD', 'MEMEUSD', 'SWARMSUSD', 'NEIROUSD', 'ARCUSD', 'WOULDUSD', 'ZEREBROUSD', 'ACTUSD', 'PIPPINUSD', 'MEOWUSD', 'DOGSUSD', 'AVAUSD', 'CORGIAIUSD', 'PEPECOINUSD', 'APUUSD', 'PEOPLEUSD', 'MOODENGUSD', 'SKIUSD', 'CATUSD', 'BITCOINUSD', 'FWOGUSD', 'DEGENUSD', 'NPCUSD', 'DOGEUSD', 'CHEEMSUSD', 'MAXUSD', 'PONKEUSD', 'LOFIUSD', 'OSAKUSD', 'ANDYUSD', 'CHILLGUYUSD', 'PURRUSD', 'WOLFUSD', 'TRUMPUSD', 'UFDUSD', 'ALCHUSD', 'GMEUSD', 'BONEUSD', 'SHIROUSD', 'ELONUSD', 'PEPEUSD', 'BINKUSD', 'PUFFUSD', 'LLMUSD', 'COQUSD', 'PEPUUSD', 'VADERUSD', 'SUNDOGUSD', 'WZRDUSD', 'SHISHAUSD', 'HIPPOUSD', 'HATUSD', 'KEKIUSUSD', 'MLGUSD', 'RETARDIOUSD', 'MONKYUSD', 'SLERFUSD', 'PATRIOTUSD', 'ELIZAUSD', 'LUNAUSD', 'GRIFTUSD', 'PUPSUSD', 'CULTUSD', 'VVAIFUUSD', 'ANDYUSD', 'SENDUSD', 'TITSUSD', 'REKTUSD', 'LADYSUSD', 'BULLYUSD', 'KOMAUSD', 'AIMONICAUSD', 'DEGENAIUSD', 'DOGEUSD', 'SHIBUSD', 'BONKUSD', 'FLOKIUSD', 'WIFUSD', 'AKUMAUSD', 'DOGUSD', 'MEWUSD', 'BABYDOGEUSD', 'NEIROUSD', 'DOGSUSD', 'CORGIAIUSD', 'SKIUSD', 'DOGEUSD', 'OSAKUSD', 'CHILLGUYUSD', 'BONEUSD', 'ELONUSD', 'KOMAUSD', '$MYROUSD', 'DOGUSD', 'AIDOGEUSD', 'OMIKAMIUSD', 'NEIROUSD', 'KISHUUSD', 'DOGECASTUSD', 'SAMOUSD', 'LEASHUSD', 'GOUTUSD', 'VOLTUSD', 'BERTUSD', 'AEROBUDUSD', 'BENJIUSD', 'APPLEUSD', 'REDOUSD', 'DOGINMEUSD', 'BILLYUSD', 'LAIKAUSD', 'DOGIUSD', 'GUIUSD', 'WOWUSD', 'KIBSHIUSD', 'WELSHUSD', 'OMNOMUSD', 'POLYDOGEUSD', 'BENDOGUSD', 'BOOPUSD', 'FUKUUSD', 'SELFIEUSD', 'STARDOGEUSD', 'MARVINUSD', 'WINNIEUSD', 'SHIUSD', 'DOGCUSD', 'DINGOUSD', 'SHIFUUSD', 'DOGEUSD', 'HOGEUSD', 'CHOMPUSD', 'NFDUSD', 'BYTEUSD', 'PUPPIESUSD', 'NINJAUSD', 'KIMBOUSD', 'HUAHUAUSD', 'HUNDUSD', 'BIRDDOGUSD', 'OISHIIUSD', 'KRYPTUSD', 'CDOGEUSD', 'KAIUSD', 'OSCARUSD', 'RUSSELLUSD', 'CDOGUSD', 'DOBOUSD', 'DOGEGFUSD', 'DOGAUSD', 'AIUSD', 'TAONUUSD', 'DOGECASTUSD', 'SHIBDOGEUSD', 'AKITAUSD', 'THE', 'DOGEFATHERUSD', 'ESTEEUSD', 'QOMUSD', 'LUCKYUSD', 'GOOFYUSD', 'LOULOUUSD', '🐕USD', 'NEIROUSD', 'HSUIUSD', 'SYNDOGUSD', 'DJIUSD', 'POPDOGUSD', 'KOVUUSD', 'WALTERUSD', 'BOFUSD', 'HUSKYUSD', 'IDOGEUSD', 'WDOGUSD', 'STETHUSD', 'CBETHUSD', 'SFRXETHUSD', 'OSETHUSD', 'ANKRETHUSD', 'GETHUSD', 'BETHUSD', 'BETHUSD', 'RENDERUSD', 'FETUSD', 'IMXUSD', 'FLOKIUSD', 'GALAUSD', 'SANDUSD', 'FLOWUSD', 'ENSUSD', 'AXSUSD', 'MANAUSD', 'APEUSD', 'CHZUSD', 'RONUSD', 'SUPERUSD', 'NFTUSD', 'BLURUSD', 'GMTUSD', 'ENJUSD', 'MEUSD', 'MEMEUSD', 'CGPTUSD', 'ILVUSD', 'XYOUSD', 'GALUSD', 'VANRYUSD', 'IDUSD', 'AUDIOUSD', 'MPLXUSD', 'WILDUSD', 'YGGUSD', 'NPCUSD', 'WAXPUSD', 'SLPUSD', 'MAGICUSD', 'ALUUSD', 'JETUSD', 'ALICEUSD', 'CYBERUSD', 'OMIUSD', 'ALIUSD', 'RAREUSD', 'RETARDIOUSD', 'LMWRUSD', 'OGNUSD', 'PHBUSD', 'MBOXUSD', 'TLMUSD', 'RACAUSD', 'BAKEUSD', 'PYRUSD', 'AQTUSD', 'GODSUSD', 'FUSD', 'LTOUSD', 'DEGOUSD', 'WENUSD', 'ERNUSD', 'SWFTCUSD', 'MYRIAUSD', 'LOOKSUSD', 'TNSRUSD', 'DOGUSD', 'GHSTUSD', 'DEPUSD', 'GHXUSD', 'ATRUSD', 'SIDUSUSD', 'FLIXUSD', 'GFALUSD', 'ZERCUSD', 'COSUSD', 'UOSUSD', 'BOSONUSD', 'OPULUSD', 'BOTTOUSD', 'LYXEUSD', 'PIRATEUSD', 'GENEUSD', 'VEEUSD', 'COMBOUSD', 'KNDXUSD', 'PDAUSD', 'RARIUSD', 'FTUSD', 'NFTXUSD', 'LOKAUSD', 'AVCUSD', 'BCUTUSD', 'VOLTUSD', 'NAVIUSD', 'ASTOUSD', 'WAGMIGAMESUSD', 'GST-SOLUSD', 'TVKUSD', 'QORPOUSD', 'OVRUSD', 'EFIUSD', 'STARSUSD', '3ULLUSD', 'AURYUSD', 'UNIUSD', 'AAVEUSD', 'MKRUSD', 'ENSUSD', 'CRVUSD', 'XECUSD', 'CAKEUSD', 'COMPUSD', 'SNXUSD', 'AMPUSD', 'DASHUSD', 'ZRXUSD', 'ZENUSD', 'MOCAUSD', 'SUSHIUSD', 'FXSUSD', 'MASKUSD', 'YFIUSD', 'TRIBEUSD', 'DCRUSD', 'UMAUSD', 'COOKIEUSD', 'BALUSD', 'AGLDUSD', 'CTSIUSD', 'BONEUSD', 'MERLUSD', 'TOKENUSD', 'HIFIUSD', 'BADGERUSD', 'DAOUSD', 'SUREUSD', 'MINUSD', 'DEGOUSD', 'FORTHUSD', 'GHSTUSD', 'TOKEUSD', 'HOPRUSD', 'CHESSUSD', 'VOXELUSD', 'IGTUSD', 'ANTUSD', 'RBNUSD', 'FARMUSD', 'FPISUSD', 'CREAMUSD', 'RARIUSD', 'AMBUSD', 'ALPACAUSD', 'KRLUSD', 'ASTUSD', 'INDEXUSD', 'DCBUSD', 'XSUSHIUSD', 'CTXUSD', 'FLXUSD', 'YFIIUSD', 'WALLETUSD', 'KNCLUSD', 'FITFIUSD', 'RADARUSD', 'POOLUSD', 'ICHIUSD', 'IDLEUSD', 'BONDUSD', 'ZFUSD', 'ZEROUSD', 'SBRUSD', 'DHTUSD', 'NRGUSD', 'MAHAUSD', 'IDUSD', 'PALUSD', 'OOKSUSD', 'CVPUSD', 'DYPUSD', 'DYPUSD', 'PRISMAUSD', 'PLEBUSD', 'XFUNDUSD', 'TOWERUSD', 'DEPAYUSD', 'INTRUSD', 'MCUSD', 'HZNUSD', 'RGTUSD', 'KNINEUSD', 'DXDUSD', 'NAYMUSD', 'PICKLEUSD', 'KINTUSD', 'MBDUSD', 'MTAUSD', 'FRTNUSD', 'KROMUSD', 'PLRUSD', 'BENDUSD', 'OPIUMUSD', 'DANUSD', 'HORDUSD', 'NEARUSD', 'ICPUSD', 'RENDERUSD', 'TAOUSD', 'FETUSD', 'VIRTUALUSD', 'GRTUSD', 'AI16ZUSD', 'AIOZUSD', 'AKTUSD', 'GRASSUSD', 'FAIUSD', 'LPTUSD', 'ARKMUSD', 'VANAUSD', 'GRIFFAINUSD', 'IOUSD', 'GLMUSD', 'TRACUSD', 'PAALUSD', 'SWARMSUSD', 'ARCUSD', 'CGPTUSD', 'QUBICUSD', 'PHAUSD', 'NOSUSD', 'HEARTUSD', '0X0USD', 'FLUXUSD', 'IQUSD', 'AGIUSD', 'TAIUSD', 'AGIXUSD', 'CHRUSD', 'PONDUSD', 'ORAIUSD', 'NMTUSD', 'BASEDAIUSD', 'ZIGUSD', 'RLCUSD', 'MAXUSD', 'CARVUSD', 'LMTUSD', 'GPUUSD', 'OCEANUSD', 'REIUSD', 'ALCHUSD', 'NMRUSD', 'SPECUSD', 'HASHAIUSD', 'OLASUSD', 'NEURALUSD', 'TOKENUSD', 'AIUSD', 'XMWUSD', 'CXTUSD', 'AITECHUSD', 'MODEUSD', 'RAIUSD', 'ALIUSD', 'VADERUSD', 'YNEUSD', 'ORAUSD', 'RSS3USD', 'PALMUSD', 'LMWRUSD', 'NRNUSD', 'VVAIFUUSD', 'EMPUSD', 'PHBUSD', 'CUDOSUSD', 'SNAIUSD', 'CLANKERUSD', 'MASAUSD', 'CTXCUSD', 'VAPORUSD', 'PAIUSD', 'SERVUSD', 'BULLYUSD', 'NEURUSD', 'FORTUSD', 'AUKIUSD', 'SUAIUSD', 'HENLOUSD', 'FXNUSD', 'FOMOUSD', 'OORTUSD', 'MORUSD', 'TRISIGUSD', 'XTERUSD', 'CLOREUSD', 'DEAIUSD', 'OCTAUSD', 'METAVUSD', 'NUMUSD', 'REXUSD', 'FLOCKUSD', 'BOTTOUSD', 'GRPHUSD', 'ARCUSD', 'LINKUSD', 'ICPUSD', 'OMUSD', 'FILUSD', 'STXUSD', 'GRTUSD', 'FTMUSD', 'LDOUSD', 'RUNEUSD', 'PYTHUSD', 'STRKUSD', 'EIGENUSD', 'AXLUSD', 'SAFEUSD', 'DEEPUSD', 'GASUSD', 'ELFUSD', 'ARCUSD', 'ZEUSUSD', 'PHAUSD', 'RPLUSD', 'AVAILUSD', 'FIDAUSD', 'SUPRAUSD', 'PONDUSD', 'FUELUSD', 'CARVUSD', 'SAGAUSD', 'ORBSUSD', 'ALUUSD', 'CTSIUSD', 'TONUSD', 'ARDRUSD', 'IAGUSD', 'CXTUSD', 'MODEUSD', 'ORAUSD', 'LOOMUSD', 'RSS3USD', 'MOBILEUSD', 'QKCUSD', 'DINEROUSD', 'PRQUSD', 'SNAIUSD', 'RADUSD', 'PAIUSD', 'LOOMOLDUSD', 'KARRATUSD', 'GHXUSD', 'LAVAUSD', 'WANUSD', 'DEAIUSD', 'CXOUSD', 'HMTUSD', 'XDATAUSD', 'HTRUSD', 'BERRYUSD', 'SLFUSD', 'STOSUSD', 'ALEPHUSD', 'KIPUSD', 'FLTUSD', 'FBUSD', 'BCUTUSD', 'ROUTEUSD', 'WINRUSD', 'GLQUSD', 'OCTUSD', 'AEUSD', 'DVPNUSD', 'KP3RUSD', 'TEVAUSD', 'MNWUSD', 'HINTUSD', 'FIUSD', 'CSIXUSD', 'SQTUSD', 'KAIUSD', 'ZNNUSD', 'TRUFUSD', 'PUSHUSD', 'FREGOUSD', 'LLUSD', 'AZURUSD', 'HNSUSD', 'POWERUSD', 'NCDTUSD', 'BTRFLYUSD', 'EYWAUSD', 'KOSUSD', 'MARSHUSD', 'LAMBUSD', 'UBTUSD', 'SLNUSD', 'UMBUSD', 'WITUSD', 'RINGUSD', 'TOPUSD', 'SERSHUSD', 'NUUMUSD', 'MNTUSD', 'POLUSD', 'ARBUSD', 'OPUSD', 'STXUSD', 'IMXUSD', 'MOVEUSD', 'STRKUSD', 'MATICUSD', 'ZKUSD', 'CKBUSD', 'ASTRUSD', 'MANTAUSD', 'AEVOUSD', 'SONICUSD', 'PHAUSD', 'ALTUSD', 'LRCUSD', 'METISUSD', 'WETHUSD', 'BLASTUSD', 'LSKUSD', 'FUELUSD', 'ZRCUSD', 'TAIKOUSD', 'CTSIUSD', 'SCRUSD', 'BONEUSD', 'TONUSD', 'MERLUSD', 'MTLUSD', 'PROMUSD', 'CYBERUSD', 'AZEROUSD', 'MODEUSD', 'SYSUSD', 'LUMIAUSD', 'PUFFERUSD', 'BOBAUSD', 'CLVUSD', 'ISLMUSD', 'A8USD', 'ERNUSD', 'ORDERUSD', 'MYRIAUSD', 'GELUSD', 'VSCUSD', 'DGUSD', 'LAIUSD', 'COMBOUSD', 'XFIUSD', 'CWEBUSD', 'TOPIAUSD', 'WCOUSD', 'MPCUSD', 'BXNUSD', 'NWCUSD', 'CULTUSD', 'LLUSD', 'SKRUSD', 'KROUSD', 'BVMUSD', 'SWANUSD', 'ZKFUSD', 'ICBXUSD', 'BROCKUSD', 'HACDUSD', 'SAVMUSD', 'DELAYUSD', 'SOONXUSD', 'BBUSD', 'AIXUSD', 'NIGELLAUSD', 'GLSUSD', 'ZKBUSD', 'CYBAUSD', 'MUTEUSD', 'WALVUSD', 'KONETUSD', 'USDTUSD', 'LYKUSD', 'WETHUSD', 'U2UUSD', 'GMRXUSD', 'UNIT0USD', 'EGSUSD', 'WBROCKUSD', 'SCRUSD', '1CATUSD', 'XDAIUSD', 'JOCUSD', 'MANA3USD', '$BIOPUSD', 'LAIKAUSD', 'HEZUSD', 'MAALUSD', 'GMMTUSD', 'CARMINUSD', 'LACUSD', 'NOVASUSD', 'IMXUSD', 'MOVEUSD', 'STRKUSD', 'MATICUSD', 'ZECUSD', 'RONUSD', 'MINAUSD', 'ZKUSD', 'ZENUSD', 'PHAUSD', 'GALUSD', 'LRCUSD', 'COTIUSD', 'ALEOUSD', 'PONDUSD', 'ZRCUSD', 'TAIKOUSD', 'ZKJUSD', 'DUSKUSD', 'AZEROUSD', 'SYSUSD', 'TLOSUSD', 'RAILUSD', 'CHEQUSD', 'DGUSD', 'ARRRUSD', 'CCDUSD', 'UMUSD', 'FIROUSD', 'ZKMLUSD', 'PIVXUSD', 'ZKLUSD', 'IRONUSD', 'MPCUSD', 'OZOUSD', 'MOZUSD', 'EPICUSD', 'DOPUSD', 'VEILUSD', 'CULTUSD', 'ZKPUSD', 'RBXUSD', 'FRAUSD', 'IDUSD', '$THREEUSD', 'UFIUSD', 'SAVMUSD', 'PENUSD', 'XFTUSD', 'BBUSD', 'YECUSD', 'ZKBUSD', 'WPAYUSD', 'KMAUSD', 'HIDUSD', 'HUSHUSD', 'BLKCUSD', 'HEZUSD', 'WETHUSD', ':ZKT:USD', 'USDTUSD', 'OLAUSD', 'OLMUSD', 'ALIGNUSD', 'CROSSUSD', 'HAUSTUSD', 'FILUSD', 'BTTUSD', 'ARUSD', 'AIOZUSD', 'HOTUSD', 'SCUSD', 'OCEANUSD', 'IAGUSD', 'RSS3USD', 'STORJUSD', 'SHDWUSD', 'SRXUSD', 'OORTUSD', 'BLZUSD', 'JKLUSD', 'STOSUSD', 'BZZUSD', 'ALEPHUSD', 'CEREUSD', 'EMAIDUSD', 'CRUUSD', 'SOULUSD', 'XANDUSD', 'SCPUSD', 'LAMBUSD', 'RSNUSD', 'VDAUSD', 'SERSHUSD', 'XPXUSD', 'BDPUSD', 'ZCNUSD', 'WSIUSD', 'CLSUSD', 'PACUSD', 'OPCTUSD', 'SNMUSD', 'TFTUSD', 'BTTOLDUSD', 'FILUSD', 'WSTORUSD', 'LINKUSD', 'PYTHUSD', 'XYOUSD', 'PHAUSD', 'UMAUSD', 'BANDUSD', 'SUPRAUSD', 'ORAIUSD', 'API3USD', 'TRBUSD', 'RLCUSD', 'WINUSD', 'ORAUSD', 'DIAUSD', 'PHBUSD', 'SKEYUSD', 'NGLUSD', 'PNKUSD', 'SEDAUSD', 'FLXUSD', 'TRUFUSD', 'PLIUSD', 'NESTUSD', 'HAPIUSD', 'MARSHUSD', 'UMBUSD', 'WITUSD', 'UFIUSD', 'XFUNDUSD', 'GORAUSD', 'TEERUSD', 'BRGUSD', 'RAZORUSD', 'ZAPUSD', 'ACRIAUSD', 'ODINUSD', 'IDNAUSD', 'XEQUSD', 'BOGUSD', 'UTUUSD', 'ARESUSD', 'BRYUSD', 'BIRDUSD', 'DOSUSD', 'MODUSD', 'APRILUSD', 'ROOMUSD', 'WINUSD', 'OLMUSD', 'PIONUSD', 'REDSTONEUSD', 'LINK.EUSD', 'BCHUSD', 'BSVUSD', 'XECUSD', 'BTGUSD', 'SHAUSD', 'WEETHUSD', 'RSETHUSD', 'LBTCUSD', 'EZETHUSD', 'SOLVBTC.BBNUSD', 'EETHUSD', 'EIGENUSD', 'PENDLEUSD', 'CMETHUSD', 'EBTCUSD', 'ETHFIUSD', 'SSOLUSD', 'ALTUSD', 'ZRCUSD', 'BBUSD', 'AGETHUSD', 'PUFFERUSD', 'ATAUSD', 'REZUSD', 'SWELLUSD', 'SWBTCUSD', 'COOKUSD', 'EEIGENUSD', 'KYSOLUSD', 'EZSOLUSD', 'EGPUSD', 'NUTSUSD', 'SOMMUSD', 'PICAUSD', 'SXETHUSD', 'LPETHUSD', 'TENETUSD', 'INETHUSD', 'RSTKUSD', 'ULTRAETHSUSD', 'EZETHUSD', 'INSWETHUSD', 'RSETHUSD', 'YNETHXUSD', 'LAY3RUSD', 'RSETHUSD', 'PUFETHUSD', 'ULTRAETHSUSD', 'INSTETHUSD', 'RSETHUSD', 'WEETHUSD', 'RSWETHUSD', 'INTBTCUSD', 'RRETHUSD', 'INEIGENUSD', 'URLRTUSD', 'RSETHUSD', 'INMETHUSD', 'HGETHUSD', 'LTPUSD', 'EZREZUSD', 'YNBTCKUSD', 'YNLSDEUSD', 'INOSETHUSD', 'LAYERUSD', 'RSETHUSD', 'INLSETHUSD', 'YNBNBXUSD', 'RSETHUSD', 'RSETHUSD', 'ARBUSD', 'IMXUSD', 'STRKUSD', 'MATICUSD', 'CKBUSD', 'PHAUSD', 'ALTUSD', 'LRCUSD', 'METISUSD', 'TAIKOUSD', 'CTSIUSD', 'AZEROUSD', 'SYSUSD', 'PUFFERUSD', 'BOBAUSD', 'MYRIAUSD', 'LAIUSD', 'LLUSD', 'KROUSD', 'ZKFUSD', 'SAVMUSD', 'ZKBUSD', 'MUTEUSD', 'CARMINUSD', 'GMMTUSD', 'EGSUSD', 'HEZUSD', '$BIOPUSD', 'RENDERUSD', 'FLOKIUSD', 'SANDUSD', 'AXSUSD', 'MANAUSD', 'TRACUSD', 'ENJUSD', 'ILVUSD', 'XYOUSD', 'WILDUSD', 'YGGUSD', 'MAGICUSD', 'ALICEUSD', 'ALIUSD', 'HOOKUSD', 'SOVRNUSD', 'VRUSD', 'MBOXUSD', 'RACAUSD', 'PYRUSD', 'ERNUSD', 'ATLASUSD', 'GHSTUSD', 'POLISUSD', 'SIDUSUSD', 'BOSONUSD', 'PIXLUSD', 'ADSUSD', 'BREEDUSD', 'LOKAUSD', 'ASTOUSD', 'WODUSD', 'ARTYUSD', 'TVKUSD', 'OVRUSD', 'KATAUSD', 'HEROUSD', 'AURYUSD', 'UFOUSD', 'SWORLDUSD', 'JEWELUSD', 'XETAUSD', 'DGUSD', 'WRLDUSD', 'SOULUSD', 'NETVRUSD', 'STARLUSD', 'CUBEUSD', 'BOAUSD', 'DOMEUSD', 'PASGUSD', 'SAMAUSD', 'QVRSUSD', 'MCRTUSD', 'GMMUSD', 'MVUSD', 'WARPEDUSD', 'BAGUSD', 'MVIUSD', 'DARKUSD', 'SENATEUSD', 'DIOUSD', 'DFLUSD', 'SPHUSD', 'MLTUSD', 'REVVUSD', 'DYPUSD', 'DYPUSD', 'RMRKUSD', 'DSRUNUSD', 'POLCUSD', 'SINUSD', 'RMVUSD', 'RFOXUSD', 'BULLUSD', 'SPSUSD', 'XTMUSD', 'MCUSD', 'NCRUSD', 'MARS4USD', 'BONDLYUSD', 'GQUSD', 'SOULSUSD', 'MBDUSD', 'AVGUSD', 'NSFWUSD', 'FYNUSD', '$OZONEUSD', 'ARVUSD', 'REVOUSD', 'MTVTUSD', 'DPSUSD', 'VEMPUSD', 'BWOUSD', 'GUILDUSD', 'AIMXUSD', 'RBWUSD', 'BMONUSD', 'NEUROSUSD', 'REALMUSD', 'XMRUSD', 'ZECUSD', 'BDXUSD', 'DASHUSD', 'MWCUSD', 'DCRUSD', 'ZANOUSD', 'XVGUSD', 'NYMUSD', 'RAILUSD', 'HOPRUSD', 'LOCKUSD', 'ARRRUSD', 'TORNUSD', 'FIROUSD', 'ZKMLUSD', 'PIVXUSD', 'EPICUSD', 'XELUSD', 'DOPUSD', 'VEILUSD', 'DEROUSD', 'BEAMUSD', 'ZEPHUSD', 'BCNUSD', 'ZKPUSD', 'GRINUSD', 'RSNUSD', 'NAVUSD', 'OXENUSD', 'PARTUSD', 'XFTUSD', 'YECUSD', 'RYOUSD', 'GHOSTUSD', 'ARGUSD', 'SPRUSD', 'CRPUSD', 'BTCZUSD', 'ZCLUSD', 'ONIONUSD', 'BLANKUSD', 'XLAUSD', 'CLOAKUSD', 'MSRUSD', 'CCXUSD', 'ZERUSD', 'VEILUSD', 'HUSHUSD', 'SUMOUSD', 'TRTLUSD', 'AXEUSD', 'XWPUSD', 'IRDUSD', 'RAZEUSD', 'PRCYUSD', 'BLKCUSD', 'CASHUSD', 'XHVUSD', 'NUUSD', ':ZKT:USD', 'PHRUSD', 'ALIASUSD', 'STEALTHUSD', 'KRBUSD', 'AEONUSD', 'DOTUSD', 'ICPUSD', 'ATOMUSD', 'ZROUSD', 'CELLUSD', 'GEEQUSD', 'PENGUUSD', 'BONKUSD', 'AI16ZUSD', 'WIFUSD', 'FARTCOINUSD', 'GIGAUSD', 'PNUTUSD', 'POPCATUSD', 'MEWUSD', 'BABYDOGEUSD', 'BOMEUSD', 'GOATUSD', 'WOULDUSD', 'ZEREBROUSD', 'ACTUSD', 'PIPPINUSD', 'AVAUSD', 'MOODENGUSD', 'FWOGUSD', 'MAXUSD', 'PONKEUSD', 'CHILLGUYUSD', 'UFDUSD', 'BINKUSD', 'MLGUSD', 'HATUSD', 'RETARDIOUSD', 'SLERFUSD', 'ELIZAUSD', 'TITSUSD', 'BULLYUSD', 'DEGENAIUSD', '$MICHIUSD', '$MYROUSD', 'STNKUSD', 'BANUSD', 'M3M3USD', 'WENUSD', 'MCDULLUSD', 'SIGMAUSD', 'BUTTHOLEUSD', 'AVBUSD', 'MAJORUSD', 'MUMUUSD', 'PURPEUSD', 'SHOGGOTHUSD', 'GNONUSD', 'GIKOUSD', 'QUACKUSD', 'DADDYUSD', 'MANEKIUSD', '$UROUSD', 'LOCKINUSD', '\"', '\"USD', 'SAMOUSD', 'BOBAOPPAUSD', 'MEMESAIUSD', 'HEGEUSD', 'SCHIZOUSD', '$RIFUSD', 'LUCEUSD', 'OPUSUSD', 'GMEUSD', 'USAUSD', 'SPERGUSD', 'MOTHERUSD', 'PINOUSD', 'MUSKITUSD', 'TEMAUSD', 'FLORKUSD', 'KOLINUSD', 'MADUSD', 'MINIUSD', 'SCFUSD', 'RICHUSD', 'TREMPUSD', 'SAGEUSD', 'HAROLDUSD', 'KWEENUSD', 'DOLANUSD', 'HARAMBEUSD', 'FREDUSD', 'SOLARISUSD', 'DTFUSD', 'BILLYUSD', 'ABIUSD', 'LAIKAUSD', 'RIZOUSD', 'ETF500USD', 'NUBUSD', 'AAAHHMUSD', 'OIIAOIIAUSD', 'SKBDIUSD', 'SCIHUBUSD', '888USD', 'KOKOUSD', 'NPCSUSD', 'POXUSD', 'KHAIUSD', 'FATHAUSD', 'NEARUSD', 'TIAUSD', 'EIGENUSD', 'AVAILUSD', 'CXTUSD', 'SYSUSD', 'SYNTUSD', 'CRUUSD', 'BVMUSD', 'KEXUSD', 'VETUSD', 'JASMYUSD', 'IOTAUSD', 'HNTUSD', 'IOTXUSD', 'XYOUSD', 'DGBUSD', 'MVLUSD', 'SKEYUSD', 'OCTAUSD', 'XDATAUSD', 'NATIXUSD', 'XRTUSD', 'MXCUSD', 'MANUSD', 'MOBIUSD', 'RWNUSD', 'BLXMUSD', 'SUBUSD', 'INXTUSD', 'LYNXUSD', 'IOTXUSD', 'CHIRPUSD', 'PEPEUSD', 'BRETTUSD', 'TURBOUSD', 'BOMEUSD', 'PEPECOINUSD', 'APUUSD', 'FWOGUSD', 'PEPEUSD', 'KEKIUSUSD', 'MAJORUSD', 'PURPEUSD', 'PEIPEIUSD', 'HOPPYUSD', 'PORKUSD', 'FROGUSD', 'TROGUSD', 'TOBYUSD', 'FRICUSD', 'TRUMPIUSUSD', 'FROGEUSD', 'BABYPEPEUSD', 'PEEZYUSD', 'MYSTERYUSD', 'PEEZYUSD', 'FROXUSD', 'SIZEUSD', 'SKOPUSD', 'KEKEUSD', 'HONKUSD', 'FEFEUSD', 'GUAUSD', 'PEPOUSD', '$TOADUSD', 'TOBIUSD', 'HOPEUSD', 'PEWUSD', 'YELPEUSD', 'PEPEUSD', 'BRETT2.0USD', 'KREXUSD', 'GAGAUSD', 'TADUSD', 'MARVUSD', 'BABYPEPEUSD', 'ZYGOUSD', 'FROGUSD', 'CHULOUSD', 'PPBLZUSD', 'FRUDOUSD', 'MAPEUSD', 'PEPEUSD', 'TALESUSD', 'PEPEGAUSD', 'TROPPYUSD', 'DTCUSD', 'UFOUSD', 'COPEUSD', 'PEPEUSD', 'MAGAPEPEUSD', 'FROQUSD', 'FRUGUSD', 'HONKLERUSD', 'OCP404USD', 'BABYPURPEUSD', 'LONERUSD', 'COZYUSD', 'MAGAPEPEUSD', 'PEPEUSD', 'PEUSD', 'FROGUSD', 'PEPEMAGAUSD', 'PPDEXUSD', 'BLEPEUSD', 'ROXYUSD', 'FERGUSD', 'FROGIEUSD', 'FUGUSD', 'DANKUSD', 'FUBBUSD', 'SLAVUSD', 'ONIGCHIUSD', 'POPFROGUSD', 'PEPEKUSD', 'PJUSD', 'SANTAPEPEUSD', 'CHOLOUSD', 'HELLOUSD', 'PEPINUUSD', 'GAYPEPEUSD', 'FROGLICUSD', 'PEPEUSD', 'BOPEUSD', 'HONKUSD', 'PEPIUSD', 'PEIPEIUSD', 'BEPEUSD', 'FREPEUSD', 'BPEPEUSD', 'EZUSD', 'PEPEEUSD', 'FETUSD', 'VIRTUALUSD', 'AI16ZUSD', 'FAIUSD', 'AIXBTUSD', 'PAALUSD', 'SWARMSUSD', 'CGPTUSD', 'PHAUSD', 'HEARTUSD', 'AVAUSD', 'GAMEUSD', 'AGIUSD', 'AGIXUSD', 'ORAIUSD', 'NMTUSD', 'BASEDAIUSD', 'MAXUSD', 'SPECUSD', 'OLASUSD', 'MODEUSD', 'ALIUSD', 'VADERUSD', 'NRNUSD', 'GRIFTUSD', 'ELIZAUSD', 'VVAIFUUSD', 'EMPUSD', 'SERVUSD', 'BULLYUSD', 'HENLOUSD', 'SUAIUSD', 'FXNUSD', 'OORTUSD', 'FOMOUSD', 'TRISIGUSD', 'AKAUSD', 'AIONUSD', 'METAVUSD', 'REXUSD', 'BOTTOUSD', 'SPOREUSD', 'TRIASUSD', 'LAIUSD', 'EAIUSD', 'HGPTUSD', 'TMAIUSD', 'BERRYUSD', 'BNKRUSD', 'SUSD', 'SNSYUSD', 'G3USD', 'POLYUSD', 'FREYAUSD', 'AROKUSD', 'BROUSD', 'ASTOUSD', 'NOMAIUSD', 'NFTXBTUSD', 'MOEUSD', 'NOVAUSD', 'HEUUSD', 'KWANTUSD', 'SUIAIUSD', 'AGENTUSD', 'SOLARISUSD', 'MIZUKIUSD', 'KEKEUSD', 'SIMMIUSD', 'VAINUSD', 'GUDUSD', 'TWINUSD', 'SATORIUSD', 'LKIUSD', 'AIYPUSD', 'AIFUNUSD', 'ZARAUSD', 'COMAIUSD', 'H4CKUSD', '$AGENCYUSD', 'MANUSD', 'PILLZUMIUSD', 'FREGOUSD', '1000XUSD', 'CAIUSD', '$UOSUSD', 'OBIUSD', 'VOLTXUSD', 'SNIFTUSD', 'PACAUSD', 'H1DR4USD', 'DORAUSD', 'FMCUSD', 'VIAUSD', 'ROCKETUSD', 'QUAINUSD', '$OTTOUSD', 'LOKYUSD', 'CERTAIUSD', 'COQAIUSD', 'OPUSD', 'WLDUSD', 'CELOUSD', 'LSKUSD', 'CYBERUSD', 'MODEUSD', 'A8USD', 'ERNUSD', 'ORDERUSD', 'GSWIFTUSD', 'KROUSD', 'SWANUSD', 'FRAUSD', 'LYRAUSD', 'REDSTONEUSD', 'FXTLUSD', 'STXUSD', 'COREUSD', 'MERLUSD', 'ELAUSD', 'TETUSD', 'CWEBUSD', 'FBUSD', 'SOVUSD', 'MLUSD', 'BTFUSD', 'OPCATUSD', 'BVMUSD', 'SAVMUSD', 'LIBREUSD', 'SPCTUSD', 'TAP', '(BITCOIN)USD', 'RUNEUSD', 'AXLUSD', 'ACXUSD', 'SYNUSD', 'CELRUSD', 'STGUSD', 'FLIPUSD', 'DBRUSD', 'ROUTEUSD', 'SISUSD', 'EYWAUSD', 'PICAUSD', 'INTRUSD', 'XYUSD', 'ABRUSD', 'KINTUSD', 'HOPUSD', 'GRAVUSD', 'ITPUSD', 'BORINGUSD', 'O3USD', 'WBRGEUSD', 'MULTIUSD', 'MULTIUSD', 'ROUTEUSD', 'MULTIUSD', 'TIAUSD', 'DYMUSD', 'SKLUSD', 'AVAILUSD', 'CHRUSD', 'SAGAUSD', 'CTSIUSD', 'SYSUSD', 'GELUSD', 'LAVAUSD', 'GSWIFTUSD', 'KYVEUSD', 'SEDAUSD', 'KEXUSD', 'XARUSD', 'ALIGNUSD', 'MOGUSD', 'POPCATUSD', 'MEWUSD', 'CATUSD', 'PURRUSD', 'SHIROUSD', '$MICHIUSD', 'TOSHIUSD', 'WENUSD', 'KIKIUSD', 'MIGGLESUSD', 'GIKOUSD', 'MANEKIUSD', 'BDCUSD', 'LMEOWUSD', 'MEOWUSD', 'HAPPYUSD', 'KEYCATUSD', 'BONGOUSD', 'NACHOUSD', 'SLAPUSD', 'MINIUSD', 'LCATUSD', 'NUBUSD', 'OIIAOIIAUSD', 'BARSIKUSD', 'CATEUSD', 'MOEWUSD', 'GIZMOUSD', 'KHAIUSD', 'NYAUSD', 'CATUSD', 'MOCHIUSD', 'AAAUSD', 'BWENUSD', 'VIBEUSD', 'BCATUSD', 'CATFUSD', 'HEHEUSD', 'AURAUSD', 'SCUSD', '$ROARUSD', 'PSPSUSD', 'CHONKYUSD', '$CWIFUSD', 'SMURFCATUSD', 'CATALORIANUSD', 'MEOWUSD', 'TOMOUSD', 'CATUSD', 'SKICATUSD', 'CATANAUSD', 'LOAFCATUSD', 'GINNANUSD', 'WYACUSD', 'GRUMPYUSD', '$FATCATUSD', 'FLOPPAUSD', 'SUNCATUSD', 'LEOUSD', 'HEMULEUSD', 'GLORPUSD', 'PAJAMASUSD', 'SIRIUSUSD', '$CATSUSD', 'CATEXUSD', 'KIRAUSD', 'BAGUSD', 'ILYUSD', 'MEOWUSD', 'BCATUSD', 'BINGUSUSD', 'LPUSSUSD', 'COKUSD', 'ELGATOUSD', 'BOPUSD', 'MUNCATUSD', '$CLAPUSD', 'THUMBUSD', 'NYANUSD', 'CNCUSD', 'SHATSUSD', 'TREEINCATUSD', 'KFCUSD', 'TCATUSD', 'HABIBIUSD', 'BITCATUSD', 'OMNIUSD', 'KOINUSD', '$RECAUSD', 'GLAMUSD', 'MEWCUSD', 'KITTENWIFUSD', 'PICAUSD', 'DACATUSD', 'MANIFESTUSD', 'LOLCATUSD', 'SPHYNXUSD', 'GORTUSD', 'CATGPTUSD', 'WUSD', 'AXLUSD', 'ZROUSD', 'ZETAUSD', 'ZEUSUSD', 'ICXUSD', 'SUPRAUSD', 'OMNIUSD', 'CELRUSD', 'NGLUSD', 'CSWAPUSD', 'BLDUSD', 'WANUSD', 'UMUSD', 'CWEBUSD', 'ROUTEUSD', 'MPCUSD', 'XSWAPUSD', 'NEXTUSD', 'KOSUSD', 'AVIUSD', 'ONEUSD', 'TSTUSD', 'CRXUSD', 'GRAVUSD', 'THATUSD', 'WBRGEUSD', 'STAKELAYERUSD', 'EMTUSD', 'SPOTUSD', 'UNIT0USD', 'TSMUSD', 'ROUTEUSD', 'CLEARUSD', 'EMMETUSD', 'GRTUSD', 'ARKMUSD', 'CGPTUSD', 'COOKIEUSD', 'TOKENUSD', 'PRQUSD', 'DEXTUSD', 'TMAIUSD', 'BCUTUSD', 'KRLUSD', 'GLQUSD', 'VIBUSD', 'DCKUSD', 'KOLUSD', 'SQTUSD', 'PUSHUSD', 'WSDMUSD', 'AIKEKUSD', 'SCOUTUSD', 'CFGIUSD', 'RADARUSD', 'DYORUSD', 'XALPHAUSD', 'APESUSD', 'B3TRUSD', 'DOBOUSD', 'ANTIRUGUSD', 'BDPUSD', 'DASIAUSD', 'BIAIUSD', 'DATAUSD', 'SNAILUSD', 'HORUSUSD', 'SMARTCREDITUSD', 'OMNIUSD', 'FYDEUSD', 'VISIONUSD', 'DIGGAIUSD', 'REPOALYZEUSD', 'SGTUSD', 'AAAIUSD', 'ASTROUSD', 'QGGUSD', 'ASCNUSD', 'OJAUSD', 'CORUSD', 'DEGENUSD', 'AQTISUSD', 'BIRDUSD', 'QMINDUSD', 'ZERESCANUSD', 'CHERRYUSD', 'ISECUSD', 'DMBUSD', 'SWIPESUSD', 'MAG7.SSIUSD', '$NXCPUSD', 'KRWUSD', 'MOONLIGHTUSD', 'ARMYUSD', 'EAIUSD', 'SQDUSD', 'PORTUSD', 'TRADINGVIEWSUSD', 'BMTUSD', 'DDYUSD', 'WLDUSD', 'ENSUSD', 'GALUSD', 'GUSD', 'CVCUSD', 'CYBERUSD', 'SYSUSD', 'METAUSD', 'LYXUSD', 'L3USD', 'CHEQUSD', 'NSUSD', 'CCDUSD', 'TARAUSD', 'KILTUSD', 'AVCUSD', 'HMNDUSD', 'KEYUSD', 'TALENTUSD', 'IDUSD', 'SPACEUSD', 'VDAUSD', 'UFIUSD', 'SYLUSD', 'HIDUSD', 'ETPUSD', 'IDNAUSD', 'SELFUSD', 'DIOMUSD', 'WGUSD', 'BNUSD', 'BAASUSD', 'SAFEUSD', 'TWTUSD', 'TELUSD', 'SFPUSD', 'SOLOUSD', 'C98USD', 'PUNDIXUSD', 'ALPHUSD', 'BWBUSD', 'ISLMUSD', 'VRAUSD', 'CWEBUSD', 'HOLDUSD', 'COCAUSD', 'LIMEUSD', 'CATEUSD', 'CSIXUSD', 'CTRLUSD', 'TGTUSD', 'WALLETUSD', 'THTUSD', 'XDEFIUSD', 'TALKUSD', 'IDUSD', 'TOKEUSD', 'COVALUSD', 'PLENAUSD', 'DUAUSD', 'URUSUSD', '1ARTUSD', 'COSAUSD', 'GIDDYUSD', 'FLASHUSD', 'WALVUSD', 'BLANKUSD', 'BRUMEUSD', 'MIRAIUSD', 'DGWUSD', 'TRTUSD', 'DEXIOUSD', 'EMTUSD', 'PLCUUSD', 'RYOUSD', 'CREUSD', 'OPZUSD', 'WCTUSD', 'BRCUSD', 'BDXUSD', 'DASHUSD', 'ZENUSD', 'ONTUSD', 'FLUXUSD', 'SYSUSD', 'VICUSD', 'FIROUSD', 'PIVXUSD', 'DIVIUSD', 'ENQUSD', 'MNWUSD', 'AXELUSD', 'KIRAUSD', 'NEOXUSD', 'NRGUSD', 'OXENUSD', 'RTMUSD', 'BLOCXUSD', 'BTXUSD', 'THCUSD', 'ETHOUSD', 'HNSTUSD', 'SFDUSD', 'COSAUSD', 'WGRUSD', 'DUSD', 'TRCUSD', 'HNCUSD', 'SCCUSD', 'PACUSD', 'DOGECUSD', 'SWIFTUSD', 'BIRUSD', 'DCTUSD', 'AXEUSD', 'SMARTUSD', 'BLOCKUSD', 'HOOTUSD', 'PRCYUSD', 'BLKCUSD', 'BOLIUSD', 'MIRAIUSD', 'CRWUSD', 'MN2USD', 'ZOCUSD', 'PHRUSD', 'GBXUSD', 'CRMUSD', 'ZCRUSD', 'SENDUSD', 'SAGAUSD', 'COLXUSD', 'LUXUSD', 'VKAXUSD', 'MONKUSD', 'BNODEUSD', 'NBLAUSD', 'WVICUSD']\n",
      "The file contains content.\n",
      "None\n"
     ]
    }
   ],
   "source": [
    "# Ensure the directories are in the system path\n",
    "sys.path.append(os.path.abspath(os.path.join(os.getcwd(), '..', 'Data_Management'))) \n",
    "sys.path.append(os.path.abspath(os.path.join(os.getcwd(), '..', 'Portfolio_Optimization'))) \n",
    "sys.path.append(os.path.abspath(os.path.join(os.getcwd(), '..', 'Strategies', 'Trend_Following')))\n",
    "sys.path.append(os.path.abspath(os.path.join(os.getcwd(), '..', 'Strategies', 'Mean_Reversion')))\n",
    "\n",
    "# Import the modules\n",
    "from data import Data\n",
    "from sprtrnd_breakout import Sprtrnd_Breakout\n",
    "from last_days_low import Last_Days_Low\n",
    "from portfolio_management import Portfolio_Management\n",
    "from portfolio_optimization import Portfolio_Optimization\n",
    "from portfolio_risk_management import Portfolio_RM\n"
   ]
  },
  {
   "cell_type": "code",
   "execution_count": 27,
   "metadata": {},
   "outputs": [
    {
     "data": {
      "text/plain": [
       "['BTC/USD', 'ETH/USD', 'LTC/USD']"
      ]
     },
     "execution_count": 27,
     "metadata": {},
     "output_type": "execute_result"
    }
   ],
   "source": [
    "#Converting symbols to a format that the exchange understands\n",
    "symbols = ['BTCUSD', 'ETHUSD', 'LTCUSD']\n",
    "formatted_symbols = [symbol.replace(\"USD\", \"/USD\") for symbol in symbols]\n",
    "formatted_symbols"
   ]
  },
  {
   "cell_type": "code",
   "execution_count": 24,
   "metadata": {},
   "outputs": [],
   "source": [
    "@unsync\n",
    "def fetch_latest_data(symbol, timeframe):\n",
    "    \n",
    "    try:\n",
    "        ohlcv = exchange.fetch_ohlcv(symbol, timeframe, limit=2001)\n",
    "        df = pd.DataFrame(ohlcv, columns=['timestamp', 'open', 'high', 'low', 'close', 'volume'])\n",
    "        df['timestamp'] = pd.to_datetime(df['timestamp'], unit='ms')\n",
    "        df.set_index('timestamp', inplace=True)\n",
    "        latest_data = df[:-1]\n",
    "        return latest_data\n",
    "    except Exception as e:\n",
    "        print(f\"Error fetching latest data: {e}\")\n",
    "        return None"
   ]
  },
  {
   "cell_type": "code",
   "execution_count": 33,
   "metadata": {},
   "outputs": [
    {
     "data": {
      "text/html": [
       "<div>\n",
       "<style scoped>\n",
       "    .dataframe tbody tr th:only-of-type {\n",
       "        vertical-align: middle;\n",
       "    }\n",
       "\n",
       "    .dataframe tbody tr th {\n",
       "        vertical-align: top;\n",
       "    }\n",
       "\n",
       "    .dataframe thead th {\n",
       "        text-align: right;\n",
       "    }\n",
       "</style>\n",
       "<table border=\"1\" class=\"dataframe\">\n",
       "  <thead>\n",
       "    <tr style=\"text-align: right;\">\n",
       "      <th></th>\n",
       "      <th></th>\n",
       "      <th>open</th>\n",
       "      <th>high</th>\n",
       "      <th>low</th>\n",
       "      <th>close</th>\n",
       "      <th>volume</th>\n",
       "    </tr>\n",
       "    <tr>\n",
       "      <th>timestamp</th>\n",
       "      <th>symbol</th>\n",
       "      <th></th>\n",
       "      <th></th>\n",
       "      <th></th>\n",
       "      <th></th>\n",
       "      <th></th>\n",
       "    </tr>\n",
       "  </thead>\n",
       "  <tbody>\n",
       "    <tr>\n",
       "      <th rowspan=\"3\" valign=\"top\">2025-01-04 06:00:00</th>\n",
       "      <th>BTC/USD</th>\n",
       "      <td>98091.00</td>\n",
       "      <td>98098.20</td>\n",
       "      <td>98070.00</td>\n",
       "      <td>98085.60</td>\n",
       "      <td>2.457123</td>\n",
       "    </tr>\n",
       "    <tr>\n",
       "      <th>ETH/USD</th>\n",
       "      <td>3593.92</td>\n",
       "      <td>3603.61</td>\n",
       "      <td>3593.92</td>\n",
       "      <td>3599.16</td>\n",
       "      <td>55.019599</td>\n",
       "    </tr>\n",
       "    <tr>\n",
       "      <th>LTC/USD</th>\n",
       "      <td>111.42</td>\n",
       "      <td>111.64</td>\n",
       "      <td>111.19</td>\n",
       "      <td>111.39</td>\n",
       "      <td>248.362597</td>\n",
       "    </tr>\n",
       "    <tr>\n",
       "      <th rowspan=\"2\" valign=\"top\">2025-01-04 07:00:00</th>\n",
       "      <th>BTC/USD</th>\n",
       "      <td>98085.70</td>\n",
       "      <td>98222.00</td>\n",
       "      <td>98054.90</td>\n",
       "      <td>98175.00</td>\n",
       "      <td>22.500919</td>\n",
       "    </tr>\n",
       "    <tr>\n",
       "      <th>ETH/USD</th>\n",
       "      <td>3598.65</td>\n",
       "      <td>3606.53</td>\n",
       "      <td>3592.67</td>\n",
       "      <td>3592.67</td>\n",
       "      <td>69.656618</td>\n",
       "    </tr>\n",
       "    <tr>\n",
       "      <th>...</th>\n",
       "      <th>...</th>\n",
       "      <td>...</td>\n",
       "      <td>...</td>\n",
       "      <td>...</td>\n",
       "      <td>...</td>\n",
       "      <td>...</td>\n",
       "    </tr>\n",
       "    <tr>\n",
       "      <th rowspan=\"2\" valign=\"top\">2025-01-12 12:00:00</th>\n",
       "      <th>ETH/USD</th>\n",
       "      <td>3252.01</td>\n",
       "      <td>3260.97</td>\n",
       "      <td>3248.36</td>\n",
       "      <td>3250.05</td>\n",
       "      <td>47.155247</td>\n",
       "    </tr>\n",
       "    <tr>\n",
       "      <th>LTC/USD</th>\n",
       "      <td>103.10</td>\n",
       "      <td>103.31</td>\n",
       "      <td>102.24</td>\n",
       "      <td>102.45</td>\n",
       "      <td>1477.132106</td>\n",
       "    </tr>\n",
       "    <tr>\n",
       "      <th rowspan=\"3\" valign=\"top\">2025-01-12 13:00:00</th>\n",
       "      <th>BTC/USD</th>\n",
       "      <td>94300.10</td>\n",
       "      <td>94646.40</td>\n",
       "      <td>94300.00</td>\n",
       "      <td>94508.80</td>\n",
       "      <td>12.371837</td>\n",
       "    </tr>\n",
       "    <tr>\n",
       "      <th>ETH/USD</th>\n",
       "      <td>3250.06</td>\n",
       "      <td>3261.24</td>\n",
       "      <td>3247.82</td>\n",
       "      <td>3258.99</td>\n",
       "      <td>54.718039</td>\n",
       "    </tr>\n",
       "    <tr>\n",
       "      <th>LTC/USD</th>\n",
       "      <td>102.40</td>\n",
       "      <td>103.00</td>\n",
       "      <td>102.37</td>\n",
       "      <td>102.90</td>\n",
       "      <td>173.048409</td>\n",
       "    </tr>\n",
       "  </tbody>\n",
       "</table>\n",
       "<p>600 rows × 5 columns</p>\n",
       "</div>"
      ],
      "text/plain": [
       "                                 open      high       low     close  \\\n",
       "timestamp           symbol                                            \n",
       "2025-01-04 06:00:00 BTC/USD  98091.00  98098.20  98070.00  98085.60   \n",
       "                    ETH/USD   3593.92   3603.61   3593.92   3599.16   \n",
       "                    LTC/USD    111.42    111.64    111.19    111.39   \n",
       "2025-01-04 07:00:00 BTC/USD  98085.70  98222.00  98054.90  98175.00   \n",
       "                    ETH/USD   3598.65   3606.53   3592.67   3592.67   \n",
       "...                               ...       ...       ...       ...   \n",
       "2025-01-12 12:00:00 ETH/USD   3252.01   3260.97   3248.36   3250.05   \n",
       "                    LTC/USD    103.10    103.31    102.24    102.45   \n",
       "2025-01-12 13:00:00 BTC/USD  94300.10  94646.40  94300.00  94508.80   \n",
       "                    ETH/USD   3250.06   3261.24   3247.82   3258.99   \n",
       "                    LTC/USD    102.40    103.00    102.37    102.90   \n",
       "\n",
       "                                  volume  \n",
       "timestamp           symbol                \n",
       "2025-01-04 06:00:00 BTC/USD     2.457123  \n",
       "                    ETH/USD    55.019599  \n",
       "                    LTC/USD   248.362597  \n",
       "2025-01-04 07:00:00 BTC/USD    22.500919  \n",
       "                    ETH/USD    69.656618  \n",
       "...                                  ...  \n",
       "2025-01-12 12:00:00 ETH/USD    47.155247  \n",
       "                    LTC/USD  1477.132106  \n",
       "2025-01-12 13:00:00 BTC/USD    12.371837  \n",
       "                    ETH/USD    54.718039  \n",
       "                    LTC/USD   173.048409  \n",
       "\n",
       "[600 rows x 5 columns]"
      ]
     },
     "execution_count": 33,
     "metadata": {},
     "output_type": "execute_result"
    }
   ],
   "source": [
    "@unsync\n",
    "def fetch_latest_data(symbols, timeframe):\n",
    "    \"\"\"Fetch latest OHLCV data for multiple symbols and stack them into a single DataFrame.\"\"\"\n",
    "    data_frames = []\n",
    "    for symbol in symbols:\n",
    "        try:\n",
    "            # Fetch OHLCV data\n",
    "            ohlcv = exchange.fetch_ohlcv(symbol, timeframe, limit=200)\n",
    "            df = pd.DataFrame(ohlcv, columns=['timestamp', 'open', 'high', 'low', 'close', 'volume'])\n",
    "            \n",
    "            # Convert timestamp to datetime\n",
    "            df['timestamp'] = pd.to_datetime(df['timestamp'], unit='ms')\n",
    "            df.set_index('timestamp', inplace=True)\n",
    "            \n",
    "            # Add a symbol column\n",
    "            df['symbol'] = symbol\n",
    "            data_frames.append(df)\n",
    "        except Exception as e:\n",
    "            print(f\"Error fetching data for {symbol}: {e}\")\n",
    "    \n",
    "    # Concatenate all DataFrames and set multi-level index\n",
    "    if data_frames:\n",
    "        stacked_df = pd.concat(data_frames)\n",
    "        stacked_df.set_index('symbol', append=True, inplace=True)\n",
    "        return stacked_df.sort_index()  # Organize the index\n",
    "    else:\n",
    "        return pd.DataFrame()  # Return an empty DataFrame if no data\n",
    "\n",
    "# Example usage\n",
    "timeframe = '1h'\n",
    "stacked_df = fetch_latest_data(formatted_symbols, timeframe)\n",
    "stacked_df.result()\n"
   ]
  },
  {
   "cell_type": "code",
   "execution_count": 32,
   "metadata": {},
   "outputs": [
    {
     "ename": "IndexError",
     "evalue": "list index out of range",
     "output_type": "error",
     "traceback": [
      "\u001b[1;31m---------------------------------------------------------------------------\u001b[0m",
      "\u001b[1;31mIndexError\u001b[0m                                Traceback (most recent call last)",
      "Cell \u001b[1;32mIn[32], line 1\u001b[0m\n\u001b[1;32m----> 1\u001b[0m data_instance\u001b[38;5;241m=\u001b[39m \u001b[43mData\u001b[49m\u001b[43m(\u001b[49m\u001b[43msymbols\u001b[49m\u001b[43m)\u001b[49m\n",
      "File \u001b[1;32mc:\\Users\\yassi\\OneDrive\\Documents\\GitHub\\Portfolio_1\\Technical_Portfolio\\Data_Management\\data.py:23\u001b[0m, in \u001b[0;36mData.__init__\u001b[1;34m(self, symbols, interval, start_time, end_time, get_data, exchange)\u001b[0m\n\u001b[0;32m     21\u001b[0m     \u001b[38;5;28mself\u001b[39m\u001b[38;5;241m.\u001b[39mavailable_symbols \u001b[38;5;241m=\u001b[39m \u001b[38;5;28mself\u001b[39m\u001b[38;5;241m.\u001b[39mkraken_symbols()\n\u001b[0;32m     22\u001b[0m \u001b[38;5;28;01mif\u001b[39;00m get_data:\n\u001b[1;32m---> 23\u001b[0m     \u001b[38;5;28mself\u001b[39m\u001b[38;5;241m.\u001b[39mdf \u001b[38;5;241m=\u001b[39m \u001b[38;5;28;43mself\u001b[39;49m\u001b[38;5;241;43m.\u001b[39;49m\u001b[43mget_data\u001b[49m\u001b[43m(\u001b[49m\u001b[43m)\u001b[49m\n",
      "File \u001b[1;32mc:\\Users\\yassi\\OneDrive\\Documents\\GitHub\\Portfolio_1\\Technical_Portfolio\\Data_Management\\data.py:115\u001b[0m, in \u001b[0;36mData.get_data\u001b[1;34m(self)\u001b[0m\n\u001b[0;32m    113\u001b[0m \u001b[38;5;28;01mdef\u001b[39;00m \u001b[38;5;21mget_data\u001b[39m(\u001b[38;5;28mself\u001b[39m):\n\u001b[0;32m    114\u001b[0m \u001b[38;5;250m    \u001b[39m\u001b[38;5;124;03m\"\"\"Main function to fetch, prepare, and save data.\"\"\"\u001b[39;00m\n\u001b[1;32m--> 115\u001b[0m     df \u001b[38;5;241m=\u001b[39m \u001b[38;5;28;43mself\u001b[39;49m\u001b[38;5;241;43m.\u001b[39;49m\u001b[43mget_binance_klines\u001b[49m\u001b[43m(\u001b[49m\u001b[43m)\u001b[49m\n\u001b[0;32m    116\u001b[0m     \u001b[38;5;28;01mif\u001b[39;00m df \u001b[38;5;129;01mis\u001b[39;00m \u001b[38;5;129;01mnot\u001b[39;00m \u001b[38;5;28;01mNone\u001b[39;00m:\n\u001b[0;32m    117\u001b[0m         df \u001b[38;5;241m=\u001b[39m \u001b[38;5;28mself\u001b[39m\u001b[38;5;241m.\u001b[39mprepare_data(df)\n",
      "File \u001b[1;32mc:\\Users\\yassi\\OneDrive\\Documents\\GitHub\\Portfolio_1\\Technical_Portfolio\\Data_Management\\data.py:61\u001b[0m, in \u001b[0;36mData.get_binance_klines\u001b[1;34m(self, limit)\u001b[0m\n\u001b[0;32m     58\u001b[0m url \u001b[38;5;241m=\u001b[39m \u001b[38;5;124m\"\u001b[39m\u001b[38;5;124mhttps://api.binance.com/api/v3/klines\u001b[39m\u001b[38;5;124m\"\u001b[39m\n\u001b[0;32m     59\u001b[0m date_list \u001b[38;5;241m=\u001b[39m pd\u001b[38;5;241m.\u001b[39mdate_range(start\u001b[38;5;241m=\u001b[39m\u001b[38;5;28mself\u001b[39m\u001b[38;5;241m.\u001b[39mstart_time, end\u001b[38;5;241m=\u001b[39m\u001b[38;5;28mself\u001b[39m\u001b[38;5;241m.\u001b[39mend_time, freq\u001b[38;5;241m=\u001b[39m\u001b[38;5;124m'\u001b[39m\u001b[38;5;124mD\u001b[39m\u001b[38;5;124m'\u001b[39m)\u001b[38;5;241m.\u001b[39mtolist()\n\u001b[1;32m---> 61\u001b[0m \u001b[38;5;28;01mif\u001b[39;00m \u001b[38;5;28;43mself\u001b[39;49m\u001b[38;5;241;43m.\u001b[39;49m\u001b[43mavailable_symbols\u001b[49m\u001b[43m[\u001b[49m\u001b[38;5;241;43m0\u001b[39;49m\u001b[43m]\u001b[49m\u001b[38;5;241m.\u001b[39mendswith(\u001b[38;5;124m'\u001b[39m\u001b[38;5;124mT\u001b[39m\u001b[38;5;124m'\u001b[39m):\n\u001b[0;32m     62\u001b[0m     \u001b[38;5;28mself\u001b[39m\u001b[38;5;241m.\u001b[39mavailable_symbols \u001b[38;5;241m=\u001b[39m [s[:\u001b[38;5;241m-\u001b[39m\u001b[38;5;241m1\u001b[39m] \u001b[38;5;28;01mfor\u001b[39;00m s \u001b[38;5;129;01min\u001b[39;00m \u001b[38;5;28mself\u001b[39m\u001b[38;5;241m.\u001b[39mavailable_symbols]\n\u001b[0;32m     64\u001b[0m \u001b[38;5;66;03m# Use ThreadPoolExecutor for parallel fetching\u001b[39;00m\n",
      "\u001b[1;31mIndexError\u001b[0m: list index out of range"
     ]
    }
   ],
   "source": [
    "data_instance= Data(symbols)"
   ]
  },
  {
   "cell_type": "code",
   "execution_count": null,
   "metadata": {},
   "outputs": [],
   "source": []
  }
 ],
 "metadata": {
  "kernelspec": {
   "display_name": "Python 3",
   "language": "python",
   "name": "python3"
  },
  "language_info": {
   "codemirror_mode": {
    "name": "ipython",
    "version": 3
   },
   "file_extension": ".py",
   "mimetype": "text/x-python",
   "name": "python",
   "nbconvert_exporter": "python",
   "pygments_lexer": "ipython3",
   "version": "3.12.2"
  }
 },
 "nbformat": 4,
 "nbformat_minor": 2
}
