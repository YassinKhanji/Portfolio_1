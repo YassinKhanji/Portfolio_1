{
 "cells": [
  {
   "cell_type": "code",
   "execution_count": null,
   "metadata": {},
   "outputs": [],
   "source": [
    "import time\n",
    "from datetime import datetime, timedelta\n",
    "\n",
    "def run_strategy():\n",
    "    # Execute the strategy immediately on startup\n",
    "    print(\"Running strategy at\", datetime.now())\n",
    "    # Add your trading strategy logic here\n",
    "    # Make a csv that contains the first set of data for the optimization\n",
    "\n",
    "    while True:\n",
    "        # Get current time and calculate next hour\n",
    "        now = datetime.now()\n",
    "        next_hour = (now + timedelta(hours=1)).replace(minute=0, second=0, microsecond=0)\n",
    "\n",
    "        # Wait until the next hour\n",
    "        sleep_duration = (next_hour - now).total_seconds()\n",
    "        print(f\"Sleeping for {sleep_duration} seconds...\")\n",
    "        time.sleep(sleep_duration)\n",
    "\n",
    "        # Execute your strategy\n",
    "        print(\"Running strategy at\", datetime.now())\n",
    "        # Add your trading strategy logic here\n",
    "\n",
    "run_strategy() # call the function"
   ]
  },
  {
   "cell_type": "code",
   "execution_count": null,
   "metadata": {},
   "outputs": [],
   "source": [
    "import ccxt\n",
    "import pandas as pd\n",
    "import os\n",
    "import time\n",
    "from unsync import unsync\n",
    "\n",
    "# Initialize Kraken Pro Exchange\n",
    "exchange = ccxt.kraken({\n",
    "    'apiKey': 'your_api_key',\n",
    "    'secret': 'your_api_secret'\n",
    "})\n",
    "\n",
    "# Fetch the latest OHLCV data point (asynchronous)\n",
    "@unsync\n",
    "def fetch_latest_data(symbol, timeframe):\n",
    "    try:\n",
    "        ohlcv = exchange.fetch_ohlcv(symbol, timeframe, limit=1)\n",
    "        latest_data = ohlcv[-1]\n",
    "        return {\n",
    "            'timestamp': pd.to_datetime(latest_data[0], unit='ms'),\n",
    "            'open': latest_data[1],\n",
    "            'high': latest_data[2],\n",
    "            'low': latest_data[3],\n",
    "            'close': latest_data[4],\n",
    "            'volume': latest_data[5]\n",
    "        }\n",
    "    except Exception as e:\n",
    "        print(f\"Error fetching latest data: {e}\")\n",
    "        return None\n",
    "\n",
    "# Append new data to CSV and maintain max length (asynchronous)\n",
    "@unsync\n",
    "def append_to_csv_with_limit(data, filename, max_rows=3000):\n",
    "    file_exists = os.path.isfile(filename)\n",
    "    df = pd.DataFrame([data])\n",
    "    \n",
    "    if file_exists:\n",
    "        existing_df = pd.read_csv(filename)\n",
    "        combined_df = pd.concat([existing_df, df], ignore_index=True)\n",
    "        if len(combined_df) > max_rows:\n",
    "            combined_df = combined_df.iloc[-max_rows:]  # Keep only the last max_rows rows\n",
    "        combined_df.to_csv(filename, index=False)\n",
    "    else:\n",
    "        df.to_csv(filename, mode='w', header=True, index=False)\n",
    "\n",
    "# Load the dataset from the CSV file (synchronous, needed for signal calculations)\n",
    "def load_data_from_csv(filename):\n",
    "    if os.path.isfile(filename):\n",
    "        return pd.read_csv(filename)\n",
    "    else:\n",
    "        return pd.DataFrame()\n",
    "\n",
    "# Calculate moving averages on the dataset\n",
    "def calculate_moving_averages(df, fast_period, slow_period):\n",
    "    df['fast_ma'] = df['close'].rolling(window=fast_period).mean()\n",
    "    df['slow_ma'] = df['close'].rolling(window=slow_period).mean()\n",
    "    return df\n",
    "\n",
    "# Check crossover signals\n",
    "def check_crossover(df):\n",
    "    if len(df) < 2:\n",
    "        return None\n",
    "    if df['fast_ma'].iloc[-2] < df['slow_ma'].iloc[-2] and df['fast_ma'].iloc[-1] > df['slow_ma'].iloc[-1]:\n",
    "        return 'buy'\n",
    "    elif df['fast_ma'].iloc[-2] > df['slow_ma'].iloc[-2] and df['fast_ma'].iloc[-1] < df['slow_ma'].iloc[-1]:\n",
    "        return 'sell'\n",
    "    else:\n",
    "        return None\n",
    "\n",
    "\n",
    "def run_strategy_logic(symbol, timeframe, fast_period, slow_period, filename):\n",
    "    \"\"\"Executes the core strategy logic (fetching, appending, calculating, checking).\"\"\"\n",
    "    fetch_task = fetch_latest_data(symbol, timeframe)\n",
    "    latest_data = fetch_task.result()\n",
    "\n",
    "    if latest_data:\n",
    "        append_task = append_to_csv_with_limit(latest_data, filename)  # Use default max_rows\n",
    "        append_task.result()\n",
    "\n",
    "        dataset = load_data_from_csv(filename)\n",
    "        dataset = calculate_moving_averages(dataset, fast_period, slow_period)\n",
    "        signal = check_crossover(dataset)\n",
    "\n",
    "        if signal == 'buy':\n",
    "            print(f\"Buy signal detected at {latest_data['timestamp']}\")\n",
    "            # Place buy order logic here\n",
    "        elif signal == 'sell':\n",
    "            print(f\"Sell signal detected at {latest_data['timestamp']}\")\n",
    "            # Place sell order logic here\n",
    "        else:\n",
    "            print(f\"No signal at {latest_data['timestamp']}\")\n",
    "\n",
    "def run_hourly_strategy(symbol, timeframe, fast_period, slow_period, filename):\n",
    "    \"\"\"Runs the strategy hourly.\"\"\"\n",
    "\n",
    "    # Run the strategy logic immediately on startup\n",
    "    print(\"Running strategy on startup at:\", datetime.now())\n",
    "    run_strategy_logic(symbol, timeframe, fast_period, slow_period, filename)\n",
    "\n",
    "    while True:\n",
    "        now = datetime.now()\n",
    "        next_hour = (now + timedelta(hours=1)).replace(minute=0, second=0, microsecond=0)\n",
    "        sleep_duration = (next_hour - now).total_seconds()\n",
    "        print(f\"Sleeping for {sleep_duration} seconds until the next hour...\")\n",
    "        time.sleep(sleep_duration)\n",
    "\n",
    "        print(\"Running strategy at:\", datetime.now())\n",
    "        run_strategy_logic(symbol, timeframe, fast_period, slow_period, filename)\n",
    "\n",
    "# Run the strategy\n",
    "\n",
    "symbol = 'BTC/USD'  # Trading pair\n",
    "timeframe = '1m'  # Timeframe\n",
    "fast_period = 5  # Fast moving average period\n",
    "slow_period = 20  # Slow moving average period\n",
    "csv_filename = 'market_data.csv'  # File to store historical data\n",
    "max_data_points = 3000  # Maximum number of rows in the CSV\n",
    "\n",
    "run_hourly_strategy(symbol, timeframe, fast_period, slow_period, csv_filename)"
   ]
  },
  {
   "cell_type": "markdown",
   "metadata": {
    "vscode": {
     "languageId": "plaintext"
    }
   },
   "source": [
    "### Process:\n",
    "1. Ensure that we are trading every hour\n",
    "2. Get live data (3 Data points to account for the data preparation)\n",
    "3. Append it to csv, ensuring the limit of data points in the csv file (the limit == the train_size for the optimization process)\n",
    "4. Load the data from the csv file\n",
    "5. optimize if time to optimize (use optimize_counter)\n",
    "6. rebalance if time to rebalance (use rebalance_counter)\n",
    "7. Run the strategy on the dataset\n",
    "8. On the last time index (the last candle), get the universe (level 2 index) and actual allocation for each coin\\\n",
    "=> Make sure that we have applied self.live = True when initiating the strategy (to not shift the position values)\\\n",
    "(a) If coin not in universe -> Put their allocation\\\n",
    "(b) If actual allocation != shifted allocation, change the allocation of the coin\\\n",
    "--> Changing the allocation of a coin, is by determining the amount in currency = (amount_USD / close_price) to sell or to buy, then placing that order"
   ]
  },
  {
   "cell_type": "code",
   "execution_count": 17,
   "metadata": {},
   "outputs": [],
   "source": [
    "import ccxt\n",
    "import pandas as pd\n",
    "import os\n",
    "import time\n",
    "from unsync import unsync\n",
    "from datetime import datetime, timedelta"
   ]
  },
  {
   "cell_type": "code",
   "execution_count": 18,
   "metadata": {},
   "outputs": [],
   "source": [
    "#Connect to exchange\n",
    "api_key = 'yqPWrtVuElaIExKmIp/E/upTOz/to1x7tC3JoFUxoSTKWCOorT6ifF/B'\n",
    "api_secret = 'L8h5vYoAu/jpQiBROA9yKN41FGwZAGGVF3nfrC5f5EiaoF7VksruPVdD7x1VOwnyyNCMdrGnT8lP4xHTiBrYMQ=='\n",
    "\n",
    "exchange = ccxt.kraken({\n",
    "    'apiKey': api_key,\n",
    "    'secret': api_secret\n",
    "})"
   ]
  },
  {
   "cell_type": "code",
   "execution_count": 3,
   "metadata": {},
   "outputs": [
    {
     "data": {
      "text/plain": [
       "['BTC/USD', 'ETH/USD', 'LTC/USD']"
      ]
     },
     "execution_count": 3,
     "metadata": {},
     "output_type": "execute_result"
    }
   ],
   "source": [
    "#Converting symbols to a format that the exchange understands\n",
    "symbols = ['BTCUSD', 'ETHUSD', 'LTCUSD']\n",
    "formatted_symbol = [symbol.replace(\"USD\", \"/USD\") for symbol in symbols]\n",
    "formatted_symbol"
   ]
  },
  {
   "cell_type": "code",
   "execution_count": 115,
   "metadata": {},
   "outputs": [
    {
     "data": {
      "text/plain": [
       "{'info': {'error': [],\n",
       "  'result': {'XXBT': {'balance': '0.0000000000', 'hold_trade': '0.0000000000'},\n",
       "   'ZCAD': {'balance': '0.0000', 'hold_trade': '0.0000'},\n",
       "   'ZUSD': {'balance': '33.6557', 'hold_trade': '0.0000'}}},\n",
       " 'timestamp': None,\n",
       " 'datetime': None,\n",
       " 'BTC': {'free': 0.0, 'used': 0.0, 'total': 0.0},\n",
       " 'CAD': {'free': 0.0, 'used': 0.0, 'total': 0.0},\n",
       " 'USD': {'free': 33.6557, 'used': 0.0, 'total': 33.6557},\n",
       " 'free': {'BTC': 0.0, 'CAD': 0.0, 'USD': 33.6557},\n",
       " 'used': {'BTC': 0.0, 'CAD': 0.0, 'USD': 0.0},\n",
       " 'total': {'BTC': 0.0, 'CAD': 0.0, 'USD': 33.6557}}"
      ]
     },
     "execution_count": 115,
     "metadata": {},
     "output_type": "execute_result"
    }
   ],
   "source": [
    "#Account Portfolio operations\n",
    "balance = exchange.fetch_balance()\n",
    "balance"
   ]
  },
  {
   "cell_type": "code",
   "execution_count": 5,
   "metadata": {},
   "outputs": [
    {
     "data": {
      "text/plain": [
       "33.6557"
      ]
     },
     "execution_count": 5,
     "metadata": {},
     "output_type": "execute_result"
    }
   ],
   "source": [
    "balance['total']['USD']"
   ]
  },
  {
   "cell_type": "code",
   "execution_count": 19,
   "metadata": {},
   "outputs": [],
   "source": [
    "def symbols_in_current_balance(exchange):\n",
    "    # Fetch account balance\n",
    "    try:\n",
    "        balance = exchange.fetch_balance()\n",
    "        \n",
    "        # Extract symbols with non-zero balance\n",
    "        symbols = [currency + 'USDT' for currency, info in balance['total'].items() if info > 0]\n",
    "        \n",
    "        print(\"Symbols in your current balance:\", symbols)\n",
    "    except ccxt.BaseError as e:\n",
    "        print(f\"An error occurred: {e}\")"
   ]
  },
  {
   "cell_type": "code",
   "execution_count": 20,
   "metadata": {},
   "outputs": [
    {
     "name": "stdout",
     "output_type": "stream",
     "text": [
      "Symbols in your current balance: ['USDUSDT']\n"
     ]
    }
   ],
   "source": [
    "symbols_in_current_balance(exchange)"
   ]
  },
  {
   "cell_type": "code",
   "execution_count": 5,
   "metadata": {},
   "outputs": [],
   "source": [
    "def buy(to_add, coin, exchange):\n",
    "    try:\n",
    "        order = exchange.create_market_buy_order(coin, to_add)\n",
    "        print(f\"Buy order placed: {order}\")\n",
    "    except Exception as e:\n",
    "        print(f\"Error: {e}\")"
   ]
  },
  {
   "cell_type": "code",
   "execution_count": 6,
   "metadata": {},
   "outputs": [],
   "source": [
    "def sell(to_sell, coin, exchange):\n",
    "    try:\n",
    "        order = exchange.create_market_sell_order(coin, to_sell)\n",
    "        print(f\"Sell order placed: {order}\")\n",
    "    except Exception as e:\n",
    "        print(f\"Error: {e}\")"
   ]
  },
  {
   "cell_type": "code",
   "execution_count": null,
   "metadata": {},
   "outputs": [],
   "source": [
    "def run_hourly_strategy(symbol, timeframe, fast_period, slow_period, filename):\n",
    "    \"\"\"Runs the strategy hourly.\"\"\"\n",
    "\n",
    "    # Run the strategy logic immediately on startup\n",
    "    print(\"Running strategy on startup at:\", datetime.now())\n",
    "    # run_strategy_logic(symbol, timeframe, fast_period, slow_period, filename)\n",
    "\n",
    "    while True:\n",
    "        now = datetime.now()\n",
    "        next_hour = (now + timedelta(hours=1)).replace(minute=0, second=0, microsecond=0)\n",
    "        print(f\"Next hour: {next_hour}\")\n",
    "        sleep_duration = (next_hour - now).total_seconds()\n",
    "        print(f\"Sleeping for {sleep_duration} seconds until the next hour...\")\n",
    "        time.sleep(sleep_duration)\n",
    "\n",
    "        print(\"Running strategy at:\", datetime.now())\n",
    "        # run_strategy_logic(symbol, timeframe, fast_period, slow_period, filename)\n",
    "        \n",
    "symbol = 'BTC/USD'  # Trading pair\n",
    "timeframe = '1m'  # Timeframe\n",
    "fast_period = 5  # Fast moving average period\n",
    "slow_period = 20  # Slow moving average period\n",
    "csv_filename = 'market_data.csv'  # File to store historical data\n",
    "max_data_points = 3000  # Maximum number of rows in the CSV\n",
    "\n",
    "run_hourly_strategy(symbol, timeframe, fast_period, slow_period, csv_filename)"
   ]
  },
  {
   "cell_type": "code",
   "execution_count": 20,
   "metadata": {},
   "outputs": [],
   "source": [
    "def liquidate(symbols, exchange):\n",
    "    try:\n",
    "        # Step 1: Get your balances\n",
    "        balance = exchange.fetch_balance()\n",
    "\n",
    "        # Step 2: Loop through all assets in your balance and sell them\n",
    "        for coin, coin_balance in balance['free'].items():\n",
    "            if coin in symbols:\n",
    "                if coin_balance > 0:  # Only sell if you have a non-zero balance\n",
    "                    print(f\"Selling {coin_balance} {coin}...\")\n",
    "\n",
    "                    # Determine the symbol for the sell order (e.g., BTC/USD, ETH/USDT)\n",
    "                    symbol = f\"{coin}/USD\"  # Replace USD with your preferred quote currency\n",
    "                    order = exchange.create_market_sell_order(symbol, coin_balance)\n",
    "                    print(f\"Sell order placed: {order}\")\n",
    "                else:\n",
    "                    print(f\"No {coin} to sell.\")\n",
    "\n",
    "        print(\"All possible assets have been liquidated.\")\n",
    "\n",
    "    except Exception as e:\n",
    "        print(f\"Error: {e}\")"
   ]
  },
  {
   "cell_type": "markdown",
   "metadata": {},
   "source": [
    "---"
   ]
  },
  {
   "cell_type": "markdown",
   "metadata": {},
   "source": [
    "### Pseudocode:\n",
    "\n",
    "```(Python)\n",
    "#in the hourly function loop\n",
    "self.counter_opt = 0\n",
    "self.counter_reb = 0\n",
    "self.strats_map = {...}\n",
    "self.selected_strats = {...}\n",
    "self.weights = []\n",
    "self.best_params = {}\n",
    "\n",
    "run_strategy():\n",
    "    opt_interval = strat.train_size\n",
    "    reb_interval = 236 #nbr of hours in each 2 weeks\n",
    "\n",
    "\n",
    "    latest = fetch_last_data()\\\n",
    "    latest.result()\n",
    "\n",
    "    if latest:\n",
    "        append = append_to_csv(latest)\n",
    "        append.result() #Because we are going to be using the unsync the library\n",
    "\n",
    "        data = load_data_from_csv()\n",
    "\n",
    "        if self.counter_opt % opt_interval == 0 and len(data) >= opt_interval:\n",
    "            self.best_params = [strat.optimize() for strat in self.strats_map]\n",
    "\n",
    "        \n",
    "        self.opt_counter += 1\n",
    "        self.reb_counter += 1\n",
    "\n",
    "        df_strats = [\n",
    "        strat(self.best_params[i])\n",
    "        for i in range(len(self.best_params))  # Iterate over indices\n",
    "        for strat in self.selected_strats.values()  # Iterate over strategies\n",
    "        ]\n",
    "\n",
    "        if self.counter_reb % reb_interval == 0 and len(data) >= reb_interval:\n",
    "            log_rets = [strat.trading_strategy(data, self.best_params).results.strategy for strat in self.selected_strats.values()]\n",
    "            self.selected_strats = portfolio_management(strat_map) -> {}\n",
    "            weights = portfolio_optimization(log_rets, ...).optimize(data) -> []\n",
    "            portfolio_value = exchange.... #the current portfolio value of the account\n",
    "            max_allocation_per_strat_list = weights * list -> []\n",
    "            self.max_allocation_per_strat_map = dict(zip(self.selected_strats.keys(), max_allocation_per_strat_list))\n",
    "\n",
    "        #actual_allocation in coin currency\n",
    "        for i in range(df_strats):\n",
    "            df['actual_allocation_coin_currency'] = df['actual_allocation']  / df['close']\n",
    "\n",
    "        current_universes= [df_strats[i].index.get_level_values(1).unique() for i in range(df_strats)]\n",
    "\n",
    "        # Flatten into 1D list\n",
    "        current_universe = []\n",
    "        for sublist in two_d_list:\n",
    "            for item in sublist:\n",
    "                current_universe.append(item) if item not in current_universe\n",
    "            \n",
    "        current_coins = exchange.... #Current coins in the account portfolio\n",
    "\n",
    "        for coin in current_coins\n",
    "            if coin not in current_universe:\n",
    "                #liquidate those coins\n",
    "\n",
    "        coins_allocations = sum(df_strats['actual_allocation_coin_currency']).iloc[-1]\n",
    "\n",
    "        for coin in current_universe:\n",
    "            current_position = exchange.... -> float()\n",
    "            actual_allocation = coins_allocation.unstack().coin -> float()\n",
    "\n",
    "            to_add = current_position - actual_allocation\n",
    "\n",
    "            if to_add > 0:\n",
    "                #place a buy order of that quantity for that coin\n",
    "            if to_add < 0:\n",
    "                #place a sell order of that quantity for that coin"
   ]
  },
  {
   "cell_type": "code",
   "execution_count": 27,
   "metadata": {},
   "outputs": [],
   "source": [
    "import ccxt\n",
    "import pandas as pd\n",
    "import numpy as np\n",
    "import os\n",
    "import time\n",
    "from unsync import unsync\n",
    "import datetime as dt\n",
    "import sys\n",
    "from concurrent.futures import ThreadPoolExecutor\n",
    "import re\n",
    "import warnings\n",
    "warnings.filterwarnings(\"ignore\", category=pd.errors.PerformanceWarning)"
   ]
  },
  {
   "cell_type": "code",
   "execution_count": 28,
   "metadata": {},
   "outputs": [],
   "source": [
    "# Ensure the directories are in the system path\n",
    "sys.path.append(os.path.abspath(os.path.join(os.getcwd(), '..', 'Data_Management'))) \n",
    "sys.path.append(os.path.abspath(os.path.join(os.getcwd(), '..', 'Portfolio_Optimization'))) \n",
    "sys.path.append(os.path.abspath(os.path.join(os.getcwd(), '..', 'Strategies', 'Trend_Following')))\n",
    "sys.path.append(os.path.abspath(os.path.join(os.getcwd(), '..', 'Strategies', 'Mean_Reversion')))\n",
    "\n",
    "# Import the modules\n",
    "from data import Data, get_halal_symbols\n",
    "from fetch_symbols import get_symbols\n",
    "from sprtrnd_breakout import Sprtrnd_Breakout\n",
    "from last_days_low import Last_Days_Low\n",
    "from portfolio_management import Portfolio_Management\n",
    "from portfolio_optimization import Portfolio_Optimization\n",
    "from portfolio_risk_management import Portfolio_RM\n"
   ]
  },
  {
   "cell_type": "markdown",
   "metadata": {},
   "source": [
    "### At boot"
   ]
  },
  {
   "cell_type": "code",
   "execution_count": 24,
   "metadata": {},
   "outputs": [],
   "source": [
    "#Connect to exchange\n",
    "api_key = 'yqPWrtVuElaIExKmIp/E/upTOz/to1x7tC3JoFUxoSTKWCOorT6ifF/B'\n",
    "api_secret = 'L8h5vYoAu/jpQiBROA9yKN41FGwZAGGVF3nfrC5f5EiaoF7VksruPVdD7x1VOwnyyNCMdrGnT8lP4xHTiBrYMQ=='\n",
    "\n",
    "exchange = ccxt.kraken({\n",
    "    'apiKey': api_key,\n",
    "    'secret': api_secret\n",
    "})"
   ]
  },
  {
   "cell_type": "code",
   "execution_count": 4,
   "metadata": {},
   "outputs": [],
   "source": [
    "all_symbols = get_symbols()"
   ]
  },
  {
   "cell_type": "code",
   "execution_count": 36,
   "metadata": {},
   "outputs": [],
   "source": [
    "train_size = 440\n",
    "test_size = 200\n",
    "step_size = 200"
   ]
  },
  {
   "cell_type": "code",
   "execution_count": 43,
   "metadata": {},
   "outputs": [],
   "source": [
    "start_time = (dt.datetime.now() - dt.timedelta(hours=train_size + test_size + 200)).date()\n",
    "end_time = dt.datetime.now().date()\n",
    "timeframes = ['1w', '1d', '4h', '1h', '30m','15m', '5m', '1m']\n",
    "index = 3 #It is better to choose the highest frequency for the backtest to be able to downsample\n",
    "interval = timeframes[index]\n",
    "symbols = ['BTCUSD', 'ETHUSD']\n",
    "data_instance = Data(symbols, interval, start_time, end_time, exchange = 'kraken', get_data = False)"
   ]
  },
  {
   "cell_type": "code",
   "execution_count": 80,
   "metadata": {},
   "outputs": [],
   "source": [
    "data = data_instance.get_data()"
   ]
  },
  {
   "cell_type": "code",
   "execution_count": 81,
   "metadata": {},
   "outputs": [],
   "source": [
    "last_date_data = data.index.get_level_values(0).unique()[-1].tz_localize('UTC')"
   ]
  },
  {
   "cell_type": "code",
   "execution_count": 89,
   "metadata": {},
   "outputs": [],
   "source": [
    "if dt.datetime.now(dt.UTC).replace(minute=0, second=0, microsecond=0) != last_date_data:\n",
    "    time_difference = dt.datetime.now(dt.UTC).replace(minute=0, second=0, microsecond=0) - last_date_data\n",
    "    hours_difference = time_difference.total_seconds() / 3600 # Get the number of hours\n",
    "    missing_data = fetch_latest_data(all_symbols, interval, limit = int(hours_difference) + 1).result()\n",
    "    complete_data = pd.concat([data, missing_data])"
   ]
  },
  {
   "cell_type": "code",
   "execution_count": 92,
   "metadata": {},
   "outputs": [],
   "source": [
    "complete_data.index = complete_data.index.set_levels(pd.to_datetime(complete_data.index.levels[0]), level=0)"
   ]
  },
  {
   "cell_type": "code",
   "execution_count": 94,
   "metadata": {},
   "outputs": [],
   "source": [
    "complete_data.to_csv('market_data.csv')"
   ]
  },
  {
   "cell_type": "markdown",
   "metadata": {},
   "source": [
    "Putting all together"
   ]
  },
  {
   "cell_type": "code",
   "execution_count": 44,
   "metadata": {},
   "outputs": [],
   "source": [
    "def upload_complete_market_data(halal_symbols, data_size = 2200):\n",
    "    start_time = (dt.datetime.now() - dt.timedelta(hours= data_size)).date()\n",
    "    end_time = dt.datetime.now().date()\n",
    "    timeframes = ['1w', '1d', '4h', '1h', '30m','15m', '5m', '1m']\n",
    "    index = 3 #It is better to choose the highest frequency for the backtest to be able to downsample\n",
    "    interval = timeframes[index]\n",
    "    data_instance = Data(halal_symbols, interval, start_time, end_time, exchange = 'kraken')\n",
    "    data = data_instance.df\n",
    "    last_date_data = data.index.get_level_values(0).unique()[-1].tz_localize('UTC')\n",
    "    \n",
    "    if dt.datetime.now(dt.UTC).replace(minute=0, second=0, microsecond=0) != last_date_data:\n",
    "        time_difference = dt.datetime.now(dt.UTC).replace(minute=0, second=0, microsecond=0) - last_date_data\n",
    "        hours_difference = time_difference.total_seconds() / 3600 # Get the number of hours\n",
    "        missing_data = fetch_latest_data(halal_symbols, interval, limit = int(hours_difference) + 1).result()\n",
    "        complete_data = pd.concat([data, missing_data])\n",
    "        \n",
    "    complete_data.index = complete_data.index.set_levels(pd.to_datetime(complete_data.index.levels[0]), level=0)\n",
    "    complete_data.to_csv('market_data.csv')\n",
    "    print('Market data updated successfully')"
   ]
  },
  {
   "cell_type": "code",
   "execution_count": 45,
   "metadata": {},
   "outputs": [
    {
     "name": "stdout",
     "output_type": "stream",
     "text": [
      "Market data updated successfully\n"
     ]
    }
   ],
   "source": [
    "upload_complete_market_data(symbols, data_size = (train_size + test_size) * 4)"
   ]
  },
  {
   "cell_type": "markdown",
   "metadata": {},
   "source": [
    "### At each time we loop"
   ]
  },
  {
   "cell_type": "code",
   "execution_count": 51,
   "metadata": {},
   "outputs": [],
   "source": [
    "#Helper function\n",
    "def get_last_row(data):\n",
    "    \"\"\"Get the last date in the dataset.\"\"\"\n",
    "    last_date = data.index.get_level_values(\"date\").max()\n",
    "    last_date_data = data.loc[last_date]\n",
    "    return last_date_data"
   ]
  },
  {
   "cell_type": "code",
   "execution_count": 37,
   "metadata": {},
   "outputs": [],
   "source": [
    "def get_portfolio_value(exchange):\n",
    "    try:\n",
    "        # Fetch account balances\n",
    "        balances = exchange.fetch_balance()\n",
    "\n",
    "        # Fetch tickers to get the latest prices\n",
    "        tickers = exchange.fetch_tickers()\n",
    "\n",
    "        # Calculate portfolio value in USD (or another base currency)\n",
    "        portfolio_value = 0.0\n",
    "\n",
    "        for currency, balance in balances['total'].items():\n",
    "            if balance > 0:\n",
    "                if currency == \"USD\":\n",
    "                    # Add USD cash directly to portfolio value\n",
    "                    portfolio_value += balance\n",
    "                else:\n",
    "                    # Use the USD pair or the most liquid market\n",
    "                    pair = f\"{currency}/USD\"\n",
    "                    if pair in tickers:\n",
    "                        price = tickers[pair]['last']\n",
    "                        portfolio_value += balance * price\n",
    "                    else:\n",
    "                        # Handle currencies without USD pairs (e.g., trade to BTC, then USD)\n",
    "                        btc_pair = f\"{currency}/BTC\"\n",
    "                        if btc_pair in tickers:\n",
    "                            btc_price = tickers[btc_pair]['last']\n",
    "                            usd_price = tickers[\"BTC/USD\"]['last']\n",
    "                            portfolio_value += balance * btc_price * usd_price\n",
    "\n",
    "        return round(portfolio_value, 2)\n",
    "\n",
    "    except ccxt.BaseError as e:\n",
    "        print(f\"An error occurred: {str(e)}\")\n",
    "        return None\n"
   ]
  },
  {
   "cell_type": "code",
   "execution_count": 36,
   "metadata": {},
   "outputs": [],
   "source": [
    "portfolio_value = get_portfolio_value(exchange)"
   ]
  },
  {
   "cell_type": "code",
   "execution_count": 37,
   "metadata": {},
   "outputs": [
    {
     "data": {
      "text/plain": [
       "33.3"
      ]
     },
     "execution_count": 37,
     "metadata": {},
     "output_type": "execute_result"
    }
   ],
   "source": [
    "portfolio_value"
   ]
  },
  {
   "cell_type": "code",
   "execution_count": 38,
   "metadata": {},
   "outputs": [],
   "source": [
    "def format_symbols(symbols):\n",
    "    \"\"\"Converts the symbols to a format that the exchange understands.\"\"\"\n",
    "    if symbols[0].endswith('T'):\n",
    "        symbols = [s[:-1] for s in symbols]\n",
    "    formatted_symbols = [symbol.replace(\"USD\", \"/USD\") for symbol in symbols]\n",
    "    return formatted_symbols\n",
    "\n",
    "def filter_halal_df(data):\n",
    "    # Drop multiple coins\n",
    "    halal_symbols = ['BTC/USD', 'ETH/USD', 'LTC/USD']\n",
    "    data_filtered = data[data.index.get_level_values(\"coin\").isin(halal_symbols)]\n",
    "    return data_filtered"
   ]
  },
  {
   "cell_type": "code",
   "execution_count": null,
   "metadata": {},
   "outputs": [],
   "source": [
    "halal_symbols = get_halal_symbols()"
   ]
  },
  {
   "cell_type": "code",
   "execution_count": null,
   "metadata": {},
   "outputs": [],
   "source": [
    "formatted_halal_symbols = format_symbols(halal_symbols)"
   ]
  },
  {
   "cell_type": "code",
   "execution_count": 39,
   "metadata": {},
   "outputs": [],
   "source": [
    "@unsync\n",
    "def fetch_latest_data(symbols, timeframe, limit=2):\n",
    "    \"\"\"Fetch latest OHLCV data for multiple symbols and stack them into a single DataFrame.\"\"\"\n",
    "    \n",
    "    formatted_symbols = format_symbols(symbols)\n",
    "    \n",
    "    def fetch_symbol_data(symbol):\n",
    "        \"\"\"Fetch data for a single symbol and return a DataFrame.\"\"\"\n",
    "        try:\n",
    "            ohlcv = exchange.fetch_ohlcv(symbol, timeframe, limit=limit)\n",
    "            df = pd.DataFrame(ohlcv, columns=['timestamp', 'open', 'high', 'low', 'close', 'volume'])\n",
    "            df['timestamp'] = pd.to_datetime(df['timestamp'], unit='ms')\n",
    "            df.set_index('timestamp', inplace=True)\n",
    "            df['coin'] = symbol\n",
    "            return df\n",
    "        except Exception as e:\n",
    "            print(f\"Error fetching data for {symbol}: {e}\")\n",
    "            return pd.DataFrame()  # Return an empty DataFrame if fetching fails\n",
    "\n",
    "    # Use ThreadPoolExecutor for parallel requests\n",
    "    with ThreadPoolExecutor(max_workers=16) as executor:  # Adjust workers based on CPU\n",
    "        results = list(executor.map(fetch_symbol_data, formatted_symbols))\n",
    "\n",
    "    # Concatenate all DataFrames and set multi-level index\n",
    "    data_frames = [df for df in results if not df.empty]\n",
    "    if data_frames:\n",
    "        stacked_df = pd.concat(data_frames)\n",
    "        stacked_df.set_index('coin', append=True, inplace=True)\n",
    "        stacked_df = stacked_df[~stacked_df.index.duplicated()]  # Remove duplicates\n",
    "        df = data_instance.prepare_data(stacked_df.unstack())\n",
    "        df.reset_index(level = 1, inplace = True)\n",
    "        df['coin'] = df['coin'].str.replace('/USD', 'USDT', regex=False)\n",
    "        df.set_index('coin', append = True, inplace = True)\n",
    "        return df\n",
    "    else:\n",
    "        return pd.DataFrame()  # Return an empty DataFrame if no data"
   ]
  },
  {
   "cell_type": "code",
   "execution_count": 47,
   "metadata": {},
   "outputs": [],
   "source": [
    "# Example usage\n",
    "timeframe = '1h'\n",
    "latest = fetch_latest_data(symbols, timeframe).result()"
   ]
  },
  {
   "cell_type": "code",
   "execution_count": 48,
   "metadata": {},
   "outputs": [
    {
     "data": {
      "text/html": [
       "<div>\n",
       "<style scoped>\n",
       "    .dataframe tbody tr th:only-of-type {\n",
       "        vertical-align: middle;\n",
       "    }\n",
       "\n",
       "    .dataframe tbody tr th {\n",
       "        vertical-align: top;\n",
       "    }\n",
       "\n",
       "    .dataframe thead th {\n",
       "        text-align: right;\n",
       "    }\n",
       "</style>\n",
       "<table border=\"1\" class=\"dataframe\">\n",
       "  <thead>\n",
       "    <tr style=\"text-align: right;\">\n",
       "      <th></th>\n",
       "      <th></th>\n",
       "      <th>close</th>\n",
       "      <th>creturns</th>\n",
       "      <th>high</th>\n",
       "      <th>log_return</th>\n",
       "      <th>low</th>\n",
       "      <th>open</th>\n",
       "      <th>price</th>\n",
       "      <th>returns</th>\n",
       "      <th>volume</th>\n",
       "      <th>volume_in_dollars</th>\n",
       "    </tr>\n",
       "    <tr>\n",
       "      <th>date</th>\n",
       "      <th>coin</th>\n",
       "      <th></th>\n",
       "      <th></th>\n",
       "      <th></th>\n",
       "      <th></th>\n",
       "      <th></th>\n",
       "      <th></th>\n",
       "      <th></th>\n",
       "      <th></th>\n",
       "      <th></th>\n",
       "      <th></th>\n",
       "    </tr>\n",
       "  </thead>\n",
       "  <tbody>\n",
       "    <tr>\n",
       "      <th rowspan=\"2\" valign=\"top\">2025-01-15 05:00:00</th>\n",
       "      <th>BTCUSDT</th>\n",
       "      <td>97154.90</td>\n",
       "      <td>0.999998</td>\n",
       "      <td>97175.1</td>\n",
       "      <td>-0.000002</td>\n",
       "      <td>97154.90</td>\n",
       "      <td>97155.1</td>\n",
       "      <td>97154.90</td>\n",
       "      <td>-0.000002</td>\n",
       "      <td>5.232911</td>\n",
       "      <td>508402.973089</td>\n",
       "    </tr>\n",
       "    <tr>\n",
       "      <th>ETHUSDT</th>\n",
       "      <td>3224.43</td>\n",
       "      <td>0.999362</td>\n",
       "      <td>3226.5</td>\n",
       "      <td>-0.000639</td>\n",
       "      <td>3224.21</td>\n",
       "      <td>3226.5</td>\n",
       "      <td>3224.43</td>\n",
       "      <td>-0.000638</td>\n",
       "      <td>1.885036</td>\n",
       "      <td>6078.167016</td>\n",
       "    </tr>\n",
       "  </tbody>\n",
       "</table>\n",
       "</div>"
      ],
      "text/plain": [
       "                                close  creturns     high  log_return  \\\n",
       "date                coin                                               \n",
       "2025-01-15 05:00:00 BTCUSDT  97154.90  0.999998  97175.1   -0.000002   \n",
       "                    ETHUSDT   3224.43  0.999362   3226.5   -0.000639   \n",
       "\n",
       "                                  low     open     price   returns    volume  \\\n",
       "date                coin                                                       \n",
       "2025-01-15 05:00:00 BTCUSDT  97154.90  97155.1  97154.90 -0.000002  5.232911   \n",
       "                    ETHUSDT   3224.21   3226.5   3224.43 -0.000638  1.885036   \n",
       "\n",
       "                             volume_in_dollars  \n",
       "date                coin                        \n",
       "2025-01-15 05:00:00 BTCUSDT      508402.973089  \n",
       "                    ETHUSDT        6078.167016  "
      ]
     },
     "execution_count": 48,
     "metadata": {},
     "output_type": "execute_result"
    }
   ],
   "source": [
    "latest"
   ]
  },
  {
   "cell_type": "code",
   "execution_count": 56,
   "metadata": {},
   "outputs": [
    {
     "data": {
      "text/plain": [
       "Timestamp('2025-01-15 05:00:00')"
      ]
     },
     "execution_count": 56,
     "metadata": {},
     "output_type": "execute_result"
    }
   ],
   "source": [
    "latest.index.get_level_values(0).unique()[-1]"
   ]
  },
  {
   "cell_type": "code",
   "execution_count": 57,
   "metadata": {},
   "outputs": [],
   "source": [
    "# Append new data to CSV and maintain max length (asynchronous)\n",
    "@unsync\n",
    "def append_to_csv_with_limit(data, filename, max_rows=2202):\n",
    "    \"\"\"_summary_\n",
    "\n",
    "    Args:\n",
    "        data (_type_): _description_\n",
    "        filename (_type_): _description_\n",
    "        max_rows (int, optional): _description_. Defaults to 2202. Should be account for the max number of rows needed for any of the processes\n",
    "    \"\"\"\n",
    "    file_exists = os.path.isfile(filename)\n",
    "    df = pd.DataFrame(data)\n",
    "    \n",
    "    if file_exists:\n",
    "        existing_df = pd.read_csv(filename, index_col=['date', 'coin'], parse_dates=['date'])\n",
    "        if existing_df.index.get_level_values(0).unique()[-1] == latest.index.get_level_values(0).unique()[-1]:\n",
    "            return\n",
    "        combined_df = pd.concat([existing_df, df])\n",
    "        if len(combined_df) > max_rows:\n",
    "            combined_df = combined_df.iloc[-max_rows:]  # Keep only the last max_rows rows\n",
    "        combined_df.to_csv(filename)\n",
    "    else:\n",
    "        print('File does not exist')\n",
    "        df.to_csv(filename, mode='w', header=True)\n"
   ]
  },
  {
   "cell_type": "code",
   "execution_count": 58,
   "metadata": {},
   "outputs": [],
   "source": [
    "append_to_csv_with_limit(latest, 'market_data.csv', max_rows= (test_size + train_size) * 4).result()"
   ]
  },
  {
   "cell_type": "code",
   "execution_count": 41,
   "metadata": {},
   "outputs": [],
   "source": [
    "#Getting the data from csv\n",
    "def load_data_from_csv(filename, train_size = 2000, test_size = 2000):\n",
    "    if os.path.isfile(filename):\n",
    "        data = pd.read_csv(filename, index_col=['date', 'coin'], parse_dates=['date'])\n",
    "        if len(data) >= train_size + test_size:\n",
    "            return data\n",
    "    else:\n",
    "        return pd.DataFrame()"
   ]
  },
  {
   "cell_type": "code",
   "execution_count": 60,
   "metadata": {},
   "outputs": [],
   "source": [
    "data = load_data_from_csv('market_data.csv')"
   ]
  },
  {
   "cell_type": "code",
   "execution_count": 61,
   "metadata": {},
   "outputs": [
    {
     "data": {
      "text/html": [
       "<div>\n",
       "<style scoped>\n",
       "    .dataframe tbody tr th:only-of-type {\n",
       "        vertical-align: middle;\n",
       "    }\n",
       "\n",
       "    .dataframe tbody tr th {\n",
       "        vertical-align: top;\n",
       "    }\n",
       "\n",
       "    .dataframe thead th {\n",
       "        text-align: right;\n",
       "    }\n",
       "</style>\n",
       "<table border=\"1\" class=\"dataframe\">\n",
       "  <thead>\n",
       "    <tr style=\"text-align: right;\">\n",
       "      <th></th>\n",
       "      <th></th>\n",
       "      <th>close</th>\n",
       "      <th>creturns</th>\n",
       "      <th>high</th>\n",
       "      <th>log_return</th>\n",
       "      <th>low</th>\n",
       "      <th>open</th>\n",
       "      <th>price</th>\n",
       "      <th>returns</th>\n",
       "      <th>volume</th>\n",
       "      <th>volume_in_dollars</th>\n",
       "    </tr>\n",
       "    <tr>\n",
       "      <th>date</th>\n",
       "      <th>coin</th>\n",
       "      <th></th>\n",
       "      <th></th>\n",
       "      <th></th>\n",
       "      <th></th>\n",
       "      <th></th>\n",
       "      <th></th>\n",
       "      <th></th>\n",
       "      <th></th>\n",
       "      <th></th>\n",
       "      <th></th>\n",
       "    </tr>\n",
       "  </thead>\n",
       "  <tbody>\n",
       "    <tr>\n",
       "      <th rowspan=\"2\" valign=\"top\">2024-09-30 01:00:00</th>\n",
       "      <th>BTCUSDT</th>\n",
       "      <td>64769.99</td>\n",
       "      <td>0.989401</td>\n",
       "      <td>65544.00</td>\n",
       "      <td>-0.010656</td>\n",
       "      <td>64699.98</td>\n",
       "      <td>65463.86</td>\n",
       "      <td>64769.99</td>\n",
       "      <td>-0.010599</td>\n",
       "      <td>1424.060870</td>\n",
       "      <td>9.223641e+07</td>\n",
       "    </tr>\n",
       "    <tr>\n",
       "      <th>ETHUSDT</th>\n",
       "      <td>2615.17</td>\n",
       "      <td>0.987348</td>\n",
       "      <td>2655.80</td>\n",
       "      <td>-0.012732</td>\n",
       "      <td>2613.50</td>\n",
       "      <td>2648.68</td>\n",
       "      <td>2615.17</td>\n",
       "      <td>-0.012652</td>\n",
       "      <td>17982.982100</td>\n",
       "      <td>4.702856e+07</td>\n",
       "    </tr>\n",
       "    <tr>\n",
       "      <th rowspan=\"2\" valign=\"top\">2024-09-30 02:00:00</th>\n",
       "      <th>BTCUSDT</th>\n",
       "      <td>64376.01</td>\n",
       "      <td>0.983383</td>\n",
       "      <td>64810.00</td>\n",
       "      <td>-0.006101</td>\n",
       "      <td>64335.36</td>\n",
       "      <td>64769.99</td>\n",
       "      <td>64376.01</td>\n",
       "      <td>-0.006083</td>\n",
       "      <td>1652.436740</td>\n",
       "      <td>1.063773e+08</td>\n",
       "    </tr>\n",
       "    <tr>\n",
       "      <th>ETHUSDT</th>\n",
       "      <td>2613.27</td>\n",
       "      <td>0.986631</td>\n",
       "      <td>2622.00</td>\n",
       "      <td>-0.000727</td>\n",
       "      <td>2601.12</td>\n",
       "      <td>2615.17</td>\n",
       "      <td>2613.27</td>\n",
       "      <td>-0.000727</td>\n",
       "      <td>17612.894800</td>\n",
       "      <td>4.602725e+07</td>\n",
       "    </tr>\n",
       "    <tr>\n",
       "      <th>2024-09-30 03:00:00</th>\n",
       "      <th>BTCUSDT</th>\n",
       "      <td>64553.68</td>\n",
       "      <td>0.986097</td>\n",
       "      <td>64580.34</td>\n",
       "      <td>0.002756</td>\n",
       "      <td>64190.00</td>\n",
       "      <td>64376.01</td>\n",
       "      <td>64553.68</td>\n",
       "      <td>0.002760</td>\n",
       "      <td>1817.790780</td>\n",
       "      <td>1.173451e+08</td>\n",
       "    </tr>\n",
       "    <tr>\n",
       "      <th>...</th>\n",
       "      <th>...</th>\n",
       "      <td>...</td>\n",
       "      <td>...</td>\n",
       "      <td>...</td>\n",
       "      <td>...</td>\n",
       "      <td>...</td>\n",
       "      <td>...</td>\n",
       "      <td>...</td>\n",
       "      <td>...</td>\n",
       "      <td>...</td>\n",
       "      <td>...</td>\n",
       "    </tr>\n",
       "    <tr>\n",
       "      <th>2025-01-15 03:00:00</th>\n",
       "      <th>ETHUSDT</th>\n",
       "      <td>3236.99</td>\n",
       "      <td>1.004425</td>\n",
       "      <td>3236.99</td>\n",
       "      <td>0.007847</td>\n",
       "      <td>3207.43</td>\n",
       "      <td>3211.69</td>\n",
       "      <td>3236.99</td>\n",
       "      <td>0.007877</td>\n",
       "      <td>575.363653</td>\n",
       "      <td>1.862446e+06</td>\n",
       "    </tr>\n",
       "    <tr>\n",
       "      <th rowspan=\"2\" valign=\"top\">2025-01-15 04:00:00</th>\n",
       "      <th>BTCUSDT</th>\n",
       "      <td>97155.10</td>\n",
       "      <td>1.006162</td>\n",
       "      <td>97600.00</td>\n",
       "      <td>-0.000461</td>\n",
       "      <td>97100.00</td>\n",
       "      <td>97200.00</td>\n",
       "      <td>97155.10</td>\n",
       "      <td>-0.000461</td>\n",
       "      <td>54.336455</td>\n",
       "      <td>5.279064e+06</td>\n",
       "    </tr>\n",
       "    <tr>\n",
       "      <th>ETHUSDT</th>\n",
       "      <td>3226.49</td>\n",
       "      <td>1.001167</td>\n",
       "      <td>3248.37</td>\n",
       "      <td>-0.003249</td>\n",
       "      <td>3222.31</td>\n",
       "      <td>3236.99</td>\n",
       "      <td>3226.49</td>\n",
       "      <td>-0.003244</td>\n",
       "      <td>175.828958</td>\n",
       "      <td>5.673104e+05</td>\n",
       "    </tr>\n",
       "    <tr>\n",
       "      <th rowspan=\"2\" valign=\"top\">2025-01-15 05:00:00</th>\n",
       "      <th>BTCUSDT</th>\n",
       "      <td>97154.90</td>\n",
       "      <td>1.006160</td>\n",
       "      <td>97175.10</td>\n",
       "      <td>-0.000002</td>\n",
       "      <td>97154.90</td>\n",
       "      <td>97155.10</td>\n",
       "      <td>97154.90</td>\n",
       "      <td>-0.000002</td>\n",
       "      <td>5.232911</td>\n",
       "      <td>5.084030e+05</td>\n",
       "    </tr>\n",
       "    <tr>\n",
       "      <th>ETHUSDT</th>\n",
       "      <td>3224.43</td>\n",
       "      <td>1.000528</td>\n",
       "      <td>3226.50</td>\n",
       "      <td>-0.000639</td>\n",
       "      <td>3224.21</td>\n",
       "      <td>3226.50</td>\n",
       "      <td>3224.43</td>\n",
       "      <td>-0.000638</td>\n",
       "      <td>1.885036</td>\n",
       "      <td>6.078167e+03</td>\n",
       "    </tr>\n",
       "  </tbody>\n",
       "</table>\n",
       "<p>5146 rows × 10 columns</p>\n",
       "</div>"
      ],
      "text/plain": [
       "                                close  creturns      high  log_return  \\\n",
       "date                coin                                                \n",
       "2024-09-30 01:00:00 BTCUSDT  64769.99  0.989401  65544.00   -0.010656   \n",
       "                    ETHUSDT   2615.17  0.987348   2655.80   -0.012732   \n",
       "2024-09-30 02:00:00 BTCUSDT  64376.01  0.983383  64810.00   -0.006101   \n",
       "                    ETHUSDT   2613.27  0.986631   2622.00   -0.000727   \n",
       "2024-09-30 03:00:00 BTCUSDT  64553.68  0.986097  64580.34    0.002756   \n",
       "...                               ...       ...       ...         ...   \n",
       "2025-01-15 03:00:00 ETHUSDT   3236.99  1.004425   3236.99    0.007847   \n",
       "2025-01-15 04:00:00 BTCUSDT  97155.10  1.006162  97600.00   -0.000461   \n",
       "                    ETHUSDT   3226.49  1.001167   3248.37   -0.003249   \n",
       "2025-01-15 05:00:00 BTCUSDT  97154.90  1.006160  97175.10   -0.000002   \n",
       "                    ETHUSDT   3224.43  1.000528   3226.50   -0.000639   \n",
       "\n",
       "                                  low      open     price   returns  \\\n",
       "date                coin                                              \n",
       "2024-09-30 01:00:00 BTCUSDT  64699.98  65463.86  64769.99 -0.010599   \n",
       "                    ETHUSDT   2613.50   2648.68   2615.17 -0.012652   \n",
       "2024-09-30 02:00:00 BTCUSDT  64335.36  64769.99  64376.01 -0.006083   \n",
       "                    ETHUSDT   2601.12   2615.17   2613.27 -0.000727   \n",
       "2024-09-30 03:00:00 BTCUSDT  64190.00  64376.01  64553.68  0.002760   \n",
       "...                               ...       ...       ...       ...   \n",
       "2025-01-15 03:00:00 ETHUSDT   3207.43   3211.69   3236.99  0.007877   \n",
       "2025-01-15 04:00:00 BTCUSDT  97100.00  97200.00  97155.10 -0.000461   \n",
       "                    ETHUSDT   3222.31   3236.99   3226.49 -0.003244   \n",
       "2025-01-15 05:00:00 BTCUSDT  97154.90  97155.10  97154.90 -0.000002   \n",
       "                    ETHUSDT   3224.21   3226.50   3224.43 -0.000638   \n",
       "\n",
       "                                   volume  volume_in_dollars  \n",
       "date                coin                                      \n",
       "2024-09-30 01:00:00 BTCUSDT   1424.060870       9.223641e+07  \n",
       "                    ETHUSDT  17982.982100       4.702856e+07  \n",
       "2024-09-30 02:00:00 BTCUSDT   1652.436740       1.063773e+08  \n",
       "                    ETHUSDT  17612.894800       4.602725e+07  \n",
       "2024-09-30 03:00:00 BTCUSDT   1817.790780       1.173451e+08  \n",
       "...                                   ...                ...  \n",
       "2025-01-15 03:00:00 ETHUSDT    575.363653       1.862446e+06  \n",
       "2025-01-15 04:00:00 BTCUSDT     54.336455       5.279064e+06  \n",
       "                    ETHUSDT    175.828958       5.673104e+05  \n",
       "2025-01-15 05:00:00 BTCUSDT      5.232911       5.084030e+05  \n",
       "                    ETHUSDT      1.885036       6.078167e+03  \n",
       "\n",
       "[5146 rows x 10 columns]"
      ]
     },
     "execution_count": 61,
     "metadata": {},
     "output_type": "execute_result"
    }
   ],
   "source": [
    "data"
   ]
  },
  {
   "cell_type": "markdown",
   "metadata": {},
   "source": [
    "### Portfolio Management"
   ]
  },
  {
   "cell_type": "markdown",
   "metadata": {},
   "source": [
    "Should be ran every time we want to optimize"
   ]
  },
  {
   "cell_type": "code",
   "execution_count": 62,
   "metadata": {},
   "outputs": [],
   "source": [
    "mr_strat_1 = Last_Days_Low(data, objective = 'multiple', train_size = train_size, test_size = test_size, step_size = train_size)\n",
    "tf_strat_1 = Sprtrnd_Breakout(data, objective = 'multiple', train_size = train_size, test_size = test_size, step_size = train_size)\n",
    "\n",
    "#Create a dummy results that represents holding cash where the value of the portfolio is constant\n",
    "cash_df = pd.DataFrame(data = {'strategy': np.zeros(data.shape[0]), 'portfolio_value': np.ones(data.shape[0])}, index = data.index)\n",
    "\n",
    "strategy_map = {'cash_strat': cash_df,\n",
    "                'mr_strat_1': mr_strat_1,\n",
    "                'tf_strat_1': tf_strat_1}"
   ]
  },
  {
   "cell_type": "code",
   "execution_count": null,
   "metadata": {},
   "outputs": [],
   "source": [
    "#Run the WFO for each strategy (but the cash strategy)\n",
    "for key, value in strategy_map.items():\n",
    "    if key != 'cash_strat':\n",
    "        value.test()"
   ]
  },
  {
   "cell_type": "code",
   "execution_count": null,
   "metadata": {},
   "outputs": [],
   "source": [
    "#Make a new dictionary that contains the results strategy returns of the WFO\n",
    "results_strategy_returns = {}\n",
    "for key, value in strategy_map.items():\n",
    "    if key != 'cash_strat':\n",
    "        results_strategy_returns[key] = value.results.strategy\n",
    "    elif key == 'cash_strat':\n",
    "        results_strategy_returns[key] = value.strategy"
   ]
  },
  {
   "cell_type": "code",
   "execution_count": 73,
   "metadata": {},
   "outputs": [],
   "source": [
    "portfolio_management = Portfolio_Management(results_strategy_returns)"
   ]
  },
  {
   "cell_type": "code",
   "execution_count": 74,
   "metadata": {},
   "outputs": [],
   "source": [
    "keys_for_selected_strategy = portfolio_management.filter_by_correlation(low_corr_threshold=1).columns"
   ]
  },
  {
   "cell_type": "code",
   "execution_count": 75,
   "metadata": {},
   "outputs": [],
   "source": [
    "selected_strategy = {key: value for key, value in strategy_map.items() if key in keys_for_selected_strategy}"
   ]
  },
  {
   "cell_type": "markdown",
   "metadata": {},
   "source": [
    "Putting All together"
   ]
  },
  {
   "cell_type": "code",
   "execution_count": 1,
   "metadata": {},
   "outputs": [],
   "source": [
    "def run_wfo_and_get_results_returns(strategy_map):\n",
    "    \"\"\"_summary_\n",
    "    Takes the strategy map, runs the WFO for each strategy and returns the results of the strategy returns after the WFO.\n",
    "    It also adds the df of the strategy returns to a csv file\n",
    "\n",
    "    Args:\n",
    "        strategy_map (_type_): _description_\n",
    "\n",
    "    Returns:\n",
    "        results_strategy_returns (_type_): _description_ the results of the strategy returns after the WFO\n",
    "    \"\"\"\n",
    "    #Run the WFO for each strategy (but the cash strategy)\n",
    "    for key, value in strategy_map.items():\n",
    "        if key != 'cash_strat':\n",
    "            value.test()\n",
    "            \n",
    "    #Make a new dictionary that contains the results strategy returns of the WFO\n",
    "    results_strategy_returns = {}\n",
    "    for key, value in strategy_map.items():\n",
    "        if key != 'cash_strat':\n",
    "            results_strategy_returns[key] = value.results.strategy\n",
    "        elif key == 'cash_strat':\n",
    "            results_strategy_returns[key] = value.strategy\n",
    "            \n",
    "    #Get the strategy returns df\n",
    "    strategy_returns_df = pd.concat(results_strategy_returns, axis = 1).fillna(0)\n",
    "    strategy_returns_df.to_csv('strategy_returns.csv')\n",
    "    \n",
    "    return results_strategy_returns"
   ]
  },
  {
   "cell_type": "code",
   "execution_count": 7,
   "metadata": {},
   "outputs": [],
   "source": [
    "def perform_portfolio_management(strategy_map, low_corr_threshold = 1):\n",
    "    \"\"\"_summary_\n",
    "\n",
    "    Args:\n",
    "        strategy_map (_type_): _description_\n",
    "        low_corr_threshold (int, optional): _description_. Defaults to 1.\n",
    "    \"\"\"\n",
    "    results_strategy_returns = run_wfo_and_get_results_returns(strategy_map)\n",
    "\n",
    "    portfolio_management = Portfolio_Management(results_strategy_returns)\n",
    "\n",
    "    keys_for_selected_strategy = portfolio_management.filter_by_correlation(low_corr_threshold=low_corr_threshold).columns\n",
    "\n",
    "    selected_strategy = {key: value for key, value in strategy_map.items() if key in keys_for_selected_strategy}\n",
    "\n",
    "    return selected_strategy"
   ]
  },
  {
   "cell_type": "code",
   "execution_count": null,
   "metadata": {},
   "outputs": [],
   "source": [
    "perform_portfolio_management(strategy_map)"
   ]
  },
  {
   "cell_type": "markdown",
   "metadata": {},
   "source": [
    "### Strategy Optimization"
   ]
  },
  {
   "cell_type": "code",
   "execution_count": 12,
   "metadata": {},
   "outputs": [],
   "source": [
    "counter_opt = 0\n",
    "counter_reb = 0 "
   ]
  },
  {
   "cell_type": "code",
   "execution_count": null,
   "metadata": {},
   "outputs": [],
   "source": [
    "#Run the optimization to get the strategy parameters\n",
    "for key, value in strategy_map.items():\n",
    "    if key != 'cash_strat':\n",
    "        value.optimize()"
   ]
  },
  {
   "cell_type": "code",
   "execution_count": 12,
   "metadata": {},
   "outputs": [],
   "source": [
    "#Storing the best_params for each strategy in a separate dictionary\n",
    "best_params = {key: value.best_params for key, value in strategy_map.items() if key != 'cash_strat'}"
   ]
  },
  {
   "cell_type": "code",
   "execution_count": null,
   "metadata": {},
   "outputs": [],
   "source": [
    "best_params"
   ]
  },
  {
   "cell_type": "markdown",
   "metadata": {},
   "source": [
    "Putting all together"
   ]
  },
  {
   "cell_type": "code",
   "execution_count": null,
   "metadata": {},
   "outputs": [],
   "source": [
    "counter_opt = 0\n",
    "counter_reb = 0 "
   ]
  },
  {
   "cell_type": "code",
   "execution_count": null,
   "metadata": {},
   "outputs": [],
   "source": [
    "def perform_optimization(strategy_map):\n",
    "    \"\"\"_summary_\n",
    "\n",
    "    Args:\n",
    "        strategy_map (_type_): _description_\n",
    "    \"\"\"\n",
    "\n",
    "    #Run the optimization to get the strategy parameters\n",
    "    for key, value in strategy_map.items():\n",
    "        if key != 'cash_strat':\n",
    "            value.optimize()\n",
    "\n",
    "    #Storing the best_params for each strategy in a separate dictionary\n",
    "    best_params = {key: value.best_params for key, value in strategy_map.items() if key != 'cash_strat'}\n",
    "\n",
    "    return best_params"
   ]
  },
  {
   "cell_type": "markdown",
   "metadata": {},
   "source": [
    "### Portfolio Optimization"
   ]
  },
  {
   "cell_type": "code",
   "execution_count": null,
   "metadata": {},
   "outputs": [],
   "source": [
    "#Run the WFO for each strategy (but the cash strategy)\n",
    "for key, value in strategy_map.items():\n",
    "    if key != 'cash_strat':\n",
    "        value.test()"
   ]
  },
  {
   "cell_type": "code",
   "execution_count": 15,
   "metadata": {},
   "outputs": [],
   "source": [
    "#Make a new dictionary that contains the results strategy returns of the WFO\n",
    "results_strategy_returns = {}\n",
    "for key, value in strategy_map.items():\n",
    "    if key != 'cash_strat':\n",
    "        results_strategy_returns[key] = value.results.strategy\n",
    "    elif key == 'cash_strat':\n",
    "        results_strategy_returns[key] = value.strategy"
   ]
  },
  {
   "cell_type": "code",
   "execution_count": 16,
   "metadata": {},
   "outputs": [],
   "source": [
    "#Get the strategy returns df\n",
    "strategy_returns_df = pd.concat(results_strategy_returns, axis = 1).fillna(0)"
   ]
  },
  {
   "cell_type": "code",
   "execution_count": 17,
   "metadata": {},
   "outputs": [],
   "source": [
    "#Get portfolio optimization instance\n",
    "portfolio_optimization_instance = Portfolio_Optimization(log_rets = strategy_returns_df, train_size = 1000, test_size = 1000, step_size = 1000, objective = 'multiple')"
   ]
  },
  {
   "cell_type": "code",
   "execution_count": null,
   "metadata": {},
   "outputs": [],
   "source": [
    "#Run the optimization\n",
    "train_data = strategy_returns_df.iloc[-train_size:]\n",
    "train_data"
   ]
  },
  {
   "cell_type": "code",
   "execution_count": null,
   "metadata": {},
   "outputs": [],
   "source": [
    "best_weights = portfolio_optimization_instance.optimize_weights_minimize(train_data)\n",
    "best_weights"
   ]
  },
  {
   "cell_type": "markdown",
   "metadata": {},
   "source": [
    "Putting all together"
   ]
  },
  {
   "cell_type": "code",
   "execution_count": 28,
   "metadata": {},
   "outputs": [],
   "source": [
    "def perform_portfolio_optimization(strategy_map, train_size = 1000, test_size = 1000, step_size = 1000):\n",
    "    \"\"\"_summary_\n",
    "\n",
    "    Args:\n",
    "        strategy_returns_df (_type_): _description_\n",
    "        train_size (int, optional): _description_. Defaults to 1000.\n",
    "        test_size (int, optional): _description_. Defaults to 1000.\n",
    "        step_size (int, optional): _description_. Defaults to 1000.\n",
    "    \"\"\"\n",
    "    results_strategy_returns = run_wfo_and_get_results_returns(strategy_map)\n",
    "    \n",
    "    #Get portfolio optimization instance\n",
    "    portfolio_optimization_instance = Portfolio_Optimization(log_rets = results_strategy_returns, train_size = train_size, test_size = test_size, step_size = step_size, objective = 'multiple')\n",
    "\n",
    "    #Run the optimization\n",
    "    train_data = strategy_returns_df.iloc[-train_size:]\n",
    "    best_weights = portfolio_optimization_instance.optimize_weights_minimize(train_data)\n",
    "\n",
    "    return best_weights"
   ]
  },
  {
   "cell_type": "markdown",
   "metadata": {},
   "source": [
    "### Portfolio Risk Management"
   ]
  },
  {
   "cell_type": "code",
   "execution_count": 38,
   "metadata": {},
   "outputs": [
    {
     "data": {
      "text/plain": [
       "33.3"
      ]
     },
     "execution_count": 38,
     "metadata": {},
     "output_type": "execute_result"
    }
   ],
   "source": [
    "#Get the current_total_balance\n",
    "current_total_balance = get_portfolio_value(exchange)\n",
    "current_total_balance"
   ]
  },
  {
   "cell_type": "code",
   "execution_count": null,
   "metadata": {},
   "outputs": [],
   "source": [
    "#Store the max allocation for each strategy in a dictionary\n",
    "max_allocation_map = {\n",
    "    key: best_weights[i] * current_total_balance / strategy.max_universe\n",
    "    for i, (key, strategy) in enumerate(selected_strategy.items())\n",
    "    if i < len(best_weights) and best_weights[i] > 0 and key != 'cash_strat'\n",
    "}\n",
    "\n",
    "max_allocation_map"
   ]
  },
  {
   "cell_type": "code",
   "execution_count": 41,
   "metadata": {},
   "outputs": [],
   "source": [
    "#Rebuild the strategy map, with the updated max_allocation for each strategy\n",
    "for key, value in selected_strategy.items():\n",
    "    if key != 'cash_strat':\n",
    "        value.max_dollar_allocation = max_allocation_map[key]"
   ]
  },
  {
   "cell_type": "code",
   "execution_count": null,
   "metadata": {},
   "outputs": [],
   "source": [
    "#Run each strategy on enough data points and get the total portfolio value\n",
    "length_of_data_to_run_strategy = step_size #This is because we are going to be using the parameters that were optimized on the last step\n",
    "    #And thus taking into account the data with the same parameters of a previoused optimized period would be incorrect because markets may have changed\n",
    "data_to_run_strategy = data.iloc[-length_of_data_to_run_strategy:]\n",
    "\n",
    "current_strategy_returns = {\n",
    "    key: value.trading_strategy(data_to_run_strategy, best_params[key])\n",
    "    for key, value in selected_strategy.items()\n",
    "    if key != 'cash_strat'\n",
    "}"
   ]
  },
  {
   "cell_type": "code",
   "execution_count": null,
   "metadata": {},
   "outputs": [],
   "source": [
    "current_strategy_returns_df = pd.concat(current_strategy_returns, axis = 1).fillna(0)"
   ]
  },
  {
   "cell_type": "code",
   "execution_count": null,
   "metadata": {},
   "outputs": [],
   "source": [
    "portfolio_returns = np.dot(best_weights, current_strategy_returns_df.T)"
   ]
  },
  {
   "cell_type": "code",
   "execution_count": null,
   "metadata": {},
   "outputs": [],
   "source": [
    "portfolio_rm_instance = Portfolio_RM(portfolio_returns)"
   ]
  },
  {
   "cell_type": "code",
   "execution_count": null,
   "metadata": {},
   "outputs": [],
   "source": [
    "drawdown_limit, in_drawdown = portfolio_rm_instance.drawdown_limit(-0.15)"
   ]
  },
  {
   "cell_type": "code",
   "execution_count": null,
   "metadata": {},
   "outputs": [],
   "source": [
    "if in_drawdown.iloc[-1]:\n",
    "    #Liquidate the portfolio\n",
    "    symbols_to_liquidate = current_strategy_returns_df.index.get_level_values(1).unique()[-1]\n",
    "    liquidate(symbols_to_liquidate, exchange)\n",
    "    #return True"
   ]
  },
  {
   "cell_type": "markdown",
   "metadata": {},
   "source": [
    "Putting all_together"
   ]
  },
  {
   "cell_type": "code",
   "execution_count": null,
   "metadata": {},
   "outputs": [],
   "source": [
    "def perform_portfolio_rm(best_weights, exchange, drawdown_threshold = -0.15):\n",
    "    \"\"\"_summary_\"\"\"\n",
    "    current_strategy_returns_df = pd.read_csv('strategy_returns.csv')\n",
    "\n",
    "    portfolio_returns = np.dot(best_weights, current_strategy_returns_df.T)\n",
    "\n",
    "    portfolio_rm_instance = Portfolio_RM(portfolio_returns)\n",
    "\n",
    "    drawdown_limit, in_drawdown = portfolio_rm_instance.drawdown_limit(drawdown_threshold)\n",
    "\n",
    "    if in_drawdown.iloc[-1]:\n",
    "        #Liquidate the portfolio\n",
    "        print(f'Liquidating the portfolio because in_drawdown in {in_drawdown.iloc[-1]}')\n",
    "        symbols_to_liquidate = symbols_in_current_balance(exchange)\n",
    "        liquidate(symbols_to_liquidate, exchange)\n",
    "        return True\n",
    "    else :\n",
    "        print(f'Portfolio is not in drawdown because in drawdown is {in_drawdown.iloc[-1]}')\n",
    "        return False"
   ]
  },
  {
   "cell_type": "markdown",
   "metadata": {},
   "source": [
    "### Taking Positions"
   ]
  },
  {
   "cell_type": "code",
   "execution_count": null,
   "metadata": {},
   "outputs": [],
   "source": [
    "#Get the current_total_balance\n",
    "current_total_balance = get_portfolio_value(exchange)\n",
    "current_total_balance"
   ]
  },
  {
   "cell_type": "code",
   "execution_count": null,
   "metadata": {},
   "outputs": [],
   "source": [
    "#Store the max allocation for each strategy in a dictionary\n",
    "max_allocation_map = {\n",
    "    key: best_weights[i] * current_total_balance / strategy.max_universe\n",
    "    for i, (key, strategy) in enumerate(selected_strategy.items())\n",
    "    if i < len(best_weights) and best_weights[i] > 0 and key != 'cash_strat'\n",
    "}\n",
    "\n",
    "max_allocation_map"
   ]
  },
  {
   "cell_type": "code",
   "execution_count": null,
   "metadata": {},
   "outputs": [],
   "source": [
    "#Rebuild the strategy map, with the updated max_allocation for each strategy\n",
    "for key, value in selected_strategy.items():\n",
    "    if key != 'cash_strat':\n",
    "        value.max_dollar_allocation = max_allocation_map[key]"
   ]
  },
  {
   "cell_type": "code",
   "execution_count": null,
   "metadata": {},
   "outputs": [],
   "source": [
    "timeframe = '1h'\n",
    "latest = fetch_latest_data(all_symbols, timeframe).result()"
   ]
  },
  {
   "cell_type": "code",
   "execution_count": null,
   "metadata": {},
   "outputs": [],
   "source": [
    "append_to_csv_with_limit(latest, 'market_data.csv').result()"
   ]
  },
  {
   "cell_type": "code",
   "execution_count": null,
   "metadata": {},
   "outputs": [],
   "source": [
    "data = load_data_from_csv('market_data.csv')"
   ]
  },
  {
   "cell_type": "code",
   "execution_count": 3,
   "metadata": {},
   "outputs": [],
   "source": [
    "#Run each strategy on enough data points and get the total portfolio value\n",
    "length_of_data_to_run_strategy = 100 #This does not have to do with anything with test_size or train_size,\n",
    "    #but it is better to be equal to the test_size because we want get the latest returns of the strategy with the latest best_params to get the current strategy returns"
   ]
  },
  {
   "cell_type": "code",
   "execution_count": null,
   "metadata": {},
   "outputs": [],
   "source": [
    "data_to_run_strategy = data.iloc[-length_of_data_to_run_strategy:]"
   ]
  },
  {
   "cell_type": "code",
   "execution_count": null,
   "metadata": {},
   "outputs": [],
   "source": [
    "current_strategy_results = {\n",
    "    key: value.trading_strategy(data_to_run_strategy, best_params[key])\n",
    "    for key, value in selected_strategy.items()\n",
    "    if key != 'cash_strat'\n",
    "}"
   ]
  },
  {
   "cell_type": "code",
   "execution_count": null,
   "metadata": {},
   "outputs": [],
   "source": [
    "current_allocation_strategy_map = {\n",
    "    key: value['current_allocation']\n",
    "    for key, value in selected_strategy.items()\n",
    "    if key != 'cash_strat'\n",
    "}"
   ]
  },
  {
   "cell_type": "code",
   "execution_count": null,
   "metadata": {},
   "outputs": [],
   "source": [
    "current_allocation_results_df = pd.concat(current_allocation_strategy_map, axis=1).fillna(0).sum(axis=1)"
   ]
  },
  {
   "cell_type": "code",
   "execution_count": null,
   "metadata": {},
   "outputs": [],
   "source": [
    "current_allocation = get_last_row(current_allocation_results_df)"
   ]
  },
  {
   "cell_type": "code",
   "execution_count": null,
   "metadata": {},
   "outputs": [],
   "source": [
    "current_universe = list(\n",
    "    set(\n",
    "        value.current_universe\n",
    "        for value in selected_strategy.values()\n",
    "        if key != 'cash_strat'\n",
    "    )\n",
    ")"
   ]
  },
  {
   "cell_type": "code",
   "execution_count": null,
   "metadata": {},
   "outputs": [],
   "source": [
    "# This will be used to plot the current portfolio \n",
    "portfolio_returns = np.dot(best_weights, current_strategy_returns_df.T)\n",
    "portfolio_cumulative_returns = portfolio_returns.cumsum().apply(np.exp)\n",
    "portfolio_cumulative_returns.plot()"
   ]
  },
  {
   "cell_type": "code",
   "execution_count": null,
   "metadata": {},
   "outputs": [],
   "source": [
    "symbols_in_current_balance = symbols_in_current_balance(exchange)"
   ]
  },
  {
   "cell_type": "code",
   "execution_count": null,
   "metadata": {},
   "outputs": [],
   "source": [
    "# Find symbols in current balance but not in current universe\n",
    "symbols_not_in_universe = [symbol for symbol in symbols_in_current_balance if symbol not in current_universe]\n",
    "\n",
    "# Liquidate the symbols not in the current universe\n",
    "liquidate(symbols_not_in_universe, exchange)"
   ]
  },
  {
   "cell_type": "code",
   "execution_count": null,
   "metadata": {},
   "outputs": [],
   "source": [
    "def get_coin_balance(coin):\n",
    "    try:\n",
    "        balance = exchange.fetch_balance()\n",
    "        coin_balance = balance['total'][coin]\n",
    "        return coin_balance\n",
    "    except Exception as e:\n",
    "        print(f\"Error fetching balance for {coin}: {e}\")\n",
    "        return None"
   ]
  },
  {
   "cell_type": "code",
   "execution_count": null,
   "metadata": {},
   "outputs": [],
   "source": [
    "def get_coin_allocation(coin, current_allocation_latest_row):\n",
    "    return current_allocation_latest_row.loc[(slice(None), coin), :][-1]"
   ]
  },
  {
   "cell_type": "code",
   "execution_count": null,
   "metadata": {},
   "outputs": [],
   "source": [
    "for coin in current_universe:\n",
    "    formatted_coin = coin.replace('USDT', '')\n",
    "    coin_balance = get_coin_balance(formatted_coin)\n",
    "    current_coin_allocation = get_coin_allocation(coin)\n",
    "    \n",
    "    to_add = current_coin_allocation - coin_balance\n",
    "    \n",
    "    if to_add > 0:\n",
    "        print(f\"Adding {to_add} {formatted_coin} to the portfolio...\")\n",
    "        buy(to_add, coin, exchange)\n",
    "    elif to_add < 0:\n",
    "        print(f\"Selling {-to_add} {formatted_coin} from the portfolio...\")\n",
    "        sell(-to_add, coin, exchange)"
   ]
  },
  {
   "cell_type": "markdown",
   "metadata": {},
   "source": [
    "Putting Everything Together"
   ]
  },
  {
   "cell_type": "code",
   "execution_count": null,
   "metadata": {},
   "outputs": [],
   "source": [
    "def run_strategy(exchange, halal_symbols, selected_strategy, best_params, best_weights, timeframe = '1h'):\n",
    "    #Get the current_total_balance\n",
    "    current_total_balance = get_portfolio_value(exchange)\n",
    "\n",
    "    #Store the max allocation for each strategy in a dictionary\n",
    "    max_allocation_map = {\n",
    "        key: best_weights[i] * current_total_balance / strategy.max_universe\n",
    "        for i, (key, strategy) in enumerate(selected_strategy.items())\n",
    "        if i < len(best_weights) and best_weights[i] > 0 and key != 'cash_strat'\n",
    "    }\n",
    "\n",
    "    #Rebuild the strategy map, with the updated max_allocation for each strategy\n",
    "    for key, value in selected_strategy.items():\n",
    "        if key != 'cash_strat':\n",
    "            value.max_dollar_allocation = max_allocation_map[key]\n",
    "            \n",
    "    \n",
    "    timeframe = timeframe\n",
    "    latest = fetch_latest_data(halal_symbols, timeframe).result()\n",
    "    append_to_csv_with_limit(latest, 'market_data.csv').result()\n",
    "    data = load_data_from_csv('market_data.csv')\n",
    "    \n",
    "    \n",
    "    #Run each strategy on enough data points and get the total portfolio value\n",
    "    length_of_data_to_run_strategy = 100 #This does not have to do with anything with test_size or train_size,\n",
    "        #but it is better to be equal to the test_size because we want get the latest returns of the strategy with the latest best_params to get the current strategy returns\n",
    "    data_to_run_strategy = data.iloc[-length_of_data_to_run_strategy:]\n",
    "    \n",
    "    current_strategy_results = {\n",
    "        key: value.trading_strategy(data_to_run_strategy, best_params[key])\n",
    "        for key, value in selected_strategy.items()\n",
    "        if key != 'cash_strat'\n",
    "    }\n",
    "    \n",
    "    current_allocation_strategy_map = {\n",
    "        key: value['current_allocation']\n",
    "        for key, value in current_strategy_results.items()\n",
    "        if key != 'cash_strat'\n",
    "    }\n",
    "    \n",
    "    current_allocation_results_df = pd.concat(current_allocation_strategy_map, axis=1).fillna(0).sum(axis=1)\n",
    "    \n",
    "    current_allocation = get_last_row(current_allocation_results_df)\n",
    "    \n",
    "    current_universe = list(\n",
    "        set(\n",
    "            value.current_universe\n",
    "            for value in selected_strategy.values()\n",
    "            if key != 'cash_strat'\n",
    "        )\n",
    "    )\n",
    "\n",
    "    symbols_in_current_balance = symbols_in_current_balance(exchange)\n",
    "    # Find symbols in current balance but not in current universe\n",
    "    symbols_not_in_universe = [symbol for symbol in symbols_in_current_balance if symbol not in current_universe]\n",
    "\n",
    "    # Liquidate the symbols not in the current universe\n",
    "    print(f\"Liquidating {symbols_not_in_universe}...\")\n",
    "    liquidate(symbols_not_in_universe, exchange)\n",
    "    print(\"Liquidation complete.\")\n",
    "\n",
    "    for coin in current_universe:\n",
    "        formatted_coin = coin.replace('USDT', '')\n",
    "        coin_balance = get_coin_balance(formatted_coin)\n",
    "        current_coin_allocation = get_coin_allocation(coin, current_allocation)\n",
    "        \n",
    "        to_add = current_coin_allocation - coin_balance\n",
    "        \n",
    "        if to_add > 0:\n",
    "            print(f\"Adding {to_add} {formatted_coin} to the portfolio...\")\n",
    "            buy(to_add, coin, exchange)\n",
    "        elif to_add < 0:\n",
    "            print(f\"Selling {-to_add} {formatted_coin} from the portfolio...\")\n",
    "            sell(-to_add, coin, exchange)\n",
    "            \n",
    "    # This will be used to plot the current portfolio \n",
    "    portfolio_returns = np.dot(best_weights, current_strategy_returns_df.T)\n",
    "    portfolio_cumulative_returns = portfolio_returns.cumsum().apply(np.exp)\n",
    "    portfolio_cumulative_returns.plot()"
   ]
  },
  {
   "cell_type": "markdown",
   "metadata": {},
   "source": [
    "---"
   ]
  },
  {
   "cell_type": "code",
   "execution_count": null,
   "metadata": {},
   "outputs": [],
   "source": [
    "#All the functions created:\n",
    "perform_optimization()\n",
    "perform_portfolio_management()\n",
    "perform_portfolio_optimization()\n",
    "perform_portfolio_rm()\n",
    "run_strategy()"
   ]
  },
  {
   "cell_type": "markdown",
   "metadata": {},
   "source": [
    "### Loop"
   ]
  },
  {
   "cell_type": "code",
   "execution_count": 26,
   "metadata": {},
   "outputs": [
    {
     "ename": "NameError",
     "evalue": "name 'upload_complete_market_data' is not defined",
     "output_type": "error",
     "traceback": [
      "\u001b[1;31m---------------------------------------------------------------------------\u001b[0m",
      "\u001b[1;31mNameError\u001b[0m                                 Traceback (most recent call last)",
      "Cell \u001b[1;32mIn[26], line 2\u001b[0m\n\u001b[0;32m      1\u001b[0m \u001b[38;5;66;03m# OUTSIDE OF METHOD:\u001b[39;00m\n\u001b[1;32m----> 2\u001b[0m \u001b[43mupload_complete_market_data\u001b[49m(halal_symbols, data_size\u001b[38;5;241m=\u001b[39m(train_size \u001b[38;5;241m+\u001b[39m test_size) \u001b[38;5;241m*\u001b[39m \u001b[38;5;241m4\u001b[39m)\n\u001b[0;32m      3\u001b[0m strategy_data_filename \u001b[38;5;241m=\u001b[39m \u001b[38;5;124m'\u001b[39m\u001b[38;5;124mstrategy_data.csv\u001b[39m\u001b[38;5;124m'\u001b[39m\n\u001b[0;32m      4\u001b[0m market_data_filename \u001b[38;5;241m=\u001b[39m \u001b[38;5;124m'\u001b[39m\u001b[38;5;124mmarket_data.csv\u001b[39m\u001b[38;5;124m'\u001b[39m\n",
      "\u001b[1;31mNameError\u001b[0m: name 'upload_complete_market_data' is not defined"
     ]
    }
   ],
   "source": [
    "# OUTSIDE OF METHOD:\n",
    "upload_complete_market_data(halal_symbols, data_size=(train_size + test_size) * 4)\n",
    "strategy_data_filename = 'strategy_data.csv'\n",
    "market_data_filename = 'market_data.csv'\n",
    "data = load_data_from_csv(market_data_filename)\n",
    "strat_1_instance = Last_Days_Low(data, objective='multiple', train_size=train_size, test_size=test_size, step_size=step_size)\n",
    "strat_2_instance = Sprtrnd_Breakout(data, objective='multiple', train_size=train_size, test_size=test_size, step_size=step_size)\n",
    "\n",
    "counter = 0\n",
    "cash_df = pd.DataFrame(data={'strategy': np.zeros(data.shape[0]), 'portfolio_value': np.ones(data.shape[0])}, index=data.index)\n",
    "strategy_map = {\n",
    "    'cash_strat': cash_df,\n",
    "    'strat_1': strat_1_instance,\n",
    "    'strat_2': strat_2_instance\n",
    "}\n",
    "best_params = None\n",
    "best_weights = None\n",
    "exchange = ccxt.kraken({\n",
    "    'apiKey': api_key,\n",
    "    'secret': api_secret\n",
    "})\n",
    "# halal_symbols = get_halal_symbols()\n",
    "halal_symbols = ['BTCUSD', 'ETHUSD', 'LTCUSD']\n",
    "symbols_to_liquidate = None\n",
    "selected_strategy = None\n",
    "drawdown_threshold = -0.15\n",
    "train_size = 440\n",
    "test_size = 200\n",
    "step_size = 200\n",
    "low_corr_thresh = 1\n",
    "max_rows_market_data = market_data_size = 2000\n",
    "timeframe = '1h'\n",
    "\n",
    "strategy_optimization_frequency = 24  # Every 24 hours\n",
    "portfolio_optimization_frequency = 24  # Every 24 hours\n",
    "portfolio_management_frequency = 24  # Every 24 hours\n",
    "\n",
    "# BEFORE THE MAIN LOOP\n",
    "upload_complete_market_data(halal_symbols, data_size=train_size + test_size)\n",
    "\n",
    "# THE MAIN LOOP\n",
    "while True:\n",
    "    now = dt.datetime.now()\n",
    "    next_hour = (now + dt.timedelta(minutes=1)).replace(second=0, microsecond=0)\n",
    "    sleep_duration = (next_hour - now).total_seconds()\n",
    "    time.sleep(sleep_duration)\n",
    "    data = load_data_from_csv(market_data_filename)\n",
    "\n",
    "    if counter % strategy_optimization_frequency == 0:\n",
    "        best_params = perform_optimization(strategy_map)\n",
    "\n",
    "    if counter % portfolio_optimization_frequency == 0:\n",
    "        best_weights = perform_portfolio_optimization(strategy_map, train_size=train_size, test_size=test_size, step_size=step_size)\n",
    "\n",
    "    if counter % portfolio_management_frequency == 0:\n",
    "        selected_strategy = perform_portfolio_management(strategy_map, low_corr_threshold=low_corr_thresh)\n",
    "\n",
    "    if perform_portfolio_rm(best_weights, exchange, drawdown_threshold=drawdown_threshold):\n",
    "        continue\n",
    "\n",
    "    run_strategy(exchange, halal_symbols, selected_strategy, best_params, best_weights, timeframe=timeframe)\n",
    "    \n",
    "    counter += 1"
   ]
  },
  {
   "cell_type": "code",
   "execution_count": null,
   "metadata": {},
   "outputs": [],
   "source": []
  }
 ],
 "metadata": {
  "kernelspec": {
   "display_name": "Python 3",
   "language": "python",
   "name": "python3"
  },
  "language_info": {
   "codemirror_mode": {
    "name": "ipython",
    "version": 3
   },
   "file_extension": ".py",
   "mimetype": "text/x-python",
   "name": "python",
   "nbconvert_exporter": "python",
   "pygments_lexer": "ipython3",
   "version": "3.12.2"
  }
 },
 "nbformat": 4,
 "nbformat_minor": 2
}
