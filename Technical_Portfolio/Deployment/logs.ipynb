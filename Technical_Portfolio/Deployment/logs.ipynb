{
 "cells": [
  {
   "cell_type": "code",
   "execution_count": null,
   "metadata": {
    "vscode": {
     "languageId": "plaintext"
    }
   },
   "outputs": [],
   "source": [
    "import requests\n",
    "import traceback\n",
    "import time\n",
    "\n",
    "class TelegramNotifier:\n",
    "    \"\"\"\n",
    "    A class to handle Telegram notifications using a bot.\n",
    "    \"\"\"\n",
    "    def __init__(self, bot_token, chat_id):\n",
    "        \"\"\"\n",
    "        Initialize the notifier with the bot token and chat ID.\n",
    "        :param bot_token: The bot token provided by BotFather\n",
    "        :param chat_id: The chat ID to send notifications to\n",
    "        \"\"\"\n",
    "        self.bot_token = bot_token\n",
    "        self.chat_id = chat_id\n",
    "\n",
    "    def send_message(self, message):\n",
    "        \"\"\"\n",
    "        Send a message to the specified Telegram chat.\n",
    "        :param message: The message text to send\n",
    "        \"\"\"\n",
    "        url = f\"https://api.telegram.org/bot{self.bot_token}/sendMessage\"\n",
    "        payload = {\n",
    "            'chat_id': self.chat_id,\n",
    "            'text': message\n",
    "        }\n",
    "        try:\n",
    "            response = requests.post(url, data=payload)\n",
    "            response.raise_for_status()  # Raise an error for bad responses\n",
    "            print(\"Notification sent successfully.\")\n",
    "        except requests.exceptions.RequestException as e:\n",
    "            print(f\"Failed to send notification: {e}\")\n",
    "\n",
    "# Replace these with your bot token and chat ID\n",
    "BOT_TOKEN = \"YOUR_BOT_TOKEN\"\n",
    "CHAT_ID = \"YOUR_CHAT_ID\"\n",
    "\n",
    "# Initialize the notifier\n",
    "notifier = TelegramNotifier(BOT_TOKEN, CHAT_ID)\n",
    "\n",
    "def perform_task():\n",
    "    \"\"\"\n",
    "    Simulates a task that could fail.\n",
    "    \"\"\"\n",
    "    print(\"Performing a critical task...\")\n",
    "    # Simulate a potential error\n",
    "    raise RuntimeError(\"Simulated task failure!\")\n",
    "\n",
    "def main():\n",
    "    \"\"\"\n",
    "    Main function to run tasks and handle errors.\n",
    "    \"\"\"\n",
    "    try:\n",
    "        notifier.send_message(\"Starting the script on the server...\")\n",
    "        while True:\n",
    "            # Example: Run your task\n",
    "            notifier.send_message(\"Running task...\")\n",
    "            perform_task()\n",
    "\n",
    "            # Send periodic success update\n",
    "            notifier.send_message(\"Task completed successfully!\")\n",
    "            time.sleep(3600)  # Wait 1 hour before running the next task\n",
    "    except Exception as e:\n",
    "        # Send an error notification\n",
    "        error_message = f\"An error occurred:\\n{str(e)}\\n{traceback.format_exc()}\"\n",
    "        notifier.send_message(error_message)\n",
    "        print(\"Error occurred. Stopping the script.\")\n",
    "\n",
    "if __name__ == \"__main__\":\n",
    "    main()\n"
   ]
  },
  {
   "cell_type": "code",
   "execution_count": null,
   "metadata": {
    "vscode": {
     "languageId": "plaintext"
    }
   },
   "outputs": [],
   "source": []
  }
 ],
 "metadata": {
  "language_info": {
   "name": "python"
  }
 },
 "nbformat": 4,
 "nbformat_minor": 2
}
