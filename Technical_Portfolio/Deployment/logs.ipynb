{
 "cells": [
  {
   "cell_type": "code",
   "execution_count": 3,
   "metadata": {},
   "outputs": [
    {
     "name": "stdout",
     "output_type": "stream",
     "text": [
      "Defaulting to user installation because normal site-packages is not writeable\n",
      "Requirement already satisfied: python-telegram-bot in c:\\users\\yassi\\appdata\\roaming\\python\\python312\\site-packages (12.0.0)\n",
      "Collecting python-telegram-bot\n",
      "  Downloading python_telegram_bot-21.10-py3-none-any.whl.metadata (17 kB)\n",
      "Requirement already satisfied: httpx~=0.27 in c:\\users\\yassi\\appdata\\roaming\\python\\python312\\site-packages (from python-telegram-bot) (0.27.2)\n",
      "Requirement already satisfied: anyio in c:\\users\\yassi\\appdata\\roaming\\python\\python312\\site-packages (from httpx~=0.27->python-telegram-bot) (4.6.2.post1)\n",
      "Requirement already satisfied: certifi in c:\\users\\yassi\\appdata\\roaming\\python\\python312\\site-packages (from httpx~=0.27->python-telegram-bot) (2024.8.30)\n",
      "Requirement already satisfied: httpcore==1.* in c:\\users\\yassi\\appdata\\roaming\\python\\python312\\site-packages (from httpx~=0.27->python-telegram-bot) (1.0.6)\n",
      "Requirement already satisfied: idna in c:\\users\\yassi\\appdata\\roaming\\python\\python312\\site-packages (from httpx~=0.27->python-telegram-bot) (3.10)\n",
      "Requirement already satisfied: sniffio in c:\\users\\yassi\\appdata\\roaming\\python\\python312\\site-packages (from httpx~=0.27->python-telegram-bot) (1.3.1)\n",
      "Requirement already satisfied: h11<0.15,>=0.13 in c:\\users\\yassi\\appdata\\roaming\\python\\python312\\site-packages (from httpcore==1.*->httpx~=0.27->python-telegram-bot) (0.14.0)\n",
      "Downloading python_telegram_bot-21.10-py3-none-any.whl (669 kB)\n",
      "   ---------------------------------------- 0.0/669.5 kB ? eta -:--:--\n",
      "   ---------------------------------------- 669.5/669.5 kB 8.7 MB/s eta 0:00:00\n",
      "Installing collected packages: python-telegram-bot\n",
      "  Attempting uninstall: python-telegram-bot\n",
      "    Found existing installation: python-telegram-bot 12.0.0\n",
      "    Uninstalling python-telegram-bot-12.0.0:\n",
      "      Successfully uninstalled python-telegram-bot-12.0.0\n",
      "Successfully installed python-telegram-bot-21.10\n",
      "Note: you may need to restart the kernel to use updated packages.\n"
     ]
    }
   ],
   "source": [
    "pip install python-telegram-bot --upgrade"
   ]
  },
  {
   "cell_type": "code",
   "execution_count": 1,
   "metadata": {},
   "outputs": [],
   "source": [
    "import asyncio\n",
    "import traceback\n",
    "from telegram import Bot\n",
    "import os\n",
    "\n",
    "BOT_TOKEN = '8001920272:AAGR92ZAnH_QUg2eenhKyRSInfqKGMwlNlc'\n",
    "CHAT_ID = '2103748257'\n",
    "\n",
    "bot = Bot(token=BOT_TOKEN)"
   ]
  },
  {
   "cell_type": "code",
   "execution_count": 5,
   "metadata": {},
   "outputs": [
    {
     "name": "stdout",
     "output_type": "stream",
     "text": [
      "An error occurred:\n",
      "\n",
      "Traceback (most recent call last):\n",
      "  File \"C:\\Users\\yassi\\AppData\\Local\\Temp\\ipykernel_28212\\991596646.py\", line 14, in main\n",
      "    result = 10 / 0  # Example: This will cause a ZeroDivisionError\n",
      "             ~~~^~~\n",
      "ZeroDivisionError: division by zero\n",
      "\n",
      "Error sending Telegram message: name 'bot' is not defined\n"
     ]
    }
   ],
   "source": [
    "from unsync import unsync\n",
    "\n",
    "@unsync\n",
    "async def send_telegram_message(message):\n",
    "    try:\n",
    "        await bot.send_message(chat_id=CHAT_ID, text=message)\n",
    "    except Exception as e:\n",
    "        print(f\"Error sending Telegram message: {e}\")\n",
    "\n",
    "@unsync\n",
    "async def main():\n",
    "    try:\n",
    "        # Your script's main code here\n",
    "        result = 10 / 0  # Example: This will cause a ZeroDivisionError\n",
    "        print(f\"Result: {result}\")  # This line won't execute if the error occurs above\n",
    "    except Exception as e:\n",
    "        error_message = f\"An error occurred:\\n\\n{traceback.format_exc()}\"\n",
    "        print(error_message)  # Print to console for local debugging\n",
    "        await send_telegram_message(error_message)\n",
    "    else:\n",
    "        await send_telegram_message(\"Script completed successfully.\")\n",
    "\n",
    "if __name__ == \"__main__\":\n",
    "    main().result()  # `.result()` blocks until the coroutine completes"
   ]
  },
  {
   "cell_type": "code",
   "execution_count": null,
   "metadata": {},
   "outputs": [],
   "source": []
  }
 ],
 "metadata": {
  "kernelspec": {
   "display_name": "Python 3",
   "language": "python",
   "name": "python3"
  },
  "language_info": {
   "codemirror_mode": {
    "name": "ipython",
    "version": 3
   },
   "file_extension": ".py",
   "mimetype": "text/x-python",
   "name": "python",
   "nbconvert_exporter": "python",
   "pygments_lexer": "ipython3",
   "version": "3.12.2"
  }
 },
 "nbformat": 4,
 "nbformat_minor": 2
}
