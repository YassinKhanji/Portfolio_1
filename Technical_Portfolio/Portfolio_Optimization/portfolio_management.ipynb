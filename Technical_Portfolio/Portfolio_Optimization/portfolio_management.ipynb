{
 "cells": [
  {
   "cell_type": "markdown",
   "metadata": {},
   "source": [
    "---"
   ]
  },
  {
   "cell_type": "markdown",
   "metadata": {},
   "source": [
    "## Portfolio Management"
   ]
  },
  {
   "cell_type": "markdown",
   "metadata": {},
   "source": [
    "How will portfolio management will be used:\n",
    "\n",
    "1. Will handle the data and its length (it will call the data that is going to be used by all individual strategies)\n",
    "2. Will call each strategy and get its returns columns (Will loop over each strategy class)\n",
    "-> Note: Each strategy will already have an optimizer in each of their class (will be already walk forwarded)\n",
    "3. Construct relevant methods\n",
    "\n",
    "Thus:\n",
    "- A method to call all strategies data + combines all of their cumulative return into one df\n",
    "- Methods that calculates any factors affecting the choice of the strategies as well as their weights (Correlations, Market Regime, ...)\n",
    "\n",
    "The portfolio management is a layer that manages the current best strategies and its objective is to generate a weight multiplier for each strategy based on factors allowing dynamic rebalancing. It classifies strategies, Calculates the correlation between strategies, provide a market regime detection model that may impact the weights of specific strategy types, ...\n"
   ]
  },
  {
   "cell_type": "markdown",
   "metadata": {},
   "source": [
    "---"
   ]
  },
  {
   "cell_type": "markdown",
   "metadata": {},
   "source": [
    "idea for portfolio management: get all the strategies -> run them -> do that analysis and filtering (correlation \tanalysis, ...)"
   ]
  },
  {
   "cell_type": "markdown",
   "metadata": {},
   "source": []
  }
 ],
 "metadata": {
  "kernelspec": {
   "display_name": "Python 3",
   "language": "python",
   "name": "python3"
  },
  "language_info": {
   "name": "python",
   "version": "3.12.2"
  }
 },
 "nbformat": 4,
 "nbformat_minor": 2
}
