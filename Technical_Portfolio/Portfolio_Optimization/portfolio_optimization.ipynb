{
 "cells": [
  {
   "cell_type": "markdown",
   "metadata": {},
   "source": [
    "---"
   ]
  },
  {
   "cell_type": "markdown",
   "metadata": {},
   "source": [
    "##  Portfolio Optimization"
   ]
  },
  {
   "cell_type": "markdown",
   "metadata": {},
   "source": [
    "1. Will take all data from the portfolio management \n",
    "2. perform the rebalancing based on the variable to maximize, minimize or to target\n",
    "\n",
    "Thus:\n",
    "- A method to call all chosen stratgies return and cumulative return + combine them into one df\n",
    "- A method for the objective function to optimize\n",
    "- A method to implement walk forward analysis and outputs the returns and cumulative of the strategy\n",
    " \n",
    "Note that when comparing returns for rebalancing, don't account for previous weights, only consider absolute percentage performance.\n",
    "\n",
    "The key is to perform separate walk-forward analysis for both the strategies and the rebalancing process\n"
   ]
  },
  {
   "cell_type": "markdown",
   "metadata": {},
   "source": [
    "---"
   ]
  },
  {
   "cell_type": "markdown",
   "metadata": {},
   "source": [
    "Idea:"
   ]
  }
 ],
 "metadata": {
  "kernelspec": {
   "display_name": "Python 3",
   "language": "python",
   "name": "python3"
  },
  "language_info": {
   "codemirror_mode": {
    "name": "ipython",
    "version": 3
   },
   "file_extension": ".py",
   "mimetype": "text/x-python",
   "name": "python",
   "nbconvert_exporter": "python",
   "pygments_lexer": "ipython3",
   "version": "3.12.2"
  }
 },
 "nbformat": 4,
 "nbformat_minor": 2
}
