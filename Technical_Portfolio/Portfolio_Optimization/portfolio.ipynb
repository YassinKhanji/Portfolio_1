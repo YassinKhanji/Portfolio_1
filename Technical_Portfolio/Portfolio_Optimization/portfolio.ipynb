{
 "cells": [
  {
   "cell_type": "markdown",
   "metadata": {},
   "source": [
    "---"
   ]
  },
  {
   "cell_type": "markdown",
   "metadata": {},
   "source": [
    "## Rebalancing Allocation"
   ]
  },
  {
   "cell_type": "markdown",
   "metadata": {},
   "source": [
    "To rebalance allocations of subportfolios (a subportfolio is a collection of strategies), we must get the performance of each strategy for each period of time and applying it for the next time period, when using walk forward optimization in the testing module"
   ]
  },
  {
   "cell_type": "code",
   "execution_count": 73,
   "metadata": {},
   "outputs": [
    {
     "name": "stdout",
     "output_type": "stream",
     "text": [
      "Average out-of-sample performance: 0.98\n"
     ]
    }
   ],
   "source": [
    "\n",
    "import numpy as np\n",
    "import pandas as pd\n",
    "from sklearn.model_selection import ParameterGrid\n",
    "\n",
    "# 1. Load historical data\n",
    "def load_data(file_path):\n",
    "    data = pd.read_csv(file_path, parse_dates=[\"date\"], index_col=\"date\")\n",
    "    return data\n",
    "\n",
    "# 2. Define a sample trading strategy\n",
    "def trading_strategy(data, short_window, long_window):\n",
    "    data[\"SMA_Short\"] = data[\"close\"].rolling(window=short_window).mean()\n",
    "    data[\"SMA_Long\"] = data[\"close\"].rolling(window=long_window).mean()\n",
    "    data[\"Signal\"] = np.where(data[\"SMA_Short\"] > data[\"SMA_Long\"], 1, -1)  # 1 for Buy, -1 for Sell\n",
    "    data[\"Strategy_Return\"] = data[\"Signal\"].shift(1) * data[\"return\"]\n",
    "    return data\n",
    "\n",
    "# 3. Split data into in-sample and out-of-sample periods\n",
    "def split_data(data, train_size, test_size, step_size):\n",
    "    start = 0\n",
    "    while start + train_size + test_size <= len(data):\n",
    "        train = data.iloc[start:start + train_size]\n",
    "        test = data.iloc[start + train_size:start + train_size + test_size]\n",
    "        yield train, test\n",
    "        start += step_size\n",
    "\n",
    "# 4. Optimize parameters on in-sample data\n",
    "def optimize_parameters(train_data, param_grid):\n",
    "    best_params = None\n",
    "    best_performance = -np.inf\n",
    "    for params in ParameterGrid(param_grid):\n",
    "        result = trading_strategy(train_data.copy(), **params)\n",
    "        performance = result['creturns'].iloc[-1]\n",
    "        if performance > best_performance:\n",
    "            best_performance = performance\n",
    "            best_params = params\n",
    "    return best_params\n",
    "\n",
    "# 5. Test optimized parameters on out-of-sample data\n",
    "def test_strategy(test_data, best_params):\n",
    "    result = trading_strategy(test_data.copy(), **best_params)\n",
    "    return result[\"creturns\"].iloc\n",
    "\n",
    "# 6. Walk-forward optimization loop\n",
    "def walk_forward_optimization(data, train_size, test_size, step_size, param_grid):\n",
    "    results = []\n",
    "    for train, test in split_data(data, train_size, test_size, step_size):\n",
    "        # Optimize on training data\n",
    "        best_params = optimize_parameters(train, param_grid)\n",
    "        # Test on out-of-sample data\n",
    "        performance = test_strategy(test, best_params)\n",
    "        results.append(performance)\n",
    "    return results\n",
    "\n",
    "# Example Usage\n",
    "if __name__ == \"__main__\":\n",
    "    # Load data\n",
    "    data = load_data(\"data.csv\")\n",
    "    data = data[data['coin'] == 'BTCUSDT']\n",
    "    data[\"return\"] = data[\"close\"].pct_change()\n",
    "\n",
    "    # Parameter grid for optimization\n",
    "    param_grid = {\"short_window\": range(5, 21, 5), \"long_window\": range(20, 101, 20)}\n",
    "\n",
    "    # Walk-forward optimization\n",
    "    train_size = 250  # Number of training days\n",
    "    test_size = 50    # Number of testing days\n",
    "    step_size = 50    # Step size for walk forward\n",
    "    results = walk_forward_optimization(data.dropna(), train_size, test_size, step_size, param_grid)\n",
    "\n",
    "    # Aggregate and analyze results\n",
    "    print(f\"Average out-of-sample performance: {np.mean(results):.2f}\")"
   ]
  },
  {
   "cell_type": "code",
   "execution_count": 74,
   "metadata": {},
   "outputs": [
    {
     "data": {
      "text/plain": [
       "[1.004935817887272,\n",
       " 0.9934966803004952,\n",
       " 0.99729371683214,\n",
       " 0.9842931986477768,\n",
       " 0.9804281224610204,\n",
       " 0.9292170990009944,\n",
       " 0.9392749609595998,\n",
       " 0.99121817586391,\n",
       " 1.0222779252755083]"
      ]
     },
     "execution_count": 74,
     "metadata": {},
     "output_type": "execute_result"
    }
   ],
   "source": [
    "results"
   ]
  },
  {
   "cell_type": "code",
   "execution_count": null,
   "metadata": {},
   "outputs": [],
   "source": []
  }
 ],
 "metadata": {
  "kernelspec": {
   "display_name": "Python 3",
   "language": "python",
   "name": "python3"
  },
  "language_info": {
   "codemirror_mode": {
    "name": "ipython",
    "version": 3
   },
   "file_extension": ".py",
   "mimetype": "text/x-python",
   "name": "python",
   "nbconvert_exporter": "python",
   "pygments_lexer": "ipython3",
   "version": "3.12.2"
  }
 },
 "nbformat": 4,
 "nbformat_minor": 2
}
