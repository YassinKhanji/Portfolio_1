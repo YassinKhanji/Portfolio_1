{
 "cells": [
  {
   "cell_type": "markdown",
   "metadata": {},
   "source": [
    "---"
   ]
  },
  {
   "cell_type": "markdown",
   "metadata": {},
   "source": [
    "##  Portfolio Risk Management"
   ]
  },
  {
   "cell_type": "markdown",
   "metadata": {},
   "source": [
    "1. Will take all data from the portfolio optimization\n",
    "2. Perform any risk management operation on the portfolio returns and cumulative returns (max_drawdown limit, crash detection)"
   ]
  },
  {
   "cell_type": "markdown",
   "metadata": {},
   "source": [
    "---"
   ]
  },
  {
   "cell_type": "markdown",
   "metadata": {},
   "source": [
    "Idea: Get strategy returns from portfolio optimization -> perform risk management"
   ]
  },
  {
   "cell_type": "code",
   "execution_count": 4,
   "metadata": {},
   "outputs": [
    {
     "name": "stdout",
     "output_type": "stream",
     "text": [
      "Skipping category 'layer-1', already processed.\n",
      "Skipping category 'depin', already processed.\n",
      "Skipping category 'proof-of-work-pow', already processed.\n",
      "Skipping category 'proof-of-stake-pos', already processed.\n",
      "Skipping category 'meme-token', already processed.\n",
      "Skipping category 'dog-themed-coins', already processed.\n",
      "Skipping category 'eth-2-0-staking', already processed.\n",
      "Skipping category 'non-fungible-tokens-nft', already processed.\n",
      "Skipping category 'governance', already processed.\n",
      "Skipping category 'artificial-intelligence', already processed.\n",
      "Skipping category 'infrastructure', already processed.\n",
      "Skipping category 'layer-2', already processed.\n",
      "Skipping category 'zero-knowledge-zk', already processed.\n",
      "Skipping category 'storage', already processed.\n",
      "Skipping category 'oracle', already processed.\n",
      "Skipping category 'bitcoin-fork', already processed.\n",
      "Skipping category 'restaking', already processed.\n",
      "Skipping category 'rollup', already processed.\n",
      "Skipping category 'metaverse', already processed.\n",
      "Skipping category 'privacy-coins', already processed.\n",
      "Skipping category 'layer-0-l0', already processed.\n",
      "Skipping category 'solana-meme-coins', already processed.\n",
      "Skipping category 'data-availability', already processed.\n",
      "Skipping category 'internet-of-things-iot', already processed.\n",
      "Skipping category 'frog-themed-coins', already processed.\n",
      "Skipping category 'ai-agents', already processed.\n",
      "Skipping category 'superchain-ecosystem', already processed.\n",
      "Skipping category 'bitcoin-layer-2', already processed.\n",
      "Skipping category 'bridge-governance-tokens', already processed.\n",
      "Skipping category 'modular-blockchain', already processed.\n",
      "Skipping category 'cat-themed-coins', already processed.\n",
      "Skipping category 'cross-chain-communication', already processed.\n",
      "Skipping category 'analytics', already processed.\n",
      "Skipping category 'identity', already processed.\n",
      "Skipping category 'wallets', already processed.\n",
      "Skipping category 'masternodes', already processed.\n",
      "['BTCUSDT', 'ETHUSDT', 'BNBUSDT', 'SOLUSDT', 'ADAUSDT', 'TRXUSDT', 'AVAXUSDT', 'TONUSDT', 'SUIUSDT', 'HBARUSDT', 'HYPEUSDT', 'BCHUSDT', 'NEARUSDT', 'APTUSDT', 'ICPUSDT', 'CROUSDT', 'VETUSDT', 'XMRUSDT', 'TAOUSDT', 'OMUSDT', 'FILUSDT', 'KASUSDT', 'ALGOUSDT', 'FTMUSDT', 'TIAUSDT', 'THETAUSDT', 'INJUSDT', 'SEIUSDT', 'GALAUSDT', 'FLRUSDT', 'FTNUSDT', 'XTZUSDT', 'KAIAUSDT', 'FLOWUSDT', 'DYDXUSDT', 'ARUSDT', 'IOTAUSDT', 'COREUSDT', 'AIOZUSDT', 'EGLDUSDT', 'CHZUSDT', 'RONUSDT', 'GNOUSDT', 'XECUSDT', 'VANAUSDT', 'ROSEUSDT', 'KAVAUSDT', 'ASTRUSDT', 'RBNTUSDT', 'VRSCUSDT', 'ENJUSDT', 'CELOUSDT', 'ONEUSDT', 'PEAQUSDT', 'QUBICUSDT', 'WEMIXUSDT', 'ZETAUSDT', 'ELFUSDT', 'ALEOUSDT', 'KDAUSDT', 'POLYXUSDT', 'XCHUSDT', 'DCRUSDT', 'XRDUSDT', 'SKLUSDT', 'SUPRAUSDT', 'GLMRUSDT', 'VANRYUSDT', 'HEARTUSDT', 'CSPRUSDT', 'DAGUSDT', 'CHRUSDT', 'BBUSDT', 'ZANOUSDT', 'SAGAUSDT', 'HIVEUSDT', 'WAXPUSDT', 'ALPHUSDT', 'ORAIUSDT', 'ERGUSDT', 'ONGUSDT', 'MOVRUSDT', 'AZEROUSDT', 'QANXUSDT', 'DUSKUSDT', 'TLOSUSDT', 'SYSUSDT', 'OMNIUSDT', 'KUJIUSDT', 'LYXUSDT', 'PEPUSDT', 'XIONUSDT', 'CUDOSUSDT', 'NGLUSDT', 'LTOUSDT', 'OASUSDT', 'CTXCUSDT', 'REIUSDT', 'ROOTUSDT', 'ELAUSDT']\n",
      "The file contains content.\n"
     ]
    }
   ],
   "source": [
    "import requests\n",
    "import json\n",
    "import math\n",
    "import pandas as pd\n",
    "import numpy as np\n",
    "import datetime as dt\n",
    "import matplotlib.pyplot as plt\n",
    "from qgridnext import show_grid\n",
    "from datetime import datetime, timedelta\n",
    "import sys  \n",
    "import os\n",
    "import pandas_ta as ta\n",
    "import sklearn as sk\n",
    "import datetime as dt\n",
    "from skopt.space import Integer, Real, Categorical\n",
    "\n",
    "# Ensure the directories are in the system path\n",
    "sys.path.append(os.path.abspath(os.path.join(os.getcwd(), '..', 'Data_Management'))) \n",
    "sys.path.append(os.path.abspath(os.path.join(os.getcwd(), '..', 'Strategies', 'Trend_Following')))\n",
    "sys.path.append(os.path.abspath(os.path.join(os.getcwd(), '..', 'Strategies', 'Mean_Reversion')))\n",
    "\n",
    "# Import the modules\n",
    "from data import Data\n",
    "from sprtrnd_breakout import Sprtrnd_Breakout\n",
    "from last_days_low import Last_Days_Low\n",
    "from portfolio_optimization import Portfolio_Optimization\n"
   ]
  },
  {
   "cell_type": "code",
   "execution_count": 2,
   "metadata": {},
   "outputs": [
    {
     "data": {
      "text/html": [
       "<div>\n",
       "<style scoped>\n",
       "    .dataframe tbody tr th:only-of-type {\n",
       "        vertical-align: middle;\n",
       "    }\n",
       "\n",
       "    .dataframe tbody tr th {\n",
       "        vertical-align: top;\n",
       "    }\n",
       "\n",
       "    .dataframe thead th {\n",
       "        text-align: right;\n",
       "    }\n",
       "</style>\n",
       "<table border=\"1\" class=\"dataframe\">\n",
       "  <thead>\n",
       "    <tr style=\"text-align: right;\">\n",
       "      <th></th>\n",
       "      <th></th>\n",
       "      <th>close</th>\n",
       "      <th>creturns</th>\n",
       "      <th>high</th>\n",
       "      <th>log_return</th>\n",
       "      <th>low</th>\n",
       "      <th>open</th>\n",
       "      <th>price</th>\n",
       "      <th>returns</th>\n",
       "      <th>volume</th>\n",
       "      <th>volume_in_dollars</th>\n",
       "    </tr>\n",
       "    <tr>\n",
       "      <th>date</th>\n",
       "      <th>coin</th>\n",
       "      <th></th>\n",
       "      <th></th>\n",
       "      <th></th>\n",
       "      <th></th>\n",
       "      <th></th>\n",
       "      <th></th>\n",
       "      <th></th>\n",
       "      <th></th>\n",
       "      <th></th>\n",
       "      <th></th>\n",
       "    </tr>\n",
       "  </thead>\n",
       "  <tbody>\n",
       "    <tr>\n",
       "      <th rowspan=\"2\" valign=\"top\">2017-08-17 05:00:00</th>\n",
       "      <th>BTCUSDT</th>\n",
       "      <td>4315.320000</td>\n",
       "      <td>1.506209e-03</td>\n",
       "      <td>4328.690000</td>\n",
       "      <td>-6.498159</td>\n",
       "      <td>4291.370000</td>\n",
       "      <td>4308.830000</td>\n",
       "      <td>4315.320000</td>\n",
       "      <td>0.001506</td>\n",
       "      <td>2.323492e+01</td>\n",
       "      <td>1.002661e+05</td>\n",
       "    </tr>\n",
       "    <tr>\n",
       "      <th>ETHUSDT</th>\n",
       "      <td>303.100006</td>\n",
       "      <td>4.940270e-03</td>\n",
       "      <td>303.279999</td>\n",
       "      <td>-5.310335</td>\n",
       "      <td>300.000000</td>\n",
       "      <td>301.609985</td>\n",
       "      <td>303.100006</td>\n",
       "      <td>0.004940</td>\n",
       "      <td>3.776725e+02</td>\n",
       "      <td>1.144725e+05</td>\n",
       "    </tr>\n",
       "    <tr>\n",
       "      <th>2017-08-17 06:00:00</th>\n",
       "      <th>BTCUSDT</th>\n",
       "      <td>4324.350000</td>\n",
       "      <td>3.151810e-06</td>\n",
       "      <td>4345.450000</td>\n",
       "      <td>-6.169374</td>\n",
       "      <td>4309.370000</td>\n",
       "      <td>4330.290000</td>\n",
       "      <td>4324.350000</td>\n",
       "      <td>0.002093</td>\n",
       "      <td>7.229691e+00</td>\n",
       "      <td>3.126371e+04</td>\n",
       "    </tr>\n",
       "    <tr>\n",
       "      <th rowspan=\"2\" valign=\"top\">2017-08-17 07:00:00</th>\n",
       "      <th>BTCUSDT</th>\n",
       "      <td>4349.990000</td>\n",
       "      <td>1.868776e-08</td>\n",
       "      <td>4349.990000</td>\n",
       "      <td>-5.127863</td>\n",
       "      <td>4287.410000</td>\n",
       "      <td>4316.620000</td>\n",
       "      <td>4349.990000</td>\n",
       "      <td>0.005929</td>\n",
       "      <td>4.443249e+00</td>\n",
       "      <td>1.932809e+04</td>\n",
       "    </tr>\n",
       "    <tr>\n",
       "      <th>ETHUSDT</th>\n",
       "      <td>307.959991</td>\n",
       "      <td>8.617874e-05</td>\n",
       "      <td>307.959991</td>\n",
       "      <td>-4.048752</td>\n",
       "      <td>302.600006</td>\n",
       "      <td>302.679993</td>\n",
       "      <td>307.959991</td>\n",
       "      <td>0.017444</td>\n",
       "      <td>7.547451e+02</td>\n",
       "      <td>2.324313e+05</td>\n",
       "    </tr>\n",
       "    <tr>\n",
       "      <th>...</th>\n",
       "      <th>...</th>\n",
       "      <td>...</td>\n",
       "      <td>...</td>\n",
       "      <td>...</td>\n",
       "      <td>...</td>\n",
       "      <td>...</td>\n",
       "      <td>...</td>\n",
       "      <td>...</td>\n",
       "      <td>...</td>\n",
       "      <td>...</td>\n",
       "      <td>...</td>\n",
       "    </tr>\n",
       "    <tr>\n",
       "      <th rowspan=\"5\" valign=\"top\">2024-12-27 23:00:00</th>\n",
       "      <th>SYSUSDT</th>\n",
       "      <td>0.112200</td>\n",
       "      <td>0.000000e+00</td>\n",
       "      <td>0.112400</td>\n",
       "      <td>-5.632999</td>\n",
       "      <td>0.111100</td>\n",
       "      <td>0.111600</td>\n",
       "      <td>0.112200</td>\n",
       "      <td>0.003578</td>\n",
       "      <td>7.290790e+05</td>\n",
       "      <td>8.180266e+04</td>\n",
       "    </tr>\n",
       "    <tr>\n",
       "      <th>TRXUSDT</th>\n",
       "      <td>0.259400</td>\n",
       "      <td>0.000000e+00</td>\n",
       "      <td>0.259600</td>\n",
       "      <td>-7.860292</td>\n",
       "      <td>0.258600</td>\n",
       "      <td>0.259400</td>\n",
       "      <td>0.259400</td>\n",
       "      <td>0.000386</td>\n",
       "      <td>1.499596e+07</td>\n",
       "      <td>3.889953e+06</td>\n",
       "    </tr>\n",
       "    <tr>\n",
       "      <th>VETUSDT</th>\n",
       "      <td>0.045760</td>\n",
       "      <td>0.000000e+00</td>\n",
       "      <td>0.045760</td>\n",
       "      <td>-5.479996</td>\n",
       "      <td>0.045370</td>\n",
       "      <td>0.045580</td>\n",
       "      <td>0.045760</td>\n",
       "      <td>0.004169</td>\n",
       "      <td>1.004372e+07</td>\n",
       "      <td>4.596008e+05</td>\n",
       "    </tr>\n",
       "    <tr>\n",
       "      <th>WAXPUSDT</th>\n",
       "      <td>0.040910</td>\n",
       "      <td>0.000000e+00</td>\n",
       "      <td>0.040940</td>\n",
       "      <td>-5.915972</td>\n",
       "      <td>0.040590</td>\n",
       "      <td>0.040770</td>\n",
       "      <td>0.040910</td>\n",
       "      <td>0.002696</td>\n",
       "      <td>1.056349e+06</td>\n",
       "      <td>4.321524e+04</td>\n",
       "    </tr>\n",
       "    <tr>\n",
       "      <th>XECUSDT</th>\n",
       "      <td>0.000035</td>\n",
       "      <td>0.000000e+00</td>\n",
       "      <td>0.000035</td>\n",
       "      <td>-5.503282</td>\n",
       "      <td>0.000034</td>\n",
       "      <td>0.000034</td>\n",
       "      <td>0.000035</td>\n",
       "      <td>0.004073</td>\n",
       "      <td>1.147830e+09</td>\n",
       "      <td>3.961160e+04</td>\n",
       "    </tr>\n",
       "  </tbody>\n",
       "</table>\n",
       "<p>956964 rows × 10 columns</p>\n",
       "</div>"
      ],
      "text/plain": [
       "                                    close      creturns         high  \\\n",
       "date                coin                                               \n",
       "2017-08-17 05:00:00 BTCUSDT   4315.320000  1.506209e-03  4328.690000   \n",
       "                    ETHUSDT    303.100006  4.940270e-03   303.279999   \n",
       "2017-08-17 06:00:00 BTCUSDT   4324.350000  3.151810e-06  4345.450000   \n",
       "2017-08-17 07:00:00 BTCUSDT   4349.990000  1.868776e-08  4349.990000   \n",
       "                    ETHUSDT    307.959991  8.617874e-05   307.959991   \n",
       "...                                   ...           ...          ...   \n",
       "2024-12-27 23:00:00 SYSUSDT      0.112200  0.000000e+00     0.112400   \n",
       "                    TRXUSDT      0.259400  0.000000e+00     0.259600   \n",
       "                    VETUSDT      0.045760  0.000000e+00     0.045760   \n",
       "                    WAXPUSDT     0.040910  0.000000e+00     0.040940   \n",
       "                    XECUSDT      0.000035  0.000000e+00     0.000035   \n",
       "\n",
       "                              log_return          low         open  \\\n",
       "date                coin                                             \n",
       "2017-08-17 05:00:00 BTCUSDT    -6.498159  4291.370000  4308.830000   \n",
       "                    ETHUSDT    -5.310335   300.000000   301.609985   \n",
       "2017-08-17 06:00:00 BTCUSDT    -6.169374  4309.370000  4330.290000   \n",
       "2017-08-17 07:00:00 BTCUSDT    -5.127863  4287.410000  4316.620000   \n",
       "                    ETHUSDT    -4.048752   302.600006   302.679993   \n",
       "...                                  ...          ...          ...   \n",
       "2024-12-27 23:00:00 SYSUSDT    -5.632999     0.111100     0.111600   \n",
       "                    TRXUSDT    -7.860292     0.258600     0.259400   \n",
       "                    VETUSDT    -5.479996     0.045370     0.045580   \n",
       "                    WAXPUSDT   -5.915972     0.040590     0.040770   \n",
       "                    XECUSDT    -5.503282     0.000034     0.000034   \n",
       "\n",
       "                                    price   returns        volume  \\\n",
       "date                coin                                            \n",
       "2017-08-17 05:00:00 BTCUSDT   4315.320000  0.001506  2.323492e+01   \n",
       "                    ETHUSDT    303.100006  0.004940  3.776725e+02   \n",
       "2017-08-17 06:00:00 BTCUSDT   4324.350000  0.002093  7.229691e+00   \n",
       "2017-08-17 07:00:00 BTCUSDT   4349.990000  0.005929  4.443249e+00   \n",
       "                    ETHUSDT    307.959991  0.017444  7.547451e+02   \n",
       "...                                   ...       ...           ...   \n",
       "2024-12-27 23:00:00 SYSUSDT      0.112200  0.003578  7.290790e+05   \n",
       "                    TRXUSDT      0.259400  0.000386  1.499596e+07   \n",
       "                    VETUSDT      0.045760  0.004169  1.004372e+07   \n",
       "                    WAXPUSDT     0.040910  0.002696  1.056349e+06   \n",
       "                    XECUSDT      0.000035  0.004073  1.147830e+09   \n",
       "\n",
       "                              volume_in_dollars  \n",
       "date                coin                         \n",
       "2017-08-17 05:00:00 BTCUSDT        1.002661e+05  \n",
       "                    ETHUSDT        1.144725e+05  \n",
       "2017-08-17 06:00:00 BTCUSDT        3.126371e+04  \n",
       "2017-08-17 07:00:00 BTCUSDT        1.932809e+04  \n",
       "                    ETHUSDT        2.324313e+05  \n",
       "...                                         ...  \n",
       "2024-12-27 23:00:00 SYSUSDT        8.180266e+04  \n",
       "                    TRXUSDT        3.889953e+06  \n",
       "                    VETUSDT        4.596008e+05  \n",
       "                    WAXPUSDT       4.321524e+04  \n",
       "                    XECUSDT        3.961160e+04  \n",
       "\n",
       "[956964 rows x 10 columns]"
      ]
     },
     "execution_count": 2,
     "metadata": {},
     "output_type": "execute_result"
    }
   ],
   "source": [
    "# Specify the relative or absolute path to the CSV file\n",
    "file_path = r\"C:\\Users\\yassi\\OneDrive\\Documents\\GitHub\\Portfolio_1\\Technical_Portfolio\\Data_Management\\all_data.csv\"\n",
    "\n",
    "# Read the CSV file\n",
    "all_data = pd.read_csv(file_path, index_col=['date', 'coin'], parse_dates=['date'])\n",
    "all_data"
   ]
  },
  {
   "cell_type": "code",
   "execution_count": 3,
   "metadata": {},
   "outputs": [
    {
     "data": {
      "text/html": [
       "<div>\n",
       "<style scoped>\n",
       "    .dataframe tbody tr th:only-of-type {\n",
       "        vertical-align: middle;\n",
       "    }\n",
       "\n",
       "    .dataframe tbody tr th {\n",
       "        vertical-align: top;\n",
       "    }\n",
       "\n",
       "    .dataframe thead th {\n",
       "        text-align: right;\n",
       "    }\n",
       "</style>\n",
       "<table border=\"1\" class=\"dataframe\">\n",
       "  <thead>\n",
       "    <tr style=\"text-align: right;\">\n",
       "      <th></th>\n",
       "      <th></th>\n",
       "      <th>close</th>\n",
       "      <th>creturns</th>\n",
       "      <th>high</th>\n",
       "      <th>log_return</th>\n",
       "      <th>low</th>\n",
       "      <th>open</th>\n",
       "      <th>price</th>\n",
       "      <th>returns</th>\n",
       "      <th>volume</th>\n",
       "      <th>volume_in_dollars</th>\n",
       "    </tr>\n",
       "    <tr>\n",
       "      <th>date</th>\n",
       "      <th>coin</th>\n",
       "      <th></th>\n",
       "      <th></th>\n",
       "      <th></th>\n",
       "      <th></th>\n",
       "      <th></th>\n",
       "      <th></th>\n",
       "      <th></th>\n",
       "      <th></th>\n",
       "      <th></th>\n",
       "      <th></th>\n",
       "    </tr>\n",
       "  </thead>\n",
       "  <tbody>\n",
       "    <tr>\n",
       "      <th rowspan=\"5\" valign=\"top\">2020-01-01 01:00:00</th>\n",
       "      <th>ADAUSDT</th>\n",
       "      <td>0.03299</td>\n",
       "      <td>1.006406</td>\n",
       "      <td>0.03303</td>\n",
       "      <td>0.006386</td>\n",
       "      <td>0.03276</td>\n",
       "      <td>0.03277</td>\n",
       "      <td>0.03299</td>\n",
       "      <td>0.006406</td>\n",
       "      <td>1.560752e+06</td>\n",
       "      <td>5.148920e+04</td>\n",
       "    </tr>\n",
       "    <tr>\n",
       "      <th>BNBUSDT</th>\n",
       "      <td>13.79950</td>\n",
       "      <td>1.007402</td>\n",
       "      <td>13.80000</td>\n",
       "      <td>0.007375</td>\n",
       "      <td>13.69530</td>\n",
       "      <td>13.69810</td>\n",
       "      <td>13.79950</td>\n",
       "      <td>0.007402</td>\n",
       "      <td>5.379125e+04</td>\n",
       "      <td>7.422924e+05</td>\n",
       "    </tr>\n",
       "    <tr>\n",
       "      <th>BTCUSDT</th>\n",
       "      <td>7216.27000</td>\n",
       "      <td>1.005469</td>\n",
       "      <td>7230.00000</td>\n",
       "      <td>0.005454</td>\n",
       "      <td>7175.71000</td>\n",
       "      <td>7176.47000</td>\n",
       "      <td>7216.27000</td>\n",
       "      <td>0.005469</td>\n",
       "      <td>8.830526e+02</td>\n",
       "      <td>6.372346e+06</td>\n",
       "    </tr>\n",
       "    <tr>\n",
       "      <th>ETHUSDT</th>\n",
       "      <td>130.64000</td>\n",
       "      <td>1.013735</td>\n",
       "      <td>130.65000</td>\n",
       "      <td>0.013641</td>\n",
       "      <td>128.78000</td>\n",
       "      <td>128.87000</td>\n",
       "      <td>130.64000</td>\n",
       "      <td>0.013735</td>\n",
       "      <td>1.134466e+04</td>\n",
       "      <td>1.482066e+06</td>\n",
       "    </tr>\n",
       "    <tr>\n",
       "      <th>XRPUSDT</th>\n",
       "      <td>0.19371</td>\n",
       "      <td>1.006390</td>\n",
       "      <td>0.19372</td>\n",
       "      <td>0.006370</td>\n",
       "      <td>0.19237</td>\n",
       "      <td>0.19243</td>\n",
       "      <td>0.19371</td>\n",
       "      <td>0.006390</td>\n",
       "      <td>2.339976e+06</td>\n",
       "      <td>4.532768e+05</td>\n",
       "    </tr>\n",
       "    <tr>\n",
       "      <th>...</th>\n",
       "      <th>...</th>\n",
       "      <td>...</td>\n",
       "      <td>...</td>\n",
       "      <td>...</td>\n",
       "      <td>...</td>\n",
       "      <td>...</td>\n",
       "      <td>...</td>\n",
       "      <td>...</td>\n",
       "      <td>...</td>\n",
       "      <td>...</td>\n",
       "      <td>...</td>\n",
       "    </tr>\n",
       "    <tr>\n",
       "      <th rowspan=\"5\" valign=\"top\">2020-02-29 23:00:00</th>\n",
       "      <th>ADAUSDT</th>\n",
       "      <td>0.04710</td>\n",
       "      <td>1.436852</td>\n",
       "      <td>0.04801</td>\n",
       "      <td>-0.017051</td>\n",
       "      <td>0.04707</td>\n",
       "      <td>0.04793</td>\n",
       "      <td>0.04710</td>\n",
       "      <td>-0.016907</td>\n",
       "      <td>8.772487e+06</td>\n",
       "      <td>4.131841e+05</td>\n",
       "    </tr>\n",
       "    <tr>\n",
       "      <th>BNBUSDT</th>\n",
       "      <td>19.23000</td>\n",
       "      <td>1.403844</td>\n",
       "      <td>19.71550</td>\n",
       "      <td>-0.022028</td>\n",
       "      <td>19.22960</td>\n",
       "      <td>19.66980</td>\n",
       "      <td>19.23000</td>\n",
       "      <td>-0.021787</td>\n",
       "      <td>1.666720e+05</td>\n",
       "      <td>3.205104e+06</td>\n",
       "    </tr>\n",
       "    <tr>\n",
       "      <th>BTCUSDT</th>\n",
       "      <td>8523.61000</td>\n",
       "      <td>1.187625</td>\n",
       "      <td>8659.96000</td>\n",
       "      <td>-0.012943</td>\n",
       "      <td>8523.55000</td>\n",
       "      <td>8634.94000</td>\n",
       "      <td>8523.61000</td>\n",
       "      <td>-0.012860</td>\n",
       "      <td>2.007037e+03</td>\n",
       "      <td>1.710720e+07</td>\n",
       "    </tr>\n",
       "    <tr>\n",
       "      <th>ETHUSDT</th>\n",
       "      <td>217.21000</td>\n",
       "      <td>1.685497</td>\n",
       "      <td>223.75000</td>\n",
       "      <td>-0.027920</td>\n",
       "      <td>217.00000</td>\n",
       "      <td>223.35000</td>\n",
       "      <td>217.21000</td>\n",
       "      <td>-0.027534</td>\n",
       "      <td>3.525650e+04</td>\n",
       "      <td>7.658064e+06</td>\n",
       "    </tr>\n",
       "    <tr>\n",
       "      <th>XRPUSDT</th>\n",
       "      <td>0.22892</td>\n",
       "      <td>1.189318</td>\n",
       "      <td>0.23472</td>\n",
       "      <td>-0.022119</td>\n",
       "      <td>0.22870</td>\n",
       "      <td>0.23404</td>\n",
       "      <td>0.22892</td>\n",
       "      <td>-0.021877</td>\n",
       "      <td>6.806156e+06</td>\n",
       "      <td>1.558065e+06</td>\n",
       "    </tr>\n",
       "  </tbody>\n",
       "</table>\n",
       "<p>7165 rows × 10 columns</p>\n",
       "</div>"
      ],
      "text/plain": [
       "                                  close  creturns        high  log_return  \\\n",
       "date                coin                                                    \n",
       "2020-01-01 01:00:00 ADAUSDT     0.03299  1.006406     0.03303    0.006386   \n",
       "                    BNBUSDT    13.79950  1.007402    13.80000    0.007375   \n",
       "                    BTCUSDT  7216.27000  1.005469  7230.00000    0.005454   \n",
       "                    ETHUSDT   130.64000  1.013735   130.65000    0.013641   \n",
       "                    XRPUSDT     0.19371  1.006390     0.19372    0.006370   \n",
       "...                                 ...       ...         ...         ...   \n",
       "2020-02-29 23:00:00 ADAUSDT     0.04710  1.436852     0.04801   -0.017051   \n",
       "                    BNBUSDT    19.23000  1.403844    19.71550   -0.022028   \n",
       "                    BTCUSDT  8523.61000  1.187625  8659.96000   -0.012943   \n",
       "                    ETHUSDT   217.21000  1.685497   223.75000   -0.027920   \n",
       "                    XRPUSDT     0.22892  1.189318     0.23472   -0.022119   \n",
       "\n",
       "                                    low        open       price   returns  \\\n",
       "date                coin                                                    \n",
       "2020-01-01 01:00:00 ADAUSDT     0.03276     0.03277     0.03299  0.006406   \n",
       "                    BNBUSDT    13.69530    13.69810    13.79950  0.007402   \n",
       "                    BTCUSDT  7175.71000  7176.47000  7216.27000  0.005469   \n",
       "                    ETHUSDT   128.78000   128.87000   130.64000  0.013735   \n",
       "                    XRPUSDT     0.19237     0.19243     0.19371  0.006390   \n",
       "...                                 ...         ...         ...       ...   \n",
       "2020-02-29 23:00:00 ADAUSDT     0.04707     0.04793     0.04710 -0.016907   \n",
       "                    BNBUSDT    19.22960    19.66980    19.23000 -0.021787   \n",
       "                    BTCUSDT  8523.55000  8634.94000  8523.61000 -0.012860   \n",
       "                    ETHUSDT   217.00000   223.35000   217.21000 -0.027534   \n",
       "                    XRPUSDT     0.22870     0.23404     0.22892 -0.021877   \n",
       "\n",
       "                                   volume  volume_in_dollars  \n",
       "date                coin                                      \n",
       "2020-01-01 01:00:00 ADAUSDT  1.560752e+06       5.148920e+04  \n",
       "                    BNBUSDT  5.379125e+04       7.422924e+05  \n",
       "                    BTCUSDT  8.830526e+02       6.372346e+06  \n",
       "                    ETHUSDT  1.134466e+04       1.482066e+06  \n",
       "                    XRPUSDT  2.339976e+06       4.532768e+05  \n",
       "...                                   ...                ...  \n",
       "2020-02-29 23:00:00 ADAUSDT  8.772487e+06       4.131841e+05  \n",
       "                    BNBUSDT  1.666720e+05       3.205104e+06  \n",
       "                    BTCUSDT  2.007037e+03       1.710720e+07  \n",
       "                    ETHUSDT  3.525650e+04       7.658064e+06  \n",
       "                    XRPUSDT  6.806156e+06       1.558065e+06  \n",
       "\n",
       "[7165 rows x 10 columns]"
      ]
     },
     "execution_count": 3,
     "metadata": {},
     "output_type": "execute_result"
    }
   ],
   "source": [
    "start_time = dt.datetime(2020, 1, 1)\n",
    "end_time = dt.datetime(2020, 3, 1)\n",
    "timeframes = ['1w', '1d', '4h', '1h', '30m','15m', '5m', '1m']\n",
    "index = 3 #It is better to choose the highest frequency for the backtest to be able to downsample\n",
    "interval = timeframes[index]\n",
    "symbols = ['BTCUSDT', 'ETHUSDT', 'BNBUSDT', 'ADAUSDT', 'XRPUSDT']\n",
    "data = Data(symbols, interval, start_time, end_time).df\n",
    "data"
   ]
  },
  {
   "cell_type": "markdown",
   "metadata": {},
   "source": [
    "---"
   ]
  },
  {
   "cell_type": "markdown",
   "metadata": {},
   "source": [
    "Call each Strategy"
   ]
  },
  {
   "cell_type": "code",
   "execution_count": 4,
   "metadata": {},
   "outputs": [],
   "source": [
    "mr_strat_1 = Last_Days_Low(data, objective = 'multiple')\n",
    "tf_strat_1 = Sprtrnd_Breakout(data, objective = 'multiple')"
   ]
  },
  {
   "cell_type": "code",
   "execution_count": 5,
   "metadata": {},
   "outputs": [
    {
     "name": "stdout",
     "output_type": "stream",
     "text": [
      "0.9985940661180278\n",
      "1.0001144711726988\n",
      "1.288622946680158\n",
      "1.3073460722392323\n",
      "1.4287666017137808\n",
      "1.0612887315816182\n",
      "0\n",
      "0\n",
      "0\n",
      "1.0684292610821409\n",
      "{'std_window': 19, 'mean_window': 6, 'ema_window': 85, 'hourly_lookback': 3, 'daily_lookback': 3, '_min_pos': 0.6949941493453458, '_max_pos': 0.727271995856421, 'sl_ind_length': 20, 'sl_ind_mult': 3.066997884824298, 'tp_mult': 5, 'ptp_mult': 1.9611720243493493, 'ptp_exit_percent': 0.8600804638103364}\n",
      "[19, 6, 85, 3, 3, 0.6949941493453458, 0.727271995856421, 20, 3.066997884824298, 5, 1.9611720243493493, 0.8600804638103364]\n",
      "Out-of-sample performance: 1.0589178981156397\n",
      "1.0124721972172892\n",
      "0.999665509649909\n",
      "0.9997335036910644\n",
      "1.1341809296567864\n",
      "1.0589178981156397\n",
      "1.0806407355859902\n",
      "1.2811938210727913\n",
      "1.0643701821242288\n",
      "1.0370345267507624\n",
      "0.9968798310383705\n",
      "{'std_window': 5, 'mean_window': 10, 'ema_window': 73, 'hourly_lookback': 4, 'daily_lookback': 3, '_min_pos': 0.6947256588850119, '_max_pos': 0.6510770255019446, 'sl_ind_length': 46, 'sl_ind_mult': 4.325173600054098, 'tp_mult': 4, 'ptp_mult': 1.0954101164904113, 'ptp_exit_percent': 0.43373642697843984}\n",
      "[5, 10, 73, 4, 3, 0.6947256588850119, 0.6510770255019446, 46, 4.325173600054098, 4, 1.0954101164904113, 0.43373642697843984]\n",
      "Out-of-sample performance: 0.9721992538391047\n"
     ]
    }
   ],
   "source": [
    "mr_strat_1.test()"
   ]
  },
  {
   "cell_type": "code",
   "execution_count": 6,
   "metadata": {},
   "outputs": [
    {
     "name": "stdout",
     "output_type": "stream",
     "text": [
      "1.1401842662328976\n",
      "1.0007049024869508\n",
      "1.5193259621884048\n",
      "1.643414497991856\n",
      "1.5702707563012241\n",
      "1.1449014085051252\n",
      "1.5355982200464602\n",
      "1.7779991045358492\n",
      "1.3102038770459095\n",
      "1.12710874841073\n",
      "{'std_window': 22, 'mean_window': 22, 'ema_window': 61, 'str_length': 17, 'str_mult': 3, '_min_pos': 0.28719515606534246, '_max_pos': 0.971712095389104, 'sl_ind_length': 43, 'sl_ind_mult': 3.7477828452419297, 'tp_mult': 3, 'ptp_mult': 1.256068322761324, 'ptp_exit_percent': 0.1363902305845882}\n",
      "[22, 22, 61, 17, 3, 0.28719515606534246, 0.971712095389104, 43, 3.7477828452419297, 3, 1.256068322761324, 0.1363902305845882]\n",
      "Out-of-sample performance: 1.564044826286511\n",
      "1.0186769910984994\n",
      "1.000098214684256\n",
      "1.530392934140407\n",
      "0.9796110485991647\n",
      "1.382606026212551\n",
      "1.1024823208280017\n",
      "1.3986461447622471\n",
      "1.564044826286511\n",
      "1.1992069124942581\n",
      "1.0486127064211068\n",
      "{'std_window': 22, 'mean_window': 22, 'ema_window': 61, 'str_length': 17, 'str_mult': 3, '_min_pos': 0.28719515606534246, '_max_pos': 0.971712095389104, 'sl_ind_length': 43, 'sl_ind_mult': 3.7477828452419297, 'tp_mult': 3, 'ptp_mult': 1.256068322761324, 'ptp_exit_percent': 0.1363902305845882}\n",
      "[22, 22, 61, 17, 3, 0.28719515606534246, 0.971712095389104, 43, 3.7477828452419297, 3, 1.256068322761324, 0.1363902305845882]\n",
      "Out-of-sample performance: 0.9398461514781263\n"
     ]
    }
   ],
   "source": [
    "tf_strat_1.test()"
   ]
  },
  {
   "cell_type": "code",
   "execution_count": 8,
   "metadata": {},
   "outputs": [],
   "source": [
    "#Create a dummy results that represents holding cash where the value of the portfolio is constant\n",
    "cash_df = pd.DataFrame(data = {'strategy': np.zeros(data.shape[0]), 'portfolio_value': np.ones(data.shape[0])}, index = data.index)\n",
    "cash_df\n",
    "strategy_map = {'cash_strat': cash_df.strategy,\n",
    "                'mr_strat_1': mr_strat_1.results.strategy,\n",
    "                'tf_strat_1': tf_strat_1.results.strategy}"
   ]
  },
  {
   "cell_type": "code",
   "execution_count": 9,
   "metadata": {},
   "outputs": [
    {
     "data": {
      "text/html": [
       "<div>\n",
       "<style scoped>\n",
       "    .dataframe tbody tr th:only-of-type {\n",
       "        vertical-align: middle;\n",
       "    }\n",
       "\n",
       "    .dataframe tbody tr th {\n",
       "        vertical-align: top;\n",
       "    }\n",
       "\n",
       "    .dataframe thead th {\n",
       "        text-align: right;\n",
       "    }\n",
       "</style>\n",
       "<table border=\"1\" class=\"dataframe\">\n",
       "  <thead>\n",
       "    <tr style=\"text-align: right;\">\n",
       "      <th></th>\n",
       "      <th></th>\n",
       "      <th>cash_strat</th>\n",
       "      <th>mr_strat_1</th>\n",
       "      <th>tf_strat_1</th>\n",
       "    </tr>\n",
       "    <tr>\n",
       "      <th>date</th>\n",
       "      <th></th>\n",
       "      <th></th>\n",
       "      <th></th>\n",
       "      <th></th>\n",
       "    </tr>\n",
       "  </thead>\n",
       "  <tbody>\n",
       "    <tr>\n",
       "      <th rowspan=\"5\" valign=\"top\">2020-01-01 01:00:00</th>\n",
       "      <th>ADAUSDT</th>\n",
       "      <td>0.0</td>\n",
       "      <td>0.0</td>\n",
       "      <td>0.0</td>\n",
       "    </tr>\n",
       "    <tr>\n",
       "      <th>BNBUSDT</th>\n",
       "      <td>0.0</td>\n",
       "      <td>0.0</td>\n",
       "      <td>0.0</td>\n",
       "    </tr>\n",
       "    <tr>\n",
       "      <th>BTCUSDT</th>\n",
       "      <td>0.0</td>\n",
       "      <td>0.0</td>\n",
       "      <td>0.0</td>\n",
       "    </tr>\n",
       "    <tr>\n",
       "      <th>ETHUSDT</th>\n",
       "      <td>0.0</td>\n",
       "      <td>0.0</td>\n",
       "      <td>0.0</td>\n",
       "    </tr>\n",
       "    <tr>\n",
       "      <th>XRPUSDT</th>\n",
       "      <td>0.0</td>\n",
       "      <td>0.0</td>\n",
       "      <td>0.0</td>\n",
       "    </tr>\n",
       "    <tr>\n",
       "      <th>...</th>\n",
       "      <th>...</th>\n",
       "      <td>...</td>\n",
       "      <td>...</td>\n",
       "      <td>...</td>\n",
       "    </tr>\n",
       "    <tr>\n",
       "      <th rowspan=\"5\" valign=\"top\">2020-02-29 23:00:00</th>\n",
       "      <th>ADAUSDT</th>\n",
       "      <td>0.0</td>\n",
       "      <td>0.0</td>\n",
       "      <td>0.0</td>\n",
       "    </tr>\n",
       "    <tr>\n",
       "      <th>BNBUSDT</th>\n",
       "      <td>0.0</td>\n",
       "      <td>0.0</td>\n",
       "      <td>0.0</td>\n",
       "    </tr>\n",
       "    <tr>\n",
       "      <th>BTCUSDT</th>\n",
       "      <td>0.0</td>\n",
       "      <td>0.0</td>\n",
       "      <td>0.0</td>\n",
       "    </tr>\n",
       "    <tr>\n",
       "      <th>ETHUSDT</th>\n",
       "      <td>0.0</td>\n",
       "      <td>0.0</td>\n",
       "      <td>0.0</td>\n",
       "    </tr>\n",
       "    <tr>\n",
       "      <th>XRPUSDT</th>\n",
       "      <td>0.0</td>\n",
       "      <td>0.0</td>\n",
       "      <td>0.0</td>\n",
       "    </tr>\n",
       "  </tbody>\n",
       "</table>\n",
       "<p>7165 rows × 3 columns</p>\n",
       "</div>"
      ],
      "text/plain": [
       "                             cash_strat  mr_strat_1  tf_strat_1\n",
       "date                                                           \n",
       "2020-01-01 01:00:00 ADAUSDT         0.0         0.0         0.0\n",
       "                    BNBUSDT         0.0         0.0         0.0\n",
       "                    BTCUSDT         0.0         0.0         0.0\n",
       "                    ETHUSDT         0.0         0.0         0.0\n",
       "                    XRPUSDT         0.0         0.0         0.0\n",
       "...                                 ...         ...         ...\n",
       "2020-02-29 23:00:00 ADAUSDT         0.0         0.0         0.0\n",
       "                    BNBUSDT         0.0         0.0         0.0\n",
       "                    BTCUSDT         0.0         0.0         0.0\n",
       "                    ETHUSDT         0.0         0.0         0.0\n",
       "                    XRPUSDT         0.0         0.0         0.0\n",
       "\n",
       "[7165 rows x 3 columns]"
      ]
     },
     "execution_count": 9,
     "metadata": {},
     "output_type": "execute_result"
    }
   ],
   "source": [
    "weights = [0.34, 0.34, 0.33]\n",
    "log_rets = pd.concat(strategy_map, axis = 1).fillna(0)\n",
    "log_rets"
   ]
  },
  {
   "cell_type": "markdown",
   "metadata": {},
   "source": [
    "---"
   ]
  },
  {
   "cell_type": "code",
   "execution_count": 17,
   "metadata": {},
   "outputs": [],
   "source": [
    "import pickle\n",
    "# Save to a file\n",
    "with open(\"variables.pkl\", \"wb\") as file:\n",
    "    pickle.dump(log_rets, file)"
   ]
  },
  {
   "cell_type": "code",
   "execution_count": 2,
   "metadata": {},
   "outputs": [
    {
     "data": {
      "text/html": [
       "<div>\n",
       "<style scoped>\n",
       "    .dataframe tbody tr th:only-of-type {\n",
       "        vertical-align: middle;\n",
       "    }\n",
       "\n",
       "    .dataframe tbody tr th {\n",
       "        vertical-align: top;\n",
       "    }\n",
       "\n",
       "    .dataframe thead th {\n",
       "        text-align: right;\n",
       "    }\n",
       "</style>\n",
       "<table border=\"1\" class=\"dataframe\">\n",
       "  <thead>\n",
       "    <tr style=\"text-align: right;\">\n",
       "      <th></th>\n",
       "      <th></th>\n",
       "      <th>cash_strat</th>\n",
       "      <th>mr_strat_1</th>\n",
       "      <th>tf_strat_1</th>\n",
       "    </tr>\n",
       "    <tr>\n",
       "      <th>date</th>\n",
       "      <th></th>\n",
       "      <th></th>\n",
       "      <th></th>\n",
       "      <th></th>\n",
       "    </tr>\n",
       "  </thead>\n",
       "  <tbody>\n",
       "    <tr>\n",
       "      <th rowspan=\"5\" valign=\"top\">2020-01-01 01:00:00</th>\n",
       "      <th>ADAUSDT</th>\n",
       "      <td>0.0</td>\n",
       "      <td>0.0</td>\n",
       "      <td>0.0</td>\n",
       "    </tr>\n",
       "    <tr>\n",
       "      <th>BNBUSDT</th>\n",
       "      <td>0.0</td>\n",
       "      <td>0.0</td>\n",
       "      <td>0.0</td>\n",
       "    </tr>\n",
       "    <tr>\n",
       "      <th>BTCUSDT</th>\n",
       "      <td>0.0</td>\n",
       "      <td>0.0</td>\n",
       "      <td>0.0</td>\n",
       "    </tr>\n",
       "    <tr>\n",
       "      <th>ETHUSDT</th>\n",
       "      <td>0.0</td>\n",
       "      <td>0.0</td>\n",
       "      <td>0.0</td>\n",
       "    </tr>\n",
       "    <tr>\n",
       "      <th>XRPUSDT</th>\n",
       "      <td>0.0</td>\n",
       "      <td>0.0</td>\n",
       "      <td>0.0</td>\n",
       "    </tr>\n",
       "    <tr>\n",
       "      <th>...</th>\n",
       "      <th>...</th>\n",
       "      <td>...</td>\n",
       "      <td>...</td>\n",
       "      <td>...</td>\n",
       "    </tr>\n",
       "    <tr>\n",
       "      <th rowspan=\"5\" valign=\"top\">2020-02-29 23:00:00</th>\n",
       "      <th>ADAUSDT</th>\n",
       "      <td>0.0</td>\n",
       "      <td>0.0</td>\n",
       "      <td>0.0</td>\n",
       "    </tr>\n",
       "    <tr>\n",
       "      <th>BNBUSDT</th>\n",
       "      <td>0.0</td>\n",
       "      <td>0.0</td>\n",
       "      <td>0.0</td>\n",
       "    </tr>\n",
       "    <tr>\n",
       "      <th>BTCUSDT</th>\n",
       "      <td>0.0</td>\n",
       "      <td>0.0</td>\n",
       "      <td>0.0</td>\n",
       "    </tr>\n",
       "    <tr>\n",
       "      <th>ETHUSDT</th>\n",
       "      <td>0.0</td>\n",
       "      <td>0.0</td>\n",
       "      <td>0.0</td>\n",
       "    </tr>\n",
       "    <tr>\n",
       "      <th>XRPUSDT</th>\n",
       "      <td>0.0</td>\n",
       "      <td>0.0</td>\n",
       "      <td>0.0</td>\n",
       "    </tr>\n",
       "  </tbody>\n",
       "</table>\n",
       "<p>7165 rows × 3 columns</p>\n",
       "</div>"
      ],
      "text/plain": [
       "                             cash_strat  mr_strat_1  tf_strat_1\n",
       "date                                                           \n",
       "2020-01-01 01:00:00 ADAUSDT         0.0         0.0         0.0\n",
       "                    BNBUSDT         0.0         0.0         0.0\n",
       "                    BTCUSDT         0.0         0.0         0.0\n",
       "                    ETHUSDT         0.0         0.0         0.0\n",
       "                    XRPUSDT         0.0         0.0         0.0\n",
       "...                                 ...         ...         ...\n",
       "2020-02-29 23:00:00 ADAUSDT         0.0         0.0         0.0\n",
       "                    BNBUSDT         0.0         0.0         0.0\n",
       "                    BTCUSDT         0.0         0.0         0.0\n",
       "                    ETHUSDT         0.0         0.0         0.0\n",
       "                    XRPUSDT         0.0         0.0         0.0\n",
       "\n",
       "[7165 rows x 3 columns]"
      ]
     },
     "execution_count": 2,
     "metadata": {},
     "output_type": "execute_result"
    }
   ],
   "source": [
    "import pickle\n",
    "with open(\"variables.pkl\", \"rb\") as file:\n",
    "    log_rets = pickle.load(file)\n",
    "    \n",
    "log_rets"
   ]
  },
  {
   "cell_type": "code",
   "execution_count": 5,
   "metadata": {},
   "outputs": [],
   "source": [
    "wfo = Portfolio_Optimization(strategies = log_rets, train_size = 1000, test_size = 1000, step_size = 1000, objective = 'multiple')"
   ]
  },
  {
   "cell_type": "code",
   "execution_count": 6,
   "metadata": {},
   "outputs": [
    {
     "name": "stdout",
     "output_type": "stream",
     "text": [
      "Out-of-sample performance: 0\n",
      "Out-of-sample performance: 1.0026573977322712\n",
      "Out-of-sample performance: 1.5516419359017726\n",
      "Out-of-sample performance: 1.0647326063147773\n",
      "Out-of-sample performance: 0.8827062737667963\n",
      "Out-of-sample performance: 0\n"
     ]
    }
   ],
   "source": [
    "all_performance, all_results = wfo.walk_forward_optimization()"
   ]
  },
  {
   "cell_type": "code",
   "execution_count": 7,
   "metadata": {},
   "outputs": [],
   "source": [
    "creturns = all_results.cumsum().apply(np.exp)"
   ]
  },
  {
   "cell_type": "code",
   "execution_count": 8,
   "metadata": {},
   "outputs": [
    {
     "data": {
      "text/plain": [
       "<Axes: >"
      ]
     },
     "execution_count": 8,
     "metadata": {},
     "output_type": "execute_result"
    },
    {
     "data": {
      "image/png": "[encoded data removed]",
      "text/plain": [
       "<Figure size 1000x600 with 1 Axes>"
      ]
     },
     "metadata": {},
     "output_type": "display_data"
    }
   ],
   "source": [
    "creturns.plot()"
   ]
  },
  {
   "cell_type": "markdown",
   "metadata": {},
   "source": [
    "---"
   ]
  },
  {
   "cell_type": "markdown",
   "metadata": {},
   "source": [
    "Max Drawdown Limit"
   ]
  },
  {
   "cell_type": "markdown",
   "metadata": {},
   "source": [
    "Get the current drawdown for the returns -> when drawdown > threshold drawdown -> make strategy return == 0, else leave it as is "
   ]
  },
  {
   "cell_type": "code",
   "execution_count": 36,
   "metadata": {},
   "outputs": [],
   "source": [
    "# Step 2: Calculate cumulative maximum\n",
    "cumulative_max = creturns.cummax()\n",
    "\n",
    "# Step 3: Calculate drawdown\n",
    "drawdown = (creturns - cumulative_max) / cumulative_max"
   ]
  },
  {
   "cell_type": "code",
   "execution_count": 37,
   "metadata": {},
   "outputs": [
    {
     "data": {
      "text/plain": [
       "<Axes: >"
      ]
     },
     "execution_count": 37,
     "metadata": {},
     "output_type": "execute_result"
    },
    {
     "data": {
      "image/png": "[encoded data removed]",
      "text/plain": [
       "<Figure size 1000x600 with 1 Axes>"
      ]
     },
     "metadata": {},
     "output_type": "display_data"
    }
   ],
   "source": [
    "drawdown.plot()"
   ]
  },
  {
   "cell_type": "code",
   "execution_count": 71,
   "metadata": {},
   "outputs": [
    {
     "data": {
      "text/plain": [
       "True"
      ]
     },
     "execution_count": 71,
     "metadata": {},
     "output_type": "execute_result"
    }
   ],
   "source": [
    "all_results.index.equals(drawdown.index)"
   ]
  },
  {
   "cell_type": "code",
   "execution_count": 73,
   "metadata": {},
   "outputs": [
    {
     "data": {
      "text/html": [
       "<div>\n",
       "<style scoped>\n",
       "    .dataframe tbody tr th:only-of-type {\n",
       "        vertical-align: middle;\n",
       "    }\n",
       "\n",
       "    .dataframe tbody tr th {\n",
       "        vertical-align: top;\n",
       "    }\n",
       "\n",
       "    .dataframe thead th {\n",
       "        text-align: right;\n",
       "    }\n",
       "</style>\n",
       "<table border=\"1\" class=\"dataframe\">\n",
       "  <thead>\n",
       "    <tr style=\"text-align: right;\">\n",
       "      <th></th>\n",
       "      <th>0</th>\n",
       "    </tr>\n",
       "  </thead>\n",
       "  <tbody>\n",
       "    <tr>\n",
       "      <th>0</th>\n",
       "      <td>0.000000</td>\n",
       "    </tr>\n",
       "    <tr>\n",
       "      <th>1</th>\n",
       "      <td>0.000000</td>\n",
       "    </tr>\n",
       "    <tr>\n",
       "      <th>2</th>\n",
       "      <td>0.000000</td>\n",
       "    </tr>\n",
       "    <tr>\n",
       "      <th>3</th>\n",
       "      <td>0.000000</td>\n",
       "    </tr>\n",
       "    <tr>\n",
       "      <th>4</th>\n",
       "      <td>0.000000</td>\n",
       "    </tr>\n",
       "    <tr>\n",
       "      <th>...</th>\n",
       "      <td>...</td>\n",
       "    </tr>\n",
       "    <tr>\n",
       "      <th>5995</th>\n",
       "      <td>-0.157683</td>\n",
       "    </tr>\n",
       "    <tr>\n",
       "      <th>5996</th>\n",
       "      <td>-0.157683</td>\n",
       "    </tr>\n",
       "    <tr>\n",
       "      <th>5997</th>\n",
       "      <td>-0.157683</td>\n",
       "    </tr>\n",
       "    <tr>\n",
       "      <th>5998</th>\n",
       "      <td>-0.157683</td>\n",
       "    </tr>\n",
       "    <tr>\n",
       "      <th>5999</th>\n",
       "      <td>-0.157683</td>\n",
       "    </tr>\n",
       "  </tbody>\n",
       "</table>\n",
       "<p>6000 rows × 1 columns</p>\n",
       "</div>"
      ],
      "text/plain": [
       "             0\n",
       "0     0.000000\n",
       "1     0.000000\n",
       "2     0.000000\n",
       "3     0.000000\n",
       "4     0.000000\n",
       "...        ...\n",
       "5995 -0.157683\n",
       "5996 -0.157683\n",
       "5997 -0.157683\n",
       "5998 -0.157683\n",
       "5999 -0.157683\n",
       "\n",
       "[6000 rows x 1 columns]"
      ]
     },
     "execution_count": 73,
     "metadata": {},
     "output_type": "execute_result"
    }
   ],
   "source": [
    "drawdown"
   ]
  },
  {
   "cell_type": "code",
   "execution_count": 85,
   "metadata": {},
   "outputs": [],
   "source": [
    "threshold = -0.15\n",
    "returns = all_results[0]\n",
    "all_results['drawdown_threshold'] = np.where(drawdown[0] < threshold, 0, returns)"
   ]
  },
  {
   "cell_type": "code",
   "execution_count": 86,
   "metadata": {},
   "outputs": [
    {
     "data": {
      "text/plain": [
       "drawdown_threshold\n",
       " 0.000000e+00    4935\n",
       "-8.143158e-20       1\n",
       "-3.838284e-19       1\n",
       " 1.655716e-04       1\n",
       "-8.140602e-20       1\n",
       "                 ... \n",
       "-2.872872e-03       1\n",
       "-1.197343e-02       1\n",
       "-1.079032e-02       1\n",
       "-7.312095e-03       1\n",
       "-1.754980e-19       1\n",
       "Name: count, Length: 1066, dtype: int64"
      ]
     },
     "execution_count": 86,
     "metadata": {},
     "output_type": "execute_result"
    }
   ],
   "source": [
    "all_results['drawdown_threshold'].value_counts()"
   ]
  },
  {
   "cell_type": "code",
   "execution_count": 88,
   "metadata": {},
   "outputs": [
    {
     "data": {
      "text/plain": [
       "<Axes: >"
      ]
     },
     "execution_count": 88,
     "metadata": {},
     "output_type": "execute_result"
    },
    {
     "data": {
      "image/png": "[encoded data removed]",
      "text/plain": [
       "<Figure size 1000x600 with 1 Axes>"
      ]
     },
     "metadata": {},
     "output_type": "display_data"
    }
   ],
   "source": [
    "all_results['drawdown_threshold'].cumsum().apply(np.exp).plot() #Note that we haven't taken into account the transaction costs,\n",
    "    #so this might seem really good, bit transaction costs will eat into the profits"
   ]
  },
  {
   "cell_type": "code",
   "execution_count": 89,
   "metadata": {},
   "outputs": [
    {
     "data": {
      "text/plain": [
       "<Axes: >"
      ]
     },
     "execution_count": 89,
     "metadata": {},
     "output_type": "execute_result"
    },
    {
     "data": {
      "image/png": "[encoded data removed]",
      "text/plain": [
       "<Figure size 1000x600 with 1 Axes>"
      ]
     },
     "metadata": {},
     "output_type": "display_data"
    }
   ],
   "source": [
    "creturns.plot()"
   ]
  },
  {
   "cell_type": "markdown",
   "metadata": {},
   "source": [
    "---"
   ]
  },
  {
   "cell_type": "markdown",
   "metadata": {},
   "source": [
    "Trying to apply fees"
   ]
  },
  {
   "cell_type": "code",
   "execution_count": 122,
   "metadata": {},
   "outputs": [],
   "source": [
    "# Step 5: Apply fee when returns go from 0 to a return or return to 0\n",
    "maker = 0.25\n",
    "taker = 0.40\n",
    "drawdown_limit = all_results['drawdown_threshold']\n",
    "transitions = (np.sign(drawdown_limit) - np.sign(drawdown_limit.shift(1))).fillna(0)\n",
    "transitions = transitions.apply(lambda x: 1 if x == 1 else (-1 if x == -1 else 0))\n",
    "transitions[0] = 0  # No fee for the first element"
   ]
  },
  {
   "cell_type": "code",
   "execution_count": 123,
   "metadata": {},
   "outputs": [
    {
     "data": {
      "text/plain": [
       "drawdown_threshold\n",
       " 0    4746\n",
       " 1     629\n",
       "-1     625\n",
       "Name: count, dtype: int64"
      ]
     },
     "execution_count": 123,
     "metadata": {},
     "output_type": "execute_result"
    }
   ],
   "source": [
    "transitions.value_counts()"
   ]
  },
  {
   "cell_type": "code",
   "execution_count": 124,
   "metadata": {},
   "outputs": [],
   "source": [
    "all_results['trade_costs'] = np.where(\n",
    "            transitions > 0,\n",
    "            transitions * (maker / 100),\n",
    "            transitions * (taker / 100) * (-1)\n",
    "        )\n",
    "drawdown_limit_2 = drawdown_limit - all_results['trade_costs']"
   ]
  },
  {
   "cell_type": "code",
   "execution_count": 125,
   "metadata": {},
   "outputs": [
    {
     "data": {
      "text/plain": [
       "trade_costs\n",
       "-0.0000    4746\n",
       " 0.0025     629\n",
       " 0.0040     625\n",
       "Name: count, dtype: int64"
      ]
     },
     "execution_count": 125,
     "metadata": {},
     "output_type": "execute_result"
    }
   ],
   "source": [
    "all_results['trade_costs'].value_counts()"
   ]
  },
  {
   "cell_type": "code",
   "execution_count": 126,
   "metadata": {},
   "outputs": [
    {
     "data": {
      "text/plain": [
       "<Axes: >"
      ]
     },
     "execution_count": 126,
     "metadata": {},
     "output_type": "execute_result"
    },
    {
     "data": {
      "image/png": "[encoded data removed]",
      "text/plain": [
       "<Figure size 1000x600 with 1 Axes>"
      ]
     },
     "metadata": {},
     "output_type": "display_data"
    }
   ],
   "source": [
    "pd.Series(drawdown_limit_2).cumsum().apply(np.exp).plot()"
   ]
  },
  {
   "cell_type": "markdown",
   "metadata": {},
   "source": [
    "---"
   ]
  },
  {
   "cell_type": "markdown",
   "metadata": {},
   "source": [
    "Putting all Together"
   ]
  },
  {
   "cell_type": "code",
   "execution_count": 127,
   "metadata": {},
   "outputs": [],
   "source": [
    "def drawdown_limit(threshold, returns, maker =0.25, taker = 0.40):\n",
    "    # Step 1: Calculate the cumulative returns\n",
    "    creturns = returns.cumsum().apply(np.exp)\n",
    "    \n",
    "    # Step 2: Calculate cumulative maximum\n",
    "    cumulative_max = creturns.cummax()\n",
    "\n",
    "    # Step 3: Calculate drawdown\n",
    "    drawdown = (creturns - cumulative_max) / cumulative_max\n",
    "\n",
    "    # Step 4: Calculate the drawdown limit\n",
    "    drawdown_limit = np.where(drawdown < threshold, 0, returns)\n",
    "    \n",
    "    return pd.Series(drawdown_limit)"
   ]
  },
  {
   "cell_type": "code",
   "execution_count": 128,
   "metadata": {},
   "outputs": [
    {
     "data": {
      "text/plain": [
       "<Axes: >"
      ]
     },
     "execution_count": 128,
     "metadata": {},
     "output_type": "execute_result"
    },
    {
     "data": {
      "image/png": "[encoded data removed]",
      "text/plain": [
       "<Figure size 1000x600 with 1 Axes>"
      ]
     },
     "metadata": {},
     "output_type": "display_data"
    }
   ],
   "source": [
    "drawdown_limit(-0.15, all_results[0]).cumsum().apply(np.exp).plot()"
   ]
  },
  {
   "cell_type": "code",
   "execution_count": null,
   "metadata": {},
   "outputs": [],
   "source": []
  }
 ],
 "metadata": {
  "kernelspec": {
   "display_name": "Python 3",
   "language": "python",
   "name": "python3"
  },
  "language_info": {
   "codemirror_mode": {
    "name": "ipython",
    "version": 3
   },
   "file_extension": ".py",
   "mimetype": "text/x-python",
   "name": "python",
   "nbconvert_exporter": "python",
   "pygments_lexer": "ipython3",
   "version": "3.12.2"
  }
 },
 "nbformat": 4,
 "nbformat_minor": 2
}
